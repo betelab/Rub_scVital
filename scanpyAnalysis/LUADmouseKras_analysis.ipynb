{
 "cells": [
  {
   "cell_type": "code",
   "execution_count": null,
   "id": "425c36fc-f0af-4c76-93d7-cf512d943577",
   "metadata": {},
   "outputs": [],
   "source": []
  },
  {
   "cell_type": "code",
   "execution_count": null,
   "id": "252d89ce-66b2-430f-abb7-5c91d66b7d3f",
   "metadata": {},
   "outputs": [],
   "source": [
    "import numpy as np\n",
    "import pandas as pd\n",
    "import scanpy as sc\n",
    "import scipy.io\n",
    "import scanpy.external as scex\n",
    "import sklearn.metrics\n",
    "import seaborn as sns\n",
    "from matplotlib import pyplot as plt\n"
   ]
  },
  {
   "cell_type": "code",
   "execution_count": null,
   "id": "645d8750-2a93-49ed-9a60-40d01fa7eb0e",
   "metadata": {},
   "outputs": [],
   "source": [
    "#adata=sc.read(results_file_post)\n",
    "#adata.uns['log1p'] = {\"base\":None}"
   ]
  },
  {
   "cell_type": "markdown",
   "id": "139dcda2-4b50-45aa-85e8-663e70a74cb6",
   "metadata": {},
   "source": [
    "Set up out properties"
   ]
  },
  {
   "cell_type": "code",
   "execution_count": null,
   "id": "304826fc-ac59-4d76-a655-1f93f7bcdd6e",
   "metadata": {
    "scrolled": true,
    "tags": []
   },
   "outputs": [],
   "source": [
    "sc.settings.verbosity = 3             # verbosity: errors (0), warnings (1), info (2), hints (3)\n",
    "sc.logging.print_header()\n",
    "sc.settings.set_figure_params(dpi=80, facecolor='white')"
   ]
  },
  {
   "cell_type": "code",
   "execution_count": null,
   "id": "a3958527-8b39-4c29-9163-eee788c190cf",
   "metadata": {},
   "outputs": [],
   "source": [
    "%matplotlib inline"
   ]
  },
  {
   "cell_type": "markdown",
   "id": "968566a5-e27e-43f5-8cb2-b935b5a12dd7",
   "metadata": {},
   "source": [
    "Set scanpy out-files"
   ]
  },
  {
   "cell_type": "code",
   "execution_count": null,
   "id": "c4675a44-ce4a-4f38-b04a-66c4fc2e0bb4",
   "metadata": {},
   "outputs": [],
   "source": [
    "writeDir = \"write/\"\n",
    "\n",
    "fileName = \"luadMouse_shKras\"\n",
    "\n",
    "resultsFile = writeDir + fileName + '.h5ad'       # final output\n",
    "resultsFileQC = writeDir + fileName + '_QC.h5ad'  # post QC (pre-analysis) "
   ]
  },
  {
   "cell_type": "markdown",
   "id": "77696e51-c2b5-4a05-964f-d52840995ce1",
   "metadata": {
    "tags": []
   },
   "source": [
    "Set figure parameters"
   ]
  },
  {
   "cell_type": "code",
   "execution_count": null,
   "id": "e50cffba-ab13-40fe-b978-c525fb1db4a5",
   "metadata": {
    "tags": []
   },
   "outputs": [],
   "source": [
    "sc.set_figure_params(scanpy=True, dpi=100, dpi_save=150, fontsize=10, format='png')\n",
    "sc.settings.figdir = \"figures/\" + fileName + \"/\"\n",
    "figName = fileName"
   ]
  },
  {
   "cell_type": "code",
   "execution_count": null,
   "id": "83f3aa4e-f800-488a-b41e-0443986c9415",
   "metadata": {
    "tags": []
   },
   "outputs": [],
   "source": [
    "adata = sc.read(resultsFileQC)\n",
    "adata"
   ]
  },
  {
   "cell_type": "code",
   "execution_count": null,
   "id": "662c5a93-f5ed-4358-b367-12c78c6bba8a",
   "metadata": {},
   "outputs": [],
   "source": [
    "fig, axs = plt.subplots(1, 2, figsize=(10, 5))\n",
    "\n",
    "mKate2 = adata.obs[\"mKate2\"]\n",
    "axs[0].hist(mKate2, bins=100)#, log=True),\n",
    "#axs[0].axvline(np.log(minMean), color='k', linestyle='dashed', linewidth=1)\n",
    "axs[0].set_title('mKate2')\n",
    "axs[0].set_xlabel('exp')\n",
    "axs[0].set_ylabel('counts')\n",
    "axs[0].set_yscale('log')\n",
    "\n",
    "\n",
    "shRNA = adata.obs[\"shRNA\"]\n",
    "axs[1].hist(np.log(shRNA+1), bins=100)#, log=True),\n",
    "#axs[1].axvline(np.log(minDisp), color='k', linestyle='dashed', linewidth=1)\n",
    "axs[1].set_title('shRNA')\n",
    "axs[1].set_xlabel('exp')\n",
    "axs[1].set_ylabel('counts')\n",
    "axs[1].set_yscale('log')\n",
    "\n",
    "fig.show()\n"
   ]
  },
  {
   "cell_type": "code",
   "execution_count": null,
   "id": "5298815f-4c5c-429d-b8e7-6bebc3a04515",
   "metadata": {},
   "outputs": [],
   "source": [
    "adata.obs[\"mKatePos\"] =  [\"1\" if v>1 else \"0\" for v in adata.obs[\"mKate2\"] ]\n",
    "adata.obs[\"shRNAPos\"] =  [\"1\" if np.log(v+1)>2 else \"0\" for v in adata.obs[\"shRNA\"] ]"
   ]
  },
  {
   "cell_type": "code",
   "execution_count": null,
   "id": "2a051873-daa6-41df-821c-5958fb99ef0a",
   "metadata": {},
   "outputs": [],
   "source": [
    "sum(adata.obs[\"mKatePos\"]==\"1\" ), sum(adata.obs[\"shRNAPos\"]==\"1\")"
   ]
  },
  {
   "cell_type": "code",
   "execution_count": null,
   "id": "babb4546-526f-49db-b8ca-4f43adb04a38",
   "metadata": {},
   "outputs": [],
   "source": [
    "#adata.obs[\"mKatePos\"] =  [1 if v>0.5 else 0 for v in adata.obs[\"mKate2\"] ]\n",
    "adata = adata[np.logical_and(adata.obs.treatment==\"shRen713\",adata.obs.mKatePos==\"1\")]\n",
    "adata"
   ]
  },
  {
   "cell_type": "code",
   "execution_count": null,
   "id": "d01530e1-6133-4113-aad5-c5d768aba82a",
   "metadata": {},
   "outputs": [],
   "source": [
    "sc.pp.normalize_total(adata,target_sum=1e4)"
   ]
  },
  {
   "cell_type": "code",
   "execution_count": null,
   "id": "7c826e38-bb29-4e00-933a-55b59581a5d9",
   "metadata": {},
   "outputs": [],
   "source": [
    "sc.pp.log1p(adata)"
   ]
  },
  {
   "cell_type": "code",
   "execution_count": null,
   "id": "81fe9223-7eac-46a7-8321-b718e726830a",
   "metadata": {},
   "outputs": [],
   "source": [
    "sc.pp.highly_variable_genes(adata)#, flavor = \"seurat\", n_top_genes=2000)"
   ]
  },
  {
   "cell_type": "code",
   "execution_count": null,
   "id": "43902dc2-466e-46e2-9f31-4deb304db630",
   "metadata": {},
   "outputs": [],
   "source": [
    "minMean = 0.075\n",
    "maxMean = 2.7\n",
    "minDisp = 0.5\n",
    "\n",
    "fig, axs = plt.subplots(1, 2, figsize=(10, 5))\n",
    "\n",
    "means = adata.var[[\"means\"]][adata.var[[\"means\"]] > np.exp(-14)]#adata.var[[\"means\"]],\n",
    "axs[0].hist(np.log(means), bins=100)#, log=True),\n",
    "axs[0].axvline(np.log(minMean), color='k', linestyle='dashed', linewidth=1)\n",
    "axs[0].axvline(np.log(maxMean), color='k', linestyle='dashed', linewidth=1)\n",
    "axs[0].set_title('Gene means counts')\n",
    "axs[0].set_xlabel('means')\n",
    "axs[0].set_ylabel('counts')\n",
    "\n",
    "dispNorm = adata.var[[\"dispersions_norm\"]][adata.var[[\"dispersions_norm\"]] > np.exp(-5)]#adata.var[[\"means\"]],\n",
    "axs[1].hist(np.log(dispNorm), bins=100)#, log=True),\n",
    "axs[1].axvline(np.log(minDisp), color='k', linestyle='dashed', linewidth=1)\n",
    "axs[1].set_title('Gene dispersions counts')\n",
    "axs[1].set_xlabel('dispersions')\n",
    "axs[1].set_ylabel('counts')\n",
    "\n",
    "sc.pp.highly_variable_genes(adata, min_disp=minDisp, min_mean=minMean, max_mean=maxMean)#, batch_key=\"PDX\")\n",
    "print(sum(adata.var.highly_variable))\n"
   ]
  },
  {
   "cell_type": "code",
   "execution_count": null,
   "id": "8cda0b69-f64e-447a-961a-7c50fe8e5bf0",
   "metadata": {},
   "outputs": [],
   "source": [
    "sc.pl.highly_variable_genes(adata)"
   ]
  },
  {
   "cell_type": "code",
   "execution_count": null,
   "id": "325e82de-43f6-4934-a6a6-50ddf02a94a8",
   "metadata": {},
   "outputs": [],
   "source": [
    "#for inGene in adata.var[-8:].index.tolist():\n",
    "#    adata.var.loc[inGene,\"highly_variable\"] = False"
   ]
  },
  {
   "cell_type": "code",
   "execution_count": null,
   "id": "378c0f18-d4ac-4011-92cb-ec468d0a974e",
   "metadata": {},
   "outputs": [],
   "source": [
    "#adata.var[\"mt\"] = [\"MT-\" in g for g in adata.var_names]"
   ]
  },
  {
   "cell_type": "code",
   "execution_count": null,
   "id": "7a1143eb-b1f7-40ef-9a85-d6be0051667a",
   "metadata": {},
   "outputs": [],
   "source": [
    "adata.raw = adata"
   ]
  },
  {
   "cell_type": "code",
   "execution_count": null,
   "id": "5e2861e5-09c6-4a19-bb72-62a238c47a79",
   "metadata": {},
   "outputs": [],
   "source": [
    "#adata = adata[:, adata.var.highly_variable]\n",
    "adata = adata[:, np.logical_and(adata.var.highly_variable, np.logical_not(adata.var.mt))]"
   ]
  },
  {
   "cell_type": "code",
   "execution_count": null,
   "id": "673c60dc-7028-48e2-9ccf-9b5ae45934d1",
   "metadata": {},
   "outputs": [],
   "source": [
    "#sc.pp.regress_out(adata, ['total_counts', 'pct_counts_mt'])"
   ]
  },
  {
   "cell_type": "code",
   "execution_count": null,
   "id": "5440f444-9bf6-40bf-8267-3ff16acfab39",
   "metadata": {},
   "outputs": [],
   "source": [
    "#sc.pp.scale(adata, max_value=10)"
   ]
  },
  {
   "cell_type": "code",
   "execution_count": null,
   "id": "8935337f-dc02-4347-9bf1-6057d1c1a8e7",
   "metadata": {},
   "outputs": [],
   "source": [
    "sc.tl.pca(adata, n_comps = 100, svd_solver='arpack')"
   ]
  },
  {
   "cell_type": "code",
   "execution_count": null,
   "id": "ffcfea62-8864-4bdc-8d44-2c5bd56b7f42",
   "metadata": {},
   "outputs": [],
   "source": [
    "sc.pl.pca_variance_ratio(adata, n_pcs = 100, log=True)"
   ]
  },
  {
   "cell_type": "code",
   "execution_count": null,
   "id": "f694d1da-e616-48ba-8c66-c97008df6acc",
   "metadata": {},
   "outputs": [],
   "source": [
    "sc.pl.pca_variance_ratio(adata, n_pcs = 100)"
   ]
  },
  {
   "cell_type": "code",
   "execution_count": null,
   "id": "873dbc0c-4046-493f-bc92-32dd4e63c263",
   "metadata": {},
   "outputs": [],
   "source": [
    "sc.pp.neighbors(adata, n_neighbors=15, n_pcs=60)"
   ]
  },
  {
   "cell_type": "code",
   "execution_count": null,
   "id": "a56f3796-396c-4698-93d1-49cf6042e4ae",
   "metadata": {},
   "outputs": [],
   "source": [
    "sc.tl.umap(adata)"
   ]
  },
  {
   "cell_type": "code",
   "execution_count": null,
   "id": "5d9e7992-bf40-45f4-9b17-f1346e8d90b9",
   "metadata": {},
   "outputs": [],
   "source": [
    "sc.tl.leiden(adata, resolution=0.35)"
   ]
  },
  {
   "cell_type": "code",
   "execution_count": null,
   "id": "7b03f380-7391-47be-bb25-a01bc2299374",
   "metadata": {},
   "outputs": [],
   "source": [
    "#adata = sc.read_h5ad(\"write/mouseLUADshRen.h5ad\")"
   ]
  },
  {
   "cell_type": "code",
   "execution_count": null,
   "id": "c4f96d76-7d3b-40ab-978a-fe4635c01d0b",
   "metadata": {},
   "outputs": [],
   "source": [
    "sc.pl.umap(adata, color=[\"leiden\",\"treatment\",\"time\",\"Ptprc\",\"Epcam\",\"Pecam1\",\"Vim\",\"Fbn1\"],ncols=2)"
   ]
  },
  {
   "cell_type": "code",
   "execution_count": null,
   "id": "b58e6a8c-e1b9-4198-8b43-25fa84416507",
   "metadata": {},
   "outputs": [],
   "source": [
    "sc.pl.umap(adata, color=[\"Slc4a11\",\"Hopx\",\"Scgb1a1\",\"Cap1\"],ncols=4)"
   ]
  },
  {
   "cell_type": "code",
   "execution_count": null,
   "id": "6249e424-25ee-4a74-9ac5-73ac1a466041",
   "metadata": {},
   "outputs": [],
   "source": [
    "sc.pl.pca(adata, color=[\"leiden\",\"time\"], ncols=2)"
   ]
  },
  {
   "cell_type": "code",
   "execution_count": null,
   "id": "e29ac775-63b8-4ac2-a210-7f042494c43c",
   "metadata": {},
   "outputs": [],
   "source": [
    "sc.pl.umap(adata, color=[\"mKate2\",\"shRNA\",\"mKatePos\",\"shRNAPos\"], ncols=2)"
   ]
  },
  {
   "cell_type": "code",
   "execution_count": null,
   "id": "1d09e6f1-77af-480c-8fca-7a6dd99a086c",
   "metadata": {},
   "outputs": [],
   "source": [
    "adata.uns['log1p']['base']=None"
   ]
  },
  {
   "cell_type": "code",
   "execution_count": null,
   "id": "d625449d-e421-40a0-a049-584eb54c8265",
   "metadata": {},
   "outputs": [],
   "source": [
    "#adata = adata.raw.to_adata()\n",
    "#adata = adata[np.logical_not(adata.obs.leiden==\"5\")]"
   ]
  },
  {
   "cell_type": "code",
   "execution_count": null,
   "id": "e0d77280-5572-4791-9f6a-3949e5ed59b5",
   "metadata": {},
   "outputs": [],
   "source": [
    "sc.tl.rank_genes_groups(adata, 'leiden', method='wilcoxon', use_raw=False)\n",
    "#sc.tl.filter_rank_genes_groups(adata, groupby=\"leiden\", use_raw=False,\n",
    "#                                   key_added='rank_genes_groups_filtered', \n",
    "#                                  min_in_group_fraction=0.25, min_fold_change=1, max_out_group_fraction=0.5, compare_abs=False)\n",
    "sc.pl.rank_genes_groups(adata, n_genes=25, sharey=False)"
   ]
  },
  {
   "cell_type": "code",
   "execution_count": null,
   "id": "741eb90d-dc29-40e7-967a-a9498893abf1",
   "metadata": {},
   "outputs": [],
   "source": [
    "pd.DataFrame(adata.uns['rank_genes_groups']['names']).head(15)"
   ]
  },
  {
   "cell_type": "code",
   "execution_count": null,
   "id": "dc26321c-65df-47c7-ad80-999180b6ca94",
   "metadata": {},
   "outputs": [],
   "source": [
    "sc.tl.dendrogram(adata,groupby=\"leiden\", n_pcs=60)\n",
    "sc.pl.rank_genes_groups_dotplot(adata,n_genes=3)#,key=\"rank_genes_groups_filtered\")"
   ]
  },
  {
   "cell_type": "code",
   "execution_count": null,
   "id": "28a620b6-e90c-4d31-bd38-1c54f04da93b",
   "metadata": {},
   "outputs": [],
   "source": [
    "resultsFile"
   ]
  },
  {
   "cell_type": "code",
   "execution_count": null,
   "id": "8f79ac4e-114a-4a10-a849-b866b3101687",
   "metadata": {},
   "outputs": [],
   "source": [
    "#adata.obs[\"id\"] = adata.obs_names"
   ]
  },
  {
   "cell_type": "code",
   "execution_count": null,
   "id": "d66ae6a6-8574-4aea-8636-6840bb1a84ce",
   "metadata": {},
   "outputs": [],
   "source": [
    "adata.write(resultsFile)\n",
    "adata"
   ]
  },
  {
   "cell_type": "code",
   "execution_count": null,
   "id": "99763c3f-953b-4394-9872-dd1644adb4ce",
   "metadata": {},
   "outputs": [],
   "source": [
    "homology = pd.read_table(\"data/hgncHM_121.csv\", sep=\",\")\n",
    "homology"
   ]
  },
  {
   "cell_type": "code",
   "execution_count": null,
   "id": "12ebc6b9-dff8-464c-9c59-8ba86b7a195b",
   "metadata": {
    "scrolled": true,
    "tags": []
   },
   "outputs": [],
   "source": [
    "import scanpyHelpers as scH\n",
    "adata = sc.read_h5ad(resultsFile)\n",
    "adata"
   ]
  },
  {
   "cell_type": "code",
   "execution_count": null,
   "id": "29a0c63c-1642-4bb5-84b0-1447f40cdab9",
   "metadata": {
    "scrolled": true,
    "tags": []
   },
   "outputs": [],
   "source": [
    "sigFile = \"data/LUAD/simpLUADcs.csv\"\n",
    "#sigGenes = pd.read_excel(sigFile)\n",
    "sigGenes = pd.read_excel(\"data/LUAD/LUADhpcs.xlsx\")\n",
    "#pd.read_csv(sigFile)\n",
    "sigGenes #= sigGenes[:50]"
   ]
  },
  {
   "cell_type": "code",
   "execution_count": null,
   "id": "37a56d33-34df-43cc-9cfd-41b7a92ddcf8",
   "metadata": {},
   "outputs": [],
   "source": [
    "sigGenes.columns"
   ]
  },
  {
   "cell_type": "code",
   "execution_count": null,
   "id": "a60f1def-2809-40e3-a34a-7656e7faa264",
   "metadata": {
    "tags": []
   },
   "outputs": [],
   "source": [
    "scoreNames, newBClabel, ogLabelScoreMed = scH.scoreAndLabel(adata, sigGenes, labelOfSigGenes= sigGenes.columns, ogLabel=\"leiden\")\n",
    "                                                            #translate=Fasle, humanGenes=humanGenes, mouseGenes=mouseGenes)\n",
    "sc.pl.umap(adata, color=scoreNames+[\"cellState\"], ncols=4)\n",
    "                                                            "
   ]
  },
  {
   "cell_type": "code",
   "execution_count": null,
   "id": "e66de4cf-7fcb-447b-a540-d1a74cdade63",
   "metadata": {},
   "outputs": [],
   "source": [
    "for gs in sigGenes:\n",
    "    sc.tl.score_genes(adata,sigGenes[gs].dropna(),score_name=f\"{gs}Score\")"
   ]
  },
  {
   "cell_type": "code",
   "execution_count": null,
   "id": "ed45fdd4-389b-45f9-89f8-345f3048ccb1",
   "metadata": {},
   "outputs": [],
   "source": [
    "scoreMat = adata.obs[[f\"{sigName}Score\" for sigName in sigGenes.columns]]\n",
    "scoreMat"
   ]
  },
  {
   "cell_type": "code",
   "execution_count": null,
   "id": "03baf83a-3b89-4ce3-9253-772152aada5a",
   "metadata": {},
   "outputs": [],
   "source": [
    "def plotScores(scoreMat, figCols = 4, cutoff = 1.5):\n",
    "    fig, axs = plt.subplots((len(scoreMat.columns)+1)//figCols, figCols, figsize=(10, 10))\n",
    "    #sigs = []\n",
    "    for i,scoreCol in enumerate(scoreMat.columns):\n",
    "        scoreData = scoreMat[scoreCol]\n",
    "        #print(np.percentile(scoreData,90))\n",
    "        x, y = i//figCols, i%figCols\n",
    "        #axs[x, y].hist(((scoreData-np.mean(scoreData))/np.std(scoreData)), bins=100)\n",
    "        axs[x, y].hist(scoreData, bins=100)\n",
    "        #axs[x, y].axvline(0, color='k', linestyle='dashed', linewidth=1)\n",
    "        axs[x, y].axvline(np.percentile(scoreData,90), color='k', linestyle='dashed', linewidth=1)\n",
    "        axs[x, y].set_title(scoreCol)\n",
    "        #sigs.append(((scoreData-np.mean(scoreData))/np.std(scoreData)) > cutoff)\n",
    "\n",
    "    fig.show()\n",
    "    #return(sigs)\n",
    "plotScores(scoreMat)"
   ]
  },
  {
   "cell_type": "code",
   "execution_count": null,
   "id": "984b742b-08ad-4604-adbc-ee6efb86bf94",
   "metadata": {},
   "outputs": [],
   "source": [
    "def zScores(scoreMat, cutoff = 1.5):\n",
    "    sigs = []\n",
    "    for i,scoreCol in enumerate(scoreMat.columns):\n",
    "        scoreData = scoreMat[scoreCol]\n",
    "        zscore = ((scoreData-np.mean(scoreData))/np.std(scoreData))\n",
    "        sigs.append(zscore )\n",
    "    \n",
    "    sigScore = pd.DataFrame(sigs).T\n",
    "    simple = []\n",
    "    for i,cell in enumerate(sigScore.index):\n",
    "        names = scoreMat.columns#np.array([str(x+1) for x in range(len(sigScore.columns))])\n",
    "        \n",
    "        #print((sigScore.loc[cell]> cutoff).values)\n",
    "        sigNames = names[np.array((sigScore.loc[cell]> cutoff).values)]\n",
    "        sigName = \"out\"\n",
    "        if len(sigNames) > 0:\n",
    "            sigName = str(names[np.argmax(sigScore.loc[cell])])[:-5]\n",
    "            #sigName = \"-\".join(sigNames)\n",
    "        #simple.append(\"-\".join(sigNames))\n",
    "        simple.append(sigName)\n",
    "    return(np.array(simple))\n",
    "\n",
    "def topPercent(scoreMat, cutoff = .80):\n",
    "    perc = pd.DataFrame(np.zeros(scoreMat.shape),columns=scoreMat.columns,index=scoreMat.index)\n",
    "    for i,scoreCol in enumerate(scoreMat.columns):\n",
    "        scoreData = scoreMat[scoreCol]\n",
    "        for j, cell in enumerate(scoreData.index):\n",
    "            perc.loc[cell,scoreCol] = sum(scoreData<scoreData[cell])/len(scoreData)\n",
    "    simple=[]\n",
    "    for i,cell in enumerate(perc.index):\n",
    "        names = perc.columns\n",
    "        sigNames = names[np.array((perc.loc[cell]> cutoff).values)]\n",
    "        sigName = \"out\"\n",
    "        if len(sigNames) > 0:\n",
    "            sigName = str(names[np.argmax(perc.loc[cell])])[:-5]\n",
    "        simple.append(sigName)\n",
    "    return(np.array(simple))"
   ]
  },
  {
   "cell_type": "code",
   "execution_count": null,
   "id": "8241bcac-babc-45d9-b9d9-ffa35e696b4d",
   "metadata": {},
   "outputs": [],
   "source": [
    "adata.obs[\"zsig\"] = zScores(scoreMat, cutoff = 1)\n",
    "adata.obs[\"topPer\"] = topPercent(scoreMat, cutoff=0.8)"
   ]
  },
  {
   "cell_type": "code",
   "execution_count": null,
   "id": "d379627c-dee4-4628-8672-46c0c77589fb",
   "metadata": {},
   "outputs": [],
   "source": [
    "adata.obs[[\"topPer\",\"zsig\"]]"
   ]
  },
  {
   "cell_type": "code",
   "execution_count": null,
   "id": "4a69d544-08d5-4b20-bc5b-dcd7df425425",
   "metadata": {},
   "outputs": [],
   "source": [
    "sc.pl.umap(adata, color=[\"leiden\",\"zsig\",\"topPer\"])#, legend_loc=\"on data\")"
   ]
  },
  {
   "cell_type": "code",
   "execution_count": null,
   "id": "be5e3170-db12-4d0e-876e-2d9fbf6147a8",
   "metadata": {},
   "outputs": [],
   "source": [
    "clustToLabel = {\"Cluster 1\":\"AT2-like\",\n",
    " \"Cluster 2\":\"AT2-like\",\n",
    " \"Cluster 3\":\"AT1-like\",\n",
    " \"Cluster 4\":\"Endoderm-like\",\n",
    " \"Cluster 5\":\"HPCS\",\n",
    " \"Cluster 6\":\"GiEpi\",\n",
    " \"Cluster 7\":\"Prolif\",\n",
    " \"Cluster 8\":\"EmbLiv\",\n",
    " \"Cluster 9\":\"Rib\",\n",
    " \"Cluster 10\":\"Gastro\",\n",
    " \"Cluster 11\":\"EMT\",\n",
    " \"Cluster 12\":\"Adv\"}"
   ]
  },
  {
   "cell_type": "code",
   "execution_count": null,
   "id": "12ffefb9-64f6-404c-a151-830b76abde06",
   "metadata": {},
   "outputs": [],
   "source": [
    "from collections import Counter\n",
    "\n",
    "for gs in sigGenes:\n",
    "    sc.tl.score_genes(adata,sigGenes[gs].dropna(),score_name=f\"{gs}Score\")\n",
    "scoreMat = adata.obs[[f\"{sigName}Score\" for sigName in sigGenes.columns]]\n",
    "adata.obs[\"zsig\"] = zScores(scoreMat, cutoff = 1)\n",
    "relabelDict = {}\n",
    "for li in adata.obs.leiden.cat.categories:\n",
    "    mostCommon = Counter(adata[adata.obs.leiden==li].obs.zsig).most_common(2)\n",
    "    relabel = \"\"\n",
    "    if(mostCommon[0][0] in clustToLabel.keys()):\n",
    "        relabel = clustToLabel[mostCommon[0][0]]\n",
    "    else:\n",
    "        relabel = clustToLabel[mostCommon[1][0]]\n",
    "    relabelDict[li] = relabel\n",
    "print(relabelDict)\n",
    "relabelDict = {'0': 'AT2-like', '1': 'Rib', '2': 'Endoderm-like', '3': 'AT1-like', '4': 'HPCS', '5': 'Adv', '6': 'Endoderm-like', '7': 'EMT'}\n",
    "\n",
    "adata.obs[\"cs\"] = [relabelDict[li] for li in adata.obs.leiden]"
   ]
  },
  {
   "cell_type": "code",
   "execution_count": null,
   "id": "cff2543b-7d57-4e62-8473-a3f78bd5cb67",
   "metadata": {},
   "outputs": [],
   "source": [
    "sc.pl.umap(adata, color=[\"leiden\",\"zsig\",\"cs\"])#, legend_loc=\"on data\")"
   ]
  },
  {
   "cell_type": "code",
   "execution_count": null,
   "id": "9c0e5d0d-bd9d-40e6-89f9-8b84dffa2a29",
   "metadata": {},
   "outputs": [],
   "source": [
    "sc.pl.umap(adata, color=[f\"{sigName}Score\" for sigName in sigGenes.columns], cmap=\"bwr\", ncols=4)"
   ]
  },
  {
   "cell_type": "code",
   "execution_count": null,
   "id": "c4c0ddad-3b85-409a-993c-da0cc819cf39",
   "metadata": {},
   "outputs": [],
   "source": [
    "adata.write(\"write/mouseLUADshRen.h5ad\")\n",
    "adata = sc.read_h5ad(\"write/mouseLUADshRen.h5ad\")"
   ]
  },
  {
   "cell_type": "code",
   "execution_count": null,
   "id": "d45e8c21-51cd-4a17-89c0-6365c9f1f1f7",
   "metadata": {},
   "outputs": [],
   "source": [
    "resultsFileQC"
   ]
  },
  {
   "cell_type": "code",
   "execution_count": null,
   "id": "89aca908-ef26-4d66-8610-79603fb8fb29",
   "metadata": {},
   "outputs": [],
   "source": [
    "qcdata = sc.read_h5ad(resultsFileQC)\n",
    "print(sum(qcdata.X.todense()))\n",
    "\n",
    "rdata = adata.raw.to_adata()\n",
    "\n",
    "qcdata = qcdata[rdata.obs_names,:]\n",
    "rdata.layers[\"counts\"] = qcdata.X.copy()\n",
    "rdata.obs = rdata.obs[['leiden','cs']]\n",
    "rdata.write('write/luadMouse_shRen_Labeled.h5ad')"
   ]
  },
  {
   "cell_type": "code",
   "execution_count": null,
   "id": "cb9590de-9fec-41fa-841f-a0414d2d85ad",
   "metadata": {},
   "outputs": [],
   "source": []
  },
  {
   "cell_type": "code",
   "execution_count": null,
   "id": "4c09a1e8-ae2b-40b1-b6f0-b291ddb4b98b",
   "metadata": {
    "tags": []
   },
   "outputs": [],
   "source": [
    "markers = pd.DataFrame(np.empty((500*12,2), dtype=\"object\"), columns=[\"genes\", \"clustName\"])\n",
    "for i,clust in enumerate(sigGenes.columns):\n",
    "    for j,gene in enumerate(sigGenes.index):\n",
    "        markers.iloc[i*500+j] = sigGenes.loc[gene,clust],clust\n",
    "        \n",
    "markers = markers.dropna()\n",
    "markers"
   ]
  },
  {
   "cell_type": "code",
   "execution_count": null,
   "id": "824b222f-ce53-491b-b44f-3538014fda9e",
   "metadata": {},
   "outputs": [],
   "source": [
    "import decoupler as dc"
   ]
  },
  {
   "cell_type": "code",
   "execution_count": null,
   "id": "57b7a76a-ac8f-45a4-aada-40d77aa1c23f",
   "metadata": {},
   "outputs": [],
   "source": [
    "dc.run_ora(\n",
    "    mat=adata,\n",
    "    net=markers,\n",
    "    source='clustName',\n",
    "    target='genes',\n",
    "    min_n=3,\n",
    "    verbose=True\n",
    ")"
   ]
  },
  {
   "cell_type": "code",
   "execution_count": null,
   "id": "dc82f470-707d-436b-92d8-000ab51b25be",
   "metadata": {},
   "outputs": [],
   "source": [
    "adata.obsm['ora_estimate']\n"
   ]
  },
  {
   "cell_type": "code",
   "execution_count": null,
   "id": "38752250-f687-44fe-ad19-d0e1ca6fa1c9",
   "metadata": {},
   "outputs": [],
   "source": [
    "acts = dc.get_acts(adata, obsm_key='ora_estimate')\n",
    "\n",
    "# We need to remove inf and set them to the maximum value observed for pvals=0\n",
    "acts_v = acts.X.ravel()\n",
    "max_e = np.nanmax(acts_v[np.isfinite(acts_v)])\n",
    "acts.X[~np.isfinite(acts.X)] = max_e\n",
    "\n",
    "acts"
   ]
  },
  {
   "cell_type": "code",
   "execution_count": null,
   "id": "e0173446-77c8-43a4-b5da-d01402c3f319",
   "metadata": {},
   "outputs": [],
   "source": [
    "scoreDecop = pd.DataFrame(acts.X, columns = adata.obsm['ora_estimate'].columns, index=adata.obs_names)\n",
    "plotScores(scoreDecop, figCols = 3)"
   ]
  },
  {
   "cell_type": "code",
   "execution_count": null,
   "id": "afdeb59c-c054-4322-8b62-399a00e6ff94",
   "metadata": {},
   "outputs": [],
   "source": [
    "#sc.pl.umap(acts, color=scoreNames+['leiden'], cmap='RdBu_r')\n",
    "sc.pl.violin(acts, keys=scoreNames, groupby='leiden')"
   ]
  },
  {
   "cell_type": "code",
   "execution_count": null,
   "id": "a80f5106-4fe7-40de-bd89-7bb17fad8193",
   "metadata": {
    "tags": []
   },
   "outputs": [],
   "source": [
    "df = dc.rank_sources_groups(acts, groupby='leiden', reference='rest', method='t-test_overestim_var')\n",
    "df"
   ]
  },
  {
   "cell_type": "code",
   "execution_count": null,
   "id": "c680b144-884f-42af-ba67-ac5307bb0e97",
   "metadata": {},
   "outputs": [],
   "source": [
    "n_ctypes = 3\n",
    "ctypes_dict = df.groupby('group').head(n_ctypes).groupby('group')['names'].apply(lambda x: list(x)).to_dict()\n",
    "ctypes_dict"
   ]
  },
  {
   "cell_type": "code",
   "execution_count": null,
   "id": "ddffa4dd-1a39-4901-b2c0-211e24d4c931",
   "metadata": {},
   "outputs": [],
   "source": [
    "sc.pl.matrixplot(acts, ctypes_dict, 'leiden', dendrogram=True, standard_scale='var',\n",
    "                 colorbar_title='Z-scaled scores', cmap='RdBu_r')\n"
   ]
  },
  {
   "cell_type": "code",
   "execution_count": null,
   "id": "3f986d7e-c8b3-4435-b15d-c644ca8b5948",
   "metadata": {},
   "outputs": [],
   "source": [
    "annotation_dict = df.groupby('group').head(1).set_index('group')['names'].to_dict()\n",
    "annotation_dict"
   ]
  },
  {
   "cell_type": "code",
   "execution_count": null,
   "id": "cd40b2c6-92bb-435c-b6a3-5ee4e691b0ba",
   "metadata": {},
   "outputs": [],
   "source": [
    "# Add cell type column based on annotation\n",
    "adata.obs['decoupler'] = [annotation_dict[clust] for clust in adata.obs['leiden']]\n",
    "\n",
    "# Visualize\n",
    "sc.pl.umap(adata, color=['decoupler','cellState', \"leiden\"])"
   ]
  },
  {
   "cell_type": "code",
   "execution_count": null,
   "id": "c6cb8eb1-093c-4c80-b60e-534c3125e7cf",
   "metadata": {},
   "outputs": [],
   "source": [
    "sc.pl.umap(adata, color=['decoupler','cellState', \"leiden\",\"zsig\"])"
   ]
  },
  {
   "cell_type": "code",
   "execution_count": null,
   "id": "2d8474d9-340a-4f16-9c6d-ade638b183e4",
   "metadata": {},
   "outputs": [],
   "source": [
    "#adata.write(resultsFile)\n",
    "adata"
   ]
  },
  {
   "cell_type": "code",
   "execution_count": null,
   "id": "2cc531d8-6b23-4c34-8db0-5411efbbe327",
   "metadata": {},
   "outputs": [],
   "source": [
    "#adata = sc.read(resultsFile)"
   ]
  },
  {
   "cell_type": "code",
   "execution_count": null,
   "id": "67fcb902-ed47-4140-9ab8-3299ae67aede",
   "metadata": {},
   "outputs": [],
   "source": [
    "intGenes = [\"Plaur\", \"Procr\", \"F2r\", \"Thbd\", \"Cldn4\"]\n",
    "sc.pl.umap(adata, color=intGenes+[\"leiden\",\"cellState\"])\n",
    "sc.pl.pca(adata, color=intGenes+[\"leiden\",\"cellState\"])"
   ]
  },
  {
   "cell_type": "code",
   "execution_count": null,
   "id": "5af61ed7-f530-449c-ab68-da21d526c56b",
   "metadata": {},
   "outputs": [],
   "source": [
    "plotScores(np.log10(scoreMat+1))"
   ]
  },
  {
   "cell_type": "code",
   "execution_count": null,
   "id": "05826e73-0528-4a34-967c-987d3502d409",
   "metadata": {},
   "outputs": [],
   "source": [
    "len(scoreMat)"
   ]
  },
  {
   "cell_type": "code",
   "execution_count": null,
   "id": "817f4d13-fc65-40ae-9a1e-4e13be040a4d",
   "metadata": {},
   "outputs": [],
   "source": [
    "scoreMat.columns"
   ]
  },
  {
   "cell_type": "code",
   "execution_count": null,
   "id": "d6e28ec1-02e2-4e08-a51f-a71a6ce09005",
   "metadata": {},
   "outputs": [],
   "source": [
    "import sklearn.metrics\n",
    "from matplotlib import pyplot as plt\n",
    "from sklearn.mixture import GaussianMixture as GMM\n",
    "from scipy.stats import norm\n",
    "import pdb"
   ]
  },
  {
   "cell_type": "code",
   "execution_count": null,
   "id": "dbdcb3cc-50ca-4e97-af48-5ffa03904820",
   "metadata": {},
   "outputs": [],
   "source": [
    "scoreNames = scoreMat.columns\n",
    "numScores = len(scoreNames)\n",
    "plotLen = 4\n",
    "fig, axs = plt.subplots(2,plotLen)\n",
    "plt.rcParams[\"figure.figsize\"] = (15,5)\n",
    "\n",
    "dfScoreBoundry = pd.DataFrame(np.zeros(numScores),scoreNames, columns=[\"boundry\"])\n",
    "gmm = GMM(n_components = 2, random_state=10, covariance_type = 'full', n_init=1, means_init=[[0],[0.5]])\n",
    "#binEx = np.arange(0.5,10,10/200).reshape(-1,1)\n",
    "\n",
    "for i, scoreName in enumerate(scoreNames):\n",
    "    #scoreCount = np.array(np.log10(adata.obs[scoreName]+1)).reshape(-1, 1)\n",
    "    scoreCount = np.array(adata.obs[scoreName]).reshape(-1, 1)\n",
    "    fitGMM = gmm.fit(scoreCount)\n",
    "    mean = fitGMM.means_  \n",
    "    covs  = fitGMM.covariances_\n",
    "    weights = fitGMM.weights_\n",
    "    #print(mean)\n",
    "    binEx = np.arange(min(mean),max(mean),0.1).reshape(-1,1)\n",
    "    fitGmmBound = fitGMM.predict(binEx)\n",
    "    #pdb.set_trace()\n",
    "    print(fitGmmBound)\n",
    "    try:\n",
    "        scoreBoundry = binEx[np.where(fitGmmBound == 1)[0][0]][0]\n",
    "    except:\n",
    "        scoreBoundry = 1\n",
    "    #naiveBoundry = np.log10(int(scoreDisc.loc[\"90%\",scoreName])+1)\n",
    "    \n",
    "    dfScoreBoundry.loc[scoreName] = scoreBoundry\n",
    "    \n",
    "    x_axis = np.arange(-.25, 0.75, 0.05)\n",
    "    y_axis0 = norm.pdf(x_axis, float(mean[0][0]), np.sqrt(float(covs[0][0][0])))*weights[0] # 1st gaussian\n",
    "    y_axis1 = norm.pdf(x_axis, float(mean[1][0]), np.sqrt(float(covs[1][0][0])))*weights[1] # 2nd gaussian\n",
    "\n",
    "    # Plot 2\n",
    "    x,y = i//plotLen, i%plotLen\n",
    "    axs[x,y].set_title(scoreName)\n",
    "    #axs[x,y].axvline(naiveBoundry, c='C3', linestyle='dashed', linewidth=1) #red\n",
    "    axs[x,y].axvline(scoreBoundry, c='C2', linestyle='dashed', linewidth=1)  #green\n",
    "    axs[x,y].hist(scoreCount, density=True, color='black', bins=100)        \n",
    "    axs[x,y].plot(x_axis, y_axis0, lw=3, c='C6')                            #pink\n",
    "    axs[x,y].plot(x_axis, y_axis1, lw=3, c='C1')                            #orange\n",
    "    axs[x,y].plot(x_axis, y_axis0+y_axis1, lw=3, c='C0', ls=':')            #dotted blue\n",
    "    \n",
    "plt.tight_layout(pad=1.0)\n",
    "plt.show()"
   ]
  },
  {
   "cell_type": "code",
   "execution_count": null,
   "id": "7dde4841-3481-4e26-8d43-c24c3f824e6c",
   "metadata": {},
   "outputs": [],
   "source": [
    "scoreIDs = scoreMat.copy()\n",
    "scoreID = np.array(scoreNames)\n",
    "for scoreName in scoreNames:\n",
    "    print(scoreName)\n",
    "    print(dfScoreBoundry.loc[scoreName].values[0])\n",
    "    scoreIDs.loc[:,scoreName] = scoreMat.loc[:,scoreName] > dfScoreBoundry.loc[scoreName].values[0]\n",
    "scoreIDs"
   ]
  },
  {
   "cell_type": "code",
   "execution_count": null,
   "id": "174b5dfc-e08d-4567-b0cc-468f1c43de86",
   "metadata": {},
   "outputs": [],
   "source": [
    "classification = np.empty(len(adata), dtype=\"object\")\n",
    "i = 0\n",
    "for cellBar, scoreBool in scoreIDs.iterrows():\n",
    "    numscorees = sum(scoreBool)\n",
    "    if (numscorees == 1):\n",
    "        classif = scoreID[scoreBool.values][0][:-5]#.values\n",
    "    elif (numscorees > 1):\n",
    "        classif = \"Doublet\"\n",
    "    else:\n",
    "        classif = \"Negative\"\n",
    "    classification[i] = classif\n",
    "    i = i + 1"
   ]
  },
  {
   "cell_type": "code",
   "execution_count": null,
   "id": "05f04c88-e078-4759-9e9d-b3c8896eada8",
   "metadata": {},
   "outputs": [],
   "source": [
    "adata.obs[\"GMM\"] = classif\n",
    "adata.obs[\"GMM\"].value_counts()"
   ]
  },
  {
   "cell_type": "code",
   "execution_count": null,
   "id": "1b936017-92d6-4c56-8112-a38c2416a5f3",
   "metadata": {},
   "outputs": [],
   "source": [
    "sc.pl.heatmap(adata, scoreNames, groupby=\"GMM\", log=True)#, save = f\"_{figName}_score.png\")\n"
   ]
  },
  {
   "cell_type": "code",
   "execution_count": null,
   "id": "457e12a1-bb09-45e5-bcbe-a8e11ad9d787",
   "metadata": {},
   "outputs": [],
   "source": [
    "sc.pl.umap(adata, color=['GMM','cellState', \"leiden\",\"zsig\"])"
   ]
  },
  {
   "cell_type": "code",
   "execution_count": null,
   "id": "fb0e78b4-043a-4d06-b9b9-75b7547fb6a7",
   "metadata": {},
   "outputs": [],
   "source": [
    "len(scoreMat.columns)"
   ]
  },
  {
   "cell_type": "code",
   "execution_count": null,
   "id": "b72fd7c9-a70d-49cf-9c44-ccda0dd265a1",
   "metadata": {},
   "outputs": [],
   "source": [
    "def gmmScoreGeneSig(scoreMat, meansInit=[[0],[0.5]],plotLen = 3, show=False):\n",
    "    scoreNames = scoreMat.columns\n",
    "    numScores = len(scoreNames)\n",
    "    if(show):\n",
    "        fig, axs = plt.subplots((numScores//plotLen)+1,plotLen)\n",
    "        plt.rcParams[\"figure.figsize\"] = (15,5)\n",
    "\n",
    "    dfScoreBoundry = pd.DataFrame(np.zeros(numScores),scoreNames, columns=[\"boundry\"])\n",
    "    gmm = GMM(n_components = 2, random_state=10, covariance_type = 'full', n_init=2, means_init=meansInit)\n",
    "    #binEx = np.arange(0.5,10,10/200).reshape(-1,1)\n",
    "\n",
    "    for i, scoreName in enumerate(scoreNames):\n",
    "        scoreCount = np.array(scoreMat[scoreName]).reshape(-1, 1)\n",
    "        fitGMM = gmm.fit(scoreCount)\n",
    "        mean = fitGMM.means_  \n",
    "        covs  = fitGMM.covariances_\n",
    "        weights = fitGMM.weights_\n",
    "        print(mean)\n",
    "        binEx = np.arange(min(mean),max(mean),0.01).reshape(-1,1)\n",
    "        fitGmmBound = fitGMM.predict(binEx)\n",
    "        #pdb.set_trace()\n",
    "        print(fitGmmBound)\n",
    "        try:\n",
    "            scoreBoundry = binEx[np.where(fitGmmBound == 1)[0][0]][0]\n",
    "        except:\n",
    "            scoreBoundry = max(scoreCount)\n",
    "        #naiveBoundry = np.log10(int(scoreDisc.loc[\"90%\",scoreName])+1)\n",
    "\n",
    "        dfScoreBoundry.loc[scoreName] = scoreBoundry\n",
    "        \n",
    "        if(show):\n",
    "            x_axis = np.arange(min(scoreCount), max(scoreCount), 0.05)\n",
    "            y_axis0 = norm.pdf(x_axis, float(mean[0][0]), np.sqrt(float(covs[0][0][0])))*weights[0] # 1st gaussian\n",
    "            y_axis1 = norm.pdf(x_axis, float(mean[1][0]), np.sqrt(float(covs[1][0][0])))*weights[1] # 2nd gaussian\n",
    "\n",
    "            # Plot 2\n",
    "            x,y = i//plotLen, i%plotLen\n",
    "            axs[x,y].set_title(scoreName)\n",
    "            #axs[x,y].axvline(naiveBoundry, c='C3', linestyle='dashed', linewidth=1) #red\n",
    "            axs[x,y].axvline(scoreBoundry, c='C2', linestyle='dashed', linewidth=1)  #green\n",
    "            axs[x,y].hist(scoreCount, density=True, color='black', bins=100)        \n",
    "            axs[x,y].plot(x_axis, y_axis0, lw=3, c='C6')                            #pink\n",
    "            axs[x,y].plot(x_axis, y_axis1, lw=3, c='C1')                            #orange\n",
    "            axs[x,y].plot(x_axis, y_axis0+y_axis1, lw=3, c='C0', ls=':')            #dotted blue\n",
    "\n",
    "    if(show):\n",
    "        plt.tight_layout(pad=1.0)\n",
    "        plt.show()\n",
    "    \n",
    "    scoreIDs = scoreMat.copy()\n",
    "    scoreID = np.array(scoreNames)\n",
    "    for scoreName in scoreNames:\n",
    "        print(scoreName)\n",
    "        print(dfScoreBoundry.loc[scoreName].values[0])\n",
    "        scoreIDs.loc[:,scoreName] = scoreMat.loc[:,scoreName] > dfScoreBoundry.loc[scoreName].values[0]\n",
    "        \n",
    "    classification = np.empty(len(scoreMat), dtype=\"object\")\n",
    "    i = 0\n",
    "    for cellBar, scoreBool in scoreIDs.iterrows():\n",
    "        numscorees = sum(scoreBool)\n",
    "        if (numscorees == 1):\n",
    "            classif = scoreID[scoreBool.values][0][:-5]#.values\n",
    "        elif (numscorees > 1):\n",
    "            classif = \"Doublet\"\n",
    "        else:\n",
    "            classif = \"Negative\"\n",
    "        classification[i] = classif\n",
    "        i = i + 1\n",
    "        \n",
    "    return(classification)"
   ]
  },
  {
   "cell_type": "code",
   "execution_count": null,
   "id": "60223f95-5540-462d-8fab-7dce6032ec41",
   "metadata": {},
   "outputs": [],
   "source": [
    "classif = gmmScoreGeneSig(scoreMat, show=True)"
   ]
  },
  {
   "cell_type": "code",
   "execution_count": null,
   "id": "0933f23f-fa10-4f89-8fda-cf08d9f1f44b",
   "metadata": {},
   "outputs": [],
   "source": [
    "classification == classif"
   ]
  },
  {
   "cell_type": "code",
   "execution_count": null,
   "id": "415191b0-e3f6-4899-8a60-905d2c730079",
   "metadata": {},
   "outputs": [],
   "source": [
    "from collections import Counter"
   ]
  },
  {
   "cell_type": "code",
   "execution_count": null,
   "id": "aeff6fef-1ec0-43ed-a1d6-d7ec59322441",
   "metadata": {},
   "outputs": [],
   "source": [
    "Counter(classification)"
   ]
  },
  {
   "cell_type": "code",
   "execution_count": null,
   "id": "707831be-0488-4427-b471-d1d003ce06a2",
   "metadata": {},
   "outputs": [],
   "source": [
    "Counter(classif)"
   ]
  },
  {
   "cell_type": "code",
   "execution_count": null,
   "id": "ca362c47-f7b2-4b7b-a8ae-a892a40fb111",
   "metadata": {},
   "outputs": [],
   "source": []
  }
 ],
 "metadata": {
  "kernelspec": {
   "display_name": "Python 3 (ipykernel)",
   "language": "python",
   "name": "python3"
  },
  "language_info": {
   "codemirror_mode": {
    "name": "ipython",
    "version": 3
   },
   "file_extension": ".py",
   "mimetype": "text/x-python",
   "name": "python",
   "nbconvert_exporter": "python",
   "pygments_lexer": "ipython3",
   "version": "3.8.16"
  }
 },
 "nbformat": 4,
 "nbformat_minor": 5
}
