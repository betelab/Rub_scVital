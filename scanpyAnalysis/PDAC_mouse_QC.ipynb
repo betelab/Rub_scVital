{
 "cells": [
  {
   "cell_type": "code",
   "execution_count": null,
   "id": "0d95b1a8-fd4b-4e1c-8a5f-1aae8876b53d",
   "metadata": {},
   "outputs": [],
   "source": []
  },
  {
   "cell_type": "code",
   "execution_count": null,
   "id": "76e1ac5c-05b7-4938-8925-05295dfed035",
   "metadata": {},
   "outputs": [],
   "source": [
    "import numpy as np\n",
    "import pandas as pd\n",
    "import scanpy as sc\n",
    "import anndata as an\n",
    "import sklearn.metrics\n",
    "from matplotlib import pyplot as plt\n",
    "import seaborn as sns"
   ]
  },
  {
   "cell_type": "code",
   "execution_count": null,
   "id": "07bb6a77-5a4d-4375-a4ab-722210120d7c",
   "metadata": {},
   "outputs": [],
   "source": [
    "#adata=sc.read(results_file_post)\n",
    "#adata.uns['log1p'] = {\"base\":None}"
   ]
  },
  {
   "cell_type": "markdown",
   "id": "f11a9d48-a448-4162-bee6-5550f658f624",
   "metadata": {},
   "source": [
    "Set up out properties"
   ]
  },
  {
   "cell_type": "code",
   "execution_count": null,
   "id": "23ef3882-02bc-42ae-842e-6e56f12bf5a7",
   "metadata": {
    "scrolled": true,
    "tags": []
   },
   "outputs": [],
   "source": [
    "sc.settings.verbosity = 3             # verbosity: errors (0), warnings (1), info (2), hints (3)\n",
    "sc.logging.print_header()\n",
    "sc.settings.set_figure_params(dpi=80, facecolor='white')"
   ]
  },
  {
   "cell_type": "code",
   "execution_count": null,
   "id": "b0512e38-5083-49c1-b87c-9d7ce63a537f",
   "metadata": {},
   "outputs": [],
   "source": [
    "#%matplotlib inline"
   ]
  },
  {
   "cell_type": "markdown",
   "id": "44df5bb7-57df-4595-a3df-3ffd26a41a58",
   "metadata": {},
   "source": [
    "Set scanpy out-files"
   ]
  },
  {
   "cell_type": "code",
   "execution_count": null,
   "id": "21e2f476-c5c9-41c4-b6a4-23f83f6970c6",
   "metadata": {},
   "outputs": [],
   "source": [
    "writeDir = \"write/\"\n",
    "\n",
    "fileName = \"pdacMouse\"\n",
    "\n",
    "resultsFileQC = writeDir + fileName + '_QC.h5ad' \n"
   ]
  },
  {
   "cell_type": "markdown",
   "id": "6c5dafed-07d2-4f28-ba20-e2f1895951f2",
   "metadata": {
    "tags": []
   },
   "source": [
    "Set figure parameters"
   ]
  },
  {
   "cell_type": "code",
   "execution_count": null,
   "id": "6d29f37d-276c-4bb5-8047-88246ab728a7",
   "metadata": {
    "tags": []
   },
   "outputs": [],
   "source": [
    "sc.set_figure_params(scanpy=True, dpi=100, dpi_save=150, fontsize=10, format='png')\n",
    "sc.settings.figdir = \"figures/\" + fileName + \"/\"\n",
    "figName = fileName"
   ]
  },
  {
   "cell_type": "markdown",
   "id": "03667afa-42a8-4ec2-a995-ca9daade1a2d",
   "metadata": {
    "tags": []
   },
   "source": [
    "read input file"
   ]
  },
  {
   "cell_type": "code",
   "execution_count": null,
   "id": "9e66d41c-2b8b-4f09-abd2-1f0875cd9fce",
   "metadata": {},
   "outputs": [],
   "source": [
    "inDir = 'data/PDAC'\n",
    "inputFile = f'{inDir}/202110251102_X_PDAC_Lgr5_all.h5'\n",
    "#inMetaFile = f'{inDir}/.txt'"
   ]
  },
  {
   "cell_type": "code",
   "execution_count": null,
   "id": "1e7941d0-f669-49af-a419-55a662f5ee9e",
   "metadata": {},
   "outputs": [],
   "source": [
    "adata = sc.read_h5ad(inputFile)\n",
    "adata"
   ]
  },
  {
   "cell_type": "code",
   "execution_count": null,
   "id": "a574f4b8-9694-4940-8e6b-a2517380f13b",
   "metadata": {},
   "outputs": [],
   "source": [
    "adata.var_names_make_unique()\n",
    "adata.obs_names_make_unique()"
   ]
  },
  {
   "cell_type": "code",
   "execution_count": null,
   "id": "754e31c6-9092-4d16-8605-28b84933a4ee",
   "metadata": {},
   "outputs": [],
   "source": [
    "adata.obs "
   ]
  },
  {
   "cell_type": "code",
   "execution_count": null,
   "id": "811d479e-237c-4eb1-9f8e-94e4f56116c5",
   "metadata": {},
   "outputs": [],
   "source": [
    "adata.var"
   ]
  },
  {
   "cell_type": "markdown",
   "id": "008c2c38-656e-4ede-bd05-52bad8135e55",
   "metadata": {},
   "source": [
    "# Start QC\n",
    "investigate highest expressed genes"
   ]
  },
  {
   "cell_type": "code",
   "execution_count": null,
   "id": "bcd6b57f-0d01-4049-b88a-b55ebe1c3551",
   "metadata": {},
   "outputs": [],
   "source": [
    "sc.pl.highest_expr_genes(adata, n_top=20, )"
   ]
  },
  {
   "cell_type": "code",
   "execution_count": null,
   "id": "234bc1bd-687e-4467-a995-3f9b503c25c1",
   "metadata": {},
   "outputs": [],
   "source": [
    "valX = adata.X>0\n",
    "minGenes=500\n",
    "minCells=20\n",
    "\n",
    "fig, axs = plt.subplots(1, 2, figsize=(8, 4))\n",
    "\n",
    "numCellwExp = valX.sum(axis=1)\n",
    "axs[0].hist(np.log(numCellwExp), bins=100)#, log=True)\n",
    "axs[0].axvline(np.log(minGenes), color='k', linestyle='dashed', linewidth=1)\n",
    "axs[0].set_xlabel('num gene')\n",
    "axs[0].set_ylabel('counts')\n",
    "\n",
    "numGeneswExp = valX.sum(axis=0).T\n",
    "axs[1].hist(np.log(numGeneswExp+1), bins=100, log=True)\n",
    "axs[1].axvline(np.log(minCells+1), color='k', linestyle='dashed', linewidth=1)\n",
    "#axs[0,1].axvline(np.log(600), color='k', linestyle='dashed', linewidth=1)\n",
    "#axs[0,1].axvline(np.log(4000), color='k', linestyle='dashed', linewidth=1)\n",
    "#axs[0,1].set_title('Gene means counts')\n",
    "axs[1].set_xlabel('num cell')\n",
    "axs[1].set_ylabel('counts')\n",
    "\n",
    "fig.show()"
   ]
  },
  {
   "cell_type": "code",
   "execution_count": null,
   "id": "812fdf18-3951-48b6-be35-eb4d17dca04b",
   "metadata": {},
   "outputs": [],
   "source": [
    "sc.pp.filter_cells(adata, min_genes = minGenes)\n",
    "sc.pp.filter_genes(adata, min_cells = minCells)"
   ]
  },
  {
   "cell_type": "code",
   "execution_count": null,
   "id": "35a01ed6-ca51-4a4b-9f26-077be427527a",
   "metadata": {},
   "outputs": [],
   "source": [
    "adata = adata[:,np.logical_not(adata.var_names==\"Malat1\")]"
   ]
  },
  {
   "cell_type": "markdown",
   "id": "ecb3271e-f526-46e1-a9db-7b3da04cb5e0",
   "metadata": {},
   "source": [
    "## Mito QC"
   ]
  },
  {
   "cell_type": "code",
   "execution_count": null,
   "id": "d557fd4f-eea2-4c4f-9948-3b287ee7b156",
   "metadata": {},
   "outputs": [],
   "source": [
    "adata.var['mt'] = adata.var_names.str.startswith('mt-') \n",
    "sc.pp.calculate_qc_metrics(adata, qc_vars=['mt'], log1p = False, inplace=True)"
   ]
  },
  {
   "cell_type": "code",
   "execution_count": null,
   "id": "3fc7fbdb-bec8-435b-93bf-3d7282788535",
   "metadata": {},
   "outputs": [],
   "source": [
    "sc.pl.violin(adata, ['n_genes_by_counts', 'total_counts', 'pct_counts_mt'], jitter=0.4, multi_panel=True)"
   ]
  },
  {
   "cell_type": "code",
   "execution_count": null,
   "id": "75268998-5809-49d4-9a8e-7a66da5501d3",
   "metadata": {},
   "outputs": [],
   "source": [
    "sc.pl.scatter(adata, x='total_counts', y='pct_counts_mt')\n",
    "sc.pl.scatter(adata, x='total_counts', y='n_genes_by_counts')"
   ]
  },
  {
   "cell_type": "markdown",
   "id": "c81b13df-697c-4ba5-8ef7-e39e0972f168",
   "metadata": {},
   "source": [
    "remove cells that have too much mito or could be doublets"
   ]
  },
  {
   "cell_type": "code",
   "execution_count": null,
   "id": "b26f2120-8a69-42fa-b302-8c57df5c1185",
   "metadata": {},
   "outputs": [],
   "source": [
    "adata = adata[adata.obs.n_genes_by_counts < 6000, :]\n",
    "adata = adata[adata.obs.total_counts < 40000, :]\n",
    "adata = adata[adata.obs.pct_counts_mt < 10, :]"
   ]
  },
  {
   "cell_type": "code",
   "execution_count": null,
   "id": "bd43e6b1-e2e4-4d9d-8628-b444510eb3e0",
   "metadata": {},
   "outputs": [],
   "source": [
    "sc.pl.violin(adata, ['n_genes_by_counts', 'total_counts', 'pct_counts_mt'], jitter=0.4, multi_panel=True)"
   ]
  },
  {
   "cell_type": "markdown",
   "id": "1bc2b400-3415-4c45-8ff9-0eb671a9a172",
   "metadata": {},
   "source": [
    "save post QC scanpy"
   ]
  },
  {
   "cell_type": "code",
   "execution_count": null,
   "id": "302d46e3-d3c6-4522-ae05-4dca2c558589",
   "metadata": {},
   "outputs": [],
   "source": [
    "adata"
   ]
  },
  {
   "cell_type": "code",
   "execution_count": null,
   "id": "86ab0fec-df3b-4b20-990e-9ede484ea241",
   "metadata": {},
   "outputs": [],
   "source": [
    "adata.obs[['batch', 'mouse', 'tumor', 'donor', 'treatment', 'hash', '10X_version', 'concat']]"
   ]
  },
  {
   "cell_type": "code",
   "execution_count": null,
   "id": "21c6935f-87b1-490e-8d5e-a92acba22399",
   "metadata": {},
   "outputs": [],
   "source": [
    "adata.obs[['complexity_res', 'cl_pp', 'doublet_scores', 'doublets']]"
   ]
  },
  {
   "cell_type": "code",
   "execution_count": null,
   "id": "b52a9373-b088-4910-8b6f-f9078f9ab7b9",
   "metadata": {},
   "outputs": [],
   "source": [
    "sum(adata.obs.doublets)"
   ]
  },
  {
   "cell_type": "code",
   "execution_count": null,
   "id": "ebbd7a90-043d-440c-ad9b-5130d5d5f797",
   "metadata": {},
   "outputs": [],
   "source": [
    "adata.obs = adata.obs[['batch', 'mouse', 'tumor', 'donor', 'treatment', \n",
    "                        'hash', '10X_version', 'concat','n_genes_by_counts','n_genes']]\n",
    "adata.var = adata.var[['n_cells', 'mt']]\n",
    "adata.layers = None"
   ]
  },
  {
   "cell_type": "code",
   "execution_count": null,
   "id": "5b679bef-d1a2-42bd-9fc6-5739e000fb93",
   "metadata": {},
   "outputs": [],
   "source": [
    "adata"
   ]
  },
  {
   "cell_type": "code",
   "execution_count": null,
   "id": "6cd318aa-17b4-43ab-8bbf-0484bbee7067",
   "metadata": {},
   "outputs": [],
   "source": [
    "resultsFileQC"
   ]
  },
  {
   "cell_type": "code",
   "execution_count": null,
   "id": "12a7b3f9-edef-41d5-8bd4-b26f46c7d43c",
   "metadata": {},
   "outputs": [],
   "source": [
    "adata.write(resultsFileQC)"
   ]
  },
  {
   "cell_type": "code",
   "execution_count": null,
   "id": "c928ccbf-d58c-40ca-82a9-a14fece73224",
   "metadata": {},
   "outputs": [],
   "source": [
    "adata = sc.read(resultsFileQC)\n",
    "adata"
   ]
  },
  {
   "cell_type": "code",
   "execution_count": null,
   "id": "e0d859b0-623a-4964-9a2c-65e19ad8146a",
   "metadata": {},
   "outputs": [],
   "source": [
    "(140477*27131)/(150699*54838)"
   ]
  },
  {
   "cell_type": "code",
   "execution_count": null,
   "id": "a5965d5b-44fa-46b4-b174-70bbf8670e49",
   "metadata": {},
   "outputs": [],
   "source": [
    "adata.var"
   ]
  },
  {
   "cell_type": "code",
   "execution_count": null,
   "id": "7c47756d-d1f3-413a-a239-f5ab41306855",
   "metadata": {},
   "outputs": [],
   "source": []
  }
 ],
 "metadata": {
  "kernelspec": {
   "display_name": "Python 3 (ipykernel)",
   "language": "python",
   "name": "python3"
  },
  "language_info": {
   "codemirror_mode": {
    "name": "ipython",
    "version": 3
   },
   "file_extension": ".py",
   "mimetype": "text/x-python",
   "name": "python",
   "nbconvert_exporter": "python",
   "pygments_lexer": "ipython3",
   "version": "3.8.16"
  }
 },
 "nbformat": 4,
 "nbformat_minor": 5
}
