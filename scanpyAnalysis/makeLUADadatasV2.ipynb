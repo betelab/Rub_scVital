{
 "cells": [
  {
   "cell_type": "code",
   "execution_count": null,
   "id": "51d40631-7996-4b2f-bc4e-452788557c90",
   "metadata": {},
   "outputs": [],
   "source": []
  },
  {
   "cell_type": "code",
   "execution_count": null,
   "id": "ac400692-df8e-4719-83bd-352ec2080901",
   "metadata": {
    "tags": []
   },
   "outputs": [],
   "source": [
    "import os\n",
    "import numpy as np\n",
    "import pandas as pd\n",
    "import scanpy as sc\n",
    "import anndata as ad\n",
    "from matplotlib import pyplot as plt\n",
    "import scipy as si\n",
    "import scanpyHelpers as scH"
   ]
  },
  {
   "cell_type": "markdown",
   "id": "229eb976-f02c-40f8-aa05-512d9daf6940",
   "metadata": {},
   "source": [
    "# Input data"
   ]
  },
  {
   "cell_type": "code",
   "execution_count": null,
   "id": "9a3108e7-e050-4084-b973-85ecb057fc8b",
   "metadata": {
    "tags": []
   },
   "outputs": [],
   "source": [
    "writeDir=\"write/\"\n",
    "tissue=\"luad\"\n",
    "dictLab = [\"species\",\"adataName\"]\n",
    "dataDicts = {\"mou\":dict(zip(dictLab, [\"mouse\",f'{writeDir}/{tissue}Mouse_shKras'])),\n",
    "             #\"mLg\":dict(zip(dictLab, [\"mouse\",f'{writeDir}/lungMouse'])),\n",
    "             \"pdx\":dict(zip(dictLab, [\"human\",f'{writeDir}/{tissue}Pdx'])),\n",
    "             \"dos\":dict(zip(dictLab, [\"human\",f'{writeDir}/{tissue}Dost'])),\n",
    "             \"bis\":dict(zip(dictLab, [\"human\",f'{writeDir}/{tissue}Bischoff'])),\n",
    "             \"kim\":dict(zip(dictLab, [\"human\",f'{writeDir}/{tissue}Kim'])),\n",
    "             \"mda\":dict(zip(dictLab, [\"human\",f'{writeDir}/{tissue}MDAkras'])),\n",
    "             #\"hLg\":dict(zip(dictLab, [\"human\",f'{writeDir}/lungHuman']))}\n",
    "\n",
    "mergedAdataFileQC = f'{writeDir}/{tissue}MousePdxDostBischoffKimMda_QC.h5ad'\n",
    "mergedAdataFile = f'{writeDir}/{tissue}MousePdxDostBischoffKimMda.h5ad'\n",
    "\n",
    "homologyFile = \"data/hgncHM_121.csv\""
   ]
  },
  {
   "cell_type": "markdown",
   "id": "84fd2d6b-56b0-4963-8150-708251813488",
   "metadata": {},
   "source": [
    "## signature and holmology"
   ]
  },
  {
   "cell_type": "code",
   "execution_count": null,
   "id": "b595702c-475f-4724-8a02-f0f16b75c23a",
   "metadata": {
    "tags": []
   },
   "outputs": [],
   "source": [
    "homology = pd.read_table(homologyFile, sep=\",\")\n",
    "homology"
   ]
  },
  {
   "cell_type": "code",
   "execution_count": null,
   "id": "2ee266e1-95dd-4ec8-9261-15171f3c0462",
   "metadata": {
    "scrolled": true
   },
   "outputs": [],
   "source": [
    "sigFile = \"data/LUAD/humanLUADgeneSig.csv\"\n",
    "sigGenes = pd.read_csv(sigFile)\n",
    "sigGenes\n",
    "sigGenesHomolo=sigGenes.copy()\n",
    "sigGenesM=sigGenes.copy()\n",
    "humanList =  list(homology[\"human\"])\n",
    "for i in sigGenes.index:\n",
    "    for j in sigGenes.columns:\n",
    "        if sigGenes.loc[i,j] in humanList:\n",
    "            sigGenesHomolo.loc[i,j] = f'{homology[\"mouse\"][humanList.index(sigGenes.loc[i,j])]}/{sigGenes.loc[i,j]}'\n",
    "            sigGenesM.loc[i,j] = f'{homology[\"mouse\"][humanList.index(sigGenes.loc[i,j])]}'\n",
    "sigGenesHomolo"
   ]
  },
  {
   "cell_type": "code",
   "execution_count": null,
   "id": "6544b4e9-d319-461f-a7c7-f2c03a49b63b",
   "metadata": {},
   "outputs": [],
   "source": [
    "sigGenesM"
   ]
  },
  {
   "cell_type": "markdown",
   "id": "85e969c6-a29f-46f0-9bad-a100f0b47568",
   "metadata": {},
   "source": [
    "## helper functions"
   ]
  },
  {
   "cell_type": "code",
   "execution_count": null,
   "id": "df125f5f-9668-4864-8247-62be145a2e9a",
   "metadata": {
    "tags": []
   },
   "outputs": [],
   "source": [
    "def getAdata(adataFile, neededObs):\n",
    "    adata = sc.read_h5ad(adataFile+\"_QC.h5ad\")\n",
    "    adataPost = sc.read_h5ad(adataFile+\".h5ad\")\n",
    "    #import pdb; pdb.set_trace()\n",
    "    #adata = adata[adataPost.obs_names,:]\n",
    "    adata = adata[list(set(adata.obs_names).intersection(set(adataPost.obs_names))),:]\n",
    "    adata.obs[neededObs] = adataPost.obs[neededObs].copy()\n",
    "    adata.layers[\"counts\"] = adata.X.copy()\n",
    "    #adata.obs[\"sample\"] = adata.obs[\"Classification\"].copy()\n",
    "    return(adata)\n",
    "\n",
    "def getNormAdata(adataFile, neededObs):\n",
    "    adata = getAdata(adataFile, neededObs)\n",
    "    try:\n",
    "        test = adata.X[0,:].todense()\n",
    "        normSum = np.sum((np.exp(test)-1), axis=1)[0,0]\n",
    "    except:\n",
    "        test = adata.X[0,:]\n",
    "        normSum = np.sum((np.exp(adata.X[0,:])-1))\n",
    "    if(normSum != 1e4):\n",
    "        print(\"norm\")\n",
    "        sc.pp.normalize_total(adata, target_sum=1e4)#,exclude_highly_expressed=True)#\n",
    "        sc.pp.log1p(adata)\n",
    "    return adata"
   ]
  },
  {
   "cell_type": "markdown",
   "id": "72f34dba-aff4-47f8-a606-fc002021904f",
   "metadata": {},
   "source": [
    "# read each file"
   ]
  },
  {
   "cell_type": "code",
   "execution_count": null,
   "id": "a0467f2d-3008-45ab-be98-8c60e1292d0e",
   "metadata": {},
   "outputs": [],
   "source": [
    "#batchKey = \"dataset\"\n",
    "cellTypeKey = \"gmmClass\""
   ]
  },
  {
   "cell_type": "code",
   "execution_count": null,
   "id": "ec9ea022-d87c-44f9-a059-875d0c5a229a",
   "metadata": {},
   "outputs": [],
   "source": [
    "sigGenesL=[sigGenesM, sigGenes, sigGenes, sigGenes, sigGenes, sigGenes]\n",
    "dataDicts.keys()"
   ]
  },
  {
   "cell_type": "code",
   "execution_count": null,
   "id": "2ca99069-9c4f-4be0-b772-ba97fcc03d2d",
   "metadata": {
    "scrolled": true,
    "tags": []
   },
   "outputs": [],
   "source": [
    "geneSpecDict = []\n",
    "adatas = []\n",
    "for i,datakey in enumerate(dataDicts.keys()):\n",
    "    print(datakey)\n",
    "    adata = getNormAdata(dataDicts[datakey][\"adataName\"], [\"cellState\"])\n",
    "    adata.obs[\"cs\"] = adata.obs.cellState.copy()\n",
    "    geneSpecDict.append({\"genes\":np.array(adata.var_names.copy()),\"species\":dataDicts[datakey][\"species\"]})\n",
    "    rawCounts = adata.layers[\"counts\"]\n",
    "    sc.pp.highly_variable_genes(adata, flavor=\"seurat\", n_top_genes=2500)\n",
    "    #adata.var['mt'] = adata.var_names.str.startswith('mt-') \n",
    "    adata.raw = adata    \n",
    "    adata = adata[:, adata.var.highly_variable]#np.logical_and(adata.var.highly_variable, np.logical_not(adata.var.mt))]\n",
    "    sc.tl.pca(adata, n_comps = 100, svd_solver='arpack')\n",
    "    sc.pp.neighbors(adata, n_neighbors=20, n_pcs=60)\n",
    "    sc.tl.umap(adata)\n",
    "    sc.tl.leiden(adata, resolution=0.2)\n",
    "    \n",
    "    scoreNames, newBClabel, ogLabelScoreMed = scH.scoreAndLabel(adata, sigGenesL[i], labelOfSigGenes= sigGenes.columns, ogLabel=\"leiden\", translate=False)\n",
    "    gmmClass = scH.gmmScoreGeneSig(adata.obs[scoreNames],show=False)\n",
    "    adata.obs[cellTypeKey] = [ f\"{x}_{datakey}\" if(x == \"Negative\") else x for x in gmmClass]\n",
    "    \n",
    "    sc.pl.umap(adata, color=[\"leiden\",\"cellState\",\"cs\",cellTypeKey]+scoreNames,ncols=4)\n",
    "\n",
    "    adata = adata.raw.to_adata()\n",
    "    adata.layers[\"counts\"] = rawCounts\n",
    "    adatas.append(adata)\n",
    "\n",
    "geneSpecDict"
   ]
  },
  {
   "cell_type": "code",
   "execution_count": null,
   "id": "446ee433-a09b-4489-905e-050fa16ddad2",
   "metadata": {},
   "outputs": [],
   "source": [
    "scH.getOverlapGenesMulti(homology, geneSpecDict)"
   ]
  },
  {
   "cell_type": "code",
   "execution_count": null,
   "id": "f2b97bc2-411d-4dad-b1b7-e2a6d30f4ba6",
   "metadata": {},
   "outputs": [],
   "source": [
    "for i,genesDict in enumerate(geneSpecDict):\n",
    "    adatas[i].var_names = genesDict[\"genes\"]"
   ]
  },
  {
   "cell_type": "code",
   "execution_count": null,
   "id": "fa483f5a-e740-4bd4-9608-2419fe09f1bc",
   "metadata": {},
   "outputs": [],
   "source": [
    "adata = ad.concat(adatas, join=\"outer\", label=\"dataset\", keys=dataDicts.keys(), fill_value=0)\n",
    "adata.obs_names_make_unique()"
   ]
  },
  {
   "cell_type": "code",
   "execution_count": null,
   "id": "dcacad16-1ec7-426e-b48e-5682fedb3533",
   "metadata": {},
   "outputs": [],
   "source": [
    "adata"
   ]
  },
  {
   "cell_type": "code",
   "execution_count": null,
   "id": "db5a3c60-90b9-4289-afc5-b97765a1f7ac",
   "metadata": {
    "tags": []
   },
   "outputs": [],
   "source": [
    "labels = np.empty(len(adata.obs_names), dtype=\"object\")\n",
    "for i, cell in enumerate(adata.obs_names):\n",
    "    sample, classif, label = adata.obs.loc[cell,[\"sample\",\"Classification\",\"dataset\"]]\n",
    "    if(not pd.isna(classif)):\n",
    "        spliton = \"_\"\n",
    "        if \"-\" in classif:\n",
    "             spliton = \"-\"\n",
    "        label=classif.split(spliton)[0]\n",
    "    elif(not pd.isna(sample)):\n",
    "        label=sample\n",
    "    labels[i] = label\n",
    "adata.obs = adata.obs[['dataset',\"cellState\",\"cs\",\"gmmClass\"]]\n",
    "adata.obs[\"species\"] = [\"mouse\" if lab==\"mou\" else \"human\" for lab in adata.obs.dataset]\n",
    "adata.obs[\"label\"] = labels   \n",
    "adata.obs"
   ]
  },
  {
   "cell_type": "code",
   "execution_count": null,
   "id": "4d4feb64-98bf-4903-95ea-0755467fd382",
   "metadata": {},
   "outputs": [],
   "source": [
    "np.unique(labels)"
   ]
  },
  {
   "cell_type": "code",
   "execution_count": null,
   "id": "3cc4e643-5eb9-49b7-83a2-b0db4eda2af6",
   "metadata": {},
   "outputs": [],
   "source": [
    "labs = adata.obs[\"label\"].values.copy()\n",
    "for i,lab in enumerate(labs):\n",
    "    if lab==\"mda\":\n",
    "        pat = adata.obs.iloc[i,:].name.split(\"_\")[0]\n",
    "        labs[i] = pat.split(\"-\")[0]\n",
    "    \n",
    "adata.obs[\"label\"] = labs   "
   ]
  },
  {
   "cell_type": "code",
   "execution_count": null,
   "id": "c76af046-2b08-4105-b035-c0a0584f8002",
   "metadata": {},
   "outputs": [],
   "source": [
    "adata.write(mergedAdataFileQC)"
   ]
  },
  {
   "cell_type": "code",
   "execution_count": null,
   "id": "f82bb5ed-691d-41bc-a036-8f2457eeca39",
   "metadata": {
    "scrolled": true,
    "tags": []
   },
   "outputs": [],
   "source": [
    "datasetLabels = [\"pdx\",\"dos\",\"bis\",\"kim\",\"mda\"]\n",
    "patientLabels = ['JHU55A', 'LX278', 'LX29', 'LX29A', 'LX369', 'LX55A', 'P0006',\n",
    "       'P0008', 'P0018', 'P0019', 'P0020', 'P0025', 'P0028', 'P0030',\n",
    "       'P0031', 'P0034', 'P10T', 'P14T', 'P2', 'Ru210',\n",
    "       'Ru318', 'Ru465', 'Ru699', 'Ru890', 'dos', 'mou', 'p018_T',\n",
    "       'p019_T', 'p023_T', 'p024_T', 'p027_T', 'p030_T', 'p031_T',\n",
    "       'p032_T', 'p033_T', 'p034_T']\n",
    "for dlabel in datasetLabels:\n",
    "    print(dlabel, \"mou\")\n",
    "for plabel in patientLabels:\n",
    "    print(plabel, \"mou\")"
   ]
  },
  {
   "cell_type": "code",
   "execution_count": null,
   "id": "7ecaf166-63e1-4e47-8f71-3a6c8d7c2a7f",
   "metadata": {},
   "outputs": [],
   "source": [
    "mergedAdataFileQC"
   ]
  },
  {
   "cell_type": "code",
   "execution_count": null,
   "id": "d2ebd4fd-733b-4976-b360-8932b0a4b524",
   "metadata": {},
   "outputs": [],
   "source": [
    "adata.obs"
   ]
  },
  {
   "cell_type": "code",
   "execution_count": null,
   "id": "feb881dc-5747-4b17-9431-bd3fd30d14a6",
   "metadata": {},
   "outputs": [],
   "source": [
    "adataT = sc.read_h5ad(mergedAdataFileQC)\n",
    "adataT"
   ]
  },
  {
   "cell_type": "code",
   "execution_count": null,
   "id": "6d19eec4-7d08-4a66-beb9-0882f92f81ac",
   "metadata": {},
   "outputs": [],
   "source": []
  },
  {
   "cell_type": "code",
   "execution_count": null,
   "id": "7bc7392a-c66a-49ce-a398-3b2504c6d460",
   "metadata": {},
   "outputs": [],
   "source": [
    "adata.write(f\"write/luadAdatas/mhLUAD_all.h5ad\")\n",
    "adata[np.logical_not(adata.obs.dataset==\"pdx\"),:].write(f\"write/luadAdatas/mhLUAD_npdx.h5ad\")\n",
    "adata[np.logical_or(adata.obs.dataset==\"bis\",adata.obs.dataset==\"mou\"),:].write(f\"write/luadAdatas/mhLUAD_bis.h5ad\")\n",
    "adata[np.logical_or(adata.obs.dataset==\"pdx\",adata.obs.dataset==\"mou\"),:].write(f\"write/luadAdatas/mhLUAD_pdx.h5ad\")\n",
    "adata[np.logical_or(adata.obs.dataset==\"dos\",adata.obs.dataset==\"mou\"),:].write(f\"write/luadAdatas/mhLUAD_dos.h5ad\")\n",
    "adata[np.logical_or(adata.obs.dataset==\"kim\",adata.obs.dataset==\"mou\"),:].write(f\"write/luadAdatas/mhLUAD_kim.h5ad\")\n",
    "adata[np.logical_or(adata.obs.dataset==\"mda\",adata.obs.dataset==\"mou\"),:].write(f\"write/luadAdatas/mhLUAD_mda.h5ad\")\n"
   ]
  },
  {
   "cell_type": "code",
   "execution_count": null,
   "id": "71f25251-f0e4-4735-a1be-20c22a3a72ca",
   "metadata": {},
   "outputs": [],
   "source": [
    "dirLoc = \"../scCompare/scVAE_ABC/resources\"\n",
    "adata.write(f\"{dirLoc}/mhLUAD_all.h5ad\")\n",
    "adata[np.logical_not(adata.obs.dataset==\"pdx\"),:].write(f\"{dirLoc}/mhLUAD_npdx.h5ad\")\n",
    "adata[np.logical_or(adata.obs.dataset==\"bis\",adata.obs.dataset==\"mou\"),:].write(f\"{dirLoc}/mhLUAD_bis.h5ad\")\n",
    "adata[np.logical_or(adata.obs.dataset==\"pdx\",adata.obs.dataset==\"mou\"),:].write(f\"{dirLoc}/mhLUAD_pdx.h5ad\")\n",
    "adata[np.logical_or(adata.obs.dataset==\"dos\",adata.obs.dataset==\"mou\"),:].write(f\"{dirLoc}/mhLUAD_dos.h5ad\")\n",
    "adata[np.logical_or(adata.obs.dataset==\"kim\",adata.obs.dataset==\"mou\"),:].write(f\"{dirLoc}/mhLUAD_kim.h5ad\")\n",
    "adata[np.logical_or(adata.obs.dataset==\"mda\",adata.obs.dataset==\"mou\"),:].write(f\"{dirLoc}/mhLUAD_mda.h5ad\")\n"
   ]
  },
  {
   "cell_type": "code",
   "execution_count": null,
   "id": "a3ef2062-bad1-4582-b803-2aae6dc5507c",
   "metadata": {},
   "outputs": [],
   "source": [
    "adata.obs.dataset.cat.categories\n"
   ]
  },
  {
   "cell_type": "code",
   "execution_count": null,
   "id": "2fc351ba-e3c2-4ed1-9c64-ce9e82b41ab0",
   "metadata": {},
   "outputs": [],
   "source": [
    "for i,labelName in enumerate(datasetLabels):\n",
    "    #adata = sc.read_h5ad(f\"write/luadAdatas/LuadMouseHuman{labelName}.h5ad\")\n",
    "    #sc.pl.umap(adata, color=[\"cellState\",\"gmmClass\"])"
   ]
  },
  {
   "cell_type": "code",
   "execution_count": null,
   "id": "c44972cc-872f-4fd6-b328-57fe50dbe1bf",
   "metadata": {},
   "outputs": [],
   "source": [
    "from sklearn.metrics import confusion_matrix\n",
    "\n",
    "confusion_matrix(adata.obs.cellState, adata.obs.gmmClass)#, labels=[])"
   ]
  },
  {
   "cell_type": "code",
   "execution_count": null,
   "id": "f20694ed-662a-4de1-9907-b3167375c004",
   "metadata": {},
   "outputs": [],
   "source": [
    "afiles = [\"mhLUAD_all\",\"mhLUAD_npdx\",\"mhLUAD_bis\",\"mhLUAD_pdx\",\"mhLUAD_dos\",\"mhLUAD_kim\",\"mhLUAD_mda\"]\n",
    "print(\"filename,batchSize,numEpoch,learningRate,inLayerDims,lastLayer,inDiscLayer,reconCoef,klCoef,discCoef,batchName,cellName,res\")\n",
    "for af in afiles:\n",
    "    print(f\"{af},256,128,1e-3,1024-128,12,6,5,1e-1,10,{batchKey},{cellTypeKey},4e-1\")\n",
    "#for pLabel in patientLabels:\n",
    "#    print(f\"LuadMouseHuman{pLabel},128,128,1e-3,1024-128,12,6,5,1e-1,10,{batchKey},{cellTypeKey},4e-1\")"
   ]
  },
  {
   "cell_type": "code",
   "execution_count": null,
   "id": "8941f7cb-0615-4112-a91c-0fde81069561",
   "metadata": {},
   "outputs": [],
   "source": [
    "\n"
   ]
  },
  {
   "cell_type": "code",
   "execution_count": null,
   "id": "a554c901-47ea-47a8-a48c-9aa9f60c6155",
   "metadata": {},
   "outputs": [],
   "source": []
  }
 ],
 "metadata": {
  "kernelspec": {
   "display_name": "Python 3 (ipykernel)",
   "language": "python",
   "name": "python3"
  },
  "language_info": {
   "codemirror_mode": {
    "name": "ipython",
    "version": 3
   },
   "file_extension": ".py",
   "mimetype": "text/x-python",
   "name": "python",
   "nbconvert_exporter": "python",
   "pygments_lexer": "ipython3",
   "version": "3.8.16"
  }
 },
 "nbformat": 4,
 "nbformat_minor": 5
}
