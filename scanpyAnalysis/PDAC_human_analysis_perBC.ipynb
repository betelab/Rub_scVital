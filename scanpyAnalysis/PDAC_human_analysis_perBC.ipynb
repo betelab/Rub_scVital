{
 "cells": [
  {
   "cell_type": "code",
   "execution_count": null,
   "id": "425c36fc-f0af-4c76-93d7-cf512d943577",
   "metadata": {
    "editable": true,
    "slideshow": {
     "slide_type": ""
    },
    "tags": []
   },
   "outputs": [],
   "source": [
    "# Hwnag per patient KRAS investigation"
   ]
  },
  {
   "cell_type": "code",
   "execution_count": null,
   "id": "252d89ce-66b2-430f-abb7-5c91d66b7d3f",
   "metadata": {},
   "outputs": [],
   "source": [
    "import numpy as np\n",
    "import pandas as pd\n",
    "import scanpy as sc\n",
    "import scipy.io\n",
    "import scanpy.external as scex\n",
    "import sklearn.metrics\n",
    "import seaborn as sns\n",
    "from matplotlib import pyplot as plt\n",
    "import scanpyHelpers as scH\n",
    "\n",
    "import decoupler as dc"
   ]
  },
  {
   "cell_type": "code",
   "execution_count": null,
   "id": "645d8750-2a93-49ed-9a60-40d01fa7eb0e",
   "metadata": {},
   "outputs": [],
   "source": [
    "#adata=sc.read(results_file_post)\n",
    "#adata.uns['log1p'] = {\"base\":None}"
   ]
  },
  {
   "cell_type": "code",
   "execution_count": null,
   "id": "304826fc-ac59-4d76-a655-1f93f7bcdd6e",
   "metadata": {
    "scrolled": true,
    "tags": []
   },
   "outputs": [],
   "source": [
    "sc.settings.verbosity = 0             # verbosity: errors (0), warnings (1), info (2), hints (3)\n",
    "sc.logging.print_header()\n",
    "sc.settings.set_figure_params(dpi=80, facecolor='white')"
   ]
  },
  {
   "cell_type": "code",
   "execution_count": null,
   "id": "a3958527-8b39-4c29-9163-eee788c190cf",
   "metadata": {},
   "outputs": [],
   "source": [
    "%matplotlib inline"
   ]
  },
  {
   "cell_type": "code",
   "execution_count": null,
   "id": "c4675a44-ce4a-4f38-b04a-66c4fc2e0bb4",
   "metadata": {},
   "outputs": [],
   "source": [
    "writeDir = \"write/\"\n",
    "\n",
    "fileName = \"pdacHuman\"\n",
    "\n",
    "resultsFileQC = writeDir + fileName + '_QC.h5ad'  # post QC (pre-analysis) "
   ]
  },
  {
   "cell_type": "code",
   "execution_count": null,
   "id": "12931800-be2f-4ec5-ae70-ce938498b203",
   "metadata": {},
   "outputs": [],
   "source": [
    "sigGenes = pd.read_csv(\"data/PDAC/basClaSigGenes.csv\")\n",
    "sigGenes = sigGenes[[\"scBasal\",\"scClassical\"]]\n",
    "\n",
    "classLabDict = dict(zip(sigGenes.columns,[\"basal\",\"classical\"]))\n",
    "markers = pd.DataFrame(np.empty((200*12,2), dtype=\"object\"), columns=[\"genes\", \"clustName\"])\n",
    "for i,clust in enumerate(sigGenes.columns):\n",
    "    for j,gene in enumerate(sigGenes.index):\n",
    "        gene = sigGenes.loc[gene,clust]\n",
    "        #indexOver = np.where(humanGenes == gene)[0]\n",
    "        #if indexOver.size > 0:\n",
    "        #    gene = mouseGenes[indexOver[0]]\n",
    "        markers.iloc[i*200+j] = gene,classLabDict[clust]\n",
    "        \n",
    "markers = markers.dropna()\n",
    "markers = markers.drop_duplicates()\n",
    "markers\n",
    "\n",
    "homology = pd.read_table(\"data/hgncHM_121.csv\", sep=\",\")\n",
    "homology"
   ]
  },
  {
   "cell_type": "code",
   "execution_count": null,
   "id": "e50cffba-ab13-40fe-b978-c525fb1db4a5",
   "metadata": {
    "tags": []
   },
   "outputs": [],
   "source": [
    "sc.set_figure_params(scanpy=True, dpi=100, dpi_save=150, fontsize=10, format='png')\n",
    "sc.settings.figdir = \"figures/\" + fileName + \"/\"\n",
    "figName = fileName"
   ]
  },
  {
   "cell_type": "code",
   "execution_count": null,
   "id": "83f3aa4e-f800-488a-b41e-0443986c9415",
   "metadata": {
    "tags": []
   },
   "outputs": [],
   "source": [
    "adata = sc.read_h5ad(resultsFileQC)\n",
    "adata"
   ]
  },
  {
   "cell_type": "code",
   "execution_count": null,
   "id": "f19a06a8-972f-47c4-a894-49967cab6f9d",
   "metadata": {},
   "outputs": [],
   "source": [
    "adata = adata[adata.obs[\"tumor\"]==\"tumor\"]\n",
    "tumorcells = ['Acinar cell', 'Ductal cell type 1', 'Ductal cell type 2','Endocrine cell']\n",
    "adata = adata[[t in tumorcells for t in adata.obs.celltypes]]\n",
    "rawAdata = adata"
   ]
  },
  {
   "cell_type": "code",
   "execution_count": null,
   "id": "cbcb04f6-4534-41ad-8bbf-84134b75cf7b",
   "metadata": {},
   "outputs": [],
   "source": [
    "from collections import Counter\n",
    "Counter(adata.obs[\"samples\"])"
   ]
  },
  {
   "cell_type": "code",
   "execution_count": null,
   "id": "9bc2429e-0fba-4bb9-9f90-d3f0dae68423",
   "metadata": {},
   "outputs": [],
   "source": [
    "#mostCom = [\"T14\",\"T17\",\"T9\",\"T22\",\"T18\"]\n",
    "#mcAdata = adata[[(sam in mostCom) for sam in adata.obs.samples],:]\n",
    "#adata = adata[[ct == \"Ductal cell type 2\" for ct in adata.obs.celltypes]]\n",
    "#adata = mcAdata"
   ]
  },
  {
   "cell_type": "code",
   "execution_count": null,
   "id": "e1b2a285-c157-4f6b-ac51-17d837a25e45",
   "metadata": {},
   "outputs": [],
   "source": [
    "listPatients = adata.obs[\"samples\"].cat.categories.values"
   ]
  },
  {
   "cell_type": "code",
   "execution_count": null,
   "id": "3c928b34-5143-4b47-abdc-7f3354c501d1",
   "metadata": {},
   "outputs": [],
   "source": [
    "adataAll = adata.copy()"
   ]
  },
  {
   "cell_type": "code",
   "execution_count": null,
   "id": "8eb1ebdb-cc4f-47ee-9ee6-021a7ff46d0b",
   "metadata": {},
   "outputs": [],
   "source": [
    "adataAll"
   ]
  },
  {
   "cell_type": "code",
   "execution_count": null,
   "id": "e053807c-f470-40a0-b96f-4ffe84ea6dc6",
   "metadata": {
    "scrolled": true
   },
   "outputs": [],
   "source": [
    "csHold = pd.DataFrame()\n",
    "allPatients = []\n",
    "\n",
    "for patient in listPatients:    \n",
    "    print(patient)\n",
    "    adata = adataAll[adataAll.obs[\"samples\"]==patient]\n",
    "    #print(adata)\n",
    "    resultsFile = writeDir  + fileName + \"_\" +patient+'.h5ad'       # final output\n",
    "    \n",
    "    sc.pp.normalize_total(adata,target_sum=1e4)\n",
    "    sc.pp.log1p(adata)\n",
    "    sc.pp.highly_variable_genes(adata, flavor = \"seurat\", n_top_genes=2000)\n",
    "    adata.raw = adata\n",
    "    adata = adata[:, np.logical_and(adata.var.highly_variable, np.logical_not(adata.var.mt))]\n",
    "    sc.tl.pca(adata, n_comps = 50, svd_solver='arpack')\n",
    "    sc.pp.neighbors(adata, n_neighbors=20, n_pcs=40)\n",
    "    sc.tl.umap(adata)\n",
    "    sc.tl.leiden(adata, resolution=0.7)\n",
    "    scoreNames, newBClabel, ogLabelScoreMed = scH.scoreAndLabel(adata, sigGenes, labelOfSigGenes= [\"basal\",\"classical\",\"EMT\"], ogLabel=\"leiden\")\n",
    "\n",
    "    scoreMat = adata.obs[[f\"{sigName}Score\" for sigName in sigGenes.columns]]\n",
    "    adata.obs[\"zsig\"] = scH.zScores(scoreMat, cutoff = 0)\n",
    "\n",
    "    relabelDict = {}\n",
    "    for li in adata.obs.leiden.cat.categories:\n",
    "        mostCommon = Counter(adata[adata.obs.leiden==li].obs.zsig).most_common(2)\n",
    "        relabelDict[li] = mostCommon[0][0]\n",
    "    print(relabelDict)\n",
    "    #if(patient == \"T14\"):\n",
    "    #    relabelDict = {'0': 'scClassical', '1': 'scBasal', '2': 'scClassical', '3': 'scClassical', \n",
    "    #     '4': 'scClassical', '5': 'scClassical', '6': 'scClassical', '7': 'scClassical', \n",
    "    #     '8': 'scClassical', '9': 'scClassical', '10': 'scClassical', '11': 'scClassical', '12': 'scBasal', '13': 'scClassical'}\n",
    "    #elif(patient == \"T17\"):\n",
    "    #    relabelDict = {'0': 'scClassical', '1': 'scBasal', '2': 'scBasal', '3': 'scClassical', \n",
    "    #     '4': 'out', '5': 'scBasal', '6': 'scClassical', '7': 'out', '8': 'scClassical', '9': 'scClassical'}\n",
    "    #elif(patient == \"T18\"):\n",
    "    #    relabelDict ={'0': 'scClassical', '1': 'scBasal', '2': 'scClassical', '3': 'scClassical', \n",
    "    #                  '4': 'scBasal', '5': 'out', '6': 'scClassical', '7': 'scClassical', '8': 'scClassical', '9': 'EMT'}\n",
    "\n",
    "    adata.obs[\"cs\"] = [relabelDict[li] for li in adata.obs.leiden]\n",
    "    csHold = pd.concat([csHold,adata.obs[\"cs\"]])\n",
    "    sc.pl.umap(adata, color=[\"leiden\",\"celltypes\",\"zsig\",\"cs\"]+[f\"{sigName}Score\" for sigName in sigGenes.columns], \n",
    "               cmap=\"bwr\",ncols=4)\n",
    "    #adata.write(f'write/pdacHwang_{patient}.h5ad')\n",
    "    "
   ]
  },
  {
   "cell_type": "code",
   "execution_count": null,
   "id": "0b45dd5a-409b-4b98-a91d-b7917611cceb",
   "metadata": {},
   "outputs": [],
   "source": []
  },
  {
   "cell_type": "code",
   "execution_count": null,
   "id": "b4cf028c-becb-440d-9187-0504b15b0bc5",
   "metadata": {},
   "outputs": [],
   "source": [
    "adataAll.obs = adataAll.obs.join(csHold)\n",
    "adata = adataAll"
   ]
  },
  {
   "cell_type": "code",
   "execution_count": null,
   "id": "63691fcc-74f1-4e13-a6d0-fdb8f98616be",
   "metadata": {},
   "outputs": [],
   "source": [
    "sc.pp.normalize_total(adata,target_sum=1e4)\n",
    "sc.pp.log1p(adata)\n",
    "sc.pp.highly_variable_genes(adata, flavor = \"seurat\", n_top_genes=2000)\n",
    "adata.raw = adata\n",
    "adata = adata[:, np.logical_and(adata.var.highly_variable, np.logical_not(adata.var.mt))]\n",
    "sc.tl.pca(adata, n_comps = 100, svd_solver='arpack')\n",
    "sc.pp.neighbors(adata, n_neighbors=20, n_pcs=40)\n",
    "sc.tl.umap(adata)\n",
    "sc.tl.leiden(adata, resolution=0.6)\n",
    "sc.pl.umap(adata, color=[\"leiden\",\"cs\",\"celltypes\"], cmap=\"bwr\",ncols=3)\n"
   ]
  },
  {
   "cell_type": "code",
   "execution_count": null,
   "id": "c912f5b3-44e4-475d-843b-c0a93fefe47b",
   "metadata": {},
   "outputs": [],
   "source": [
    "cellstates = np.array(adata.obs.cs.values.copy())\n",
    "adata.obs[\"csSimp\"] = cellstates\n",
    "for i,ct in enumerate(adata.obs.celltypes.values):\n",
    "    if ct != \"Ductal cell type 2\":\n",
    "        cellstates[i] = ct\n",
    "adata.obs[\"cs\"] = cellstates"
   ]
  },
  {
   "cell_type": "code",
   "execution_count": null,
   "id": "af40ea7f-dc91-42b2-af3e-1040e5fc5639",
   "metadata": {},
   "outputs": [],
   "source": [
    "#adata.write(\"write/pdacHumanSmall.h5ad\")"
   ]
  },
  {
   "cell_type": "code",
   "execution_count": null,
   "id": "c584f101-799f-4d81-ab89-37de6eef3b1f",
   "metadata": {},
   "outputs": [],
   "source": [
    "qcdata = sc.read_h5ad(resultsFileQC)\n",
    "print(sum(qcdata.X.todense()))\n",
    "\n",
    "rdata = adata.raw.to_adata()\n",
    "\n",
    "qcdata = qcdata[rdata.obs_names,:]\n",
    "rdata.layers[\"counts\"] = qcdata.X.copy()\n",
    "rdata.obs = rdata.obs[['samples','leiden','cs',\"csSimp\",\"celltypes\"]]\n",
    "rdata.write('write/pdacHumanAll_Labeled.h5ad')\n",
    "rdata"
   ]
  },
  {
   "cell_type": "code",
   "execution_count": null,
   "id": "8dd14985-8253-47ee-89b3-7c2dc967914a",
   "metadata": {},
   "outputs": [],
   "source": [
    "rdata[[ct==\"Ductal cell type 2\" for ct in rdata.obs.celltypes],:].write('write/pdacHumanDCT2_Labeled.h5ad')"
   ]
  },
  {
   "cell_type": "code",
   "execution_count": null,
   "id": "695ddb4b-c505-475d-a4bc-ac5813a9df78",
   "metadata": {},
   "outputs": [],
   "source": [
    "sc.pl.umap(adata, color=[\"samples\",\"cs\",\"celltypes\",\"csSimp\"], cmap=\"bwr\",ncols=3)"
   ]
  },
  {
   "cell_type": "code",
   "execution_count": null,
   "id": "1e7d295b-5c19-4ac2-b7a7-8f2d1806b4a1",
   "metadata": {},
   "outputs": [],
   "source": [
    "#adata.write(\"write/pdacHumanAllLab.h5ad\")"
   ]
  },
  {
   "cell_type": "code",
   "execution_count": null,
   "id": "59e6e14f-39d6-4290-8a74-e8b4e39faa55",
   "metadata": {},
   "outputs": [],
   "source": [
    "adata.obs.samples.value_counts()"
   ]
  },
  {
   "cell_type": "code",
   "execution_count": null,
   "id": "f2ca2f05-bda4-4657-971d-c3cfa5eb61a1",
   "metadata": {},
   "outputs": [],
   "source": [
    "mostCom = [\"T14\",\"T17\",\"T9\",\"T22\",\"T18\"]\n",
    "mcAdata = adata[[(sam in mostCom) for sam in adata.obs.samples],:]\n",
    "mcAdata = mcAdata[[ct == \"Ductal cell type 2\" for ct in mcAdata.obs.celltypes]]"
   ]
  },
  {
   "cell_type": "code",
   "execution_count": null,
   "id": "938e9501-aecb-444b-aeee-6122e4d280b7",
   "metadata": {},
   "outputs": [],
   "source": [
    "sc.pl.umap(mcAdata, color=[\"samples\",\"cs\",\"celltypes\",\"csSimp\"], cmap=\"bwr\",ncols=3)"
   ]
  },
  {
   "cell_type": "code",
   "execution_count": null,
   "id": "53cac4c6-d2ca-45eb-bfa8-a88a1bbf6a80",
   "metadata": {},
   "outputs": [],
   "source": [
    "adata = sc.read_h5ad(\"write/pdacHumanAllLab.h5ad\")\n",
    "sc.pl.umap(adata, color=[\"samples\",\"cs\",\"celltypes\",\"csSimp\"], cmap=\"bwr\",ncols=3)\n",
    "\n",
    "qcdata = sc.read_h5ad(resultsFileQC)\n",
    "print(sum(qcdata.X.todense()))\n",
    "\n",
    "rdata = adata.raw.to_adata()\n",
    "\n",
    "qcdata = qcdata[rdata.obs_names,:]\n",
    "rdata.layers[\"counts\"] = qcdata.X.copy()\n",
    "rdata.obs = rdata.obs[['samples','leiden','cs']]\n",
    "rdata.write('write/pdacHumanAll_Labeled.h5ad')\n",
    "rdata"
   ]
  },
  {
   "cell_type": "code",
   "execution_count": null,
   "id": "2700b3f0-2381-4dc4-8383-eca7f4f0d353",
   "metadata": {},
   "outputs": [],
   "source": []
  }
 ],
 "metadata": {
  "kernelspec": {
   "display_name": "Python 3 (ipykernel)",
   "language": "python",
   "name": "python3"
  },
  "language_info": {
   "codemirror_mode": {
    "name": "ipython",
    "version": 3
   },
   "file_extension": ".py",
   "mimetype": "text/x-python",
   "name": "python",
   "nbconvert_exporter": "python",
   "pygments_lexer": "ipython3",
   "version": "3.8.16"
  }
 },
 "nbformat": 4,
 "nbformat_minor": 5
}
