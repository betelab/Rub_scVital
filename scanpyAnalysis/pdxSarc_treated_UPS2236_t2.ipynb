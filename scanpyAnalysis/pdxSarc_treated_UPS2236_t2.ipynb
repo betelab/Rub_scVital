{
 "cells": [
  {
   "cell_type": "code",
   "execution_count": null,
   "id": "d5b884d0-d29a-484d-9994-840658b363f8",
   "metadata": {},
   "outputs": [],
   "source": [
    "import numpy as np\n",
    "import pandas as pd\n",
    "import scanpy as sc\n",
    "import scanpy.external as scex\n",
    "import sklearn.metrics\n",
    "from matplotlib import pyplot as plt\n",
    "import matplotlib.cm\n",
    "import bbknn\n",
    "import seaborn as sns\n",
    "from scipy import stats\n",
    "from sklearn.mixture import GaussianMixture as GMM\n",
    "from scipy.stats import norm"
   ]
  },
  {
   "cell_type": "code",
   "execution_count": null,
   "id": "422005b3-4134-40a2-b76a-5e42290030e0",
   "metadata": {},
   "outputs": [],
   "source": [
    "#adata.uns['log1p']['base'] = None"
   ]
  },
  {
   "cell_type": "code",
   "execution_count": null,
   "id": "611a7414-9be4-4d6e-a5e7-d7dfb5305714",
   "metadata": {},
   "outputs": [],
   "source": [
    "%matplotlib inline"
   ]
  },
  {
   "cell_type": "code",
   "execution_count": null,
   "id": "a2e9cab1-cae8-4682-a9d7-9a5dd3c0b36e",
   "metadata": {},
   "outputs": [],
   "source": [
    "inputFile = \"../../data/sarcoma/sarcPDX_Treat_UPS2236/wk1_filtered_feature_bc_matrix.h5\""
   ]
  },
  {
   "cell_type": "code",
   "execution_count": null,
   "id": "f80b4fbb-bf92-4eaf-8c0a-cd4c0e24bd0f",
   "metadata": {},
   "outputs": [],
   "source": [
    "writeLoc = \"../../write/\"\n",
    "\n",
    "fileName = \"sarcPDX_Treat_ctw1_UPS2236_V5\"\n",
    "\n",
    "resultsFile = writeLoc + fileName + '.h5ad'  # the file that will store the analysis results\n",
    "resultsFileQC = writeLoc + fileName + '_QC.h5ad'  \n",
    "#results_file_ = writeLoc + fileName + '_fTry.h5ad'"
   ]
  },
  {
   "cell_type": "code",
   "execution_count": null,
   "id": "5654f29d-f19b-4d7b-9621-01079a70c267",
   "metadata": {},
   "outputs": [],
   "source": [
    "adata =  sc.read_10x_h5(inputFile, gex_only=False)\n",
    "adata\n"
   ]
  },
  {
   "cell_type": "code",
   "execution_count": null,
   "id": "4ca88094-97df-4e35-8a66-6c4fddf3f15c",
   "metadata": {},
   "outputs": [],
   "source": [
    "np.unique(adata.var.genome)"
   ]
  },
  {
   "cell_type": "code",
   "execution_count": null,
   "id": "ac9e8af7-0358-4c17-aa8a-5a6b87a345f9",
   "metadata": {},
   "outputs": [],
   "source": [
    "#split up input into genes and hashes \n",
    "hto = adata[:,adata.var[\"feature_types\"] == \"Antibody Capture\"]\n",
    "adata = adata[:,adata.var[\"feature_types\"] == \"Gene Expression\"]\n",
    "adata.obs = pd.DataFrame(hto.X.todense(), columns=hto.var_names, index=adata.obs.index)"
   ]
  },
  {
   "cell_type": "code",
   "execution_count": null,
   "id": "a2f82f79-2fff-4160-a5e3-860522dfd210",
   "metadata": {},
   "outputs": [],
   "source": [
    "adata.var_names_make_unique()"
   ]
  },
  {
   "cell_type": "code",
   "execution_count": null,
   "id": "1c28b1c5-f931-48e8-97a9-9803ea6789de",
   "metadata": {},
   "outputs": [],
   "source": [
    "hto.var_names"
   ]
  },
  {
   "cell_type": "code",
   "execution_count": null,
   "id": "a34660f7-1a10-4796-8d4b-319fb53a94a3",
   "metadata": {},
   "outputs": [],
   "source": [
    "sc.pl.highest_expr_genes(adata, n_top=20, )"
   ]
  },
  {
   "cell_type": "code",
   "execution_count": null,
   "id": "b8694640-4673-4e90-8742-49b8c6dc9a11",
   "metadata": {},
   "outputs": [],
   "source": [
    "adata"
   ]
  },
  {
   "cell_type": "code",
   "execution_count": null,
   "id": "007dc864-7780-480d-a03e-9b754cf75c4a",
   "metadata": {},
   "outputs": [],
   "source": [
    "valX = adata.X>0\n",
    "minGenes=450\n",
    "minCells=3\n",
    "\n",
    "fig, axs = plt.subplots(2, figsize=(8, 4))\n",
    "\n",
    "numCellwExp = valX.sum(axis=1)\n",
    "axs[0].hist(np.log(numCellwExp), bins=100)#, log=True)\n",
    "axs[0].axvline(np.log(minGenes), color='k', linestyle='dashed', linewidth=1)\n",
    "axs[0].set_xlabel('sum cell with exp counts')\n",
    "axs[0].set_ylabel('counts')\n",
    "\n",
    "numGeneswExp = valX.sum(axis=0).T\n",
    "axs[1].hist(np.log(numGeneswExp+1), bins=100, log=True)\n",
    "axs[1].axvline(np.log(minCells+1), color='k', linestyle='dashed', linewidth=1)\n",
    "axs[1].set_xlabel('sum cell have exp counts')\n",
    "axs[1].set_ylabel('counts')\n",
    "\n",
    "fig.show()"
   ]
  },
  {
   "cell_type": "code",
   "execution_count": null,
   "id": "92526dd1-d9db-465e-a59b-e1a7cabbe04f",
   "metadata": {},
   "outputs": [],
   "source": [
    "sc.pp.filter_cells(adata, min_genes = minGenes)\n",
    "sc.pp.filter_genes(adata, min_cells = minCells)"
   ]
  },
  {
   "cell_type": "code",
   "execution_count": null,
   "id": "952f77a9-ba46-45b2-bee5-5dc106fd28b7",
   "metadata": {
    "tags": []
   },
   "outputs": [],
   "source": [
    "from collections import Counter\n",
    "print(Counter(adata.var_names.str.startswith('GRCh38_')))\n",
    "print(Counter(adata.var_names.str.startswith('GRCh38_MT-')))\n",
    "\n",
    "print(Counter(adata.var_names.str.startswith('mm10___')))\n",
    "print(Counter(adata.var_names.str.startswith('mm10___mt-')))"
   ]
  },
  {
   "cell_type": "code",
   "execution_count": null,
   "id": "f22ed0fd-834e-4677-b084-8bfc03aca355",
   "metadata": {
    "tags": []
   },
   "outputs": [],
   "source": [
    "adata.var['human'] = adata.var_names.str.startswith('GRCh38_')  # annotate the group of human genes as 'human'\n",
    "adata.var['mouse'] = adata.var_names.str.startswith('mm10___')  # annotate the group of mouse genes as 'mouse'\n",
    "\n",
    "sc.pp.calculate_qc_metrics(adata, qc_vars=['human'], percent_top=None, log1p=False, inplace=True)\n",
    "sc.pp.calculate_qc_metrics(adata, qc_vars=['mouse'], percent_top=None, log1p=False, inplace=True)"
   ]
  },
  {
   "cell_type": "code",
   "execution_count": null,
   "id": "e4c8c171-1840-418a-bc0b-dc6d1b343ac4",
   "metadata": {
    "tags": []
   },
   "outputs": [],
   "source": [
    "sc.pl.violin(adata, ['pct_counts_mouse', 'pct_counts_human'],\n",
    "             jitter=0.4, multi_panel=True, log = True)"
   ]
  },
  {
   "cell_type": "code",
   "execution_count": null,
   "id": "2691fe11-a140-4f07-bfa5-e3797abc29ce",
   "metadata": {
    "tags": []
   },
   "outputs": [],
   "source": [
    "sc.pl.violin(adata, ['n_genes_by_counts', 'total_counts'],\n",
    "             jitter=0.4, multi_panel=True)"
   ]
  },
  {
   "cell_type": "code",
   "execution_count": null,
   "id": "c18124b1-e333-465c-85c2-2009ef2a69e1",
   "metadata": {
    "tags": []
   },
   "outputs": [],
   "source": [
    "sum(adata.obs.pct_counts_mouse < 1)"
   ]
  },
  {
   "cell_type": "code",
   "execution_count": null,
   "id": "ba196470-3e76-4bda-a3f2-df2f2379966b",
   "metadata": {},
   "outputs": [],
   "source": [
    "adata"
   ]
  },
  {
   "cell_type": "code",
   "execution_count": null,
   "id": "22c98c06-9b02-4f0f-bc7f-6808f4425c13",
   "metadata": {
    "tags": []
   },
   "outputs": [],
   "source": [
    "adata = adata[adata.obs.pct_counts_mouse < 1, :]\n",
    "adata = adata[:,adata.var_names.str.startswith('GRCh38_')]\n",
    "adata"
   ]
  },
  {
   "cell_type": "code",
   "execution_count": null,
   "id": "a15e936f-0c5d-47de-b9fc-b05e6b77d455",
   "metadata": {
    "tags": []
   },
   "outputs": [],
   "source": [
    "sc.pl.violin(adata, ['pct_counts_mouse', 'pct_counts_human'],\n",
    "             jitter=0.4, multi_panel=True, log = True)"
   ]
  },
  {
   "cell_type": "code",
   "execution_count": null,
   "id": "3cc1cde0-4c27-41d4-ab8f-7d5eb2b1cbb7",
   "metadata": {
    "tags": []
   },
   "outputs": [],
   "source": [
    "adata.var['hMT'] = adata.var_names.str.startswith('GRCh38_MT-')  # annotate the group of human mitochondrial genes as 'hMT'\n",
    "#adata.var['hMT'] = adata.var_names.str.startswith('mm10___mt-')  # annotate the group of mouse mitochondrial genes as 'mmt'\n",
    "\n",
    "sc.pp.calculate_qc_metrics(adata, qc_vars=['hMT'], percent_top=None, log1p=False, inplace=True)\n",
    "#sc.pp.calculate_qc_metrics(adata, qc_vars=['mmt'], percent_top=None, log1p=False, inplace=True)"
   ]
  },
  {
   "cell_type": "code",
   "execution_count": null,
   "id": "af255745-3f21-485e-b968-5e85f690cc07",
   "metadata": {
    "tags": []
   },
   "outputs": [],
   "source": [
    "sc.pl.violin(adata, ['n_genes_by_counts', 'total_counts', \"pct_counts_hMT\"], #pct_counts_mmt\n",
    "             jitter=0.4, multi_panel=True)"
   ]
  },
  {
   "cell_type": "code",
   "execution_count": null,
   "id": "407d20e7-490f-4c2d-86e4-c01dd0546c0f",
   "metadata": {
    "tags": []
   },
   "outputs": [],
   "source": [
    "sc.pl.scatter(adata, x='total_counts', y='pct_counts_hMT')\n",
    "sc.pl.scatter(adata, x='total_counts', y='n_genes_by_counts')"
   ]
  },
  {
   "cell_type": "code",
   "execution_count": null,
   "id": "34a90bb1-3030-44f2-8474-acc482031990",
   "metadata": {
    "tags": []
   },
   "outputs": [],
   "source": [
    "adata"
   ]
  },
  {
   "cell_type": "code",
   "execution_count": null,
   "id": "9ec14367-37dc-4b58-aec2-a420d7408c8a",
   "metadata": {
    "tags": []
   },
   "outputs": [],
   "source": [
    "adata = adata[adata.obs.n_genes_by_counts < 5250, :]\n",
    "adata = adata[adata.obs.n_genes_by_counts > 1000, :]\n",
    "adata = adata[adata.obs.total_counts < 20000, :]\n",
    "adata = adata[adata.obs.pct_counts_hMT < 10, :]"
   ]
  },
  {
   "cell_type": "code",
   "execution_count": null,
   "id": "e802b71e-a8bf-4585-9e52-b14c58d5a924",
   "metadata": {
    "tags": []
   },
   "outputs": [],
   "source": [
    "sc.pl.violin(adata, ['n_genes_by_counts', 'total_counts', \"pct_counts_hMT\"], #pct_counts_mmt\n",
    "             jitter=0.4, multi_panel=True)"
   ]
  },
  {
   "cell_type": "code",
   "execution_count": null,
   "id": "39335efa-6fa9-4aac-a8bc-55a69597fe30",
   "metadata": {},
   "outputs": [],
   "source": [
    "hto.var_names"
   ]
  },
  {
   "cell_type": "code",
   "execution_count": null,
   "id": "b02a9abe-4eca-4d30-912c-5809fbf54803",
   "metadata": {},
   "outputs": [],
   "source": [
    "import scanpy.external as sce\n",
    "sce.pp.hashsolo(adata, hto.var_names)#number_of_noise_barcodes = 1\n",
    "adata.obs.head()"
   ]
  },
  {
   "cell_type": "code",
   "execution_count": null,
   "id": "bbab5350-bd59-4b86-a799-f319e4da8e11",
   "metadata": {},
   "outputs": [],
   "source": [
    "sc.pl.heatmap(adata, hto.var_names, groupby=\"Classification\", log=True)"
   ]
  },
  {
   "cell_type": "code",
   "execution_count": null,
   "id": "7f222bc4-e351-43ee-b4f7-dda8f2fbb93d",
   "metadata": {},
   "outputs": [],
   "source": [
    "hto.var_names"
   ]
  },
  {
   "cell_type": "code",
   "execution_count": null,
   "id": "948fb100-edf0-4490-84a6-2f0031b15e84",
   "metadata": {},
   "outputs": [],
   "source": [
    "len(hto.var_names)"
   ]
  },
  {
   "cell_type": "code",
   "execution_count": null,
   "id": "2152703c-0362-419e-9163-337ef8cdc876",
   "metadata": {},
   "outputs": [],
   "source": [
    "Counter(adata.obs[\"Classification\"])"
   ]
  },
  {
   "cell_type": "code",
   "execution_count": null,
   "id": "f7821196-4b6b-467e-950e-5ba3a91caaaa",
   "metadata": {
    "tags": []
   },
   "outputs": [],
   "source": [
    "hashCounts = adata.obs[hto.var_names]\n",
    "hashCounts.describe([0.01,.1,.2,.3,.4,.5,.6,.7,.8,.9,0.99])"
   ]
  },
  {
   "cell_type": "code",
   "execution_count": null,
   "id": "7aa283f9-bda4-400f-8b0f-8b16a497a136",
   "metadata": {
    "tags": []
   },
   "outputs": [],
   "source": [
    "#hashCount = np.log1p(adata.obs[hashName])\n",
    "#len(hashCount)"
   ]
  },
  {
   "cell_type": "code",
   "execution_count": null,
   "id": "43e2c24e-0a9c-41fe-8499-0a0dbb0050ac",
   "metadata": {},
   "outputs": [],
   "source": [
    "fig, axs = plt.subplots(2,5)\n",
    "dfHashBoundry = pd.DataFrame(np.zeros(len(hto.var_names)),hto.var_names, columns=[\"boundry\"])\n",
    "gmm = GMM(n_components = 2, random_state=10,  n_init=5, covariance_type = 'full', means_init=[[2],[7]])#\n",
    "#binEx = np.arange(0.5,10,10/200).reshape(-1,1)\n",
    "\n",
    "for i, hashName in enumerate(hto.var_names):\n",
    "    hashCount = np.log1p(adata.obs[hashName]).values\n",
    "    trimV = 1*len(hashCount)//100\n",
    "    hashCount = np.sort(hashCount)[trimV:].reshape(-1, 1)\n",
    "    fitGMM = gmm.fit(hashCount)\n",
    "    mean = fitGMM.means_  \n",
    "    covs  = fitGMM.covariances_\n",
    "    weights = fitGMM.weights_\n",
    "    #print(mean)\n",
    "    binEx = np.arange(min(mean),max(mean),0.1).reshape(-1,1)\n",
    "    fitGmmBound = fitGMM.predict(binEx)\n",
    "    #print(fitGmmBound)\n",
    "    hashBoundry = binEx[np.where(fitGmmBound == 1)[0][0]][0]\n",
    "    \n",
    "    dfHashBoundry.loc[hashName] = hashBoundry\n",
    "    \n",
    "    x_axis = np.arange(0, 12, 0.1)\n",
    "    y_axis0 = norm.pdf(x_axis, float(mean[0][0]), np.sqrt(float(covs[0][0][0])))*weights[0] # 1st gaussian\n",
    "    y_axis1 = norm.pdf(x_axis, float(mean[1][0]), np.sqrt(float(covs[1][0][0])))*weights[1] # 2nd gaussian\n",
    "\n",
    "    # Plot 2\n",
    "    axs[i//5,i%5].set_title(hashName)\n",
    "    #axs[i//5,i%5].axvline(naiveBoundry, c='C3', linestyle='dashed', linewidth=1) #red\n",
    "    axs[i//5,i%5].axvline(hashBoundry, c='C2', linestyle='dashed', linewidth=1)  #green\n",
    "    axs[i//5,i%5].hist(hashCount, density=True, color='black', bins=100)        \n",
    "    axs[i//5,i%5].plot(x_axis, y_axis0, lw=3, c='C6')                            #pink\n",
    "    axs[i//5,i%5].plot(x_axis, y_axis1, lw=3, c='C1')                            #orange\n",
    "    axs[i//5,i%5].plot(x_axis, y_axis0+y_axis1, lw=3, c='C0', ls=':')            #dotted blue\n",
    "    \n",
    "plt.tight_layout(pad=1.0)\n",
    "plt.rcParams[\"figure.figsize\"] = (20,5)\n",
    "plt.show()"
   ]
  },
  {
   "cell_type": "code",
   "execution_count": null,
   "id": "af0f8dfd-bbdf-4ec7-8429-c48a55648a8a",
   "metadata": {},
   "outputs": [],
   "source": [
    "hashIDs = hashCounts.copy()\n",
    "hashID = hto.var_names\n",
    "for hashName in hto.var_names:\n",
    "    print(hashName)\n",
    "    print(dfHashBoundry.loc[hashName].values[0])\n",
    "    hashIDs.loc[:,hashName] = np.log1p(hashCounts.loc[:,hashName]) > dfHashBoundry.loc[hashName].values[0]\n",
    "hashIDs"
   ]
  },
  {
   "cell_type": "code",
   "execution_count": null,
   "id": "f5483fdd-1d61-4260-b28b-9e38467db142",
   "metadata": {},
   "outputs": [],
   "source": [
    "classification = np.empty(len(adata), dtype=\"object\")\n",
    "i = 0\n",
    "for cellBar, hashBool in hashIDs.iterrows():\n",
    "    numHashes = sum(hashBool)\n",
    "    if (numHashes == 1):\n",
    "        classif = hashID[hashBool.values].values[0]\n",
    "    elif (numHashes > 1):\n",
    "        classif = \"doublet\"\n",
    "    else:\n",
    "        classif = \"negative\"\n",
    "    classification[i] = classif\n",
    "    i = i + 1\n",
    "    #break"
   ]
  },
  {
   "cell_type": "code",
   "execution_count": null,
   "id": "2210ffd2-a7f1-4bbc-8a5f-20fdf762545a",
   "metadata": {},
   "outputs": [],
   "source": [
    "adata.obs[\"ClassGMM\"] = classification\n",
    "adata.obs[\"ClassGMM\"].value_counts()"
   ]
  },
  {
   "cell_type": "code",
   "execution_count": null,
   "id": "f7513a74-a512-403c-9d3a-8f7d6b2f4724",
   "metadata": {
    "tags": []
   },
   "outputs": [],
   "source": [
    "sc.pl.heatmap(adata, hto.var_names, groupby=\"ClassGMM\", log=True)#, save = f\"_{figName}_hash.png\")"
   ]
  },
  {
   "cell_type": "code",
   "execution_count": null,
   "id": "e614eae5-37e3-4c49-b393-f605762b44be",
   "metadata": {},
   "outputs": [],
   "source": [
    "sc.pl.heatmap(adata, hto.var_names, groupby=\"Classification\", log=True)#, save = f\"_{figName}_hash.png\")"
   ]
  },
  {
   "cell_type": "code",
   "execution_count": null,
   "id": "bef88622-f3a9-47a8-9e3e-7519b7391cf2",
   "metadata": {},
   "outputs": [],
   "source": [
    "singlets = [x in hto.var_names for x in adata.obs[\"Classification\"]]\n",
    "adata = adata[singlets,]\n",
    "adata"
   ]
  },
  {
   "cell_type": "code",
   "execution_count": null,
   "id": "87ba82a5-d295-4514-b1fb-8e97561fb6d8",
   "metadata": {},
   "outputs": [],
   "source": [
    "sarc =  {\n",
    "    'UPS2236_1wk1_J':'wk1',  \n",
    "    'UPS2236_Control1_G':'ctl',\n",
    "    'UPS2236_1wk4_C':'wk1',\n",
    "    'UPS2236_1wk2_A':'wk1',\n",
    "    'UPS2236_1wk3_B':'wk1',\n",
    "    'UPS2236_Control2_H':'ctl',\n",
    "    'UPS2236_Control4_E':'ctl',\n",
    "    'UPS2236_Control3_D':'ctl',\n",
    "    'UPS2236_Control5_F':'ctl'}\n",
    "adata.obs[\"sarc\"] = [sarc[x] for x in adata.obs[\"Classification\"]]"
   ]
  },
  {
   "cell_type": "code",
   "execution_count": null,
   "id": "8eb71738-53e5-45c5-8ace-781c83a9eb34",
   "metadata": {},
   "outputs": [],
   "source": [
    "resultsFileQC"
   ]
  },
  {
   "cell_type": "code",
   "execution_count": null,
   "id": "1bfb1b79-b298-4cc5-8bd9-cf20df5c2bfa",
   "metadata": {},
   "outputs": [],
   "source": [
    "#['RPS8370_pSpCTRE_B0256', 'UPS2236_B0255']\n",
    "#ups = [x in [\"UPS\"] for x in adata.obs[\"sarc\"]]\n",
    "#adata = adata[ups,]\n",
    "#adata"
   ]
  },
  {
   "cell_type": "code",
   "execution_count": null,
   "id": "a5308344-02d0-46a0-8f95-b7faa6fd48ed",
   "metadata": {},
   "outputs": [],
   "source": [
    "sc.set_figure_params(scanpy=True, dpi=100, dpi_save=150, fontsize=12, format='svg')"
   ]
  },
  {
   "cell_type": "code",
   "execution_count": null,
   "id": "f0cb5ca6-de78-4cf2-903a-02a38554ffc0",
   "metadata": {},
   "outputs": [],
   "source": [
    "adata.var_names = [x.split(\"_\")[1] for x in adata.var_names]\n",
    "adata.var_names_make_unique()"
   ]
  },
  {
   "cell_type": "code",
   "execution_count": null,
   "id": "316b1e8d-b7b0-4b00-a55e-d351977d7287",
   "metadata": {},
   "outputs": [],
   "source": [
    "adata = adata[:,\"MALAT1\" != adata.var_names]"
   ]
  },
  {
   "cell_type": "code",
   "execution_count": null,
   "id": "b68bc012-8e1c-4c6e-b8fb-5b539b96c359",
   "metadata": {},
   "outputs": [],
   "source": [
    "#adata = sc.read(resultsFileQC)\n",
    "adata.write(resultsFileQC)\n",
    "adata.layers[\"counts\"]=adata.X.copy()\n",
    "adata"
   ]
  },
  {
   "cell_type": "code",
   "execution_count": null,
   "id": "61fd47c8-a8f9-42f2-a1ec-44f90875a2b6",
   "metadata": {},
   "outputs": [],
   "source": [
    "#acta2 = adata[:,\"ACTA2\" == adata.var_names]\n",
    "#print(sum(acta2.X.todense()>0))\n",
    "#print(sum(acta2.X.todense()))\n",
    "#acta2.var"
   ]
  },
  {
   "cell_type": "code",
   "execution_count": null,
   "id": "c96eeb14-956c-4b35-afce-9be666570267",
   "metadata": {},
   "outputs": [],
   "source": [
    "sc.pp.normalize_total(adata, target_sum=1e4)#, exclude_highly_expressed=True"
   ]
  },
  {
   "cell_type": "code",
   "execution_count": null,
   "id": "a2fb9346-85c7-422b-8491-8942f7fd362b",
   "metadata": {},
   "outputs": [],
   "source": [
    "#acta2 = adata[:,\"ACTA2\" == adata.var_names]\n",
    "#print(sum(acta2.X.todense()>0))\n",
    "#print(sum(acta2.X.todense()))\n",
    "#acta2.var"
   ]
  },
  {
   "cell_type": "code",
   "execution_count": null,
   "id": "788291cb-22d6-45bd-8067-690a27ab7aa5",
   "metadata": {},
   "outputs": [],
   "source": [
    "sc.pp.log1p(adata)"
   ]
  },
  {
   "cell_type": "code",
   "execution_count": null,
   "id": "6ae377f4-72cc-43e0-9110-33400796c1b3",
   "metadata": {},
   "outputs": [],
   "source": [
    "#acta2 = adata[:,\"ACTA2\" == adata.var_names]\n",
    "#print(sum(acta2.X.todense()>0))\n",
    "#print(sum(acta2.X.todense()))\n",
    "#acta2.var"
   ]
  },
  {
   "cell_type": "code",
   "execution_count": null,
   "id": "7ee4fa49-5eb3-492b-bc5e-948a1446fd0f",
   "metadata": {},
   "outputs": [],
   "source": [
    "cell_cycle_genes = [x.strip() for x in open('../../data/regev_lab_cell_cycle_genes_Human.txt')]\n",
    "s_genes = cell_cycle_genes[:43]\n",
    "g2m_genes = cell_cycle_genes[43:]\n",
    "cell_cycle_genes = [x for x in cell_cycle_genes if x in adata.var_names]"
   ]
  },
  {
   "cell_type": "code",
   "execution_count": null,
   "id": "5fe8b665-fa57-40a7-bc46-4d163ac7a3d9",
   "metadata": {},
   "outputs": [],
   "source": [
    "sc.tl.score_genes_cell_cycle(adata, s_genes=s_genes, g2m_genes=g2m_genes)"
   ]
  },
  {
   "cell_type": "code",
   "execution_count": null,
   "id": "6e7e3d41-b71d-4b4f-ae76-9d3e944ad872",
   "metadata": {},
   "outputs": [],
   "source": [
    "adata_cc_genes = adata[:, cell_cycle_genes]\n",
    "sc.tl.pca(adata_cc_genes)\n",
    "sc.pl.pca(adata_cc_genes, color=['phase',\"Classification\"])"
   ]
  },
  {
   "cell_type": "code",
   "execution_count": null,
   "id": "5b8ce2eb-abb9-40c3-9665-ac7a7d2f8fda",
   "metadata": {},
   "outputs": [],
   "source": [
    "sc.pp.highly_variable_genes(adata)#, n_top_genes=2000,  flavor=\"seurat_v3\",layer=\"counts\")\n",
    "#min_disp=0.5,min_mean=0.0125, max_mean=3, span=0.3, n_bins=20,"
   ]
  },
  {
   "cell_type": "code",
   "execution_count": null,
   "id": "79ef165e-4798-4265-a971-fa47999d235f",
   "metadata": {},
   "outputs": [],
   "source": [
    "minMean = 0.045\n",
    "maxMean = 2.9\n",
    "minDisp = 0.35\n",
    "\n",
    "fig, axs = plt.subplots(1, 2, figsize=(10, 5))\n",
    "\n",
    "means = adata.var[[\"means\"]][adata.var[[\"means\"]] > np.exp(-14)]#adata.var[[\"means\"]],\n",
    "axs[0].hist(np.log(means), bins=100)#, log=True),\n",
    "axs[0].axvline(np.log(minMean), color='k', linestyle='dashed', linewidth=1)\n",
    "axs[0].axvline(np.log(maxMean), color='k', linestyle='dashed', linewidth=1)\n",
    "axs[0].set_title('Gene means counts')\n",
    "axs[0].set_xlabel('means')\n",
    "axs[0].set_ylabel('counts')\n",
    "\n",
    "dispNorm = adata.var[[\"dispersions_norm\"]][adata.var[[\"dispersions_norm\"]] > np.exp(-10)]#adata.var[[\"means\"]],\n",
    "axs[1].hist(np.log(dispNorm), bins=100)#, log=True),\n",
    "axs[1].axvline(np.log(minDisp), color='k', linestyle='dashed', linewidth=1)\n",
    "axs[1].set_title('Gene dispersions counts')\n",
    "axs[1].set_xlabel('dispersions')\n",
    "axs[1].set_ylabel('counts')\n",
    "\n",
    "sc.pp.highly_variable_genes(adata, min_disp=minDisp, min_mean=minMean, max_mean=maxMean)\n",
    "print(sum(adata.var.highly_variable))"
   ]
  },
  {
   "cell_type": "code",
   "execution_count": null,
   "id": "03b2cfbe-387f-45c5-9a24-a26811f03125",
   "metadata": {},
   "outputs": [],
   "source": [
    "sum(adata.var.highly_variable)"
   ]
  },
  {
   "cell_type": "code",
   "execution_count": null,
   "id": "5ac526d1-1a2c-42c4-b000-ab21f0b01b1e",
   "metadata": {},
   "outputs": [],
   "source": [
    "sc.pl.highly_variable_genes(adata)"
   ]
  },
  {
   "cell_type": "code",
   "execution_count": null,
   "id": "2199c885-c363-4977-8225-186c2a05c36c",
   "metadata": {},
   "outputs": [],
   "source": [
    "adata.raw = adata"
   ]
  },
  {
   "cell_type": "code",
   "execution_count": null,
   "id": "738112bb-161c-4a07-bc6f-6529ba5a4f35",
   "metadata": {},
   "outputs": [],
   "source": [
    "adata = adata[:, np.logical_and(np.logical_not(adata.var.hMT), adata.var.highly_variable)]"
   ]
  },
  {
   "cell_type": "code",
   "execution_count": null,
   "id": "548020a3-9fe5-4165-a240-3d53b9317734",
   "metadata": {},
   "outputs": [],
   "source": [
    "#sc.pp.regress_out(adata, ['S_score', 'G2M_score','total_counts', 'pct_counts_hMT'])"
   ]
  },
  {
   "cell_type": "code",
   "execution_count": null,
   "id": "e9734a85-b6ee-442b-88b4-3a0f8e0fa13f",
   "metadata": {},
   "outputs": [],
   "source": [
    "#sc.pp.scale(adata, max_value=5)"
   ]
  },
  {
   "cell_type": "code",
   "execution_count": null,
   "id": "0aef11cd-c6e2-43bc-99c6-d0fffe467273",
   "metadata": {},
   "outputs": [],
   "source": [
    "sc.tl.pca(adata, n_comps=100,svd_solver='arpack')"
   ]
  },
  {
   "cell_type": "code",
   "execution_count": null,
   "id": "7d21cc28-f678-47ac-9650-700c7f9cef25",
   "metadata": {},
   "outputs": [],
   "source": [
    "sc.pl.pca_variance_ratio(adata, n_pcs=100, log=True)"
   ]
  },
  {
   "cell_type": "code",
   "execution_count": null,
   "id": "43112b6f-6277-4f9e-bcc7-88e8c9cb29e4",
   "metadata": {},
   "outputs": [],
   "source": [
    "sc.pl.pca(adata, color=[\"phase\"],ncols=3,annotate_var_explained=True, components=['1,2','1,3',\"1,4\", '2,3', '2,4', \"3,4\"])"
   ]
  },
  {
   "cell_type": "code",
   "execution_count": null,
   "id": "121f7aa2-1031-48b6-b2e0-831fafe7b4a0",
   "metadata": {},
   "outputs": [],
   "source": [
    "#adata.obsm[\"X_pca_1_40\"] = adata.obsm[\"X_pca\"][:,1:41]"
   ]
  },
  {
   "cell_type": "code",
   "execution_count": null,
   "id": "671b08ea-106d-4a3d-8050-046b9aaa29bc",
   "metadata": {},
   "outputs": [],
   "source": [
    "sc.pp.neighbors(adata, n_neighbors=25, n_pcs=60)#, use_rep=\"X_pca_1_40\")"
   ]
  },
  {
   "cell_type": "code",
   "execution_count": null,
   "id": "2fca7de5-36f2-4516-a943-3308c7cee861",
   "metadata": {},
   "outputs": [],
   "source": [
    "sc.tl.umap(adata)"
   ]
  },
  {
   "cell_type": "code",
   "execution_count": null,
   "id": "b1ada27a-7f52-4016-9f89-bd6e2c29e337",
   "metadata": {},
   "outputs": [],
   "source": [
    "sc.tl.leiden(adata, resolution = 0.4)"
   ]
  },
  {
   "cell_type": "code",
   "execution_count": null,
   "id": "b6ecc593-9466-4dca-aa1b-00992e3afa49",
   "metadata": {},
   "outputs": [],
   "source": [
    "sc.pl.umap(adata, color=['leiden',\"phase\",'sarc','Classification','total_counts', 'pct_counts_hMT'],ncols=2)"
   ]
  },
  {
   "cell_type": "code",
   "execution_count": null,
   "id": "56d02220-7f0b-4f20-9fd3-587576260bc4",
   "metadata": {},
   "outputs": [],
   "source": [
    "sc.tl.embedding_density(adata, basis='umap', groupby='sarc')"
   ]
  },
  {
   "cell_type": "code",
   "execution_count": null,
   "id": "3dcededf-4752-4cd2-91da-367f267cb5f5",
   "metadata": {},
   "outputs": [],
   "source": [
    "sc.pl.embedding_density(adata, basis='umap', key='umap_density_sarc')"
   ]
  },
  {
   "cell_type": "code",
   "execution_count": null,
   "id": "712f5c0a-58f3-432c-afca-32f644b47616",
   "metadata": {
    "tags": []
   },
   "outputs": [],
   "source": [
    "sc.pl.umap(adata, color=['COL1A1','DES','MDM2',\"CDK4\"],ncols=2)"
   ]
  },
  {
   "cell_type": "code",
   "execution_count": null,
   "id": "31091204-9e5a-445f-9c28-4a2efebd2d3b",
   "metadata": {},
   "outputs": [],
   "source": [
    "sc.pl.umap(adata, color=['FBN1','LUM',\"POSTN\"],ncols=3)"
   ]
  },
  {
   "cell_type": "code",
   "execution_count": null,
   "id": "1fef47f4-8bfe-4ab0-ad5e-217fbe4d3739",
   "metadata": {},
   "outputs": [],
   "source": [
    "sc.pl.umap(adata, color=[\"ACTA2\",\"VIM\"],ncols=3)"
   ]
  },
  {
   "cell_type": "code",
   "execution_count": null,
   "id": "db1cfdf3-9a57-4259-b89f-aee430a3a9c8",
   "metadata": {
    "tags": []
   },
   "outputs": [],
   "source": [
    "sc.pl.umap(adata, color=['COL4A1','PECAM1','CD34',\"RGS5\"],ncols=2)"
   ]
  },
  {
   "cell_type": "code",
   "execution_count": null,
   "id": "c8076d0a-4260-4334-8549-bdcfc2fbdc60",
   "metadata": {},
   "outputs": [],
   "source": [
    "sc.pl.umap(adata, color=['TPM2','TOP2A','VIM',\"ISG15\"],ncols=2)"
   ]
  },
  {
   "cell_type": "code",
   "execution_count": null,
   "id": "77d1b206-1bd2-4601-a238-2bb3b0510541",
   "metadata": {},
   "outputs": [],
   "source": [
    "sc.pl.umap(adata, color=['KRT18','GAPDH','LDHB',\"TPI1\"],ncols=2)"
   ]
  },
  {
   "cell_type": "code",
   "execution_count": null,
   "id": "ffb5c1b9-4e70-4936-9cfa-7592cecd803c",
   "metadata": {},
   "outputs": [],
   "source": [
    "sc.pl.umap(adata, color=['PTPRC'], ncols=2, use_raw=True)"
   ]
  },
  {
   "cell_type": "code",
   "execution_count": null,
   "id": "25ce7361-b0a6-45ed-9851-199e988183bf",
   "metadata": {},
   "outputs": [],
   "source": [
    "sc.tl.rank_genes_groups(adata, 'leiden', method='wilcoxon',use_raw=True)\n",
    "sc.pl.rank_genes_groups(adata, n_genes=25, sharey=False)"
   ]
  },
  {
   "cell_type": "code",
   "execution_count": null,
   "id": "57d760f5-9209-4198-94c8-b74d35088df7",
   "metadata": {},
   "outputs": [],
   "source": [
    "sc.tl.dendrogram(adata, groupby = 'leiden')\n",
    "sc.pl.rank_genes_groups_dotplot(adata, groupby = 'leiden',n_genes=4)"
   ]
  },
  {
   "cell_type": "code",
   "execution_count": null,
   "id": "a45bb297-2f54-4705-a7c2-29cfc62d352f",
   "metadata": {},
   "outputs": [],
   "source": [
    "sc.tl.rank_genes_groups(adata, 'leiden', method='wilcoxon',use_raw=False)\n",
    "sc.pl.rank_genes_groups(adata, n_genes=25, sharey=False)"
   ]
  },
  {
   "cell_type": "code",
   "execution_count": null,
   "id": "99c40f9e-4471-44e4-a81a-5d804b2a45f9",
   "metadata": {},
   "outputs": [],
   "source": [
    "sc.tl.dendrogram(adata, groupby = 'leiden')\n",
    "sc.pl.rank_genes_groups_dotplot(adata, groupby = 'leiden',n_genes=4)"
   ]
  },
  {
   "cell_type": "code",
   "execution_count": null,
   "id": "89267f58-d4d7-46f6-b7ed-c2693273aeb2",
   "metadata": {},
   "outputs": [],
   "source": [
    "pd.DataFrame(adata.uns['rank_genes_groups']['names']).head(10)"
   ]
  },
  {
   "cell_type": "code",
   "execution_count": null,
   "id": "85cbc28c-68c4-4e7f-a437-296157b8a94a",
   "metadata": {},
   "outputs": [],
   "source": [
    "markGenes = pd.DataFrame(adata.uns['rank_genes_groups']['names']).head(1).values.tolist()[0]\n",
    "markGenes"
   ]
  },
  {
   "cell_type": "code",
   "execution_count": null,
   "id": "548db889-5582-4ed8-b291-27df6e4b0c33",
   "metadata": {},
   "outputs": [],
   "source": [
    "sc.pl.umap(adata, color=markGenes,ncols=4)"
   ]
  },
  {
   "cell_type": "code",
   "execution_count": null,
   "id": "069d6fd4-c824-40d1-9c8a-777189c626bf",
   "metadata": {},
   "outputs": [],
   "source": [
    "topHVG = pd.DataFrame(adata.uns['rank_genes_groups']['names']).head(100)\n",
    "topHVG"
   ]
  },
  {
   "cell_type": "code",
   "execution_count": null,
   "id": "15a6e7ce-8db3-4924-ab68-007bb59faac2",
   "metadata": {},
   "outputs": [],
   "source": [
    "#topHVG.to_csv(\"hvg/treatedHvgups.csv\", index=False)"
   ]
  },
  {
   "cell_type": "markdown",
   "id": "b6047cf8-2322-49f3-ba89-b696f75858a7",
   "metadata": {},
   "source": [
    "compare 3 and 7 with mouse"
   ]
  },
  {
   "cell_type": "markdown",
   "id": "005366ca-0b29-45e3-b89c-2cae15d2a4a1",
   "metadata": {},
   "source": [
    "compare 7 to other pdxs"
   ]
  },
  {
   "cell_type": "code",
   "execution_count": null,
   "id": "25578f27-afe5-4e19-ba1b-c6832b2d63bb",
   "metadata": {},
   "outputs": [],
   "source": [
    "#sc.set_figure_params(scanpy=True, dpi=100, dpi_save=300, fontsize=18, format='svg',color_map=\"magma\")\n",
    "#sc.settings.figdir = \"figures/scSarcTime_Grant/\""
   ]
  },
  {
   "cell_type": "code",
   "execution_count": null,
   "id": "c0ac053d-7d52-4964-8f07-8a425a1d8e29",
   "metadata": {},
   "outputs": [],
   "source": [
    "sc.tl.dendrogram(adata, groupby = 'leiden')\n",
    "sc.pl.rank_genes_groups_dotplot(adata, groupby = 'leiden',n_genes=4)"
   ]
  },
  {
   "cell_type": "code",
   "execution_count": null,
   "id": "bdaaf8aa-bf71-484f-b336-143e7dc78955",
   "metadata": {},
   "outputs": [],
   "source": [
    "sc.tl.rank_genes_groups(adata, groupby = 'Classification', method=\"wilcoxon\", key_added=\"classMark\")\n",
    "pd.DataFrame(adata.uns[\"classMark\"]['names']).head(10)"
   ]
  },
  {
   "cell_type": "code",
   "execution_count": null,
   "id": "fa4d9079-dc3a-40ee-a4cd-e0eaa6092ff4",
   "metadata": {},
   "outputs": [],
   "source": [
    "sc.tl.rank_genes_groups(adata, groupby = 'sarc', method=\"wilcoxon\", key_added=\"sarcMark\")\n",
    "pd.DataFrame(adata.uns[\"sarcMark\"]['names']).head(10)"
   ]
  },
  {
   "cell_type": "code",
   "execution_count": null,
   "id": "85ee60b8-1c0e-4fc6-a006-88c07387b01e",
   "metadata": {},
   "outputs": [],
   "source": [
    "sc.tl.dendrogram(adata, groupby = 'leiden')\n",
    "sc.pl.rank_genes_groups_heatmap(adata, groupby = 'leiden')"
   ]
  },
  {
   "cell_type": "code",
   "execution_count": null,
   "id": "f322ded2-c885-4112-a5a1-1593fe76e7ef",
   "metadata": {},
   "outputs": [],
   "source": [
    "resultsFile"
   ]
  },
  {
   "cell_type": "code",
   "execution_count": null,
   "id": "5ebcd752-2eac-4895-9784-e74946745457",
   "metadata": {},
   "outputs": [],
   "source": [
    "adata.write(resultsFile)"
   ]
  },
  {
   "cell_type": "code",
   "execution_count": null,
   "id": "20a9364a-3f8b-416e-a793-33c71506a8ca",
   "metadata": {},
   "outputs": [],
   "source": [
    "adata_ctwk1 = adata"
   ]
  },
  {
   "cell_type": "code",
   "execution_count": null,
   "id": "7373e9be-7ba7-42a1-ad34-581434105b71",
   "metadata": {},
   "outputs": [],
   "source": [
    "inputFile = \"../../data/sarcoma/sarcPDX_Treat_UPS2236/wk3_filtered_feature_bc_matrix.h5\""
   ]
  },
  {
   "cell_type": "code",
   "execution_count": null,
   "id": "05d79a8b-c1a3-4719-8bb9-7349262cef67",
   "metadata": {},
   "outputs": [],
   "source": [
    "writeLoc = \"../../write/\"\n",
    "\n",
    "fileName = \"sarcPDX_Treat_wk3_UPS2236_V4\"\n",
    "\n",
    "resultsFile = writeLoc + fileName + '.h5ad'  # the file that will store the analysis results\n",
    "resultsFileQC = writeLoc + fileName + '_QC.h5ad'  \n",
    "#results_file_ = writeLoc + fileName + '_fTry.h5ad'"
   ]
  },
  {
   "cell_type": "code",
   "execution_count": null,
   "id": "4685e201-d0d5-4fac-92ec-ee6ade3b87b3",
   "metadata": {},
   "outputs": [],
   "source": [
    "adata =  sc.read_10x_h5(inputFile, gex_only=False)\n",
    "adata"
   ]
  },
  {
   "cell_type": "code",
   "execution_count": null,
   "id": "0543b797-4721-4102-a6c2-b40b79888415",
   "metadata": {},
   "outputs": [],
   "source": [
    "np.unique(adata.var.genome)"
   ]
  },
  {
   "cell_type": "code",
   "execution_count": null,
   "id": "fb61691b-cb40-43c0-a0d2-ebcc54201f7b",
   "metadata": {},
   "outputs": [],
   "source": [
    "#split up input into genes and hashes \n",
    "hto = adata[:,adata.var[\"feature_types\"] == \"Antibody Capture\"]\n",
    "adata = adata[:,adata.var[\"feature_types\"] == \"Gene Expression\"]\n",
    "adata.obs = pd.DataFrame(hto.X.todense(), columns=hto.var_names, index=adata.obs.index)"
   ]
  },
  {
   "cell_type": "code",
   "execution_count": null,
   "id": "d93191a0-d2c3-485d-b7b6-0e33ff89e362",
   "metadata": {},
   "outputs": [],
   "source": [
    "adata.var_names_make_unique()"
   ]
  },
  {
   "cell_type": "code",
   "execution_count": null,
   "id": "6b41365a-ef3f-4fec-b850-3800c0d6a9df",
   "metadata": {},
   "outputs": [],
   "source": [
    "hto.var_names"
   ]
  },
  {
   "cell_type": "code",
   "execution_count": null,
   "id": "e8dae8e8-de56-49e2-8e25-fc9819c062f9",
   "metadata": {},
   "outputs": [],
   "source": [
    "sc.pl.highest_expr_genes(adata, n_top=20, )"
   ]
  },
  {
   "cell_type": "code",
   "execution_count": null,
   "id": "6215e897-6bb4-4106-a287-4045be1b6119",
   "metadata": {},
   "outputs": [],
   "source": [
    "adata"
   ]
  },
  {
   "cell_type": "code",
   "execution_count": null,
   "id": "df9883a9-4644-4272-aa02-6d0f0167295d",
   "metadata": {},
   "outputs": [],
   "source": [
    "valX = adata.X>0\n",
    "minGenes=250\n",
    "minCells=5\n",
    "\n",
    "fig, axs = plt.subplots(2, figsize=(8, 8))\n",
    "\n",
    "numCellwExp = valX.sum(axis=1)\n",
    "axs[0].hist(np.log(numCellwExp), bins=100)#, log=True)\n",
    "axs[0].axvline(np.log(minGenes), color='k', linestyle='dashed', linewidth=1)\n",
    "axs[0].set_xlabel('sum cell with exp counts')\n",
    "axs[0].set_ylabel('counts')\n",
    "\n",
    "numGeneswExp = valX.sum(axis=0).T\n",
    "axs[1].hist(np.log(numGeneswExp+1), bins=100, log=True)\n",
    "axs[1].axvline(np.log(minCells+1), color='k', linestyle='dashed', linewidth=1)\n",
    "axs[1].set_xlabel('sum cell have exp counts')\n",
    "axs[1].set_ylabel('counts')\n",
    "\n",
    "fig.show()"
   ]
  },
  {
   "cell_type": "code",
   "execution_count": null,
   "id": "939dc040-4efd-41bc-941b-4466ce6eb208",
   "metadata": {},
   "outputs": [],
   "source": [
    "sc.pp.filter_cells(adata, min_genes = minGenes)\n",
    "sc.pp.filter_genes(adata, min_cells = minCells)"
   ]
  },
  {
   "cell_type": "code",
   "execution_count": null,
   "id": "94379caa-5da1-42ff-96d5-6fbd0e679344",
   "metadata": {},
   "outputs": [],
   "source": [
    "adata"
   ]
  },
  {
   "cell_type": "code",
   "execution_count": null,
   "id": "80f5bc86-f817-4ec0-b3be-302a91f1c2b2",
   "metadata": {},
   "outputs": [],
   "source": [
    "np.log(700)"
   ]
  },
  {
   "cell_type": "code",
   "execution_count": null,
   "id": "b5c92204-734b-49c2-8a18-af4f07f89fcb",
   "metadata": {},
   "outputs": [],
   "source": [
    "valX = adata.X>0\n",
    "numCellwExp = valX.sum(axis=1)\n",
    "adata.obs[\"Keep\"] = [\"gra\" if i else \"les\" for i in numCellwExp>700]"
   ]
  },
  {
   "cell_type": "code",
   "execution_count": null,
   "id": "d07cdd43-7c72-495c-bdec-cfbaec5a9145",
   "metadata": {},
   "outputs": [],
   "source": [
    "from collections import Counter\n",
    "print(Counter(adata.var_names.str.startswith('GRCh38_')))\n",
    "print(Counter(adata.var_names.str.startswith('GRCh38_MT-')))\n",
    "\n",
    "print(Counter(adata.var_names.str.startswith('mm10___')))\n",
    "print(Counter(adata.var_names.str.startswith('mm10___mt-')))"
   ]
  },
  {
   "cell_type": "code",
   "execution_count": null,
   "id": "9d43b102-fb62-4c3c-9f8b-28b3c8567e0a",
   "metadata": {},
   "outputs": [],
   "source": [
    "adata.var['human'] = adata.var_names.str.startswith('GRCh38_')  # annotate the group of human genes as 'human'\n",
    "adata.var['mouse'] = adata.var_names.str.startswith('mm10___')  # annotate the group of mouse mitochondrial genes as 'mt'\n",
    "\n",
    "sc.pp.calculate_qc_metrics(adata, qc_vars=['human'], percent_top=None, log1p=False, inplace=True)\n",
    "sc.pp.calculate_qc_metrics(adata, qc_vars=['mouse'], percent_top=None, log1p=False, inplace=True)"
   ]
  },
  {
   "cell_type": "code",
   "execution_count": null,
   "id": "07eaaed3-3d34-4f31-a641-c42944de9507",
   "metadata": {},
   "outputs": [],
   "source": [
    "sc.pl.violin(adata, ['pct_counts_mouse', 'pct_counts_human'], groupby=\"Keep\", jitter=0.1, multi_panel=True, log=True)"
   ]
  },
  {
   "cell_type": "code",
   "execution_count": null,
   "id": "6d98b16f-1f17-494c-9bcb-e0bcee9c0334",
   "metadata": {},
   "outputs": [],
   "source": [
    "sc.pl.violin(adata, ['n_genes_by_counts', 'total_counts'], groupby=\"Keep\", jitter=0.1, multi_panel=True)"
   ]
  },
  {
   "cell_type": "code",
   "execution_count": null,
   "id": "5ff506a8-ca06-4622-9d0f-95c7b9908e1c",
   "metadata": {},
   "outputs": [],
   "source": [
    "sc.pl.violin(adata, ['n_genes_by_counts', 'total_counts'], jitter=0.4, multi_panel=True)"
   ]
  },
  {
   "cell_type": "code",
   "execution_count": null,
   "id": "04fcc2ca-9ec4-456c-b9c2-c68e36b028d2",
   "metadata": {},
   "outputs": [],
   "source": [
    "sum(adata.obs.pct_counts_mouse < 2)"
   ]
  },
  {
   "cell_type": "code",
   "execution_count": null,
   "id": "4b613e78-c3c2-45cb-af96-a475d199ae3d",
   "metadata": {},
   "outputs": [],
   "source": [
    "adata = adata[adata.obs.pct_counts_mouse < 2, :]\n",
    "adata = adata[:,adata.var_names.str.startswith('GRCh38_')]\n",
    "adata"
   ]
  },
  {
   "cell_type": "code",
   "execution_count": null,
   "id": "951ac4f8-3567-40e0-a705-ee29cd8d2bdf",
   "metadata": {},
   "outputs": [],
   "source": [
    "sc.pl.violin(adata, ['pct_counts_mouse', 'pct_counts_human'],\n",
    "             jitter=0.4, multi_panel=True, log = True)"
   ]
  },
  {
   "cell_type": "code",
   "execution_count": null,
   "id": "a53e8388-bcb7-4dac-b1d5-ef80c4288a97",
   "metadata": {},
   "outputs": [],
   "source": [
    "adata.var['hMT'] = adata.var_names.str.startswith('GRCh38_MT-')  # annotate the group of human mitochondrial genes as 'hMT'\n",
    "#adata.var['hMT'] = adata.var_names.str.startswith('mm10___mt-')  # annotate the group of mouse mitochondrial genes as 'mmt'\n",
    "\n",
    "sc.pp.calculate_qc_metrics(adata, qc_vars=['hMT'], percent_top=None, log1p=False, inplace=True)\n",
    "#sc.pp.calculate_qc_metrics(adata, qc_vars=['mmt'], percent_top=None, log1p=False, inplace=True)"
   ]
  },
  {
   "cell_type": "code",
   "execution_count": null,
   "id": "251653ce-1a93-4863-947e-9d2da84136a2",
   "metadata": {},
   "outputs": [],
   "source": [
    "sc.pl.violin(adata, ['n_genes_by_counts', 'total_counts', \"pct_counts_hMT\"], #pct_counts_mmt\n",
    "             jitter=0.4, multi_panel=True)"
   ]
  },
  {
   "cell_type": "code",
   "execution_count": null,
   "id": "b7b44e42-1a6c-4a6a-8ce0-94537112ad17",
   "metadata": {},
   "outputs": [],
   "source": [
    "sc.pl.violin(adata, ['n_genes_by_counts', 'total_counts', \"pct_counts_hMT\"], #pct_counts_mmt\n",
    "             jitter=0.4, multi_panel=True, groupby=\"Keep\")"
   ]
  },
  {
   "cell_type": "code",
   "execution_count": null,
   "id": "42861349-5268-4f07-9676-105c94f9aefb",
   "metadata": {},
   "outputs": [],
   "source": [
    "sc.pl.scatter(adata, x='total_counts', y='pct_counts_hMT')\n",
    "sc.pl.scatter(adata, x='total_counts', y='n_genes_by_counts')"
   ]
  },
  {
   "cell_type": "code",
   "execution_count": null,
   "id": "027b33e8-bf9b-46ff-ba95-f6626cd1dbab",
   "metadata": {},
   "outputs": [],
   "source": [
    "adata"
   ]
  },
  {
   "cell_type": "code",
   "execution_count": null,
   "id": "b19f6ec8-c86b-4eb2-b68d-715100fe4e2c",
   "metadata": {},
   "outputs": [],
   "source": [
    "adata = adata[adata.obs.n_genes_by_counts < 5500, :]\n",
    "adata = adata[adata.obs.n_genes_by_counts > 1000, :]\n",
    "adata = adata[adata.obs.total_counts < 25000, :]\n",
    "adata = adata[adata.obs.pct_counts_hMT < 10, :]"
   ]
  },
  {
   "cell_type": "code",
   "execution_count": null,
   "id": "949f5a67-ed3b-4822-a953-12e8b7064d22",
   "metadata": {},
   "outputs": [],
   "source": [
    "sc.pl.violin(adata, ['n_genes_by_counts', 'total_counts', \"pct_counts_hMT\"], #pct_counts_mmt\n",
    "             jitter=0.4, multi_panel=True)"
   ]
  },
  {
   "cell_type": "code",
   "execution_count": null,
   "id": "83101fd7-fed4-4ec8-a642-47cc6dcc67e2",
   "metadata": {},
   "outputs": [],
   "source": [
    "sc.pl.violin(adata, ['n_genes_by_counts', 'total_counts', \"pct_counts_hMT\"], #pct_counts_mmt\n",
    "             jitter=0.4, multi_panel=True, groupby=\"Keep\")"
   ]
  },
  {
   "cell_type": "code",
   "execution_count": null,
   "id": "600143ad-43f9-42da-b0ce-abfb78d6efbf",
   "metadata": {},
   "outputs": [],
   "source": [
    "adata.obs"
   ]
  },
  {
   "cell_type": "code",
   "execution_count": null,
   "id": "bd989ea2-52e8-4f4e-8445-2a125359ab9d",
   "metadata": {},
   "outputs": [],
   "source": [
    "hto.var_names"
   ]
  },
  {
   "cell_type": "code",
   "execution_count": null,
   "id": "a92e4e8e-a007-48d7-a115-7e296dedbe00",
   "metadata": {},
   "outputs": [],
   "source": [
    "import scanpy.external as sce\n",
    "sce.pp.hashsolo(adata, hto.var_names)#number_of_noise_barcodes = 1\n",
    "adata.obs.head()"
   ]
  },
  {
   "cell_type": "code",
   "execution_count": null,
   "id": "ed92363a-2f74-4acc-a041-6c0ec9db0122",
   "metadata": {},
   "outputs": [],
   "source": [
    "sc.pl.heatmap(adata, hto.var_names, groupby=\"Classification\", log=True)"
   ]
  },
  {
   "cell_type": "code",
   "execution_count": null,
   "id": "911e711a-7a32-43c6-afa3-9a2e2704244a",
   "metadata": {},
   "outputs": [],
   "source": [
    "hto.var_names"
   ]
  },
  {
   "cell_type": "code",
   "execution_count": null,
   "id": "85d78a40-5e33-4ef5-b3e7-b975dc37098f",
   "metadata": {},
   "outputs": [],
   "source": [
    "len(hto.var_names)"
   ]
  },
  {
   "cell_type": "code",
   "execution_count": null,
   "id": "c40c08d4-96b3-4278-bfd8-67fc164d68f6",
   "metadata": {},
   "outputs": [],
   "source": [
    "Counter(adata.obs[\"Classification\"])"
   ]
  },
  {
   "cell_type": "code",
   "execution_count": null,
   "id": "e8c14274-a0d1-4395-bd6f-586e9361e9a0",
   "metadata": {},
   "outputs": [],
   "source": [
    "singlets = [x in hto.var_names for x in adata.obs[\"Classification\"]]\n",
    "adata = adata[singlets,]\n",
    "adata"
   ]
  },
  {
   "cell_type": "code",
   "execution_count": null,
   "id": "94ed9f1b-6e81-4e26-b96b-7e306336e62b",
   "metadata": {},
   "outputs": [],
   "source": [
    "sarc =  {\n",
    "         'UPS2236_4B_3_wk_chemo': \"wk3\",\n",
    "         'UPS2236_2B_3_wk_chemo': \"wk3\",\n",
    "         'UPS2236_1A_3_wk_chemo': \"wk3\",\n",
    "         'UPS2236_2A_3_wk_chemo': \"wk3\",\n",
    "         'UPS2236_1B_3_wk_chemo': \"wk3\",\n",
    "         'UPS2236_3B_3_wk_chemo': \"wk3\",\n",
    "         'UPS2236_3A_3_wk_chemo': \"wk3\",\n",
    "         'UPS2236_4A_3_wk_chemo': \"wk3\"}\n",
    "adata.obs[\"sarc\"] = [sarc[x] for x in adata.obs[\"Classification\"]]"
   ]
  },
  {
   "cell_type": "code",
   "execution_count": null,
   "id": "5ba3de2d-fe1b-443d-8f53-1e3712bade60",
   "metadata": {},
   "outputs": [],
   "source": [
    "sarc =  {\n",
    "         'UPS2236_4B_3_wk_chemo': \"D\",\n",
    "         'UPS2236_2B_3_wk_chemo': \"B\",\n",
    "         'UPS2236_1A_3_wk_chemo': \"A\",\n",
    "         'UPS2236_2A_3_wk_chemo': \"B\",\n",
    "         'UPS2236_1B_3_wk_chemo': \"A\",\n",
    "         'UPS2236_3B_3_wk_chemo': \"C\",\n",
    "         'UPS2236_3A_3_wk_chemo': \"C\",\n",
    "         'UPS2236_4A_3_wk_chemo': \"D\"}\n",
    "adata.obs[\"sample\"] = [sarc[x] for x in adata.obs[\"Classification\"]]"
   ]
  },
  {
   "cell_type": "code",
   "execution_count": null,
   "id": "14f97a4e-425e-4dd3-9672-8160c695910c",
   "metadata": {},
   "outputs": [],
   "source": [
    "adata.var_names = [x.split(\"_\")[1] for x in adata.var_names]\n",
    "adata.var_names_make_unique()"
   ]
  },
  {
   "cell_type": "code",
   "execution_count": null,
   "id": "5fdb1fbc-4afa-4ca4-a974-2699e912ce2d",
   "metadata": {},
   "outputs": [],
   "source": [
    "adata = adata[:,\"MALAT1\" != adata.var_names]"
   ]
  },
  {
   "cell_type": "code",
   "execution_count": null,
   "id": "307a2c4b-8d5c-4dcb-9621-fdb1d29bbcc5",
   "metadata": {},
   "outputs": [],
   "source": [
    "resultsFileQC"
   ]
  },
  {
   "cell_type": "code",
   "execution_count": null,
   "id": "c99bcf83-0483-4856-adf1-f17f1c384d5c",
   "metadata": {},
   "outputs": [],
   "source": [
    "#adata = sc.read(resultsFileQC)\n",
    "adata.write(resultsFileQC)\n",
    "adata.layers[\"counts\"]=adata.X.copy()\n",
    "adata"
   ]
  },
  {
   "cell_type": "code",
   "execution_count": null,
   "id": "d77c9e5b-ab72-4d2f-b4e6-9d5fcb094c6c",
   "metadata": {},
   "outputs": [],
   "source": [
    "resultsFileQC"
   ]
  },
  {
   "cell_type": "code",
   "execution_count": null,
   "id": "aa065f32-2c1f-4a1a-bc39-e713f6fe5556",
   "metadata": {},
   "outputs": [],
   "source": [
    "#['RPS8370_pSpCTRE_B0256', 'UPS2236_B0255']\n",
    "#ups = [x in [\"UPS\"] for x in adata.obs[\"sarc\"]]\n",
    "#adata = adata[ups,]\n",
    "#adata"
   ]
  },
  {
   "cell_type": "code",
   "execution_count": null,
   "id": "f130e47e-53db-47df-ab5b-047057368cf8",
   "metadata": {},
   "outputs": [],
   "source": [
    "sc.pp.normalize_total(adata, target_sum=1e4)#, exclude_highly_expressed=True"
   ]
  },
  {
   "cell_type": "code",
   "execution_count": null,
   "id": "66aaf4f8-d99a-4371-ab3f-17a927fa7e9c",
   "metadata": {},
   "outputs": [],
   "source": [
    "sc.pp.log1p(adata)"
   ]
  },
  {
   "cell_type": "code",
   "execution_count": null,
   "id": "34933e4c-5c54-4126-a4bb-d649547fb001",
   "metadata": {},
   "outputs": [],
   "source": [
    "cell_cycle_genes = [x.strip() for x in open('../../data/regev_lab_cell_cycle_genes_Human.txt')]\n",
    "s_genes = cell_cycle_genes[:43]\n",
    "g2m_genes = cell_cycle_genes[43:]\n",
    "cell_cycle_genes = [x for x in cell_cycle_genes if x in adata.var_names]"
   ]
  },
  {
   "cell_type": "code",
   "execution_count": null,
   "id": "fe04c4de-e55d-41c6-ba90-9ffe21df58bd",
   "metadata": {},
   "outputs": [],
   "source": [
    "sc.tl.score_genes_cell_cycle(adata, s_genes=s_genes, g2m_genes=g2m_genes)"
   ]
  },
  {
   "cell_type": "code",
   "execution_count": null,
   "id": "67528451-61f8-4dfc-9b55-a5e5b768636b",
   "metadata": {},
   "outputs": [],
   "source": [
    "adata_cc_genes = adata[:, cell_cycle_genes]\n",
    "sc.tl.pca(adata_cc_genes)\n",
    "sc.pl.pca_scatter(adata_cc_genes, color=['phase',\"Classification\"])"
   ]
  },
  {
   "cell_type": "code",
   "execution_count": null,
   "id": "49a1cd37-87be-41d1-bf68-cc592b37b5b4",
   "metadata": {},
   "outputs": [],
   "source": [
    "sc.pp.highly_variable_genes(adata)#, flavor=\"seurat\", n_top_genes=2000)\n",
    "#min_disp=0.5,min_mean=0.0125, max_mean=3, span=0.3, n_bins=20,"
   ]
  },
  {
   "cell_type": "code",
   "execution_count": null,
   "id": "1bf34f15-7cbd-4b9b-a4ec-37d841067a16",
   "metadata": {},
   "outputs": [],
   "source": [
    "sum(adata.var.highly_variable)"
   ]
  },
  {
   "cell_type": "code",
   "execution_count": null,
   "id": "bc638c90-400d-4946-8451-a16193490b2b",
   "metadata": {},
   "outputs": [],
   "source": [
    "minMean = 0.045\n",
    "maxMean = 2.9\n",
    "minDisp = 0.35\n",
    "\n",
    "fig, axs = plt.subplots(1, 2, figsize=(10, 5))\n",
    "\n",
    "means = adata.var[[\"means\"]][adata.var[[\"means\"]] > np.exp(-14)]#adata.var[[\"means\"]],\n",
    "axs[0].hist(np.log(means), bins=100)#, log=True),\n",
    "axs[0].axvline(np.log(minMean), color='k', linestyle='dashed', linewidth=1)\n",
    "axs[0].axvline(np.log(maxMean), color='k', linestyle='dashed', linewidth=1)\n",
    "axs[0].set_title('Gene means counts')\n",
    "axs[0].set_xlabel('means')\n",
    "axs[0].set_ylabel('counts')\n",
    "\n",
    "dispNorm = adata.var[[\"dispersions_norm\"]][adata.var[[\"dispersions_norm\"]] > np.exp(-10)]#adata.var[[\"means\"]],\n",
    "axs[1].hist(np.log(dispNorm), bins=100)#, log=True),\n",
    "axs[1].axvline(np.log(minDisp), color='k', linestyle='dashed', linewidth=1)\n",
    "axs[1].set_title('Gene dispersions counts')\n",
    "axs[1].set_xlabel('dispersions')\n",
    "axs[1].set_ylabel('counts')\n",
    "\n",
    "sc.pp.highly_variable_genes(adata, min_disp=minDisp, min_mean=minMean, max_mean=maxMean)\n",
    "print(sum(adata.var.highly_variable))"
   ]
  },
  {
   "cell_type": "code",
   "execution_count": null,
   "id": "dab16a98-36c1-448b-8c55-c5947730f32e",
   "metadata": {},
   "outputs": [],
   "source": [
    "sc.pl.highly_variable_genes(adata)"
   ]
  },
  {
   "cell_type": "code",
   "execution_count": null,
   "id": "50919845-daac-4dd9-a457-e7d50d854580",
   "metadata": {},
   "outputs": [],
   "source": [
    "adata.raw = adata"
   ]
  },
  {
   "cell_type": "code",
   "execution_count": null,
   "id": "09d9738d-d72a-41f7-9ba1-8d222d6b7374",
   "metadata": {},
   "outputs": [],
   "source": [
    "adata = adata[:, np.logical_and(np.logical_not(adata.var.hMT), adata.var.highly_variable)]"
   ]
  },
  {
   "cell_type": "code",
   "execution_count": null,
   "id": "b6c444c0-cf7e-4243-adbd-42b456493144",
   "metadata": {},
   "outputs": [],
   "source": [
    "sum(np.logical_and(np.logical_not(adata.var.hMT), adata.var.highly_variable))"
   ]
  },
  {
   "cell_type": "code",
   "execution_count": null,
   "id": "081d1b48-7167-42d3-b9af-15c41471507c",
   "metadata": {},
   "outputs": [],
   "source": [
    "#sc.pp.regress_out(adata, ['S_score', 'G2M_score','total_counts', 'pct_counts_hMT'])"
   ]
  },
  {
   "cell_type": "code",
   "execution_count": null,
   "id": "649f2b8f-ac92-458a-907d-ae82cc42153f",
   "metadata": {},
   "outputs": [],
   "source": [
    "#np.max(adata.X.todense())"
   ]
  },
  {
   "cell_type": "code",
   "execution_count": null,
   "id": "06f8b2c1-e378-4585-ba9b-83a6955be6bf",
   "metadata": {},
   "outputs": [],
   "source": [
    "#sc.pp.scale(adata, max_value=4)"
   ]
  },
  {
   "cell_type": "code",
   "execution_count": null,
   "id": "bf4d647d-831f-48ca-bec8-676efd3b84b3",
   "metadata": {},
   "outputs": [],
   "source": [
    "sc.tl.pca(adata, n_comps=100,svd_solver='arpack')"
   ]
  },
  {
   "cell_type": "code",
   "execution_count": null,
   "id": "3837a947-d1ca-453c-99a0-91c6b7bd0dbe",
   "metadata": {},
   "outputs": [],
   "source": [
    "sc.pl.pca_variance_ratio(adata, n_pcs=100, log=True)"
   ]
  },
  {
   "cell_type": "code",
   "execution_count": null,
   "id": "14249537-5f46-4a40-9014-766d8a97e9dc",
   "metadata": {},
   "outputs": [],
   "source": [
    "sc.pl.pca(adata, color=[\"phase\"],ncols=3,annotate_var_explained=True, components=['1,2','1,3',\"1,4\", '2,3', '2,4', \"3,4\"])"
   ]
  },
  {
   "cell_type": "code",
   "execution_count": null,
   "id": "6d196dab-2e7c-4d68-93b3-1711211bd0b0",
   "metadata": {},
   "outputs": [],
   "source": [
    "#adata.obsm[\"X_pca_1_40\"] = adata.obsm[\"X_pca\"][:,1:41]"
   ]
  },
  {
   "cell_type": "code",
   "execution_count": null,
   "id": "1f3d7855-e946-4a78-9dbd-39609ff2e86c",
   "metadata": {},
   "outputs": [],
   "source": [
    "sc.pp.neighbors(adata, n_neighbors=25, n_pcs=50)#, use_rep=\"X_pca_1_40\")"
   ]
  },
  {
   "cell_type": "code",
   "execution_count": null,
   "id": "c4c22afa-d685-4117-85fc-b69770015757",
   "metadata": {},
   "outputs": [],
   "source": [
    "sc.tl.umap(adata)"
   ]
  },
  {
   "cell_type": "code",
   "execution_count": null,
   "id": "c3bc9a36-5d26-4a9f-abd6-b4d9460c8390",
   "metadata": {},
   "outputs": [],
   "source": [
    "sc.tl.leiden(adata, resolution = 0.2)"
   ]
  },
  {
   "cell_type": "code",
   "execution_count": null,
   "id": "d7ba7073-c19d-44e6-9849-ee69e309df4a",
   "metadata": {
    "editable": true,
    "slideshow": {
     "slide_type": ""
    },
    "tags": []
   },
   "outputs": [],
   "source": [
    "sc.pl.umap(adata, color=['leiden',\"phase\",'sample','Classification', 'total_counts', 'pct_counts_hMT'],ncols=2)"
   ]
  },
  {
   "cell_type": "code",
   "execution_count": null,
   "id": "150a56e3-b448-45b3-9418-97b4cab85aeb",
   "metadata": {},
   "outputs": [],
   "source": [
    "sc.tl.embedding_density(adata, basis='umap', groupby='sarc')"
   ]
  },
  {
   "cell_type": "code",
   "execution_count": null,
   "id": "93a11d03-c39e-4300-96f5-01ba20bbcb80",
   "metadata": {},
   "outputs": [],
   "source": [
    "#sc.pl.embedding_density(adata, basis='umap', key='umap_density_sarc', group='wk4')"
   ]
  },
  {
   "cell_type": "code",
   "execution_count": null,
   "id": "b655f814-26a3-4ded-a0f0-623842a119b8",
   "metadata": {
    "tags": []
   },
   "outputs": [],
   "source": [
    "sc.pl.umap(adata, color=['COL1A1','DES','MDM2',\"CDK4\"],ncols=2)"
   ]
  },
  {
   "cell_type": "code",
   "execution_count": null,
   "id": "33b87378-3fe8-4dbc-960c-4f46233b956b",
   "metadata": {},
   "outputs": [],
   "source": [
    "sc.pl.umap(adata, color=['FBN1','LUM',\"POSTN\"],ncols=2)"
   ]
  },
  {
   "cell_type": "code",
   "execution_count": null,
   "id": "89a69457-5048-4f2f-8a58-5fd10f8db7e1",
   "metadata": {
    "tags": []
   },
   "outputs": [],
   "source": [
    "sc.pl.umap(adata, color=['COL4A1','PECAM1','CD34',\"RGS5\"],ncols=2)"
   ]
  },
  {
   "cell_type": "code",
   "execution_count": null,
   "id": "fae35bc4-0345-4815-822d-8ce10bf18e1d",
   "metadata": {},
   "outputs": [],
   "source": [
    "sc.pl.umap(adata, color=['TPM2','TOP2A','VIM',\"ISG15\"],ncols=2)"
   ]
  },
  {
   "cell_type": "code",
   "execution_count": null,
   "id": "45af09d9-918d-430e-9ea7-72f304a1004d",
   "metadata": {},
   "outputs": [],
   "source": [
    "sc.pl.umap(adata, color=['KRT18','GAPDH','LDHB',\"TPI1\"],ncols=2)"
   ]
  },
  {
   "cell_type": "code",
   "execution_count": null,
   "id": "90fdf96f-0da9-4e43-9028-30efc0f54057",
   "metadata": {},
   "outputs": [],
   "source": [
    "sc.pl.umap(adata, color=['ACTA2'], ncols=2, use_raw=True)"
   ]
  },
  {
   "cell_type": "code",
   "execution_count": null,
   "id": "d3ca6786-3d85-4a11-885a-f151b443d1f7",
   "metadata": {},
   "outputs": [],
   "source": [
    "sc.tl.rank_genes_groups(adata, 'leiden', method='wilcoxon')#,use_raw=False)\n",
    "sc.pl.rank_genes_groups(adata, n_genes=25, sharey=False)"
   ]
  },
  {
   "cell_type": "code",
   "execution_count": null,
   "id": "49ba6b0b-d55d-4cb3-a7db-16c1520bef1c",
   "metadata": {},
   "outputs": [],
   "source": [
    "pd.DataFrame(adata.uns['rank_genes_groups']['names']).head(10)"
   ]
  },
  {
   "cell_type": "code",
   "execution_count": null,
   "id": "802a782f-8f85-440c-a98f-a582c72fa8c4",
   "metadata": {},
   "outputs": [],
   "source": [
    "sc.tl.rank_genes_groups(adata, 'leiden', method='wilcoxon',use_raw=False)\n",
    "sc.pl.rank_genes_groups(adata, n_genes=25, sharey=False)"
   ]
  },
  {
   "cell_type": "code",
   "execution_count": null,
   "id": "caa08393-a214-4e07-9365-86b3d65156e5",
   "metadata": {},
   "outputs": [],
   "source": [
    "pd.DataFrame(adata.uns['rank_genes_groups']['names']).head(10)"
   ]
  },
  {
   "cell_type": "code",
   "execution_count": null,
   "id": "bb205004-f6a4-4a8c-b594-4190a8302f8a",
   "metadata": {},
   "outputs": [],
   "source": []
  },
  {
   "cell_type": "code",
   "execution_count": null,
   "id": "3505c2e9-a89b-4344-97ab-58398976fb97",
   "metadata": {},
   "outputs": [],
   "source": []
  },
  {
   "cell_type": "code",
   "execution_count": null,
   "id": "97dedf98-f9c8-4247-8a91-0d87a5d486f9",
   "metadata": {},
   "outputs": [],
   "source": []
  },
  {
   "cell_type": "code",
   "execution_count": null,
   "id": "25b84440-3a0d-4738-9fe5-54d3d7d2774f",
   "metadata": {},
   "outputs": [],
   "source": []
  },
  {
   "cell_type": "code",
   "execution_count": null,
   "id": "00e4b0f0-f1ad-4dcd-9af7-c814a8572301",
   "metadata": {},
   "outputs": [],
   "source": []
  },
  {
   "cell_type": "code",
   "execution_count": null,
   "id": "9d7cecda-4379-40c1-b59b-febcab3b71e3",
   "metadata": {},
   "outputs": [],
   "source": [
    "writeLoc"
   ]
  },
  {
   "cell_type": "code",
   "execution_count": null,
   "id": "aa7ebec1-ef13-4791-985f-07a0020227ab",
   "metadata": {},
   "outputs": [],
   "source": [
    "#adata = sc.read(resultsFile)"
   ]
  },
  {
   "cell_type": "code",
   "execution_count": null,
   "id": "16073900-d9a0-49a2-ae27-3ce0bc8d233f",
   "metadata": {},
   "outputs": [],
   "source": [
    "resultsFile"
   ]
  },
  {
   "cell_type": "code",
   "execution_count": null,
   "id": "c65fe43f-6f54-4290-9f62-ad245fa1bafe",
   "metadata": {},
   "outputs": [],
   "source": [
    "adata.write(resultsFile)"
   ]
  },
  {
   "cell_type": "code",
   "execution_count": null,
   "id": "004edd55-4010-4dd9-8df0-3098994f5e5b",
   "metadata": {},
   "outputs": [],
   "source": [
    "sc.set_figure_params(scanpy=True, dpi=100, dpi_save=150, fontsize=10, format='png')"
   ]
  },
  {
   "cell_type": "code",
   "execution_count": null,
   "id": "f2fd82fd-0f62-4c9e-aadc-5df37b325847",
   "metadata": {},
   "outputs": [],
   "source": [
    "ctwk1QC = writeLoc + 'sarcPDX_Treat_ctw1_UPS2236_V4_QC.h5ad'  \n",
    "adataCtWk1 = sc.read(ctwk1QC)\n",
    "adataCtWk1.layers[\"counts\"] = adataCtWk1.X.copy()\n",
    "adataCtWk1"
   ]
  },
  {
   "cell_type": "code",
   "execution_count": null,
   "id": "a05f05c6-4556-4471-b109-5859d7acb2d1",
   "metadata": {},
   "outputs": [],
   "source": [
    "sc.pp.normalize_total(adataCtWk1, target_sum=1e4)\n",
    "sc.pp.log1p(adataCtWk1)"
   ]
  },
  {
   "cell_type": "code",
   "execution_count": null,
   "id": "2fec9146-4b8e-4fc7-a247-8ba5e25fa790",
   "metadata": {},
   "outputs": [],
   "source": [
    "wk3QC = writeLoc + 'sarcPDX_Treat_wk3_UPS2236_V4_QC.h5ad'  \n",
    "adataWk3 = sc.read(wk3QC)\n",
    "adataWk3.layers[\"counts\"] = adataWk3.X.copy()\n",
    "adataWk3"
   ]
  },
  {
   "cell_type": "code",
   "execution_count": null,
   "id": "018cf82f-1564-487e-ba42-54970d80d54a",
   "metadata": {},
   "outputs": [],
   "source": [
    "sc.pp.normalize_total(adataWk3, target_sum=1e4)\n",
    "sc.pp.log1p(adataWk3)"
   ]
  },
  {
   "cell_type": "code",
   "execution_count": null,
   "id": "9b3182db-5448-4fd1-b0fe-fc2db911535e",
   "metadata": {},
   "outputs": [],
   "source": [
    "adata = adataCtWk1.concatenate(adataWk3, batch_categories=['ctwk1', 'wk3'])\n",
    "adata"
   ]
  },
  {
   "cell_type": "code",
   "execution_count": null,
   "id": "381a8f08-d41b-4fee-b931-58a13f10caba",
   "metadata": {},
   "outputs": [],
   "source": [
    "sc.pl.violin(adata, ['n_genes_by_counts', 'total_counts', \"pct_counts_hMT\"],jitter=0.4, multi_panel=True, groupby=\"batch\")"
   ]
  },
  {
   "cell_type": "code",
   "execution_count": null,
   "id": "bdbd3602-3da0-4d6b-a7d3-b3131adba9e4",
   "metadata": {},
   "outputs": [],
   "source": [
    "#ctl = [x in [\"ctl\"] for x in adata.obs[\"sarc\"]]\n",
    "#adata = adata[ctl,]\n",
    "#adata"
   ]
  },
  {
   "cell_type": "code",
   "execution_count": null,
   "id": "365e9a81-a0d3-4f25-9b67-a94daca33754",
   "metadata": {},
   "outputs": [],
   "source": [
    "#adata.var_names = [x.split(\"_\")[1] for x in adata.var_names]\n",
    "#adata.var_names_make_unique()"
   ]
  },
  {
   "cell_type": "code",
   "execution_count": null,
   "id": "94045cf4-68eb-441d-a990-b896bc12baa1",
   "metadata": {},
   "outputs": [],
   "source": [
    "sc.set_figure_params(scanpy=True, dpi=100, dpi_save=150, fontsize=10, format='png')"
   ]
  },
  {
   "cell_type": "code",
   "execution_count": null,
   "id": "e569a52a-0108-4721-82ef-e33fc8631008",
   "metadata": {},
   "outputs": [],
   "source": [
    "#adata.write('../../write/sarcPDX_Treat_all_V4_UPS2236_QC.h5ad')\n",
    "adata = sc.read_h5ad('../../write/sarcPDX_Treat_all_V4_UPS2236_QC.h5ad')\n",
    "adata"
   ]
  },
  {
   "cell_type": "code",
   "execution_count": null,
   "id": "99c82210-04a7-4c40-8960-7e58d5a72c82",
   "metadata": {},
   "outputs": [],
   "source": []
  },
  {
   "cell_type": "code",
   "execution_count": null,
   "id": "f93ab4d3-8d35-4f29-ba39-9479ae78bdbe",
   "metadata": {},
   "outputs": [],
   "source": [
    "cell_cycle_genes = [x.strip() for x in open('../../data/regev_lab_cell_cycle_genes_Human.txt')]\n",
    "s_genes = cell_cycle_genes[:43]\n",
    "g2m_genes = cell_cycle_genes[43:]\n",
    "cell_cycle_genes = [x for x in cell_cycle_genes if x in adata.var_names]"
   ]
  },
  {
   "cell_type": "code",
   "execution_count": null,
   "id": "c5bc923b-688a-4e38-ba93-a7a008e3e0a9",
   "metadata": {},
   "outputs": [],
   "source": [
    "sc.tl.score_genes_cell_cycle(adata, s_genes=s_genes, g2m_genes=g2m_genes)"
   ]
  },
  {
   "cell_type": "code",
   "execution_count": null,
   "id": "d8296cf5-32ac-44d8-9fd2-cddf1c7c3d65",
   "metadata": {},
   "outputs": [],
   "source": [
    "adata_cc_genes = adata[:, cell_cycle_genes]\n",
    "sc.tl.pca(adata_cc_genes)\n",
    "sc.pl.pca_scatter(adata_cc_genes, color=['phase','batch'])"
   ]
  },
  {
   "cell_type": "code",
   "execution_count": null,
   "id": "feae28e7-70da-46d1-b752-e453fdb919f3",
   "metadata": {},
   "outputs": [],
   "source": [
    "adata = adata[adata.obs.phase==\"G1\",:]"
   ]
  },
  {
   "cell_type": "code",
   "execution_count": null,
   "id": "62b61bda-f302-4be4-b912-47650af48a5e",
   "metadata": {},
   "outputs": [],
   "source": [
    "adata.write('../../write/sarcPDX_Treat_G1_V4_UPS2236_QC.h5ad')"
   ]
  },
  {
   "cell_type": "code",
   "execution_count": null,
   "id": "a61ed5b3-5cc6-454c-aea6-4823b6903500",
   "metadata": {},
   "outputs": [],
   "source": [
    "#adata_cc_genes.var[adata_cc_genes.var[\"highly_variable\"]]"
   ]
  },
  {
   "cell_type": "code",
   "execution_count": null,
   "id": "73f2ddd3-5638-42c6-b7f3-c6b483741713",
   "metadata": {
    "tags": []
   },
   "outputs": [],
   "source": [
    "sc.pp.highly_variable_genes(adata, batch_key=\"batch\")#, flavor=\"seurat\", n_top_genes=2000)"
   ]
  },
  {
   "cell_type": "code",
   "execution_count": null,
   "id": "a883d2c6-4812-4652-a095-3ed1cf87857b",
   "metadata": {},
   "outputs": [],
   "source": [
    "sum(adata.var.highly_variable)"
   ]
  },
  {
   "cell_type": "code",
   "execution_count": null,
   "id": "311d7843-3056-477c-b7de-065c40ce13c7",
   "metadata": {},
   "outputs": [],
   "source": [
    "minMean = 0.045\n",
    "maxMean = 2.9\n",
    "minDisp = 0.35\n",
    "\n",
    "fig, axs = plt.subplots(1, 2, figsize=(10, 5))\n",
    "\n",
    "means = adata.var[[\"means\"]][adata.var[[\"means\"]] > np.exp(-14)]#adata.var[[\"means\"]],\n",
    "axs[0].hist(np.log(means), bins=100)#, log=True),\n",
    "axs[0].axvline(np.log(minMean), color='k', linestyle='dashed', linewidth=1)\n",
    "axs[0].axvline(np.log(maxMean), color='k', linestyle='dashed', linewidth=1)\n",
    "axs[0].set_title('Gene means counts')\n",
    "axs[0].set_xlabel('means')\n",
    "axs[0].set_ylabel('counts')\n",
    "\n",
    "dispNorm = adata.var[[\"dispersions_norm\"]][adata.var[[\"dispersions_norm\"]] > np.exp(-10)]#adata.var[[\"means\"]],\n",
    "axs[1].hist(np.log(dispNorm), bins=100)#, log=True),\n",
    "axs[1].axvline(np.log(minDisp), color='k', linestyle='dashed', linewidth=1)\n",
    "axs[1].set_title('Gene dispersions counts')\n",
    "axs[1].set_xlabel('dispersions')\n",
    "axs[1].set_ylabel('counts')\n",
    "\n",
    "sc.pp.highly_variable_genes(adata, min_disp=minDisp, min_mean=minMean, max_mean=maxMean, batch_key=\"batch\")\n",
    "print(sum(adata.var.highly_variable))"
   ]
  },
  {
   "cell_type": "code",
   "execution_count": null,
   "id": "20e7d329-d144-487d-be7f-cceb6fb3a38a",
   "metadata": {},
   "outputs": [],
   "source": [
    "sum(adata.var.highly_variable)"
   ]
  },
  {
   "cell_type": "code",
   "execution_count": null,
   "id": "233d5fcd-3438-421c-9559-54c1ec234e03",
   "metadata": {},
   "outputs": [],
   "source": [
    "sc.pl.highly_variable_genes(adata)"
   ]
  },
  {
   "cell_type": "code",
   "execution_count": null,
   "id": "2e49cb12-be2a-4982-babd-d37ba71e2ed4",
   "metadata": {},
   "outputs": [],
   "source": [
    "adata.raw = adata"
   ]
  },
  {
   "cell_type": "code",
   "execution_count": null,
   "id": "bcbf5a0f-339b-4d00-8a95-6c58d377b092",
   "metadata": {},
   "outputs": [],
   "source": [
    "adata = adata[:, np.logical_and(np.logical_not(adata.var.hMT), adata.var.highly_variable)]"
   ]
  },
  {
   "cell_type": "code",
   "execution_count": null,
   "id": "aaff9893-9fc3-403e-8d39-8878d44a4732",
   "metadata": {},
   "outputs": [],
   "source": [
    "#adata = adata.raw.to_adata()"
   ]
  },
  {
   "cell_type": "code",
   "execution_count": null,
   "id": "9ce15ad1-bc88-4ec2-8457-faab5926bdb0",
   "metadata": {},
   "outputs": [],
   "source": [
    "#sc.pp.regress_out(adata, ['S_score', 'G2M_score'])\n",
    "#sc.pp.regress_out(adata, ['total_counts', 'pct_counts_hMT'])#])#"
   ]
  },
  {
   "cell_type": "code",
   "execution_count": null,
   "id": "bc0c9926-3dd2-4075-a2bb-f2d5e487c758",
   "metadata": {},
   "outputs": [],
   "source": [
    "#sc.pp.scale(adata, max_value=4)"
   ]
  },
  {
   "cell_type": "code",
   "execution_count": null,
   "id": "b3ecba54-3fa2-4a9b-a1b3-746e6fe7030c",
   "metadata": {},
   "outputs": [],
   "source": [
    "sc.tl.pca(adata, n_comps=100,svd_solver='arpack')"
   ]
  },
  {
   "cell_type": "code",
   "execution_count": null,
   "id": "1709ed06-a66b-4071-a9c6-fdc33b1df33a",
   "metadata": {},
   "outputs": [],
   "source": [
    "sc.pl.pca_variance_ratio(adata, n_pcs=100, log=True)"
   ]
  },
  {
   "cell_type": "code",
   "execution_count": null,
   "id": "893e4042-71ca-4056-b7c9-cf9e6909995b",
   "metadata": {},
   "outputs": [],
   "source": [
    "sc.pp.neighbors(adata, n_neighbors=40, n_pcs=60)"
   ]
  },
  {
   "cell_type": "code",
   "execution_count": null,
   "id": "19296f33-9806-404e-8ee2-b124391ea778",
   "metadata": {},
   "outputs": [],
   "source": [
    "sc.tl.umap(adata)"
   ]
  },
  {
   "cell_type": "code",
   "execution_count": null,
   "id": "577a9704-6fb0-49c9-ba8b-450678a17583",
   "metadata": {},
   "outputs": [],
   "source": [
    "sc.tl.leiden(adata, resolution = 0.9)"
   ]
  },
  {
   "cell_type": "code",
   "execution_count": null,
   "id": "41e33b68-61d9-4b7d-8cf4-9dcfb38198cc",
   "metadata": {},
   "outputs": [],
   "source": [
    "sc.pl.umap(adata, color=['leiden',\"phase\",\"sarc\",'Classification'],ncols=2)"
   ]
  },
  {
   "cell_type": "code",
   "execution_count": null,
   "id": "5a0f925d-d5ec-44b0-8b7d-c20542069cf4",
   "metadata": {},
   "outputs": [],
   "source": [
    "sc.pl.umap(adata, color=['total_counts', 'pct_counts_hMT'],ncols=2)"
   ]
  },
  {
   "cell_type": "code",
   "execution_count": null,
   "id": "49de41dc-3e2b-4f01-b3fe-c74e80f2fca8",
   "metadata": {
    "tags": []
   },
   "outputs": [],
   "source": [
    "sc.pl.umap(adata, color=['COL1A1','DES','MDM2',\"VEGFA\"],ncols=4)"
   ]
  },
  {
   "cell_type": "code",
   "execution_count": null,
   "id": "ab61053c-7649-485c-9b14-dfbe0ff5b050",
   "metadata": {
    "tags": []
   },
   "outputs": [],
   "source": [
    "sc.pl.umap(adata, color=['FBN1','BNIP3',\"PGK1\",\"NDRG1\"],ncols=4)"
   ]
  },
  {
   "cell_type": "code",
   "execution_count": null,
   "id": "31784109-c80c-4b62-a790-e6f52b37f8ae",
   "metadata": {},
   "outputs": [],
   "source": [
    "sc.tl.rank_genes_groups(adata, 'leiden', method='wilcoxon')#,use_raw=False)\n",
    "sc.pl.rank_genes_groups(adata, n_genes=25, sharey=False)"
   ]
  },
  {
   "cell_type": "code",
   "execution_count": null,
   "id": "ff038ffe-55fc-4ed2-ae8d-7a4824a20fef",
   "metadata": {},
   "outputs": [],
   "source": [
    "pd.DataFrame(adata.uns['rank_genes_groups']['names']).head(100).to_csv(\"hvg/pdxTreated_UPS2236_V4.csv\")"
   ]
  },
  {
   "cell_type": "markdown",
   "id": "53644078-a9fd-49a2-b009-c58010a3c574",
   "metadata": {},
   "source": [
    "0 - FAP\n",
    "1 - infG\n",
    "2 - early\n",
    "3 - Hypox\n",
    "4 - Nfkb\n",
    "5 - inflFAP\n",
    "6 - sam2A"
   ]
  },
  {
   "cell_type": "code",
   "execution_count": null,
   "id": "d362a954-a95d-4aa8-8358-1eaf40752478",
   "metadata": {},
   "outputs": [],
   "source": [
    "features = [\"FAP\",\"infG\",\"MusImm\",\"Hypox\",\"Nfkb\",\"inflFAP\",\"sam2A\"]\n",
    "sc.tl.leiden(adata, resolution=0.9, key_added = \"chemoLabel\")\n",
    "adata.rename_categories('chemoLabel', features)"
   ]
  },
  {
   "cell_type": "code",
   "execution_count": null,
   "id": "de60e41b-ae19-4cde-b547-982c4ba40a81",
   "metadata": {},
   "outputs": [],
   "source": [
    "sc.pl.umap(adata, color=[\"chemoLabel\"],legend_loc=\"on data\")"
   ]
  },
  {
   "cell_type": "code",
   "execution_count": null,
   "id": "b77e5048-8796-44f1-bebd-f849aa826ccc",
   "metadata": {},
   "outputs": [],
   "source": [
    "sc.tl.filter_rank_genes_groups(adata, min_in_group_fraction=0.25, min_fold_change=1, max_out_group_fraction=0.5)\n",
    "sc.pl.rank_genes_groups(adata, key='rank_genes_groups_filtered', sharey=False)"
   ]
  },
  {
   "cell_type": "code",
   "execution_count": null,
   "id": "990eb29e-5161-48c5-93b6-d10c6aff9fc0",
   "metadata": {},
   "outputs": [],
   "source": [
    "adata"
   ]
  },
  {
   "cell_type": "code",
   "execution_count": null,
   "id": "d37b82b5-034d-4221-99de-d8964d91e7bf",
   "metadata": {
    "scrolled": true
   },
   "outputs": [],
   "source": [
    "adata.write('../../write/sarcPDX_Treat_all_UPS2236_V4.h5ad')"
   ]
  },
  {
   "cell_type": "code",
   "execution_count": null,
   "id": "193642e2-6823-43e7-8b61-2785db98f63a",
   "metadata": {},
   "outputs": [],
   "source": [
    "sc.tl.dendrogram(adata, groupby=\"leiden\", n_pcs=60)\n",
    "sc.pl.rank_genes_groups_dotplot(adata, key='rank_genes_groups_filtered',n_genes=4)"
   ]
  },
  {
   "cell_type": "code",
   "execution_count": null,
   "id": "f2e1544d-f412-47d9-b432-1e1b9929c466",
   "metadata": {},
   "outputs": [],
   "source": [
    "pd.DataFrame(adata.uns['rank_genes_groups_filtered']['names'])"
   ]
  },
  {
   "cell_type": "code",
   "execution_count": null,
   "id": "9f80e337-f8d3-4d19-951a-51014a5169de",
   "metadata": {},
   "outputs": [],
   "source": [
    "sc.pl.umap(adata, color=['leiden',\"phase\",'sarc','Classification'],ncols=2)"
   ]
  },
  {
   "cell_type": "code",
   "execution_count": null,
   "id": "c7042bd2-4fa9-41fd-ad08-ff9a9e837b8c",
   "metadata": {},
   "outputs": [],
   "source": [
    "sc.tl.embedding_density(adata, basis='umap', groupby='sarc')"
   ]
  },
  {
   "cell_type": "code",
   "execution_count": null,
   "id": "5553edd9-4980-414a-9333-a1d4a73207a6",
   "metadata": {},
   "outputs": [],
   "source": [
    "sc.pl.embedding_density(adata, basis='umap', key='umap_density_sarc')"
   ]
  },
  {
   "cell_type": "code",
   "execution_count": null,
   "id": "5d6e8673-4967-455b-8179-102a4247ac97",
   "metadata": {
    "editable": true,
    "slideshow": {
     "slide_type": ""
    },
    "tags": []
   },
   "outputs": [],
   "source": [
    "pd.DataFrame(adata.uns['rank_genes_groups']['names']).head(20)"
   ]
  },
  {
   "cell_type": "code",
   "execution_count": null,
   "id": "2512ea71-0b73-4da4-a647-f03c14ff8255",
   "metadata": {},
   "outputs": [],
   "source": [
    "list(pd.DataFrame(adata.uns['rank_genes_groups']['names']).head(20).iloc[:,1])"
   ]
  },
  {
   "cell_type": "code",
   "execution_count": null,
   "id": "b7734a90-21de-4238-97ae-ce6a350db4d5",
   "metadata": {},
   "outputs": [],
   "source": [
    "sc.tl.dendrogram(adata, groupby = 'leiden')\n",
    "sc.pl.rank_genes_groups_dotplot(adata, groupby = 'leiden',n_genes=4)"
   ]
  },
  {
   "cell_type": "code",
   "execution_count": null,
   "id": "62d32290-9159-4225-99dd-b8dac4a2a4e7",
   "metadata": {},
   "outputs": [],
   "source": [
    "sc.tl.rank_genes_groups(adata, 'sarc', method='wilcoxon')#,use_raw=False)\n",
    "sc.pl.rank_genes_groups(adata, n_genes=25, sharey=False)"
   ]
  },
  {
   "cell_type": "code",
   "execution_count": null,
   "id": "ef8fb19e-0129-493f-ae04-790f19c44743",
   "metadata": {},
   "outputs": [],
   "source": [
    "sc.pl.umap(adata, color=['leiden',\"feature\",'sarc','Classification'],ncols=2)"
   ]
  },
  {
   "cell_type": "code",
   "execution_count": null,
   "id": "eea0a41f-e838-464f-b259-ff8dc4dcc7ac",
   "metadata": {},
   "outputs": [],
   "source": [
    "#treatHvg = pd.read_csv(\"hvg/treatedHvg.csv\")\n",
    "#treatHvg"
   ]
  },
  {
   "cell_type": "code",
   "execution_count": null,
   "id": "739dfec9-a42b-4da9-95f5-8d178eeaed68",
   "metadata": {},
   "outputs": [],
   "source": [
    "#sc.tl.score_genes(adata, treatHvg[\"3\"],score_name='treated_3')\n",
    "#sc.tl.score_genes(adata, treatHvg[\"7\"],score_name='treated_7')\n",
    "#sc.pl.umap(adata,color=[\"treated_3\",\"treated_7\",\"leiden\"])"
   ]
  },
  {
   "cell_type": "code",
   "execution_count": null,
   "id": "77d7e2d9-95ca-434a-ae04-b39df2909aaf",
   "metadata": {
    "tags": []
   },
   "outputs": [],
   "source": [
    "adata.write('../../write/sarcPDX_Treat_all_UPS2236_V4.h5ad')"
   ]
  },
  {
   "cell_type": "code",
   "execution_count": null,
   "id": "848de843-819c-4a0e-a575-1cfd31f31805",
   "metadata": {
    "tags": []
   },
   "outputs": [],
   "source": [
    "adata = sc.read('../../write/sarcPDX_Treat_all_UPS2236_V4.h5ad')\n",
    "adata"
   ]
  },
  {
   "cell_type": "code",
   "execution_count": null,
   "id": "6fbded32-580b-40e0-bd47-10dfa3573aeb",
   "metadata": {},
   "outputs": [],
   "source": [
    "adataP = sc.read('../../write/scSarc3_PDX_V3_QC.h5ad')\n",
    "adataP"
   ]
  },
  {
   "cell_type": "code",
   "execution_count": null,
   "id": "56fef91d-c460-4d77-8e75-c16d7e3a0159",
   "metadata": {},
   "outputs": [],
   "source": [
    "adataT = sc.read('../../write/sarcPDX_Treat_all_UPS2236_QC.h5ad')\n",
    "adataT = adataT[adataT.obs.sarc==\"ctl\"]"
   ]
  },
  {
   "cell_type": "code",
   "execution_count": null,
   "id": "069d8846-19ab-46a8-88f2-319dc0e210f4",
   "metadata": {},
   "outputs": [],
   "source": [
    "adata = sc.concat({\"treat\":adataT, \"orig\":adataP}, label=\"run\")\n",
    "adata"
   ]
  },
  {
   "cell_type": "code",
   "execution_count": null,
   "id": "ead1c2fd-9ecb-455e-bdae-eb2e4dab3867",
   "metadata": {},
   "outputs": [],
   "source": [
    "sc.pl.violin(adata, ['n_genes_by_counts', 'total_counts', \"pct_counts_hMT\"],jitter=0.4, multi_panel=True, groupby=\"run\")"
   ]
  },
  {
   "cell_type": "code",
   "execution_count": null,
   "id": "fda58eb8-8cd4-4a0d-9b6f-d29758c8ea71",
   "metadata": {},
   "outputs": [],
   "source": [
    "#ctl = [x in [\"ctl\"] for x in adata.obs[\"sarc\"]]\n",
    "#adata = adata[ctl,]\n",
    "#adata"
   ]
  },
  {
   "cell_type": "code",
   "execution_count": null,
   "id": "b0a97f13-f152-4ba5-b75d-f70ae274a105",
   "metadata": {},
   "outputs": [],
   "source": [
    "sc.pp.normalize_total(adata, target_sum=1e4)"
   ]
  },
  {
   "cell_type": "code",
   "execution_count": null,
   "id": "b8d360c7-cd6b-49fc-a69d-f57e5f34468a",
   "metadata": {},
   "outputs": [],
   "source": [
    "sc.pp.log1p(adata)"
   ]
  },
  {
   "cell_type": "code",
   "execution_count": null,
   "id": "1693dcb1-ea0b-4a95-9505-e4d2bf0c1813",
   "metadata": {},
   "outputs": [],
   "source": [
    "cell_cycle_genes = [x.strip() for x in open('../../data/regev_lab_cell_cycle_genes_Human.txt')]\n",
    "s_genes = cell_cycle_genes[:43]\n",
    "g2m_genes = cell_cycle_genes[43:]\n",
    "cell_cycle_genes = [x for x in cell_cycle_genes if x in adata.var_names]"
   ]
  },
  {
   "cell_type": "code",
   "execution_count": null,
   "id": "51fdad0c-23e4-4077-bcdb-bb5b146a4adb",
   "metadata": {},
   "outputs": [],
   "source": [
    "sc.tl.score_genes_cell_cycle(adata, s_genes=s_genes, g2m_genes=g2m_genes)"
   ]
  },
  {
   "cell_type": "code",
   "execution_count": null,
   "id": "38b3ba81-45cc-43d9-a731-9e65111669b3",
   "metadata": {},
   "outputs": [],
   "source": [
    "adata_cc_genes = adata[:, cell_cycle_genes]\n",
    "sc.tl.pca(adata_cc_genes)\n",
    "sc.pl.pca_scatter(adata_cc_genes, color='phase')"
   ]
  },
  {
   "cell_type": "code",
   "execution_count": null,
   "id": "ea77de43-c619-44ce-98ef-65867c87186c",
   "metadata": {},
   "outputs": [],
   "source": [
    "#adata_cc_genes.var[adata_cc_genes.var[\"highly_variable\"]]"
   ]
  },
  {
   "cell_type": "code",
   "execution_count": null,
   "id": "760396af-d1cd-45e5-9382-fc68603070e3",
   "metadata": {
    "tags": []
   },
   "outputs": [],
   "source": [
    "sc.pp.highly_variable_genes(adata, batch_key=\"run\")#, flavor=\"seurat\", n_top_genes=2000)"
   ]
  },
  {
   "cell_type": "code",
   "execution_count": null,
   "id": "0b352cd7-a934-44e5-b461-125cc70e7c14",
   "metadata": {},
   "outputs": [],
   "source": [
    "adata.var"
   ]
  },
  {
   "cell_type": "code",
   "execution_count": null,
   "id": "9a92c60f-79a0-48a9-88f6-fa091597ead2",
   "metadata": {},
   "outputs": [],
   "source": [
    "sum(adata.var.highly_variable)"
   ]
  },
  {
   "cell_type": "code",
   "execution_count": null,
   "id": "f812ba92-0f75-4467-af23-a7f963245ea0",
   "metadata": {},
   "outputs": [],
   "source": [
    "x = adata.var[[\"means\"]][adata.var[[\"means\"]] > np.exp(-10)]#adata.var[[\"means\"]]\n",
    "plt.hist(np.log(x), bins=100)#, log=True)\n",
    "plt.axvline(np.log(0.05), color='k', linestyle='dashed', linewidth=1)\n",
    "plt.axvline(np.log(3), color='k', linestyle='dashed', linewidth=1)\n",
    "plt.title('Gene means counts')\n",
    "plt.xlabel('means')\n",
    "plt.ylabel('counts')\n",
    "plt.show()"
   ]
  },
  {
   "cell_type": "code",
   "execution_count": null,
   "id": "534fde1f-2edc-4ca3-a6cb-1d3a3fdbb345",
   "metadata": {},
   "outputs": [],
   "source": [
    "x = adata.var[[\"dispersions_norm\"]][adata.var[[\"dispersions_norm\"]] > np.exp(-4)]#adata.var[[\"dispersions\"]]\n",
    "plt.hist(np.log(x), bins=50)#, log=True)\n",
    "plt.axvline(np.log(0.5), color='k', linestyle='dashed', linewidth=1)\n",
    "plt.title('Gene dispersions counts')\n",
    "plt.xlabel('dispersions')\n",
    "plt.ylabel('counts')\n",
    "plt.show()"
   ]
  },
  {
   "cell_type": "code",
   "execution_count": null,
   "id": "c521b4a0-db4d-49e0-ae5c-3270f8f59e1d",
   "metadata": {},
   "outputs": [],
   "source": [
    "sc.pp.highly_variable_genes(adata, min_disp=0.5, min_mean=0.05, max_mean=3,batch_key=\"run\")"
   ]
  },
  {
   "cell_type": "code",
   "execution_count": null,
   "id": "f652fcf3-a9b5-4e2a-b236-bc2cc3d0139d",
   "metadata": {},
   "outputs": [],
   "source": [
    "adata.var"
   ]
  },
  {
   "cell_type": "code",
   "execution_count": null,
   "id": "e17d1554-5e84-4dcd-ac7b-94188b910455",
   "metadata": {},
   "outputs": [],
   "source": [
    "sum(adata.var.highly_variable)"
   ]
  },
  {
   "cell_type": "code",
   "execution_count": null,
   "id": "95853272-1d8b-4e17-ad92-02243f27cdfa",
   "metadata": {},
   "outputs": [],
   "source": [
    "sc.pl.highly_variable_genes(adata)"
   ]
  },
  {
   "cell_type": "code",
   "execution_count": null,
   "id": "9be81ebc-943d-433e-b5cb-446785ae5e77",
   "metadata": {},
   "outputs": [],
   "source": [
    "adata.raw = adata"
   ]
  },
  {
   "cell_type": "code",
   "execution_count": null,
   "id": "e53eee66-c068-4741-bfeb-262e0116c473",
   "metadata": {},
   "outputs": [],
   "source": [
    "sum(adata.var.highly_variable)"
   ]
  },
  {
   "cell_type": "code",
   "execution_count": null,
   "id": "fca447fb-49ee-440b-b64a-0fd93665aff3",
   "metadata": {},
   "outputs": [],
   "source": [
    "adata = adata[:, adata.var.highly_variable]"
   ]
  },
  {
   "cell_type": "code",
   "execution_count": null,
   "id": "cff7c9fb-1bf4-471d-8004-ca9ccac483fe",
   "metadata": {},
   "outputs": [],
   "source": [
    "adata.var"
   ]
  },
  {
   "cell_type": "code",
   "execution_count": null,
   "id": "cbee6c79-82c0-43de-bb09-36c698675c89",
   "metadata": {},
   "outputs": [],
   "source": []
  },
  {
   "cell_type": "code",
   "execution_count": null,
   "id": "3233735a-391d-4022-955b-1203030312b2",
   "metadata": {},
   "outputs": [],
   "source": [
    "#sc.pp.regress_out(adata, ['S_score', 'G2M_score'])\n",
    "sc.pp.regress_out(adata, ['S_score', 'G2M_score','total_counts', 'pct_counts_hMT'])#])#"
   ]
  },
  {
   "cell_type": "code",
   "execution_count": null,
   "id": "f861fbc8-c0d3-4868-b4a5-2b34e4a809d0",
   "metadata": {},
   "outputs": [],
   "source": [
    "sc.pp.scale(adata, max_value=4)"
   ]
  },
  {
   "cell_type": "code",
   "execution_count": null,
   "id": "cf73ec38-28e3-4118-af60-03a49dc9ab38",
   "metadata": {},
   "outputs": [],
   "source": [
    "sc.tl.pca(adata, n_comps=100,svd_solver='arpack')"
   ]
  },
  {
   "cell_type": "code",
   "execution_count": null,
   "id": "426c8ac9-1e55-46f3-922a-205d683a5c1e",
   "metadata": {},
   "outputs": [],
   "source": [
    "sc.pl.pca_variance_ratio(adata, n_pcs=100, log=True)"
   ]
  },
  {
   "cell_type": "code",
   "execution_count": null,
   "id": "dd8193b2-0a6d-4a6b-ae6f-8a0576436473",
   "metadata": {},
   "outputs": [],
   "source": [
    "sc.pp.neighbors(adata, n_neighbors=20, n_pcs=60)"
   ]
  },
  {
   "cell_type": "code",
   "execution_count": null,
   "id": "6222493b-a909-4ed9-8abc-de8460c44965",
   "metadata": {},
   "outputs": [],
   "source": [
    "sc.tl.umap(adata)"
   ]
  },
  {
   "cell_type": "code",
   "execution_count": null,
   "id": "be01087c-7070-4fb4-aede-5992d3823bd1",
   "metadata": {},
   "outputs": [],
   "source": [
    "sc.tl.leiden(adata, resolution = 0.6)"
   ]
  },
  {
   "cell_type": "code",
   "execution_count": null,
   "id": "254e6976-8f46-4599-b0bd-383623c9305f",
   "metadata": {},
   "outputs": [],
   "source": [
    "sc.pl.umap(adata, color=['leiden',\"phase\",'run','Classification'],ncols=2)"
   ]
  },
  {
   "cell_type": "code",
   "execution_count": null,
   "id": "de78635f-823a-4fa8-8c5e-9cbdc7a3cecf",
   "metadata": {},
   "outputs": [],
   "source": [
    "sc.pl.umap(adata, color=['leiden',\"phase\",'sarc','Classification','total_counts', 'pct_counts_hMT'],ncols=2)"
   ]
  },
  {
   "cell_type": "code",
   "execution_count": null,
   "id": "14989054-a82b-4353-8570-db3044efbd26",
   "metadata": {},
   "outputs": [],
   "source": [
    "sc.pl.umap(adata, color=['leiden',\"phase\",'Classification'],ncols=2)"
   ]
  },
  {
   "cell_type": "code",
   "execution_count": null,
   "id": "ff36486a-08e0-46af-9fea-10ba656d1a8e",
   "metadata": {},
   "outputs": [],
   "source": []
  }
 ],
 "metadata": {
  "kernelspec": {
   "display_name": "Python 3 (ipykernel)",
   "language": "python",
   "name": "python3"
  },
  "language_info": {
   "codemirror_mode": {
    "name": "ipython",
    "version": 3
   },
   "file_extension": ".py",
   "mimetype": "text/x-python",
   "name": "python",
   "nbconvert_exporter": "python",
   "pygments_lexer": "ipython3",
   "version": "3.8.16"
  }
 },
 "nbformat": 4,
 "nbformat_minor": 5
}
