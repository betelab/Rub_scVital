{
 "cells": [
  {
   "cell_type": "code",
   "execution_count": null,
   "id": "425c36fc-f0af-4c76-93d7-cf512d943577",
   "metadata": {},
   "outputs": [],
   "source": []
  },
  {
   "cell_type": "code",
   "execution_count": null,
   "id": "252d89ce-66b2-430f-abb7-5c91d66b7d3f",
   "metadata": {},
   "outputs": [],
   "source": [
    "import numpy as np\n",
    "import pandas as pd\n",
    "import scanpy as sc\n",
    "import scipy.io\n",
    "import scanpy.external as scex\n",
    "import sklearn.metrics\n",
    "import seaborn as sns\n",
    "from matplotlib import pyplot as plt\n"
   ]
  },
  {
   "cell_type": "code",
   "execution_count": null,
   "id": "645d8750-2a93-49ed-9a60-40d01fa7eb0e",
   "metadata": {},
   "outputs": [],
   "source": [
    "#adata=sc.read(results_file_post)\n",
    "#adata.uns['log1p'] = {\"base\":None}"
   ]
  },
  {
   "cell_type": "markdown",
   "id": "139dcda2-4b50-45aa-85e8-663e70a74cb6",
   "metadata": {},
   "source": [
    "Set up out properties"
   ]
  },
  {
   "cell_type": "code",
   "execution_count": null,
   "id": "304826fc-ac59-4d76-a655-1f93f7bcdd6e",
   "metadata": {
    "scrolled": true,
    "tags": []
   },
   "outputs": [],
   "source": [
    "sc.settings.verbosity = 3             # verbosity: errors (0), warnings (1), info (2), hints (3)\n",
    "sc.logging.print_header()\n",
    "sc.settings.set_figure_params(dpi=80, facecolor='white')"
   ]
  },
  {
   "cell_type": "code",
   "execution_count": null,
   "id": "a3958527-8b39-4c29-9163-eee788c190cf",
   "metadata": {},
   "outputs": [],
   "source": [
    "%matplotlib inline"
   ]
  },
  {
   "cell_type": "markdown",
   "id": "968566a5-e27e-43f5-8cb2-b935b5a12dd7",
   "metadata": {},
   "source": [
    "Set scanpy out-files"
   ]
  },
  {
   "cell_type": "code",
   "execution_count": null,
   "id": "c4675a44-ce4a-4f38-b04a-66c4fc2e0bb4",
   "metadata": {},
   "outputs": [],
   "source": [
    "writeDir = \"write/\"\n",
    "\n",
    "fileName = \"lungMouse\"\n",
    "\n",
    "resultsFile = writeDir + fileName + '.h5ad'       # final output\n",
    "resultsFileQC = writeDir + fileName + '_QC.h5ad'  # post QC (pre-analysis) "
   ]
  },
  {
   "cell_type": "markdown",
   "id": "77696e51-c2b5-4a05-964f-d52840995ce1",
   "metadata": {
    "tags": []
   },
   "source": [
    "Set figure parameters"
   ]
  },
  {
   "cell_type": "code",
   "execution_count": null,
   "id": "e50cffba-ab13-40fe-b978-c525fb1db4a5",
   "metadata": {
    "tags": []
   },
   "outputs": [],
   "source": [
    "sc.set_figure_params(scanpy=True, dpi=100, dpi_save=150, fontsize=10, format='png')\n",
    "sc.settings.figdir = \"figures/\" + fileName + \"/\"\n",
    "figName = fileName"
   ]
  },
  {
   "cell_type": "code",
   "execution_count": null,
   "id": "83f3aa4e-f800-488a-b41e-0443986c9415",
   "metadata": {
    "tags": []
   },
   "outputs": [],
   "source": [
    "adata = sc.read(resultsFileQC)\n",
    "adata"
   ]
  },
  {
   "cell_type": "code",
   "execution_count": null,
   "id": "d01530e1-6133-4113-aad5-c5d768aba82a",
   "metadata": {},
   "outputs": [],
   "source": [
    "sc.pp.normalize_total(adata,target_sum=1e4)"
   ]
  },
  {
   "cell_type": "code",
   "execution_count": null,
   "id": "7c826e38-bb29-4e00-933a-55b59581a5d9",
   "metadata": {},
   "outputs": [],
   "source": [
    "sc.pp.log1p(adata)"
   ]
  },
  {
   "cell_type": "code",
   "execution_count": null,
   "id": "81fe9223-7eac-46a7-8321-b718e726830a",
   "metadata": {},
   "outputs": [],
   "source": [
    "sc.pp.highly_variable_genes(adata)#, flavor = \"seurat\", n_top_genes=2000)"
   ]
  },
  {
   "cell_type": "code",
   "execution_count": null,
   "id": "43902dc2-466e-46e2-9f31-4deb304db630",
   "metadata": {},
   "outputs": [],
   "source": [
    "minMean = 0.05\n",
    "maxMean = 3\n",
    "minDisp = 0.65\n",
    "\n",
    "fig, axs = plt.subplots(1, 2, figsize=(10, 5))\n",
    "\n",
    "means = adata.var[[\"means\"]][adata.var[[\"means\"]] > np.exp(-14)]#adata.var[[\"means\"]],\n",
    "axs[0].hist(np.log(means), bins=100)#, log=True),\n",
    "axs[0].axvline(np.log(minMean), color='k', linestyle='dashed', linewidth=1)\n",
    "axs[0].axvline(np.log(maxMean), color='k', linestyle='dashed', linewidth=1)\n",
    "axs[0].set_title('Gene means counts')\n",
    "axs[0].set_xlabel('means')\n",
    "axs[0].set_ylabel('counts')\n",
    "\n",
    "dispNorm = adata.var[[\"dispersions_norm\"]][adata.var[[\"dispersions_norm\"]] > np.exp(-5)]#adata.var[[\"means\"]],\n",
    "axs[1].hist(np.log(dispNorm), bins=100)#, log=True),\n",
    "axs[1].axvline(np.log(minDisp), color='k', linestyle='dashed', linewidth=1)\n",
    "axs[1].set_title('Gene dispersions counts')\n",
    "axs[1].set_xlabel('dispersions')\n",
    "axs[1].set_ylabel('counts')\n",
    "\n",
    "sc.pp.highly_variable_genes(adata, min_disp=minDisp, min_mean=minMean, max_mean=maxMean)\n",
    "print(sum(adata.var.highly_variable))"
   ]
  },
  {
   "cell_type": "code",
   "execution_count": null,
   "id": "8cda0b69-f64e-447a-961a-7c50fe8e5bf0",
   "metadata": {},
   "outputs": [],
   "source": [
    "sc.pl.highly_variable_genes(adata)"
   ]
  },
  {
   "cell_type": "code",
   "execution_count": null,
   "id": "325e82de-43f6-4934-a6a6-50ddf02a94a8",
   "metadata": {},
   "outputs": [],
   "source": [
    "#for inGene in adata.var[-8:].index.tolist():\n",
    "#    adata.var.loc[inGene,\"highly_variable\"] = False"
   ]
  },
  {
   "cell_type": "code",
   "execution_count": null,
   "id": "7a1143eb-b1f7-40ef-9a85-d6be0051667a",
   "metadata": {},
   "outputs": [],
   "source": [
    "adata.raw = adata"
   ]
  },
  {
   "cell_type": "code",
   "execution_count": null,
   "id": "5e2861e5-09c6-4a19-bb72-62a238c47a79",
   "metadata": {},
   "outputs": [],
   "source": [
    "#adata = adata[:, adata.var.highly_variable]\n",
    "adata = adata[:, np.logical_and(adata.var.highly_variable, np.logical_not(adata.var.mt))]"
   ]
  },
  {
   "cell_type": "code",
   "execution_count": null,
   "id": "673c60dc-7028-48e2-9ccf-9b5ae45934d1",
   "metadata": {},
   "outputs": [],
   "source": [
    "#sc.pp.regress_out(adata, ['total_counts', 'pct_counts_mt'])"
   ]
  },
  {
   "cell_type": "code",
   "execution_count": null,
   "id": "5440f444-9bf6-40bf-8267-3ff16acfab39",
   "metadata": {},
   "outputs": [],
   "source": [
    "#sc.pp.scale(adata, max_value=10)"
   ]
  },
  {
   "cell_type": "code",
   "execution_count": null,
   "id": "8935337f-dc02-4347-9bf1-6057d1c1a8e7",
   "metadata": {},
   "outputs": [],
   "source": [
    "sc.tl.pca(adata, n_comps = 100, svd_solver='arpack')"
   ]
  },
  {
   "cell_type": "code",
   "execution_count": null,
   "id": "ffcfea62-8864-4bdc-8d44-2c5bd56b7f42",
   "metadata": {},
   "outputs": [],
   "source": [
    "sc.pl.pca_variance_ratio(adata, n_pcs = 100, log=True)"
   ]
  },
  {
   "cell_type": "code",
   "execution_count": null,
   "id": "f694d1da-e616-48ba-8c66-c97008df6acc",
   "metadata": {},
   "outputs": [],
   "source": [
    "sc.pl.pca_variance_ratio(adata, n_pcs = 100)"
   ]
  },
  {
   "cell_type": "code",
   "execution_count": null,
   "id": "873dbc0c-4046-493f-bc92-32dd4e63c263",
   "metadata": {},
   "outputs": [],
   "source": [
    "sc.pp.neighbors(adata, n_neighbors=20, n_pcs=60)"
   ]
  },
  {
   "cell_type": "code",
   "execution_count": null,
   "id": "a56f3796-396c-4698-93d1-49cf6042e4ae",
   "metadata": {},
   "outputs": [],
   "source": [
    "sc.tl.umap(adata)"
   ]
  },
  {
   "cell_type": "code",
   "execution_count": null,
   "id": "5d9e7992-bf40-45f4-9b17-f1346e8d90b9",
   "metadata": {},
   "outputs": [],
   "source": [
    "sc.tl.leiden(adata, resolution=0.25)"
   ]
  },
  {
   "cell_type": "code",
   "execution_count": null,
   "id": "066a2aa9-60ae-4978-9c6d-364e80f4eec8",
   "metadata": {},
   "outputs": [],
   "source": [
    "adata.obs"
   ]
  },
  {
   "cell_type": "code",
   "execution_count": null,
   "id": "c4f96d76-7d3b-40ab-978a-fe4635c01d0b",
   "metadata": {},
   "outputs": [],
   "source": [
    "sc.pl.umap(adata, color=[\"leiden\"],ncols=1, legend_loc=\"on data\")"
   ]
  },
  {
   "cell_type": "code",
   "execution_count": null,
   "id": "7e5a5815-8930-4e60-8107-d88438089730",
   "metadata": {},
   "outputs": [],
   "source": [
    "sc.pl.umap(adata, color=[\"Ptprc\",\"Col1a1\",\"Epcam\", \"Pecam1\"],ncols=4)"
   ]
  },
  {
   "cell_type": "code",
   "execution_count": null,
   "id": "1a9fb3d7-6de5-4805-a26e-2817cb5be904",
   "metadata": {},
   "outputs": [],
   "source": [
    "sc.pl.umap(adata, color=[\"Sftpc\"],ncols=4)"
   ]
  },
  {
   "cell_type": "code",
   "execution_count": null,
   "id": "0df26877-c177-4fe1-bcc5-e49041f18485",
   "metadata": {},
   "outputs": [],
   "source": [
    "sc.pl.umap(adata, color=[\"n_genes\",\"pct_counts_mt\",\"total_counts\"])"
   ]
  },
  {
   "cell_type": "code",
   "execution_count": null,
   "id": "e0d77280-5572-4791-9f6a-3949e5ed59b5",
   "metadata": {},
   "outputs": [],
   "source": [
    "sc.tl.rank_genes_groups(adata, 'leiden', method='wilcoxon', use_raw=False)\n",
    "#sc.tl.filter_rank_genes_groups(adata, groupby=\"leiden\", use_raw=False,\n",
    "#                                   key_added='rank_genes_groups_filtered', \n",
    "#                                   min_in_group_fraction=0.25, min_fold_change=1, max_out_group_fraction=0.5, compare_abs=False)\n",
    "sc.pl.rank_genes_groups(adata, n_genes=25, sharey=False)"
   ]
  },
  {
   "cell_type": "code",
   "execution_count": null,
   "id": "741eb90d-dc29-40e7-967a-a9498893abf1",
   "metadata": {},
   "outputs": [],
   "source": [
    "pd.DataFrame(adata.uns['rank_genes_groups']['names']).head(15)"
   ]
  },
  {
   "cell_type": "code",
   "execution_count": null,
   "id": "dc26321c-65df-47c7-ad80-999180b6ca94",
   "metadata": {},
   "outputs": [],
   "source": [
    "sc.tl.dendrogram(adata,groupby=\"leiden\", n_pcs=60)\n",
    "sc.pl.rank_genes_groups_dotplot(adata,n_genes=3)#,key=\"rank_genes_groups_filtered\")"
   ]
  },
  {
   "cell_type": "code",
   "execution_count": null,
   "id": "28a620b6-e90c-4d31-bd38-1c54f04da93b",
   "metadata": {},
   "outputs": [],
   "source": [
    "resultsFile"
   ]
  },
  {
   "cell_type": "code",
   "execution_count": null,
   "id": "d66ae6a6-8574-4aea-8636-6840bb1a84ce",
   "metadata": {},
   "outputs": [],
   "source": [
    "adata.write(resultsFile)\n",
    "adata"
   ]
  },
  {
   "cell_type": "code",
   "execution_count": null,
   "id": "6e4af58a-ffde-4992-8452-c60fe6353abc",
   "metadata": {},
   "outputs": [],
   "source": [
    "homology = pd.read_table(\"data/hgncHM_121.csv\", sep=\",\")\n",
    "humanGenes = np.array(homology.loc[:,\"human\"])\n",
    "mouseGenes = np.array(homology.loc[:,\"mouse\"])\n",
    "homology"
   ]
  },
  {
   "cell_type": "code",
   "execution_count": null,
   "id": "c4e7323d-bb7d-4071-85d3-2be483ce96b4",
   "metadata": {},
   "outputs": [],
   "source": [
    "allCTs = pd.read_csv(\"data/Lung/cellTypeAnno/humanLungCellTypeGenes.csv\",index_col=0)\n",
    "allCTs"
   ]
  },
  {
   "cell_type": "code",
   "execution_count": null,
   "id": "ba05b4ea-192e-49ae-b765-3fb5ec06bfdd",
   "metadata": {},
   "outputs": [],
   "source": [
    "classLabDict = dict(zip(allCTs.columns.values,allCTs.columns.values))\n",
    "markers = pd.DataFrame(np.empty((250*allCTs.shape[1],2), dtype=\"object\"), columns=[\"genes\", \"clustName\"])\n",
    "for i,clust in enumerate(allCTs.columns):\n",
    "    for j,gene in enumerate(allCTs.index):\n",
    "        gene = allCTs.loc[gene,clust]\n",
    "        indexOver = np.where(humanGenes == gene)[0]\n",
    "        if indexOver.size > 0:\n",
    "            gene = mouseGenes[indexOver[0]]\n",
    "        markers.iloc[i*250+j] = gene,classLabDict[clust]\n",
    "        \n",
    "markers = markers.dropna()\n",
    "markers"
   ]
  },
  {
   "cell_type": "code",
   "execution_count": null,
   "id": "37f51f82-071b-4469-b5c7-f2a6b0559442",
   "metadata": {},
   "outputs": [],
   "source": [
    "markers = markers.drop_duplicates()"
   ]
  },
  {
   "cell_type": "code",
   "execution_count": null,
   "id": "7bbcf732-9b4a-482d-b755-dfb1fd5a2cc7",
   "metadata": {},
   "outputs": [],
   "source": [
    "import decoupler as dc"
   ]
  },
  {
   "cell_type": "code",
   "execution_count": null,
   "id": "78c2053c-63e3-4373-beb0-d129cb57f99c",
   "metadata": {},
   "outputs": [],
   "source": [
    "dc.run_ora(\n",
    "    mat=adata,\n",
    "    net=markers,\n",
    "    source='clustName',\n",
    "    target='genes',\n",
    "    min_n=3,\n",
    "    verbose=True\n",
    ")"
   ]
  },
  {
   "cell_type": "code",
   "execution_count": null,
   "id": "46044c3a-6e40-4484-b4e2-a6ed57b48560",
   "metadata": {},
   "outputs": [],
   "source": [
    "acts = dc.get_acts(adata, obsm_key='ora_estimate')\n",
    "\n",
    "# We need to remove inf and set them to the maximum value observed for pvals=0\n",
    "acts_v = acts.X.ravel()\n",
    "max_e = np.nanmax(acts_v[np.isfinite(acts_v)])\n",
    "acts.X[~np.isfinite(acts.X)] = max_e\n",
    "\n",
    "acts"
   ]
  },
  {
   "cell_type": "code",
   "execution_count": null,
   "id": "4cc59b01-a300-4d74-9120-8842cb929f42",
   "metadata": {
    "scrolled": true
   },
   "outputs": [],
   "source": [
    "df = dc.rank_sources_groups(acts, groupby='leiden', reference='rest', method='t-test_overestim_var')\n",
    "df"
   ]
  },
  {
   "cell_type": "code",
   "execution_count": null,
   "id": "667797c4-f03f-4574-989b-363aa3d2e15e",
   "metadata": {},
   "outputs": [],
   "source": [
    "n_ctypes = 3\n",
    "ctypes_dict = df.groupby('group').head(n_ctypes).groupby('group')['names'].apply(lambda x: list(x)).to_dict()\n",
    "ctypes_dict"
   ]
  },
  {
   "cell_type": "code",
   "execution_count": null,
   "id": "3ccc0bb8-6798-4657-97b5-a37c549af3bf",
   "metadata": {},
   "outputs": [],
   "source": [
    "sc.pl.matrixplot(acts, ctypes_dict, 'leiden', dendrogram=True, standard_scale='var',\n",
    "                 colorbar_title='Z-scaled scores', cmap='RdBu_r')"
   ]
  },
  {
   "cell_type": "code",
   "execution_count": null,
   "id": "c28ada6d-f05f-4d20-983e-90c99a5225ae",
   "metadata": {},
   "outputs": [],
   "source": [
    "annotation_dict = df.groupby('group').head(1).set_index('group')['names'].to_dict()\n",
    "annotation_dict"
   ]
  },
  {
   "cell_type": "code",
   "execution_count": null,
   "id": "f199f154-ed79-410e-8e6d-15e1d454d6e4",
   "metadata": {},
   "outputs": [],
   "source": [
    "# Add cell type column based on annotation\n",
    "adata.obs['decoupler'] = [annotation_dict[clust] for clust in adata.obs['leiden']]\n",
    "\n",
    "# Visualize\n",
    "sc.pl.umap(adata, color=['decoupler'])"
   ]
  },
  {
   "cell_type": "code",
   "execution_count": null,
   "id": "da14a98c-c0f7-4119-a8cd-fb22e1313d6d",
   "metadata": {},
   "outputs": [],
   "source": [
    "resultsFile"
   ]
  },
  {
   "cell_type": "code",
   "execution_count": null,
   "id": "0f2323d2-67b8-4809-b16d-22b8bd8dfade",
   "metadata": {},
   "outputs": [],
   "source": [
    "adata.write(resultsFile)\n",
    "adata"
   ]
  },
  {
   "cell_type": "code",
   "execution_count": null,
   "id": "0499d6e1-f282-4017-ace7-23778e3ca044",
   "metadata": {},
   "outputs": [],
   "source": []
  },
  {
   "cell_type": "code",
   "execution_count": null,
   "id": "8a598595-aa37-486f-b5f1-a5f20ce8dad5",
   "metadata": {},
   "outputs": [],
   "source": [
    "adata = sc.read_h5ad(resultsFile)\n",
    "adata"
   ]
  },
  {
   "cell_type": "code",
   "execution_count": null,
   "id": "c6ce59e0-9b08-4d55-87fc-c55903abe1ad",
   "metadata": {},
   "outputs": [],
   "source": [
    "sc.pl.umap(adata, color=['decoupler'])"
   ]
  },
  {
   "cell_type": "code",
   "execution_count": null,
   "id": "e9d0c1db-d615-410d-93ff-f36024d95114",
   "metadata": {},
   "outputs": [],
   "source": [
    "newLabels = np.array(adata.obs.decoupler.values.copy())\n",
    "for i,cs in enumerate(newLabels):\n",
    "    if cs == \"Serous\":\n",
    "        newLabels[i] = \"Goblet\"\n",
    "adata.obs[\"cellState\"] = newLabels"
   ]
  },
  {
   "cell_type": "code",
   "execution_count": null,
   "id": "7693baf0-90c4-45e2-82fb-950c42866a41",
   "metadata": {},
   "outputs": [],
   "source": [
    "#adata.obs[\"cellState\"] = adata.obs.decoupler"
   ]
  },
  {
   "cell_type": "code",
   "execution_count": null,
   "id": "490bebdb-6b72-4759-8f20-e47f8e43eba5",
   "metadata": {},
   "outputs": [],
   "source": [
    "sc.pl.umap(adata, color=['cellState'], legend_loc=\"on data\")"
   ]
  },
  {
   "cell_type": "code",
   "execution_count": null,
   "id": "e8fa4d43-ce2e-48f5-9f88-1a46e6f3d949",
   "metadata": {},
   "outputs": [],
   "source": [
    "sc.pl.umap(adata, color=['Krt8',\"Cd24a\",'cellState'])"
   ]
  },
  {
   "cell_type": "code",
   "execution_count": null,
   "id": "151600e8-4e88-4f33-8193-57a8e32afd5b",
   "metadata": {},
   "outputs": [],
   "source": [
    "adata.write(resultsFile)\n"
   ]
  },
  {
   "cell_type": "code",
   "execution_count": null,
   "id": "5bc8e78d-4d16-4126-8617-5462884016fe",
   "metadata": {},
   "outputs": [],
   "source": [
    "np.array(adata.obs.decoupler.values.copy())"
   ]
  },
  {
   "cell_type": "code",
   "execution_count": null,
   "id": "8b5334d2-565c-41f8-bdbb-155f6da94745",
   "metadata": {},
   "outputs": [],
   "source": []
  }
 ],
 "metadata": {
  "kernelspec": {
   "display_name": "Python 3 (ipykernel)",
   "language": "python",
   "name": "python3"
  },
  "language_info": {
   "codemirror_mode": {
    "name": "ipython",
    "version": 3
   },
   "file_extension": ".py",
   "mimetype": "text/x-python",
   "name": "python",
   "nbconvert_exporter": "python",
   "pygments_lexer": "ipython3",
   "version": "3.8.16"
  }
 },
 "nbformat": 4,
 "nbformat_minor": 5
}
