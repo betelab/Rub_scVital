{
 "cells": [
  {
   "cell_type": "code",
   "execution_count": null,
   "metadata": {},
   "outputs": [],
   "source": [
    "import numpy as np\n",
    "import pandas as pd\n",
    "import scanpy as sc\n",
    "import scipy.io\n",
    "import scanpy.external as scex\n",
    "import sklearn.metrics\n",
    "import matplotlib\n",
    "import bbknn\n",
    "#import dca\n",
    "#import scvelo as scv\n",
    "from matplotlib import pyplot as plt\n",
    "import seaborn as sns\n",
    "from scipy import stats\n",
    "from sklearn.mixture import GaussianMixture as GMM\n",
    "from scipy.stats import norm"
   ]
  },
  {
   "cell_type": "code",
   "execution_count": null,
   "metadata": {},
   "outputs": [],
   "source": [
    "#adata=sc.read(results_file_post)\n",
    "#adata.uns['log1p'] = {\"base\":None}"
   ]
  },
  {
   "cell_type": "markdown",
   "metadata": {},
   "source": [
    "Set up out properties"
   ]
  },
  {
   "cell_type": "code",
   "execution_count": null,
   "metadata": {
    "scrolled": true,
    "tags": []
   },
   "outputs": [],
   "source": [
    "sc.settings.verbosity = 3             # verbosity: errors (0), warnings (1), info (2), hints (3)\n",
    "sc.logging.print_header()\n",
    "sc.settings.set_figure_params(dpi=80, facecolor='white')"
   ]
  },
  {
   "cell_type": "code",
   "execution_count": null,
   "metadata": {},
   "outputs": [],
   "source": [
    "#%matplotlib inline"
   ]
  },
  {
   "cell_type": "markdown",
   "metadata": {},
   "source": [
    "Set scanpy out-files"
   ]
  },
  {
   "cell_type": "code",
   "execution_count": null,
   "metadata": {},
   "outputs": [],
   "source": [
    "writeDir = \"write/\"\n",
    "\n",
    "fileName = \"scSarcChemo_V4\"\n",
    "\n",
    "resultsFile = writeDir + fileName + '.h5ad'       # final output\n",
    "resultsFileQC = writeDir + fileName + '_QC.h5ad'  # post QC (pre-analysis) \n",
    "#resultsFileTry = writeDir + fileName + '_fTry.h5ad'"
   ]
  },
  {
   "cell_type": "markdown",
   "metadata": {
    "tags": []
   },
   "source": [
    "Set figure parameters"
   ]
  },
  {
   "cell_type": "code",
   "execution_count": null,
   "metadata": {
    "tags": []
   },
   "outputs": [],
   "source": [
    "sc.set_figure_params(scanpy=True, dpi=100, dpi_save=150, fontsize=10, format='png')\n",
    "sc.settings.figdir = \"figures/\" + fileName + \"/\"\n",
    "figName = fileName"
   ]
  },
  {
   "cell_type": "markdown",
   "metadata": {
    "tags": []
   },
   "source": [
    "read input file"
   ]
  },
  {
   "cell_type": "code",
   "execution_count": null,
   "metadata": {},
   "outputs": [],
   "source": [
    "inputFile = 'data/sarcChemo/filtered_feature_bc_matrix.h5'"
   ]
  },
  {
   "cell_type": "code",
   "execution_count": null,
   "metadata": {},
   "outputs": [],
   "source": [
    "adata =  sc.read_10x_h5(inputFile, gex_only=False)\n",
    "adata"
   ]
  },
  {
   "cell_type": "code",
   "execution_count": null,
   "metadata": {},
   "outputs": [],
   "source": [
    "adata.var_names_make_unique()"
   ]
  },
  {
   "cell_type": "code",
   "execution_count": null,
   "metadata": {},
   "outputs": [],
   "source": [
    "adata.var"
   ]
  },
  {
   "cell_type": "code",
   "execution_count": null,
   "metadata": {},
   "outputs": [],
   "source": [
    "adata.var[[\"feature_types\"]].value_counts()"
   ]
  },
  {
   "cell_type": "markdown",
   "metadata": {},
   "source": [
    "Split up input into genes and hashes "
   ]
  },
  {
   "cell_type": "code",
   "execution_count": null,
   "metadata": {
    "scrolled": true
   },
   "outputs": [],
   "source": [
    "hto = adata[:,adata.var[\"feature_types\"] == \"Antibody Capture\"]\n",
    "adata = adata[:,adata.var[\"feature_types\"] == \"Gene Expression\"]\n",
    "adata.obs = pd.DataFrame(hto.X.todense(), columns=hto.var_names, index=adata.obs.index)"
   ]
  },
  {
   "cell_type": "code",
   "execution_count": null,
   "metadata": {},
   "outputs": [],
   "source": [
    "adata.obs"
   ]
  },
  {
   "cell_type": "markdown",
   "metadata": {},
   "source": [
    "# Start QC\n",
    "investigate highest expressed genes"
   ]
  },
  {
   "cell_type": "code",
   "execution_count": null,
   "metadata": {},
   "outputs": [],
   "source": [
    "sc.pl.highest_expr_genes(adata, n_top=20, )"
   ]
  },
  {
   "cell_type": "code",
   "execution_count": null,
   "metadata": {},
   "outputs": [],
   "source": [
    "sc.pp.filter_cells(adata, min_genes = 200)\n",
    "sc.pp.filter_genes(adata, min_cells = 10)\n",
    "adata"
   ]
  },
  {
   "cell_type": "markdown",
   "metadata": {},
   "source": [
    "## Mito QC\n",
    "set genes that start with mt- as mito genes"
   ]
  },
  {
   "cell_type": "code",
   "execution_count": null,
   "metadata": {},
   "outputs": [],
   "source": [
    "adata.var['mt'] = adata.var_names.str.startswith('mt-')  # annotate the group of mitochondrial genes as 'mt'\n",
    "sc.pp.calculate_qc_metrics(adata, qc_vars=['mt'], log1p = False, inplace=True)"
   ]
  },
  {
   "cell_type": "code",
   "execution_count": null,
   "metadata": {},
   "outputs": [],
   "source": [
    "sc.pl.violin(adata, ['n_genes_by_counts', 'total_counts', 'pct_counts_mt'], jitter=0.4, multi_panel=True)"
   ]
  },
  {
   "cell_type": "code",
   "execution_count": null,
   "metadata": {},
   "outputs": [],
   "source": [
    "sc.pl.scatter(adata, x='total_counts', y='pct_counts_mt')\n",
    "sc.pl.scatter(adata, x='total_counts', y='n_genes_by_counts')"
   ]
  },
  {
   "cell_type": "markdown",
   "metadata": {},
   "source": [
    "remove cells that have too much mito or could be doublets"
   ]
  },
  {
   "cell_type": "code",
   "execution_count": null,
   "metadata": {},
   "outputs": [],
   "source": [
    "adata = adata[adata.obs.n_genes_by_counts < 7000, :]\n",
    "#adata = adata[adata.obs.n_genes_by_counts > 1000, :]\n",
    "adata = adata[adata.obs.total_counts < 40000, :]\n",
    "adata = adata[adata.obs.pct_counts_mt < 5, :]"
   ]
  },
  {
   "cell_type": "code",
   "execution_count": null,
   "metadata": {},
   "outputs": [],
   "source": [
    "sc.pl.violin(adata, ['n_genes_by_counts', 'total_counts', 'pct_counts_mt'], jitter=0.4, multi_panel=True)"
   ]
  },
  {
   "cell_type": "code",
   "execution_count": null,
   "metadata": {},
   "outputs": [],
   "source": [
    "#adata = sc.read(resultsFileQC)\n",
    "print(resultsFileQC)\n",
    "adata.write(resultsFileQC)\n",
    "adata"
   ]
  },
  {
   "cell_type": "markdown",
   "metadata": {},
   "source": [
    "# Perform Demultiplex Hashing"
   ]
  },
  {
   "cell_type": "code",
   "execution_count": null,
   "metadata": {},
   "outputs": [],
   "source": [
    "hashCounts = adata.obs[hto.var_names]\n",
    "hashCounts"
   ]
  },
  {
   "cell_type": "code",
   "execution_count": null,
   "metadata": {},
   "outputs": [],
   "source": [
    "hashDisc = hashCounts.describe([.1,.2,.3,.4,.5,.6,.7,.8,.9])\n",
    "hashDisc"
   ]
  },
  {
   "cell_type": "code",
   "execution_count": null,
   "metadata": {},
   "outputs": [],
   "source": [
    "hashCounts.columns.values"
   ]
  },
  {
   "cell_type": "code",
   "execution_count": null,
   "metadata": {},
   "outputs": [],
   "source": [
    "fig, axs = plt.subplots(2,5)\n",
    "dfHashBoundry = pd.DataFrame(np.zeros(len(hto.var_names)),hto.var_names, columns=[\"boundry\"])\n",
    "gmm = GMM(n_components = 2, covariance_type = 'full', n_init=5,  random_state=10, means_init=[[2],[4]])#\n",
    "#binEx = np.arange(0.5,10,10/200).reshape(-1,1)\n",
    "\n",
    "for i, hashName in enumerate(hto.var_names):\n",
    "    hashCount = np.array(np.log10(adata.obs[hashName]+1)).reshape(-1, 1)\n",
    "    fitGMM = gmm.fit(hashCount)\n",
    "    mean = fitGMM.means_  \n",
    "    covs  = fitGMM.covariances_\n",
    "    weights = fitGMM.weights_\n",
    "    #print(mean)\n",
    "    binEx = np.arange(min(mean),max(mean),0.1).reshape(-1,1)\n",
    "    fitGmmBound = fitGMM.predict(binEx)\n",
    "    #print(fitGmmBound)\n",
    "    hashBoundry = binEx[np.where(fitGmmBound == 1)[0][0]][0]\n",
    "    #naiveBoundry = np.log10(int(hashDisc.loc[\"90%\",hashName])+1)\n",
    "    \n",
    "    dfHashBoundry.loc[hashName] = hashBoundry\n",
    "    \n",
    "    x_axis = np.arange(0, 5, 0.1)\n",
    "    y_axis0 = norm.pdf(x_axis, float(mean[0][0]), np.sqrt(float(covs[0][0][0])))*weights[0] # 1st gaussian\n",
    "    y_axis1 = norm.pdf(x_axis, float(mean[1][0]), np.sqrt(float(covs[1][0][0])))*weights[1] # 2nd gaussian\n",
    "\n",
    "    # Plot 2\n",
    "    axs[i//5,i%5].set_title(hashName)\n",
    "    #axs[i//5,i%5].axvline(naiveBoundry, c='C3', linestyle='dashed', linewidth=1) #red\n",
    "    axs[i//5,i%5].axvline(hashBoundry, c='C2', linestyle='dashed', linewidth=1)  #green\n",
    "    axs[i//5,i%5].hist(hashCount, density=True, color='black', bins=100)        \n",
    "    axs[i//5,i%5].plot(x_axis, y_axis0, lw=3, c='C6')                            #pink\n",
    "    axs[i//5,i%5].plot(x_axis, y_axis1, lw=3, c='C1')                            #orange\n",
    "    axs[i//5,i%5].plot(x_axis, y_axis0+y_axis1, lw=3, c='C0', ls=':')            #dotted blue\n",
    "    \n",
    "plt.tight_layout(pad=1.0)\n",
    "plt.rcParams[\"figure.figsize\"] = (20,5)\n",
    "plt.show()"
   ]
  },
  {
   "cell_type": "code",
   "execution_count": null,
   "metadata": {
    "tags": []
   },
   "outputs": [],
   "source": [
    "hashIDs = hashCounts.copy()\n",
    "hashID = hto.var_names\n",
    "for hashName in hto.var_names:\n",
    "    print(hashName)\n",
    "    print(dfHashBoundry.loc[hashName].values[0])\n",
    "    hashIDs.loc[:,hashName] = np.log10(hashCounts.loc[:,hashName]+1) > dfHashBoundry.loc[hashName].values[0]\n",
    "hashIDs"
   ]
  },
  {
   "cell_type": "code",
   "execution_count": null,
   "metadata": {},
   "outputs": [],
   "source": [
    "hashIDs.sum(axis=0)"
   ]
  },
  {
   "cell_type": "code",
   "execution_count": null,
   "metadata": {},
   "outputs": [],
   "source": [
    "hashIDs.sum(axis=1).value_counts()"
   ]
  },
  {
   "cell_type": "code",
   "execution_count": null,
   "metadata": {},
   "outputs": [],
   "source": [
    "classification = np.empty(len(adata), dtype=\"object\")\n",
    "i = 0\n",
    "for cellBar, hashBool in hashIDs.iterrows():\n",
    "    numHashes = sum(hashBool)\n",
    "    if (numHashes == 1):\n",
    "        classif = hashID[hashBool.values].values[0]\n",
    "    elif (numHashes > 1):\n",
    "        classif = \"doublet\"\n",
    "    else:\n",
    "        classif = \"negative\"\n",
    "    classification[i] = classif\n",
    "    i = i + 1\n",
    "    #break"
   ]
  },
  {
   "cell_type": "markdown",
   "metadata": {},
   "source": [
    "visualize hashes"
   ]
  },
  {
   "cell_type": "markdown",
   "metadata": {},
   "source": [
    "count each hash"
   ]
  },
  {
   "cell_type": "code",
   "execution_count": null,
   "metadata": {},
   "outputs": [],
   "source": [
    "adata.obs[\"Classification\"] = classification\n",
    "adata.obs[\"Classification\"].value_counts()"
   ]
  },
  {
   "cell_type": "code",
   "execution_count": null,
   "metadata": {},
   "outputs": [],
   "source": [
    "#output visulaization of hashing\n",
    "sc.pl.heatmap(adata, hto.var_names, groupby=\"Classification\", log=True)#, save = f\"_{figName}_hash.png\")"
   ]
  },
  {
   "cell_type": "markdown",
   "metadata": {},
   "source": [
    "keep singlets only"
   ]
  },
  {
   "cell_type": "code",
   "execution_count": null,
   "metadata": {},
   "outputs": [],
   "source": [
    "singlets = [x in hto.var_names for x in adata.obs[\"Classification\"] ]\n",
    "adata = adata[singlets,]\n",
    "adata"
   ]
  },
  {
   "cell_type": "markdown",
   "metadata": {},
   "source": [
    "label hashes"
   ]
  },
  {
   "cell_type": "code",
   "execution_count": null,
   "metadata": {},
   "outputs": [],
   "source": [
    "treat =  {  \"AV1354_MR_B0301\": \"wk4\",\n",
    "            \"AVU1779_MR_B0302\":\"wk4\",\n",
    "            \"AU1782_B0303\":    \"wk4\",\n",
    "            \"AS1131_ML_B0304\": \"wk1\",\n",
    "            \"AU1931_MR_B0305\": \"wk1\",\n",
    "            \"AS1479_MR_B0306\": \"wk1\",\n",
    "            \"AV1353_B0307\":    \"ctl\",\n",
    "            \"AT1885_B0308\":    \"ctl\",\n",
    "            \"AV1212_MR_B0309\": \"ctl\",\n",
    "            \"AU1931_ML_B0310\": \"wk1\"\n",
    "}\n",
    "adata.obs[\"treat\"] = [treat[x] for x in adata.obs[\"Classification\"]]"
   ]
  },
  {
   "cell_type": "markdown",
   "metadata": {},
   "source": [
    "save post QC scanpy"
   ]
  },
  {
   "cell_type": "code",
   "execution_count": null,
   "metadata": {},
   "outputs": [],
   "source": [
    "resultsFileQC"
   ]
  },
  {
   "cell_type": "code",
   "execution_count": null,
   "metadata": {},
   "outputs": [],
   "source": [
    "adata = adata[:,[x != \"Malat1\" for x in adata.var_names]]\n",
    "adata"
   ]
  },
  {
   "cell_type": "code",
   "execution_count": null,
   "metadata": {},
   "outputs": [],
   "source": [
    "adata.var"
   ]
  },
  {
   "cell_type": "code",
   "execution_count": null,
   "metadata": {},
   "outputs": [],
   "source": [
    "resultsFileQC"
   ]
  },
  {
   "cell_type": "code",
   "execution_count": null,
   "metadata": {},
   "outputs": [],
   "source": [
    "adata = sc.read(resultsFileQC)"
   ]
  },
  {
   "cell_type": "code",
   "execution_count": null,
   "metadata": {},
   "outputs": [],
   "source": [
    "#adata = sc.read(resultsFileQC)\n",
    "adata.layers[\"counts\"] = adata.X.copy()\n",
    "adata.write(resultsFileQC)\n",
    "adata"
   ]
  },
  {
   "cell_type": "code",
   "execution_count": null,
   "metadata": {},
   "outputs": [],
   "source": []
  },
  {
   "cell_type": "code",
   "execution_count": null,
   "metadata": {},
   "outputs": [],
   "source": [
    "#adata.var[adata.var[\"pct_dropout_by_counts\"]<1]"
   ]
  },
  {
   "cell_type": "code",
   "execution_count": null,
   "metadata": {},
   "outputs": [],
   "source": [
    "#adata = adata[:,np.logical_and(adata.var[\"pct_dropout_by_counts\"]>10, adata.var[\"pct_dropout_by_counts\"]<99)]"
   ]
  },
  {
   "cell_type": "markdown",
   "metadata": {},
   "source": [
    "save post QC scanpy"
   ]
  },
  {
   "cell_type": "code",
   "execution_count": null,
   "metadata": {},
   "outputs": [],
   "source": [
    "sc.set_figure_params(scanpy=True, dpi=100, dpi_save=150, fontsize=10, format='png')"
   ]
  },
  {
   "cell_type": "code",
   "execution_count": null,
   "metadata": {},
   "outputs": [],
   "source": [
    "#x = np.array(adata.X.todense()).flatten()\n",
    "#plt.hist(x[x>4], bins=50)\n",
    "#plt.title('Gene dispersions counts')\n",
    "#plt.xlabel('dispersions')\n",
    "#plt.ylabel('counts')\n",
    "#plt.show()"
   ]
  },
  {
   "cell_type": "code",
   "execution_count": null,
   "metadata": {},
   "outputs": [],
   "source": [
    "sc.pp.normalize_total(adata, target_sum=1e4)#,exclude_highly_expressed=True)#"
   ]
  },
  {
   "cell_type": "code",
   "execution_count": null,
   "metadata": {},
   "outputs": [],
   "source": [
    "sc.pp.log1p(adata)"
   ]
  },
  {
   "cell_type": "code",
   "execution_count": null,
   "metadata": {},
   "outputs": [],
   "source": [
    "#x = np.array(adata.X.todense()).flatten()\n",
    "#plt.hist(x[x>0], bins=20)\n",
    "#plt.title('Gene dispersions counts')\n",
    "#plt.xlabel('dispersions')\n",
    "#plt.ylabel('counts')\n",
    "#plt.show()"
   ]
  },
  {
   "cell_type": "code",
   "execution_count": null,
   "metadata": {},
   "outputs": [],
   "source": [
    "cell_cycle_genes = [x.strip() for x in open('../pdx/data/regev_lab_cell_cycle_genes_Mouse.txt')]\n",
    "s_genes = cell_cycle_genes[:43]\n",
    "g2m_genes = cell_cycle_genes[43:]\n",
    "cell_cycle_genes = [x for x in cell_cycle_genes if x in adata.var_names]"
   ]
  },
  {
   "cell_type": "code",
   "execution_count": null,
   "metadata": {},
   "outputs": [],
   "source": [
    "sc.tl.score_genes_cell_cycle(adata, s_genes=s_genes, g2m_genes=g2m_genes)"
   ]
  },
  {
   "cell_type": "code",
   "execution_count": null,
   "metadata": {},
   "outputs": [],
   "source": [
    "adata_cc_genes = adata[:, cell_cycle_genes]\n",
    "sc.tl.pca(adata_cc_genes)\n",
    "sc.pl.pca_scatter(adata_cc_genes, color=['phase',\"Classification\"])"
   ]
  },
  {
   "cell_type": "code",
   "execution_count": null,
   "metadata": {},
   "outputs": [],
   "source": [
    "adata = adata[adata.obs.phase==\"G1\",:]"
   ]
  },
  {
   "cell_type": "code",
   "execution_count": null,
   "metadata": {},
   "outputs": [],
   "source": []
  },
  {
   "cell_type": "code",
   "execution_count": null,
   "metadata": {
    "tags": []
   },
   "outputs": [],
   "source": [
    "sc.pp.highly_variable_genes(adata)#, flavor=\"seurat\", n_top_genes=2000)"
   ]
  },
  {
   "cell_type": "code",
   "execution_count": null,
   "metadata": {},
   "outputs": [],
   "source": [
    "sum(adata.var.highly_variable)"
   ]
  },
  {
   "cell_type": "code",
   "execution_count": null,
   "metadata": {},
   "outputs": [],
   "source": [
    "x = adata.var[[\"means\"]][adata.var[[\"means\"]] > np.exp(-20)]#adata.var[[\"means\"]]\n",
    "plt.hist(np.log(x), bins=100)#, log=True)\n",
    "plt.axvline(np.log(0.05), color='k', linestyle='dashed', linewidth=1)\n",
    "plt.axvline(np.log(3), color='k', linestyle='dashed', linewidth=1)\n",
    "plt.title('Gene means counts')\n",
    "plt.xlabel('means')\n",
    "plt.ylabel('counts')\n",
    "plt.show()"
   ]
  },
  {
   "cell_type": "code",
   "execution_count": null,
   "metadata": {},
   "outputs": [],
   "source": [
    "x = adata.var[[\"dispersions_norm\"]][adata.var[[\"dispersions_norm\"]] > np.exp(-10)]#adata.var[[\"dispersions\"]]\n",
    "plt.hist(np.log(x), bins=50)#, log=True)\n",
    "plt.axvline(np.log(0.5), color='k', linestyle='dashed', linewidth=1)\n",
    "plt.title('Gene dispersions counts')\n",
    "plt.xlabel('dispersions')\n",
    "plt.ylabel('counts')\n",
    "plt.show()"
   ]
  },
  {
   "cell_type": "code",
   "execution_count": null,
   "metadata": {},
   "outputs": [],
   "source": [
    "sc.pp.highly_variable_genes(adata, min_disp=0.5, min_mean=0.05, max_mean=3)"
   ]
  },
  {
   "cell_type": "code",
   "execution_count": null,
   "metadata": {},
   "outputs": [],
   "source": [
    "sc.pl.highly_variable_genes(adata)"
   ]
  },
  {
   "cell_type": "code",
   "execution_count": null,
   "metadata": {},
   "outputs": [],
   "source": [
    "adata.var[-10:]"
   ]
  },
  {
   "cell_type": "code",
   "execution_count": null,
   "metadata": {},
   "outputs": [],
   "source": [
    "sum(adata.var.highly_variable)"
   ]
  },
  {
   "cell_type": "code",
   "execution_count": null,
   "metadata": {},
   "outputs": [],
   "source": [
    "adata.raw = adata"
   ]
  },
  {
   "cell_type": "code",
   "execution_count": null,
   "metadata": {},
   "outputs": [],
   "source": [
    "#adata.var[adata.var.pct_dropout_by_counts<10].highly_variable"
   ]
  },
  {
   "cell_type": "code",
   "execution_count": null,
   "metadata": {},
   "outputs": [],
   "source": [
    "#adata = adata[:, adata.var.highly_variable]\n",
    "adata = adata[:, np.logical_and(np.logical_not(adata.var.mt), adata.var.highly_variable)]"
   ]
  },
  {
   "cell_type": "code",
   "execution_count": null,
   "metadata": {},
   "outputs": [],
   "source": [
    "#sc.pp.regress_out(adata, ['total_counts', 'pct_counts_mt'])"
   ]
  },
  {
   "cell_type": "code",
   "execution_count": null,
   "metadata": {},
   "outputs": [],
   "source": [
    "#x = np.array(adata.X.todense()).flatten()\n",
    "#plt.hist(x[x>0], bins=20)\n",
    "#plt.title('Gene dispersions counts')\n",
    "#plt.xlabel('dispersions')\n",
    "#plt.ylabel('counts')\n",
    "#plt.show()"
   ]
  },
  {
   "cell_type": "code",
   "execution_count": null,
   "metadata": {},
   "outputs": [],
   "source": [
    "#sc.pp.scale(adata, max_value=4)"
   ]
  },
  {
   "cell_type": "code",
   "execution_count": null,
   "metadata": {},
   "outputs": [],
   "source": [
    "#x = np.array(adata.X).flatten()\n",
    "#plt.hist(x[x>0], bins=20)\n",
    "#plt.title('Gene dispersions counts')\n",
    "#plt.xlabel('dispersions')\n",
    "#plt.ylabel('counts')\n",
    "#plt.show()"
   ]
  },
  {
   "cell_type": "code",
   "execution_count": null,
   "metadata": {},
   "outputs": [],
   "source": [
    "sc.tl.pca(adata, n_comps = 100, svd_solver='arpack')"
   ]
  },
  {
   "cell_type": "code",
   "execution_count": null,
   "metadata": {},
   "outputs": [],
   "source": [
    "sc.pl.pca(adata, color = [\"treat\",\"Classification\"])"
   ]
  },
  {
   "cell_type": "code",
   "execution_count": null,
   "metadata": {},
   "outputs": [],
   "source": [
    "sc.pl.pca(adata, color = [\"Classification\"], dimensions=[(0,1), (1,2), (2,3),(3,1)])"
   ]
  },
  {
   "cell_type": "code",
   "execution_count": null,
   "metadata": {},
   "outputs": [],
   "source": [
    "sc.pl.pca_variance_ratio(adata, n_pcs = 100, log=True)"
   ]
  },
  {
   "cell_type": "code",
   "execution_count": null,
   "metadata": {},
   "outputs": [],
   "source": [
    "sc.pl.pca_variance_ratio(adata, n_pcs = 100)"
   ]
  },
  {
   "cell_type": "code",
   "execution_count": null,
   "metadata": {},
   "outputs": [],
   "source": [
    "#adata.write(results_file)\n",
    "adata"
   ]
  },
  {
   "cell_type": "code",
   "execution_count": null,
   "metadata": {},
   "outputs": [],
   "source": [
    "sc.pp.neighbors(adata, n_neighbors=20, n_pcs=50)"
   ]
  },
  {
   "cell_type": "code",
   "execution_count": null,
   "metadata": {},
   "outputs": [],
   "source": [
    "sc.tl.umap(adata)"
   ]
  },
  {
   "cell_type": "code",
   "execution_count": null,
   "metadata": {},
   "outputs": [],
   "source": [
    "sc.tl.leiden(adata, resolution=0.1)"
   ]
  },
  {
   "cell_type": "code",
   "execution_count": null,
   "metadata": {},
   "outputs": [],
   "source": [
    "sc.pl.umap(adata, color=[\"treat\",\"leiden\",\"Classification\",\"phase\"])"
   ]
  },
  {
   "cell_type": "code",
   "execution_count": null,
   "metadata": {},
   "outputs": [],
   "source": [
    "sc.pl.umap(adata[adata.obs.treat==\"ctl\",:], color=[\"treat\",\"leiden\",\"Classification\"])"
   ]
  },
  {
   "cell_type": "code",
   "execution_count": null,
   "metadata": {},
   "outputs": [],
   "source": [
    "sc.pl.umap(adata[adata.obs.treat==\"1wk\",:], color=[\"treat\",\"leiden\",\"Classification\"])"
   ]
  },
  {
   "cell_type": "code",
   "execution_count": null,
   "metadata": {},
   "outputs": [],
   "source": [
    "sc.pl.umap(adata[adata.obs.treat==\"4wk\",:], color=[\"treat\",\"leiden\",\"Classification\"])"
   ]
  },
  {
   "cell_type": "code",
   "execution_count": null,
   "metadata": {},
   "outputs": [],
   "source": [
    "sc.pl.umap(adata, color=['tdTomato','Ptprc','Lyz2', \"Pecam1\"],ncols=2)#, save = f\"_{figName}_tumGenes.png\")"
   ]
  },
  {
   "cell_type": "code",
   "execution_count": null,
   "metadata": {},
   "outputs": [],
   "source": [
    "sc.pl.violin(adata, [\"tdTomato\",\"Ptprc\",\"Pecam1\"], jitter=0.4, multi_panel=True, groupby=\"leiden\")"
   ]
  },
  {
   "cell_type": "code",
   "execution_count": null,
   "metadata": {
    "tags": []
   },
   "outputs": [],
   "source": [
    "sc.pl.umap(adata, color=[\"Acta2\",\"Myod1\",\"Peg3\",\"Des\"],ncols = 2)#, save = f\"_{figName}_muscGenes.png\")"
   ]
  },
  {
   "cell_type": "code",
   "execution_count": null,
   "metadata": {
    "tags": []
   },
   "outputs": [],
   "source": [
    "sc.pl.umap(adata, color=[\"Fbn1\",\"Lum\",\"Meg3\",\"Postn\"],ncols = 2)#, save = f\"_{figName}_fibGenes.png\")"
   ]
  },
  {
   "cell_type": "code",
   "execution_count": null,
   "metadata": {
    "tags": []
   },
   "outputs": [],
   "source": [
    "sc.pl.umap(adata, color=[\"Klf9\"],ncols = 2)#, save = f\"_{figName}_fibGenes.png\")"
   ]
  },
  {
   "cell_type": "code",
   "execution_count": null,
   "metadata": {
    "tags": []
   },
   "outputs": [],
   "source": [
    "sc.pl.umap(adata, color=[\"total_counts_mt\",\"total_counts\"])"
   ]
  },
  {
   "cell_type": "code",
   "execution_count": null,
   "metadata": {},
   "outputs": [],
   "source": [
    "sc.tl.rank_genes_groups(adata, 'leiden', method='wilcoxon')\n",
    "sc.pl.rank_genes_groups(adata, n_genes=25, sharey=False)"
   ]
  },
  {
   "cell_type": "code",
   "execution_count": null,
   "metadata": {
    "editable": true,
    "slideshow": {
     "slide_type": ""
    },
    "tags": []
   },
   "outputs": [],
   "source": [
    "#as heatmap\n",
    "markerDf = pd.DataFrame(adata.uns['rank_genes_groups']['names']).head(15)\n",
    "markerDf"
   ]
  },
  {
   "cell_type": "code",
   "execution_count": null,
   "metadata": {},
   "outputs": [],
   "source": [
    "sc.tl.dendrogram(adata, groupby = 'leiden')\n",
    "sc.pl.rank_genes_groups_heatmap(adata)"
   ]
  },
  {
   "cell_type": "code",
   "execution_count": null,
   "metadata": {},
   "outputs": [],
   "source": [
    "sc.pl.rank_genes_groups_matrixplot(adata)"
   ]
  },
  {
   "cell_type": "code",
   "execution_count": null,
   "metadata": {
    "scrolled": true,
    "tags": []
   },
   "outputs": [],
   "source": [
    "markerDict = {}\n",
    "#[markerDict[int(i)] = markerDf.loc[0:3][i] ]\n",
    "for i in markerDf:\n",
    "    markerDict[int(i)] = markerDf.loc[0:3][i] \n",
    "markerDict"
   ]
  },
  {
   "cell_type": "code",
   "execution_count": null,
   "metadata": {},
   "outputs": [],
   "source": []
  },
  {
   "cell_type": "code",
   "execution_count": null,
   "metadata": {},
   "outputs": [],
   "source": [
    "sc.pl.umap(adata, color=[\"leiden\"],legend_loc=\"on data\")#, save = f\"_{figName}_tumClassWk.png\")"
   ]
  },
  {
   "cell_type": "code",
   "execution_count": null,
   "metadata": {
    "tags": []
   },
   "outputs": [],
   "source": [
    "sc.pl.umap(adata, color=[\"Krt18\",\"Krt8\",\"Akap9\"],ncols = 2)#, save = f\"_{figName}_fibGenes.png\")"
   ]
  },
  {
   "cell_type": "code",
   "execution_count": null,
   "metadata": {
    "tags": []
   },
   "outputs": [],
   "source": [
    "adata.var.sort_values(\"pct_dropout_by_counts\")[0:20]"
   ]
  },
  {
   "cell_type": "code",
   "execution_count": null,
   "metadata": {
    "tags": []
   },
   "outputs": [],
   "source": [
    "adata.var.sort_values(\"pct_dropout_by_counts\", ascending=False)[0:20]"
   ]
  },
  {
   "cell_type": "code",
   "execution_count": null,
   "metadata": {},
   "outputs": [],
   "source": [
    "adata.obs[\"Tum\"] = [\"tum\" if x in [\"0\",\"1\",\"2\",\"4\"] else \"imm\" for x in adata.obs[\"leiden\"]]"
   ]
  },
  {
   "cell_type": "code",
   "execution_count": null,
   "metadata": {},
   "outputs": [],
   "source": [
    "sc.pl.umap(adata, color=[\"treat\",\"leiden\",\"Tum\",\"Classification\"], ncols=2)"
   ]
  },
  {
   "cell_type": "code",
   "execution_count": null,
   "metadata": {},
   "outputs": [],
   "source": [
    "sc.pl.umap(adata, color=[\"Car9\",\"Vegfa\"], ncols=2)"
   ]
  },
  {
   "cell_type": "code",
   "execution_count": null,
   "metadata": {},
   "outputs": [],
   "source": [
    "#adata.write\n",
    "adata = sc.read(\"write/scSarcChemo_G1.h5ad\")"
   ]
  },
  {
   "cell_type": "code",
   "execution_count": null,
   "metadata": {},
   "outputs": [],
   "source": [
    "#print(resultsFile)\n",
    "#adata.write(resultsFile)\n",
    "adata"
   ]
  },
  {
   "cell_type": "code",
   "execution_count": null,
   "metadata": {},
   "outputs": [],
   "source": [
    "adataQC = sc.read(\"write/scSarcChemo_V4_QC.h5ad\")\n",
    "cells = set(adata.obs_names)\n",
    "keepCells = [c in cells for c in adataQC.obs_names]\n",
    "adataQC = adataQC[keepCells]\n",
    "\n",
    "counts = adataQC.layers[\"counts\"]"
   ]
  },
  {
   "cell_type": "code",
   "execution_count": null,
   "metadata": {},
   "outputs": [],
   "source": [
    "#adata = sc.read(resultsFile)\n",
    "#adata.uns['log1p'] = {\"base\":None}"
   ]
  },
  {
   "cell_type": "code",
   "execution_count": null,
   "metadata": {},
   "outputs": [],
   "source": [
    "adata = adata.raw.to_adata()\n",
    "adata.layers[\"counts\"] = counts\n",
    "adata = adata[adata.obs.Tum ==\"tum\",:]\n",
    "adata"
   ]
  },
  {
   "cell_type": "code",
   "execution_count": null,
   "metadata": {},
   "outputs": [],
   "source": [
    "adata.uns['log1p'] = {\"base\":None}"
   ]
  },
  {
   "cell_type": "code",
   "execution_count": null,
   "metadata": {},
   "outputs": [],
   "source": [
    "sc.pp.highly_variable_genes(adata)"
   ]
  },
  {
   "cell_type": "code",
   "execution_count": null,
   "metadata": {},
   "outputs": [],
   "source": [
    "x = adata.var[[\"means\"]][adata.var[[\"means\"]] > np.exp(-10)]#adata.var[[\"means\"]]\n",
    "plt.hist(np.log(x), bins=100)#, log=True)\n",
    "plt.axvline(np.log(0.05), color='k', linestyle='dashed', linewidth=1)\n",
    "plt.axvline(np.log(2.9), color='k', linestyle='dashed', linewidth=1)\n",
    "plt.title('Gene means counts')\n",
    "plt.xlabel('means')\n",
    "plt.ylabel('counts')\n",
    "plt.show()"
   ]
  },
  {
   "cell_type": "code",
   "execution_count": null,
   "metadata": {},
   "outputs": [],
   "source": [
    "x = adata.var[[\"dispersions_norm\"]][adata.var[[\"dispersions_norm\"]] > np.exp(-5)]#adata.var[[\"dispersions\"]]\n",
    "plt.hist(np.log(x), bins=50)#, log=True)\n",
    "plt.axvline(np.log(0.6), color='k', linestyle='dashed', linewidth=1)\n",
    "plt.title('Gene dispersions counts')\n",
    "plt.xlabel('dispersions')\n",
    "plt.ylabel('counts')\n",
    "plt.show()"
   ]
  },
  {
   "cell_type": "code",
   "execution_count": null,
   "metadata": {},
   "outputs": [],
   "source": [
    "sc.pp.highly_variable_genes(adata, min_disp=0.6, min_mean=0.05, max_mean=2.9)"
   ]
  },
  {
   "cell_type": "code",
   "execution_count": null,
   "metadata": {},
   "outputs": [],
   "source": [
    "sc.pl.highly_variable_genes(adata)"
   ]
  },
  {
   "cell_type": "code",
   "execution_count": null,
   "metadata": {},
   "outputs": [],
   "source": [
    "sum(adata.var.highly_variable)"
   ]
  },
  {
   "cell_type": "code",
   "execution_count": null,
   "metadata": {},
   "outputs": [],
   "source": [
    "adata.raw = adata"
   ]
  },
  {
   "cell_type": "code",
   "execution_count": null,
   "metadata": {},
   "outputs": [],
   "source": [
    "sum(np.logical_and(adata.var.highly_variable,np.logical_not(adata.var.mt)))"
   ]
  },
  {
   "cell_type": "code",
   "execution_count": null,
   "metadata": {},
   "outputs": [],
   "source": [
    "adata = adata[:, np.logical_and(adata.var.highly_variable,np.logical_not(adata.var.mt))]"
   ]
  },
  {
   "cell_type": "code",
   "execution_count": null,
   "metadata": {},
   "outputs": [],
   "source": [
    "#sc.pp.regress_out(adata, ['total_counts', 'pct_counts_mt'])"
   ]
  },
  {
   "cell_type": "code",
   "execution_count": null,
   "metadata": {},
   "outputs": [],
   "source": [
    "#x = np.array(adata.X).flatten()\n",
    "#plt.hist(x[x>0], bins=20)\n",
    "#plt.title('Gene dispersions counts')\n",
    "#plt.xlabel('dispersions')\n",
    "#plt.ylabel('counts')\n",
    "#plt.show()"
   ]
  },
  {
   "cell_type": "code",
   "execution_count": null,
   "metadata": {},
   "outputs": [],
   "source": [
    "#sc.pp.scale(adata, max_value=4)"
   ]
  },
  {
   "cell_type": "code",
   "execution_count": null,
   "metadata": {},
   "outputs": [],
   "source": [
    "#x = np.array(adata.X).flatten()\n",
    "#plt.hist(x[x>0], bins=20)\n",
    "#plt.title('Gene dispersions counts')\n",
    "#plt.xlabel('dispersions')\n",
    "#plt.ylabel('counts')\n",
    "#plt.show()"
   ]
  },
  {
   "cell_type": "code",
   "execution_count": null,
   "metadata": {},
   "outputs": [],
   "source": [
    "sc.tl.pca(adata, n_comps = 100, svd_solver='arpack')"
   ]
  },
  {
   "cell_type": "code",
   "execution_count": null,
   "metadata": {},
   "outputs": [],
   "source": [
    "sc.pl.pca(adata, color = [\"Classification\", \"treat\"])"
   ]
  },
  {
   "cell_type": "code",
   "execution_count": null,
   "metadata": {},
   "outputs": [],
   "source": [
    "sc.pl.pca_variance_ratio(adata, n_pcs = 100, log=True)"
   ]
  },
  {
   "cell_type": "code",
   "execution_count": null,
   "metadata": {},
   "outputs": [],
   "source": [
    "sc.pl.pca_variance_ratio(adata, n_pcs = 100)"
   ]
  },
  {
   "cell_type": "code",
   "execution_count": null,
   "metadata": {},
   "outputs": [],
   "source": [
    "#adata.write(results_file)\n",
    "adata"
   ]
  },
  {
   "cell_type": "code",
   "execution_count": null,
   "metadata": {},
   "outputs": [],
   "source": [
    "sc.pp.neighbors(adata, n_neighbors=25, n_pcs=60)"
   ]
  },
  {
   "cell_type": "code",
   "execution_count": null,
   "metadata": {},
   "outputs": [],
   "source": [
    "sc.tl.umap(adata)"
   ]
  },
  {
   "cell_type": "code",
   "execution_count": null,
   "metadata": {},
   "outputs": [],
   "source": [
    "sc.tl.leiden(adata, resolution=0.3)"
   ]
  },
  {
   "cell_type": "code",
   "execution_count": null,
   "metadata": {},
   "outputs": [],
   "source": [
    "sc.pl.umap(adata, color=[\"treat\",\"leiden\",\"Classification\"])"
   ]
  },
  {
   "cell_type": "code",
   "execution_count": null,
   "metadata": {
    "tags": []
   },
   "outputs": [],
   "source": [
    "sc.pl.umap(adata, color=['total_counts', 'pct_counts_mt'])"
   ]
  },
  {
   "cell_type": "code",
   "execution_count": null,
   "metadata": {
    "tags": []
   },
   "outputs": [],
   "source": [
    "sc.pl.umap(adata[adata.obs.treat==\"ctl\",:], color=[\"treat\",\"leiden\",\"Classification\"])"
   ]
  },
  {
   "cell_type": "code",
   "execution_count": null,
   "metadata": {
    "tags": []
   },
   "outputs": [],
   "source": [
    "sc.pl.umap(adata[adata.obs.treat==\"wk1\",:], color=[\"treat\",\"leiden\",\"Classification\"])"
   ]
  },
  {
   "cell_type": "code",
   "execution_count": null,
   "metadata": {
    "tags": []
   },
   "outputs": [],
   "source": [
    "sc.pl.umap(adata[adata.obs.treat==\"wk4\",:], color=[\"treat\",\"leiden\",\"Classification\"])"
   ]
  },
  {
   "cell_type": "code",
   "execution_count": null,
   "metadata": {},
   "outputs": [],
   "source": [
    "adata"
   ]
  },
  {
   "cell_type": "code",
   "execution_count": null,
   "metadata": {},
   "outputs": [],
   "source": [
    "hashID = list(adata.obs.Classification.cat.categories)\n",
    "hashID"
   ]
  },
  {
   "cell_type": "code",
   "execution_count": null,
   "metadata": {},
   "outputs": [],
   "source": [
    "for i in hashID:\n",
    "    sc.pl.umap(adata[adata.obs.Classification==i,:], color=[\"treat\",\"leiden\",\"Classification\"])"
   ]
  },
  {
   "cell_type": "code",
   "execution_count": null,
   "metadata": {},
   "outputs": [],
   "source": [
    "sc.tl.rank_genes_groups(adata, 'leiden', method='wilcoxon')#,use_raw=False)\n",
    "sc.pl.rank_genes_groups(adata, n_genes=25, sharey=False)"
   ]
  },
  {
   "cell_type": "code",
   "execution_count": null,
   "metadata": {},
   "outputs": [],
   "source": [
    "gemmMarkers = pd.DataFrame(adata.uns['rank_genes_groups']['names']).head(20)\n",
    "gemmMarkers"
   ]
  },
  {
   "cell_type": "code",
   "execution_count": null,
   "metadata": {},
   "outputs": [],
   "source": [
    "result = adata.uns['rank_genes_groups']\n",
    "groups = result['names'].dtype.names\n",
    "markerStats = pd.DataFrame(\n",
    "    {group + '_' + key[:1]: result[key][group]\n",
    "    for group in groups for key in ['names', \"scores\", 'pvals_adj','logfoldchanges']}).head(100)"
   ]
  },
  {
   "cell_type": "code",
   "execution_count": null,
   "metadata": {
    "tags": []
   },
   "outputs": [],
   "source": [
    "markerStats.iloc[0:20,16:20]"
   ]
  },
  {
   "cell_type": "code",
   "execution_count": null,
   "metadata": {},
   "outputs": [],
   "source": [
    "gemmMarkers.loc[:,\"4\"]"
   ]
  },
  {
   "cell_type": "code",
   "execution_count": null,
   "metadata": {},
   "outputs": [],
   "source": [
    "sc.pl.umap(adata, color=list(gemmMarkers.loc[:,\"4\"]), ncols=4)"
   ]
  },
  {
   "cell_type": "code",
   "execution_count": null,
   "metadata": {},
   "outputs": [],
   "source": []
  },
  {
   "cell_type": "code",
   "execution_count": null,
   "metadata": {},
   "outputs": [],
   "source": [
    "pd.DataFrame(adata.uns['rank_genes_groups']['names']).head(100).to_csv(\"sarcChemoTreat.csv\")"
   ]
  },
  {
   "cell_type": "markdown",
   "metadata": {},
   "source": [
    "0 - Stem, ECM, EMT; FBN1 FAP\n",
    "1 - ; Skeletal (Peg3+) rhabdo?\n",
    "2 - NFKb hypoxia-ish, bone marrow stroma, myeliod\n",
    "3 - apoptosis as a result of dox?\n",
    "4 - Hypoxia \n",
    "5 - ;Fibroblast, FAP (Meg3)\n",
    "6 - cell mgration; fibroblast FBN1 FAP\n"
   ]
  },
  {
   "cell_type": "code",
   "execution_count": null,
   "metadata": {},
   "outputs": [],
   "source": [
    "features = [\"ECM\",\"Peg3_Skel\",\"Nfkb\",\"Apop\",\"Hypox\",\"Meg3_Fib\",\"Mig\"]\n",
    "sc.tl.leiden(adata, resolution=0.2, key_added = \"feature\")\n",
    "adata.rename_categories('feature', features)\n",
    "sc.pl.umap(adata, color=[\"feature\"])"
   ]
  },
  {
   "cell_type": "code",
   "execution_count": null,
   "metadata": {},
   "outputs": [],
   "source": [
    "sc.tl.dendrogram(adata, groupby = 'leiden')\n",
    "sc.pl.rank_genes_groups_heatmap(adata)"
   ]
  },
  {
   "cell_type": "code",
   "execution_count": null,
   "metadata": {},
   "outputs": [],
   "source": [
    "pd.DataFrame(adata.uns['rank_genes_groups']['names']).head(100)#.to_csv(\"write/mouseTreated_HVG.csv\")"
   ]
  },
  {
   "cell_type": "code",
   "execution_count": null,
   "metadata": {},
   "outputs": [],
   "source": [
    "sc.tl.rank_genes_groups(adata, 'treat', method='wilcoxon',use_raw=False)\n",
    "sc.pl.rank_genes_groups(adata, n_genes=25, sharey=False)"
   ]
  },
  {
   "cell_type": "code",
   "execution_count": null,
   "metadata": {},
   "outputs": [],
   "source": [
    "pd.DataFrame(adata.uns['rank_genes_groups']['names']).head(10)"
   ]
  },
  {
   "cell_type": "code",
   "execution_count": null,
   "metadata": {
    "tags": []
   },
   "outputs": [],
   "source": [
    "treatHvg = pd.read_csv(\"../pdx/analysis/sarc/hvg/treatedHvg.csv\")\n",
    "treatHvg"
   ]
  },
  {
   "cell_type": "code",
   "execution_count": null,
   "metadata": {},
   "outputs": [],
   "source": [
    "mh = pd.read_csv(\"../scCompare/write/hgncHM_121.csv\")#, index_col = 0)\n",
    "mh"
   ]
  },
  {
   "cell_type": "code",
   "execution_count": null,
   "metadata": {},
   "outputs": [],
   "source": [
    "mouseGenes3 = np.array(treatHvg[\"2\"])\n",
    "mGene121 = np.array(mh.loc[:,\"human\"])\n",
    "for i, mGene in enumerate(treatHvg[\"2\"]):\n",
    "    if mGene in mGene121:\n",
    "        hGene = mh.loc[np.where(mGene121 == mGene)[0][0],\"mouse\"]\n",
    "        mouseGenes3[i] = hGene#f\"{hGene}/{mGene}\"\n",
    "mouseGenes3\n",
    "\n",
    "mouseGenes7 = np.array(treatHvg[\"6\"])\n",
    "mGene121 = np.array(mh.loc[:,\"human\"])\n",
    "for i, mGene in enumerate(treatHvg[\"6\"]):\n",
    "    if mGene in mGene121:\n",
    "        hGene = mh.loc[np.where(mGene121 == mGene)[0][0],\"mouse\"]\n",
    "        mouseGenes7[i] = hGene#f\"{hGene}/{mGene}\"\n",
    "mouseGenes7"
   ]
  },
  {
   "cell_type": "code",
   "execution_count": null,
   "metadata": {},
   "outputs": [],
   "source": [
    "mouseGenes3"
   ]
  },
  {
   "cell_type": "code",
   "execution_count": null,
   "metadata": {},
   "outputs": [],
   "source": [
    "sc.tl.score_genes(adata, mouseGenes3,score_name='treated_3')\n",
    "sc.tl.score_genes(adata, mouseGenes7,score_name='treated_7')\n",
    "sc.pl.umap(adata,color=[\"treated_3\",\"treated_7\",\"Classification\"])"
   ]
  },
  {
   "cell_type": "code",
   "execution_count": null,
   "metadata": {},
   "outputs": [],
   "source": [
    "sc.pl.umap(adata, color=[\"Myc\",\"Peg3\",\"Meg3\",\"Krt8\",\"Krt8\",\"Akap9\",\"Vegfa\",\"Pdk1\"])"
   ]
  },
  {
   "cell_type": "code",
   "execution_count": null,
   "metadata": {},
   "outputs": [],
   "source": [
    "sc.pl.umap(adata, color=[\"Myc\",\"Peg3\",\"Meg3\",\"Krt8\",\"Krt8\",\"Akap9\",\"Vegfa\",\"Pdk1\"])"
   ]
  },
  {
   "cell_type": "code",
   "execution_count": null,
   "metadata": {},
   "outputs": [],
   "source": [
    "adata"
   ]
  },
  {
   "cell_type": "code",
   "execution_count": null,
   "metadata": {},
   "outputs": [],
   "source": [
    "sc.read(resultsFile)"
   ]
  },
  {
   "cell_type": "code",
   "execution_count": null,
   "metadata": {},
   "outputs": [],
   "source": [
    "adata.write('write/scSarcChemo_G1_tum.h5ad')"
   ]
  },
  {
   "cell_type": "code",
   "execution_count": null,
   "metadata": {},
   "outputs": [],
   "source": [
    "adata.obs[[\"Classification\",\"leiden\"]]"
   ]
  },
  {
   "cell_type": "code",
   "execution_count": null,
   "metadata": {},
   "outputs": [],
   "source": [
    "adataT = adata\n",
    "adataT"
   ]
  },
  {
   "cell_type": "code",
   "execution_count": null,
   "metadata": {},
   "outputs": [],
   "source": []
  }
 ],
 "metadata": {
  "kernelspec": {
   "display_name": "Python 3 (ipykernel)",
   "language": "python",
   "name": "python3"
  },
  "language_info": {
   "codemirror_mode": {
    "name": "ipython",
    "version": 3
   },
   "file_extension": ".py",
   "mimetype": "text/x-python",
   "name": "python",
   "nbconvert_exporter": "python",
   "pygments_lexer": "ipython3",
   "version": "3.8.16"
  }
 },
 "nbformat": 4,
 "nbformat_minor": 4
}
