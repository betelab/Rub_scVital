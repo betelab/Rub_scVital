{
 "cells": [
  {
   "cell_type": "code",
   "execution_count": null,
   "id": "425c36fc-f0af-4c76-93d7-cf512d943577",
   "metadata": {},
   "outputs": [],
   "source": []
  },
  {
   "cell_type": "code",
   "execution_count": null,
   "id": "252d89ce-66b2-430f-abb7-5c91d66b7d3f",
   "metadata": {},
   "outputs": [],
   "source": [
    "import numpy as np\n",
    "import pandas as pd\n",
    "import scanpy as sc\n",
    "import scipy.io\n",
    "import scanpy.external as scex\n",
    "import sklearn.metrics\n",
    "import seaborn as sns\n",
    "from matplotlib import pyplot as plt\n",
    "\n",
    "import scanpyHelpers as scH"
   ]
  },
  {
   "cell_type": "code",
   "execution_count": null,
   "id": "645d8750-2a93-49ed-9a60-40d01fa7eb0e",
   "metadata": {},
   "outputs": [],
   "source": [
    "#adata=sc.read(results_file_post)\n",
    "#adata.uns['log1p'] = {\"base\":None}"
   ]
  },
  {
   "cell_type": "markdown",
   "id": "139dcda2-4b50-45aa-85e8-663e70a74cb6",
   "metadata": {},
   "source": [
    "Set up out properties"
   ]
  },
  {
   "cell_type": "code",
   "execution_count": null,
   "id": "304826fc-ac59-4d76-a655-1f93f7bcdd6e",
   "metadata": {
    "scrolled": true,
    "tags": []
   },
   "outputs": [],
   "source": [
    "sc.settings.verbosity = 0             # verbosity: errors (0), warnings (1), info (2), hints (3)\n",
    "sc.logging.print_header()\n",
    "sc.settings.set_figure_params(dpi=80, facecolor='white')"
   ]
  },
  {
   "cell_type": "code",
   "execution_count": null,
   "id": "a3958527-8b39-4c29-9163-eee788c190cf",
   "metadata": {},
   "outputs": [],
   "source": [
    "%matplotlib inline"
   ]
  },
  {
   "cell_type": "markdown",
   "id": "968566a5-e27e-43f5-8cb2-b935b5a12dd7",
   "metadata": {},
   "source": [
    "Set scanpy out-files"
   ]
  },
  {
   "cell_type": "code",
   "execution_count": null,
   "id": "c4675a44-ce4a-4f38-b04a-66c4fc2e0bb4",
   "metadata": {},
   "outputs": [],
   "source": [
    "writeDir = \"write/\"\n",
    "\n",
    "fileName = \"luadMDA\"\n",
    "\n",
    "resultsFile = writeDir + fileName + '_P2T7.h5ad'       # final output\n",
    "resultsFileQC = writeDir + fileName + '_QC.h5ad'  # post QC (pre-analysis) "
   ]
  },
  {
   "cell_type": "code",
   "execution_count": null,
   "id": "7f571c47-e82c-4b3d-b5eb-6a51730a9ea3",
   "metadata": {},
   "outputs": [],
   "source": [
    "#resultsFile = writeDir + fileName + '_PT.h5ad'       # final output\n"
   ]
  },
  {
   "cell_type": "markdown",
   "id": "77696e51-c2b5-4a05-964f-d52840995ce1",
   "metadata": {
    "tags": []
   },
   "source": [
    "Set figure parameters"
   ]
  },
  {
   "cell_type": "code",
   "execution_count": null,
   "id": "e50cffba-ab13-40fe-b978-c525fb1db4a5",
   "metadata": {
    "tags": []
   },
   "outputs": [],
   "source": [
    "sc.set_figure_params(scanpy=True, dpi=100, dpi_save=150, fontsize=10, format='png')\n",
    "sc.settings.figdir = \"figures/\" + fileName + \"/\"\n",
    "figName = fileName"
   ]
  },
  {
   "cell_type": "code",
   "execution_count": null,
   "id": "1868a2d0-7499-4213-ac3c-c053eb6999cc",
   "metadata": {},
   "outputs": [],
   "source": [
    "resultsFileQC"
   ]
  },
  {
   "cell_type": "code",
   "execution_count": null,
   "id": "83f3aa4e-f800-488a-b41e-0443986c9415",
   "metadata": {
    "tags": []
   },
   "outputs": [],
   "source": [
    "adata = sc.read_h5ad(resultsFileQC)\n",
    "adata"
   ]
  },
  {
   "cell_type": "code",
   "execution_count": null,
   "id": "c41180dc-73e6-4deb-afd6-92262521e640",
   "metadata": {},
   "outputs": [],
   "source": [
    "adata.obs[\"patient\"]=[name.split(\"_\")[0].split(\"-\")[0] for name in adata.obs_names.values]"
   ]
  },
  {
   "cell_type": "code",
   "execution_count": null,
   "id": "764f70e6-86a3-4e37-bfaa-12471e52233e",
   "metadata": {},
   "outputs": [],
   "source": [
    "kras = [\"P2\"]#\"P10T\",\"P14T\",\n",
    "#resultsFile = writeDir + fileName + '_P10T.h5ad'       # final output\n",
    "\n",
    "adata = adata[[p in kras for p in adata.obs.patient],]\n",
    "\n",
    "adata.obs[\"local\"]=[name.split(\"_\")[0].split(\"-\")[1] for name in adata.obs_names.values]\n",
    "adata = adata[[p in [\"T7\"] for p in  adata.obs.local],]\n",
    "#adata = adata[adata.obs.celltype==\"malig\"]\n",
    "#adata.write('write/luadMDAkras_QC.h5ad')"
   ]
  },
  {
   "cell_type": "code",
   "execution_count": null,
   "id": "508574a1-6b16-45d9-996f-352e4fe84bdb",
   "metadata": {},
   "outputs": [],
   "source": [
    "rawCounts = adata.X"
   ]
  },
  {
   "cell_type": "code",
   "execution_count": null,
   "id": "87869fb3-ae5b-4984-9c8d-d161fa6d7f47",
   "metadata": {},
   "outputs": [],
   "source": [
    "np.sum(adata.X.todense(),axis=0)"
   ]
  },
  {
   "cell_type": "code",
   "execution_count": null,
   "id": "d01530e1-6133-4113-aad5-c5d768aba82a",
   "metadata": {},
   "outputs": [],
   "source": [
    "sc.pp.normalize_total(adata,target_sum=1e4)"
   ]
  },
  {
   "cell_type": "code",
   "execution_count": null,
   "id": "7c826e38-bb29-4e00-933a-55b59581a5d9",
   "metadata": {},
   "outputs": [],
   "source": [
    "sc.pp.log1p(adata)"
   ]
  },
  {
   "cell_type": "code",
   "execution_count": null,
   "id": "81fe9223-7eac-46a7-8321-b718e726830a",
   "metadata": {},
   "outputs": [],
   "source": [
    "sc.pp.highly_variable_genes(adata)#, flavor = \"seurat\", n_top_genes=2000)"
   ]
  },
  {
   "cell_type": "code",
   "execution_count": null,
   "id": "43902dc2-466e-46e2-9f31-4deb304db630",
   "metadata": {},
   "outputs": [],
   "source": [
    "minMean = 0.1\n",
    "maxMean = 2.7\n",
    "minDisp = 0.4\n",
    "\n",
    "fig, axs = plt.subplots(1, 2, figsize=(10, 5))\n",
    "\n",
    "means = adata.var[[\"means\"]][adata.var[[\"means\"]] > np.exp(-14)]#adata.var[[\"means\"]],\n",
    "axs[0].hist(np.log(means), bins=100)#, log=True),\n",
    "axs[0].axvline(np.log(minMean), color='k', linestyle='dashed', linewidth=1)\n",
    "axs[0].axvline(np.log(maxMean), color='k', linestyle='dashed', linewidth=1)\n",
    "axs[0].set_title('Gene means counts')\n",
    "axs[0].set_xlabel('means')\n",
    "axs[0].set_ylabel('counts')\n",
    "\n",
    "dispNorm = adata.var[[\"dispersions_norm\"]][adata.var[[\"dispersions_norm\"]] > np.exp(-5)]#adata.var[[\"means\"]],\n",
    "axs[1].hist(np.log(dispNorm), bins=100)#, log=True),\n",
    "axs[1].axvline(np.log(minDisp), color='k', linestyle='dashed', linewidth=1)\n",
    "axs[1].set_title('Gene dispersions counts')\n",
    "axs[1].set_xlabel('dispersions')\n",
    "axs[1].set_ylabel('counts')\n",
    "\n",
    "sc.pp.highly_variable_genes(adata, min_disp=minDisp, min_mean=minMean, max_mean=maxMean)\n",
    "print(sum(adata.var.highly_variable))"
   ]
  },
  {
   "cell_type": "code",
   "execution_count": null,
   "id": "8cda0b69-f64e-447a-961a-7c50fe8e5bf0",
   "metadata": {},
   "outputs": [],
   "source": [
    "sc.pl.highly_variable_genes(adata)"
   ]
  },
  {
   "cell_type": "code",
   "execution_count": null,
   "id": "325e82de-43f6-4934-a6a6-50ddf02a94a8",
   "metadata": {},
   "outputs": [],
   "source": [
    "#for inGene in adata.var[-8:].index.tolist():\n",
    "#    adata.var.loc[inGene,\"highly_variable\"] = False"
   ]
  },
  {
   "cell_type": "code",
   "execution_count": null,
   "id": "7a1143eb-b1f7-40ef-9a85-d6be0051667a",
   "metadata": {},
   "outputs": [],
   "source": [
    "adata.raw = adata"
   ]
  },
  {
   "cell_type": "code",
   "execution_count": null,
   "id": "5e2861e5-09c6-4a19-bb72-62a238c47a79",
   "metadata": {},
   "outputs": [],
   "source": [
    "#adata = adata[:, adata.var.highly_variable]\n",
    "adata = adata[:, np.logical_and(adata.var.highly_variable, np.logical_not(adata.var.mt))]"
   ]
  },
  {
   "cell_type": "code",
   "execution_count": null,
   "id": "673c60dc-7028-48e2-9ccf-9b5ae45934d1",
   "metadata": {},
   "outputs": [],
   "source": [
    "#sc.pp.regress_out(adata, ['total_counts', 'pct_counts_mt'])"
   ]
  },
  {
   "cell_type": "code",
   "execution_count": null,
   "id": "5440f444-9bf6-40bf-8267-3ff16acfab39",
   "metadata": {},
   "outputs": [],
   "source": [
    "#sc.pp.scale(adata, max_value=10)"
   ]
  },
  {
   "cell_type": "code",
   "execution_count": null,
   "id": "8935337f-dc02-4347-9bf1-6057d1c1a8e7",
   "metadata": {},
   "outputs": [],
   "source": [
    "sc.tl.pca(adata, n_comps = 100, svd_solver='arpack')"
   ]
  },
  {
   "cell_type": "code",
   "execution_count": null,
   "id": "ffcfea62-8864-4bdc-8d44-2c5bd56b7f42",
   "metadata": {},
   "outputs": [],
   "source": [
    "sc.pl.pca_variance_ratio(adata, n_pcs = 100, log=True)"
   ]
  },
  {
   "cell_type": "code",
   "execution_count": null,
   "id": "f694d1da-e616-48ba-8c66-c97008df6acc",
   "metadata": {},
   "outputs": [],
   "source": [
    "sc.pl.pca_variance_ratio(adata, n_pcs = 100)"
   ]
  },
  {
   "cell_type": "code",
   "execution_count": null,
   "id": "873dbc0c-4046-493f-bc92-32dd4e63c263",
   "metadata": {},
   "outputs": [],
   "source": [
    "sc.pp.neighbors(adata, n_neighbors=20, n_pcs=40)"
   ]
  },
  {
   "cell_type": "code",
   "execution_count": null,
   "id": "a56f3796-396c-4698-93d1-49cf6042e4ae",
   "metadata": {},
   "outputs": [],
   "source": [
    "sc.tl.umap(adata)"
   ]
  },
  {
   "cell_type": "code",
   "execution_count": null,
   "id": "5d9e7992-bf40-45f4-9b17-f1346e8d90b9",
   "metadata": {},
   "outputs": [],
   "source": [
    "sc.tl.leiden(adata, resolution=0.3)"
   ]
  },
  {
   "cell_type": "code",
   "execution_count": null,
   "id": "c4f96d76-7d3b-40ab-978a-fe4635c01d0b",
   "metadata": {},
   "outputs": [],
   "source": [
    "sc.pl.umap(adata, color=[\"leiden\",\"celltype\",\"patient\"],ncols=2)"
   ]
  },
  {
   "cell_type": "code",
   "execution_count": null,
   "id": "db1b9dcc-1b19-4752-9c86-30dc22eda925",
   "metadata": {},
   "outputs": [],
   "source": [
    "#sc.pl.umap(adata[adata.obs[\"local\"]==\"T7\",:], color=[\"leiden\",\"celltype\",\"patient\",\"local\"],ncols=2)"
   ]
  },
  {
   "cell_type": "code",
   "execution_count": null,
   "id": "0df26877-c177-4fe1-bcc5-e49041f18485",
   "metadata": {},
   "outputs": [],
   "source": [
    "sc.pl.umap(adata, color=[\"n_genes\",\"pct_counts_mt\",\"total_counts\"])"
   ]
  },
  {
   "cell_type": "code",
   "execution_count": null,
   "id": "8c94658e-0c0f-4f14-a586-4c2658583b55",
   "metadata": {},
   "outputs": [],
   "source": [
    "resultsFile"
   ]
  },
  {
   "cell_type": "code",
   "execution_count": null,
   "id": "1705530a-20ef-4031-a8fa-bd32f0dd8fb8",
   "metadata": {},
   "outputs": [],
   "source": [
    "adata"
   ]
  },
  {
   "cell_type": "code",
   "execution_count": null,
   "id": "7581fd33-6a04-4429-a9cb-d24e55f127c1",
   "metadata": {},
   "outputs": [],
   "source": [
    "rdata = sc.read_h5ad('write/luadMDAkras_Labeled.h5ad')\n",
    "rdata"
   ]
  },
  {
   "cell_type": "code",
   "execution_count": null,
   "id": "720c99a3-1042-41fa-9587-a30ffc96df8c",
   "metadata": {},
   "outputs": [],
   "source": [
    "lablMal = np.array(adata.obs.celltype.values.copy())\n",
    "for i, cs in enumerate(lablMal):\n",
    "    if cs==\"malig\":\n",
    "        lablMal[i] = rdata.obs.loc[adata.obs_names[i],\"cs\"]\n",
    "adata.obs[\"cs\"] = lablMal        "
   ]
  },
  {
   "cell_type": "code",
   "execution_count": null,
   "id": "49faab20-3fc5-4555-ab5a-ee07499fdf84",
   "metadata": {},
   "outputs": [],
   "source": [
    "sc.pl.umap(adata, color=[\"leiden\",\"celltype\",\"cs\"],ncols=2)"
   ]
  },
  {
   "cell_type": "code",
   "execution_count": null,
   "id": "88d5cd37-58e2-438f-8b65-e1d15fc034cd",
   "metadata": {},
   "outputs": [],
   "source": [
    "adata.obs[\"Tumor\"] = [\"tumor\" if cs==\"malig\" else \"normal\" for cs in adata.obs[\"celltype\"]]"
   ]
  },
  {
   "cell_type": "code",
   "execution_count": null,
   "id": "eabbc1a8-34b7-4d6f-99c7-7c7738b7eceb",
   "metadata": {},
   "outputs": [],
   "source": [
    "from collections import Counter\n",
    "adata.obs.cs = [\"AT2-like\" if cst in ['Endoderm-like','Rib'] else cst for cst in adata.obs.cs]\n",
    "Counter(adata.obs.cs)"
   ]
  },
  {
   "cell_type": "code",
   "execution_count": null,
   "id": "6de5eda8-8981-4738-931c-a06bc5457698",
   "metadata": {},
   "outputs": [],
   "source": [
    "resultsFile"
   ]
  },
  {
   "cell_type": "code",
   "execution_count": null,
   "id": "d66ae6a6-8574-4aea-8636-6840bb1a84ce",
   "metadata": {},
   "outputs": [],
   "source": [
    "adata.write(resultsFile)\n",
    "adata"
   ]
  },
  {
   "cell_type": "code",
   "execution_count": null,
   "id": "a6e875f0-42b0-4de3-8765-6f5dc8939165",
   "metadata": {},
   "outputs": [],
   "source": [
    "ndata = sc.read_h5ad(\"write/luadMDA_P2T7.h5ad\")\n",
    "ndata"
   ]
  },
  {
   "cell_type": "code",
   "execution_count": null,
   "id": "dfe66ca3-1fa0-41aa-9477-7a099aac755c",
   "metadata": {},
   "outputs": [],
   "source": [
    "adata.layers[\"counts\"] = adata[:,adata.var_names].X"
   ]
  },
  {
   "cell_type": "code",
   "execution_count": null,
   "id": "fe0412ab-940b-49fc-861f-c42f4e1bcdf9",
   "metadata": {},
   "outputs": [],
   "source": [
    "resultsFile"
   ]
  },
  {
   "cell_type": "code",
   "execution_count": null,
   "id": "e7cf9ea0-bd71-4f09-8330-0e3c491edd7b",
   "metadata": {},
   "outputs": [],
   "source": [
    "ndata.write('../scCompare/scVAE_ABC/resources/luadMDA_P2T7.h5ad')"
   ]
  },
  {
   "cell_type": "code",
   "execution_count": null,
   "id": "7ed6c6bc-624b-4798-8309-f0f0ae8593be",
   "metadata": {},
   "outputs": [],
   "source": [
    "adata = sc.read_h5ad(\"write/luadMDA_P2T7.h5ad\")\n",
    "adata.layers[\"counts\"] = adata[:,adata.var_names].X\n",
    "adata.uns[\"pairs\"] = [['AT2-like','alveoli_AT2']]\n",
    "adata.write('../scCompare/scVAE_ABC/resources/luadMDA_P2T7.h5ad')"
   ]
  },
  {
   "cell_type": "code",
   "execution_count": null,
   "id": "7c8c5176-b0dd-425f-8f56-0f960019f873",
   "metadata": {},
   "outputs": [],
   "source": [
    "adata.obs.cs.cat.categories"
   ]
  },
  {
   "cell_type": "code",
   "execution_count": null,
   "id": "ebad24a8-4cd0-46ea-a0b5-e4c59f341135",
   "metadata": {},
   "outputs": [],
   "source": [
    "adata"
   ]
  },
  {
   "cell_type": "code",
   "execution_count": null,
   "id": "63c9e974-e5d6-46c0-8b68-f9b31edd0a59",
   "metadata": {},
   "outputs": [],
   "source": [
    "ndata"
   ]
  },
  {
   "cell_type": "code",
   "execution_count": null,
   "id": "7b3f5526-5a93-42ed-af96-13bf45a338e7",
   "metadata": {},
   "outputs": [],
   "source": [
    "rdata = adata[ndata.obs_names,:]\n",
    "rdata.layers[\"counts\"] = rdata.X\n",
    "rdata.obs = ndata.obs\n",
    "rdata"
   ]
  },
  {
   "cell_type": "code",
   "execution_count": null,
   "id": "6080781f-8980-4046-85f5-60da15c54bca",
   "metadata": {},
   "outputs": [],
   "source": [
    "sc.pp.normalize_total(rdata,target_sum=1e4)\n",
    "sc.pp.log1p(rdata)"
   ]
  },
  {
   "cell_type": "code",
   "execution_count": null,
   "id": "5e7ce64c-a88d-4f6b-bfdd-de705692ba43",
   "metadata": {},
   "outputs": [],
   "source": [
    "rdata.write('write/luadMDA_P2T7_QC.h5ad')"
   ]
  },
  {
   "cell_type": "code",
   "execution_count": null,
   "id": "aaf82812-0f51-48a7-b48e-a981a5a9d0b7",
   "metadata": {},
   "outputs": [],
   "source": []
  }
 ],
 "metadata": {
  "kernelspec": {
   "display_name": "Python 3 (ipykernel)",
   "language": "python",
   "name": "python3"
  },
  "language_info": {
   "codemirror_mode": {
    "name": "ipython",
    "version": 3
   },
   "file_extension": ".py",
   "mimetype": "text/x-python",
   "name": "python",
   "nbconvert_exporter": "python",
   "pygments_lexer": "ipython3",
   "version": "3.8.16"
  }
 },
 "nbformat": 4,
 "nbformat_minor": 5
}
