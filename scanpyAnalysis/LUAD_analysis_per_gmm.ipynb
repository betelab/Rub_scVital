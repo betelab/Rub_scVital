{
 "cells": [
  {
   "cell_type": "code",
   "execution_count": null,
   "id": "b99e31df-69e2-4b6a-8f21-1a4518fe21ca",
   "metadata": {
    "tags": []
   },
   "outputs": [],
   "source": [
    "import os\n",
    "import pdb\n",
    "import numpy as np\n",
    "import pandas as pd\n",
    "import scanpy as sc\n",
    "import anndata as ad\n",
    "from matplotlib import pyplot as plt\n",
    "import decoupler as dc\n",
    "import scanpyHelpers as scH\n",
    "from collections import Counter\n",
    "from sklearn.mixture import BayesianGaussianMixture as GMM\n",
    "from scipy.stats import norm\n",
    "import scipy.stats as stats\n"
   ]
  },
  {
   "cell_type": "raw",
   "id": "d11da796-def0-4fb3-8e2c-6e659e470aeb",
   "metadata": {},
   "source": [
    "add KAC..."
   ]
  },
  {
   "cell_type": "code",
   "execution_count": null,
   "id": "31822290-ac65-46a5-a88a-7a7f3ec91878",
   "metadata": {},
   "outputs": [],
   "source": [
    "writeDir=\"write/\""
   ]
  },
  {
   "cell_type": "code",
   "execution_count": null,
   "id": "0e4f95ce-2e18-4596-9fca-6b4f292e79a9",
   "metadata": {},
   "outputs": [],
   "source": [
    "for file in os.listdir(writeDir):\n",
    "    if \"luad\" in file.lower():\n",
    "        print(f\"\\'{file}\\',\")"
   ]
  },
  {
   "cell_type": "code",
   "execution_count": null,
   "id": "8b0e5d62-7622-43d2-b144-229a5de9df25",
   "metadata": {},
   "outputs": [],
   "source": [
    "luadFiles = [#'luadPdx.h5ad',\n",
    "#'LUADpdxLX55A.h5ad',\n",
    "#'LUADpdxJHU55A.h5ad',\n",
    "#'LUADpdxRu890.h5ad',\n",
    "#'LUADpdxRu465.h5ad',\n",
    "#'LUADpdxLX369.h5ad',\n",
    "###'LUADpdxLX29.h5ad',\n",
    "#'LUADpdxLX278.h5ad',\n",
    "###'LUADpdxLX29A.h5ad',\n",
    "#'LUADpdxRu699.h5ad',\n",
    "#'LUADpdxRu318.h5ad',\n",
    "#'LUADpdxRu210.h5ad',\n",
    "#'luadBischoff.h5ad',\n",
    "    \n",
    "'luadBischoffp018.h5ad',\n",
    "'luadBischoffp032.h5ad',\n",
    "'luadBischoffp024.h5ad',\n",
    "#'luadKim.h5ad',\n",
    "'luadKimP0034.h5ad',\n",
    "'luadKimP0030.h5ad',\n",
    "'luadDost.h5ad',\n",
    "'LUAD_P2_Malig_re.h5ad',\n",
    "'LUAD_P3_Malig_re.h5ad',\n",
    "'LUAD_P5_Malig_re.h5ad'\n",
    "#'luadLaughney.h5ad'\n",
    "]\n",
    "\n",
    "#'luadMouse_shKras.h5ad',\n"
   ]
  },
  {
   "cell_type": "code",
   "execution_count": null,
   "id": "b842ce1b-eca3-46f5-926e-aed7abd74c57",
   "metadata": {
    "scrolled": true,
    "tags": []
   },
   "outputs": [],
   "source": [
    "sigFile = \"data/LUAD/humanLUADgeneSig.csv\"\n",
    "sigGenes = pd.read_csv(sigFile)\n",
    "sigGenes\n",
    "\n",
    "markers = pd.DataFrame(np.empty((500*12,2), dtype=\"object\"), columns=[\"genes\", \"clustName\"])\n",
    "for i,clust in enumerate(sigGenes.columns):\n",
    "    for j,gene in enumerate(sigGenes.index):\n",
    "        gene = sigGenes.loc[gene,clust]\n",
    "        #indexOver = np.where(mouseGenes == gene)[0]\n",
    "        #if indexOver.size > 0:\n",
    "        #    gene = humanGenes[indexOver[0]]\n",
    "        markers.iloc[i*500+j] = gene,clust\n",
    "        \n",
    "markers = markers.dropna()\n",
    "markers"
   ]
  },
  {
   "cell_type": "code",
   "execution_count": null,
   "id": "bc9414ce-4fbe-4b47-8338-bce8c225c8ee",
   "metadata": {},
   "outputs": [],
   "source": [
    "nfkb = pd.read_table(\"data/LUAD/hallmarkTnfaNFKB.csv\", sep=\",\").columns.values\n",
    "kac = pd.read_table(\"data/LUAD/mdaKAC.txt\", header=None)[0].values#[:200]"
   ]
  },
  {
   "cell_type": "code",
   "execution_count": null,
   "id": "4884a858-f75d-4a57-944a-df75a67acce0",
   "metadata": {
    "tags": []
   },
   "outputs": [],
   "source": [
    "set(sigGenes[\"HPCS\"]).intersection(set(kac))"
   ]
  },
  {
   "cell_type": "code",
   "execution_count": null,
   "id": "39b9169b-d418-41b9-9331-8fa6508697e9",
   "metadata": {
    "tags": []
   },
   "outputs": [],
   "source": [
    "luadf=\"luadBischoffp032.h5ad\"\n",
    "adata = sc.read(writeDir+luadf)\n",
    "sc.tl.leiden(adata, resolution=0.3)\n",
    "scoreNames, newBClabel, ogLabelScoreMed = scH.scoreAndLabel(adata, sigGenes, labelOfSigGenes= sigGenes.columns, ogLabel=\"leiden\", translate=False)\n",
    "sc.tl.score_genes(adata, nfkb,score_name='nfkbScore')\n",
    "sc.tl.score_genes(adata, kac,score_name='kacScore')\n"
   ]
  },
  {
   "cell_type": "code",
   "execution_count": null,
   "id": "38d986ce-0818-4848-a430-8aa418089d10",
   "metadata": {
    "tags": []
   },
   "outputs": [],
   "source": [
    "sc.pl.umap(adata, color=scoreNames+[\"cellState\",\"leiden\",\"nfkbScore\",\"kacScore\"], ncols=4, cmap=\"bwr\")"
   ]
  },
  {
   "cell_type": "code",
   "execution_count": null,
   "id": "6ad78963-0aa8-4369-afcf-486da07d00e8",
   "metadata": {},
   "outputs": [],
   "source": [
    "from sklearn.mixture import BayesianGaussianMixture as GMM\n",
    "#from sklearn.mixture import GaussianMixture as GMM\n",
    "\n",
    "def gmmScoreGeneSig(scoreMat, meansInit=[[0.1],[0.4]],plotLen = 3, show=False):\n",
    "    scoreNames = scoreMat.columns\n",
    "    numScores = len(scoreNames)\n",
    "    if(show):\n",
    "        fig, axs = plt.subplots((numScores//plotLen)+1,plotLen)\n",
    "        plt.rcParams[\"figure.figsize\"] = (15,5)\n",
    "\n",
    "    dfScoreBoundry = pd.DataFrame(np.zeros(numScores),scoreNames, columns=[\"boundry\"])\n",
    "    gmm = GMM(n_components = 2, random_state=10)#, init_params=\"random_from_data\")#, means_init=meansInit)\n",
    "    #binEx = np.arange(0.5,10,10/200).reshape(-1,1)\n",
    "\n",
    "    for i, scoreName in enumerate(scoreNames):\n",
    "        scoreCount = np.array(scoreMat[scoreName]).reshape(-1, 1)\n",
    "        fitGMM = gmm.fit(scoreCount)\n",
    "        mean = fitGMM.means_  \n",
    "        covs  = fitGMM.covariances_\n",
    "        weights = fitGMM.weights_\n",
    "        #binEx = np.arange(min(min(mean),max(mean)),max(scoreCount),0.01).reshape(-1,1)\n",
    "        binEx = np.arange(min(min(mean),max(mean))[0],max(scoreCount)[0],0.01).reshape(-1,1)\n",
    "        fitGmmBound = fitGMM.predict(binEx)\n",
    "        furtherBound = fitGmmBound[-1]\n",
    "        #print(furtherBound)\n",
    "        #print(fitGmmBound)\n",
    "        if (len(np.unique(fitGmmBound)) == 2):\n",
    "            scoreBoundry = binEx[np.where(fitGmmBound == furtherBound)[0][0]][0]\n",
    "        else:\n",
    "            scoreBoundry = max(scoreCount)\n",
    "        #naiveBoundry = np.log10(int(scoreDisc.loc[\"90%\",scoreName])+1)\n",
    "\n",
    "        dfScoreBoundry.loc[scoreName] = scoreBoundry\n",
    "        \n",
    "        if(show):\n",
    "            x_axis = np.arange(min(scoreCount), max(scoreCount), 0.01)\n",
    "            y_axis0 = norm.pdf(x_axis, float(mean[0][0]), np.sqrt(float(covs[0][0][0])))*weights[0] # 1st gaussian\n",
    "            y_axis1 = norm.pdf(x_axis, float(mean[1][0]), np.sqrt(float(covs[1][0][0])))*weights[1] # 2nd gaussian\n",
    "\n",
    "            # Plot 2\n",
    "            x,y = i//plotLen, i%plotLen\n",
    "            axs[x,y].set_title(scoreName)\n",
    "            #axs[x,y].axvline(naiveBoundry, c='C3', linestyle='dashed', linewidth=1) #red\n",
    "            axs[x,y].axvline(scoreBoundry, c='C2', linestyle='dashed', linewidth=1)  #green\n",
    "            axs[x,y].hist(scoreCount, density=True, color='black', bins=100)        \n",
    "            axs[x,y].plot(x_axis, y_axis0, lw=3, c='C6')                            #pink\n",
    "            axs[x,y].plot(x_axis, y_axis1, lw=3, c='C1')                            #orange\n",
    "            axs[x,y].plot(x_axis, y_axis0+y_axis1, lw=3, c='C0', ls=':')            #dotted blue\n",
    "\n",
    "    if(show):\n",
    "        plt.tight_layout(pad=1.0)\n",
    "        plt.show()\n",
    "        #sc.set_figure_params(scanpy=True, dpi=100, dpi_save=150, fontsize=10, format='png')\n",
    "    \n",
    "    scoreIDs = scoreMat.copy()\n",
    "    scoreID = np.array(scoreNames)\n",
    "    #pdb.set_trace()\n",
    "\n",
    "    for scoreName in scoreNames:\n",
    "        #print(scoreName)\n",
    "        #print(dfScoreBoundry.loc[scoreName].values[0])\n",
    "        #if(dfScoreBoundry.loc[scoreName].values[0] > 0):\n",
    "        scoreIDs.loc[:,scoreName] = (scoreMat.loc[:,scoreName] > dfScoreBoundry.loc[scoreName].values[0]).astype(\"float\")\n",
    "\n",
    "        \n",
    "    classification = np.empty(len(scoreMat), dtype=\"object\")\n",
    "    i = 0\n",
    "    for cellBar, scoreBool in scoreIDs.iterrows():\n",
    "        scoreBool = scoreBool.astype(\"bool\")\n",
    "        numscorees = sum(scoreBool)\n",
    "        if (numscorees == 1):\n",
    "            classif = scoreID[scoreBool.values][0][:-5]#.values\n",
    "        elif (numscorees > 1):\n",
    "            #pdb.set_trace()\n",
    "            #classif = \"Doublet\"\n",
    "            maxTrue = np.argmax(adata.obs.loc[cellBar,scoreID[scoreBool]])   \n",
    "            #pdb.set_trace()\n",
    "            classif = scoreID[scoreBool][maxTrue][:-5]#.values\n",
    "        else:\n",
    "            classif = \"Negative\"\n",
    "        classification[i] = classif\n",
    "        i = i + 1\n",
    "        \n",
    "    return(classification)"
   ]
  },
  {
   "cell_type": "code",
   "execution_count": null,
   "id": "4649cbbc-945b-4e69-9619-9e49423007db",
   "metadata": {},
   "outputs": [],
   "source": [
    "gmmClass = gmmScoreGeneSig(adata.obs[scoreNames],show=True)"
   ]
  },
  {
   "cell_type": "code",
   "execution_count": null,
   "id": "2f2dfb97-9a3f-4a90-a9fc-ee8323df53fc",
   "metadata": {},
   "outputs": [],
   "source": [
    "adata.obs[\"gmmClass\"] = gmmClass"
   ]
  },
  {
   "cell_type": "code",
   "execution_count": null,
   "id": "693df268-f474-4b26-9615-b3c2c3acc8d4",
   "metadata": {},
   "outputs": [],
   "source": [
    "Counter(gmmClass)"
   ]
  },
  {
   "cell_type": "code",
   "execution_count": null,
   "id": "f620110c-d2ca-4b3f-b31e-98aba115831a",
   "metadata": {},
   "outputs": [],
   "source": [
    "sc.set_figure_params(scanpy=True, dpi=100, dpi_save=150, fontsize=10, format='png')\n",
    "sc.pl.umap(adata, color=scoreNames+[\"cellState\",\"leiden\",\"nfkbScore\",\"kacScore\",\"gmmClass\"], ncols=4, cmap=\"bwr\")"
   ]
  },
  {
   "cell_type": "code",
   "execution_count": null,
   "id": "0918ae05-12cc-45c5-8603-66f90675dd04",
   "metadata": {},
   "outputs": [],
   "source": [
    "sc.pl.umap(adata, color=[\"at2Score\",\"hpcsScore\",\"nfkbScore\",\"gmmClass\"], ncols=2, cmap=\"bwr\")"
   ]
  },
  {
   "cell_type": "code",
   "execution_count": null,
   "id": "7bd85bde-50c6-4a4a-9a6d-9894734d39f5",
   "metadata": {},
   "outputs": [],
   "source": []
  },
  {
   "cell_type": "code",
   "execution_count": null,
   "id": "c117599d-dc6e-4a53-880f-89c24c42f139",
   "metadata": {},
   "outputs": [],
   "source": [
    "\n",
    "hpcsNFKb = adata[adata.obs.gmmClass==\"HPCS\"].obs[\"nfkbScore\"]\n",
    "otherNFKb = adata[np.logical_not(adata.obs.gmmClass==\"HPCS\")].obs[\"nfkbScore\"]\n",
    "\n",
    "# Check variance (if ratio > 4:1, variances are different)\n",
    "variance_ratio = np.var(hpcsNFKb) / np.var(otherNFKb)\n",
    "print(f\"Variance ratio: {variance_ratio:.4f}\")\n",
    "\n",
    "# Conduct Welch’s t-test\n",
    "t_statistic, p_value = stats.ttest_ind(hpcsNFKb, otherNFKb, equal_var=False, alternative=\"greater\")\n",
    "\n",
    "# Interpret the results\n",
    "alpha = 0.05\n",
    "if p_value < alpha:\n",
    "    print(\"Reject the null hypothesis: The means are significantly different.\")\n",
    "else:\n",
    "    print(\"Fail to reject the null hypothesis: No significant difference detected.\")\n",
    "\n",
    "print(f\"Welch’s t-statistic: {t_statistic:.4f}, p-value: {p_value:.4f}\")\n",
    "\n",
    "\n",
    "u_statistic, p_value = stats.mannwhitneyu(hpcsNFKb, otherNFKb, alternative=\"greater\")\n",
    "if p_value < alpha:\n",
    "    print(\"Reject the null hypothesis: The means are significantly different.\")\n",
    "else:\n",
    "    print(\"Fail to reject the null hypothesis: No significant difference detected.\")\n",
    "\n",
    "print(f\"mannwhitneyu’s u-statistic: {t_statistic:.4f}, p-value: {p_value:.4f}\")\n",
    "\n",
    "# Create a 1x2 subplot grid\n",
    "fig, axs = plt.subplots(1, 3, figsize=(18, 6))\n",
    "\n",
    "# Plot histogram for Scores 1\n",
    "axs[0].violinplot(hpcsNFKb,showmedians=True)#, bins=20, color='skyblue', edgecolor='black', alpha=0.7)\n",
    "axs[0].set_title('hpcsNFKb')\n",
    "axs[0].set_xlabel('Score Range')\n",
    "axs[0].set_ylabel('Frequency')\n",
    "\n",
    "# Plot histogram for Scores 2\n",
    "axs[1].violinplot(otherNFKb,showmedians=True)#, bins=20, color='salmon', edgecolor='black', alpha=0.7)\n",
    "axs[1].set_title('otherNFKb')\n",
    "axs[1].set_xlabel('Score Range')\n",
    "axs[1].set_ylabel('Frequency')\n",
    "\n",
    "# Plot histogram for Scores 2\n",
    "axs[2].violinplot([hpcsNFKb, otherNFKb],showmedians=True)#, bins=20, color=['skyblue', 'salmon'], edgecolor='black', alpha=0.7, label=['hpcsNFKb', 'otherNFKb'])\n",
    "axs[2].set_xticks([1, 2])\n",
    "axs[2].set_xticklabels(['hpcsNFKb', 'otherNFKb'])\n",
    "axs[2].set_xlabel('Score Range')\n",
    "axs[2].set_ylabel('Frequency')\n",
    "axs[2].legend()\n",
    "\n",
    "\n",
    "# Add overall title\n",
    "plt.suptitle('Histograms of Two Sets of Scores')\n",
    "\n",
    "# Show the plot\n",
    "plt.tight_layout()\n",
    "plt.show()\n"
   ]
  },
  {
   "cell_type": "code",
   "execution_count": null,
   "id": "0c595562-0483-45d6-8157-3772ddfc9b8d",
   "metadata": {},
   "outputs": [],
   "source": [
    "import matplotlib.pyplot as plt\n",
    "import numpy as np\n",
    "\n",
    "# Sample data for demonstration purposes\n",
    "dataset_a = np.random.normal(loc=0, scale=1, size=100)\n",
    "dataset_b = np.random.normal(loc=1, scale=2, size=100)\n",
    "\n",
    "# Create a figure and a set of subplots\n",
    "fig, ax = plt.subplots()\n",
    "\n",
    "# Create the violin plot\n",
    "violins = ax.violinplot([dataset_a, dataset_b], positions=[1, 1], showmeans=False, showmedians=False)\n",
    "\n",
    "# Adjust the violins to only show the right side for dataset_b and left side for dataset_a\n",
    "for body in violins['bodies']:\n",
    "    m = np.mean(body.get_paths()[0].vertices[:, 0])\n",
    "    if body == violins['bodies'][0]:  # dataset_a\n",
    "        body.get_paths()[0].vertices[:, 0] = np.clip(body.get_paths()[0].vertices[:, 0], -np.inf, m)\n",
    "    else:  # dataset_b\n",
    "        body.get_paths()[0].vertices[:, 0] = np.clip(body.get_paths()[0].vertices[:, 0], m, np.inf)\n",
    "\n",
    "# Set the x-ticks to correspond to the datasets\n",
    "ax.set_xticks([1])\n",
    "ax.set_xticklabels(['Dataset A & B'])\n",
    "\n",
    "# Adding titles and labels\n",
    "ax.set_title('Half-Sided Violin Plot of Dataset A and B')\n",
    "ax.set_ylabel('Value')\n",
    "\n",
    "# Display the plot\n",
    "plt.show()\n"
   ]
  },
  {
   "cell_type": "code",
   "execution_count": null,
   "id": "e798084d-8d35-49a0-9f89-98d5a2656cd7",
   "metadata": {},
   "outputs": [],
   "source": [
    "import matplotlib.pyplot as plt\n",
    "import numpy as np\n",
    "\n",
    "# Generate some example data\n",
    "np.random.seed(10)\n",
    "dataset_a = np.random.normal(loc=0, scale=1, size=100)\n",
    "dataset_b = np.random.normal(loc=2, scale=1.5, size=100)\n",
    "\n",
    "# Create a violin plot\n",
    "plt.figure(figsize=(8, 6))\n",
    "parts = plt.violinplot([dataset_a, dataset_b], showmeans=False, showmedians=True)\n",
    "\n",
    "# Customize labels and title\n",
    "plt.xticks([1, 2], ['Dataset A', 'Dataset B'])\n",
    "plt.ylabel('Values')\n",
    "plt.title('Violin Plot of Dataset A and Dataset B')\n",
    "\n",
    "# Adjusting colors for the violins\n",
    "colors = ['skyblue', 'salmon']\n",
    "for pc, color in zip(parts['bodies'], colors):\n",
    "    pc.set_facecolor(color)\n",
    "    pc.set_edgecolor('black')\n",
    "\n",
    "# Show the plot\n",
    "plt.grid(True)\n",
    "plt.show()\n"
   ]
  },
  {
   "cell_type": "code",
   "execution_count": null,
   "id": "dcd73df0-c134-4603-8ea3-f33acc007f60",
   "metadata": {},
   "outputs": [],
   "source": [
    "adata.obs[\"hpcs\"] = [\"HPCS\" if h else \"other\" for h in adata.obs.gmmClass==\"HPCS\"]"
   ]
  },
  {
   "cell_type": "code",
   "execution_count": null,
   "id": "a378a566-cfd3-4e12-9b02-8b6b131d8950",
   "metadata": {
    "tags": []
   },
   "outputs": [],
   "source": [
    "adata.obs"
   ]
  },
  {
   "cell_type": "code",
   "execution_count": null,
   "id": "81a1d41a-5654-487d-95f5-171ad266754f",
   "metadata": {},
   "outputs": [],
   "source": [
    "sc.pl.violin(adata, keys=\"nfkbScore\", groupby=\"hpcs\",  inner = \"box\", stripplot=False,multi_panel=False)"
   ]
  },
  {
   "cell_type": "code",
   "execution_count": null,
   "id": "d00b344d-eadc-4d10-bb53-6d21432957ba",
   "metadata": {},
   "outputs": [],
   "source": [
    "kac"
   ]
  },
  {
   "cell_type": "code",
   "execution_count": null,
   "id": "5df7b67a-89c5-47e7-8532-ea685dd12f5d",
   "metadata": {
    "tags": []
   },
   "outputs": [],
   "source": [
    "hpcsMarkers = []\n",
    "hpcsLogfcs = []\n",
    "\n",
    "allHpcsList = np.array([])\n",
    "\n",
    "for luadf in luadFiles:\n",
    "    print(luadf)\n",
    "    adata = sc.read_h5ad(writeDir+luadf)\n",
    "    sc.tl.leiden(adata, resolution=0.3)\n",
    "    scoreNames, newBClabel, ogLabelScoreMed = scH.scoreAndLabel(adata, sigGenes, labelOfSigGenes= sigGenes.columns, ogLabel=\"leiden\", translate=False)\n",
    "    sc.tl.score_genes(adata, nfkb,score_name='nfkbScore')\n",
    "    sc.tl.score_genes(adata, kac,score_name='kacScore')\n",
    "    \n",
    "    dc.run_ora(\n",
    "    mat=adata,\n",
    "    net=markers,\n",
    "    source='clustName',\n",
    "    target='genes',\n",
    "    min_n=3,\n",
    "    verbose=False)\n",
    "    acts = dc.get_acts(adata, obsm_key='ora_estimate')\n",
    "\n",
    "    # We need to remove inf and set them to the maximum value observed for pvals=0\n",
    "    acts_v = acts.X.ravel()\n",
    "    max_e = np.nanmax(acts_v[np.isfinite(acts_v)])\n",
    "    acts.X[~np.isfinite(acts.X)] = max_e\n",
    "    \n",
    "    df = dc.rank_sources_groups(acts, groupby='leiden', reference='rest', method='t-test_overestim_var')\n",
    "    annotation_dict = df.groupby('group').head(1).set_index('group')['names'].to_dict()\n",
    "    adata.obs['decoupler'] = [annotation_dict[clust] for clust in adata.obs['leiden']]\n",
    "    \n",
    "    #try:\n",
    "    #    sc.tl.rank_genes_groups(adata, 'decoupler', method='wilcoxon', use_raw=False)\n",
    "    #except:\n",
    "    #    adata.uns['log1p']['base'] = None\n",
    "    #    sc.tl.rank_genes_groups(adata, 'decoupler', method='wilcoxon', use_raw=False)\n",
    "    \n",
    "    #only significant pVALS\n",
    "    ##degs = pd.DataFrame({group + ‘_’ + key: result[key][group] for group in groups for key in [‘names’,‘scores’, ‘pvals_adj’,‘logfoldchanges’]})\n",
    "\n",
    "    #sc.tl.filter_rank_genes_groups(adata, groupby=\"decoupler\", use_raw=False,\n",
    "    #                                   key_added='rank_genes_groups_filtered', \n",
    "    #                                   min_in_group_fraction=0.5, min_fold_change=0.5, max_out_group_fraction=0.5, compare_abs=False)\n",
    "    #print(pd.DataFrame(adata.uns['rank_genes_groups_filtered']['names']).head(15))\n",
    "    \n",
    "    gmmClass = gmmScoreGeneSig(adata.obs[scoreNames],show=False)\n",
    "    adata.obs[\"gmmClass\"] = gmmClass\n",
    "\n",
    "    #pdb.set_trace()\n",
    "    \n",
    "    try:\n",
    "        sc.tl.rank_genes_groups(adata, 'gmmClass', method='wilcoxon', use_raw=True)\n",
    "    except:\n",
    "        adata.uns['log1p']['base'] = None\n",
    "        sc.tl.rank_genes_groups(adata, 'gmmClass', method='wilcoxon', use_raw=True)\n",
    "    \n",
    "    #sc.tl.filter_rank_genes_groups(adata, min_in_group_fraction=0, min_fold_change=1, max_out_group_fraction=0)\n",
    "    \n",
    "    clustMarkers = pd.DataFrame(adata.uns['rank_genes_groups']['names'])\n",
    "    hpcsLogfc = pd.DataFrame(adata.uns['rank_genes_groups']['logfoldchanges'])\n",
    "    try:\n",
    "        hpcsMarkers.append(clustMarkers.loc[:,\"hpcs\"].values)\n",
    "        hpcsLogfcs.append(hpcsLogfc.loc[:,\"hpcs\"].values)\n",
    "        allHpcsList = np.append(allHpcsList,clustMarkers.loc[:,\"hpcs\"].values)\n",
    "    except:\n",
    "        hpcsMarkers.append(np.array([]))\n",
    "        hpcsLogfcs.append(np.array([]))\n",
    "\n",
    "    #try:\n",
    "    #    sc.pl.umap(adata, color=['SLC4A11', 'ITGA2', 'CLDN4', 'THBD', 'PROCR', 'PAR1', 'PLAUR', 'F2R']+[\"gmmClass\", \"kacScore\", \"HPCSScore\",\"nfkbScore\"], ncols=4, cmap=\"bwr\")\n",
    "    #except:\n",
    "    sc.pl.umap(adata, color=scoreNames+[\"gmmClass\", \"kacScore\", \"HPCSScore\",\"nfkbScore\"], ncols=4, cmap=\"bwr\")\n",
    "    #hpcsNFKb = adata[adata.obs.gmmClass==\"hpcs\"].obs[\"nfkbScore\"]\n",
    "    #otherNFKb = adata[np.logical_not(adata.obs.gmmClass==\"hpcs\")].obs[\"nfkbScore\"]\n",
    "\n",
    "    # Check variance (if ratio > 4:1, variances are different)\n",
    "    #variance_ratio = np.var(hpcsNFKb) / np.var(otherNFKb)\n",
    "    #print(f\"Variance ratio: {variance_ratio:.4f}\")\n",
    "\n",
    "    #t_statistic, p_value = stats.ttest_ind(hpcsNFKb, otherNFKb, equal_var=False, alternative=\"greater\")\n",
    "    #u_statistic, p_value = stats.mannwhitneyu(hpcsNFKb, otherNFKb, alternative=\"greater\")\n",
    "    #print(f\"\\t pval:{p_value}\")\n",
    "    #adata.obs[\"hpcs\"] = [\"hpcs\" if h else \"other\" for h in adata.obs.gmmClass==\"hpcs\"]\n",
    "    \n",
    "    #sc.set_figure_params(scanpy=True, dpi=100, dpi_save=150, fontsize=10, format='png')\n",
    "    #sc.pl.violin(adata, keys=\"nfkbScore\", groupby=\"hpcs\",  inner = \"box\", stripplot=False)\n",
    "    #sc.pl.violin(adata, keys=\"kacScore\", groupby=\"hpcs\",  inner = \"box\", stripplot=False)\n",
    "    #sc.pl.umap(adata, color=scoreNames+[\"leiden\",\"cellState\",\"decoupler\",\"gmmClass\",\"nfkbScore\",\"kacScore\"], ncols=4, cmap=\"bwr\")\n",
    "\n",
    "    \n",
    "hpcsMarkers"
   ]
  },
  {
   "cell_type": "code",
   "execution_count": null,
   "id": "7da099b6-2ea8-4366-b975-bd39aca53d76",
   "metadata": {},
   "outputs": [],
   "source": [
    "hpcsMarkers"
   ]
  },
  {
   "cell_type": "code",
   "execution_count": null,
   "id": "1f3f4598-0a09-4d86-afd5-6097ca7e826b",
   "metadata": {},
   "outputs": [],
   "source": [
    "hpcsMfc1 = pd.DataFrame(hpcsMarkers,index=[name.split(\".\")[0] for name in luadFiles]).T[:200]\n",
    "hpcsMfc1"
   ]
  },
  {
   "cell_type": "code",
   "execution_count": null,
   "id": "a7cc96c4-6bbe-4313-aedc-09c90f6e5016",
   "metadata": {},
   "outputs": [],
   "source": [
    "hpcsMfc1logs = pd.DataFrame(hpcsLogfcs,index=[name.split(\".\")[0] for name in luadFiles]).T[:200]\n",
    "hpcsMfc1logs"
   ]
  },
  {
   "cell_type": "code",
   "execution_count": null,
   "id": "50296e47-400a-4773-a9a4-1db67fe56621",
   "metadata": {},
   "outputs": [],
   "source": [
    "hpcsM"
   ]
  },
  {
   "cell_type": "code",
   "execution_count": null,
   "id": "be296938-7aa8-4c7e-b10d-0fddd5753d08",
   "metadata": {},
   "outputs": [],
   "source": [
    "hpcsMfc1"
   ]
  },
  {
   "cell_type": "code",
   "execution_count": null,
   "id": "a93d04d4-a122-4bac-b168-2e33df8a2f00",
   "metadata": {},
   "outputs": [],
   "source": [
    "hpcsMfc1#.iloc[:,:9:]"
   ]
  },
  {
   "cell_type": "code",
   "execution_count": null,
   "id": "933d6521-89a5-4c8f-bdd5-d40b1a4b62eb",
   "metadata": {},
   "outputs": [],
   "source": [
    "allHpcs = np.array([])\n",
    "for dataset in hpcsM.columns:#.iloc[:,:9].columns:\n",
    "    allHpcs = np.append(allHpcs,hpcsM.loc[:,dataset])\n",
    "    \n",
    "allHpcsCount = Counter(allHpcs)\n",
    "print(allHpcsCount.most_common()[:20])\n",
    "topOverGenes = [gene for gene,_ in allHpcsCount.most_common()[:20]]"
   ]
  },
  {
   "cell_type": "code",
   "execution_count": null,
   "id": "51dbb58c-bd0d-47cf-afac-72a95f0b37bb",
   "metadata": {
    "scrolled": true
   },
   "outputs": [],
   "source": [
    "topOverGenes"
   ]
  },
  {
   "cell_type": "code",
   "execution_count": null,
   "id": "29fc7b59-a834-4b2b-8db0-3df523cc320c",
   "metadata": {
    "scrolled": true
   },
   "outputs": [],
   "source": [
    "topOverGenes"
   ]
  },
  {
   "cell_type": "code",
   "execution_count": null,
   "id": "de2d43fd-c136-4758-b4ee-f6228f320c7a",
   "metadata": {
    "scrolled": true,
    "tags": []
   },
   "outputs": [],
   "source": [
    "allHpcsCount = Counter(allHpcs)\n",
    "print(allHpcsCount.most_common()[:20])\n",
    "topOverGenes = [gene for gene,_ in allHpcsCount.most_common()[:20]]"
   ]
  },
  {
   "cell_type": "code",
   "execution_count": null,
   "id": "e4cf979e-e1e3-452c-85ce-a7f151d25610",
   "metadata": {
    "scrolled": true
   },
   "outputs": [],
   "source": [
    "for i, luadf in enumerate(luadFiles):\n",
    "    print(luadf)\n",
    "    adata = sc.read_h5ad(writeDir+luadf)\n",
    "    sc.pl.umap(adata, color=topOverGenes+[\"hpcsScore\"], ncols=4)"
   ]
  },
  {
   "cell_type": "code",
   "execution_count": null,
   "id": "b566cf22-781b-4ec5-8271-8fa1f0d8f6ea",
   "metadata": {
    "scrolled": true
   },
   "outputs": [],
   "source": [
    "for i, luadf in enumerate(luadFiles):\n",
    "    print(luadf)\n",
    "    adata = sc.read_h5ad(writeDir+luadf)\n",
    "    sc.pl.umap(adata, color=['SLC4A11', 'ITGA2', 'CLDN4', 'THBD', 'PROCR', 'PLAUR', 'F2R']+[\"kacScore\", \"hpcsScore\"], ncols=4)"
   ]
  },
  {
   "cell_type": "code",
   "execution_count": null,
   "id": "c20ab5e6-196d-4a49-b761-2c28bc5d828b",
   "metadata": {
    "scrolled": true,
    "tags": []
   },
   "outputs": [],
   "source": [
    "hpcsMarkers = []\n",
    "allHpcsList = np.array([])\n",
    "\n",
    "n_rows, n_cols = 3, 5\n",
    "fig, axes = plt.subplots(n_rows, n_cols, figsize=(12, 8))    \n",
    "\n",
    "\n",
    "for i, luadf in enumerate(luadFiles):\n",
    "    #= luadFiles[i]\n",
    "    #print(luadf)\n",
    "    adata = sc.read(writeDir+luadf)\n",
    "    sc.tl.leiden(adata, resolution=0.3)\n",
    "    scoreNames, newBClabel, ogLabelScoreMed = scH.scoreAndLabel(adata, sigGenes, labelOfSigGenes= sigGenes.columns, ogLabel=\"leiden\", translate=False)\n",
    "    sc.tl.score_genes(adata, nfkb,score_name='nfkbScore')\n",
    "\n",
    "    \n",
    "    gmmClass = gmmScoreGeneSig(adata.obs[scoreNames],show=False)\n",
    "    adata.obs[\"gmmClass\"] = gmmClass\n",
    "\n",
    "    hpcsNFKb = adata[adata.obs.gmmClass==\"HPCS\"].obs[\"nfkbScore\"]\n",
    "    otherNFKb = adata[np.logical_not(adata.obs.gmmClass==\"HPCS\")].obs[\"nfkbScore\"]\n",
    "\n",
    "    # Check variance (if ratio > 4:1, variances are different)\n",
    "    variance_ratio = np.var(hpcsNFKb) / np.var(otherNFKb)\n",
    "    print(f\"Variance ratio: {variance_ratio:.4f}\")\n",
    "\n",
    "    #t_statistic, p_value = stats.ttest_ind(hpcsNFKb, otherNFKb, equal_var=False, alternative=\"greater\")\n",
    "    u_statistic, p_value = stats.mannwhitneyu(hpcsNFKb, otherNFKb, alternative=\"greater\")\n",
    "    print(f\"\\t pval:{p_value}\")\n",
    "    adata.obs[\"hpcs\"] = [\"HPCS\" if h else \"other\" for h in adata.obs.gmmClass==\"HPCS\"]\n",
    "    \n",
    "    #sc.set_figure_params(scanpy=True, dpi=100, dpi_save=150, fontsize=10, format='png')\n",
    "    sc.pl.violin(adata, keys=\"nfkbScore\", groupby=\"hpcs\",  inner = \"box\", stripplot=False, ax=axes[i//5,i%5], show=False)\n",
    "    \n",
    "    axes[i//5,i%5].set_title(f'{luadf[4:][:-5]} pval={p_value:.3f}')\n",
    "    #axes[i//5,i%5].set_ylabel('nfkbScore')\n",
    "    \n",
    "plt.tight_layout()\n",
    "\n",
    "plt.show()"
   ]
  },
  {
   "cell_type": "raw",
   "id": "8fefce0b-65a9-4a50-83d9-c63103e47365",
   "metadata": {},
   "source": [
    "histogram of scores and counts for hpcs and then do GMM [basian], then "
   ]
  },
  {
   "cell_type": "code",
   "execution_count": null,
   "id": "80478405-5a06-4e32-b9ac-02f0000e36bc",
   "metadata": {
    "scrolled": true
   },
   "outputs": [],
   "source": [
    "for luadf in luadFiles:\n",
    "    print(luadf)\n",
    "    adata = sc.read_h5ad(writeDir+luadf)\n",
    "\n",
    "    sc.pl.umap(adata, color=[\"NKX2-1\",\"HMGA2\",\"CLDN4\",\"ITGA2\",\"PROCR\",\"F2R\",\"PLAUR\",\"SLC4A11\",\"SOX2\",\"SOX9\",\"VIM\",\"EPCAM\"], ncols=4, cmap=\"Reds\")\n",
    "    \n"
   ]
  },
  {
   "cell_type": "code",
   "execution_count": null,
   "id": "422ba6a7-a67e-4b2f-a57a-823e28a7c9e0",
   "metadata": {},
   "outputs": [],
   "source": [
    "hpcsM = pd.DataFrame(hpcsMarkers,index=[name.split(\".\")[0] for name in luadFiles]).T[:200]\n",
    "hpcsM"
   ]
  },
  {
   "cell_type": "code",
   "execution_count": null,
   "id": "94fb8971-9970-4dd2-b5ee-b144516bee1a",
   "metadata": {},
   "outputs": [],
   "source": [
    "allHpcs = np.array([])\n",
    "for dataset in hpcsM:\n",
    "    allHpcs = np.append(allHpcs,hpcsM.loc[:,dataset])\n",
    "    \n",
    "len(allHpcs)"
   ]
  },
  {
   "cell_type": "code",
   "execution_count": null,
   "id": "2dff2326-914b-48b5-8ab0-15230b1f9d6e",
   "metadata": {
    "tags": []
   },
   "outputs": [],
   "source": [
    "allHpcsCount = Counter(allHpcs)\n",
    "allHpcsCount"
   ]
  },
  {
   "cell_type": "code",
   "execution_count": null,
   "id": "d476220b-c862-437b-ae9a-cc7697002216",
   "metadata": {},
   "outputs": [],
   "source": [
    "\"TNF\" in list(sigGenes[\"hpcs\"])"
   ]
  },
  {
   "cell_type": "code",
   "execution_count": null,
   "id": "f59232ac-6976-4601-a62c-355d3e6d9862",
   "metadata": {},
   "outputs": [],
   "source": []
  },
  {
   "cell_type": "code",
   "execution_count": null,
   "id": "6a1d504e-8b0e-4b61-b966-166ee9baa606",
   "metadata": {
    "scrolled": true,
    "tags": []
   },
   "outputs": [],
   "source": [
    "for luadf in luadFiles:\n",
    "    print(luadf)\n",
    "    adata = sc.read(writeDir+luadf)\n",
    "    sc.pl.umap(adata, color=topExpHpcs[:10]+[\"hpcsScore\",\"decoupler\"], ncols=4, cmap=\"Reds\")\n"
   ]
  },
  {
   "cell_type": "code",
   "execution_count": null,
   "id": "8ee4cd2a-9fdd-416c-81de-1f6c49f67c17",
   "metadata": {
    "tags": []
   },
   "outputs": [],
   "source": [
    "dict(allHpcsCount.most_common()[1:20])"
   ]
  },
  {
   "cell_type": "code",
   "execution_count": null,
   "id": "78a0bf81-9518-4cb0-a6a4-b3ecb2c5dbbc",
   "metadata": {
    "scrolled": true
   },
   "outputs": [],
   "source": [
    "#made with help from chatGPT\n",
    "import matplotlib.pyplot as plt\n",
    "\n",
    "# Sample data (names and frequencies)\n",
    "data = dict(allHpcsCount.most_common()[1:50])\n",
    "\n",
    "# Sort the data based on frequencies\n",
    "sorted_data = sorted(data.items(), key=lambda x: x[1], reverse=True)\n",
    "\n",
    "# Extract names and frequencies\n",
    "names, frequencies = zip(*sorted_data)\n",
    "\n",
    "# Plot the elbow plot\n",
    "plt.figure(figsize=(10, 6))\n",
    "plt.plot(range(1, len(frequencies) + 1), frequencies, marker='.', linestyle='')\n",
    "\n",
    "# Annotate points with names\n",
    "for i, (name, freq) in enumerate(sorted_data):\n",
    "    plt.annotate(name, (i + 1, freq), textcoords=\"offset points\", xytext=(0,-50), ha='center', rotation=90)\n",
    "\n",
    "plt.title('HPCS Genes and Their Frequency')\n",
    "plt.xlabel('Rank')\n",
    "plt.ylabel('Frequency')\n",
    "plt.xticks(range(1, len(names) + 1), [])\n",
    "plt.ylim(0, max(frequencies) * 1.1)  # Set y-axis limit to start from 0\n",
    "plt.grid(True)\n",
    "plt.tight_layout()\n",
    "plt.show()\n"
   ]
  },
  {
   "cell_type": "code",
   "execution_count": null,
   "id": "a77db31e-2d2d-48f8-8f44-25338604cd76",
   "metadata": {
    "tags": []
   },
   "outputs": [],
   "source": [
    "topExpHpcs = [gene for gene,val in allHpcsCount.most_common()[1:50]]\n",
    "topExpHpcs"
   ]
  },
  {
   "cell_type": "code",
   "execution_count": null,
   "id": "a89d9564-76b2-4c40-9dfd-95448359975d",
   "metadata": {},
   "outputs": [],
   "source": [
    "set(sigGenes[\"hpcs\"]).intersection(set(topExpHpcs))"
   ]
  },
  {
   "cell_type": "code",
   "execution_count": null,
   "id": "1d0169ec-d7bf-49ff-934a-b7f578004c69",
   "metadata": {},
   "outputs": [],
   "source": []
  }
 ],
 "metadata": {
  "kernelspec": {
   "display_name": "Python 3 (ipykernel)",
   "language": "python",
   "name": "python3"
  },
  "language_info": {
   "codemirror_mode": {
    "name": "ipython",
    "version": 3
   },
   "file_extension": ".py",
   "mimetype": "text/x-python",
   "name": "python",
   "nbconvert_exporter": "python",
   "pygments_lexer": "ipython3",
   "version": "3.8.16"
  }
 },
 "nbformat": 4,
 "nbformat_minor": 5
}
