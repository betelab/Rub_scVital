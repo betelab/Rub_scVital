{
 "cells": [
  {
   "cell_type": "code",
   "execution_count": null,
   "id": "425c36fc-f0af-4c76-93d7-cf512d943577",
   "metadata": {},
   "outputs": [],
   "source": []
  },
  {
   "cell_type": "code",
   "execution_count": null,
   "id": "252d89ce-66b2-430f-abb7-5c91d66b7d3f",
   "metadata": {},
   "outputs": [],
   "source": [
    "import numpy as np\n",
    "import pandas as pd\n",
    "import scanpy as sc\n",
    "import scipy.io\n",
    "import scanpy.external as scex\n",
    "import sklearn.metrics\n",
    "import seaborn as sns\n",
    "from matplotlib import pyplot as plt\n",
    "import scanpyHelpers as scH\n",
    "from collections import Counter"
   ]
  },
  {
   "cell_type": "code",
   "execution_count": null,
   "id": "645d8750-2a93-49ed-9a60-40d01fa7eb0e",
   "metadata": {},
   "outputs": [],
   "source": [
    "#adata=sc.read(results_file_post)\n",
    "#adata.uns['log1p'] = {\"base\":None}"
   ]
  },
  {
   "cell_type": "markdown",
   "id": "139dcda2-4b50-45aa-85e8-663e70a74cb6",
   "metadata": {},
   "source": [
    "Set up out properties"
   ]
  },
  {
   "cell_type": "code",
   "execution_count": null,
   "id": "304826fc-ac59-4d76-a655-1f93f7bcdd6e",
   "metadata": {
    "scrolled": true,
    "tags": []
   },
   "outputs": [],
   "source": [
    "sc.settings.verbosity = 3             # verbosity: errors (0), warnings (1), info (2), hints (3)\n",
    "sc.logging.print_header()\n",
    "sc.settings.set_figure_params(dpi=80, facecolor='white')"
   ]
  },
  {
   "cell_type": "code",
   "execution_count": null,
   "id": "a3958527-8b39-4c29-9163-eee788c190cf",
   "metadata": {},
   "outputs": [],
   "source": [
    "%matplotlib inline"
   ]
  },
  {
   "cell_type": "markdown",
   "id": "968566a5-e27e-43f5-8cb2-b935b5a12dd7",
   "metadata": {},
   "source": [
    "Set scanpy out-files"
   ]
  },
  {
   "cell_type": "code",
   "execution_count": null,
   "id": "c4675a44-ce4a-4f38-b04a-66c4fc2e0bb4",
   "metadata": {},
   "outputs": [],
   "source": [
    "writeDir = \"write/\"\n",
    "\n",
    "fileName = \"luadKim\"\n",
    "\n",
    "resultsFile = writeDir + fileName + '.h5ad'       # final output\n",
    "resultsFileQC = writeDir + fileName + '_QC.h5ad'  # post QC (pre-analysis) "
   ]
  },
  {
   "cell_type": "code",
   "execution_count": null,
   "id": "3a329b9d-007b-4a0f-983c-17e31d232911",
   "metadata": {},
   "outputs": [],
   "source": [
    "sigFile = \"data/LUAD/humanLUADgeneSig.csv\"\n",
    "hpcSig = pd.read_csv(sigFile)\n",
    "hpcSig"
   ]
  },
  {
   "cell_type": "markdown",
   "id": "77696e51-c2b5-4a05-964f-d52840995ce1",
   "metadata": {
    "tags": []
   },
   "source": [
    "Set figure parameters"
   ]
  },
  {
   "cell_type": "code",
   "execution_count": null,
   "id": "e50cffba-ab13-40fe-b978-c525fb1db4a5",
   "metadata": {
    "tags": []
   },
   "outputs": [],
   "source": [
    "sc.set_figure_params(scanpy=True, dpi=100, dpi_save=150, fontsize=10, format='png')\n",
    "sc.settings.figdir = \"figures/\" + fileName + \"/\"\n",
    "figName = fileName"
   ]
  },
  {
   "cell_type": "code",
   "execution_count": null,
   "id": "83f3aa4e-f800-488a-b41e-0443986c9415",
   "metadata": {
    "tags": []
   },
   "outputs": [],
   "source": [
    "adata = sc.read_h5ad(resultsFileQC)\n",
    "adata"
   ]
  },
  {
   "cell_type": "code",
   "execution_count": null,
   "id": "30d1d854-07dd-4f41-97f9-034e3828640a",
   "metadata": {},
   "outputs": [],
   "source": [
    "#rerun"
   ]
  },
  {
   "cell_type": "code",
   "execution_count": null,
   "id": "fd519604-142b-4ef7-b3a4-778e523450a5",
   "metadata": {},
   "outputs": [],
   "source": [
    "adata = adata[adata.obs.cell_type==\"Malignant\"]\n",
    "adata = adata[np.logical_not(adata.obs.disease_extent==\"metastatic\")]\n",
    "adata"
   ]
  },
  {
   "cell_type": "code",
   "execution_count": null,
   "id": "298d6da4-7209-46cc-bb60-f4aa44f73d77",
   "metadata": {},
   "outputs": [],
   "source": [
    "Counter(adata.obs[\"sample\"])"
   ]
  },
  {
   "cell_type": "code",
   "execution_count": null,
   "id": "7bf6d120-fe72-45a0-bee9-01fd57c3b9d8",
   "metadata": {},
   "outputs": [],
   "source": [
    "adata.obs[\"genetic_hormonal_features\"]"
   ]
  },
  {
   "cell_type": "code",
   "execution_count": null,
   "id": "77098961-e0ce-4215-a235-831ecf70f15b",
   "metadata": {},
   "outputs": [],
   "source": [
    "adata.obs[\"sample\"].cat.categories"
   ]
  },
  {
   "cell_type": "code",
   "execution_count": null,
   "id": "80068cc1-2a52-4dae-9c85-174536351a77",
   "metadata": {},
   "outputs": [],
   "source": [
    "patient = ['P0030', 'P0034']\n",
    "#adata = adata[adata.obs[\"sample\"]== patient]\n",
    "adata = adata[[p in patient for p in adata.obs[\"sample\"]],]\n",
    "\n",
    "#resultsFile = writeDir + fileName + patient+ '.h5ad'  \n",
    "#adata.layers[\"counts\"] = adata.X.copy()\n",
    "adata"
   ]
  },
  {
   "cell_type": "code",
   "execution_count": null,
   "id": "d0d5fd51-13dd-44df-b066-77d0a8abb33c",
   "metadata": {},
   "outputs": [],
   "source": [
    "adata.obs"
   ]
  },
  {
   "cell_type": "code",
   "execution_count": null,
   "id": "d01530e1-6133-4113-aad5-c5d768aba82a",
   "metadata": {},
   "outputs": [],
   "source": [
    "sc.pp.normalize_total(adata,target_sum=1e4)"
   ]
  },
  {
   "cell_type": "code",
   "execution_count": null,
   "id": "7c826e38-bb29-4e00-933a-55b59581a5d9",
   "metadata": {},
   "outputs": [],
   "source": [
    "sc.pp.log1p(adata)"
   ]
  },
  {
   "cell_type": "code",
   "execution_count": null,
   "id": "6029a58c-cfe5-4f5a-a45b-1044fe2facf4",
   "metadata": {},
   "outputs": [],
   "source": [
    "#adata.write(writeDir + fileName + patient+ '_QC.h5ad')"
   ]
  },
  {
   "cell_type": "code",
   "execution_count": null,
   "id": "81fe9223-7eac-46a7-8321-b718e726830a",
   "metadata": {},
   "outputs": [],
   "source": [
    "sc.pp.highly_variable_genes(adata)#, flavor = \"seurat\", n_top_genes=2000)"
   ]
  },
  {
   "cell_type": "code",
   "execution_count": null,
   "id": "43902dc2-466e-46e2-9f31-4deb304db630",
   "metadata": {},
   "outputs": [],
   "source": [
    "minMean = 0.05\n",
    "maxMean = 3\n",
    "minDisp = 0.4\n",
    "\n",
    "fig, axs = plt.subplots(1, 2, figsize=(10, 5))\n",
    "\n",
    "means = adata.var[[\"means\"]][adata.var[[\"means\"]] > np.exp(-14)]#adata.var[[\"means\"]],\n",
    "axs[0].hist(np.log(means), bins=100)#, log=True),\n",
    "axs[0].axvline(np.log(minMean), color='k', linestyle='dashed', linewidth=1)\n",
    "axs[0].axvline(np.log(maxMean), color='k', linestyle='dashed', linewidth=1)\n",
    "axs[0].set_title('Gene means counts')\n",
    "axs[0].set_xlabel('means')\n",
    "axs[0].set_ylabel('counts')\n",
    "\n",
    "dispNorm = adata.var[[\"dispersions_norm\"]][adata.var[[\"dispersions_norm\"]] > np.exp(-5)]#adata.var[[\"means\"]],\n",
    "axs[1].hist(np.log(dispNorm), bins=100)#, log=True),\n",
    "axs[1].axvline(np.log(minDisp), color='k', linestyle='dashed', linewidth=1)\n",
    "axs[1].set_title('Gene dispersions counts')\n",
    "axs[1].set_xlabel('dispersions')\n",
    "axs[1].set_ylabel('counts')\n",
    "\n",
    "sc.pp.highly_variable_genes(adata, min_disp=minDisp, min_mean=minMean, max_mean=maxMean)\n",
    "print(sum(adata.var.highly_variable))"
   ]
  },
  {
   "cell_type": "code",
   "execution_count": null,
   "id": "8cda0b69-f64e-447a-961a-7c50fe8e5bf0",
   "metadata": {},
   "outputs": [],
   "source": [
    "sc.pl.highly_variable_genes(adata)"
   ]
  },
  {
   "cell_type": "code",
   "execution_count": null,
   "id": "325e82de-43f6-4934-a6a6-50ddf02a94a8",
   "metadata": {},
   "outputs": [],
   "source": [
    "#for inGene in adata.var[-8:].index.tolist():\n",
    "#    adata.var.loc[inGene,\"highly_variable\"] = False"
   ]
  },
  {
   "cell_type": "code",
   "execution_count": null,
   "id": "7a1143eb-b1f7-40ef-9a85-d6be0051667a",
   "metadata": {},
   "outputs": [],
   "source": [
    "adata.raw = adata"
   ]
  },
  {
   "cell_type": "code",
   "execution_count": null,
   "id": "5e2861e5-09c6-4a19-bb72-62a238c47a79",
   "metadata": {},
   "outputs": [],
   "source": [
    "#adata = adata[:, adata.var.highly_variable]\n",
    "adata = adata[:, np.logical_and(adata.var.highly_variable, np.logical_not(adata.var.mt))]"
   ]
  },
  {
   "cell_type": "code",
   "execution_count": null,
   "id": "673c60dc-7028-48e2-9ccf-9b5ae45934d1",
   "metadata": {},
   "outputs": [],
   "source": [
    "#sc.pp.regress_out(adata, ['total_counts', 'pct_counts_mt'])"
   ]
  },
  {
   "cell_type": "code",
   "execution_count": null,
   "id": "5440f444-9bf6-40bf-8267-3ff16acfab39",
   "metadata": {},
   "outputs": [],
   "source": [
    "#sc.pp.scale(adata, max_value=10)"
   ]
  },
  {
   "cell_type": "code",
   "execution_count": null,
   "id": "8935337f-dc02-4347-9bf1-6057d1c1a8e7",
   "metadata": {},
   "outputs": [],
   "source": [
    "sc.tl.pca(adata, n_comps = 100, svd_solver='arpack')"
   ]
  },
  {
   "cell_type": "code",
   "execution_count": null,
   "id": "ffcfea62-8864-4bdc-8d44-2c5bd56b7f42",
   "metadata": {},
   "outputs": [],
   "source": [
    "sc.pl.pca_variance_ratio(adata, n_pcs = 100, log=True)"
   ]
  },
  {
   "cell_type": "code",
   "execution_count": null,
   "id": "f694d1da-e616-48ba-8c66-c97008df6acc",
   "metadata": {},
   "outputs": [],
   "source": [
    "sc.pl.pca_variance_ratio(adata, n_pcs = 100)"
   ]
  },
  {
   "cell_type": "code",
   "execution_count": null,
   "id": "873dbc0c-4046-493f-bc92-32dd4e63c263",
   "metadata": {},
   "outputs": [],
   "source": [
    "sc.pp.neighbors(adata, n_neighbors=20, n_pcs=60)"
   ]
  },
  {
   "cell_type": "code",
   "execution_count": null,
   "id": "a56f3796-396c-4698-93d1-49cf6042e4ae",
   "metadata": {},
   "outputs": [],
   "source": [
    "sc.tl.umap(adata)"
   ]
  },
  {
   "cell_type": "code",
   "execution_count": null,
   "id": "5d9e7992-bf40-45f4-9b17-f1346e8d90b9",
   "metadata": {},
   "outputs": [],
   "source": [
    "sc.tl.leiden(adata, resolution=0.5)"
   ]
  },
  {
   "cell_type": "code",
   "execution_count": null,
   "id": "c4f96d76-7d3b-40ab-978a-fe4635c01d0b",
   "metadata": {},
   "outputs": [],
   "source": [
    "sc.pl.umap(adata, color=[\"leiden\",\"genetic_hormonal_features\",\"sample\",\"cell_type\",\"smoking_status\",\"AJCC_stage\",\"PTPRC\",\"EPCAM\",\"PECAM1\",\"VIM\",\"FBN1\",\"CAPS\"],ncols=4)"
   ]
  },
  {
   "cell_type": "code",
   "execution_count": null,
   "id": "0df26877-c177-4fe1-bcc5-e49041f18485",
   "metadata": {},
   "outputs": [],
   "source": [
    "sc.pl.umap(adata, color=[\"n_genes\",\"pct_counts_mt\",\"total_counts\"])"
   ]
  },
  {
   "cell_type": "code",
   "execution_count": null,
   "id": "0320c08e-a64b-48fe-a6e8-bd10bca5da1c",
   "metadata": {},
   "outputs": [],
   "source": [
    "adata.uns['log1p']['base']=None"
   ]
  },
  {
   "cell_type": "code",
   "execution_count": null,
   "id": "e0d77280-5572-4791-9f6a-3949e5ed59b5",
   "metadata": {},
   "outputs": [],
   "source": [
    "sc.tl.rank_genes_groups(adata, 'leiden', method='wilcoxon', use_raw=False)\n",
    "#sc.tl.filter_rank_genes_groups(adata, groupby=\"leiden\", use_raw=False,\n",
    "#                                   key_added='rank_genes_groups_filtered', \n",
    "#                                   min_in_group_fraction=0.25, min_fold_change=1, max_out_group_fraction=0.5, compare_abs=False)\n",
    "sc.pl.rank_genes_groups(adata, n_genes=25, sharey=False)"
   ]
  },
  {
   "cell_type": "code",
   "execution_count": null,
   "id": "741eb90d-dc29-40e7-967a-a9498893abf1",
   "metadata": {},
   "outputs": [],
   "source": [
    "pd.DataFrame(adata.uns['rank_genes_groups']['names']).head(15)"
   ]
  },
  {
   "cell_type": "code",
   "execution_count": null,
   "id": "dc26321c-65df-47c7-ad80-999180b6ca94",
   "metadata": {},
   "outputs": [],
   "source": [
    "sc.tl.dendrogram(adata,groupby=\"leiden\", n_pcs=60)\n",
    "sc.pl.rank_genes_groups_dotplot(adata,n_genes=3)#,key=\"rank_genes_groups_filtered\")"
   ]
  },
  {
   "cell_type": "code",
   "execution_count": null,
   "id": "28a620b6-e90c-4d31-bd38-1c54f04da93b",
   "metadata": {},
   "outputs": [],
   "source": [
    "resultsFile"
   ]
  },
  {
   "cell_type": "code",
   "execution_count": null,
   "id": "137a0da7-8e7a-48fe-93fb-a0d3253b9558",
   "metadata": {},
   "outputs": [],
   "source": [
    "adata"
   ]
  },
  {
   "cell_type": "code",
   "execution_count": null,
   "id": "a61f64bf-74c0-4678-885d-93b78a2d413a",
   "metadata": {},
   "outputs": [],
   "source": [
    "#adata.write(resultsFile)\n",
    "adata.write('write/luadKimP30P34.h5ad')\n",
    "adata"
   ]
  },
  {
   "cell_type": "code",
   "execution_count": null,
   "id": "db050210-f1f5-4081-8cd3-635bb380980b",
   "metadata": {},
   "outputs": [],
   "source": [
    "homology = pd.read_table(\"data/hgncHM_121.csv\", sep=\",\")\n",
    "mouseGenes = np.array(homology[\"mouse\"])\n",
    "humanGenes = np.array(homology[\"human\"])\n",
    "homology"
   ]
  },
  {
   "cell_type": "code",
   "execution_count": null,
   "id": "b2595560-ffae-4975-8e45-bddfce604ec2",
   "metadata": {},
   "outputs": [],
   "source": [
    "import scanpyHelpers as scH"
   ]
  },
  {
   "cell_type": "code",
   "execution_count": null,
   "id": "430866e9-e64d-4362-a144-8c770229bd3a",
   "metadata": {
    "scrolled": true,
    "tags": []
   },
   "outputs": [],
   "source": [
    "adata = sc.read(resultsFile)\n",
    "adata"
   ]
  },
  {
   "cell_type": "code",
   "execution_count": null,
   "id": "093ed4e0-d7ca-4438-9b16-06af58cce4cf",
   "metadata": {
    "scrolled": true,
    "tags": []
   },
   "outputs": [],
   "source": [
    "sigFile = \"data/LUAD/humanLUADgeneSig.csv\"\n",
    "sigGenes = pd.read_csv(sigFile)\n",
    "sigGenes"
   ]
  },
  {
   "cell_type": "code",
   "execution_count": null,
   "id": "e02800e9-2813-4115-93ec-c813f6722661",
   "metadata": {},
   "outputs": [],
   "source": [
    "sigGenes.columns"
   ]
  },
  {
   "cell_type": "code",
   "execution_count": null,
   "id": "0df5d839-c816-4d2c-84ec-6dcf026dfd7c",
   "metadata": {
    "tags": []
   },
   "outputs": [],
   "source": [
    "scoreNames, newBClabel, ogLabelScoreMed = scH.scoreAndLabel(adata, sigGenes, labelOfSigGenes= sigGenes.columns, ogLabel=\"leiden\", \n",
    "                                                            translate=False)\n",
    "sc.pl.umap(adata, color=scoreNames+[\"cellState\"], ncols=4)"
   ]
  },
  {
   "cell_type": "code",
   "execution_count": null,
   "id": "d34119b6-f0dd-4b57-a496-059bddfee869",
   "metadata": {},
   "outputs": [],
   "source": [
    "leidendict = {\"0\":\"At2-like\",\"1\":\"HPCS\",\"2\":\"At1-like\"}\n",
    "adata.obs[\"cellState\"] = [leidendict[l] for l in adata.obs.leiden]"
   ]
  },
  {
   "cell_type": "code",
   "execution_count": null,
   "id": "10195dce-f93f-4f84-bf6b-5768306d5842",
   "metadata": {},
   "outputs": [],
   "source": [
    "sc.pl.umap(adata, color=scoreNames+[\"leiden\",\"cellState\", 'cell_type',\"source\"], ncols=4)"
   ]
  },
  {
   "cell_type": "code",
   "execution_count": null,
   "id": "7361d965-1e5d-459c-8daa-3a0b1eae75a4",
   "metadata": {
    "tags": []
   },
   "outputs": [],
   "source": [
    "markers = pd.DataFrame(np.empty((500*12,2), dtype=\"object\"), columns=[\"genes\", \"clustName\"])\n",
    "for i,clust in enumerate(sigGenes.columns):\n",
    "    for j,gene in enumerate(sigGenes.index):\n",
    "        gene = sigGenes.loc[gene,clust]\n",
    "        indexOver = np.where(mouseGenes == gene)[0]\n",
    "        if indexOver.size > 0:\n",
    "            gene = humanGenes[indexOver[0]]\n",
    "        markers.iloc[i*500+j] = gene,clust\n",
    "        \n",
    "markers = markers.dropna()\n",
    "markers"
   ]
  },
  {
   "cell_type": "code",
   "execution_count": null,
   "id": "72494637-e69e-4ebb-9074-8c25fec50604",
   "metadata": {},
   "outputs": [],
   "source": [
    "import decoupler as dc"
   ]
  },
  {
   "cell_type": "code",
   "execution_count": null,
   "id": "ef5a3a19-5486-4664-9a83-09205d4bda44",
   "metadata": {},
   "outputs": [],
   "source": [
    "dc.run_ora(\n",
    "    mat=adata,\n",
    "    net=markers,\n",
    "    source='clustName',\n",
    "    target='genes',\n",
    "    min_n=3,\n",
    "    verbose=True\n",
    ")"
   ]
  },
  {
   "cell_type": "code",
   "execution_count": null,
   "id": "1d9be11c-7320-4968-b26b-8d2868df4934",
   "metadata": {},
   "outputs": [],
   "source": [
    "adata.obsm['ora_estimate']\n"
   ]
  },
  {
   "cell_type": "code",
   "execution_count": null,
   "id": "be6c2441-0738-40d9-8734-083d885f4d8f",
   "metadata": {},
   "outputs": [],
   "source": [
    "acts = dc.get_acts(adata, obsm_key='ora_estimate')\n",
    "\n",
    "# We need to remove inf and set them to the maximum value observed for pvals=0\n",
    "acts_v = acts.X.ravel()\n",
    "max_e = np.nanmax(acts_v[np.isfinite(acts_v)])\n",
    "acts.X[~np.isfinite(acts.X)] = max_e\n",
    "\n",
    "acts"
   ]
  },
  {
   "cell_type": "code",
   "execution_count": null,
   "id": "ab22dfe9-e535-4ed5-a4f9-010e98e75c7f",
   "metadata": {},
   "outputs": [],
   "source": [
    "sc.pl.umap(acts, color=scoreNames+['leiden'], cmap='RdBu_r')\n",
    "sc.pl.violin(acts, keys=scoreNames, groupby='leiden')"
   ]
  },
  {
   "cell_type": "code",
   "execution_count": null,
   "id": "627d9338-5069-4ef3-8855-ca97421b7ef8",
   "metadata": {},
   "outputs": [],
   "source": [
    "df = dc.rank_sources_groups(acts, groupby='leiden', reference='rest', method='t-test_overestim_var')\n",
    "df"
   ]
  },
  {
   "cell_type": "code",
   "execution_count": null,
   "id": "cf04187f-a106-47c3-a8c7-a5a5db473079",
   "metadata": {},
   "outputs": [],
   "source": [
    "n_ctypes = 3\n",
    "ctypes_dict = df.groupby('group').head(n_ctypes).groupby('group')['names'].apply(lambda x: list(x)).to_dict()\n",
    "ctypes_dict"
   ]
  },
  {
   "cell_type": "code",
   "execution_count": null,
   "id": "da78e158-e0a8-4e26-86a1-75739d7a64c3",
   "metadata": {},
   "outputs": [],
   "source": [
    "sc.pl.matrixplot(acts, ctypes_dict, 'leiden', dendrogram=True, standard_scale='var',\n",
    "                 colorbar_title='Z-scaled scores', cmap='RdBu_r')\n"
   ]
  },
  {
   "cell_type": "code",
   "execution_count": null,
   "id": "f08d64a0-e0ee-4744-b09e-d12e5deb2b14",
   "metadata": {},
   "outputs": [],
   "source": [
    "annotation_dict = df.groupby('group').head(1).set_index('group')['names'].to_dict()\n",
    "annotation_dict"
   ]
  },
  {
   "cell_type": "code",
   "execution_count": null,
   "id": "361c638e-835e-4ffc-a5ad-efe6074b46b6",
   "metadata": {},
   "outputs": [],
   "source": [
    "# Add cell type column based on annotation\n",
    "adata.obs['decoupler'] = [annotation_dict[clust] for clust in adata.obs['leiden']]\n",
    "\n",
    "# Visualize\n",
    "sc.pl.umap(adata, color=['decoupler','cellState', \"leiden\"])"
   ]
  },
  {
   "cell_type": "code",
   "execution_count": null,
   "id": "2a1c0c32-fe20-4443-98d5-68add3db553c",
   "metadata": {},
   "outputs": [],
   "source": [
    "resultsFile"
   ]
  },
  {
   "cell_type": "code",
   "execution_count": null,
   "id": "8c645b49-135c-437b-8eca-5f8a3032957b",
   "metadata": {},
   "outputs": [],
   "source": [
    "adata.write(resultsFile)\n",
    "adata"
   ]
  },
  {
   "cell_type": "code",
   "execution_count": null,
   "id": "2dc0eed7-eb1f-4c98-842b-1c993c358422",
   "metadata": {},
   "outputs": [],
   "source": [
    "adata = sc.read(resultsFile)"
   ]
  },
  {
   "cell_type": "code",
   "execution_count": null,
   "id": "fd84be9b-7b57-45c1-a562-8f708305cf23",
   "metadata": {},
   "outputs": [],
   "source": [
    "scH.addIndvLabel(adata, [f\"{sigName}Score\" for sigName in sigGenes.columns], obsLabel=\"zsig\", cutoff=0)"
   ]
  },
  {
   "cell_type": "code",
   "execution_count": null,
   "id": "f3f09355-5440-4139-9cf2-19f69a0afb6b",
   "metadata": {},
   "outputs": [],
   "source": [
    "sc.pl.umap(adata, color=[\"leiden\",'decoupler','zsig','cellState'])"
   ]
  },
  {
   "cell_type": "code",
   "execution_count": null,
   "id": "6e97a1c5-e66e-41b9-be05-eb2669389cc9",
   "metadata": {},
   "outputs": [],
   "source": [
    "sc.pl.pca(adata, color=['decoupler',\"leiden\",'zsig','cellState',\"sample\"],ncols=3)"
   ]
  },
  {
   "cell_type": "code",
   "execution_count": null,
   "id": "7cca0bd5-d364-4dea-9bf8-00492a0bae0a",
   "metadata": {},
   "outputs": [],
   "source": [
    "adata.write(resultsFile)\n",
    "adata"
   ]
  },
  {
   "cell_type": "code",
   "execution_count": null,
   "id": "896683d0-4f66-4512-9f4a-eb73741638c6",
   "metadata": {},
   "outputs": [],
   "source": [
    "resultsFile"
   ]
  },
  {
   "cell_type": "code",
   "execution_count": null,
   "id": "f5105a71-2545-4c02-8a8d-a4160406ab37",
   "metadata": {},
   "outputs": [],
   "source": [
    "writeDir + fileName + patient+ '_QC.h5ad'"
   ]
  },
  {
   "cell_type": "code",
   "execution_count": null,
   "id": "9504ded4-e458-4ce1-933e-e02787036d98",
   "metadata": {},
   "outputs": [],
   "source": []
  },
  {
   "cell_type": "code",
   "execution_count": null,
   "id": "b04b335b-2f60-41f6-b6b3-80fe55cae3dd",
   "metadata": {},
   "outputs": [],
   "source": []
  },
  {
   "cell_type": "code",
   "execution_count": null,
   "id": "6725e4c6-8a7e-4e64-a44d-035f0f8dd734",
   "metadata": {},
   "outputs": [],
   "source": [
    "sigGenes"
   ]
  },
  {
   "cell_type": "code",
   "execution_count": null,
   "id": "bb39558f-05c4-41dd-b393-47b2bcf6ad95",
   "metadata": {},
   "outputs": [],
   "source": []
  },
  {
   "cell_type": "code",
   "execution_count": null,
   "id": "8d6ff6bb-bc4e-4bf6-aea7-1c96af406dbd",
   "metadata": {},
   "outputs": [],
   "source": [
    "clustToLabel = {\"Cluster 1\":\"AT2-like\",\n",
    " \"Cluster 2\":\"AT2-like\",\n",
    " \"Cluster 3\":\"AT1-like\",\n",
    " \"Cluster 4\":\"Endoderm-like\",\n",
    " \"Cluster 5\":\"HPCS\",\n",
    " \"Cluster 6\":\"GiEpi\",\n",
    " \"Cluster 7\":\"Prolif\",\n",
    " \"Cluster 8\":\"EmbLiv\",\n",
    " \"Cluster 9\":\"Rib\",\n",
    " \"Cluster 10\":\"Gastro\",\n",
    " \"Cluster 11\":\"EMT\",\n",
    " \"Cluster 12\":\"Adv\",\n",
    " \"out\":\"unlab\"}\n",
    "\n",
    "homology = pd.read_table(\"../mhCompTiss/data/hgncHM_121.csv\", sep=\",\")\n",
    "mouseGenes = np.array(homology[\"mouse\"])\n",
    "humanGenes = np.array(homology[\"human\"])\n",
    "m2h = dict(zip(mouseGenes,humanGenes))\n",
    "h2m = dict(zip(humanGenes,mouseGenes))\n",
    "\n",
    "from collections import Counter\n",
    "sigFile = \"data/LUAD/simpLUADcs.csv\"\n",
    "sigGenes = pd.read_excel(\"data/LUAD/LUADhpcs.xlsx\")\n",
    "sigGenes = sigGenes[['Cluster 1', 'Cluster 2', 'Cluster 3', 'Cluster 4', 'Cluster 5',\n",
    "                     'Cluster 6', \n",
    "                     'Cluster 7', 'Cluster 8',  \n",
    "                     'Cluster 9','Cluster 10','Cluster 11', \n",
    "                     'Cluster 12']]\n",
    "adata = sc.read_h5ad(\"write/luadKimP30P34.h5ad\")\n",
    "\n",
    "sc.tl.leiden(adata, resolution=1.4)\n",
    "\n",
    "for gs in sigGenes:\n",
    "    sc.tl.score_genes(adata,[m2h[g] for g in sigGenes[gs].dropna() if g in m2h.keys()],score_name=f\"{gs}Score\")\n",
    "scoreMat = adata.obs[[f\"{sigName}Score\" for sigName in sigGenes.columns]]\n",
    "adata.obs[\"zsig\"] = scH.zScores(scoreMat, cutoff = 0.5)\n",
    "relabelDict = {}\n",
    "for li in adata.obs.leiden.cat.categories:\n",
    "    mostCommon = Counter(adata[adata.obs.leiden==li].obs.zsig).most_common(2)\n",
    "    relabel = \"\"\n",
    "    #if(mostCommon[0][0] in clustToLabel.keys()):\n",
    "    relabel = clustToLabel[mostCommon[0][0]]\n",
    "    #else:\n",
    "    #    relabel = clustToLabel[mostCommon[1][0]]\n",
    "    relabelDict[li] = relabel\n",
    "\n",
    "relabelDict = {'0': 'AT2-like', '1': 'HPCS', '2': 'AT2-like', '3': 'Endoderm-like', '4': 'unlab', '5': 'AT2-like', '6': 'unlab', '7': 'Adv', '8': 'HPCS', '9': 'HPCS', '10': 'Adv'}\n",
    "print(relabelDict)\n",
    "adata.obs[\"cs\"] = [relabelDict[li] for li in adata.obs.leiden]"
   ]
  },
  {
   "cell_type": "code",
   "execution_count": null,
   "id": "61a47229-e0e9-4b14-9689-6f1f134da777",
   "metadata": {},
   "outputs": [],
   "source": [
    "sc.pl.umap(adata, color=[\"leiden\",\"cs\"],ncols=4)"
   ]
  },
  {
   "cell_type": "code",
   "execution_count": null,
   "id": "bbcdbed1-0f16-4a78-baa7-062096f44a5d",
   "metadata": {},
   "outputs": [],
   "source": [
    "sc.pl.umap(adata, color=[f\"{sigName}Score\" for sigName in sigGenes.columns], cmap=\"bwr\", ncols=4)"
   ]
  },
  {
   "cell_type": "code",
   "execution_count": null,
   "id": "865c8cbc-4a41-4314-9e59-1238ecc9fdea",
   "metadata": {},
   "outputs": [],
   "source": [
    "qcdata = sc.read_h5ad(resultsFileQC)\n",
    "print(sum(qcdata.X.todense()))\n",
    "\n",
    "rdata = adata.raw.to_adata()\n",
    "\n",
    "qcdata = qcdata[rdata.obs_names,:]\n",
    "rdata.layers[\"counts\"] = qcdata.X.copy()\n",
    "rdata.obs = rdata.obs[['source','leiden','cs']]\n",
    "rdata.write('write/luadKim_Labeled.h5ad')"
   ]
  },
  {
   "cell_type": "code",
   "execution_count": null,
   "id": "6676a503-3626-4100-a1a0-fff4ca360a29",
   "metadata": {},
   "outputs": [],
   "source": [
    "resultsFileQC"
   ]
  },
  {
   "cell_type": "code",
   "execution_count": null,
   "id": "8d96f7ab-1b7f-48c1-b2b4-7ea1702320a2",
   "metadata": {},
   "outputs": [],
   "source": [
    "sigGenes.columns"
   ]
  },
  {
   "cell_type": "code",
   "execution_count": null,
   "id": "c8779fa3-123c-4647-ba0b-7c56b06dfc81",
   "metadata": {},
   "outputs": [],
   "source": [
    "rdata"
   ]
  },
  {
   "cell_type": "code",
   "execution_count": null,
   "id": "9b34dd04-472e-4af3-b685-bbd437988a25",
   "metadata": {},
   "outputs": [],
   "source": []
  }
 ],
 "metadata": {
  "kernelspec": {
   "display_name": "Python 3 (ipykernel)",
   "language": "python",
   "name": "python3"
  },
  "language_info": {
   "codemirror_mode": {
    "name": "ipython",
    "version": 3
   },
   "file_extension": ".py",
   "mimetype": "text/x-python",
   "name": "python",
   "nbconvert_exporter": "python",
   "pygments_lexer": "ipython3",
   "version": "3.8.16"
  }
 },
 "nbformat": 4,
 "nbformat_minor": 5
}
