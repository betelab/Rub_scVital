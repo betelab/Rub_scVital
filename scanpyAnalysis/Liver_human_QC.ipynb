{
 "cells": [
  {
   "cell_type": "code",
   "execution_count": null,
   "id": "83ba9a7a-abc9-43b0-bdfb-2ddd3e593389",
   "metadata": {},
   "outputs": [],
   "source": []
  },
  {
   "cell_type": "markdown",
   "id": "a89330ef-49b9-4c48-ab69-8e306ce83542",
   "metadata": {},
   "source": [
    "Dissecting the human liver cellular landscape by single cell RNA-seq reveals novel intrahepatic monocyte/ macrophage populations"
   ]
  },
  {
   "cell_type": "code",
   "execution_count": null,
   "id": "15d52a0a-51bf-41ed-8fb1-acf3a95915c8",
   "metadata": {},
   "outputs": [],
   "source": [
    "import numpy as np\n",
    "import pandas as pd\n",
    "import scanpy as sc\n",
    "import scipy.io\n",
    "import scanpy.external as scex\n",
    "import sklearn.metrics\n",
    "import matplotlib\n",
    "import bbknn\n",
    "\n",
    "from matplotlib import pyplot as plt\n",
    "import seaborn as sns\n",
    "from scipy import stats\n",
    "from sklearn.mixture import GaussianMixture as GMM\n",
    "from scipy.stats import norm\n",
    "\n",
    "import seaborn as sns"
   ]
  },
  {
   "cell_type": "code",
   "execution_count": null,
   "id": "d7620cc1-b968-4d1a-900b-dadce9994b9f",
   "metadata": {},
   "outputs": [],
   "source": [
    "#adata=sc.read(results_file_post)\n",
    "#adata.uns['log1p'] = {\"base\":None}"
   ]
  },
  {
   "cell_type": "markdown",
   "id": "9f7ce9e8-3fdd-46aa-bd88-bbe38d82f715",
   "metadata": {},
   "source": [
    "Set up out properties"
   ]
  },
  {
   "cell_type": "code",
   "execution_count": null,
   "id": "da4dc565-f6bd-4de8-a97d-f2d1eaa54a47",
   "metadata": {
    "scrolled": true,
    "tags": []
   },
   "outputs": [],
   "source": [
    "sc.settings.verbosity = 3             # verbosity: errors (0), warnings (1), info (2), hints (3)\n",
    "sc.logging.print_header()\n",
    "sc.settings.set_figure_params(dpi=80, facecolor='white')"
   ]
  },
  {
   "cell_type": "code",
   "execution_count": null,
   "id": "6bb57151-2d2f-458e-8cef-01b2e7b2d5cf",
   "metadata": {},
   "outputs": [],
   "source": [
    "#%matplotlib inline"
   ]
  },
  {
   "cell_type": "markdown",
   "id": "2b6bdfb5-0bea-4bbf-bd0f-70a44cea350a",
   "metadata": {},
   "source": [
    "Set scanpy out-files"
   ]
  },
  {
   "cell_type": "code",
   "execution_count": null,
   "id": "92fcaebb-3689-432e-942f-843fa32c650c",
   "metadata": {},
   "outputs": [],
   "source": [
    "writeDir = \"write/\"\n",
    "\n",
    "fileName = \"humanLiver\"\n",
    "\n",
    "resultsFileQC = writeDir + fileName + '_QC.h5ad' \n"
   ]
  },
  {
   "cell_type": "markdown",
   "id": "9dc88d76-8b06-4ea6-8cfb-45bed063f0fb",
   "metadata": {
    "tags": []
   },
   "source": [
    "Set figure parameters"
   ]
  },
  {
   "cell_type": "code",
   "execution_count": null,
   "id": "397eb1f2-5b42-4f16-a03f-1efd01ee6367",
   "metadata": {
    "tags": []
   },
   "outputs": [],
   "source": [
    "sc.set_figure_params(scanpy=True, dpi=100, dpi_save=150, fontsize=10, format='png')\n",
    "sc.settings.figdir = \"figures/\" + fileName + \"/\"\n",
    "figName = fileName"
   ]
  },
  {
   "cell_type": "markdown",
   "id": "5e78f5a9-64fd-4c28-8fbf-e9e5b1a46a42",
   "metadata": {
    "tags": []
   },
   "source": [
    "read input file"
   ]
  },
  {
   "cell_type": "code",
   "execution_count": null,
   "id": "3025e1d6-32ed-4961-98b2-d0dd57c02b7b",
   "metadata": {},
   "outputs": [],
   "source": [
    "inDir = 'data/humanLiver'\n",
    "inputFile = f'{inDir}/GSE115469_Data.csv'\n",
    "inMetaFile = f'{inDir}/GSE115469_CellClusterType.txt'"
   ]
  },
  {
   "cell_type": "code",
   "execution_count": null,
   "id": "8b450875-053a-4977-a4ab-d64d89a8c849",
   "metadata": {},
   "outputs": [],
   "source": [
    "adata =  sc.read_csv(inputFile).T\n",
    "adata"
   ]
  },
  {
   "cell_type": "code",
   "execution_count": null,
   "id": "e97e5aca-94c6-4aa0-ac48-278375c6be85",
   "metadata": {},
   "outputs": [],
   "source": [
    "adata.var_names_make_unique()\n",
    "adata.obs_names_make_unique()"
   ]
  },
  {
   "cell_type": "code",
   "execution_count": null,
   "id": "b753d943-9c87-40b2-9aa1-653336e2bc9a",
   "metadata": {},
   "outputs": [],
   "source": [
    "meta = pd.read_table(inMetaFile, index_col=0)\n",
    "meta"
   ]
  },
  {
   "cell_type": "code",
   "execution_count": null,
   "id": "10687f3e-b137-400e-8774-457b8c2efcb5",
   "metadata": {},
   "outputs": [],
   "source": [
    "adata.obs = meta"
   ]
  },
  {
   "cell_type": "markdown",
   "id": "10633917-6a60-4c08-ac2d-20dbb02ede2e",
   "metadata": {},
   "source": [
    "# Start QC\n",
    "investigate highest expressed genes"
   ]
  },
  {
   "cell_type": "code",
   "execution_count": null,
   "id": "c9ebdf9e-0118-4450-b48e-af2a39a79cbc",
   "metadata": {},
   "outputs": [],
   "source": [
    "sc.pl.highest_expr_genes(adata, n_top=20, )"
   ]
  },
  {
   "cell_type": "markdown",
   "id": "2bd8fc29-a737-419d-acb3-bf913154eb72",
   "metadata": {},
   "source": [
    "remove cells with less than 200 genes and remove genes expressed by less than 3 cells"
   ]
  },
  {
   "cell_type": "code",
   "execution_count": null,
   "id": "42265e44-cfbb-4dff-a202-7a20dcc7a428",
   "metadata": {},
   "outputs": [],
   "source": [
    "for g in adata.var_names:\n",
    "    if(\"MT-\" in g):\n",
    "        print(g)"
   ]
  },
  {
   "cell_type": "code",
   "execution_count": null,
   "id": "605c6415-b2ee-433c-9faf-b79ddcf68fa6",
   "metadata": {},
   "outputs": [],
   "source": [
    "sc.pp.filter_cells(adata, min_genes = 200)\n",
    "sc.pp.filter_genes(adata, min_cells = 4)"
   ]
  },
  {
   "cell_type": "code",
   "execution_count": null,
   "id": "aae3bcf5-0987-484d-8129-ee2a1f43466e",
   "metadata": {},
   "outputs": [],
   "source": [
    "adata = adata[:,np.logical_not(adata.var_names==\"MALAT1\")]"
   ]
  },
  {
   "cell_type": "markdown",
   "id": "7dcba4d9-8d93-4df2-a590-d45da9afb440",
   "metadata": {},
   "source": [
    "## Mito QC\n",
    "set genes that start with mt- as mito genes"
   ]
  },
  {
   "cell_type": "code",
   "execution_count": null,
   "id": "1fe8d0d6-1329-46be-a0c4-63bac8d8ebce",
   "metadata": {},
   "outputs": [],
   "source": [
    "adata.var['MT'] = adata.var_names.str.startswith('MT-')  # annotate the group of mitochondrial genes as 'mt'\n",
    "sc.pp.calculate_qc_metrics(adata, qc_vars=['MT'], log1p = False, inplace=True)"
   ]
  },
  {
   "cell_type": "code",
   "execution_count": null,
   "id": "40029fd4-6356-46a8-b9bb-cb40cc07232e",
   "metadata": {},
   "outputs": [],
   "source": [
    "sc.pl.violin(adata, ['n_genes_by_counts', 'total_counts', 'pct_counts_MT'], jitter=0.4, multi_panel=True)"
   ]
  },
  {
   "cell_type": "code",
   "execution_count": null,
   "id": "7d7567a8-ca8c-4d81-982c-4602e0fc8e59",
   "metadata": {},
   "outputs": [],
   "source": [
    "sc.pl.scatter(adata, x='total_counts', y='pct_counts_MT')\n",
    "sc.pl.scatter(adata, x='total_counts', y='n_genes_by_counts')"
   ]
  },
  {
   "cell_type": "markdown",
   "id": "a2a7381c-95c2-4959-bd5c-c6904aa71f60",
   "metadata": {},
   "source": [
    "remove cells that have too much mito or could be doublets"
   ]
  },
  {
   "cell_type": "code",
   "execution_count": null,
   "id": "d4b7f6d6-e4e7-4b57-9907-c1c22539c253",
   "metadata": {},
   "outputs": [],
   "source": [
    "adata = adata[adata.obs.n_genes_by_counts < 3000, :]\n",
    "adata = adata[adata.obs.total_counts < 4000, :]\n",
    "adata = adata[adata.obs.pct_counts_MT < 6, :]"
   ]
  },
  {
   "cell_type": "code",
   "execution_count": null,
   "id": "492dfbcb-5e6b-4dee-adb9-f81a727a0a33",
   "metadata": {},
   "outputs": [],
   "source": [
    "sc.pl.violin(adata, ['n_genes_by_counts', 'total_counts', 'pct_counts_MT'], jitter=0.4, multi_panel=True)"
   ]
  },
  {
   "cell_type": "markdown",
   "id": "3412da4f-c444-4678-9600-1c61d6fd892b",
   "metadata": {},
   "source": [
    "save post QC scanpy"
   ]
  },
  {
   "cell_type": "code",
   "execution_count": null,
   "id": "c85ac20e-7d66-4d5f-9007-839cda15b120",
   "metadata": {},
   "outputs": [],
   "source": [
    "adata"
   ]
  },
  {
   "cell_type": "code",
   "execution_count": null,
   "id": "6d3dd53b-a52b-4cb2-90f4-a88bfc9025b2",
   "metadata": {},
   "outputs": [],
   "source": [
    "resultsFileQC"
   ]
  },
  {
   "cell_type": "code",
   "execution_count": null,
   "id": "964c02ea-a5a6-4b8e-9102-c7b4aa9fb693",
   "metadata": {},
   "outputs": [],
   "source": [
    "adata.write(resultsFileQC)"
   ]
  },
  {
   "cell_type": "code",
   "execution_count": null,
   "id": "d182cba5-0598-4770-9550-93e8e7700e0d",
   "metadata": {},
   "outputs": [],
   "source": [
    "adata.obs"
   ]
  },
  {
   "cell_type": "code",
   "execution_count": null,
   "id": "ee93816a-6c24-4d5b-b0cf-f80712dd1e0f",
   "metadata": {},
   "outputs": [],
   "source": []
  }
 ],
 "metadata": {
  "kernelspec": {
   "display_name": "Python 3 (ipykernel)",
   "language": "python",
   "name": "python3"
  },
  "language_info": {
   "codemirror_mode": {
    "name": "ipython",
    "version": 3
   },
   "file_extension": ".py",
   "mimetype": "text/x-python",
   "name": "python",
   "nbconvert_exporter": "python",
   "pygments_lexer": "ipython3",
   "version": "3.8.16"
  }
 },
 "nbformat": 4,
 "nbformat_minor": 5
}
