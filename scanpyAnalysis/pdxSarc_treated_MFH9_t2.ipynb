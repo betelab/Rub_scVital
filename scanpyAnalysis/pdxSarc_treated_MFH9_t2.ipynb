{
 "cells": [
  {
   "cell_type": "code",
   "execution_count": null,
   "id": "422005b3-4134-40a2-b76a-5e42290030e0",
   "metadata": {
    "tags": []
   },
   "outputs": [],
   "source": [
    "import numpy as np\n",
    "import pandas as pd\n",
    "import scanpy as sc\n",
    "import scanpy.external as scex\n",
    "import sklearn.metrics\n",
    "from matplotlib import pyplot as plt\n",
    "import matplotlib.cm\n",
    "import bbknn\n",
    "import seaborn as sns\n",
    "from scipy import stats\n",
    "from sklearn.mixture import GaussianMixture as GMM\n",
    "from scipy.stats import norm"
   ]
  },
  {
   "cell_type": "code",
   "execution_count": null,
   "id": "b22c4342-0d89-4799-ad67-f9ab38512a09",
   "metadata": {},
   "outputs": [],
   "source": [
    "#adata.uns['log1p']['base'] = None"
   ]
  },
  {
   "cell_type": "code",
   "execution_count": null,
   "id": "f80b4fbb-bf92-4eaf-8c0a-cd4c0e24bd0f",
   "metadata": {},
   "outputs": [],
   "source": [
    "writeLoc = \"../../write/\"\n",
    "\n",
    "fileName = \"sarcPDX_Treat_MFH9_V4\"\n",
    "\n",
    "resultsFile = writeLoc + fileName + '.h5ad'  # the file that will store the analysis results\n",
    "resultsFileQC = writeLoc + fileName + '_QC.h5ad'  \n",
    "#results_file_ = writeLoc + fileName + '_fTry.h5ad'"
   ]
  },
  {
   "cell_type": "code",
   "execution_count": null,
   "id": "a2e9cab1-cae8-4682-a9d7-9a5dd3c0b36e",
   "metadata": {},
   "outputs": [],
   "source": [
    "inputFile = \"../../data/sarcoma/sarcPDX_Treat_MFH9/filtered_feature_bc_matrix.h5\""
   ]
  },
  {
   "cell_type": "code",
   "execution_count": null,
   "id": "5654f29d-f19b-4d7b-9621-01079a70c267",
   "metadata": {},
   "outputs": [],
   "source": [
    "adata =  sc.read_10x_h5(inputFile, gex_only=False)\n",
    "adata"
   ]
  },
  {
   "cell_type": "code",
   "execution_count": null,
   "id": "ac9e8af7-0358-4c17-aa8a-5a6b87a345f9",
   "metadata": {},
   "outputs": [],
   "source": [
    "#split up input into genes and hashes \n",
    "hto = adata[:,adata.var[\"feature_types\"] == \"Antibody Capture\"]\n",
    "adata = adata[:,adata.var[\"feature_types\"] == \"Gene Expression\"]\n",
    "adata.obs = pd.DataFrame(hto.X.todense(), columns=hto.var_names, index=adata.obs.index)"
   ]
  },
  {
   "cell_type": "code",
   "execution_count": null,
   "id": "a2f82f79-2fff-4160-a5e3-860522dfd210",
   "metadata": {},
   "outputs": [],
   "source": [
    "adata.var_names_make_unique()"
   ]
  },
  {
   "cell_type": "code",
   "execution_count": null,
   "id": "1c28b1c5-f931-48e8-97a9-9803ea6789de",
   "metadata": {},
   "outputs": [],
   "source": [
    "hto.var_names"
   ]
  },
  {
   "cell_type": "code",
   "execution_count": null,
   "id": "a34660f7-1a10-4796-8d4b-319fb53a94a3",
   "metadata": {},
   "outputs": [],
   "source": [
    "sc.pl.highest_expr_genes(adata, n_top=20, )"
   ]
  },
  {
   "cell_type": "code",
   "execution_count": null,
   "id": "b8694640-4673-4e90-8742-49b8c6dc9a11",
   "metadata": {},
   "outputs": [],
   "source": [
    "adata"
   ]
  },
  {
   "cell_type": "code",
   "execution_count": null,
   "id": "135a471a-7be0-490a-bc2f-a68c32cdbd8f",
   "metadata": {},
   "outputs": [],
   "source": [
    "valX = adata.X>0"
   ]
  },
  {
   "cell_type": "code",
   "execution_count": null,
   "id": "8810d24b-e390-423c-9840-d36082611743",
   "metadata": {},
   "outputs": [],
   "source": [
    "minGenes=400\n",
    "minCells=3\n",
    "\n",
    "fig, axs = plt.subplots(2, 2, figsize=(8, 8))\n",
    "\n",
    "numCellwExp = valX.sum(axis=1)\n",
    "axs[0,0].hist(np.log(numCellwExp), bins=100)#, log=True)\n",
    "axs[0,0].axvline(np.log(minGenes), color='k', linestyle='dashed', linewidth=1)\n",
    "#axs[0,0].axvline(np.log(600), color='k', linestyle='dashed', linewidth=1)\n",
    "#axs[0,0].axvline(np.log(4000), color='k', linestyle='dashed', linewidth=1)\n",
    "#axs[0,0].set_title('Gene means counts')\n",
    "axs[0,0].set_xlabel('sum cell with exp counts')\n",
    "axs[0,0].set_ylabel('counts')\n",
    "\n",
    "numGeneswExp = valX.sum(axis=0).T\n",
    "axs[0,1].hist(np.log(numGeneswExp+1), bins=100, log=True)\n",
    "axs[0,1].axvline(np.log(minCells+1), color='k', linestyle='dashed', linewidth=1)\n",
    "#axs[0,1].axvline(np.log(600), color='k', linestyle='dashed', linewidth=1)\n",
    "#axs[0,1].axvline(np.log(4000), color='k', linestyle='dashed', linewidth=1)\n",
    "#axs[0,1].set_title('Gene means counts')\n",
    "axs[0,1].set_xlabel('sum cell have exp counts')\n",
    "axs[0,1].set_ylabel('counts')\n",
    "\n",
    "sumCellswExp = adata.X.sum(axis=1)\n",
    "axs[1,0].hist(np.log(sumCellswExp), bins=100)#, log=True)\n",
    "axs[1,0].axvline(np.log(minGenes), color='k', linestyle='dashed', linewidth=1)\n",
    "#axs[1,0].axvline(np.log(50000), color='k', linestyle='dashed', linewidth=1)\n",
    "#axs[1,0].set_title('Gene means counts')\n",
    "axs[1,0].set_xlabel('sum cell counts')\n",
    "axs[1,0].set_ylabel('counts')\n",
    "\n",
    "sumGeneswExp = adata.X.sum(axis=0).T\n",
    "axs[1,1].hist(np.log(sumGeneswExp+1), bins=100, log=True)\n",
    "axs[1,1].axvline(np.log(minCells+1), color='k', linestyle='dashed', linewidth=1)\n",
    "#axs[1,1].axvline(np.log(50000), color='k', linestyle='dashed', linewidth=1)\n",
    "#axs[1,1].set_title('Gene means counts')\n",
    "axs[1,1].set_xlabel('gene exp')\n",
    "axs[1,1].set_ylabel('counts')\n",
    "\n",
    "fig.show()"
   ]
  },
  {
   "cell_type": "code",
   "execution_count": null,
   "id": "92526dd1-d9db-465e-a59b-e1a7cabbe04f",
   "metadata": {},
   "outputs": [],
   "source": [
    "sc.pp.filter_cells(adata, min_genes = minGenes)\n",
    "sc.pp.filter_genes(adata, min_cells = minCells)"
   ]
  },
  {
   "cell_type": "code",
   "execution_count": null,
   "id": "952f77a9-ba46-45b2-bee5-5dc106fd28b7",
   "metadata": {},
   "outputs": [],
   "source": [
    "from collections import Counter\n",
    "print(Counter(adata.var_names.str.startswith('GRCh38_')))\n",
    "print(Counter(adata.var_names.str.startswith('GRCh38_MT-')))\n",
    "\n",
    "print(Counter(adata.var_names.str.startswith('mm10___')))\n",
    "print(Counter(adata.var_names.str.startswith('mm10___mt-')))"
   ]
  },
  {
   "cell_type": "code",
   "execution_count": null,
   "id": "122a51e7-6086-44c8-b3be-2a9d17e9108d",
   "metadata": {},
   "outputs": [],
   "source": [
    "adata"
   ]
  },
  {
   "cell_type": "code",
   "execution_count": null,
   "id": "f22ed0fd-834e-4677-b084-8bfc03aca355",
   "metadata": {},
   "outputs": [],
   "source": [
    "adata.var['human'] = adata.var_names.str.startswith('GRCh38_')  # annotate the group of human genes as 'human'\n",
    "adata.var['mouse'] = adata.var_names.str.startswith('mm10___')  # annotate the group of mouse mitochondrial genes as 'mt'\n",
    "\n",
    "sc.pp.calculate_qc_metrics(adata, qc_vars=['human'], percent_top=None, log1p=False, inplace=True)\n",
    "sc.pp.calculate_qc_metrics(adata, qc_vars=['mouse'], percent_top=None, log1p=False, inplace=True)"
   ]
  },
  {
   "cell_type": "code",
   "execution_count": null,
   "id": "e4c8c171-1840-418a-bc0b-dc6d1b343ac4",
   "metadata": {},
   "outputs": [],
   "source": [
    "sc.pl.violin(adata, ['pct_counts_mouse', 'pct_counts_human'],\n",
    "             jitter=0.4, multi_panel=True, log = True)"
   ]
  },
  {
   "cell_type": "code",
   "execution_count": null,
   "id": "2691fe11-a140-4f07-bfa5-e3797abc29ce",
   "metadata": {},
   "outputs": [],
   "source": [
    "sc.pl.violin(adata, ['n_genes_by_counts', 'total_counts'],\n",
    "             jitter=0.4, multi_panel=True)"
   ]
  },
  {
   "cell_type": "code",
   "execution_count": null,
   "id": "c18124b1-e333-465c-85c2-2009ef2a69e1",
   "metadata": {},
   "outputs": [],
   "source": [
    "sum(adata.obs.pct_counts_mouse < 2)"
   ]
  },
  {
   "cell_type": "code",
   "execution_count": null,
   "id": "22c98c06-9b02-4f0f-bc7f-6808f4425c13",
   "metadata": {},
   "outputs": [],
   "source": [
    "adata = adata[adata.obs.pct_counts_mouse < 2, :]\n",
    "adata = adata[:,adata.var_names.str.startswith('GRCh38_')]\n",
    "adata"
   ]
  },
  {
   "cell_type": "code",
   "execution_count": null,
   "id": "a15e936f-0c5d-47de-b9fc-b05e6b77d455",
   "metadata": {},
   "outputs": [],
   "source": [
    "sc.pl.violin(adata, ['pct_counts_mouse', 'pct_counts_human'],\n",
    "             jitter=0.4, multi_panel=True, log = True)"
   ]
  },
  {
   "cell_type": "code",
   "execution_count": null,
   "id": "3cc1cde0-4c27-41d4-ab8f-7d5eb2b1cbb7",
   "metadata": {},
   "outputs": [],
   "source": [
    "adata.var['hMT'] = adata.var_names.str.startswith('GRCh38_MT-')  # annotate the group of human mitochondrial genes as 'hMT'\n",
    "#adata.var['mmt'] = adata.var_names.str.startswith('mm10___mt-')  # annotate the group of mouse mitochondrial genes as 'mmt'\n",
    "\n",
    "sc.pp.calculate_qc_metrics(adata, qc_vars=['hMT'], percent_top=None, log1p=False, inplace=True)\n",
    "#sc.pp.calculate_qc_metrics(adata, qc_vars=['mmt'], percent_top=None, log1p=False, inplace=True)"
   ]
  },
  {
   "cell_type": "code",
   "execution_count": null,
   "id": "af255745-3f21-485e-b968-5e85f690cc07",
   "metadata": {},
   "outputs": [],
   "source": [
    "sc.pl.violin(adata, ['n_genes_by_counts', 'total_counts', \"pct_counts_hMT\"], #pct_counts_mmt\n",
    "             jitter=0.4, multi_panel=True)"
   ]
  },
  {
   "cell_type": "code",
   "execution_count": null,
   "id": "407d20e7-490f-4c2d-86e4-c01dd0546c0f",
   "metadata": {},
   "outputs": [],
   "source": [
    "sc.pl.scatter(adata, x='total_counts', y='pct_counts_hMT')\n",
    "sc.pl.scatter(adata, x='total_counts', y='n_genes_by_counts')"
   ]
  },
  {
   "cell_type": "code",
   "execution_count": null,
   "id": "34a90bb1-3030-44f2-8474-acc482031990",
   "metadata": {},
   "outputs": [],
   "source": [
    "adata"
   ]
  },
  {
   "cell_type": "code",
   "execution_count": null,
   "id": "9ec14367-37dc-4b58-aec2-a420d7408c8a",
   "metadata": {},
   "outputs": [],
   "source": [
    "adata = adata[adata.obs.n_genes_by_counts < 5500, :]\n",
    "adata = adata[adata.obs.n_genes_by_counts > 1000, :]\n",
    "adata = adata[adata.obs.total_counts < 27500, :]\n",
    "adata = adata[adata.obs.pct_counts_hMT < 12, :]"
   ]
  },
  {
   "cell_type": "code",
   "execution_count": null,
   "id": "e802b71e-a8bf-4585-9e52-b14c58d5a924",
   "metadata": {},
   "outputs": [],
   "source": [
    "sc.pl.violin(adata, ['n_genes_by_counts', 'total_counts', \"pct_counts_hMT\"], #pct_counts_mmt\n",
    "             jitter=0.4, multi_panel=True)"
   ]
  },
  {
   "cell_type": "code",
   "execution_count": null,
   "id": "39335efa-6fa9-4aac-a8bc-55a69597fe30",
   "metadata": {},
   "outputs": [],
   "source": [
    "hto.var_names"
   ]
  },
  {
   "cell_type": "code",
   "execution_count": null,
   "id": "b02a9abe-4eca-4d30-912c-5809fbf54803",
   "metadata": {},
   "outputs": [],
   "source": [
    "import scanpy.external as sce\n",
    "sce.pp.hashsolo(adata, hto.var_names)#number_of_noise_barcodes = 1\n",
    "adata.obs.head()"
   ]
  },
  {
   "cell_type": "code",
   "execution_count": null,
   "id": "bbab5350-bd59-4b86-a799-f319e4da8e11",
   "metadata": {},
   "outputs": [],
   "source": [
    "sc.pl.heatmap(adata, hto.var_names, groupby=\"Classification\", log=True)"
   ]
  },
  {
   "cell_type": "code",
   "execution_count": null,
   "id": "7f222bc4-e351-43ee-b4f7-dda8f2fbb93d",
   "metadata": {},
   "outputs": [],
   "source": [
    "hto.var_names"
   ]
  },
  {
   "cell_type": "code",
   "execution_count": null,
   "id": "948fb100-edf0-4490-84a6-2f0031b15e84",
   "metadata": {},
   "outputs": [],
   "source": [
    "len(hto.var_names)"
   ]
  },
  {
   "cell_type": "code",
   "execution_count": null,
   "id": "2152703c-0362-419e-9163-337ef8cdc876",
   "metadata": {},
   "outputs": [],
   "source": [
    "Counter(adata.obs[\"Classification\"])"
   ]
  },
  {
   "cell_type": "code",
   "execution_count": null,
   "id": "f7821196-4b6b-467e-950e-5ba3a91caaaa",
   "metadata": {
    "tags": []
   },
   "outputs": [],
   "source": [
    "hashCounts = adata.obs[hto.var_names]\n",
    "hashCounts.describe([0.01,.1,.2,.3,.4,.5,.6,.7,.8,.9,0.99])"
   ]
  },
  {
   "cell_type": "code",
   "execution_count": null,
   "id": "7aa283f9-bda4-400f-8b0f-8b16a497a136",
   "metadata": {
    "tags": []
   },
   "outputs": [],
   "source": [
    "#hashCount = np.log1p(adata.obs[hashName])\n",
    "#len(hashCount)"
   ]
  },
  {
   "cell_type": "code",
   "execution_count": null,
   "id": "43e2c24e-0a9c-41fe-8499-0a0dbb0050ac",
   "metadata": {},
   "outputs": [],
   "source": [
    "fig, axs = plt.subplots(2,5)\n",
    "dfHashBoundry = pd.DataFrame(np.zeros(len(hto.var_names)),hto.var_names, columns=[\"boundry\"])\n",
    "gmm = GMM(n_components = 2, random_state=10,  n_init=5, covariance_type = 'full', means_init=[[2],[7]])#\n",
    "#binEx = np.arange(0.5,10,10/200).reshape(-1,1)\n",
    "\n",
    "for i, hashName in enumerate(hto.var_names):\n",
    "    hashCount = np.log1p(adata.obs[hashName]).values\n",
    "    trimV = 1*len(hashCount)//100\n",
    "    hashCount = np.sort(hashCount)[trimV:].reshape(-1, 1)\n",
    "    fitGMM = gmm.fit(hashCount)\n",
    "    mean = fitGMM.means_  \n",
    "    covs  = fitGMM.covariances_\n",
    "    weights = fitGMM.weights_\n",
    "    #print(mean)\n",
    "    binEx = np.arange(min(mean),max(mean),0.1).reshape(-1,1)\n",
    "    fitGmmBound = fitGMM.predict(binEx)\n",
    "    #print(fitGmmBound)\n",
    "    hashBoundry = binEx[np.where(fitGmmBound == 1)[0][0]][0]\n",
    "    \n",
    "    dfHashBoundry.loc[hashName] = hashBoundry\n",
    "    \n",
    "    x_axis = np.arange(0, 12, 0.1)\n",
    "    y_axis0 = norm.pdf(x_axis, float(mean[0][0]), np.sqrt(float(covs[0][0][0])))*weights[0] # 1st gaussian\n",
    "    y_axis1 = norm.pdf(x_axis, float(mean[1][0]), np.sqrt(float(covs[1][0][0])))*weights[1] # 2nd gaussian\n",
    "\n",
    "    # Plot 2\n",
    "    axs[i//5,i%5].set_title(hashName)\n",
    "    #axs[i//5,i%5].axvline(naiveBoundry, c='C3', linestyle='dashed', linewidth=1) #red\n",
    "    axs[i//5,i%5].axvline(hashBoundry, c='C2', linestyle='dashed', linewidth=1)  #green\n",
    "    axs[i//5,i%5].hist(hashCount, density=True, color='black', bins=100)        \n",
    "    axs[i//5,i%5].plot(x_axis, y_axis0, lw=3, c='C6')                            #pink\n",
    "    axs[i//5,i%5].plot(x_axis, y_axis1, lw=3, c='C1')                            #orange\n",
    "    axs[i//5,i%5].plot(x_axis, y_axis0+y_axis1, lw=3, c='C0', ls=':')            #dotted blue\n",
    "    \n",
    "plt.tight_layout(pad=1.0)\n",
    "plt.rcParams[\"figure.figsize\"] = (20,5)\n",
    "plt.show()"
   ]
  },
  {
   "cell_type": "code",
   "execution_count": null,
   "id": "af0f8dfd-bbdf-4ec7-8429-c48a55648a8a",
   "metadata": {},
   "outputs": [],
   "source": [
    "#hashIDs = hashCounts.copy()\n",
    "#hashID = hto.var_names\n",
    "#for hashName in hto.var_names:\n",
    "#    print(hashName)\n",
    "#    print(dfHashBoundry.loc[hashName].values[0])\n",
    "#    hashIDs.loc[:,hashName] = np.log1p(hashCounts.loc[:,hashName]) > dfHashBoundry.loc[hashName].values[0]\n",
    "#hashIDs"
   ]
  },
  {
   "cell_type": "code",
   "execution_count": null,
   "id": "f5483fdd-1d61-4260-b28b-9e38467db142",
   "metadata": {},
   "outputs": [],
   "source": [
    "#classification = np.empty(len(adata), dtype=\"object\")\n",
    "#i = 0\n",
    "#for cellBar, hashBool in hashIDs.iterrows():\n",
    "#    numHashes = sum(hashBool)\n",
    "#    if (numHashes == 1):\n",
    "#        classif = hashID[hashBool.values].values[0]\n",
    "#    elif (numHashes > 1):\n",
    "#        classif = \"doublet\"\n",
    "#    else:\n",
    "#        classif = \"negative\"\n",
    "#    classification[i] = classif\n",
    "#    i = i + 1\n",
    "#    #break"
   ]
  },
  {
   "cell_type": "code",
   "execution_count": null,
   "id": "2210ffd2-a7f1-4bbc-8a5f-20fdf762545a",
   "metadata": {},
   "outputs": [],
   "source": [
    "#adata.obs[\"ClassGMM\"] = classification\n",
    "#adata.obs[\"ClassGMM\"].value_counts()"
   ]
  },
  {
   "cell_type": "code",
   "execution_count": null,
   "id": "f7513a74-a512-403c-9d3a-8f7d6b2f4724",
   "metadata": {
    "tags": []
   },
   "outputs": [],
   "source": [
    "#sc.pl.heatmap(adata, hto.var_names, groupby=\"ClassGMM\", log=True)#, save = f\"_{figName}_hash.png\")"
   ]
  },
  {
   "cell_type": "code",
   "execution_count": null,
   "id": "e614eae5-37e3-4c49-b393-f605762b44be",
   "metadata": {},
   "outputs": [],
   "source": [
    "sc.pl.heatmap(adata, hto.var_names, groupby=\"Classification\", log=True)#, save = f\"_{figName}_hash.png\")"
   ]
  },
  {
   "cell_type": "code",
   "execution_count": null,
   "id": "bef88622-f3a9-47a8-9e3e-7519b7391cf2",
   "metadata": {},
   "outputs": [],
   "source": [
    "#['RPS8370_pSpCTRE_B0256', 'UPS2236_B0255']\n",
    "singlets = [x in hto.var_names for x in adata.obs[\"Classification\"]]\n",
    "adata = adata[singlets,]\n",
    "adata"
   ]
  },
  {
   "cell_type": "code",
   "execution_count": null,
   "id": "87ba82a5-d295-4514-b1fb-8e97561fb6d8",
   "metadata": {},
   "outputs": [],
   "source": [
    "sarc =  {'4wk5_B0260': \"wk4\",\n",
    "         'Control4_B0254': \"ctl\",\n",
    "         '4wk4_B0259': \"wk4\",\n",
    "         '1wk5_B0257': \"wk1\",\n",
    "         '1wk1_B0255': \"wk1\",\n",
    "         'Control1_B0251': \"ctl\",\n",
    "         '1wk3_B0256': \"wk1\",\n",
    "         '4wk2_B0258': \"wk4\",\n",
    "         'Control3_B0253': \"ctl\",\n",
    "         'Control2_B0252': \"ctl\"\n",
    "        }\n",
    "adata.obs[\"chemo\"] = [sarc[x] for x in adata.obs[\"Classification\"]]"
   ]
  },
  {
   "cell_type": "code",
   "execution_count": null,
   "id": "1bfb1b79-b298-4cc5-8bd9-cf20df5c2bfa",
   "metadata": {},
   "outputs": [],
   "source": [
    "#['RPS8370_pSpCTRE_B0256', 'UPS2236_B0255']\n",
    "#ups = [x in [\"UPS\"] for x in adata.obs[\"sarc\"]]\n",
    "#adata = adata[ups,]\n",
    "#adata"
   ]
  },
  {
   "cell_type": "code",
   "execution_count": null,
   "id": "a5308344-02d0-46a0-8f95-b7faa6fd48ed",
   "metadata": {},
   "outputs": [],
   "source": [
    "sc.set_figure_params(scanpy=True, dpi=100, dpi_save=150, fontsize=10, format='png')"
   ]
  },
  {
   "cell_type": "code",
   "execution_count": null,
   "id": "f0cb5ca6-de78-4cf2-903a-02a38554ffc0",
   "metadata": {},
   "outputs": [],
   "source": [
    "adata.var_names = [x.split(\"_\")[1] for x in adata.var_names]\n",
    "adata.var_names_make_unique()"
   ]
  },
  {
   "cell_type": "code",
   "execution_count": null,
   "id": "b68bc012-8e1c-4c6e-b8fb-5b539b96c359",
   "metadata": {},
   "outputs": [],
   "source": [
    "print(resultsFileQC)\n",
    "adata = sc.read_h5ad(resultsFileQC)\n",
    "#adata.write(resultsFileQC)\n",
    "adata = adata[:,\"MALAT1\" != adata.var_names]\n",
    "adata.layers[\"counts\"] = adata.X.copy()\n",
    "#adata.write(resultsFileQC)\n",
    "adata"
   ]
  },
  {
   "cell_type": "code",
   "execution_count": null,
   "id": "c96eeb14-956c-4b35-afce-9be666570267",
   "metadata": {},
   "outputs": [],
   "source": [
    "sc.pp.normalize_total(adata, target_sum=1e4)#, exclude_highly_expressed=True"
   ]
  },
  {
   "cell_type": "code",
   "execution_count": null,
   "id": "788291cb-22d6-45bd-8067-690a27ab7aa5",
   "metadata": {},
   "outputs": [],
   "source": [
    "sc.pp.log1p(adata)"
   ]
  },
  {
   "cell_type": "code",
   "execution_count": null,
   "id": "7ee4fa49-5eb3-492b-bc5e-948a1446fd0f",
   "metadata": {},
   "outputs": [],
   "source": [
    "cell_cycle_genes = [x.strip() for x in open('../../data/regev_lab_cell_cycle_genes_Human.txt')]\n",
    "s_genes = cell_cycle_genes[:43]\n",
    "g2m_genes = cell_cycle_genes[43:]\n",
    "cell_cycle_genes = [x for x in cell_cycle_genes if x in adata.var_names]"
   ]
  },
  {
   "cell_type": "code",
   "execution_count": null,
   "id": "5fe8b665-fa57-40a7-bc46-4d163ac7a3d9",
   "metadata": {},
   "outputs": [],
   "source": [
    "sc.tl.score_genes_cell_cycle(adata, s_genes=s_genes, g2m_genes=g2m_genes)"
   ]
  },
  {
   "cell_type": "code",
   "execution_count": null,
   "id": "6e7e3d41-b71d-4b4f-ae76-9d3e944ad872",
   "metadata": {},
   "outputs": [],
   "source": [
    "adata_cc_genes = adata[:, cell_cycle_genes]\n",
    "sc.tl.pca(adata_cc_genes)\n",
    "sc.pl.pca_scatter(adata_cc_genes, color=['phase',\"Classification\"])"
   ]
  },
  {
   "cell_type": "code",
   "execution_count": null,
   "id": "9de41bfd-e5a2-43a3-8baa-ddba1876c7b2",
   "metadata": {},
   "outputs": [],
   "source": [
    "adata = adata[adata.obs.phase==\"G1\",:]"
   ]
  },
  {
   "cell_type": "code",
   "execution_count": null,
   "id": "6db7bda3-e7b2-44ca-aeeb-9470fd376524",
   "metadata": {},
   "outputs": [],
   "source": [
    "adata.write(\"../../write/sarcPDX_Treat_G1_MFH9_V4_QC.h5ad\")\n"
   ]
  },
  {
   "cell_type": "code",
   "execution_count": null,
   "id": "5b8ce2eb-abb9-40c3-9665-ac7a7d2f8fda",
   "metadata": {},
   "outputs": [],
   "source": [
    "sc.pp.highly_variable_genes(adata)#, flavor=\"seurat\", n_top_genes=2000)\n",
    "#min_disp=0.5,min_mean=0.0125, max_mean=3, span=0.3, n_bins=20,"
   ]
  },
  {
   "cell_type": "code",
   "execution_count": null,
   "id": "89a281e2-29df-4c0d-9684-4970dc0bfc13",
   "metadata": {},
   "outputs": [],
   "source": [
    "sum(adata.var.highly_variable)"
   ]
  },
  {
   "cell_type": "code",
   "execution_count": null,
   "id": "f6f16302-cdb5-470e-bae0-c10a0152f601",
   "metadata": {},
   "outputs": [],
   "source": [
    "adata.var"
   ]
  },
  {
   "cell_type": "code",
   "execution_count": null,
   "id": "79ef165e-4798-4265-a971-fa47999d235f",
   "metadata": {},
   "outputs": [],
   "source": [
    "minMean = 0.045\n",
    "maxMean = 2.9\n",
    "minDisp = 0.35\n",
    "\n",
    "fig, axs = plt.subplots(1, 2, figsize=(10, 5))\n",
    "\n",
    "means = adata.var[[\"means\"]][adata.var[[\"means\"]] > np.exp(-14)]#adata.var[[\"means\"]],\n",
    "axs[0].hist(np.log(means), bins=100)#, log=True),\n",
    "axs[0].axvline(np.log(minMean), color='k', linestyle='dashed', linewidth=1)\n",
    "axs[0].axvline(np.log(maxMean), color='k', linestyle='dashed', linewidth=1)\n",
    "axs[0].set_title('Gene means counts')\n",
    "axs[0].set_xlabel('means')\n",
    "axs[0].set_ylabel('counts')\n",
    "\n",
    "dispNorm = adata.var[[\"dispersions_norm\"]][adata.var[[\"dispersions_norm\"]] > np.exp(-10)]#adata.var[[\"means\"]],\n",
    "axs[1].hist(np.log(dispNorm), bins=100)#, log=True),\n",
    "axs[1].axvline(np.log(minDisp), color='k', linestyle='dashed', linewidth=1)\n",
    "axs[1].set_title('Gene dispersions counts')\n",
    "axs[1].set_xlabel('dispersions')\n",
    "axs[1].set_ylabel('counts')\n",
    "\n",
    "sc.pp.highly_variable_genes(adata, min_disp=minDisp, min_mean=minMean, max_mean=maxMean)\n",
    "print(sum(adata.var.highly_variable))"
   ]
  },
  {
   "cell_type": "code",
   "execution_count": null,
   "id": "5ac526d1-1a2c-42c4-b000-ab21f0b01b1e",
   "metadata": {},
   "outputs": [],
   "source": [
    "sc.pl.highly_variable_genes(adata)"
   ]
  },
  {
   "cell_type": "code",
   "execution_count": null,
   "id": "1a45fe35-c4aa-40cb-828b-5350bb04032b",
   "metadata": {},
   "outputs": [],
   "source": [
    "sum(np.logical_and(np.logical_not(adata.var.hMT), adata.var.highly_variable))"
   ]
  },
  {
   "cell_type": "code",
   "execution_count": null,
   "id": "2199c885-c363-4977-8225-186c2a05c36c",
   "metadata": {},
   "outputs": [],
   "source": [
    "adata.raw = adata"
   ]
  },
  {
   "cell_type": "code",
   "execution_count": null,
   "id": "738112bb-161c-4a07-bc6f-6529ba5a4f35",
   "metadata": {},
   "outputs": [],
   "source": [
    "adata = adata[:, np.logical_and(np.logical_not(adata.var.hMT), adata.var.highly_variable)]"
   ]
  },
  {
   "cell_type": "code",
   "execution_count": null,
   "id": "548020a3-9fe5-4165-a240-3d53b9317734",
   "metadata": {},
   "outputs": [],
   "source": [
    "#sc.pp.regress_out(adata, ['S_score', 'G2M_score'#]),\n",
    "#                         ,'total_counts', 'pct_counts_hMT'])"
   ]
  },
  {
   "cell_type": "code",
   "execution_count": null,
   "id": "431329bd-c744-4423-9177-45bd144b3fa4",
   "metadata": {},
   "outputs": [],
   "source": [
    "#np.max(adata.X.todense())"
   ]
  },
  {
   "cell_type": "code",
   "execution_count": null,
   "id": "e9734a85-b6ee-442b-88b4-3a0f8e0fa13f",
   "metadata": {},
   "outputs": [],
   "source": [
    "#sc.pp.scale(adata, max_value=4)"
   ]
  },
  {
   "cell_type": "code",
   "execution_count": null,
   "id": "0aef11cd-c6e2-43bc-99c6-d0fffe467273",
   "metadata": {},
   "outputs": [],
   "source": [
    "sc.tl.pca(adata, n_comps=100,svd_solver='arpack')"
   ]
  },
  {
   "cell_type": "code",
   "execution_count": null,
   "id": "7d21cc28-f678-47ac-9650-700c7f9cef25",
   "metadata": {},
   "outputs": [],
   "source": [
    "sc.pl.pca_variance_ratio(adata, n_pcs=100, log=True)"
   ]
  },
  {
   "cell_type": "code",
   "execution_count": null,
   "id": "43112b6f-6277-4f9e-bcc7-88e8c9cb29e4",
   "metadata": {
    "tags": []
   },
   "outputs": [],
   "source": [
    "#sc.pl.pca(adata, color=[\"phase\"],ncols=3,annotate_var_explained=True, components=['1,2','1,3',\"1,4\", '2,3', '2,4', \"3,4\"])"
   ]
  },
  {
   "cell_type": "code",
   "execution_count": null,
   "id": "121f7aa2-1031-48b6-b2e0-831fafe7b4a0",
   "metadata": {},
   "outputs": [],
   "source": [
    "#adata.obsm[\"X_pca_1_40\"] = adata.obsm[\"X_pca\"][:,1:41]"
   ]
  },
  {
   "cell_type": "code",
   "execution_count": null,
   "id": "671b08ea-106d-4a3d-8050-046b9aaa29bc",
   "metadata": {},
   "outputs": [],
   "source": [
    "sc.pp.neighbors(adata, n_neighbors=25, n_pcs=50)#, use_rep=\"X_pca_1_40\")"
   ]
  },
  {
   "cell_type": "code",
   "execution_count": null,
   "id": "2fca7de5-36f2-4516-a943-3308c7cee861",
   "metadata": {},
   "outputs": [],
   "source": [
    "sc.tl.umap(adata)"
   ]
  },
  {
   "cell_type": "code",
   "execution_count": null,
   "id": "b1ada27a-7f52-4016-9f89-bd6e2c29e337",
   "metadata": {},
   "outputs": [],
   "source": [
    "sc.tl.leiden(adata, resolution = 0.5)"
   ]
  },
  {
   "cell_type": "code",
   "execution_count": null,
   "id": "b6ecc593-9466-4dca-aa1b-00992e3afa49",
   "metadata": {
    "editable": true,
    "slideshow": {
     "slide_type": ""
    },
    "tags": []
   },
   "outputs": [],
   "source": [
    "sc.pl.umap(adata, color=['leiden',\"phase\",'chemo','Classification'],ncols=2)"
   ]
  },
  {
   "cell_type": "code",
   "execution_count": null,
   "id": "06ced32a-d2fa-4293-b335-d8cb041b7dfe",
   "metadata": {},
   "outputs": [],
   "source": [
    "sc.tl.embedding_density(adata, basis='umap', groupby=\"chemo\")\n",
    "sc.pl.embedding_density(adata, groupby=\"chemo\", ncols = 4)"
   ]
  },
  {
   "cell_type": "code",
   "execution_count": null,
   "id": "712f5c0a-58f3-432c-afca-32f644b47616",
   "metadata": {},
   "outputs": [],
   "source": [
    "sc.pl.umap(adata, color=['CA9',\"BNIP3\",'COL1A1','MDM2','FBN1',\"POSTN\",\"MEG3\"],ncols=4)"
   ]
  },
  {
   "cell_type": "code",
   "execution_count": null,
   "id": "db1cfdf3-9a57-4259-b89f-aee430a3a9c8",
   "metadata": {
    "tags": []
   },
   "outputs": [],
   "source": [
    "#sc.pl.umap(adata, color=['COL4A1','PECAM1','CD34',\"RGS5\"],ncols=2)"
   ]
  },
  {
   "cell_type": "code",
   "execution_count": null,
   "id": "c8076d0a-4260-4334-8549-bdcfc2fbdc60",
   "metadata": {},
   "outputs": [],
   "source": [
    "sc.pl.umap(adata, color=['TPM2','TOP2A','VIM',\"ISG15\"],ncols=4)"
   ]
  },
  {
   "cell_type": "code",
   "execution_count": null,
   "id": "8743d02c-91d2-4bf9-9ee5-52e7de167b5c",
   "metadata": {},
   "outputs": [],
   "source": [
    "#adata.write('../../write/sarcPDX_Treat_MFH9_G1.h5ad')"
   ]
  },
  {
   "cell_type": "code",
   "execution_count": null,
   "id": "db413ea7-c868-4bac-953d-a689b571f5ff",
   "metadata": {},
   "outputs": [],
   "source": [
    "resultsFile"
   ]
  },
  {
   "cell_type": "code",
   "execution_count": null,
   "id": "f6f898c3-1489-4fbb-ac54-3286abfbb8f0",
   "metadata": {},
   "outputs": [],
   "source": [
    "#adata.write(resultsFile)"
   ]
  },
  {
   "cell_type": "code",
   "execution_count": null,
   "id": "77d1b206-1bd2-4601-a238-2bb3b0510541",
   "metadata": {},
   "outputs": [],
   "source": [
    "#sc.pl.umap(adata, color=['KRT18','GAPDH','LDHB',\"TPI1\"],ncols=2)"
   ]
  },
  {
   "cell_type": "code",
   "execution_count": null,
   "id": "ffb5c1b9-4e70-4936-9cfa-7592cecd803c",
   "metadata": {},
   "outputs": [],
   "source": [
    "#sc.pl.umap(adata, color=['LYZ','PTPRC'],ncols=2)"
   ]
  },
  {
   "cell_type": "code",
   "execution_count": null,
   "id": "25ce7361-b0a6-45ed-9851-199e988183bf",
   "metadata": {},
   "outputs": [],
   "source": [
    "sc.tl.rank_genes_groups(adata, 'leiden', method='wilcoxon', use_raw=False)\n",
    "sc.pl.rank_genes_groups(adata, n_genes=25, sharey=False)"
   ]
  },
  {
   "cell_type": "code",
   "execution_count": null,
   "id": "89267f58-d4d7-46f6-b7ed-c2693273aeb2",
   "metadata": {},
   "outputs": [],
   "source": [
    "pd.DataFrame(adata.uns['rank_genes_groups']['names']).head(10)"
   ]
  },
  {
   "cell_type": "code",
   "execution_count": null,
   "id": "c449388e-28f9-43d5-b6fa-4ba77345d7a7",
   "metadata": {},
   "outputs": [],
   "source": [
    "pd.DataFrame(adata.uns['rank_genes_groups']['names']).head(200).to_csv(\"hvg/pdxTreated_MFH9_unfil.csv\")"
   ]
  },
  {
   "cell_type": "code",
   "execution_count": null,
   "id": "795e86ce-2dce-4370-8a35-d71390cd6005",
   "metadata": {},
   "outputs": [],
   "source": [
    "sc.tl.filter_rank_genes_groups(adata, min_in_group_fraction=0.5, min_fold_change=1, max_out_group_fraction=0.5)\n",
    "sc.pl.rank_genes_groups(adata, key='rank_genes_groups_filtered', sharey=False)"
   ]
  },
  {
   "cell_type": "code",
   "execution_count": null,
   "id": "0d3af153-42b3-47a1-9cd6-303c5f984b37",
   "metadata": {},
   "outputs": [],
   "source": [
    "sc.tl.dendrogram(adata, groupby=\"leiden\", n_pcs=60)\n",
    "sc.pl.rank_genes_groups_dotplot(adata, key='rank_genes_groups_filtered',n_genes=4)"
   ]
  },
  {
   "cell_type": "code",
   "execution_count": null,
   "id": "6a800faa-ad5a-4aa9-9ef3-276ab44ae498",
   "metadata": {},
   "outputs": [],
   "source": [
    "sc.pl.rank_genes_groups_heatmap(adata, key='rank_genes_groups_filtered',n_genes=4)"
   ]
  },
  {
   "cell_type": "code",
   "execution_count": null,
   "id": "bc4634e2-3d16-49d4-9bca-5fb5d7c14b4f",
   "metadata": {},
   "outputs": [],
   "source": [
    "sc.pl.umap(adata, color=['MYEOV','SNED1','TFPI2',\"VEGFA\",\"GDF15\"],ncols=3)"
   ]
  },
  {
   "cell_type": "code",
   "execution_count": null,
   "id": "069d6fd4-c824-40d1-9c8a-777189c626bf",
   "metadata": {},
   "outputs": [],
   "source": [
    "topHVG = pd.DataFrame(adata.uns['rank_genes_groups_filtered']['names']).head(100)\n",
    "topHVG"
   ]
  },
  {
   "cell_type": "code",
   "execution_count": null,
   "id": "15a6e7ce-8db3-4924-ab68-007bb59faac2",
   "metadata": {},
   "outputs": [],
   "source": [
    "topHVG.to_csv(\"hvg/pdxTreated_MFH9_Filtered.csv\")"
   ]
  },
  {
   "cell_type": "markdown",
   "id": "3cc7c615-6a76-43ef-b058-38fcc77c82bc",
   "metadata": {},
   "source": [
    "0 - FAP/Apop\n",
    "1 - FAP\n",
    "2 - E2F pro\n",
    "3 - G2M\n",
    "4 - G2M pro\n",
    "5 - Hypoxia\n",
    "6 - NFKb"
   ]
  },
  {
   "cell_type": "code",
   "execution_count": null,
   "id": "4371e2cf-44b0-4176-8ff6-55929cd73a88",
   "metadata": {},
   "outputs": [],
   "source": [
    "adata"
   ]
  },
  {
   "cell_type": "markdown",
   "id": "b6047cf8-2322-49f3-ba89-b696f75858a7",
   "metadata": {},
   "source": [
    "compare 3 and 7 with mouse"
   ]
  },
  {
   "cell_type": "markdown",
   "id": "005366ca-0b29-45e3-b89c-2cae15d2a4a1",
   "metadata": {},
   "source": [
    "compare 7 to other pdxs"
   ]
  },
  {
   "cell_type": "code",
   "execution_count": null,
   "id": "3ef87ab0-1bfb-4304-bfba-7695ed00c71a",
   "metadata": {},
   "outputs": [],
   "source": [
    "features = [\"MusImm\",\"FAP\",\"inflFAP\",\"Hypox\",\"p53Mdm2\"]\n",
    "sc.tl.leiden(adata, resolution=0.5, key_added = \"chemoLabel\")\n",
    "adata.rename_categories('chemoLabel', features)\n",
    "sc.pl.umap(adata, color=[\"chemoLabel\"])"
   ]
  },
  {
   "cell_type": "code",
   "execution_count": null,
   "id": "8656bb1b-d811-4095-ba0a-4060f70f5f23",
   "metadata": {},
   "outputs": [],
   "source": [
    "sc.pl.umap(adata, color=['leiden','chemo'],ncols=2)"
   ]
  },
  {
   "cell_type": "code",
   "execution_count": null,
   "id": "25578f27-afe5-4e19-ba1b-c6832b2d63bb",
   "metadata": {},
   "outputs": [],
   "source": [
    "#sc.set_figure_params(scanpy=True, dpi=100, dpi_save=300, fontsize=18, format='svg',color_map=\"magma\")\n",
    "#sc.settings.figdir = \"figures/scSarcTime_Grant/\""
   ]
  },
  {
   "cell_type": "code",
   "execution_count": null,
   "id": "57d760f5-9209-4198-94c8-b74d35088df7",
   "metadata": {},
   "outputs": [],
   "source": [
    "sc.tl.dendrogram(adata, groupby = 'leiden')\n",
    "sc.pl.rank_genes_groups_dotplot(adata, groupby = 'leiden',n_genes=4)"
   ]
  },
  {
   "cell_type": "code",
   "execution_count": null,
   "id": "bdaaf8aa-bf71-484f-b336-143e7dc78955",
   "metadata": {},
   "outputs": [],
   "source": [
    "sc.tl.rank_genes_groups(adata, groupby = 'Classification', method=\"wilcoxon\", key_added=\"classMark\")\n",
    "pd.DataFrame(adata.uns[\"classMark\"]['names']).head(10)"
   ]
  },
  {
   "cell_type": "code",
   "execution_count": null,
   "id": "fa4d9079-dc3a-40ee-a4cd-e0eaa6092ff4",
   "metadata": {},
   "outputs": [],
   "source": [
    "sc.tl.rank_genes_groups(adata, groupby = 'chemo', method=\"wilcoxon\", key_added=\"sarcMark\")\n",
    "pd.DataFrame(adata.uns[\"sarcMark\"]['names']).head(10)"
   ]
  },
  {
   "cell_type": "code",
   "execution_count": null,
   "id": "aa7ebec1-ef13-4791-985f-07a0020227ab",
   "metadata": {},
   "outputs": [],
   "source": [
    "#adata = sc.read(resultsFile)"
   ]
  },
  {
   "cell_type": "code",
   "execution_count": null,
   "id": "16073900-d9a0-49a2-ae27-3ce0bc8d233f",
   "metadata": {},
   "outputs": [],
   "source": [
    "resultsFile"
   ]
  },
  {
   "cell_type": "code",
   "execution_count": null,
   "id": "c65fe43f-6f54-4290-9f62-ad245fa1bafe",
   "metadata": {},
   "outputs": [],
   "source": [
    "adata.write(resultsFile)"
   ]
  },
  {
   "cell_type": "code",
   "execution_count": null,
   "id": "ed991e5d-95f8-4ae8-860d-af761d339a46",
   "metadata": {},
   "outputs": [],
   "source": [
    "sc.read(resultsFile)"
   ]
  },
  {
   "cell_type": "code",
   "execution_count": null,
   "id": "f044af4c-0bc6-402c-915b-9777079bb09e",
   "metadata": {},
   "outputs": [],
   "source": [
    "adata"
   ]
  },
  {
   "cell_type": "code",
   "execution_count": null,
   "id": "0c681fb6-d7f7-4a30-8a0a-e466fed61897",
   "metadata": {},
   "outputs": [],
   "source": [
    "adata = sc.read(resultsFile)"
   ]
  },
  {
   "cell_type": "code",
   "execution_count": null,
   "id": "e62f1d68-c976-4a6a-9c1e-517a0e7c369c",
   "metadata": {},
   "outputs": [],
   "source": [
    "resultsFileQC"
   ]
  },
  {
   "cell_type": "code",
   "execution_count": null,
   "id": "f2fd82fd-0f62-4c9e-aadc-5df37b325847",
   "metadata": {},
   "outputs": [],
   "source": [
    "#adata.write(writeLoc+ \"sarcPDX_UPS_UPS2236.h5ad\")"
   ]
  },
  {
   "cell_type": "code",
   "execution_count": null,
   "id": "2fec9146-4b8e-4fc7-a247-8ba5e25fa790",
   "metadata": {},
   "outputs": [],
   "source": [
    "adata = sc.read(resultsFileQC)\n",
    "#adata.write(resultsFileQC)\n",
    "adata"
   ]
  },
  {
   "cell_type": "code",
   "execution_count": null,
   "id": "bdbd3602-3da0-4d6b-a7d3-b3131adba9e4",
   "metadata": {},
   "outputs": [],
   "source": [
    "ctl = [x in [\"ctl\"] for x in adata.obs[\"sarc\"]]\n",
    "adata = adata[ctl,]\n",
    "adata"
   ]
  },
  {
   "cell_type": "code",
   "execution_count": null,
   "id": "b76f4c89-b534-48f6-8a35-a7ae4de33d5f",
   "metadata": {},
   "outputs": [],
   "source": [
    "adata.var_names = [x.split(\"_\")[1] for x in adata.var_names]\n",
    "adata.var_names_make_unique()"
   ]
  },
  {
   "cell_type": "code",
   "execution_count": null,
   "id": "1d45d9c1-d2b0-43d7-9b6c-b80c785f414e",
   "metadata": {},
   "outputs": [],
   "source": [
    "sc.pp.normalize_total(adata, exclude_highly_expressed=True)"
   ]
  },
  {
   "cell_type": "code",
   "execution_count": null,
   "id": "99c82210-04a7-4c40-8960-7e58d5a72c82",
   "metadata": {},
   "outputs": [],
   "source": [
    "sc.pp.log1p(adata)"
   ]
  },
  {
   "cell_type": "code",
   "execution_count": null,
   "id": "f93ab4d3-8d35-4f29-ba39-9479ae78bdbe",
   "metadata": {},
   "outputs": [],
   "source": [
    "cell_cycle_genes = [x.strip() for x in open('../../data/regev_lab_cell_cycle_genes_Human.txt')]\n",
    "s_genes = cell_cycle_genes[:43]\n",
    "g2m_genes = cell_cycle_genes[43:]\n",
    "cell_cycle_genes = [x for x in cell_cycle_genes if x in adata.var_names]"
   ]
  },
  {
   "cell_type": "code",
   "execution_count": null,
   "id": "c5bc923b-688a-4e38-ba93-a7a008e3e0a9",
   "metadata": {},
   "outputs": [],
   "source": [
    "sc.tl.score_genes_cell_cycle(adata, s_genes=s_genes, g2m_genes=g2m_genes)"
   ]
  },
  {
   "cell_type": "code",
   "execution_count": null,
   "id": "d8296cf5-32ac-44d8-9fd2-cddf1c7c3d65",
   "metadata": {},
   "outputs": [],
   "source": [
    "adata_cc_genes = adata[:, cell_cycle_genes]\n",
    "sc.tl.pca(adata_cc_genes)\n",
    "sc.pl.pca_scatter(adata_cc_genes, color='phase')"
   ]
  },
  {
   "cell_type": "code",
   "execution_count": null,
   "id": "73f2ddd3-5638-42c6-b7f3-c6b483741713",
   "metadata": {
    "tags": []
   },
   "outputs": [],
   "source": [
    "sc.pp.highly_variable_genes(adata)#, flavor=\"seurat\", n_top_genes=2000)"
   ]
  },
  {
   "cell_type": "code",
   "execution_count": null,
   "id": "a883d2c6-4812-4652-a095-3ed1cf87857b",
   "metadata": {},
   "outputs": [],
   "source": [
    "sum(adata.var.highly_variable)"
   ]
  },
  {
   "cell_type": "code",
   "execution_count": null,
   "id": "311d7843-3056-477c-b7de-065c40ce13c7",
   "metadata": {},
   "outputs": [],
   "source": [
    "x = adata.var[[\"means\"]][adata.var[[\"means\"]] > np.exp(-10)]#adata.var[[\"means\"]]\n",
    "plt.hist(np.log(x), bins=100)#, log=True)\n",
    "plt.axvline(np.log(0.05), color='k', linestyle='dashed', linewidth=1)\n",
    "plt.axvline(np.log(2.5), color='k', linestyle='dashed', linewidth=1)\n",
    "plt.title('Gene means counts')\n",
    "plt.xlabel('means')\n",
    "plt.ylabel('counts')\n",
    "plt.show()"
   ]
  },
  {
   "cell_type": "code",
   "execution_count": null,
   "id": "c2f9aae2-555a-4716-958f-b0c14bae9e06",
   "metadata": {},
   "outputs": [],
   "source": [
    "x = adata.var[[\"dispersions_norms\"]][adata.var[[\"dispersions_norms\"]] > np.exp(-5)]#adata.var[[\"dispersions_norms\"]]\n",
    "plt.hist(np.log(x), bins=50)#, log=True)\n",
    "plt.axvline(np.log(0.5), color='k', linestyle='dashed', linewidth=1)\n",
    "plt.title('Gene dispersions_norms counts')\n",
    "plt.xlabel('dispersions_norms')\n",
    "plt.ylabel('counts')\n",
    "plt.show()"
   ]
  },
  {
   "cell_type": "code",
   "execution_count": null,
   "id": "7e279bf7-356b-43d8-9efc-8b0e59e33a34",
   "metadata": {},
   "outputs": [],
   "source": [
    "sc.pp.highly_variable_genes(adata, min_disp=0.5, min_mean=0.05, max_mean=2.5)"
   ]
  },
  {
   "cell_type": "code",
   "execution_count": null,
   "id": "20e7d329-d144-487d-be7f-cceb6fb3a38a",
   "metadata": {},
   "outputs": [],
   "source": [
    "sum(adata.var.highly_variable)"
   ]
  },
  {
   "cell_type": "code",
   "execution_count": null,
   "id": "233d5fcd-3438-421c-9559-54c1ec234e03",
   "metadata": {},
   "outputs": [],
   "source": [
    "sc.pl.highly_variable_genes(adata)"
   ]
  },
  {
   "cell_type": "code",
   "execution_count": null,
   "id": "2e49cb12-be2a-4982-babd-d37ba71e2ed4",
   "metadata": {},
   "outputs": [],
   "source": [
    "adata.raw = adata"
   ]
  },
  {
   "cell_type": "code",
   "execution_count": null,
   "id": "e7cb70f5-17cc-420d-9c18-06ee91e4b2bc",
   "metadata": {},
   "outputs": [],
   "source": [
    "sum(adata.var.highly_variable)"
   ]
  },
  {
   "cell_type": "code",
   "execution_count": null,
   "id": "bcbf5a0f-339b-4d00-8a95-6c58d377b092",
   "metadata": {},
   "outputs": [],
   "source": [
    "adata = adata[:, np.logical_and(np.logical_not(adata.var.hMT), adata.var.highly_variable)]"
   ]
  },
  {
   "cell_type": "code",
   "execution_count": null,
   "id": "9ce15ad1-bc88-4ec2-8457-faab5926bdb0",
   "metadata": {},
   "outputs": [],
   "source": [
    "sc.pp.regress_out(adata, ['S_score', 'G2M_score'])#,'total_counts', 'pct_counts_hMT'])"
   ]
  },
  {
   "cell_type": "code",
   "execution_count": null,
   "id": "bc0c9926-3dd2-4075-a2bb-f2d5e487c758",
   "metadata": {},
   "outputs": [],
   "source": [
    "sc.pp.scale(adata, max_value=4)"
   ]
  },
  {
   "cell_type": "code",
   "execution_count": null,
   "id": "b3ecba54-3fa2-4a9b-a1b3-746e6fe7030c",
   "metadata": {},
   "outputs": [],
   "source": [
    "sc.tl.pca(adata, n_comps=100,svd_solver='arpack')"
   ]
  },
  {
   "cell_type": "code",
   "execution_count": null,
   "id": "1709ed06-a66b-4071-a9c6-fdc33b1df33a",
   "metadata": {},
   "outputs": [],
   "source": [
    "sc.pl.pca_variance_ratio(adata, n_pcs=100, log=True)"
   ]
  },
  {
   "cell_type": "code",
   "execution_count": null,
   "id": "893e4042-71ca-4056-b7c9-cf9e6909995b",
   "metadata": {},
   "outputs": [],
   "source": [
    "sc.pp.neighbors(adata, n_neighbors=20, n_pcs=40)"
   ]
  },
  {
   "cell_type": "code",
   "execution_count": null,
   "id": "19296f33-9806-404e-8ee2-b124391ea778",
   "metadata": {},
   "outputs": [],
   "source": [
    "sc.tl.umap(adata)"
   ]
  },
  {
   "cell_type": "code",
   "execution_count": null,
   "id": "577a9704-6fb0-49c9-ba8b-450678a17583",
   "metadata": {},
   "outputs": [],
   "source": [
    "sc.tl.leiden(adata, resolution = 0.5)"
   ]
  },
  {
   "cell_type": "code",
   "execution_count": null,
   "id": "41e33b68-61d9-4b7d-8cf4-9dcfb38198cc",
   "metadata": {},
   "outputs": [],
   "source": [
    "sc.pl.umap(adata, color=['leiden',\"phase\",'Classification'],ncols=2)"
   ]
  },
  {
   "cell_type": "code",
   "execution_count": null,
   "id": "f38e585d-34e3-40c5-b141-e1a924dbea13",
   "metadata": {
    "tags": []
   },
   "outputs": [],
   "source": [
    "sc.pl.umap(adata, color=['COL1A1','DES','MDM2',\"CDK4\"],ncols=2)"
   ]
  },
  {
   "cell_type": "code",
   "execution_count": null,
   "id": "d83cd170-f341-4fc2-a1a1-3ee183934797",
   "metadata": {
    "tags": []
   },
   "outputs": [],
   "source": [
    "sc.pl.umap(adata, color=['PGK1','NDRG1'],ncols=2)"
   ]
  },
  {
   "cell_type": "code",
   "execution_count": null,
   "id": "32de9898-6757-4a96-9c83-947e90976024",
   "metadata": {},
   "outputs": [],
   "source": [
    "adata.write('../../write/sarcPDX_MFH9_ctl_V3.h5ad')"
   ]
  },
  {
   "cell_type": "code",
   "execution_count": null,
   "id": "16ddc224-f1a1-4cc7-a7f7-93ca7fd2b14a",
   "metadata": {},
   "outputs": [],
   "source": []
  },
  {
   "cell_type": "code",
   "execution_count": null,
   "id": "60ccc2cc-df95-4bd2-b557-1001b8cc6fa3",
   "metadata": {},
   "outputs": [],
   "source": [
    "adata = sc.read(resultsFileQC)\n",
    "#adata.write(resultsFileQC)\n",
    "adata"
   ]
  },
  {
   "cell_type": "code",
   "execution_count": null,
   "id": "5f24ab84-6e01-466f-aa9b-f9ea30469156",
   "metadata": {},
   "outputs": [],
   "source": [
    "wk1 = [x in [\"wk1\"] for x in adata.obs[\"sarc\"]]\n",
    "adata = adata[wk1,]\n",
    "adata"
   ]
  },
  {
   "cell_type": "code",
   "execution_count": null,
   "id": "a22fcd57-5deb-4120-adb7-5894ca82d8fe",
   "metadata": {},
   "outputs": [],
   "source": [
    "adata.var_names = [x.split(\"_\")[1] for x in adata.var_names]\n",
    "adata.var_names_make_unique()"
   ]
  },
  {
   "cell_type": "code",
   "execution_count": null,
   "id": "eed5bd16-9c73-441c-997f-01953e6d7ee4",
   "metadata": {},
   "outputs": [],
   "source": [
    "sc.pp.normalize_total(adata, exclude_highly_expressed=True)"
   ]
  },
  {
   "cell_type": "code",
   "execution_count": null,
   "id": "f392a530-c491-4a10-be20-7fd9eb3d07cb",
   "metadata": {},
   "outputs": [],
   "source": [
    "sc.pp.log1p(adata)"
   ]
  },
  {
   "cell_type": "code",
   "execution_count": null,
   "id": "d32d3298-d3f7-409e-8cf4-a6b47889720a",
   "metadata": {},
   "outputs": [],
   "source": [
    "cell_cycle_genes = [x.strip() for x in open('../../data/regev_lab_cell_cycle_genes_Human.txt')]\n",
    "s_genes = cell_cycle_genes[:43]\n",
    "g2m_genes = cell_cycle_genes[43:]\n",
    "cell_cycle_genes = [x for x in cell_cycle_genes if x in adata.var_names]"
   ]
  },
  {
   "cell_type": "code",
   "execution_count": null,
   "id": "6ff13e14-cbac-4bf1-b5a2-b2fedc794487",
   "metadata": {},
   "outputs": [],
   "source": [
    "sc.tl.score_genes_cell_cycle(adata, s_genes=s_genes, g2m_genes=g2m_genes)"
   ]
  },
  {
   "cell_type": "code",
   "execution_count": null,
   "id": "b29422e3-378f-4dba-88fa-7a87c8f6717a",
   "metadata": {},
   "outputs": [],
   "source": [
    "adata_cc_genes = adata[:, cell_cycle_genes]\n",
    "sc.tl.pca(adata_cc_genes)\n",
    "sc.pl.pca_scatter(adata_cc_genes, color='phase')"
   ]
  },
  {
   "cell_type": "code",
   "execution_count": null,
   "id": "de3c7710-babf-47f0-9e3b-df684810f797",
   "metadata": {
    "tags": []
   },
   "outputs": [],
   "source": [
    "sc.pp.highly_variable_genes(adata)#, flavor=\"seurat\", n_top_genes=2000)"
   ]
  },
  {
   "cell_type": "code",
   "execution_count": null,
   "id": "48d923b5-843d-4d56-a674-5cda6e6b0c61",
   "metadata": {},
   "outputs": [],
   "source": [
    "sum(adata.var.highly_variable)"
   ]
  },
  {
   "cell_type": "code",
   "execution_count": null,
   "id": "f18a982c-5896-484c-97e5-15c7ccde5642",
   "metadata": {},
   "outputs": [],
   "source": [
    "x = adata.var[[\"means\"]][adata.var[[\"means\"]] > np.exp(-10)]#adata.var[[\"means\"]]\n",
    "plt.hist(np.log(x), bins=100)#, log=True)\n",
    "plt.axvline(np.log(0.05), color='k', linestyle='dashed', linewidth=1)\n",
    "plt.axvline(np.log(2.5), color='k', linestyle='dashed', linewidth=1)\n",
    "plt.title('Gene means counts')\n",
    "plt.xlabel('means')\n",
    "plt.ylabel('counts')\n",
    "plt.show()"
   ]
  },
  {
   "cell_type": "code",
   "execution_count": null,
   "id": "f0fac771-1bda-4bd5-a4d5-e983fd0ae63c",
   "metadata": {},
   "outputs": [],
   "source": [
    "x = adata.var[[\"dispersions_norms\"]][adata.var[[\"dispersions_norms\"]] > np.exp(-5)]#adata.var[[\"dispersions_norms\"]]\n",
    "plt.hist(np.log(x), bins=50)#, log=True)\n",
    "plt.axvline(np.log(0.5), color='k', linestyle='dashed', linewidth=1)\n",
    "plt.title('Gene dispersions_norms counts')\n",
    "plt.xlabel('dispersions_norms')\n",
    "plt.ylabel('counts')\n",
    "plt.show()"
   ]
  },
  {
   "cell_type": "code",
   "execution_count": null,
   "id": "fc6c3e9b-0bb4-4f51-8025-b42a9ec4efb3",
   "metadata": {},
   "outputs": [],
   "source": [
    "sc.pp.highly_variable_genes(adata, min_disp=0.5, min_mean=0.05, max_mean=2.5)"
   ]
  },
  {
   "cell_type": "code",
   "execution_count": null,
   "id": "51236938-49f9-496f-8865-f52d5fc713bf",
   "metadata": {},
   "outputs": [],
   "source": [
    "sum(adata.var.highly_variable)"
   ]
  },
  {
   "cell_type": "code",
   "execution_count": null,
   "id": "28aac552-d72f-44a4-84ab-c008e6ec0b20",
   "metadata": {},
   "outputs": [],
   "source": [
    "sc.pl.highly_variable_genes(adata)"
   ]
  },
  {
   "cell_type": "code",
   "execution_count": null,
   "id": "faddf9c4-9529-4814-bb9a-cf89b61f8554",
   "metadata": {},
   "outputs": [],
   "source": [
    "adata.raw = adata"
   ]
  },
  {
   "cell_type": "code",
   "execution_count": null,
   "id": "d6ee4d94-21be-4fa6-901e-5cb99ed7cb46",
   "metadata": {},
   "outputs": [],
   "source": [
    "sum(adata.var.highly_variable)"
   ]
  },
  {
   "cell_type": "code",
   "execution_count": null,
   "id": "4d243371-49d3-4272-a4fb-e727f7f10537",
   "metadata": {},
   "outputs": [],
   "source": [
    "adata = adata[:, np.logical_and(np.logical_not(adata.var.hMT), adata.var.highly_variable)]"
   ]
  },
  {
   "cell_type": "code",
   "execution_count": null,
   "id": "d938ab7a-7584-4efe-bfe4-f5446620e40d",
   "metadata": {},
   "outputs": [],
   "source": [
    "sc.pp.regress_out(adata, ['S_score', 'G2M_score'])#,'total_counts', 'pct_counts_hMT'])"
   ]
  },
  {
   "cell_type": "code",
   "execution_count": null,
   "id": "30794652-a69d-4db7-b054-dfdded42f755",
   "metadata": {},
   "outputs": [],
   "source": [
    "sc.pp.scale(adata, max_value=4)"
   ]
  },
  {
   "cell_type": "code",
   "execution_count": null,
   "id": "d78d176c-82c9-457d-9d43-e204d7b544b6",
   "metadata": {},
   "outputs": [],
   "source": [
    "sc.tl.pca(adata, n_comps=100,svd_solver='arpack')"
   ]
  },
  {
   "cell_type": "code",
   "execution_count": null,
   "id": "64ce32e5-5e7e-49a9-88ac-b315713714ee",
   "metadata": {},
   "outputs": [],
   "source": [
    "sc.pl.pca_variance_ratio(adata, n_pcs=100, log=True)"
   ]
  },
  {
   "cell_type": "code",
   "execution_count": null,
   "id": "6e110710-d836-4b3b-aa8c-1e7b7d2f09ba",
   "metadata": {},
   "outputs": [],
   "source": [
    "sc.pp.neighbors(adata, n_neighbors=20, n_pcs=40)"
   ]
  },
  {
   "cell_type": "code",
   "execution_count": null,
   "id": "b518afb2-b58f-45c6-bc11-9e1319b8c5ff",
   "metadata": {},
   "outputs": [],
   "source": [
    "sc.tl.umap(adata)"
   ]
  },
  {
   "cell_type": "code",
   "execution_count": null,
   "id": "f379f57a-fc1e-4bbc-ac58-908b1ee65a36",
   "metadata": {},
   "outputs": [],
   "source": [
    "sc.tl.leiden(adata, resolution = 0.5)"
   ]
  },
  {
   "cell_type": "code",
   "execution_count": null,
   "id": "73700d34-d1bb-4e2a-870b-e2164dca0837",
   "metadata": {},
   "outputs": [],
   "source": [
    "sc.pl.umap(adata, color=['leiden',\"phase\",'Classification'],ncols=2)"
   ]
  },
  {
   "cell_type": "code",
   "execution_count": null,
   "id": "49de41dc-3e2b-4f01-b3fe-c74e80f2fca8",
   "metadata": {
    "tags": []
   },
   "outputs": [],
   "source": [
    "sc.pl.umap(adata, color=['COL1A1','DES','MDM2',\"CDK4\"],ncols=2)"
   ]
  },
  {
   "cell_type": "code",
   "execution_count": null,
   "id": "ab61053c-7649-485c-9b14-dfbe0ff5b050",
   "metadata": {
    "tags": []
   },
   "outputs": [],
   "source": [
    "sc.pl.umap(adata, color=['PGK1','NDRG1'],ncols=2)"
   ]
  },
  {
   "cell_type": "code",
   "execution_count": null,
   "id": "739dfec9-a42b-4da9-95f5-8d178eeaed68",
   "metadata": {},
   "outputs": [],
   "source": [
    "sc.tl.score_genes(adata, treatHvg[\"3\"],score_name='treated_3')\n",
    "sc.tl.score_genes(adata, treatHvg[\"7\"],score_name='treated_7')\n",
    "sc.pl.umap(adata,color=[\"treated_3\",\"treated_7\"])"
   ]
  },
  {
   "cell_type": "code",
   "execution_count": null,
   "id": "848de843-819c-4a0e-a575-1cfd31f31805",
   "metadata": {},
   "outputs": [],
   "source": [
    "adata.write('../../write/sarcPDX_MFH9_wk1_V3.h5ad')"
   ]
  },
  {
   "cell_type": "code",
   "execution_count": null,
   "id": "77d7e2d9-95ca-434a-ae04-b39df2909aaf",
   "metadata": {},
   "outputs": [],
   "source": []
  },
  {
   "cell_type": "code",
   "execution_count": null,
   "id": "75dff8bc-335d-4197-98df-111a9aaf7b16",
   "metadata": {},
   "outputs": [],
   "source": [
    "adata = sc.read(resultsFileQC)\n",
    "#adata.write(resultsFileQC)\n",
    "adata"
   ]
  },
  {
   "cell_type": "code",
   "execution_count": null,
   "id": "386bfecf-a5ef-465f-b7c2-2ab141a9096b",
   "metadata": {},
   "outputs": [],
   "source": [
    "wk4 = [x in [\"wk4\"] for x in adata.obs[\"sarc\"]]\n",
    "adata = adata[wk4,]\n",
    "adata"
   ]
  },
  {
   "cell_type": "code",
   "execution_count": null,
   "id": "c974ee6b-def4-4f24-8896-f9c946aaf654",
   "metadata": {},
   "outputs": [],
   "source": [
    "adata.var_names = [x.split(\"_\")[1] for x in adata.var_names]\n",
    "adata.var_names_make_unique()"
   ]
  },
  {
   "cell_type": "code",
   "execution_count": null,
   "id": "3e01c2f7-ae8c-41ca-ab58-8dc910060311",
   "metadata": {},
   "outputs": [],
   "source": [
    "sc.pp.normalize_total(adata, exclude_highly_expressed=True)"
   ]
  },
  {
   "cell_type": "code",
   "execution_count": null,
   "id": "1f8329bf-b5f8-4310-a92d-af710b0eeeba",
   "metadata": {},
   "outputs": [],
   "source": [
    "sc.pp.log1p(adata)"
   ]
  },
  {
   "cell_type": "code",
   "execution_count": null,
   "id": "c88f0faf-3756-41bb-803a-e8a4e43d1d86",
   "metadata": {},
   "outputs": [],
   "source": [
    "cell_cycle_genes = [x.strip() for x in open('../../data/regev_lab_cell_cycle_genes_Human.txt')]\n",
    "s_genes = cell_cycle_genes[:43]\n",
    "g2m_genes = cell_cycle_genes[43:]\n",
    "cell_cycle_genes = [x for x in cell_cycle_genes if x in adata.var_names]"
   ]
  },
  {
   "cell_type": "code",
   "execution_count": null,
   "id": "cbcc5475-ac78-4fcc-b464-43338bc9bb8e",
   "metadata": {},
   "outputs": [],
   "source": [
    "sc.tl.score_genes_cell_cycle(adata, s_genes=s_genes, g2m_genes=g2m_genes)"
   ]
  },
  {
   "cell_type": "code",
   "execution_count": null,
   "id": "3e7ceb63-a9de-4d17-a306-243e4d52da49",
   "metadata": {},
   "outputs": [],
   "source": [
    "adata_cc_genes = adata[:, cell_cycle_genes]\n",
    "sc.tl.pca(adata_cc_genes)\n",
    "sc.pl.pca_scatter(adata_cc_genes, color='phase')"
   ]
  },
  {
   "cell_type": "code",
   "execution_count": null,
   "id": "1f26e6e7-9c21-4e7b-b6b9-0e8277b82953",
   "metadata": {
    "tags": []
   },
   "outputs": [],
   "source": [
    "sc.pp.highly_variable_genes(adata)#, flavor=\"seurat\", n_top_genes=2000)"
   ]
  },
  {
   "cell_type": "code",
   "execution_count": null,
   "id": "2e6647cb-2bd6-465b-9638-4239b67da94e",
   "metadata": {},
   "outputs": [],
   "source": [
    "sum(adata.var.highly_variable)"
   ]
  },
  {
   "cell_type": "code",
   "execution_count": null,
   "id": "0e4305a4-d96e-4862-bc8b-ac5ebccc3a77",
   "metadata": {},
   "outputs": [],
   "source": [
    "x = adata.var[[\"means\"]][adata.var[[\"means\"]] > np.exp(-10)]#adata.var[[\"means\"]]\n",
    "plt.hist(np.log(x), bins=100)#, log=True)\n",
    "plt.axvline(np.log(0.05), color='k', linestyle='dashed', linewidth=1)\n",
    "plt.axvline(np.log(2.5), color='k', linestyle='dashed', linewidth=1)\n",
    "plt.title('Gene means counts')\n",
    "plt.xlabel('means')\n",
    "plt.ylabel('counts')\n",
    "plt.show()"
   ]
  },
  {
   "cell_type": "code",
   "execution_count": null,
   "id": "9f52df02-3110-48f2-8fa7-3d061c8396dd",
   "metadata": {},
   "outputs": [],
   "source": [
    "x = adata.var[[\"dispersions_norms\"]][adata.var[[\"dispersions_norms\"]] > np.exp(-5)]#adata.var[[\"dispersions_norms\"]]\n",
    "plt.hist(np.log(x), bins=50)#, log=True)\n",
    "plt.axvline(np.log(0.5), color='k', linestyle='dashed', linewidth=1)\n",
    "plt.title('Gene dispersions_norms counts')\n",
    "plt.xlabel('dispersions_norms')\n",
    "plt.ylabel('counts')\n",
    "plt.show()"
   ]
  },
  {
   "cell_type": "code",
   "execution_count": null,
   "id": "ff2ddaf0-381a-49ad-88b9-9944a23ff8da",
   "metadata": {},
   "outputs": [],
   "source": [
    "sc.pp.highly_variable_genes(adata, min_disp=0.5, min_mean=0.05, max_mean=2.5)"
   ]
  },
  {
   "cell_type": "code",
   "execution_count": null,
   "id": "3823b475-845d-4d71-a9e4-3f94963648c5",
   "metadata": {},
   "outputs": [],
   "source": [
    "sum(adata.var.highly_variable)"
   ]
  },
  {
   "cell_type": "code",
   "execution_count": null,
   "id": "0e468ebc-10ba-4293-ad03-e83c86d352c4",
   "metadata": {},
   "outputs": [],
   "source": [
    "sc.pl.highly_variable_genes(adata)"
   ]
  },
  {
   "cell_type": "code",
   "execution_count": null,
   "id": "16a11e75-1960-404d-ac0d-9f487608838a",
   "metadata": {},
   "outputs": [],
   "source": [
    "adata.raw = adata"
   ]
  },
  {
   "cell_type": "code",
   "execution_count": null,
   "id": "303da2d5-3a44-4bca-96dd-5df44aa5b710",
   "metadata": {},
   "outputs": [],
   "source": [
    "sum(adata.var.highly_variable)"
   ]
  },
  {
   "cell_type": "code",
   "execution_count": null,
   "id": "d9c4a379-466b-463a-aed4-6c798f5b43cb",
   "metadata": {},
   "outputs": [],
   "source": [
    "adata = adata[:, np.logical_and(np.logical_not(adata.var.hMT), adata.var.highly_variable)]"
   ]
  },
  {
   "cell_type": "code",
   "execution_count": null,
   "id": "73f89a9f-84b6-4099-982e-0a2a610f1239",
   "metadata": {},
   "outputs": [],
   "source": [
    "sc.pp.regress_out(adata, ['S_score', 'G2M_score'])#,'total_counts', 'pct_counts_hMT'])"
   ]
  },
  {
   "cell_type": "code",
   "execution_count": null,
   "id": "12ebd0b0-0394-43d1-8bfc-1cb624f66166",
   "metadata": {},
   "outputs": [],
   "source": [
    "sc.pp.scale(adata, max_value=4)"
   ]
  },
  {
   "cell_type": "code",
   "execution_count": null,
   "id": "265e8fa5-16f0-4405-bd65-4862b0034274",
   "metadata": {},
   "outputs": [],
   "source": [
    "sc.tl.pca(adata, n_comps=100,svd_solver='arpack')"
   ]
  },
  {
   "cell_type": "code",
   "execution_count": null,
   "id": "baadc359-0ea0-4493-9931-264073b0a569",
   "metadata": {},
   "outputs": [],
   "source": [
    "sc.pl.pca_variance_ratio(adata, n_pcs=100, log=True)"
   ]
  },
  {
   "cell_type": "code",
   "execution_count": null,
   "id": "3d3e3703-c1b0-4ba7-a694-2912bfa21a5d",
   "metadata": {},
   "outputs": [],
   "source": [
    "sc.pp.neighbors(adata, n_neighbors=20, n_pcs=40)"
   ]
  },
  {
   "cell_type": "code",
   "execution_count": null,
   "id": "06941cc5-1acd-462b-81a3-7efabbcea438",
   "metadata": {},
   "outputs": [],
   "source": [
    "sc.tl.umap(adata)"
   ]
  },
  {
   "cell_type": "code",
   "execution_count": null,
   "id": "4d8f72e7-8268-4df7-9e2d-a7a519b2f5f2",
   "metadata": {},
   "outputs": [],
   "source": [
    "sc.tl.leiden(adata, resolution = 0.5)"
   ]
  },
  {
   "cell_type": "code",
   "execution_count": null,
   "id": "1cb6cba4-d363-49da-a192-51132d4981b9",
   "metadata": {},
   "outputs": [],
   "source": [
    "sc.pl.umap(adata, color=['leiden',\"phase\",'Classification'],ncols=2)"
   ]
  },
  {
   "cell_type": "code",
   "execution_count": null,
   "id": "37291c8e-5701-47a5-878a-d70d8a31289c",
   "metadata": {
    "tags": []
   },
   "outputs": [],
   "source": [
    "sc.pl.umap(adata, color=['COL1A1','DES','MDM2',\"CDK4\"],ncols=2)"
   ]
  },
  {
   "cell_type": "code",
   "execution_count": null,
   "id": "2e24ab10-82fa-43ed-b1f6-4d2e1a9d8824",
   "metadata": {
    "tags": []
   },
   "outputs": [],
   "source": [
    "sc.pl.umap(adata, color=['PGK1','NDRG1'],ncols=2)"
   ]
  },
  {
   "cell_type": "code",
   "execution_count": null,
   "id": "5067f4a9-f28e-4b08-a892-f6a43dfc2fc1",
   "metadata": {},
   "outputs": [],
   "source": [
    "adata.write('../../write/sarcPDX_MFH9_wk4_V3.h5ad')"
   ]
  },
  {
   "cell_type": "code",
   "execution_count": null,
   "id": "1c503b81-4e38-4a3d-8b8b-6fc2261b50f6",
   "metadata": {},
   "outputs": [],
   "source": [
    "treatHvg = pd.read_csv(\"hvg/treatedHvg.csv\")\n",
    "treatHvg"
   ]
  },
  {
   "cell_type": "code",
   "execution_count": null,
   "id": "6813624a-3a15-419d-95d9-53a810d02487",
   "metadata": {},
   "outputs": [],
   "source": [
    "sc.tl.score_genes(adata, treatHvg[\"3\"],score_name='treated_3')\n",
    "sc.tl.score_genes(adata, treatHvg[\"7\"],score_name='treated_7')\n",
    "sc.pl.umap(adata,color=[\"treated_3\",\"treated_7\"])"
   ]
  },
  {
   "cell_type": "code",
   "execution_count": null,
   "id": "0f75ec0c-57ab-4e70-a01b-0c2ef8634ef8",
   "metadata": {},
   "outputs": [],
   "source": []
  }
 ],
 "metadata": {
  "kernelspec": {
   "display_name": "Python 3 (ipykernel)",
   "language": "python",
   "name": "python3"
  },
  "language_info": {
   "codemirror_mode": {
    "name": "ipython",
    "version": 3
   },
   "file_extension": ".py",
   "mimetype": "text/x-python",
   "name": "python",
   "nbconvert_exporter": "python",
   "pygments_lexer": "ipython3",
   "version": "3.8.16"
  }
 },
 "nbformat": 4,
 "nbformat_minor": 5
}
