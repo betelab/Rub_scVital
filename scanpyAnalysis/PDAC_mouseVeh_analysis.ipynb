{
 "cells": [
  {
   "cell_type": "code",
   "execution_count": null,
   "id": "4bcd1fe5-e989-4b1f-a9a0-46c11ed8e1b1",
   "metadata": {},
   "outputs": [],
   "source": []
  },
  {
   "cell_type": "code",
   "execution_count": null,
   "id": "dc0d338f-3e13-43bd-9926-6ea8ba3811b5",
   "metadata": {},
   "outputs": [],
   "source": [
    "import numpy as np\n",
    "import pandas as pd\n",
    "import scanpy as sc\n",
    "import scipy.io\n",
    "import scanpy.external as scex\n",
    "import sklearn.metrics\n",
    "import seaborn as sns\n",
    "from matplotlib import pyplot as plt\n",
    "\n",
    "import sys\n",
    "sys.path.insert(1, '../mhCompTiss/')\n",
    "\n",
    "import scanpyHelpers as scH"
   ]
  },
  {
   "cell_type": "code",
   "execution_count": null,
   "id": "38d41838-b4da-4b5e-9ab9-84bf0ab49840",
   "metadata": {},
   "outputs": [],
   "source": [
    "#adata=sc.read(results_file_post)\n",
    "#adata.uns['log1p'] = {\"base\":None}"
   ]
  },
  {
   "cell_type": "markdown",
   "id": "6ed22a34-fb8e-4234-9066-59cb1a894b98",
   "metadata": {},
   "source": [
    "Set up out properties"
   ]
  },
  {
   "cell_type": "code",
   "execution_count": null,
   "id": "924d6875-0293-499e-829f-c718434d81b0",
   "metadata": {
    "scrolled": true,
    "tags": []
   },
   "outputs": [],
   "source": [
    "sc.settings.verbosity = 3             # verbosity: errors (0), warnings (1), info (2), hints (3)\n",
    "sc.logging.print_header()\n",
    "sc.settings.set_figure_params(dpi=80, facecolor='white')"
   ]
  },
  {
   "cell_type": "code",
   "execution_count": null,
   "id": "4af14b9a-e87d-4897-983e-2b6bb385f960",
   "metadata": {},
   "outputs": [],
   "source": [
    "%matplotlib inline"
   ]
  },
  {
   "cell_type": "markdown",
   "id": "97e474cf-35b2-47de-a0a3-e59f352b735b",
   "metadata": {},
   "source": [
    "Set scanpy out-files"
   ]
  },
  {
   "cell_type": "code",
   "execution_count": null,
   "id": "29bff79b-14e2-4aef-8e87-a0d6a7f980d0",
   "metadata": {},
   "outputs": [],
   "source": [
    "writeDir = \"write/\"\n",
    "\n",
    "fileName = \"pdacMouseVeh\"\n",
    "\n",
    "resultsFile = writeDir + fileName + '.h5ad'       # final output\n",
    "resultsFileTotal = writeDir + fileName + 'wImm.h5ad'       # final output\n",
    "resultsFileQC = writeDir + fileName + '_QC.h5ad'  # post QC (pre-analysis) "
   ]
  },
  {
   "cell_type": "markdown",
   "id": "88226528-5533-44bd-bed2-ba50950543db",
   "metadata": {
    "tags": []
   },
   "source": [
    "Set figure parameters"
   ]
  },
  {
   "cell_type": "code",
   "execution_count": null,
   "id": "304d197e-2110-4d37-9fce-8234dfc9b858",
   "metadata": {
    "tags": []
   },
   "outputs": [],
   "source": [
    "sc.set_figure_params(scanpy=True, dpi=100, dpi_save=150, fontsize=10, format='png')\n",
    "sc.settings.figdir = \"figures/\" + fileName + \"/\"\n",
    "figName = fileName"
   ]
  },
  {
   "cell_type": "code",
   "execution_count": null,
   "id": "4ef99b11-edc7-4a0a-810d-4b568a896976",
   "metadata": {
    "tags": []
   },
   "outputs": [],
   "source": [
    "adata = sc.read_h5ad(resultsFileQC)\n",
    "adata"
   ]
  },
  {
   "cell_type": "code",
   "execution_count": null,
   "id": "fe0be87c-d6f2-43a0-afb2-1ec0b58ae063",
   "metadata": {},
   "outputs": [],
   "source": [
    "geneMark = ['BFP', 'CLuc', 'CreER', 'DTR', 'EGFP', 'GLuc', 'luciferase', 'mScarlet', 'tdTomato']\n",
    "plotDim = 5\n",
    "\n",
    "fig, axs = plt.subplots((len(geneMark)+1)//plotDim, plotDim, figsize=(10, 5))\n",
    "\n",
    "for i,gene in enumerate(geneMark):\n",
    "    x,y = i//plotDim, i%plotDim\n",
    "    axs[x,y].hist(adata.obs[gene], bins=100, log=True)\n",
    "    axs[x,y].set_title(gene)"
   ]
  },
  {
   "cell_type": "code",
   "execution_count": null,
   "id": "61f8f987-ab4b-47a4-b5d4-5361fc93afc6",
   "metadata": {},
   "outputs": [],
   "source": [
    "adata.obs.GMM.cat.categories"
   ]
  },
  {
   "cell_type": "code",
   "execution_count": null,
   "id": "93f7e6f9-1fdc-4aeb-91d2-9c143679c79d",
   "metadata": {},
   "outputs": [],
   "source": [
    "#sc.pp.normalize_total(adata,target_sum=1e4)"
   ]
  },
  {
   "cell_type": "code",
   "execution_count": null,
   "id": "9c336464-0659-4046-9f25-16dfb93b664b",
   "metadata": {},
   "outputs": [],
   "source": [
    "#sc.pp.log1p(adata)"
   ]
  },
  {
   "cell_type": "code",
   "execution_count": null,
   "id": "48bf4fa7-457a-480f-8ca1-eecd9734ab0a",
   "metadata": {},
   "outputs": [],
   "source": [
    "adata.uns['log1p']['base'] = None"
   ]
  },
  {
   "cell_type": "code",
   "execution_count": null,
   "id": "9efa8658-5b5e-41e7-a5e5-79db18e6b0df",
   "metadata": {},
   "outputs": [],
   "source": [
    "sc.pp.highly_variable_genes(adata)#, flavor = \"seurat\", n_top_genes=2000)"
   ]
  },
  {
   "cell_type": "code",
   "execution_count": null,
   "id": "c1226948-149d-40a3-9f6a-f56b2b14ef55",
   "metadata": {},
   "outputs": [],
   "source": [
    "minMean = 0.05\n",
    "maxMean = 2.8\n",
    "minDisp = 0.7\n",
    "\n",
    "fig, axs = plt.subplots(1, 2, figsize=(10, 5))\n",
    "\n",
    "means = adata.var[[\"means\"]][adata.var[[\"means\"]] > np.exp(-14)]#adata.var[[\"means\"]],\n",
    "axs[0].hist(np.log(means), bins=100)#, log=True),\n",
    "axs[0].axvline(np.log(minMean), color='k', linestyle='dashed', linewidth=1)\n",
    "axs[0].axvline(np.log(maxMean), color='k', linestyle='dashed', linewidth=1)\n",
    "axs[0].set_title('Gene means counts')\n",
    "axs[0].set_xlabel('means')\n",
    "axs[0].set_ylabel('counts')\n",
    "\n",
    "dispNorm = adata.var[[\"dispersions_norm\"]][adata.var[[\"dispersions_norm\"]] > np.exp(-5)]#adata.var[[\"means\"]],\n",
    "axs[1].hist(np.log(dispNorm), bins=100)#, log=True),\n",
    "axs[1].axvline(np.log(minDisp), color='k', linestyle='dashed', linewidth=1)\n",
    "axs[1].set_title('Gene dispersions counts')\n",
    "axs[1].set_xlabel('dispersions')\n",
    "axs[1].set_ylabel('counts')\n",
    "\n",
    "sc.pp.highly_variable_genes(adata, min_disp=minDisp, min_mean=minMean, max_mean=maxMean)\n",
    "print(sum(adata.var.highly_variable))"
   ]
  },
  {
   "cell_type": "code",
   "execution_count": null,
   "id": "73c62e80-e6a1-478f-b80f-6b27f7edfa35",
   "metadata": {},
   "outputs": [],
   "source": [
    "sc.pl.highly_variable_genes(adata)"
   ]
  },
  {
   "cell_type": "code",
   "execution_count": null,
   "id": "3eca5065-2b0c-40fd-8b84-828c431d8b1e",
   "metadata": {},
   "outputs": [],
   "source": [
    "#for inGene in adata.var[-8:].index.tolist():\n",
    "#    adata.var.loc[inGene,\"highly_variable\"] = False"
   ]
  },
  {
   "cell_type": "code",
   "execution_count": null,
   "id": "761fa5f5-8f27-420a-bf38-e50a86dbe684",
   "metadata": {},
   "outputs": [],
   "source": [
    "adata.var['mt'] = adata.var_names.str.startswith('mt-') "
   ]
  },
  {
   "cell_type": "code",
   "execution_count": null,
   "id": "a58c8355-4f1f-443e-8967-278442ac0367",
   "metadata": {},
   "outputs": [],
   "source": [
    "adata.raw = adata"
   ]
  },
  {
   "cell_type": "code",
   "execution_count": null,
   "id": "724d2f08-7719-4b58-b4d9-cdf0471d6ca8",
   "metadata": {},
   "outputs": [],
   "source": [
    "#adata = adata[:, adata.var.highly_variable]\n",
    "adata = adata[:, np.logical_and(adata.var.highly_variable, np.logical_not(adata.var.mt))]"
   ]
  },
  {
   "cell_type": "code",
   "execution_count": null,
   "id": "0760c035-002b-4cf6-9ef5-55c056c57332",
   "metadata": {},
   "outputs": [],
   "source": [
    "#sc.pp.regress_out(adata, ['total_counts', 'pct_counts_mt'])"
   ]
  },
  {
   "cell_type": "code",
   "execution_count": null,
   "id": "13997e5a-1156-478f-aca7-fcec12a4801a",
   "metadata": {},
   "outputs": [],
   "source": [
    "#sc.pp.scale(adata, max_value=10)"
   ]
  },
  {
   "cell_type": "code",
   "execution_count": null,
   "id": "2ae505f8-bea3-4fa1-8fa4-0b708122e761",
   "metadata": {},
   "outputs": [],
   "source": [
    "sc.tl.pca(adata, n_comps = 100, svd_solver='arpack')"
   ]
  },
  {
   "cell_type": "code",
   "execution_count": null,
   "id": "74ed315c-e215-4956-9533-ecbb4ce5d289",
   "metadata": {},
   "outputs": [],
   "source": [
    "sc.pl.pca_variance_ratio(adata, n_pcs = 100, log=True)"
   ]
  },
  {
   "cell_type": "code",
   "execution_count": null,
   "id": "509b5ec6-85c0-4ccc-b073-2d7baf1c6ef7",
   "metadata": {},
   "outputs": [],
   "source": [
    "sc.pl.pca_variance_ratio(adata, n_pcs = 100)"
   ]
  },
  {
   "cell_type": "code",
   "execution_count": null,
   "id": "6a80171f-af6e-48d8-a1ea-ec1fc76a5757",
   "metadata": {},
   "outputs": [],
   "source": [
    "sc.pp.neighbors(adata, n_neighbors=20, n_pcs=50)"
   ]
  },
  {
   "cell_type": "code",
   "execution_count": null,
   "id": "17d0a187-58cc-4ccb-96d0-78bbd17c7aa6",
   "metadata": {},
   "outputs": [],
   "source": [
    "sc.tl.umap(adata)"
   ]
  },
  {
   "cell_type": "code",
   "execution_count": null,
   "id": "c8bc8eef-5f8f-4a18-a81b-6cc71ae7acef",
   "metadata": {},
   "outputs": [],
   "source": [
    "sc.tl.leiden(adata, resolution=0.15)"
   ]
  },
  {
   "cell_type": "code",
   "execution_count": null,
   "id": "0a9cda26-a0fc-464a-a493-b78f0ac0bd72",
   "metadata": {},
   "outputs": [],
   "source": [
    "sc.pl.umap(adata, color=[\"leiden\",\"Classification\",\"Epcam\",\"Ptprc\",\"Lum\",\"Dcn\",\"Vim\"],ncols=4)"
   ]
  },
  {
   "cell_type": "code",
   "execution_count": null,
   "id": "34787288-f8b6-47cb-b3ac-14ffe9dce419",
   "metadata": {},
   "outputs": [],
   "source": [
    "sc.pl.pca(adata, color=[\"leiden\",\"Classification\",\"Epcam\",\"Ptprc\",\"Lum\",\"Dcn\",\"Vim\"],ncols=4)"
   ]
  },
  {
   "cell_type": "code",
   "execution_count": null,
   "id": "398bcc29-3754-45fd-aed2-426eb2aa5cef",
   "metadata": {
    "tags": []
   },
   "outputs": [],
   "source": [
    "sc.pl.umap(adata, color=['CreER', 'DTR', 'EGFP', 'mScarlet', 'tdTomato'],ncols=3, cmap=\"bwr\")"
   ]
  },
  {
   "cell_type": "code",
   "execution_count": null,
   "id": "7fa0a36c-d7f9-443e-862c-c64cd10c587e",
   "metadata": {},
   "outputs": [],
   "source": [
    "adata.obs[\"tdT+\"] = [\"tdT+\" if t > 0.5 else \"tdT-\" for t in adata.obs.tdTomato] \n",
    "adata.obs[\"EGFP+\"] = [\"EGFP+\" if t > 5 else \"EGFP-\" for t in adata.obs.EGFP] \n",
    "#adata.obs[\"tumor\"] = [\"tum\" if l in ['2',\"8\",\"9\"] else \"other\" for l in adata.obs.leiden]\n",
    "adata.obs[\"tumor\"] = [\"tum\" if l in ['0',\"3\"] else \"other\" for l in adata.obs.leiden]"
   ]
  },
  {
   "cell_type": "code",
   "execution_count": null,
   "id": "241b1ce3-54c3-45ee-8f48-6c242ce3e097",
   "metadata": {},
   "outputs": [],
   "source": [
    "sc.pl.umap(adata, color=[\"tumor\",\"tdTomato\",\"Ptprc\",\"tdT+\"],ncols=4)"
   ]
  },
  {
   "cell_type": "code",
   "execution_count": null,
   "id": "eaacdeeb-ff26-4aae-b90e-12bbce6a71c1",
   "metadata": {},
   "outputs": [],
   "source": [
    "sum(adata.obs.tdTomato>0)"
   ]
  },
  {
   "cell_type": "code",
   "execution_count": null,
   "id": "dc047529-8b39-4e7d-9545-9a560365dfed",
   "metadata": {},
   "outputs": [],
   "source": [
    "sum(adata.obs.tumor==\"tum\")"
   ]
  },
  {
   "cell_type": "code",
   "execution_count": null,
   "id": "8765bec9-a207-4915-bb9e-f1c559b7a27f",
   "metadata": {},
   "outputs": [],
   "source": [
    "sc.pl.pca(adata, color=[\"tdTomato\",\"Ptprc\",\"Dcn\",\"tumor\",\"tdT+\"],ncols=3)"
   ]
  },
  {
   "cell_type": "code",
   "execution_count": null,
   "id": "31b3488b-2b2a-4367-a86d-ad35648cc2f7",
   "metadata": {},
   "outputs": [],
   "source": [
    "adata.write(resultsFileTotal)\n",
    "#adata = sc.read(resultsFileTotal)\n"
   ]
  },
  {
   "cell_type": "code",
   "execution_count": null,
   "id": "ec39d300-f381-4063-818b-1e464fc56524",
   "metadata": {},
   "outputs": [],
   "source": [
    "adata = adata[adata.obs.tumor==\"tum\"]\n",
    "#adata = adata[adata.obs[\"tdT+\"]==\"tdT+\"]\n",
    "adata = adata.raw.to_adata()"
   ]
  },
  {
   "cell_type": "code",
   "execution_count": null,
   "id": "e220e87b-2a0e-46b3-b6cd-536adfe71eb2",
   "metadata": {},
   "outputs": [],
   "source": [
    "sc.pp.highly_variable_genes(adata)#, flavor = \"seurat\", n_top_genes=2000)"
   ]
  },
  {
   "cell_type": "code",
   "execution_count": null,
   "id": "9fb2f029-05d9-477a-985a-bc73f076ecdf",
   "metadata": {},
   "outputs": [],
   "source": [
    "minMean = 0.05\n",
    "maxMean = 2.7\n",
    "minDisp = 0.5\n",
    "\n",
    "fig, axs = plt.subplots(1, 2, figsize=(10, 5))\n",
    "\n",
    "means = adata.var[[\"means\"]][adata.var[[\"means\"]] > np.exp(-14)]#adata.var[[\"means\"]],\n",
    "axs[0].hist(np.log(means), bins=100)#, log=True),\n",
    "axs[0].axvline(np.log(minMean), color='k', linestyle='dashed', linewidth=1)\n",
    "axs[0].axvline(np.log(maxMean), color='k', linestyle='dashed', linewidth=1)\n",
    "axs[0].set_title('Gene means counts')\n",
    "axs[0].set_xlabel('means')\n",
    "axs[0].set_ylabel('counts')\n",
    "\n",
    "dispNorm = adata.var[[\"dispersions_norm\"]][adata.var[[\"dispersions_norm\"]] > np.exp(-5)]#adata.var[[\"means\"]],\n",
    "axs[1].hist(np.log(dispNorm), bins=100)#, log=True),\n",
    "axs[1].axvline(np.log(minDisp), color='k', linestyle='dashed', linewidth=1)\n",
    "axs[1].set_title('Gene dispersions counts')\n",
    "axs[1].set_xlabel('dispersions')\n",
    "axs[1].set_ylabel('counts')\n",
    "\n",
    "sc.pp.highly_variable_genes(adata, min_disp=minDisp, min_mean=minMean, max_mean=maxMean)\n",
    "print(sum(adata.var.highly_variable))\n"
   ]
  },
  {
   "cell_type": "code",
   "execution_count": null,
   "id": "a9b54f0f-8548-4782-8be9-2e0ab781dd01",
   "metadata": {},
   "outputs": [],
   "source": [
    "sc.pl.highly_variable_genes(adata)"
   ]
  },
  {
   "cell_type": "code",
   "execution_count": null,
   "id": "b033c973-d910-479e-be6a-8b93d9f7e4de",
   "metadata": {},
   "outputs": [],
   "source": [
    "#for inGene in adata.var[-8:].index.tolist():\n",
    "#    adata.var.loc[inGene,\"highly_variable\"] = False"
   ]
  },
  {
   "cell_type": "code",
   "execution_count": null,
   "id": "a049e8a5-a28b-43ee-bbd4-209d0c6fdf2f",
   "metadata": {},
   "outputs": [],
   "source": [
    "adata.var['mt'] = adata.var_names.str.startswith('mt-') "
   ]
  },
  {
   "cell_type": "code",
   "execution_count": null,
   "id": "4f9fb18c-317e-40c4-9e53-171c54e4361c",
   "metadata": {},
   "outputs": [],
   "source": [
    "adata.raw = adata"
   ]
  },
  {
   "cell_type": "code",
   "execution_count": null,
   "id": "b60da3f2-be42-4a81-b0ed-90e963f4ae7e",
   "metadata": {},
   "outputs": [],
   "source": [
    "#adata = adata[:, adata.var.highly_variable]\n",
    "adata = adata[:, np.logical_and(adata.var.highly_variable, np.logical_not(adata.var.mt))]"
   ]
  },
  {
   "cell_type": "code",
   "execution_count": null,
   "id": "5227dad4-5d4a-49f6-8121-41d184e0eb9f",
   "metadata": {},
   "outputs": [],
   "source": [
    "#sc.pp.regress_out(adata, ['total_counts', 'pct_counts_mt'])"
   ]
  },
  {
   "cell_type": "code",
   "execution_count": null,
   "id": "3beec84f-b336-4163-b151-ca1954b26025",
   "metadata": {},
   "outputs": [],
   "source": [
    "#sc.pp.scale(adata, max_value=10)"
   ]
  },
  {
   "cell_type": "code",
   "execution_count": null,
   "id": "fcdcf4c0-bc4f-4a25-a987-ba58a532a83f",
   "metadata": {},
   "outputs": [],
   "source": [
    "sc.tl.pca(adata, n_comps = 200, svd_solver='arpack')"
   ]
  },
  {
   "cell_type": "code",
   "execution_count": null,
   "id": "838d98f1-16f2-4e9a-a0b0-2aecee21201f",
   "metadata": {},
   "outputs": [],
   "source": [
    "sc.pl.pca_variance_ratio(adata, n_pcs = 200, log=True)"
   ]
  },
  {
   "cell_type": "code",
   "execution_count": null,
   "id": "a0bc3913-a654-4355-b919-9b2e2536d4de",
   "metadata": {},
   "outputs": [],
   "source": [
    "sc.pp.neighbors(adata, n_neighbors=15, n_pcs=50)"
   ]
  },
  {
   "cell_type": "code",
   "execution_count": null,
   "id": "7cadb604-da7e-449e-92ad-c10d2df8b62a",
   "metadata": {},
   "outputs": [],
   "source": [
    "sc.tl.umap(adata)"
   ]
  },
  {
   "cell_type": "code",
   "execution_count": null,
   "id": "7426420d-a99b-465b-990e-ed87e23755c1",
   "metadata": {},
   "outputs": [],
   "source": [
    "sc.tl.leiden(adata, resolution=0.7)"
   ]
  },
  {
   "cell_type": "code",
   "execution_count": null,
   "id": "485de8f3-16eb-4f12-a0a0-3c4a5e583407",
   "metadata": {},
   "outputs": [],
   "source": [
    "sc.pl.umap(adata, color=[\"leiden\",\"GMM\"],ncols=3)"
   ]
  },
  {
   "cell_type": "code",
   "execution_count": null,
   "id": "42fa464e-815f-40cc-8fde-c3fe7af6914f",
   "metadata": {},
   "outputs": [],
   "source": [
    "sc.pl.pca(adata, color=[\"leiden\",\"GMM\"],ncols=3, dimensions= [(0, 1)],annotate_var_explained=True)"
   ]
  },
  {
   "cell_type": "code",
   "execution_count": null,
   "id": "38f07270-cffc-4af6-bd81-ade4a7412b6b",
   "metadata": {},
   "outputs": [],
   "source": [
    "sc.pl.pca(adata, color=[\"leiden\",\"GMM\"],ncols=3, dimensions= [(2, 1)],annotate_var_explained=True)"
   ]
  },
  {
   "cell_type": "code",
   "execution_count": null,
   "id": "e83b23ff-596c-4aac-aadb-6df4331b9436",
   "metadata": {
    "tags": []
   },
   "outputs": [],
   "source": [
    "sc.pl.umap(adata, color=['EGFP+', 'tdT+','EGFP', 'tdTomato',\"DTR\"],ncols=2)#, cmap=\"bwr\")"
   ]
  },
  {
   "cell_type": "code",
   "execution_count": null,
   "id": "18ceab09-ebe1-4a63-b4fb-ee11a17e2bfe",
   "metadata": {},
   "outputs": [],
   "source": [
    "sc.pl.pca(adata, color=['EGFP+', 'tdT+',\"leiden\",\"GMM\"],ncols=3)"
   ]
  },
  {
   "cell_type": "code",
   "execution_count": null,
   "id": "9a1bc6bb-f468-4d6d-ad56-4d710e97f276",
   "metadata": {},
   "outputs": [],
   "source": [
    "sc.pl.umap(adata, color=[\"n_genes\",\"pct_counts_mt\",\"total_counts\"])"
   ]
  },
  {
   "cell_type": "code",
   "execution_count": null,
   "id": "4684f74f-9d0d-498a-ad93-21381814103e",
   "metadata": {},
   "outputs": [],
   "source": [
    "#sc.tl.rank_genes_groups(adata, 'leiden', method='wilcoxon', use_raw=False)\n",
    "#sc.tl.filter_rank_genes_groups(adata, groupby=\"leiden\", use_raw=False,\n",
    "#                                   key_added='rank_genes_groups_filtered', \n",
    "#                                   min_in_group_fraction=0.25, min_fold_change=1, max_out_group_fraction=0.5, compare_abs=False)\n",
    "#sc.pl.rank_genes_groups(adata, n_genes=25, sharey=False)"
   ]
  },
  {
   "cell_type": "code",
   "execution_count": null,
   "id": "8191ddef-2a19-46b6-82ba-885a9b508114",
   "metadata": {},
   "outputs": [],
   "source": [
    "#pd.DataFrame(adata.uns['rank_genes_groups']['names']).head(15)"
   ]
  },
  {
   "cell_type": "code",
   "execution_count": null,
   "id": "27ae1b80-b80b-4cb0-93c1-bee97785f9eb",
   "metadata": {},
   "outputs": [],
   "source": [
    "#sc.tl.dendrogram(adata,groupby=\"leiden\", n_pcs=50)\n",
    "#sc.pl.rank_genes_groups_dotplot(adata,n_genes=3)#,key=\"rank_genes_groups_filtered\")"
   ]
  },
  {
   "cell_type": "code",
   "execution_count": null,
   "id": "e5c7330b-47a8-4e29-beb8-07c7e40b2a3b",
   "metadata": {},
   "outputs": [],
   "source": [
    "resultsFile"
   ]
  },
  {
   "cell_type": "code",
   "execution_count": null,
   "id": "84e3fb78-3321-4b20-86d3-6b663a83cb2b",
   "metadata": {},
   "outputs": [],
   "source": [
    "adata"
   ]
  },
  {
   "cell_type": "code",
   "execution_count": null,
   "id": "c8485edc-3a0c-41d9-9990-7671609c9f36",
   "metadata": {},
   "outputs": [],
   "source": [
    "adata.write(resultsFile)\n",
    "adata"
   ]
  },
  {
   "cell_type": "code",
   "execution_count": null,
   "id": "b2dadb63-419a-4933-8bcb-c1e0dc3d2bb7",
   "metadata": {},
   "outputs": [],
   "source": [
    "def plotScores(scoreMat, figCols = 4, cutoff = 1.5):\n",
    "    fig, axs = plt.subplots((len(scoreMat.columns)+1)//figCols, figCols, figsize=(10, 10))\n",
    "    #sigs = []\n",
    "    for i,scoreCol in enumerate(scoreMat.columns):\n",
    "        scoreData = scoreMat[scoreCol]\n",
    "        x, y = i//figCols, i%figCols\n",
    "        axs[x, y].hist(((scoreData-np.mean(scoreData))/np.std(scoreData)), bins=100)\n",
    "        axs[x, y].axvline(cutoff, color='k', linestyle='dashed', linewidth=1)\n",
    "        axs[x, y].set_title(scoreCol)\n",
    "        #sigs.append(((scoreData-np.mean(scoreData))/np.std(scoreData)) > cutoff)\n",
    "\n",
    "    fig.show()\n",
    "    #return(sigs)\n",
    "    \n",
    "def scoreGeneSig(adata, geneSig, translate = False, toGenes=None, fromGenes=None):\n",
    "    for j,sigName in enumerate(geneSig.columns):\n",
    "        clustGenes = geneSig.iloc[:,j].dropna()\n",
    "        if translate:\n",
    "            for i,mGene in enumerate(clustGenes):\n",
    "                indexOver = np.where(fromGenes == mGene)[0]\n",
    "                if indexOver.size > 0:\n",
    "                    clustGenes[i] = toGenes[indexOver[0]]\n",
    "        sc.tl.score_genes(adata, clustGenes, score_name=f\"{sigName}Score\")\n",
    "\n",
    "def getNewLabels(adata, ogLabels, scoreNames,labelDict):\n",
    "#   ogLabelScore = pd.DataFrame(np.zeros((len(ogLabels),len(scoreNames))),index=ogLabels, columns=scoreNames)\n",
    "    ogLabelScoreMe = pd.DataFrame(np.zeros((len(ogLabels),len(scoreNames))),index=ogLabels, columns=scoreNames)\n",
    "    newBClabel = list(ogLabels.copy())\n",
    "    \n",
    "    for score in ogLabelScoreMe.columns:\n",
    "        scorMe = np.mean(adata.obs[score])\n",
    "        print(f\"\\nscore: {scorMe}\\n\")\n",
    "        for i,leid in enumerate(ogLabelScoreMe.index):\n",
    "            adataCat = adata[adata.obs.leiden==leid]\n",
    "            #ogLabelScore.loc[leid,score] = scorMe\n",
    "            ogLabelScoreMe.loc[leid,score] = np.round(sum(adataCat.obs[score] > scorMe)/len(adataCat.obs[score]),decimals=4)\n",
    "    \n",
    "    print(ogLabelScoreMe)\n",
    "    \n",
    "    for i,leid in enumerate(ogLabelScoreMe.index):\n",
    "        if(np.max(ogLabelScoreMe.loc[leid,:])): # > 0.5 and scorMe > 0\n",
    "            newBClabel[i] = labelDict[ogLabelScoreMe.columns[np.argmax(ogLabelScoreMe.loc[leid,:])]]\n",
    "        else:\n",
    "            newBClabel[i] = \"inter\"\n",
    "        \n",
    "    adata.obs[\"cellState\"] = [newBClabel[int(lei)] for lei in adata.obs.leiden]\n",
    "    return(newBClabel, ogLabelScoreMe)\n",
    "\n",
    "\n",
    "def scoreAndLabel(adata, sigGenes, labelOfSigGenes, ogLabel=\"leiden\",translate = False, toGenes=None, fromGenes=None):\n",
    "    scoreGeneSig(adata, sigGenes, translate = translate, toGenes=toGenes, fromGenes=fromGenes)\n",
    "    ogLabels = adata.obs[ogLabel].cat.categories\n",
    "    scoreNames = [f\"{sigName}Score\" for sigName in sigGenes.columns]\n",
    "    labelDict = dict(zip(scoreNames,labelOfSigGenes))\n",
    "    newBClabel, ogLabelScoreMe = getNewLabels(adata, ogLabels, scoreNames, labelDict)\n",
    "    return(scoreNames, newBClabel, ogLabelScoreMe)"
   ]
  },
  {
   "cell_type": "code",
   "execution_count": null,
   "id": "6e4af58a-ffde-4992-8452-c60fe6353abc",
   "metadata": {
    "tags": []
   },
   "outputs": [],
   "source": [
    "adata = sc.read(resultsFile)"
   ]
  },
  {
   "cell_type": "code",
   "execution_count": null,
   "id": "12931800-be2f-4ec5-ae70-ce938498b203",
   "metadata": {
    "tags": []
   },
   "outputs": [],
   "source": [
    "homology = pd.read_table(\"data/hgncHM_121.csv\", sep=\",\")\n",
    "mouseGenes = np.array(homology[\"mouse\"])\n",
    "humanGenes = np.array(homology[\"human\"])\n",
    "homology"
   ]
  },
  {
   "cell_type": "code",
   "execution_count": null,
   "id": "3633939f-8443-4855-b0b7-a55d47370127",
   "metadata": {},
   "outputs": [],
   "source": [
    "sigGenes = pd.read_csv(\"data/PDAC/basClaSigGenes.csv\")\n",
    "sigGenes = sigGenes[[\"scBasal\",\"scClassical\",\"EMT\"]]"
   ]
  },
  {
   "cell_type": "code",
   "execution_count": null,
   "id": "efbccc78-3812-4181-81b4-3495bd9277ae",
   "metadata": {
    "tags": []
   },
   "outputs": [],
   "source": [
    "#set(sigGenes[\"basal\"]).intersection(set(sigGenes[\"scBasal\"]))"
   ]
  },
  {
   "cell_type": "code",
   "execution_count": null,
   "id": "7379531c-4892-473d-879b-83f217d17190",
   "metadata": {
    "tags": []
   },
   "outputs": [],
   "source": [
    "#set(sigGenes[\"classical\"]).intersection(set(sigGenes[\"scClassical\"]))"
   ]
  },
  {
   "cell_type": "code",
   "execution_count": null,
   "id": "4bdecfd1-bc88-4564-af06-a5759b219b17",
   "metadata": {
    "tags": []
   },
   "outputs": [],
   "source": [
    "#set(sigGenes[\"scBasal\"]).intersection(set(sigGenes[\"EMT\"]))"
   ]
  },
  {
   "cell_type": "code",
   "execution_count": null,
   "id": "124de91b-3e1e-4fe7-965a-f2916d52a977",
   "metadata": {},
   "outputs": [],
   "source": [
    "#set(sigGenes[\"scClassical\"]).intersection(set(sigGenes[\"EMT\"]))"
   ]
  },
  {
   "cell_type": "code",
   "execution_count": null,
   "id": "6e8b6246-e715-4ba4-80eb-ced988248b1f",
   "metadata": {
    "tags": []
   },
   "outputs": [],
   "source": [
    "scoreNames, newBClabel, ogLabelScoreMe = scoreAndLabel(adata, sigGenes, \n",
    "#                                                            labelOfSigGenes= [\"basal\",\"basal\",\"classical\",\"classical\",\"EMT\"],\n",
    "                                                            labelOfSigGenes= [\"basal\",\"classical\",\"EMT\"],\n",
    "                                                            ogLabel=\"leiden\",\n",
    "                                                            translate=True, fromGenes=humanGenes, toGenes=mouseGenes)\n",
    "\n",
    "sc.pl.umap(adata, color=scoreNames+[\"cellState\"], ncols=4, cmap=\"bwr\")\n"
   ]
  },
  {
   "cell_type": "code",
   "execution_count": null,
   "id": "9aa45f29-5064-44d4-81fe-30d6249b6e55",
   "metadata": {
    "tags": []
   },
   "outputs": [],
   "source": [
    "sc.pl.umap(adata, color=scoreNames+[\"cellState\"],ncols=4,cmap=\"bwr\")"
   ]
  },
  {
   "cell_type": "code",
   "execution_count": null,
   "id": "06d12666-e1a7-4089-9662-7d3dc04fd07b",
   "metadata": {
    "tags": []
   },
   "outputs": [],
   "source": [
    "sc.pl.pca(adata, color=scoreNames+[\"cellState\"],ncols=4,cmap=\"bwr\")"
   ]
  },
  {
   "cell_type": "code",
   "execution_count": null,
   "id": "8ec37b61-a62d-467c-bf2a-5db0679856c4",
   "metadata": {},
   "outputs": [],
   "source": [
    "#sc.pl.heatmap(adata, scoreNames, groupby=\"treatment\", log=True)"
   ]
  },
  {
   "cell_type": "code",
   "execution_count": null,
   "id": "5fa50638-d19a-4431-bc27-a92847cc293f",
   "metadata": {
    "tags": []
   },
   "outputs": [],
   "source": [
    "#sc.tl.leiden(adata, resolution=0.2)\n",
    "sc.pl.umap(adata, color = [\"leiden\",\"cellState\"], legend_loc=\"on data\")"
   ]
  },
  {
   "cell_type": "code",
   "execution_count": null,
   "id": "556ddb8d-42c1-4e6a-acbf-8b1b5abfa8bc",
   "metadata": {},
   "outputs": [],
   "source": [
    "scoreMat = adata.obs[[f\"{sigName}Score\" for sigName in sigGenes.columns]]\n",
    "\n",
    "plotScores(scoreMat,figCols = 2)"
   ]
  },
  {
   "cell_type": "code",
   "execution_count": null,
   "id": "a4ac84fa-bd0d-47c6-b45d-d4168f641339",
   "metadata": {
    "tags": []
   },
   "outputs": [],
   "source": [
    "classLabDict = dict(zip(sigGenes.columns,[\"basal\",\"classical\",\"EMT\"]))#\"basal\",\"classical\",\n",
    "markers = pd.DataFrame(np.empty((200*12,2), dtype=\"object\"), columns=[\"genes\", \"clustName\"])\n",
    "for i,clust in enumerate(sigGenes.columns):\n",
    "    for j,gene in enumerate(sigGenes.index):\n",
    "        gene = sigGenes.loc[gene,clust]\n",
    "        indexOver = np.where(humanGenes == gene)[0]\n",
    "        if indexOver.size > 0:\n",
    "            gene = mouseGenes[indexOver[0]]\n",
    "        markers.iloc[i*200+j] = gene,classLabDict[clust]\n",
    "        \n",
    "markers = markers.dropna()\n",
    "markers"
   ]
  },
  {
   "cell_type": "code",
   "execution_count": null,
   "id": "1b5dd597-c167-4021-8cce-074058f7b6d5",
   "metadata": {
    "tags": []
   },
   "outputs": [],
   "source": [
    "markers = markers.drop_duplicates()\n",
    "markers"
   ]
  },
  {
   "cell_type": "code",
   "execution_count": null,
   "id": "7a209120-6c25-44cd-bdc5-db465e95c5b9",
   "metadata": {},
   "outputs": [],
   "source": [
    "adata"
   ]
  },
  {
   "cell_type": "code",
   "execution_count": null,
   "id": "7b91d52d-5816-4d8e-b0cd-05afab51005c",
   "metadata": {
    "tags": []
   },
   "outputs": [],
   "source": [
    "import decoupler as dc"
   ]
  },
  {
   "cell_type": "code",
   "execution_count": null,
   "id": "036d5c91-98bc-4003-9d6d-e22c8e47547d",
   "metadata": {
    "tags": []
   },
   "outputs": [],
   "source": [
    "dc.run_ora(\n",
    "    mat=adata,\n",
    "    net=markers,\n",
    "    source='clustName',\n",
    "    target='genes',\n",
    "    min_n=3,\n",
    "    verbose=True\n",
    ")"
   ]
  },
  {
   "cell_type": "code",
   "execution_count": null,
   "id": "36dfd3b5-6e43-41c0-83be-38639bf8829c",
   "metadata": {
    "tags": []
   },
   "outputs": [],
   "source": [
    "acts = dc.get_acts(adata, obsm_key='ora_estimate')\n",
    "\n",
    "# We need to remove inf and set them to the maximum value observed for pvals=0\n",
    "acts_v = acts.X.ravel()\n",
    "max_e = np.nanmax(acts_v[np.isfinite(acts_v)])\n",
    "acts.X[~np.isfinite(acts.X)] = max_e\n",
    "\n",
    "acts"
   ]
  },
  {
   "cell_type": "code",
   "execution_count": null,
   "id": "3c3f496b-5fff-449b-9466-afd06a02bb3e",
   "metadata": {
    "tags": []
   },
   "outputs": [],
   "source": [
    "sc.pl.umap(acts, color=scoreNames+['leiden'], cmap='RdBu_r')"
   ]
  },
  {
   "cell_type": "code",
   "execution_count": null,
   "id": "cc97355a-68a7-410f-8107-291aafef3795",
   "metadata": {},
   "outputs": [],
   "source": [
    "sc.pl.violin(acts, keys=scoreNames, groupby='leiden')"
   ]
  },
  {
   "cell_type": "code",
   "execution_count": null,
   "id": "f19a8bee-9ec6-4d9f-a513-9c32fac59ab0",
   "metadata": {
    "scrolled": true,
    "tags": []
   },
   "outputs": [],
   "source": [
    "df = dc.rank_sources_groups(acts, groupby='leiden', reference='rest', method='t-test_overestim_var')\n",
    "df"
   ]
  },
  {
   "cell_type": "code",
   "execution_count": null,
   "id": "2bb7135f-f6e1-4698-8b5b-f0bab70ff21a",
   "metadata": {
    "tags": []
   },
   "outputs": [],
   "source": [
    "n_ctypes = 3\n",
    "ctypes_dict = df.groupby('group').head(n_ctypes).groupby('group')['names'].apply(lambda x: list(x)).to_dict()\n",
    "ctypes_dict"
   ]
  },
  {
   "cell_type": "code",
   "execution_count": null,
   "id": "90335208-e7bf-4202-93a2-2abc02d012a8",
   "metadata": {
    "tags": []
   },
   "outputs": [],
   "source": [
    "#sc.pl.matrixplot(acts, ctypes_dict, 'leiden', dendrogram=True, standard_scale='var',colorbar_title='Z-scaled scores', cmap='RdBu_r')"
   ]
  },
  {
   "cell_type": "code",
   "execution_count": null,
   "id": "73c4e1b1-6fb8-4751-8de6-67e0b55f71d4",
   "metadata": {
    "tags": []
   },
   "outputs": [],
   "source": [
    "annotation_dict = df.groupby('group').head(1).set_index('group')['names'].to_dict()\n",
    "annotation_dict"
   ]
  },
  {
   "cell_type": "code",
   "execution_count": null,
   "id": "8923001a-702c-4745-802c-9d444ddcb204",
   "metadata": {
    "tags": []
   },
   "outputs": [],
   "source": [
    "# Add cell type column based on annotation\n",
    "adata.obs['decoupler'] = [annotation_dict[clust] for clust in adata.obs['leiden']]\n",
    "\n",
    "# Visualize\n",
    "sc.pl.umap(adata, color=['decoupler','cellState', \"leiden\"])"
   ]
  },
  {
   "cell_type": "code",
   "execution_count": null,
   "id": "9e4d0a9d-0a4b-44b9-b045-7ac2bd692b9d",
   "metadata": {},
   "outputs": [],
   "source": [
    "sc.pl.pca(adata, color=[\"leiden\",\"GMM\",\"cellState\"],ncols=4)"
   ]
  },
  {
   "cell_type": "code",
   "execution_count": null,
   "id": "93330209-87ae-4e6c-a6fc-043ef2c633b7",
   "metadata": {
    "tags": []
   },
   "outputs": [],
   "source": [
    "scH.addIndvLabel(adata, [f\"{sigName}Score\" for sigName in sigGenes.columns], obsLabel=\"zsig\", cutoff=-5)"
   ]
  },
  {
   "cell_type": "code",
   "execution_count": null,
   "id": "2ecec802-3e03-4eaa-a94b-ab1b9223f1ce",
   "metadata": {},
   "outputs": [],
   "source": [
    "sc.pl.umap(adata, color=[\"leiden\",\"zsig\"])#, legend_loc=\"on data\")"
   ]
  },
  {
   "cell_type": "code",
   "execution_count": null,
   "id": "d6b0a72a-e176-4ec3-adbd-d19cf19ad538",
   "metadata": {},
   "outputs": [],
   "source": [
    "sc.pl.violin(adata, keys=scoreNames, groupby='leiden')"
   ]
  },
  {
   "cell_type": "code",
   "execution_count": null,
   "id": "94d00001-aefb-4d05-87cc-ea9180c1b813",
   "metadata": {
    "tags": []
   },
   "outputs": [],
   "source": [
    "adata.write(resultsFile)\n",
    "adata"
   ]
  },
  {
   "cell_type": "code",
   "execution_count": null,
   "id": "ff34dd76-c310-4942-9ff9-a0706cd9f179",
   "metadata": {
    "tags": []
   },
   "outputs": [],
   "source": [
    "resultsFile"
   ]
  },
  {
   "cell_type": "code",
   "execution_count": null,
   "id": "359d45c7-a40d-43db-8512-c29def994ded",
   "metadata": {},
   "outputs": [],
   "source": [
    "#adata.obs.treatment"
   ]
  },
  {
   "cell_type": "code",
   "execution_count": null,
   "id": "39cee380-0c4e-4765-a94e-efb8223d9244",
   "metadata": {},
   "outputs": [],
   "source": [
    "#ax=sc.pl.umap(adata,color=['treatment'],groups=['mrtx'], show=False)\n",
    "\n",
    "# We can change the 'NA' in the legend that represents all cells outside of the\n",
    "# specified groups\n",
    "#legend_texts=ax.get_legend().get_texts()\n",
    "# Find legend object whose text is \"NA\" and change it\n",
    "#for legend_text in legend_texts:\n",
    "#    if legend_text.get_text()==\"NA\":\n",
    "#        legend_text.set_text('mtrx')"
   ]
  },
  {
   "cell_type": "code",
   "execution_count": null,
   "id": "371f3d88-c993-405d-936d-a89a949f284d",
   "metadata": {},
   "outputs": [],
   "source": [
    "#sc.pl.umap(acts, color=scoreNames+['leiden'], cmap='RdBu_r')\n",
    "sc.pl.pca(adata, color=scoreNames+[\"leiden\",\"GMM\",\"cellState\"],ncols=4)"
   ]
  },
  {
   "cell_type": "code",
   "execution_count": null,
   "id": "f3c45d05-f5ce-4c9a-a441-db3257e151da",
   "metadata": {},
   "outputs": [],
   "source": [
    "sc.pl.umap(adata, color=scoreNames+[\"leiden\",\"cellState\",\"tdT+\",\"Classification\"],ncols=4)"
   ]
  },
  {
   "cell_type": "code",
   "execution_count": null,
   "id": "dddd1f15-8178-466f-947c-ba256a3946b4",
   "metadata": {},
   "outputs": [],
   "source": [
    "sc.pl.umap(adata, color=[\"leiden\",\"cellState\",\"tdT+\",\"EGFP+\"],ncols=4)"
   ]
  },
  {
   "cell_type": "code",
   "execution_count": null,
   "id": "f195328b-dd9d-4061-aa0b-53bc398c42ba",
   "metadata": {},
   "outputs": [],
   "source": [
    "sc.pl.pca(adata, color=[\"leiden\",\"cellState\",\"tdT+\",\"EGFP+\"],ncols=4)"
   ]
  },
  {
   "cell_type": "code",
   "execution_count": null,
   "id": "c96d08ab-7e1a-44da-961f-495317e4f807",
   "metadata": {},
   "outputs": [],
   "source": [
    "sc.pl.umap(adata, color=scoreNames+[\"cellState\"],ncols=3,cmap=\"bwr\")"
   ]
  },
  {
   "cell_type": "code",
   "execution_count": null,
   "id": "92e755b5-1744-496b-a959-236a28e71901",
   "metadata": {},
   "outputs": [],
   "source": [
    "sc.pl.pca(adata, color=scoreNames+[\"cellState\"],ncols=3,cmap=\"bwr\")"
   ]
  },
  {
   "cell_type": "markdown",
   "id": "2d3c0a5f-10f9-4bf7-b003-1bdfdc7d69b5",
   "metadata": {},
   "source": [
    "drug treated shoudl have EGFP in only classcial"
   ]
  },
  {
   "cell_type": "code",
   "execution_count": null,
   "id": "722f47b2-828d-47c3-b800-44de0ae81985",
   "metadata": {},
   "outputs": [],
   "source": [
    "treatColor = {\"veh\":1,\"mrtx\":0}\n",
    "treatColors = [adata.uns[\"treatment_colors\"][treatColor[i]] for i in adata.obs[\"treatment\"]]"
   ]
  },
  {
   "cell_type": "code",
   "execution_count": null,
   "id": "6558a654-0612-4196-b848-3beff5192ef4",
   "metadata": {},
   "outputs": [],
   "source": [
    "plt.scatter(adata.obs[\"scClassicalScore\"],adata.obs[\"scBasalScore\"], c=treatColors)"
   ]
  },
  {
   "cell_type": "code",
   "execution_count": null,
   "id": "137a949a-d585-4848-992d-adf298546dce",
   "metadata": {},
   "outputs": [],
   "source": [
    "sc.pl.violin(adata, keys=scoreNames, groupby=\"treatment\")"
   ]
  },
  {
   "cell_type": "code",
   "execution_count": null,
   "id": "420ee8bc-4db7-490c-ac9e-82b1844933fe",
   "metadata": {},
   "outputs": [],
   "source": [
    "resultsFile"
   ]
  },
  {
   "cell_type": "code",
   "execution_count": null,
   "id": "c9d5fb3a-5b2a-4756-b669-583218bd2fd3",
   "metadata": {},
   "outputs": [],
   "source": [
    "adata.write(resultsFile)"
   ]
  },
  {
   "cell_type": "code",
   "execution_count": null,
   "id": "6133b2b6-8317-47b0-8dad-e468e7a32dae",
   "metadata": {},
   "outputs": [],
   "source": [
    "adata = sc.read(resultsFile)"
   ]
  },
  {
   "cell_type": "code",
   "execution_count": null,
   "id": "fa0bf07c-f25e-4b38-afc8-ce3ab7738675",
   "metadata": {},
   "outputs": [],
   "source": []
  },
  {
   "cell_type": "code",
   "execution_count": null,
   "id": "3f825049-0ab9-452b-85ce-fbd062b8e850",
   "metadata": {},
   "outputs": [],
   "source": [
    "qcdata = sc.read_h5ad(resultsFileQC)\n",
    "print(sum(qcdata.X.todense()))\n",
    "\n",
    "rdata = adata.raw.to_adata()\n",
    "\n",
    "qcdata = qcdata[rdata.obs_names,:]\n",
    "rdata.layers[\"counts\"] = qcdata.X.copy()\n",
    "rdata.obs[\"cs\"] = rdata.obs.cellState\n",
    "rdata.obs = rdata.obs[['leiden','cs']]\n",
    "rdata.write('write/pdacMouseVeh_Labeled.h5ad')\n",
    "rdata"
   ]
  },
  {
   "cell_type": "code",
   "execution_count": null,
   "id": "d48e9e46-0b9a-4a1a-a466-34efcd16ca37",
   "metadata": {},
   "outputs": [],
   "source": [
    "adata"
   ]
  },
  {
   "cell_type": "code",
   "execution_count": null,
   "id": "a6df1b2a-4cc0-4652-9a65-e27f1662cd0d",
   "metadata": {},
   "outputs": [],
   "source": []
  },
  {
   "cell_type": "code",
   "execution_count": null,
   "id": "b5113435-f2b9-45bc-9950-bcd27a73c641",
   "metadata": {},
   "outputs": [],
   "source": []
  }
 ],
 "metadata": {
  "kernelspec": {
   "display_name": "Python 3 (ipykernel)",
   "language": "python",
   "name": "python3"
  },
  "language_info": {
   "codemirror_mode": {
    "name": "ipython",
    "version": 3
   },
   "file_extension": ".py",
   "mimetype": "text/x-python",
   "name": "python",
   "nbconvert_exporter": "python",
   "pygments_lexer": "ipython3",
   "version": "3.8.16"
  }
 },
 "nbformat": 4,
 "nbformat_minor": 5
}
