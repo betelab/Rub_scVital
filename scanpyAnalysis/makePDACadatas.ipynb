{
 "cells": [
  {
   "cell_type": "code",
   "execution_count": null,
   "id": "51d40631-7996-4b2f-bc4e-452788557c90",
   "metadata": {},
   "outputs": [],
   "source": []
  },
  {
   "cell_type": "code",
   "execution_count": null,
   "id": "ac400692-df8e-4719-83bd-352ec2080901",
   "metadata": {
    "tags": []
   },
   "outputs": [],
   "source": [
    "import os\n",
    "import numpy as np\n",
    "import pandas as pd\n",
    "import scanpy as sc\n",
    "import anndata as ad\n",
    "from matplotlib import pyplot as plt\n",
    "import scipy as si\n",
    "import scanpyHelpers as scH"
   ]
  },
  {
   "cell_type": "code",
   "execution_count": null,
   "id": "9a3108e7-e050-4084-b973-85ecb057fc8b",
   "metadata": {
    "tags": []
   },
   "outputs": [],
   "source": [
    "writeDir = \"write\"\n",
    "tissue = \"pdac\"\n",
    "\n",
    "dictLab = [\"species\",\"adataName\"]\n",
    "dataDicts = {\"mou\":dict(zip(dictLab, [\"mouse\",f'{writeDir}/{tissue}Mouse'])),\n",
    "             \"veh\":dict(zip(dictLab, [\"mouse\",f'{writeDir}/{tissue}MouseVeh'])),\n",
    "             \"pdx\":dict(zip(dictLab, [\"human\",f'{writeDir}/{tissue}PdxVeh'])),\n",
    "             \"hum\":dict(zip(dictLab, [\"human\",f'{writeDir}/{tissue}Human'])),\n",
    "             #\"met\":dict(zip(dictLab, [\"human\",f'{writeDir}/{tissue}HumanMet'])),\n",
    "             #\"org\":dict(zip(dictLab, [\"human\",f'{writeDir}/{tissue}Organoid'])),\n",
    "             \"hwa\":dict(zip(dictLab, [\"human\",f'{writeDir}/{tissue}Hwang'])),\n",
    "             \"lin\":dict(zip(dictLab, [\"human\",f'{writeDir}/{tissue}Lin']))\n",
    "            }\n",
    "\n",
    "mergedAdataFileQC = f'{writeDir}/{tissue}mouseHumanVehHwangLin_QC.h5ad'\n",
    "mergedAdataFile = f'{writeDir}/{tissue}mouseHumanVehHwangLin.h5ad'\n",
    "\n",
    "homologyFile = \"data/hgncHM_121.csv\""
   ]
  },
  {
   "cell_type": "code",
   "execution_count": null,
   "id": "b595702c-475f-4724-8a02-f0f16b75c23a",
   "metadata": {
    "tags": []
   },
   "outputs": [],
   "source": [
    "homology = pd.read_table(homologyFile, sep=\",\")\n",
    "homology"
   ]
  },
  {
   "cell_type": "code",
   "execution_count": null,
   "id": "2ee266e1-95dd-4ec8-9261-15171f3c0462",
   "metadata": {},
   "outputs": [],
   "source": [
    "sigFile = \"data/PDAC/basClaSigGenes.csv\"\n",
    "sigGenes = pd.read_csv(sigFile)\n",
    "sigGenes\n",
    "humanList =  list(homology[\"human\"])\n",
    "for i in sigGenes.index:\n",
    "    for j in sigGenes.columns:\n",
    "        if sigGenes.loc[i,j] in humanList:\n",
    "            sigGenes.loc[i,j] = f'{homology[\"mouse\"][humanList.index(sigGenes.loc[i,j])]}/{sigGenes.loc[i,j]}'\n",
    "sigGenes = sigGenes[[\"scBasal\",\"scClassical\",\"EMT\"]]\n",
    "sigGenes"
   ]
  },
  {
   "cell_type": "code",
   "execution_count": null,
   "id": "df125f5f-9668-4864-8247-62be145a2e9a",
   "metadata": {
    "tags": []
   },
   "outputs": [],
   "source": [
    "def getAdata(adataFile, neededObs):\n",
    "    adata = sc.read_h5ad(adataFile+\"_QC.h5ad\")\n",
    "    adataPost = sc.read_h5ad(adataFile+\".h5ad\")\n",
    "    #import pdb; pdb.set_trace()\n",
    "    #adata = adata[adataPost.obs_names,:]\n",
    "    adata = adata[list(set(adata.obs_names).intersection(set(adataPost.obs_names))),:]\n",
    "    adata.obs[neededObs] = adataPost.obs[neededObs].copy()\n",
    "    adata.layers[\"counts\"] = adata.X.copy()\n",
    "    #adata.obs[\"sample\"] = adata.obs[\"Classification\"].copy()\n",
    "    return(adata)\n",
    "\n",
    "def getNormAdata(adataFile, neededObs):\n",
    "    adata = getAdata(adataFile, neededObs)\n",
    "    sc.pp.normalize_total(adata, target_sum=1e4)#,exclude_highly_expressed=True)#\n",
    "    sc.pp.log1p(adata)\n",
    "    return adata"
   ]
  },
  {
   "cell_type": "code",
   "execution_count": null,
   "id": "2ca99069-9c4f-4be0-b772-ba97fcc03d2d",
   "metadata": {
    "scrolled": true,
    "tags": []
   },
   "outputs": [],
   "source": [
    "geneSpecDict = []\n",
    "adatas = []\n",
    "for datakey in dataDicts.keys():\n",
    "    print(datakey)\n",
    "    adata = getNormAdata(dataDicts[datakey][\"adataName\"], [])\n",
    "    geneSpecDict.append({\"genes\":np.array(adata.var_names.copy()),\"species\":dataDicts[datakey][\"species\"]})\n",
    "    adatas.append(adata)\n",
    "\n",
    "geneSpecDict"
   ]
  },
  {
   "cell_type": "code",
   "execution_count": null,
   "id": "446ee433-a09b-4489-905e-050fa16ddad2",
   "metadata": {},
   "outputs": [],
   "source": [
    "scH.getOverlapGenesMulti(homology, geneSpecDict)"
   ]
  },
  {
   "cell_type": "code",
   "execution_count": null,
   "id": "f2b97bc2-411d-4dad-b1b7-e2a6d30f4ba6",
   "metadata": {},
   "outputs": [],
   "source": [
    "for i,genesDict in enumerate(geneSpecDict):\n",
    "    adatas[i].var_names = genesDict[\"genes\"]"
   ]
  },
  {
   "cell_type": "code",
   "execution_count": null,
   "id": "fa483f5a-e740-4bd4-9608-2419fe09f1bc",
   "metadata": {},
   "outputs": [],
   "source": [
    "adata = ad.concat(adatas, join=\"outer\", label=\"dataset\", keys=dataDicts.keys(), fill_value=0)\n",
    "adata.obs_names_make_unique()"
   ]
  },
  {
   "cell_type": "code",
   "execution_count": null,
   "id": "dcacad16-1ec7-426e-b48e-5682fedb3533",
   "metadata": {},
   "outputs": [],
   "source": [
    "adata"
   ]
  },
  {
   "cell_type": "code",
   "execution_count": null,
   "id": "db5a3c60-90b9-4289-afc5-b97765a1f7ac",
   "metadata": {
    "tags": []
   },
   "outputs": [],
   "source": [
    "labels = np.empty(len(adata.obs_names), dtype=\"object\")\n",
    "for i, cell in enumerate(adata.obs_names):\n",
    "    sample, classif, label = adata.obs.loc[cell,[\"sample\",\"Classification\",\"dataset\"]]\n",
    "    if(not pd.isna(classif)):\n",
    "        spliton = \"_\"\n",
    "        if \"-\" in classif:\n",
    "             spliton = \"-\"\n",
    "        label=classif.split(spliton)[0]\n",
    "    elif(not pd.isna(sample)):\n",
    "        label=sample\n",
    "    labels[i] = label\n",
    "adata.obs = adata.obs[[\"sample\",\"Classification\",'dataset']]\n",
    "adata.obs[\"species\"] = [\"mouse\" if lab==\"mou\" else \"human\" for lab in adata.obs.dataset]\n",
    "adata.obs[\"label\"] = labels   \n",
    "adata = adata[np.logical_not([\"MET\" in lab for lab in adata.obs.label])]\n",
    "adata.obs"
   ]
  },
  {
   "cell_type": "code",
   "execution_count": null,
   "id": "c76af046-2b08-4105-b035-c0a0584f8002",
   "metadata": {},
   "outputs": [],
   "source": [
    "adata.write(mergedAdataFileQC)"
   ]
  },
  {
   "cell_type": "code",
   "execution_count": null,
   "id": "d59d5df4-d1fb-4a54-a84a-69d4557439fb",
   "metadata": {},
   "outputs": [],
   "source": [
    "from collections import Counter\n",
    "Counter(adata.obs.dataset)"
   ]
  },
  {
   "cell_type": "code",
   "execution_count": null,
   "id": "d3052cfc-28ee-4f5e-9510-87822d79025a",
   "metadata": {},
   "outputs": [],
   "source": [
    "Counter(adata.obs.Classification)"
   ]
  },
  {
   "cell_type": "code",
   "execution_count": null,
   "id": "4cbba6fc-622f-4ba4-b81d-ce955e810667",
   "metadata": {},
   "outputs": [],
   "source": [
    "['U2','U9','U11','U15','U3','U12','U18','U14','U6','U16','U13','U4','U7','P10','U5','U10']"
   ]
  },
  {
   "cell_type": "code",
   "execution_count": null,
   "id": "f82bb5ed-691d-41bc-a036-8f2457eeca39",
   "metadata": {
    "tags": []
   },
   "outputs": [],
   "source": [
    "datasetLabels = ['hwa','hum','lin','veh','pdx']\n",
    "patientLabels = ['U2','U9','U11','U15','U3','U12','U18','U14','U6','U16','U13','U4','U7','P10','U5','U10']\n",
    "for dlabel in datasetLabels:\n",
    "    print(dlabel, \"mou\")\n",
    "for plabel in patientLabels:\n",
    "    print(plabel, \"mou\")"
   ]
  },
  {
   "cell_type": "code",
   "execution_count": null,
   "id": "feb881dc-5747-4b17-9431-bd3fd30d14a6",
   "metadata": {},
   "outputs": [],
   "source": [
    "adata = sc.read_h5ad(mergedAdataFileQC)\n",
    "adata"
   ]
  },
  {
   "cell_type": "code",
   "execution_count": null,
   "id": "f703f054-2e73-4c9b-a317-b6f6697e0b29",
   "metadata": {
    "tags": []
   },
   "outputs": [],
   "source": [
    "batchKey = \"dataset\"\n",
    "cellTypeKey = \"gmmClass\""
   ]
  },
  {
   "cell_type": "code",
   "execution_count": null,
   "id": "dfce724e-4a38-4892-9470-c8d02cb44e26",
   "metadata": {
    "scrolled": true
   },
   "outputs": [],
   "source": [
    "plabel = \"mou\"\n",
    "adata = sc.read_h5ad(mergedAdataFileQC)\n",
    "adata = adata[adata.obs[\"label\"] == plabel]\n",
    "sc.pp.highly_variable_genes(adata, batch_key=batchKey, flavor=\"seurat\", n_top_genes=2500)\n",
    "adata.var['mt'] = adata.var_names.str.startswith('mt-') \n",
    "adata.raw = adata\n",
    "mouseRawCounts = adata.layers[\"counts\"]\n",
    "adata = adata[:, np.logical_and(adata.var.highly_variable, np.logical_not(adata.var.mt))]\n",
    "sc.tl.pca(adata, n_comps = 100, svd_solver='arpack')\n",
    "sc.pp.neighbors(adata, n_neighbors=20, n_pcs=60)\n",
    "sc.tl.umap(adata)\n",
    "sc.tl.leiden(adata, resolution=0.2)\n",
    "\n",
    "scoreNames, newBClabel, ogLabelScoreMed = scH.scoreAndLabel(adata, sigGenes, labelOfSigGenes= sigGenes.columns, ogLabel=\"leiden\", translate=False)\n",
    "gmmClass = scH.gmmScoreGeneSig(adata.obs[scoreNames],show=False)\n",
    "adata.obs[cellTypeKey] = [ f\"{x}_{plabel}\" if(x == \"Negative\") else x for x in gmmClass]\n",
    "\n",
    "sc.pl.umap(adata, color=[\"leiden\",cellTypeKey,batchKey,\"species\"]+scoreNames,ncols=4)\n",
    "adataM = adata"
   ]
  },
  {
   "cell_type": "code",
   "execution_count": null,
   "id": "fdd9e134-a189-48fb-bfb9-e111fa208801",
   "metadata": {},
   "outputs": [],
   "source": [
    "adataMo = adataM.raw.to_adata()\n",
    "adataMo.obs_names_make_unique()\n",
    "adataMo.layers[\"counts\"] = mouseRawCounts\n",
    "ad.concat([adataMo,adataMo], join=\"outer\", fill_value=0)"
   ]
  },
  {
   "cell_type": "code",
   "execution_count": null,
   "id": "e523d696-3ee0-4a19-b1d4-066045c9c5d5",
   "metadata": {
    "scrolled": true
   },
   "outputs": [],
   "source": [
    "dAdatas = np.empty(len(datasetLabels),dtype=\"object\")\n",
    "dRawCounts = np.empty(len(datasetLabels),dtype=\"object\")\n",
    "\n",
    "for i,dlabel in enumerate(datasetLabels):\n",
    "    adata = sc.read_h5ad(mergedAdataFileQC)\n",
    "    adata = adata[adata.obs[\"dataset\"] == dlabel]\n",
    "    sc.pp.highly_variable_genes(adata, batch_key=batchKey, flavor=\"seurat\", n_top_genes=2500)\n",
    "    adata.var['mt'] = adata.var_names.str.startswith('mt-') \n",
    "    adata.raw = adata\n",
    "    dRawCounts[i] = adata.layers[\"counts\"]\n",
    "    \n",
    "    adata = adata[:, np.logical_and(adata.var.highly_variable, np.logical_not(adata.var.mt))]\n",
    "    sc.tl.pca(adata, n_comps = 100, svd_solver='arpack')\n",
    "    sc.pp.neighbors(adata, n_neighbors=20, n_pcs=60)\n",
    "    sc.tl.umap(adata)\n",
    "    sc.tl.leiden(adata, resolution=0.2)\n",
    "    \n",
    "    scoreNames, newBClabel, ogLabelScoreMed = scH.scoreAndLabel(adata, sigGenes, labelOfSigGenes= sigGenes.columns, ogLabel=\"leiden\", translate=False)\n",
    "    gmmClass = scH.gmmScoreGeneSig(adata.obs[scoreNames],show=False)\n",
    "    adata.obs[cellTypeKey] = [ f\"{x}_{dlabel}\" if(x == \"Negative\") else x for x in gmmClass]\n",
    "    \n",
    "    sc.pl.umap(adata, color=[\"leiden\",cellTypeKey,batchKey,\"species\"]+scoreNames,ncols=4)\n",
    "    dAdatas[i] = adata\n",
    "\n",
    "adataA = ad.concat([adataM.raw.to_adata(),\n",
    "                    dAdatas[0].raw.to_adata(),\n",
    "                    dAdatas[1].raw.to_adata(),\n",
    "                    dAdatas[2].raw.to_adata(),\n",
    "                    dAdatas[3].raw.to_adata(),\n",
    "                    dAdatas[4].raw.to_adata()], join=\"outer\", fill_value=0)\n",
    "adataA.layers[\"counts\"] = si.sparse.vstack([mouseRawCounts]+list(dRawCounts))\n",
    "sc.pp.highly_variable_genes(adataA, batch_key=batchKey, flavor=\"seurat\", n_top_genes=2500)\n",
    "adataA.var['mt'] = adata.var_names.str.startswith('mt-') \n",
    "adataA.raw = adataA\n",
    "adataA = adataA[:, np.logical_and(adataA.var.highly_variable, np.logical_not(adataA.var.mt))]\n",
    "\n",
    "for i,dAdata in enumerate(dAdatas):\n",
    "    adataMo = adataM.raw.to_adata()\n",
    "    adataMo.layers[\"counts\"] = mouseRawCounts\n",
    "    \n",
    "    adataDa = dAdata.raw.to_adata()\n",
    "    adataDa.layers[\"counts\"] = dRawCounts[i]\n",
    "    adata = ad.concat([adataMo,adataDa], join=\"outer\", fill_value=0)\n",
    "    \n",
    "    sc.pp.highly_variable_genes(adata, batch_key=batchKey, flavor=\"seurat\", n_top_genes=2500)\n",
    "    adata.var['mt'] = adata.var_names.str.startswith('mt-') \n",
    "    adata.raw = adata\n",
    "    adata = adata[:, np.logical_and(adata.var.highly_variable, np.logical_not(adata.var.mt))]\n",
    "    sc.tl.pca(adata, n_comps = 100, svd_solver='arpack')\n",
    "    sc.pp.neighbors(adata, n_neighbors=20, n_pcs=60)\n",
    "    sc.tl.umap(adata)\n",
    "    sc.tl.leiden(adata, resolution=0.2)\n",
    "    sc.pl.umap(adata, color=[\"leiden\",cellTypeKey,batchKey,\"species\"],ncols=4)\n",
    "    labelName = datasetLabels[i]\n",
    "    if(\"_\" in labelName):\n",
    "        labelName = labelName.split(\"_\")[0]\n",
    "    adata.write(f\"write/pdacAdatas/PdacMouseHuman{labelName}.h5ad\")\n",
    "    dAdatas[i] = adata\n",
    "    print(adata)"
   ]
  },
  {
   "cell_type": "code",
   "execution_count": null,
   "id": "729d3953-2b20-48e0-8d50-28570f3b287f",
   "metadata": {
    "scrolled": true
   },
   "outputs": [],
   "source": [
    "pAdatas = np.empty(len(patientLabels),dtype=\"object\")\n",
    "pRawCounts = np.empty(len(patientLabels),dtype=\"object\")\n",
    "\n",
    "for i,plabel in enumerate(patientLabels):\n",
    "    adata = sc.read_h5ad(mergedAdataFileQC)\n",
    "    adata = adata[adata.obs[\"label\"] == plabel]\n",
    "    sc.pp.highly_variable_genes(adata, batch_key=batchKey, flavor=\"seurat\", n_top_genes=2500)\n",
    "    adata.var['mt'] = adata.var_names.str.startswith('mt-') \n",
    "    adata.raw = adata\n",
    "    pRawCounts[i] = adata.layers[\"counts\"]\n",
    "\n",
    "    adata = adata[:, np.logical_and(adata.var.highly_variable, np.logical_not(adata.var.mt))]\n",
    "    sc.tl.pca(adata, n_comps = 100, svd_solver='arpack')\n",
    "    sc.pp.neighbors(adata, n_neighbors=20, n_pcs=60)\n",
    "    sc.tl.umap(adata)\n",
    "    sc.tl.leiden(adata, resolution=0.2)\n",
    "    \n",
    "    scoreNames, newBClabel, ogLabelScoreMed = scH.scoreAndLabel(adata, sigGenes, labelOfSigGenes= sigGenes.columns, ogLabel=\"leiden\", translate=False)\n",
    "    gmmClass = scH.gmmScoreGeneSig(adata.obs[scoreNames],show=False)\n",
    "    adata.obs[cellTypeKey] = [ f\"{x}_{plabel}\" if(x == \"Negative\") else x for x in gmmClass]\n",
    "    \n",
    "    sc.pl.umap(adata, color=[\"leiden\",cellTypeKey,batchKey,\"species\"]+scoreNames,ncols=4)\n",
    "    pAdatas[i] = adata\n",
    "\n",
    "for i,pAdata in enumerate(pAdatas):\n",
    "    adataMo = adataM.raw.to_adata()\n",
    "    adataMo.layers[\"counts\"] = mouseRawCounts\n",
    "    \n",
    "    adataPa = pAdata.raw.to_adata()\n",
    "    adataPa.layers[\"counts\"] = pRawCounts[i]\n",
    "    adata = ad.concat([adataMo,adataPa], join=\"outer\", fill_value=0)\n",
    "    \n",
    "    sc.pp.highly_variable_genes(adata, batch_key=batchKey, flavor=\"seurat\", n_top_genes=2500)\n",
    "    adata.var['mt'] = adata.var_names.str.startswith('mt-') \n",
    "    adata.raw = adata\n",
    "    adata = adata[:, np.logical_and(adata.var.highly_variable, np.logical_not(adata.var.mt))]\n",
    "    sc.tl.pca(adata, n_comps = 100, svd_solver='arpack')\n",
    "    sc.pp.neighbors(adata, n_neighbors=20, n_pcs=60)\n",
    "    sc.tl.umap(adata)\n",
    "    sc.tl.leiden(adata, resolution=0.2)\n",
    "    sc.pl.umap(adata, color=[\"leiden\",cellTypeKey,batchKey,\"species\"],ncols=4)\n",
    "    labelName = patientLabels[i]\n",
    "    if(\"_\" in labelName):\n",
    "        labelName = labelName.split(\"_\")[0]\n",
    "    adata.write(f\"write/pdacAdatas/PdacMouseHuman{labelName}.h5ad\")\n",
    "    pAdatas[i] = adata\n",
    "    print(adata)"
   ]
  },
  {
   "cell_type": "code",
   "execution_count": null,
   "id": "a14cefa4-4dab-48cd-ad6c-1f7db387c579",
   "metadata": {},
   "outputs": [],
   "source": [
    "adataA.write(f\"write/pdacAdatas/PdacMouseHumanALL.h5ad\")"
   ]
  },
  {
   "cell_type": "code",
   "execution_count": null,
   "id": "f20694ed-662a-4de1-9907-b3167375c004",
   "metadata": {},
   "outputs": [],
   "source": [
    "print(\"filename,batchSize,numEpoch,learningRate,inLayerDims,lastLayer,inDiscLayer,reconCoef,klCoef,discCoef,batchName,cellName,res\")\n",
    "print(f\"PdacMouseHumanALL,128,128,1e-5,1024-128,10,5,15,1e-1,1,{batchKey},{cellTypeKey},4e-1\")\n",
    "for dLabel in datasetLabels:\n",
    "    print(f\"PdacMouseHuman{dLabel},128,128,1e-5,1024-128,10,5,15,1e-1,1,{batchKey},{cellTypeKey},4e-1\")\n",
    "for pLabel in patientLabels:\n",
    "    print(f\"PdacMouseHuman{pLabel},128,128,1e-5,1024-128,10,5,15,1e-1,1,{batchKey},{cellTypeKey},4e-1\")"
   ]
  },
  {
   "cell_type": "code",
   "execution_count": null,
   "id": "052f7091-3f70-4e39-b446-f536a911c646",
   "metadata": {},
   "outputs": [],
   "source": []
  },
  {
   "cell_type": "code",
   "execution_count": null,
   "id": "db9c9886-a2df-4e32-a2b3-d16debc4b9b3",
   "metadata": {},
   "outputs": [],
   "source": []
  }
 ],
 "metadata": {
  "kernelspec": {
   "display_name": "Python 3 (ipykernel)",
   "language": "python",
   "name": "python3"
  },
  "language_info": {
   "codemirror_mode": {
    "name": "ipython",
    "version": 3
   },
   "file_extension": ".py",
   "mimetype": "text/x-python",
   "name": "python",
   "nbconvert_exporter": "python",
   "pygments_lexer": "ipython3",
   "version": "3.8.16"
  }
 },
 "nbformat": 4,
 "nbformat_minor": 5
}
