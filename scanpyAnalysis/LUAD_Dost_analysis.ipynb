{
 "cells": [
  {
   "cell_type": "code",
   "execution_count": null,
   "id": "425c36fc-f0af-4c76-93d7-cf512d943577",
   "metadata": {},
   "outputs": [],
   "source": []
  },
  {
   "cell_type": "code",
   "execution_count": null,
   "id": "252d89ce-66b2-430f-abb7-5c91d66b7d3f",
   "metadata": {},
   "outputs": [],
   "source": [
    "import numpy as np\n",
    "import pandas as pd\n",
    "import scanpy as sc\n",
    "import scipy.io\n",
    "import scanpy.external as scex\n",
    "import sklearn.metrics\n",
    "import seaborn as sns\n",
    "from matplotlib import pyplot as plt\n",
    "import scanpyHelpers as scH\n"
   ]
  },
  {
   "cell_type": "code",
   "execution_count": null,
   "id": "645d8750-2a93-49ed-9a60-40d01fa7eb0e",
   "metadata": {},
   "outputs": [],
   "source": [
    "#adata=sc.read(results_file_post)\n",
    "#adata.uns['log1p'] = {\"base\":None}"
   ]
  },
  {
   "cell_type": "markdown",
   "id": "139dcda2-4b50-45aa-85e8-663e70a74cb6",
   "metadata": {},
   "source": [
    "Set up out properties"
   ]
  },
  {
   "cell_type": "code",
   "execution_count": null,
   "id": "304826fc-ac59-4d76-a655-1f93f7bcdd6e",
   "metadata": {
    "scrolled": true,
    "tags": []
   },
   "outputs": [],
   "source": [
    "sc.settings.verbosity = 3             # verbosity: errors (0), warnings (1), info (2), hints (3)\n",
    "sc.logging.print_header()\n",
    "sc.settings.set_figure_params(dpi=80, facecolor='white')"
   ]
  },
  {
   "cell_type": "code",
   "execution_count": null,
   "id": "a3958527-8b39-4c29-9163-eee788c190cf",
   "metadata": {},
   "outputs": [],
   "source": [
    "%matplotlib inline"
   ]
  },
  {
   "cell_type": "markdown",
   "id": "968566a5-e27e-43f5-8cb2-b935b5a12dd7",
   "metadata": {},
   "source": [
    "Set scanpy out-files"
   ]
  },
  {
   "cell_type": "code",
   "execution_count": null,
   "id": "c4675a44-ce4a-4f38-b04a-66c4fc2e0bb4",
   "metadata": {},
   "outputs": [],
   "source": [
    "writeDir = \"write/\"\n",
    "\n",
    "fileName = \"luadDost\"\n",
    "\n",
    "resultsFile = writeDir + fileName + '.h5ad'       # final output\n",
    "resultsFileQC = writeDir + fileName + '_QC.h5ad'  # post QC (pre-analysis) "
   ]
  },
  {
   "cell_type": "markdown",
   "id": "77696e51-c2b5-4a05-964f-d52840995ce1",
   "metadata": {
    "tags": []
   },
   "source": [
    "Set figure parameters"
   ]
  },
  {
   "cell_type": "code",
   "execution_count": null,
   "id": "e50cffba-ab13-40fe-b978-c525fb1db4a5",
   "metadata": {
    "tags": []
   },
   "outputs": [],
   "source": [
    "sc.set_figure_params(scanpy=True, dpi=100, dpi_save=150, fontsize=10, format='png')\n",
    "sc.settings.figdir = \"figures/\" + fileName + \"/\"\n",
    "figName = fileName"
   ]
  },
  {
   "cell_type": "code",
   "execution_count": null,
   "id": "83f3aa4e-f800-488a-b41e-0443986c9415",
   "metadata": {
    "tags": []
   },
   "outputs": [],
   "source": [
    "adata = sc.read_h5ad(resultsFileQC)\n",
    "adata"
   ]
  },
  {
   "cell_type": "code",
   "execution_count": null,
   "id": "a1d84351-78f1-4978-b88e-f1f08e270cb4",
   "metadata": {},
   "outputs": [],
   "source": [
    "adata = adata[adata.obs.source==\"1\"]"
   ]
  },
  {
   "cell_type": "code",
   "execution_count": null,
   "id": "d01530e1-6133-4113-aad5-c5d768aba82a",
   "metadata": {},
   "outputs": [],
   "source": [
    "sc.pp.normalize_total(adata,target_sum=1e4)"
   ]
  },
  {
   "cell_type": "code",
   "execution_count": null,
   "id": "7c826e38-bb29-4e00-933a-55b59581a5d9",
   "metadata": {},
   "outputs": [],
   "source": [
    "sc.pp.log1p(adata)"
   ]
  },
  {
   "cell_type": "code",
   "execution_count": null,
   "id": "81fe9223-7eac-46a7-8321-b718e726830a",
   "metadata": {},
   "outputs": [],
   "source": [
    "sc.pp.highly_variable_genes(adata)#, flavor = \"seurat\", n_top_genes=2000)"
   ]
  },
  {
   "cell_type": "code",
   "execution_count": null,
   "id": "43902dc2-466e-46e2-9f31-4deb304db630",
   "metadata": {},
   "outputs": [],
   "source": [
    "minMean = 0.075\n",
    "maxMean = 2.7\n",
    "minDisp = 0.65\n",
    "\n",
    "fig, axs = plt.subplots(1, 2, figsize=(10, 5))\n",
    "\n",
    "means = adata.var[[\"means\"]][adata.var[[\"means\"]] > np.exp(-14)]#adata.var[[\"means\"]],\n",
    "axs[0].hist(np.log(means), bins=100)#, log=True),\n",
    "axs[0].axvline(np.log(minMean), color='k', linestyle='dashed', linewidth=1)\n",
    "axs[0].axvline(np.log(maxMean), color='k', linestyle='dashed', linewidth=1)\n",
    "axs[0].set_title('Gene means counts')\n",
    "axs[0].set_xlabel('means')\n",
    "axs[0].set_ylabel('counts')\n",
    "\n",
    "dispNorm = adata.var[[\"dispersions_norm\"]][adata.var[[\"dispersions_norm\"]] > np.exp(-5)]#adata.var[[\"means\"]],\n",
    "axs[1].hist(np.log(dispNorm), bins=100)#, log=True),\n",
    "axs[1].axvline(np.log(minDisp), color='k', linestyle='dashed', linewidth=1)\n",
    "axs[1].set_title('Gene dispersions counts')\n",
    "axs[1].set_xlabel('dispersions')\n",
    "axs[1].set_ylabel('counts')\n",
    "\n",
    "sc.pp.highly_variable_genes(adata, min_disp=minDisp, min_mean=minMean, max_mean=maxMean)\n",
    "print(sum(adata.var.highly_variable))"
   ]
  },
  {
   "cell_type": "code",
   "execution_count": null,
   "id": "8cda0b69-f64e-447a-961a-7c50fe8e5bf0",
   "metadata": {},
   "outputs": [],
   "source": [
    "sc.pl.highly_variable_genes(adata)"
   ]
  },
  {
   "cell_type": "code",
   "execution_count": null,
   "id": "325e82de-43f6-4934-a6a6-50ddf02a94a8",
   "metadata": {},
   "outputs": [],
   "source": [
    "#for inGene in adata.var[-8:].index.tolist():\n",
    "#    adata.var.loc[inGene,\"highly_variable\"] = False"
   ]
  },
  {
   "cell_type": "code",
   "execution_count": null,
   "id": "7a1143eb-b1f7-40ef-9a85-d6be0051667a",
   "metadata": {},
   "outputs": [],
   "source": [
    "adata.raw = adata"
   ]
  },
  {
   "cell_type": "code",
   "execution_count": null,
   "id": "5e2861e5-09c6-4a19-bb72-62a238c47a79",
   "metadata": {},
   "outputs": [],
   "source": [
    "#adata = adata[:, adata.var.highly_variable]\n",
    "adata = adata[:, np.logical_and(adata.var.highly_variable, np.logical_not(adata.var.mt))]"
   ]
  },
  {
   "cell_type": "code",
   "execution_count": null,
   "id": "673c60dc-7028-48e2-9ccf-9b5ae45934d1",
   "metadata": {},
   "outputs": [],
   "source": [
    "#sc.pp.regress_out(adata, ['total_counts', 'pct_counts_mt'])"
   ]
  },
  {
   "cell_type": "code",
   "execution_count": null,
   "id": "5440f444-9bf6-40bf-8267-3ff16acfab39",
   "metadata": {},
   "outputs": [],
   "source": [
    "#sc.pp.scale(adata, max_value=10)"
   ]
  },
  {
   "cell_type": "code",
   "execution_count": null,
   "id": "8935337f-dc02-4347-9bf1-6057d1c1a8e7",
   "metadata": {},
   "outputs": [],
   "source": [
    "sc.tl.pca(adata, n_comps = 100, svd_solver='arpack')"
   ]
  },
  {
   "cell_type": "code",
   "execution_count": null,
   "id": "ffcfea62-8864-4bdc-8d44-2c5bd56b7f42",
   "metadata": {},
   "outputs": [],
   "source": [
    "sc.pl.pca_variance_ratio(adata, n_pcs = 100, log=True)"
   ]
  },
  {
   "cell_type": "code",
   "execution_count": null,
   "id": "f694d1da-e616-48ba-8c66-c97008df6acc",
   "metadata": {},
   "outputs": [],
   "source": [
    "sc.pl.pca_variance_ratio(adata, n_pcs = 100)"
   ]
  },
  {
   "cell_type": "code",
   "execution_count": null,
   "id": "873dbc0c-4046-493f-bc92-32dd4e63c263",
   "metadata": {},
   "outputs": [],
   "source": [
    "sc.pp.neighbors(adata, n_neighbors=20, n_pcs=40)"
   ]
  },
  {
   "cell_type": "code",
   "execution_count": null,
   "id": "a56f3796-396c-4698-93d1-49cf6042e4ae",
   "metadata": {},
   "outputs": [],
   "source": [
    "sc.tl.umap(adata)"
   ]
  },
  {
   "cell_type": "code",
   "execution_count": null,
   "id": "5d9e7992-bf40-45f4-9b17-f1346e8d90b9",
   "metadata": {},
   "outputs": [],
   "source": [
    "sc.tl.leiden(adata, resolution=0.2)"
   ]
  },
  {
   "cell_type": "code",
   "execution_count": null,
   "id": "066a2aa9-60ae-4978-9c6d-364e80f4eec8",
   "metadata": {},
   "outputs": [],
   "source": [
    "adata"
   ]
  },
  {
   "cell_type": "code",
   "execution_count": null,
   "id": "c4f96d76-7d3b-40ab-978a-fe4635c01d0b",
   "metadata": {},
   "outputs": [],
   "source": [
    "sc.pl.umap(adata, color=[\"leiden\",\"source\",\"PTPRC\",\"PECAM1\",\"EPCAM\",\"DCN\",\"VIM\"],ncols=4)"
   ]
  },
  {
   "cell_type": "code",
   "execution_count": null,
   "id": "4d9546ac-2412-4b34-bc54-4e43bb10e440",
   "metadata": {},
   "outputs": [],
   "source": [
    "sc.pl.pca(adata, color=[\"leiden\",\"source\",\"PTPRC\",\"PECAM1\",\"EPCAM\",\"DCN\",\"VIM\"],ncols=4)"
   ]
  },
  {
   "cell_type": "code",
   "execution_count": null,
   "id": "0df26877-c177-4fe1-bcc5-e49041f18485",
   "metadata": {},
   "outputs": [],
   "source": [
    "sc.pl.umap(adata, color=[\"n_genes\",\"pct_counts_mt\",\"total_counts\"])"
   ]
  },
  {
   "cell_type": "code",
   "execution_count": null,
   "id": "fa566209-8eab-4cf0-81dd-ed79acafc022",
   "metadata": {
    "scrolled": true
   },
   "outputs": [],
   "source": [
    "sc.pl.violin(adata, [\"PTPRC\",\"DCN\",\"EPCAM\",\"PECAM1\"], groupby=\"leiden\")"
   ]
  },
  {
   "cell_type": "code",
   "execution_count": null,
   "id": "27645de9-b8e4-4251-a9b0-05d7db594cd6",
   "metadata": {},
   "outputs": [],
   "source": [
    "label = []\n",
    "for l in adata.obs.leiden:\n",
    "    if l in [\"0\",\"3\"]:\n",
    "        label.append(\"tumor\")\n",
    "    elif l in [\"2\",\"7\"]:\n",
    "        label.append(\"epith\")\n",
    "    elif l in [\"5\",\"6\"]:\n",
    "        label.append(\"fibr\")\n",
    "    else:\n",
    "        label.append(\"imm\")"
   ]
  },
  {
   "cell_type": "code",
   "execution_count": null,
   "id": "402f3118-17b3-4a15-8a5d-a05de6f589c3",
   "metadata": {},
   "outputs": [],
   "source": [
    "adata.obs[\"label\"] = label"
   ]
  },
  {
   "cell_type": "code",
   "execution_count": null,
   "id": "9951bb59-5871-4753-a9c4-cc0c104127df",
   "metadata": {},
   "outputs": [],
   "source": [
    "sc.pl.pca(adata, color=[\"leiden\",\"source\",\"PTPRC\",\"PECAM1\",\"EPCAM\",\"DCN\",\"VIM\",\"label\"],ncols=4)"
   ]
  },
  {
   "cell_type": "code",
   "execution_count": null,
   "id": "9256db59-2302-433c-a669-74d0e15d659d",
   "metadata": {},
   "outputs": [],
   "source": [
    "sc.pl.umap(adata, color=[\"leiden\",\"source\",\"PTPRC\",\"PECAM1\",\"EPCAM\",\"DCN\",\"VIM\",\"label\"],ncols=4)"
   ]
  },
  {
   "cell_type": "code",
   "execution_count": null,
   "id": "ce2c7165-94eb-43c4-85ad-513bcee46b31",
   "metadata": {},
   "outputs": [],
   "source": [
    "adata = adata.raw.to_adata()"
   ]
  },
  {
   "cell_type": "code",
   "execution_count": null,
   "id": "59c7066f-2bbe-48e0-a33e-15404a9a9eb1",
   "metadata": {},
   "outputs": [],
   "source": [
    "adata = adata[[l ==\"tumor\" for l in adata.obs.label]]"
   ]
  },
  {
   "cell_type": "code",
   "execution_count": null,
   "id": "552e0e58-feb8-400f-89ae-033277ba17ab",
   "metadata": {},
   "outputs": [],
   "source": [
    "sc.pp.highly_variable_genes(adata)#, flavor = \"seurat\", n_top_genes=2000)"
   ]
  },
  {
   "cell_type": "code",
   "execution_count": null,
   "id": "0fc85622-94ec-461e-8520-cafb9d3df47d",
   "metadata": {},
   "outputs": [],
   "source": [
    "minMean = 0.075\n",
    "maxMean = 2.6\n",
    "minDisp = 0.8\n",
    "\n",
    "fig, axs = plt.subplots(1, 2, figsize=(10, 5))\n",
    "\n",
    "means = adata.var[[\"means\"]][adata.var[[\"means\"]] > np.exp(-14)]#adata.var[[\"means\"]],\n",
    "axs[0].hist(np.log(means), bins=100)#, log=True),\n",
    "axs[0].axvline(np.log(minMean), color='k', linestyle='dashed', linewidth=1)\n",
    "axs[0].axvline(np.log(maxMean), color='k', linestyle='dashed', linewidth=1)\n",
    "axs[0].set_title('Gene means counts')\n",
    "axs[0].set_xlabel('means')\n",
    "axs[0].set_ylabel('counts')\n",
    "\n",
    "dispNorm = adata.var[[\"dispersions_norm\"]][adata.var[[\"dispersions_norm\"]] > np.exp(-5)]#adata.var[[\"means\"]],\n",
    "axs[1].hist(np.log(dispNorm), bins=100)#, log=True),\n",
    "axs[1].axvline(np.log(minDisp), color='k', linestyle='dashed', linewidth=1)\n",
    "axs[1].set_title('Gene dispersions counts')\n",
    "axs[1].set_xlabel('dispersions')\n",
    "axs[1].set_ylabel('counts')\n",
    "\n",
    "sc.pp.highly_variable_genes(adata, min_disp=minDisp, min_mean=minMean, max_mean=maxMean)\n",
    "print(sum(adata.var.highly_variable))"
   ]
  },
  {
   "cell_type": "code",
   "execution_count": null,
   "id": "0aa5a590-3dfa-4af2-9a40-31a939379669",
   "metadata": {},
   "outputs": [],
   "source": [
    "sc.pl.highly_variable_genes(adata)"
   ]
  },
  {
   "cell_type": "code",
   "execution_count": null,
   "id": "b3fc1205-24f4-4bcb-aa76-9e4cc3c35e7e",
   "metadata": {},
   "outputs": [],
   "source": [
    "#for inGene in adata.var[-8:].index.tolist():\n",
    "#    adata.var.loc[inGene,\"highly_variable\"] = False"
   ]
  },
  {
   "cell_type": "code",
   "execution_count": null,
   "id": "5825e6a3-de1c-4f9b-9380-b956d71f5f04",
   "metadata": {},
   "outputs": [],
   "source": [
    "adata.raw = adata"
   ]
  },
  {
   "cell_type": "code",
   "execution_count": null,
   "id": "d1883772-3cc8-45af-9502-ca579edb58c7",
   "metadata": {},
   "outputs": [],
   "source": [
    "#adata = adata[:, adata.var.highly_variable]\n",
    "adata = adata[:, np.logical_and(adata.var.highly_variable, np.logical_not(adata.var.mt))]"
   ]
  },
  {
   "cell_type": "code",
   "execution_count": null,
   "id": "a3924cc5-e69f-4f32-adb5-34453e69a3bb",
   "metadata": {},
   "outputs": [],
   "source": [
    "#sc.pp.regress_out(adata, ['total_counts', 'pct_counts_mt'])"
   ]
  },
  {
   "cell_type": "code",
   "execution_count": null,
   "id": "850be843-458f-4886-924f-e626ba7d1e8e",
   "metadata": {},
   "outputs": [],
   "source": [
    "#sc.pp.scale(adata, max_value=10)"
   ]
  },
  {
   "cell_type": "code",
   "execution_count": null,
   "id": "8fa172f1-dcb3-48e9-a040-1ea50af95bfd",
   "metadata": {},
   "outputs": [],
   "source": [
    "sc.tl.pca(adata, n_comps = 100, svd_solver='arpack')"
   ]
  },
  {
   "cell_type": "code",
   "execution_count": null,
   "id": "0cc80d0a-e09f-47cd-8672-95f11118cf90",
   "metadata": {},
   "outputs": [],
   "source": [
    "sc.pl.pca_variance_ratio(adata, n_pcs = 100, log=True)"
   ]
  },
  {
   "cell_type": "code",
   "execution_count": null,
   "id": "d501c5c8-71f3-4d74-a45a-8ffdf5233e27",
   "metadata": {},
   "outputs": [],
   "source": [
    "sc.pl.pca_variance_ratio(adata, n_pcs = 100)"
   ]
  },
  {
   "cell_type": "code",
   "execution_count": null,
   "id": "f66541f0-4b1c-4b57-ac99-550787f51ad2",
   "metadata": {},
   "outputs": [],
   "source": [
    "sc.pp.neighbors(adata, n_neighbors=20, n_pcs=40)"
   ]
  },
  {
   "cell_type": "code",
   "execution_count": null,
   "id": "631394e6-632a-45c0-812d-0c7bd736b0ef",
   "metadata": {},
   "outputs": [],
   "source": [
    "sc.tl.umap(adata)"
   ]
  },
  {
   "cell_type": "code",
   "execution_count": null,
   "id": "2a2e024d-8f33-433b-8af8-d72ac81025b4",
   "metadata": {},
   "outputs": [],
   "source": [
    "sc.tl.leiden(adata, resolution=0.3)"
   ]
  },
  {
   "cell_type": "code",
   "execution_count": null,
   "id": "d3205e53-1fab-4162-ace1-02db40d7bb22",
   "metadata": {},
   "outputs": [],
   "source": [
    "sc.pl.umap(adata, color=[\"leiden\",\"source\",\"EPCAM\",\"PECAM1\",\"VIM\",\"SLC4A11\",\"CAPS\",\"SCGB1A1\"],ncols=3)"
   ]
  },
  {
   "cell_type": "code",
   "execution_count": null,
   "id": "ebcbbe75-c3f5-428e-809d-a16a3167bdce",
   "metadata": {},
   "outputs": [],
   "source": [
    "sc.pl.umap(adata, color=[\"n_genes\",\"pct_counts_mt\",\"total_counts\"])"
   ]
  },
  {
   "cell_type": "code",
   "execution_count": null,
   "id": "05ef1cca-4640-4d9e-9c4b-8ecd40a60cdd",
   "metadata": {},
   "outputs": [],
   "source": [
    "adata.uns['log1p']['base']=None"
   ]
  },
  {
   "cell_type": "code",
   "execution_count": null,
   "id": "e0d77280-5572-4791-9f6a-3949e5ed59b5",
   "metadata": {
    "tags": []
   },
   "outputs": [],
   "source": [
    "sc.tl.rank_genes_groups(adata, 'leiden', method='wilcoxon', use_raw=False)\n",
    "#sc.tl.filter_rank_genes_groups(adata, groupby=\"leiden\", use_raw=False,\n",
    "#                                   key_added='rank_genes_groups_filtered', \n",
    "#                                   min_in_group_fraction=0.25, min_fold_change=1, max_out_group_fraction=0.5, compare_abs=False)\n",
    "sc.pl.rank_genes_groups(adata, n_genes=25, sharey=False)"
   ]
  },
  {
   "cell_type": "code",
   "execution_count": null,
   "id": "741eb90d-dc29-40e7-967a-a9498893abf1",
   "metadata": {
    "tags": []
   },
   "outputs": [],
   "source": [
    "pd.DataFrame(adata.uns['rank_genes_groups']['names']).head(15)"
   ]
  },
  {
   "cell_type": "code",
   "execution_count": null,
   "id": "dc26321c-65df-47c7-ad80-999180b6ca94",
   "metadata": {
    "tags": []
   },
   "outputs": [],
   "source": [
    "sc.tl.dendrogram(adata,groupby=\"leiden\", n_pcs=60)\n",
    "sc.pl.rank_genes_groups_dotplot(adata,n_genes=3)#,key=\"rank_genes_groups_filtered\")"
   ]
  },
  {
   "cell_type": "code",
   "execution_count": null,
   "id": "02ce81c1-6c08-478c-8b37-7afc85ef4d56",
   "metadata": {},
   "outputs": [],
   "source": []
  },
  {
   "cell_type": "code",
   "execution_count": null,
   "id": "28a620b6-e90c-4d31-bd38-1c54f04da93b",
   "metadata": {},
   "outputs": [],
   "source": [
    "resultsFile"
   ]
  },
  {
   "cell_type": "code",
   "execution_count": null,
   "id": "137a0da7-8e7a-48fe-93fb-a0d3253b9558",
   "metadata": {},
   "outputs": [],
   "source": [
    "adata"
   ]
  },
  {
   "cell_type": "code",
   "execution_count": null,
   "id": "d66ae6a6-8574-4aea-8636-6840bb1a84ce",
   "metadata": {},
   "outputs": [],
   "source": [
    "adata.write(resultsFile)\n",
    "adata"
   ]
  },
  {
   "cell_type": "code",
   "execution_count": null,
   "id": "12931800-be2f-4ec5-ae70-ce938498b203",
   "metadata": {},
   "outputs": [],
   "source": [
    "homology = pd.read_table(\"data/hgncHM_121.csv\", sep=\",\")\n",
    "mouseGenes = np.array(homology[\"mouse\"])\n",
    "humanGenes = np.array(homology[\"human\"])\n",
    "homology"
   ]
  },
  {
   "cell_type": "code",
   "execution_count": null,
   "id": "9ed341d6-9f9d-49e6-8080-179b2fa21eb9",
   "metadata": {},
   "outputs": [],
   "source": [
    "import scanpyHelpers as scH"
   ]
  },
  {
   "cell_type": "code",
   "execution_count": null,
   "id": "c45cb726-b192-4657-b994-59e3324507a4",
   "metadata": {
    "scrolled": true,
    "tags": []
   },
   "outputs": [],
   "source": [
    "adata = sc.read_h5ad(resultsFile)\n",
    "adata"
   ]
  },
  {
   "cell_type": "code",
   "execution_count": null,
   "id": "8b8ce1b4-272e-4ad3-b0cf-54dcdbc87adc",
   "metadata": {
    "scrolled": true,
    "tags": []
   },
   "outputs": [],
   "source": [
    "sigFile = \"data/LUAD/humanLUADgeneSig.csv\"\n",
    "sigGenes = pd.read_csv(sigFile)\n",
    "sigGenes"
   ]
  },
  {
   "cell_type": "code",
   "execution_count": null,
   "id": "c6a1f441-c075-4afd-9e0b-0e8292cdfdf9",
   "metadata": {},
   "outputs": [],
   "source": [
    "sigGenes.columns"
   ]
  },
  {
   "cell_type": "code",
   "execution_count": null,
   "id": "661d03a6-ea79-4dd9-8bd6-ede702e7e946",
   "metadata": {
    "tags": []
   },
   "outputs": [],
   "source": [
    "scoreNames, newBClabel, ogLabelScoreMed = scH.scoreAndLabel(adata, sigGenes, labelOfSigGenes= sigGenes.columns, ogLabel=\"leiden\")\n",
    "sc.pl.umap(adata, color=scoreNames+[\"cellState\",\"leiden\"], ncols=4)"
   ]
  },
  {
   "cell_type": "code",
   "execution_count": null,
   "id": "1cc9b44f-133b-46d2-8139-5ae44cb42455",
   "metadata": {},
   "outputs": [],
   "source": []
  },
  {
   "cell_type": "code",
   "execution_count": null,
   "id": "fca71a2f-5a7b-4872-abdd-dc76baec2e6c",
   "metadata": {},
   "outputs": [],
   "source": [
    "scH.plotScores(adata.obs[scoreNames], figCols = 2, cutoff = 1.5)"
   ]
  },
  {
   "cell_type": "code",
   "execution_count": null,
   "id": "37954771-7bb0-4063-a858-4f30e2bf3a0b",
   "metadata": {},
   "outputs": [],
   "source": [
    "sc.pl.pca(adata, color=scoreNames+[\"leiden\",\"cellState\"], ncols=4)"
   ]
  },
  {
   "cell_type": "code",
   "execution_count": null,
   "id": "90a3a6f8-8d4f-4c6e-b84e-d15d5de242cb",
   "metadata": {},
   "outputs": [],
   "source": []
  },
  {
   "cell_type": "code",
   "execution_count": null,
   "id": "d8dde47b-734a-43ab-845f-eaac3fca6caf",
   "metadata": {
    "tags": []
   },
   "outputs": [],
   "source": [
    "markers = pd.DataFrame(np.empty((500*12,2), dtype=\"object\"), columns=[\"genes\", \"clustName\"])\n",
    "for i,clust in enumerate(sigGenes.columns):\n",
    "    for j,gene in enumerate(sigGenes.index):\n",
    "        gene = sigGenes.loc[gene,clust]\n",
    "        indexOver = np.where(mouseGenes == gene)[0]\n",
    "        if indexOver.size > 0:\n",
    "            gene = humanGenes[indexOver[0]]\n",
    "        markers.iloc[i*500+j] = gene,clust\n",
    "        \n",
    "markers = markers.dropna()\n",
    "markers"
   ]
  },
  {
   "cell_type": "code",
   "execution_count": null,
   "id": "3bada584-fb83-487b-8aea-58fa2a5e7b90",
   "metadata": {},
   "outputs": [],
   "source": [
    "import decoupler as dc"
   ]
  },
  {
   "cell_type": "code",
   "execution_count": null,
   "id": "9d5603e1-95a1-4bb3-b053-512cd307fb4f",
   "metadata": {},
   "outputs": [],
   "source": [
    "dc.run_ora(\n",
    "    mat=adata,\n",
    "    net=markers,\n",
    "    source='clustName',\n",
    "    target='genes',\n",
    "    min_n=3,\n",
    "    verbose=True\n",
    ")"
   ]
  },
  {
   "cell_type": "code",
   "execution_count": null,
   "id": "fee8f941-3afe-462e-9673-16d3d1b5aaeb",
   "metadata": {},
   "outputs": [],
   "source": [
    "adata.obsm['ora_estimate']\n"
   ]
  },
  {
   "cell_type": "code",
   "execution_count": null,
   "id": "49ba04c1-50fc-4e0b-998e-273005ffa788",
   "metadata": {},
   "outputs": [],
   "source": [
    "acts = dc.get_acts(adata, obsm_key='ora_estimate')\n",
    "\n",
    "# We need to remove inf and set them to the maximum value observed for pvals=0\n",
    "acts_v = acts.X.ravel()\n",
    "max_e = np.nanmax(acts_v[np.isfinite(acts_v)])\n",
    "acts.X[~np.isfinite(acts.X)] = max_e\n",
    "\n",
    "acts"
   ]
  },
  {
   "cell_type": "code",
   "execution_count": null,
   "id": "65a0c0f4-97f2-4a4b-ae5b-bb2f9f0c9f7e",
   "metadata": {},
   "outputs": [],
   "source": [
    "sc.pl.umap(acts, color=scoreNames+['leiden'], cmap='RdBu_r')\n",
    "sc.pl.violin(acts, keys=scoreNames, groupby='leiden')"
   ]
  },
  {
   "cell_type": "code",
   "execution_count": null,
   "id": "4be8ea8e-42fa-412e-bab6-fe1f9c3dcfd6",
   "metadata": {
    "tags": []
   },
   "outputs": [],
   "source": [
    "df = dc.rank_sources_groups(acts, groupby='leiden', reference='rest', method='t-test_overestim_var')\n",
    "df"
   ]
  },
  {
   "cell_type": "code",
   "execution_count": null,
   "id": "b916a914-7a55-41bd-b6ba-f62ef57c7758",
   "metadata": {},
   "outputs": [],
   "source": [
    "n_ctypes = 3\n",
    "ctypes_dict = df.groupby('group').head(n_ctypes).groupby('group')['names'].apply(lambda x: list(x)).to_dict()\n",
    "ctypes_dict"
   ]
  },
  {
   "cell_type": "code",
   "execution_count": null,
   "id": "f15444df-1252-4f5b-9668-4ee46f05bf46",
   "metadata": {},
   "outputs": [],
   "source": [
    "sc.pl.matrixplot(acts, ctypes_dict, 'leiden', dendrogram=True, standard_scale='var',\n",
    "                 colorbar_title='Z-scaled scores', cmap='RdBu_r')\n"
   ]
  },
  {
   "cell_type": "code",
   "execution_count": null,
   "id": "deed9b2e-4287-4b2a-aa93-559d6df78984",
   "metadata": {},
   "outputs": [],
   "source": [
    "annotation_dict = df.groupby('group').head(1).set_index('group')['names'].to_dict()\n",
    "annotation_dict"
   ]
  },
  {
   "cell_type": "code",
   "execution_count": null,
   "id": "d1b9f8d8-719a-4c62-9d69-b62926c43c75",
   "metadata": {},
   "outputs": [],
   "source": [
    "# Add cell type column based on annotation\n",
    "adata.obs['decoupler'] = [annotation_dict[clust] for clust in adata.obs['leiden']]\n",
    "\n",
    "# Visualize\n",
    "sc.pl.umap(adata, color=['decoupler','cellState', \"leiden\"])"
   ]
  },
  {
   "cell_type": "code",
   "execution_count": null,
   "id": "7209e74d-1255-4e9c-aa0d-2229d5205628",
   "metadata": {},
   "outputs": [],
   "source": []
  },
  {
   "cell_type": "code",
   "execution_count": null,
   "id": "dfb483c3-1973-44ea-8d64-ebbca78340a2",
   "metadata": {},
   "outputs": [],
   "source": [
    "adata.write(resultsFile)\n",
    "adata"
   ]
  },
  {
   "cell_type": "code",
   "execution_count": null,
   "id": "d23d5686-9a33-4df7-858b-ff7090503b1d",
   "metadata": {},
   "outputs": [],
   "source": [
    "resultsFile"
   ]
  },
  {
   "cell_type": "code",
   "execution_count": null,
   "id": "eba54ac1-8136-4967-b8e1-c00063ae43b3",
   "metadata": {},
   "outputs": [],
   "source": []
  },
  {
   "cell_type": "code",
   "execution_count": null,
   "id": "f503b2b6-48c9-4acd-8fb8-f94516e314a9",
   "metadata": {},
   "outputs": [],
   "source": []
  },
  {
   "cell_type": "code",
   "execution_count": null,
   "id": "fc7e8f0a-8b37-4a7d-9b59-93c891bca5aa",
   "metadata": {},
   "outputs": [],
   "source": [
    "adata = sc.read(resultsFile)"
   ]
  },
  {
   "cell_type": "code",
   "execution_count": null,
   "id": "9aac5f05-1d77-4b55-b544-68feb23631c5",
   "metadata": {},
   "outputs": [],
   "source": [
    "scH.addIndvLabel(adata, [f\"{sigName}Score\" for sigName in sigGenes.columns], obsLabel=\"zsig\", cutoff=0.5)"
   ]
  },
  {
   "cell_type": "code",
   "execution_count": null,
   "id": "b90e014d-bbca-4f3a-8f39-ff86750f4387",
   "metadata": {},
   "outputs": [],
   "source": [
    "sc.pl.umap(adata, color=[\"leiden\",'decoupler','zsig','cellState'])"
   ]
  },
  {
   "cell_type": "code",
   "execution_count": null,
   "id": "af7c27db-c4ac-43f6-bd56-bfedb31c6a4e",
   "metadata": {},
   "outputs": [],
   "source": [
    "adata.write(resultsFile)\n",
    "adata"
   ]
  },
  {
   "cell_type": "code",
   "execution_count": null,
   "id": "08a6505a-5126-4de2-988d-905481944638",
   "metadata": {},
   "outputs": [],
   "source": []
  },
  {
   "cell_type": "code",
   "execution_count": null,
   "id": "50bb797e-dbcf-428f-8c9a-075d68c2ad22",
   "metadata": {},
   "outputs": [],
   "source": [
    "clustToLabel = {\"Cluster 1\":\"AT2-like\",\n",
    " \"Cluster 2\":\"AT2-like\",\n",
    " \"Cluster 3\":\"AT1-like\",\n",
    " \"Cluster 4\":\"Endoderm-like\",\n",
    " \"Cluster 5\":\"HPCS\",\n",
    " \"Cluster 6\":\"Endoderm-lik\",\n",
    " \"Cluster 7\":\"Prolif\",\n",
    " \"Cluster 8\":\"EmbLiv\",\n",
    " \"Cluster 9\":\"Rib\",\n",
    " \"Cluster 10\":\"Gastro\",\n",
    " \"Cluster 11\":\"EMT\",\n",
    " \"Cluster 12\":\"Adv\",\n",
    " \"out\":\"unlab\"}\n",
    "\n",
    "homology = pd.read_table(\"../mhCompTiss/data/hgncHM_121.csv\", sep=\",\")\n",
    "mouseGenes = np.array(homology[\"mouse\"])\n",
    "humanGenes = np.array(homology[\"human\"])\n",
    "m2h = dict(zip(mouseGenes,humanGenes))\n",
    "h2m = dict(zip(humanGenes,mouseGenes))\n",
    "\n",
    "from collections import Counter\n",
    "sigFile = \"data/LUAD/simpLUADcs.csv\"\n",
    "sigGenes = pd.read_excel(\"data/LUAD/LUADhpcs.xlsx\")\n",
    "sigGenes = sigGenes[['Cluster 1', 'Cluster 2', 'Cluster 3', 'Cluster 4', 'Cluster 5',\n",
    "                     'Cluster 6', \n",
    "                     'Cluster 7', 'Cluster 8',  \n",
    "                     'Cluster 9','Cluster 10','Cluster 11', \n",
    "                     'Cluster 12']]\n",
    "\n",
    "adata = sc.read_h5ad(resultsFile)\n",
    "\n",
    "sc.tl.leiden(adata, resolution=0.6)\n",
    "\n",
    "for gs in sigGenes:\n",
    "    sc.tl.score_genes(adata,[m2h[g] for g in sigGenes[gs].dropna() if g in m2h.keys()],score_name=f\"{gs}Score\")\n",
    "scoreMat = adata.obs[[f\"{sigName}Score\" for sigName in sigGenes.columns]]\n",
    "\n",
    "adata.obs[\"zsig\"] = scH.zScores(scoreMat, cutoff = 1)\n",
    "relabelDict = {}\n",
    "for li in adata.obs.leiden.cat.categories:\n",
    "    mostCommon = Counter(adata[adata.obs.leiden==li].obs.zsig).most_common(2)\n",
    "    relabel = \"\"\n",
    "#    if(mostCommon[0][0] in clustToLabel.keys()):\n",
    "    relabel = clustToLabel[mostCommon[0][0]]\n",
    "#    else:\n",
    "#        relabel = clustToLabel[mostCommon[1][0]]\n",
    "    relabelDict[li] = relabel\n",
    "relabelDict = {'0': 'Adv', '1': 'HPCS', '2': 'unlab', '3': 'AT2-like', '4': 'AT1-like', '5': 'HPCS'}\n",
    "print(relabelDict)\n",
    "adata.obs[\"cs\"] = [relabelDict[li] for li in adata.obs.leiden]"
   ]
  },
  {
   "cell_type": "code",
   "execution_count": null,
   "id": "38b43e09-b91d-46e4-b08e-36c22ce76544",
   "metadata": {},
   "outputs": [],
   "source": [
    "sc.pl.umap(adata, color=[\"leiden\",\"cs\"],ncols=4)"
   ]
  },
  {
   "cell_type": "code",
   "execution_count": null,
   "id": "57bdce3d-28b8-436a-b87e-e8910150aae5",
   "metadata": {},
   "outputs": [],
   "source": [
    "sc.pl.umap(adata, color=[f\"{sigName}Score\" for sigName in sigGenes.columns], cmap=\"bwr\", ncols=4)"
   ]
  },
  {
   "cell_type": "code",
   "execution_count": null,
   "id": "e8ea22ea-a7f7-4039-bb42-8393f7b39d69",
   "metadata": {},
   "outputs": [],
   "source": [
    "qcdata = sc.read_h5ad(resultsFileQC)\n",
    "print(sum(qcdata.X.todense()))\n",
    "\n",
    "rdata = adata.raw.to_adata()\n",
    "\n",
    "qcdata = qcdata[rdata.obs_names,:]\n",
    "rdata.layers[\"counts\"] = qcdata.X.copy()\n",
    "rdata.obs = rdata.obs[['source','leiden','cs']]\n",
    "rdata.write('write/luadDost_Labeled.h5ad')"
   ]
  },
  {
   "cell_type": "code",
   "execution_count": null,
   "id": "68f7fd96-dbcb-4038-af38-b26d265cf8e9",
   "metadata": {},
   "outputs": [],
   "source": [
    "resultsFileQC"
   ]
  },
  {
   "cell_type": "code",
   "execution_count": null,
   "id": "0495a8f5-a0b2-4c6d-8755-fba22ef69ff7",
   "metadata": {},
   "outputs": [],
   "source": [
    "rdata"
   ]
  },
  {
   "cell_type": "code",
   "execution_count": null,
   "id": "f90abc5f-3bd7-4ad4-a31f-d2c84c9e0a05",
   "metadata": {},
   "outputs": [],
   "source": []
  }
 ],
 "metadata": {
  "kernelspec": {
   "display_name": "Python 3 (ipykernel)",
   "language": "python",
   "name": "python3"
  },
  "language_info": {
   "codemirror_mode": {
    "name": "ipython",
    "version": 3
   },
   "file_extension": ".py",
   "mimetype": "text/x-python",
   "name": "python",
   "nbconvert_exporter": "python",
   "pygments_lexer": "ipython3",
   "version": "3.8.16"
  }
 },
 "nbformat": 4,
 "nbformat_minor": 5
}
