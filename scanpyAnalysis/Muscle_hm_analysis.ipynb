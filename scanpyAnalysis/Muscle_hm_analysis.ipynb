{
 "cells": [
  {
   "cell_type": "code",
   "execution_count": null,
   "id": "b99e31df-69e2-4b6a-8f21-1a4518fe21ca",
   "metadata": {},
   "outputs": [],
   "source": [
    "import os\n",
    "import numpy as np\n",
    "import pandas as pd\n",
    "import scanpy as sc\n",
    "import anndata as ad\n",
    "from matplotlib import pyplot as plt\n",
    "\n",
    "import scanpyHelpers as scH"
   ]
  },
  {
   "cell_type": "code",
   "execution_count": null,
   "id": "65420bdd-6842-4218-bdd0-92ef4cb788fa",
   "metadata": {},
   "outputs": [],
   "source": [
    "writeDir = \"write\"\n",
    "tissue = \"Muscle\"\n",
    "\n",
    "species1 = \"human\"\n",
    "adataFile1 = f'{writeDir}/{tissue}Human_DeM_QC.h5ad'\n",
    "\n",
    "species2 = \"mouse\"\n",
    "adataFile2a = f'{writeDir}/{tissue}Mouse_QC.h5ad'\n",
    "adataFile2b = f'{writeDir}/{tissue}Mouse_DeM_QC.h5ad'\n",
    "\n",
    "mergedAdataFileQC = f'{writeDir}/{tissue}{species1}{species2}_QC.h5ad'\n",
    "mergedAdataFile = f'{writeDir}/{tissue}{species1}{species2}.h5ad'\n",
    "\n",
    "homologyFile = \"data/hgncHM_121.csv\""
   ]
  },
  {
   "cell_type": "code",
   "execution_count": null,
   "id": "45b43408-3504-463a-87b7-40f5a9fc005b",
   "metadata": {
    "tags": []
   },
   "outputs": [],
   "source": [
    "homology = pd.read_table(homologyFile, sep=\",\")\n",
    "homology"
   ]
  },
  {
   "cell_type": "code",
   "execution_count": null,
   "id": "6cdd8e74-3853-47fe-aba1-bc72bed4d72b",
   "metadata": {},
   "outputs": [],
   "source": [
    "adata1 = sc.read(adataFile1)\n",
    "adata1.layers[\"counts\"] = adata1.X.copy()\n",
    "adata1"
   ]
  },
  {
   "cell_type": "code",
   "execution_count": null,
   "id": "bcb08c6b-c42b-4f9c-8ef8-e23394843cd9",
   "metadata": {},
   "outputs": [],
   "source": [
    "sc.pp.normalize_total(adata1, target_sum=1e4)#,exclude_highly_expressed=True)#\n",
    "sc.pp.log1p(adata1)"
   ]
  },
  {
   "cell_type": "code",
   "execution_count": null,
   "id": "230010cd-5bec-4ae3-9113-6c07981ff0ad",
   "metadata": {},
   "outputs": [],
   "source": [
    "adata2a = sc.read(adataFile2a)\n",
    "adata2a.obs[\"cell_annotation\"] = len(adata2a)*[\"U\"]\n",
    "adata2b = sc.read(adataFile2b)\n",
    "\n",
    "adata2 = ad.concat([adata2a,adata2b], label=\"dataset\", keys=[\"DeM\",\"Rb\"])\n",
    "adata2.layers[\"counts\"] = adata2.X.copy()\n",
    "adata2"
   ]
  },
  {
   "cell_type": "code",
   "execution_count": null,
   "id": "43f34d78-2e39-4401-a934-25ce12695d7a",
   "metadata": {},
   "outputs": [],
   "source": [
    "sc.pp.normalize_total(adata2, target_sum=1e4)#,exclude_highly_expressed=True)#\n",
    "sc.pp.log1p(adata2)"
   ]
  },
  {
   "cell_type": "code",
   "execution_count": null,
   "id": "5d8bcd6a-0a8f-4652-a318-8a9dd47e34b5",
   "metadata": {},
   "outputs": [],
   "source": [
    "genes1 = np.array(adata1.var_names, dtype=object)\n",
    "genes2 = np.array(adata2.var_names, dtype=object)\n",
    "genes1, genes2 = scH.getOverlapGenes(genes1, genes2, homology, species1, species2)"
   ]
  },
  {
   "cell_type": "code",
   "execution_count": null,
   "id": "a49b601f-51da-4233-b849-80c874b2d80a",
   "metadata": {},
   "outputs": [],
   "source": [
    "print(f\"{len(genes1)} {len(genes2)} {len(set(genes1).intersection(set(genes2)))}\")"
   ]
  },
  {
   "cell_type": "code",
   "execution_count": null,
   "id": "5d5f1d7d-b6f8-4755-934d-0567e64f0724",
   "metadata": {},
   "outputs": [],
   "source": [
    "adata1.var_names = genes1\n",
    "adata2.var_names = genes2"
   ]
  },
  {
   "cell_type": "code",
   "execution_count": null,
   "id": "b9dfbd53-06c1-431d-9a5e-a492e8111498",
   "metadata": {},
   "outputs": [],
   "source": [
    "adata = ad.concat([adata1, adata2], join=\"outer\", label=\"species\", keys=[species1, species2], fill_value=0)\n",
    "adata.obs_names_make_unique()"
   ]
  },
  {
   "cell_type": "code",
   "execution_count": null,
   "id": "4f350e5f-6171-4440-a10c-eaef1535abc0",
   "metadata": {},
   "outputs": [],
   "source": [
    "adata.obs = adata.obs[[\"species\",\"cell_annotation\"]]"
   ]
  },
  {
   "cell_type": "code",
   "execution_count": null,
   "id": "128e262f-fa44-48db-a797-ba82006bbd9d",
   "metadata": {},
   "outputs": [],
   "source": [
    "adata"
   ]
  },
  {
   "cell_type": "code",
   "execution_count": null,
   "id": "d1bd93b5-3f5e-434d-8420-4d8dce277466",
   "metadata": {},
   "outputs": [],
   "source": [
    "mergedAdataFileQC"
   ]
  },
  {
   "cell_type": "code",
   "execution_count": null,
   "id": "f755befa-ae9a-4610-9862-05f1c1c16703",
   "metadata": {},
   "outputs": [],
   "source": [
    "adata.write(mergedAdataFileQC)"
   ]
  },
  {
   "cell_type": "code",
   "execution_count": null,
   "id": "e4e56b4d-a395-4941-b7c9-73dca13ddc7c",
   "metadata": {},
   "outputs": [],
   "source": []
  },
  {
   "cell_type": "code",
   "execution_count": null,
   "id": "0ad00249-3c8e-4e22-a60f-5e304a319057",
   "metadata": {},
   "outputs": [],
   "source": [
    "batchKey = \"species\""
   ]
  },
  {
   "cell_type": "code",
   "execution_count": null,
   "id": "31466127-3cbe-4d4e-a1bc-f72c8a4d268d",
   "metadata": {},
   "outputs": [],
   "source": [
    "sc.pp.highly_variable_genes(adata, batch_key=batchKey)"
   ]
  },
  {
   "cell_type": "code",
   "execution_count": null,
   "id": "842fe4e7-530c-44d2-865a-dc9c4fc5efeb",
   "metadata": {},
   "outputs": [],
   "source": [
    "minMean = 0.05\n",
    "maxMean = 2.9\n",
    "minDisp = 0.25\n",
    "\n",
    "fig, axs = plt.subplots(1, 2, figsize=(10, 5))\n",
    "\n",
    "means = adata.var[[\"means\"]][adata.var[[\"means\"]] > np.exp(-14)]#adata.var[[\"means\"]],\n",
    "axs[0].hist(np.log(means), bins=100)#, log=True),\n",
    "axs[0].axvline(np.log(minMean), color='k', linestyle='dashed', linewidth=1)\n",
    "axs[0].axvline(np.log(maxMean), color='k', linestyle='dashed', linewidth=1)\n",
    "axs[0].set_title('Gene means counts')\n",
    "axs[0].set_xlabel('means')\n",
    "axs[0].set_ylabel('counts')\n",
    "\n",
    "dispNorm = adata.var[[\"dispersions_norm\"]][adata.var[[\"dispersions_norm\"]] > np.exp(-8)]#adata.var[[\"means\"]],\n",
    "axs[1].hist(np.log(dispNorm), bins=100)#, log=True),\n",
    "axs[1].axvline(np.log(minDisp), color='k', linestyle='dashed', linewidth=1)\n",
    "axs[1].set_title('Gene dispersions counts')\n",
    "axs[1].set_xlabel('dispersions')\n",
    "axs[1].set_ylabel('counts')\n",
    "\n",
    "sc.pp.highly_variable_genes(adata, min_disp=minDisp, min_mean=minMean, max_mean=maxMean, batch_key=batchKey)\n",
    "print(sum(adata.var.highly_variable))\n",
    "print(sum(adata.var.highly_variable_intersection))"
   ]
  },
  {
   "cell_type": "code",
   "execution_count": null,
   "id": "332c653e-f789-4ffc-b58a-bafd82e6828c",
   "metadata": {},
   "outputs": [],
   "source": [
    "sc.pl.highly_variable_genes(adata)"
   ]
  },
  {
   "cell_type": "code",
   "execution_count": null,
   "id": "a583147f-8f9c-4962-b78d-7f8e1071d9bb",
   "metadata": {},
   "outputs": [],
   "source": [
    "adata"
   ]
  },
  {
   "cell_type": "code",
   "execution_count": null,
   "id": "0fb35496-84ba-40b0-b4ab-674cd9bd0a3b",
   "metadata": {},
   "outputs": [],
   "source": [
    "adata.var['mt'] = adata.var_names.str.startswith('MT-') "
   ]
  },
  {
   "cell_type": "code",
   "execution_count": null,
   "id": "75165eed-7855-4001-8c27-7044c397edfe",
   "metadata": {},
   "outputs": [],
   "source": [
    "adata.raw = adata"
   ]
  },
  {
   "cell_type": "code",
   "execution_count": null,
   "id": "504574d5-849f-4416-a4f7-0d2f23dd9f71",
   "metadata": {},
   "outputs": [],
   "source": [
    "#adata = adata[:, adata.var.highly_variable]\n",
    "adata = adata[:, np.logical_and(adata.var.highly_variable, np.logical_not(adata.var.mt))]"
   ]
  },
  {
   "cell_type": "code",
   "execution_count": null,
   "id": "aec66466-4e2a-44c0-9da5-393e48f10ffa",
   "metadata": {},
   "outputs": [],
   "source": [
    "#sc.pp.regress_out(adata, ['total_counts', 'pct_counts_mt'])"
   ]
  },
  {
   "cell_type": "code",
   "execution_count": null,
   "id": "564ae1f7-2dff-4c10-92ca-03ed10ccca62",
   "metadata": {},
   "outputs": [],
   "source": [
    "#sc.pp.scale(adata, max_value=5)"
   ]
  },
  {
   "cell_type": "code",
   "execution_count": null,
   "id": "41580a90-e391-4bb7-bd3a-ae5b9f51ffd2",
   "metadata": {},
   "outputs": [],
   "source": [
    "sc.tl.pca(adata, n_comps = 100, svd_solver='arpack')"
   ]
  },
  {
   "cell_type": "code",
   "execution_count": null,
   "id": "c9bae111-68b9-477d-8f4c-1aac0727737e",
   "metadata": {},
   "outputs": [],
   "source": [
    "sc.pl.pca_variance_ratio(adata, n_pcs = 100, log=True)"
   ]
  },
  {
   "cell_type": "code",
   "execution_count": null,
   "id": "657dd63b-ab4b-45b3-aa6f-9d0c0c036bb7",
   "metadata": {},
   "outputs": [],
   "source": [
    "sc.pl.pca_variance_ratio(adata, n_pcs = 100)"
   ]
  },
  {
   "cell_type": "code",
   "execution_count": null,
   "id": "825c4d59-d6c4-49ef-aa3a-a9fc3d1559c3",
   "metadata": {},
   "outputs": [],
   "source": [
    "sc.pl.pca(adata, color=[\"cell_annotation\"])"
   ]
  },
  {
   "cell_type": "code",
   "execution_count": null,
   "id": "94719b86-625f-47a4-a732-d74228ad7974",
   "metadata": {},
   "outputs": [],
   "source": [
    "sc.pp.neighbors(adata, n_neighbors=20, n_pcs=60)"
   ]
  },
  {
   "cell_type": "code",
   "execution_count": null,
   "id": "7cac95f0-1712-416f-bc8d-8d3f3ffd7652",
   "metadata": {},
   "outputs": [],
   "source": [
    "sc.tl.umap(adata)"
   ]
  },
  {
   "cell_type": "code",
   "execution_count": null,
   "id": "015b4450-a029-4688-847a-73f8f49dbe1e",
   "metadata": {},
   "outputs": [],
   "source": [
    "sc.tl.leiden(adata, resolution=0.2)"
   ]
  },
  {
   "cell_type": "code",
   "execution_count": null,
   "id": "a7d77409-5e2f-47b4-88d2-4013af241fcd",
   "metadata": {},
   "outputs": [],
   "source": [
    "adata"
   ]
  },
  {
   "cell_type": "code",
   "execution_count": null,
   "id": "b705159d-40af-4023-9e9a-35b91383d8db",
   "metadata": {},
   "outputs": [],
   "source": [
    "sc.pl.umap(adata, color=[\"leiden\",\"cell_annotation\",batchKey],ncols=2)"
   ]
  },
  {
   "cell_type": "code",
   "execution_count": null,
   "id": "9218409e-64c3-45d2-8eb4-fd003ef667ff",
   "metadata": {},
   "outputs": [],
   "source": [
    "from collections import Counter"
   ]
  },
  {
   "cell_type": "code",
   "execution_count": null,
   "id": "4bffbf52-6ad7-428b-bca4-58e02ee1ff4b",
   "metadata": {
    "tags": []
   },
   "outputs": [],
   "source": [
    "#for i in adata.obs.leiden.cat.categories:\n",
    "#    print(i)\n",
    "#    print(Counter(adata.obs[adata.obs.leiden==i].cell_annotation))\n",
    "#    print(Counter(adata.obs[adata.obs.leiden==i].species))\n",
    "#    print()"
   ]
  },
  {
   "cell_type": "code",
   "execution_count": null,
   "id": "662816ac-7e6f-41c0-92fa-b713b7d28277",
   "metadata": {},
   "outputs": [],
   "source": []
  },
  {
   "cell_type": "code",
   "execution_count": null,
   "id": "3d04383a-44dc-41f5-985d-db88bf7b40de",
   "metadata": {},
   "outputs": [],
   "source": [
    "leidenDict = {'0':\"Endo\", \n",
    "              '1':\"Fibro\", \n",
    "              '2':\"Fibro\",\n",
    "              '3':\"Fibro\",\n",
    "              '4':\"Endo\",\n",
    "              '5':\"Fibro\",\n",
    "              '6':\"Fibro\",\n",
    "              '7':\"MuSCs\",\n",
    "              '8':\"Smooth\",\n",
    "              '9':\"MuSCs\",\n",
    "              '10':\"Adipo\",\n",
    "              '11':\"Macro\",\n",
    "              '12':\"B/T/NK\",\n",
    "              '13':\"Smooth\",\n",
    "              '14':\"Skel\",\n",
    "              '15':\"Neural\",\n",
    "              '16':\"MuSCs\",\n",
    "              '17':\"B/T/NK\",\n",
    "              '18':\"B/T/NK\",\n",
    "              '19':\"Macro\",\n",
    "              '20':\"Skel\",\n",
    "              '21':\"Smooth\",\n",
    "              '22':\"Endo\",}\n",
    "adata.obs[\"simple\"] = [leidenDict[c] for c in adata.obs.leiden]"
   ]
  },
  {
   "cell_type": "code",
   "execution_count": null,
   "id": "e6547f1e-83cb-42cc-9182-f9c76c196636",
   "metadata": {},
   "outputs": [],
   "source": [
    "sc.pl.umap(adata, color=[\"simple\",\"species\"],legend_loc=\"on data\")"
   ]
  },
  {
   "cell_type": "code",
   "execution_count": null,
   "id": "141df6f4-6987-434a-879b-c9578e987c49",
   "metadata": {},
   "outputs": [],
   "source": [
    "mergedAdataFile"
   ]
  },
  {
   "cell_type": "code",
   "execution_count": null,
   "id": "50e2aa86-3961-44a3-bcae-e3f1abcb6323",
   "metadata": {},
   "outputs": [],
   "source": [
    "adata.write(mergedAdataFile)"
   ]
  },
  {
   "cell_type": "code",
   "execution_count": null,
   "id": "eb800d43-880a-48e5-9b35-c9e6499d9087",
   "metadata": {},
   "outputs": [],
   "source": []
  }
 ],
 "metadata": {
  "kernelspec": {
   "display_name": "Python 3 (ipykernel)",
   "language": "python",
   "name": "python3"
  },
  "language_info": {
   "codemirror_mode": {
    "name": "ipython",
    "version": 3
   },
   "file_extension": ".py",
   "mimetype": "text/x-python",
   "name": "python",
   "nbconvert_exporter": "python",
   "pygments_lexer": "ipython3",
   "version": "3.8.16"
  }
 },
 "nbformat": 4,
 "nbformat_minor": 5
}
