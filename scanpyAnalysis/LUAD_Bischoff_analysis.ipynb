{
 "cells": [
  {
   "cell_type": "code",
   "execution_count": null,
   "id": "425c36fc-f0af-4c76-93d7-cf512d943577",
   "metadata": {},
   "outputs": [],
   "source": []
  },
  {
   "cell_type": "code",
   "execution_count": null,
   "id": "252d89ce-66b2-430f-abb7-5c91d66b7d3f",
   "metadata": {},
   "outputs": [],
   "source": [
    "import numpy as np\n",
    "import pandas as pd\n",
    "import scanpy as sc\n",
    "import scipy.io\n",
    "import scanpy.external as scex\n",
    "import sklearn.metrics\n",
    "import seaborn as sns\n",
    "from matplotlib import pyplot as plt\n",
    "import scanpyHelpers as scH"
   ]
  },
  {
   "cell_type": "code",
   "execution_count": null,
   "id": "12931800-be2f-4ec5-ae70-ce938498b203",
   "metadata": {},
   "outputs": [],
   "source": [
    "homology = pd.read_table(\"data/hgncHM_121.csv\", sep=\",\")\n",
    "mouseGenes = np.array(homology[\"mouse\"])\n",
    "humanGenes = np.array(homology[\"human\"])\n",
    "homology"
   ]
  },
  {
   "cell_type": "code",
   "execution_count": null,
   "id": "645d8750-2a93-49ed-9a60-40d01fa7eb0e",
   "metadata": {},
   "outputs": [],
   "source": [
    "#adata=sc.read(results_file_post)\n",
    "#adata.uns['log1p'] = {\"base\":None}"
   ]
  },
  {
   "cell_type": "markdown",
   "id": "139dcda2-4b50-45aa-85e8-663e70a74cb6",
   "metadata": {},
   "source": [
    "Set up out properties"
   ]
  },
  {
   "cell_type": "code",
   "execution_count": null,
   "id": "304826fc-ac59-4d76-a655-1f93f7bcdd6e",
   "metadata": {
    "scrolled": true,
    "tags": []
   },
   "outputs": [],
   "source": [
    "sc.settings.verbosity = 0             # verbosity: errors (0), warnings (1), info (2), hints (3)\n",
    "sc.logging.print_header()\n",
    "sc.settings.set_figure_params(dpi=80, facecolor='white')"
   ]
  },
  {
   "cell_type": "code",
   "execution_count": null,
   "id": "a3958527-8b39-4c29-9163-eee788c190cf",
   "metadata": {},
   "outputs": [],
   "source": [
    "%matplotlib inline"
   ]
  },
  {
   "cell_type": "markdown",
   "id": "968566a5-e27e-43f5-8cb2-b935b5a12dd7",
   "metadata": {},
   "source": [
    "Set scanpy out-files"
   ]
  },
  {
   "cell_type": "code",
   "execution_count": null,
   "id": "c4675a44-ce4a-4f38-b04a-66c4fc2e0bb4",
   "metadata": {},
   "outputs": [],
   "source": [
    "writeDir = \"write/\"\n",
    "\n",
    "fileName = \"luadBischoff\"\n",
    "\n",
    "resultsFile = writeDir + fileName + '.h5ad'       # final output\n",
    "resultsFileQC = writeDir + fileName + '_QC.h5ad'  # post QC (pre-analysis) "
   ]
  },
  {
   "cell_type": "markdown",
   "id": "77696e51-c2b5-4a05-964f-d52840995ce1",
   "metadata": {
    "tags": []
   },
   "source": [
    "Set figure parameters"
   ]
  },
  {
   "cell_type": "code",
   "execution_count": null,
   "id": "e50cffba-ab13-40fe-b978-c525fb1db4a5",
   "metadata": {
    "tags": []
   },
   "outputs": [],
   "source": [
    "sc.set_figure_params(scanpy=True, dpi=100, dpi_save=150, fontsize=10, format='png')\n",
    "sc.settings.figdir = \"figures/\" + fileName + \"/\"\n",
    "figName = fileName"
   ]
  },
  {
   "cell_type": "code",
   "execution_count": null,
   "id": "83f3aa4e-f800-488a-b41e-0443986c9415",
   "metadata": {
    "tags": []
   },
   "outputs": [],
   "source": [
    "adata = sc.read_h5ad(resultsFileQC)\n",
    "adata"
   ]
  },
  {
   "cell_type": "code",
   "execution_count": null,
   "id": "fd519604-142b-4ef7-b3a4-778e523450a5",
   "metadata": {},
   "outputs": [],
   "source": [
    "adata = adata[adata.obs.source==\"Tumor\"]\n",
    "adata = adata[adata.obs.cell_type==\"Malignant\"]\n",
    "adata"
   ]
  },
  {
   "cell_type": "code",
   "execution_count": null,
   "id": "27dc0834-bd15-42f9-9979-4dbb33ef7c45",
   "metadata": {},
   "outputs": [],
   "source": [
    "from collections import Counter\n",
    "Counter(adata.obs.patient)"
   ]
  },
  {
   "cell_type": "markdown",
   "id": "c784edb4-f85d-438c-8a5b-28c551598587",
   "metadata": {},
   "source": [
    "# P32"
   ]
  },
  {
   "cell_type": "code",
   "execution_count": null,
   "id": "db4a2712-c2f0-481c-864a-fb7dc650b65c",
   "metadata": {},
   "outputs": [],
   "source": [
    "patient = ['p032']\n",
    "#adata = adata[adata.obs.patient== patient]\n",
    "adata = adata[[p in patient for p in adata.obs[\"patient\"]],]\n",
    "\n",
    "#resultsFile = writeDir + fileName + patient+ '.h5ad'  \n",
    "#adata.layers[\"counts\"] = adata.X.copy()\n",
    "adata"
   ]
  },
  {
   "cell_type": "code",
   "execution_count": null,
   "id": "d01530e1-6133-4113-aad5-c5d768aba82a",
   "metadata": {},
   "outputs": [],
   "source": [
    "sc.pp.normalize_total(adata,target_sum=1e4)"
   ]
  },
  {
   "cell_type": "code",
   "execution_count": null,
   "id": "7c826e38-bb29-4e00-933a-55b59581a5d9",
   "metadata": {},
   "outputs": [],
   "source": [
    "sc.pp.log1p(adata)"
   ]
  },
  {
   "cell_type": "code",
   "execution_count": null,
   "id": "c0a8f72d-1efd-4bef-bbb8-9241c20bed70",
   "metadata": {},
   "outputs": [],
   "source": [
    "#adata.write(writeDir + fileName + patient+ '_QC.h5ad')"
   ]
  },
  {
   "cell_type": "code",
   "execution_count": null,
   "id": "81fe9223-7eac-46a7-8321-b718e726830a",
   "metadata": {},
   "outputs": [],
   "source": [
    "sc.pp.highly_variable_genes(adata)#, flavor = \"seurat\", n_top_genes=2000)"
   ]
  },
  {
   "cell_type": "code",
   "execution_count": null,
   "id": "43902dc2-466e-46e2-9f31-4deb304db630",
   "metadata": {},
   "outputs": [],
   "source": [
    "minMean = 0.075\n",
    "maxMean = 2.5\n",
    "minDisp = 0.5\n",
    "\n",
    "fig, axs = plt.subplots(1, 2, figsize=(10, 5))\n",
    "\n",
    "means = adata.var[[\"means\"]][adata.var[[\"means\"]] > np.exp(-14)]#adata.var[[\"means\"]],\n",
    "axs[0].hist(np.log(means), bins=100)#, log=True),\n",
    "axs[0].axvline(np.log(minMean), color='k', linestyle='dashed', linewidth=1)\n",
    "axs[0].axvline(np.log(maxMean), color='k', linestyle='dashed', linewidth=1)\n",
    "axs[0].set_title('Gene means counts')\n",
    "axs[0].set_xlabel('means')\n",
    "axs[0].set_ylabel('counts')\n",
    "\n",
    "dispNorm = adata.var[[\"dispersions_norm\"]][adata.var[[\"dispersions_norm\"]] > np.exp(-5)]#adata.var[[\"means\"]],\n",
    "axs[1].hist(np.log(dispNorm), bins=100)#, log=True),\n",
    "axs[1].axvline(np.log(minDisp), color='k', linestyle='dashed', linewidth=1)\n",
    "axs[1].set_title('Gene dispersions counts')\n",
    "axs[1].set_xlabel('dispersions')\n",
    "axs[1].set_ylabel('counts')\n",
    "\n",
    "sc.pp.highly_variable_genes(adata, min_disp=minDisp, min_mean=minMean, max_mean=maxMean)\n",
    "print(sum(adata.var.highly_variable))"
   ]
  },
  {
   "cell_type": "code",
   "execution_count": null,
   "id": "8cda0b69-f64e-447a-961a-7c50fe8e5bf0",
   "metadata": {},
   "outputs": [],
   "source": [
    "sc.pl.highly_variable_genes(adata)"
   ]
  },
  {
   "cell_type": "code",
   "execution_count": null,
   "id": "325e82de-43f6-4934-a6a6-50ddf02a94a8",
   "metadata": {},
   "outputs": [],
   "source": [
    "#for inGene in adata.var[-8:].index.tolist():\n",
    "#    adata.var.loc[inGene,\"highly_variable\"] = False"
   ]
  },
  {
   "cell_type": "code",
   "execution_count": null,
   "id": "7a1143eb-b1f7-40ef-9a85-d6be0051667a",
   "metadata": {},
   "outputs": [],
   "source": [
    "adata.raw = adata"
   ]
  },
  {
   "cell_type": "code",
   "execution_count": null,
   "id": "5e2861e5-09c6-4a19-bb72-62a238c47a79",
   "metadata": {},
   "outputs": [],
   "source": [
    "#adata = adata[:, adata.var.highly_variable]\n",
    "adata = adata[:, np.logical_and(adata.var.highly_variable, np.logical_not(adata.var.mt))]"
   ]
  },
  {
   "cell_type": "code",
   "execution_count": null,
   "id": "673c60dc-7028-48e2-9ccf-9b5ae45934d1",
   "metadata": {},
   "outputs": [],
   "source": [
    "#sc.pp.regress_out(adata, ['total_counts', 'pct_counts_mt'])"
   ]
  },
  {
   "cell_type": "code",
   "execution_count": null,
   "id": "5440f444-9bf6-40bf-8267-3ff16acfab39",
   "metadata": {},
   "outputs": [],
   "source": [
    "#sc.pp.scale(adata, max_value=10)"
   ]
  },
  {
   "cell_type": "code",
   "execution_count": null,
   "id": "8935337f-dc02-4347-9bf1-6057d1c1a8e7",
   "metadata": {},
   "outputs": [],
   "source": [
    "sc.tl.pca(adata, n_comps = 100, svd_solver='arpack')"
   ]
  },
  {
   "cell_type": "code",
   "execution_count": null,
   "id": "ffcfea62-8864-4bdc-8d44-2c5bd56b7f42",
   "metadata": {},
   "outputs": [],
   "source": [
    "sc.pl.pca_variance_ratio(adata, n_pcs = 100, log=True)"
   ]
  },
  {
   "cell_type": "code",
   "execution_count": null,
   "id": "f694d1da-e616-48ba-8c66-c97008df6acc",
   "metadata": {},
   "outputs": [],
   "source": [
    "sc.pl.pca_variance_ratio(adata, n_pcs = 100)"
   ]
  },
  {
   "cell_type": "code",
   "execution_count": null,
   "id": "873dbc0c-4046-493f-bc92-32dd4e63c263",
   "metadata": {},
   "outputs": [],
   "source": [
    "sc.pp.neighbors(adata, n_neighbors=20, n_pcs=60)"
   ]
  },
  {
   "cell_type": "code",
   "execution_count": null,
   "id": "a56f3796-396c-4698-93d1-49cf6042e4ae",
   "metadata": {},
   "outputs": [],
   "source": [
    "sc.tl.umap(adata)"
   ]
  },
  {
   "cell_type": "code",
   "execution_count": null,
   "id": "5d9e7992-bf40-45f4-9b17-f1346e8d90b9",
   "metadata": {},
   "outputs": [],
   "source": [
    "sc.tl.leiden(adata, resolution=0.7)"
   ]
  },
  {
   "cell_type": "code",
   "execution_count": null,
   "id": "c4f96d76-7d3b-40ab-978a-fe4635c01d0b",
   "metadata": {},
   "outputs": [],
   "source": [
    "sc.pl.umap(adata, color=[\"leiden\",\"source\",\"cell_type\",\"patient\",\"PTPRC\",\"DCN\",\"EPCAM\",\"CAPS\"],ncols=4)"
   ]
  },
  {
   "cell_type": "code",
   "execution_count": null,
   "id": "8f1a5067-2499-4f1e-92be-e21d1b4920c0",
   "metadata": {},
   "outputs": [],
   "source": [
    "sc.pl.pca(adata, color=[\"leiden\",\"source\",\"cell_type\",\"patient\",\"PTPRC\",\"DCN\",\"EPCAM\",\"CAPS\"],ncols=4)"
   ]
  },
  {
   "cell_type": "code",
   "execution_count": null,
   "id": "0df26877-c177-4fe1-bcc5-e49041f18485",
   "metadata": {},
   "outputs": [],
   "source": [
    "sc.pl.umap(adata, color=[\"n_genes\",\"pct_counts_mt\",\"total_counts\"])"
   ]
  },
  {
   "cell_type": "code",
   "execution_count": null,
   "id": "0b1ce43d-f4a2-4600-ab73-55f52fb22ca2",
   "metadata": {},
   "outputs": [],
   "source": []
  },
  {
   "cell_type": "code",
   "execution_count": null,
   "id": "2c2642e5-9d04-454f-afb6-64b82c1533d2",
   "metadata": {},
   "outputs": [],
   "source": [
    "clustToLabel = {\"Cluster 1\":\"AT2-like\",\n",
    " \"Cluster 2\":\"AT2-like\",\n",
    " \"Cluster 3\":\"AT1-like\",\n",
    " \"Cluster 4\":\"Endoderm-like\",\n",
    " \"Cluster 5\":\"HPCS\",\n",
    " \"Cluster 6\":\"GiEpi\",\n",
    " \"Cluster 7\":\"Prolif\",\n",
    " \"Cluster 8\":\"EmbLiv\",\n",
    " \"Cluster 9\":\"Rib\",\n",
    " \"Cluster 10\":\"Gastro\",\n",
    " \"Cluster 11\":\"EMT\",\n",
    " \"Cluster 12\":\"Adv\"}\n",
    "\n",
    "homology = pd.read_table(\"../mhCompTiss/data/hgncHM_121.csv\", sep=\",\")\n",
    "mouseGenes = np.array(homology[\"mouse\"])\n",
    "humanGenes = np.array(homology[\"human\"])\n",
    "m2h = dict(zip(mouseGenes,humanGenes))\n",
    "h2m = dict(zip(humanGenes,mouseGenes))\n",
    "\n",
    "from collections import Counter\n",
    "sigFile = \"data/LUAD/simpLUADcs.csv\"\n",
    "sigGenes = pd.read_excel(\"data/LUAD/LUADhpcs.xlsx\")\n",
    "sigGenes = sigGenes[['Cluster 1', 'Cluster 2', 'Cluster 3', \n",
    "                     'Cluster 4', 'Cluster 5', 'Cluster 6', \n",
    "                     'Cluster 7', 'Cluster 9','Cluster 8', 'Cluster 10',\n",
    "                     'Cluster 11','Cluster 12'\n",
    "                    ]]\n",
    "\n",
    "#adata = sc.read_h5ad(resultsFile)\n",
    "\n",
    "sc.tl.leiden(adata, resolution=0.6)\n",
    "\n",
    "for gs in sigGenes:\n",
    "    sc.tl.score_genes(adata,[m2h[g] for g in sigGenes[gs].dropna() if g in m2h.keys()],score_name=f\"{gs}Score\")\n",
    "scoreMat = adata.obs[[f\"{sigName}Score\" for sigName in sigGenes.columns]]\n",
    "adata.obs[\"zsig\"] = scH.zScores(scoreMat, cutoff = 1)\n",
    "relabelDict = {}\n",
    "for li in adata.obs.leiden.cat.categories:\n",
    "    mostCommon = Counter(adata[adata.obs.leiden==li].obs.zsig).most_common(2)\n",
    "    relabel = \"\"\n",
    "    if(mostCommon[0][0] in clustToLabel.keys()):\n",
    "        relabel = clustToLabel[mostCommon[0][0]]\n",
    "    else:\n",
    "        relabel = clustToLabel[mostCommon[1][0]]\n",
    "    relabelDict[li] = relabel\n",
    "print(relabelDict)\n",
    "adata.obs[\"cs\"] = [relabelDict[li] for li in adata.obs.leiden]"
   ]
  },
  {
   "cell_type": "code",
   "execution_count": null,
   "id": "6a8d8c05-4156-497c-91e2-42d093ae5898",
   "metadata": {},
   "outputs": [],
   "source": [
    "sc.pl.umap(adata, color=[\"leiden\",\"cs\"],ncols=4)"
   ]
  },
  {
   "cell_type": "code",
   "execution_count": null,
   "id": "5ac2bf8e-0789-4d6d-abcf-760225e09d98",
   "metadata": {},
   "outputs": [],
   "source": [
    "sc.pl.umap(adata, color=[f\"{sigName}Score\" for sigName in sigGenes.columns], cmap=\"bwr\", ncols=4)"
   ]
  },
  {
   "cell_type": "code",
   "execution_count": null,
   "id": "0e3815d5-57f0-4ba0-ad8e-709b28b86961",
   "metadata": {},
   "outputs": [],
   "source": [
    "resultsFileQC"
   ]
  },
  {
   "cell_type": "code",
   "execution_count": null,
   "id": "1d964c66-97f6-40b6-abdc-27b014ea6d0c",
   "metadata": {},
   "outputs": [],
   "source": [
    "adata.write('write/luadBischoff_p32.h5ad')"
   ]
  },
  {
   "cell_type": "markdown",
   "id": "d3b7288a-35a3-47ca-b035-3e40765eeab1",
   "metadata": {},
   "source": [
    "# P24"
   ]
  },
  {
   "cell_type": "code",
   "execution_count": null,
   "id": "af0ab91e-b656-4b93-9e36-8c96ed6ea7c2",
   "metadata": {
    "tags": []
   },
   "outputs": [],
   "source": [
    "adata = sc.read_h5ad(resultsFileQC)\n",
    "adata"
   ]
  },
  {
   "cell_type": "code",
   "execution_count": null,
   "id": "34393659-38d8-4625-9e64-05a58556b9e7",
   "metadata": {},
   "outputs": [],
   "source": [
    "adata = adata[adata.obs.source==\"Tumor\"]\n",
    "adata = adata[adata.obs.cell_type==\"Malignant\"]\n",
    "adata"
   ]
  },
  {
   "cell_type": "code",
   "execution_count": null,
   "id": "67bd4599-1d14-4c0a-bf74-47029253b5e7",
   "metadata": {},
   "outputs": [],
   "source": [
    "from collections import Counter\n",
    "Counter(adata.obs.patient)"
   ]
  },
  {
   "cell_type": "code",
   "execution_count": null,
   "id": "9203c1e1-a7e8-4e8a-8ed6-6ea5665233a6",
   "metadata": {},
   "outputs": [],
   "source": [
    "patient = ['p024']\n",
    "#adata = adata[adata.obs.patient== patient]\n",
    "adata = adata[[p in patient for p in adata.obs[\"patient\"]],]\n",
    "\n",
    "#resultsFile = writeDir + fileName + patient+ '.h5ad'  \n",
    "#adata.layers[\"counts\"] = adata.X.copy()\n",
    "adata"
   ]
  },
  {
   "cell_type": "code",
   "execution_count": null,
   "id": "a444b7f1-a5bd-498f-9c61-2d1ab3fa97cd",
   "metadata": {},
   "outputs": [],
   "source": [
    "sc.pp.normalize_total(adata,target_sum=1e4)"
   ]
  },
  {
   "cell_type": "code",
   "execution_count": null,
   "id": "b1f4b596-77a6-4fcd-a239-2e82a2b52f87",
   "metadata": {},
   "outputs": [],
   "source": [
    "sc.pp.log1p(adata)"
   ]
  },
  {
   "cell_type": "code",
   "execution_count": null,
   "id": "5435190c-f635-4a7b-94d7-6e5e189a2d9a",
   "metadata": {},
   "outputs": [],
   "source": [
    "#adata.write(writeDir + fileName + patient+ '_QC.h5ad')"
   ]
  },
  {
   "cell_type": "code",
   "execution_count": null,
   "id": "7b97f3ef-56c3-4c9b-9d4c-f10d7aec7fd8",
   "metadata": {},
   "outputs": [],
   "source": [
    "sc.pp.highly_variable_genes(adata)#, flavor = \"seurat\", n_top_genes=2000)"
   ]
  },
  {
   "cell_type": "code",
   "execution_count": null,
   "id": "eda34b95-c888-4f04-ba1f-1a33c6f8e16d",
   "metadata": {},
   "outputs": [],
   "source": [
    "minMean = 0.075\n",
    "maxMean = 2.6\n",
    "minDisp = 0.55\n",
    "\n",
    "fig, axs = plt.subplots(1, 2, figsize=(10, 5))\n",
    "\n",
    "means = adata.var[[\"means\"]][adata.var[[\"means\"]] > np.exp(-14)]#adata.var[[\"means\"]],\n",
    "axs[0].hist(np.log(means), bins=100)#, log=True),\n",
    "axs[0].axvline(np.log(minMean), color='k', linestyle='dashed', linewidth=1)\n",
    "axs[0].axvline(np.log(maxMean), color='k', linestyle='dashed', linewidth=1)\n",
    "axs[0].set_title('Gene means counts')\n",
    "axs[0].set_xlabel('means')\n",
    "axs[0].set_ylabel('counts')\n",
    "\n",
    "dispNorm = adata.var[[\"dispersions_norm\"]][adata.var[[\"dispersions_norm\"]] > np.exp(-5)]#adata.var[[\"means\"]],\n",
    "axs[1].hist(np.log(dispNorm), bins=100)#, log=True),\n",
    "axs[1].axvline(np.log(minDisp), color='k', linestyle='dashed', linewidth=1)\n",
    "axs[1].set_title('Gene dispersions counts')\n",
    "axs[1].set_xlabel('dispersions')\n",
    "axs[1].set_ylabel('counts')\n",
    "\n",
    "sc.pp.highly_variable_genes(adata, min_disp=minDisp, min_mean=minMean, max_mean=maxMean)\n",
    "print(sum(adata.var.highly_variable))"
   ]
  },
  {
   "cell_type": "code",
   "execution_count": null,
   "id": "458c86d1-0013-4fdc-9a2b-0c3903533674",
   "metadata": {},
   "outputs": [],
   "source": [
    "sc.pl.highly_variable_genes(adata)"
   ]
  },
  {
   "cell_type": "code",
   "execution_count": null,
   "id": "c9d3e1fe-c29f-45b0-aeb5-c5efc8c84ba5",
   "metadata": {},
   "outputs": [],
   "source": [
    "#for inGene in adata.var[-8:].index.tolist():\n",
    "#    adata.var.loc[inGene,\"highly_variable\"] = False"
   ]
  },
  {
   "cell_type": "code",
   "execution_count": null,
   "id": "f4cc0df9-680c-4cdb-afa6-43de2a5b737a",
   "metadata": {},
   "outputs": [],
   "source": [
    "adata.raw = adata"
   ]
  },
  {
   "cell_type": "code",
   "execution_count": null,
   "id": "14a2df57-e8a9-4df5-9838-4c8184640fd0",
   "metadata": {},
   "outputs": [],
   "source": [
    "#adata = adata[:, adata.var.highly_variable]\n",
    "adata = adata[:, np.logical_and(adata.var.highly_variable, np.logical_not(adata.var.mt))]"
   ]
  },
  {
   "cell_type": "code",
   "execution_count": null,
   "id": "f166167a-c1f6-46d6-8ff8-5b3410ad4fc6",
   "metadata": {},
   "outputs": [],
   "source": [
    "#sc.pp.regress_out(adata, ['total_counts', 'pct_counts_mt'])"
   ]
  },
  {
   "cell_type": "code",
   "execution_count": null,
   "id": "cd1d6f2c-7ec5-4d75-98d5-e73932c4daba",
   "metadata": {},
   "outputs": [],
   "source": [
    "#sc.pp.scale(adata, max_value=10)"
   ]
  },
  {
   "cell_type": "code",
   "execution_count": null,
   "id": "e553cc84-cd9e-47d6-9615-ac2aabdd7874",
   "metadata": {},
   "outputs": [],
   "source": [
    "sc.tl.pca(adata, n_comps = 100, svd_solver='arpack')"
   ]
  },
  {
   "cell_type": "code",
   "execution_count": null,
   "id": "abdc8733-16bd-4a07-97d1-d739f5e1e1ad",
   "metadata": {},
   "outputs": [],
   "source": [
    "sc.pl.pca_variance_ratio(adata, n_pcs = 100, log=True)"
   ]
  },
  {
   "cell_type": "code",
   "execution_count": null,
   "id": "db49df42-eaab-4474-9454-8e6e3faf04f2",
   "metadata": {},
   "outputs": [],
   "source": [
    "sc.pl.pca_variance_ratio(adata, n_pcs = 100)"
   ]
  },
  {
   "cell_type": "code",
   "execution_count": null,
   "id": "939014f0-8460-420c-9975-65adcd7da304",
   "metadata": {},
   "outputs": [],
   "source": [
    "sc.pp.neighbors(adata, n_neighbors=20, n_pcs=60)"
   ]
  },
  {
   "cell_type": "code",
   "execution_count": null,
   "id": "d9e22491-7c89-49df-a20b-00f54d8e5adb",
   "metadata": {},
   "outputs": [],
   "source": [
    "sc.tl.umap(adata)"
   ]
  },
  {
   "cell_type": "code",
   "execution_count": null,
   "id": "19ef05da-2f5a-429d-971b-30dc1808ac68",
   "metadata": {},
   "outputs": [],
   "source": [
    "sc.tl.leiden(adata, resolution=0.2)"
   ]
  },
  {
   "cell_type": "code",
   "execution_count": null,
   "id": "3dc9359e-0172-44a6-830c-ee4e51335471",
   "metadata": {},
   "outputs": [],
   "source": [
    "sc.pl.umap(adata, color=[\"leiden\",\"source\",\"cell_type\",\"patient\",\"PTPRC\",\"DCN\",\"EPCAM\",\"CAPS\"],ncols=4)"
   ]
  },
  {
   "cell_type": "code",
   "execution_count": null,
   "id": "defcc7dd-5a20-4cf5-bbad-5e57326c5446",
   "metadata": {},
   "outputs": [],
   "source": [
    "sc.pl.pca(adata, color=[\"leiden\",\"source\",\"cell_type\",\"patient\",\"PTPRC\",\"DCN\",\"EPCAM\",\"CAPS\"],ncols=4)"
   ]
  },
  {
   "cell_type": "code",
   "execution_count": null,
   "id": "9287ee37-57a5-4cf1-b41d-affc46bb7499",
   "metadata": {},
   "outputs": [],
   "source": [
    "sc.pl.umap(adata, color=[\"n_genes\",\"pct_counts_mt\",\"total_counts\"])"
   ]
  },
  {
   "cell_type": "code",
   "execution_count": null,
   "id": "1cd4ca43-02b7-4617-a741-cfe274a0fa29",
   "metadata": {},
   "outputs": [],
   "source": []
  },
  {
   "cell_type": "code",
   "execution_count": null,
   "id": "d2c56b71-4f24-4c8a-94cd-3fe93fff0fa5",
   "metadata": {},
   "outputs": [],
   "source": [
    "clustToLabel = {\"Cluster 1\":\"AT2-like\",\n",
    " \"Cluster 2\":\"AT2-like\",\n",
    " \"Cluster 3\":\"AT1-like\",\n",
    " \"Cluster 4\":\"Endoderm-like\",\n",
    " \"Cluster 5\":\"HPCS\",\n",
    " \"Cluster 6\":\"GiEpi\",\n",
    " \"Cluster 7\":\"Prolif\",\n",
    " \"Cluster 8\":\"EmbLiv\",\n",
    " \"Cluster 9\":\"Rib\",\n",
    " \"Cluster 10\":\"Gastro\",\n",
    " \"Cluster 11\":\"EMT\",\n",
    " \"Cluster 12\":\"Adv\"}\n",
    "\n",
    "homology = pd.read_table(\"../mhCompTiss/data/hgncHM_121.csv\", sep=\",\")\n",
    "mouseGenes = np.array(homology[\"mouse\"])\n",
    "humanGenes = np.array(homology[\"human\"])\n",
    "m2h = dict(zip(mouseGenes,humanGenes))\n",
    "h2m = dict(zip(humanGenes,mouseGenes))\n",
    "\n",
    "from collections import Counter\n",
    "sigFile = \"data/LUAD/simpLUADcs.csv\"\n",
    "sigGenes = pd.read_excel(\"data/LUAD/LUADhpcs.xlsx\")\n",
    "sigGenes = sigGenes[['Cluster 1', 'Cluster 2', 'Cluster 3', \n",
    "                     'Cluster 4', 'Cluster 5','Cluster 6', 'Cluster 7', \n",
    "                     'Cluster 9','Cluster 8', 'Cluster 10','Cluster 11',\n",
    "                     'Cluster 12'\n",
    "                    ]]\n",
    "\n",
    "#adata = sc.read_h5ad(resultsFile)\n",
    "\n",
    "sc.tl.leiden(adata, resolution=0.2)\n",
    "\n",
    "for gs in sigGenes:\n",
    "    sc.tl.score_genes(adata,[m2h[g] for g in sigGenes[gs].dropna() if g in m2h.keys()],score_name=f\"{gs}Score\")\n",
    "scoreMat = adata.obs[[f\"{sigName}Score\" for sigName in sigGenes.columns]]\n",
    "adata.obs[\"zsig\"] = scH.zScores(scoreMat, cutoff = 1)\n",
    "relabelDict = {}\n",
    "for li in adata.obs.leiden.cat.categories:\n",
    "    mostCommon = Counter(adata[adata.obs.leiden==li].obs.zsig).most_common(2)\n",
    "    relabel = \"\"\n",
    "    if(mostCommon[0][0] in clustToLabel.keys()):\n",
    "        relabel = clustToLabel[mostCommon[0][0]]\n",
    "    else:\n",
    "        relabel = clustToLabel[mostCommon[1][0]]\n",
    "    relabelDict[li] = relabel\n",
    "print(relabelDict)\n",
    "adata.obs[\"cs\"] = [relabelDict[li] for li in adata.obs.leiden]"
   ]
  },
  {
   "cell_type": "code",
   "execution_count": null,
   "id": "7041c6b2-85b6-453a-a07d-3a3e0b9bde6b",
   "metadata": {},
   "outputs": [],
   "source": [
    "sc.pl.umap(adata, color=[\"leiden\",\"cs\"],ncols=4)"
   ]
  },
  {
   "cell_type": "code",
   "execution_count": null,
   "id": "cd62844c-ee3e-45cc-a609-03d0b3339115",
   "metadata": {},
   "outputs": [],
   "source": [
    "sc.pl.umap(adata, color=[f\"{sigName}Score\" for sigName in sigGenes.columns], cmap=\"bwr\", ncols=4)"
   ]
  },
  {
   "cell_type": "code",
   "execution_count": null,
   "id": "75ae647f-55be-4741-bb34-fbad0f922203",
   "metadata": {},
   "outputs": [],
   "source": [
    "adata.write('write/luadBischoff_p24.h5ad')"
   ]
  },
  {
   "cell_type": "markdown",
   "id": "037f3f2b-d01c-462d-a368-829c8c1eae71",
   "metadata": {
    "execution": {
     "iopub.execute_input": "2024-10-09T15:49:18.435195Z",
     "iopub.status.busy": "2024-10-09T15:49:18.434930Z",
     "iopub.status.idle": "2024-10-09T15:49:18.437511Z",
     "shell.execute_reply": "2024-10-09T15:49:18.437074Z",
     "shell.execute_reply.started": "2024-10-09T15:49:18.435174Z"
    }
   },
   "source": [
    "# P18"
   ]
  },
  {
   "cell_type": "code",
   "execution_count": null,
   "id": "7a89f6f3-21b8-4f7b-b792-f5ef8eda3295",
   "metadata": {
    "tags": []
   },
   "outputs": [],
   "source": [
    "adata = sc.read_h5ad(resultsFileQC)\n",
    "adata"
   ]
  },
  {
   "cell_type": "code",
   "execution_count": null,
   "id": "4c0174ec-8564-4b11-acce-7f581fa79133",
   "metadata": {},
   "outputs": [],
   "source": [
    "adata = adata[adata.obs.source==\"Tumor\"]\n",
    "adata = adata[adata.obs.cell_type==\"Malignant\"]\n",
    "adata"
   ]
  },
  {
   "cell_type": "code",
   "execution_count": null,
   "id": "dec6a873-7385-486d-b06e-3ef8bae2f7c7",
   "metadata": {},
   "outputs": [],
   "source": [
    "from collections import Counter\n",
    "Counter(adata.obs.patient)"
   ]
  },
  {
   "cell_type": "code",
   "execution_count": null,
   "id": "ec48a75d-671f-4fbc-93da-7bbaf492c261",
   "metadata": {},
   "outputs": [],
   "source": [
    "patient = ['p018']\n",
    "#adata = adata[adata.obs.patient== patient]\n",
    "adata = adata[[p in patient for p in adata.obs[\"patient\"]],]\n",
    "\n",
    "#resultsFile = writeDir + fileName + patient+ '.h5ad'  \n",
    "#adata.layers[\"counts\"] = adata.X.copy()\n",
    "adata"
   ]
  },
  {
   "cell_type": "code",
   "execution_count": null,
   "id": "8f3ce983-090e-454c-9bc7-f007104825d7",
   "metadata": {},
   "outputs": [],
   "source": [
    "sc.pp.normalize_total(adata,target_sum=1e4)"
   ]
  },
  {
   "cell_type": "code",
   "execution_count": null,
   "id": "707f05b7-1e68-400c-9f32-7443ce2bd576",
   "metadata": {},
   "outputs": [],
   "source": [
    "sc.pp.log1p(adata)"
   ]
  },
  {
   "cell_type": "code",
   "execution_count": null,
   "id": "a25fbc7e-b77d-4c81-97c3-ae2cc3ee9b5c",
   "metadata": {},
   "outputs": [],
   "source": [
    "#adata.write(writeDir + fileName + patient+ '_QC.h5ad')"
   ]
  },
  {
   "cell_type": "code",
   "execution_count": null,
   "id": "62401f08-710f-4535-a4f2-070e53a5b6a7",
   "metadata": {},
   "outputs": [],
   "source": [
    "sc.pp.highly_variable_genes(adata)#, flavor = \"seurat\", n_top_genes=2000)"
   ]
  },
  {
   "cell_type": "code",
   "execution_count": null,
   "id": "5e306e3a-fe5b-4de4-a79e-18a8dec92211",
   "metadata": {},
   "outputs": [],
   "source": [
    "minMean = 0.075\n",
    "maxMean = 2.6\n",
    "minDisp = 0.55\n",
    "\n",
    "fig, axs = plt.subplots(1, 2, figsize=(10, 5))\n",
    "\n",
    "means = adata.var[[\"means\"]][adata.var[[\"means\"]] > np.exp(-14)]#adata.var[[\"means\"]],\n",
    "axs[0].hist(np.log(means), bins=100)#, log=True),\n",
    "axs[0].axvline(np.log(minMean), color='k', linestyle='dashed', linewidth=1)\n",
    "axs[0].axvline(np.log(maxMean), color='k', linestyle='dashed', linewidth=1)\n",
    "axs[0].set_title('Gene means counts')\n",
    "axs[0].set_xlabel('means')\n",
    "axs[0].set_ylabel('counts')\n",
    "\n",
    "dispNorm = adata.var[[\"dispersions_norm\"]][adata.var[[\"dispersions_norm\"]] > np.exp(-5)]#adata.var[[\"means\"]],\n",
    "axs[1].hist(np.log(dispNorm), bins=100)#, log=True),\n",
    "axs[1].axvline(np.log(minDisp), color='k', linestyle='dashed', linewidth=1)\n",
    "axs[1].set_title('Gene dispersions counts')\n",
    "axs[1].set_xlabel('dispersions')\n",
    "axs[1].set_ylabel('counts')\n",
    "\n",
    "sc.pp.highly_variable_genes(adata, min_disp=minDisp, min_mean=minMean, max_mean=maxMean)\n",
    "print(sum(adata.var.highly_variable))"
   ]
  },
  {
   "cell_type": "code",
   "execution_count": null,
   "id": "6d8bd38b-ce4c-4220-b477-654c091728eb",
   "metadata": {},
   "outputs": [],
   "source": [
    "sc.pl.highly_variable_genes(adata)"
   ]
  },
  {
   "cell_type": "code",
   "execution_count": null,
   "id": "eea82134-0859-4cbe-a8c4-9d274dbe9fba",
   "metadata": {},
   "outputs": [],
   "source": [
    "#for inGene in adata.var[-8:].index.tolist():\n",
    "#    adata.var.loc[inGene,\"highly_variable\"] = False"
   ]
  },
  {
   "cell_type": "code",
   "execution_count": null,
   "id": "3384fa82-16eb-4153-ac51-009139217c14",
   "metadata": {},
   "outputs": [],
   "source": [
    "adata.raw = adata"
   ]
  },
  {
   "cell_type": "code",
   "execution_count": null,
   "id": "e0a260a7-f5c8-4988-8386-181b57dc85cb",
   "metadata": {},
   "outputs": [],
   "source": [
    "#adata = adata[:, adata.var.highly_variable]\n",
    "adata = adata[:, np.logical_and(adata.var.highly_variable, np.logical_not(adata.var.mt))]"
   ]
  },
  {
   "cell_type": "code",
   "execution_count": null,
   "id": "9a84628c-faf3-47f5-8327-e55c04843b2c",
   "metadata": {},
   "outputs": [],
   "source": [
    "#sc.pp.regress_out(adata, ['total_counts', 'pct_counts_mt'])"
   ]
  },
  {
   "cell_type": "code",
   "execution_count": null,
   "id": "594fde35-9b1d-4f38-9466-162afd08c252",
   "metadata": {},
   "outputs": [],
   "source": [
    "#sc.pp.scale(adata, max_value=10)"
   ]
  },
  {
   "cell_type": "code",
   "execution_count": null,
   "id": "3f517835-567f-415c-bf40-ed6e0b9cb8e3",
   "metadata": {},
   "outputs": [],
   "source": [
    "sc.tl.pca(adata, n_comps = 100, svd_solver='arpack')"
   ]
  },
  {
   "cell_type": "code",
   "execution_count": null,
   "id": "fad5c289-02a5-479c-b468-704e10ef8962",
   "metadata": {},
   "outputs": [],
   "source": [
    "sc.pl.pca_variance_ratio(adata, n_pcs = 100, log=True)"
   ]
  },
  {
   "cell_type": "code",
   "execution_count": null,
   "id": "1ba75890-5deb-43f7-9467-d193ce9dc8d4",
   "metadata": {},
   "outputs": [],
   "source": [
    "sc.pl.pca_variance_ratio(adata, n_pcs = 100)"
   ]
  },
  {
   "cell_type": "code",
   "execution_count": null,
   "id": "0283a23e-3d60-4111-b53a-965d79a54ec8",
   "metadata": {},
   "outputs": [],
   "source": [
    "sc.pp.neighbors(adata, n_neighbors=20, n_pcs=60)"
   ]
  },
  {
   "cell_type": "code",
   "execution_count": null,
   "id": "0b99bfd0-43a0-489c-9232-d3e5cea9104d",
   "metadata": {},
   "outputs": [],
   "source": [
    "sc.tl.umap(adata)"
   ]
  },
  {
   "cell_type": "code",
   "execution_count": null,
   "id": "d1009180-1e88-4c33-bf3e-4c66e284aab6",
   "metadata": {},
   "outputs": [],
   "source": [
    "sc.tl.leiden(adata, resolution=0.7)"
   ]
  },
  {
   "cell_type": "code",
   "execution_count": null,
   "id": "30ce3c66-4735-4dcf-97a9-5760c344250e",
   "metadata": {},
   "outputs": [],
   "source": [
    "sc.pl.umap(adata, color=[\"leiden\",\"source\",\"cell_type\",\"patient\",\"PTPRC\",\"DCN\",\"EPCAM\",\"CAPS\"],ncols=4)"
   ]
  },
  {
   "cell_type": "code",
   "execution_count": null,
   "id": "8edcd9d1-c538-4e83-b531-5938c55b2ab5",
   "metadata": {},
   "outputs": [],
   "source": [
    "sc.pl.pca(adata, color=[\"leiden\",\"source\",\"cell_type\",\"patient\",\"PTPRC\",\"DCN\",\"EPCAM\",\"CAPS\"],ncols=4)"
   ]
  },
  {
   "cell_type": "code",
   "execution_count": null,
   "id": "bc680606-dbae-415f-a2c7-8244e4d4933e",
   "metadata": {},
   "outputs": [],
   "source": [
    "sc.pl.umap(adata, color=[\"n_genes\",\"pct_counts_mt\",\"total_counts\"])"
   ]
  },
  {
   "cell_type": "code",
   "execution_count": null,
   "id": "03816748-8e5b-45f4-9c5f-f8a5adde69a5",
   "metadata": {},
   "outputs": [],
   "source": []
  },
  {
   "cell_type": "code",
   "execution_count": null,
   "id": "8462c0ae-0d28-406e-81cf-8ddff69b4e12",
   "metadata": {},
   "outputs": [],
   "source": [
    "clustToLabel = {\"Cluster 1\":\"AT2-like\",\n",
    " \"Cluster 2\":\"AT2-like\",\n",
    " \"Cluster 3\":\"AT1-like\",\n",
    " \"Cluster 4\":\"Endoderm-like\",\n",
    " \"Cluster 5\":\"HPCS\",\n",
    " \"Cluster 6\":\"GiEpi\",\n",
    " \"Cluster 7\":\"Prolif\",\n",
    " \"Cluster 8\":\"EmbLiv\",\n",
    " \"Cluster 9\":\"Rib\",\n",
    " \"Cluster 10\":\"Gastro\",\n",
    " \"Cluster 11\":\"EMT\",\n",
    " \"Cluster 12\":\"Adv\"}\n",
    "\n",
    "homology = pd.read_table(\"../mhCompTiss/data/hgncHM_121.csv\", sep=\",\")\n",
    "mouseGenes = np.array(homology[\"mouse\"])\n",
    "humanGenes = np.array(homology[\"human\"])\n",
    "m2h = dict(zip(mouseGenes,humanGenes))\n",
    "h2m = dict(zip(humanGenes,mouseGenes))\n",
    "\n",
    "from collections import Counter\n",
    "sigFile = \"data/LUAD/simpLUADcs.csv\"\n",
    "sigGenes = pd.read_excel(\"data/LUAD/LUADhpcs.xlsx\")\n",
    "sigGenes = sigGenes[['Cluster 1', 'Cluster 2', 'Cluster 3', \n",
    "                     'Cluster 4', 'Cluster 5','Cluster 6', 'Cluster 7', \n",
    "                     'Cluster 9','Cluster 8', 'Cluster 10','Cluster 11',\n",
    "                     'Cluster 12'\n",
    "                    ]]\n",
    "\n",
    "#adata = sc.read_h5ad(resultsFile)\n",
    "\n",
    "sc.tl.leiden(adata, resolution=0.6)\n",
    "\n",
    "for gs in sigGenes:\n",
    "    sc.tl.score_genes(adata,[m2h[g] for g in sigGenes[gs].dropna() if g in m2h.keys()],score_name=f\"{gs}Score\")\n",
    "scoreMat = adata.obs[[f\"{sigName}Score\" for sigName in sigGenes.columns]]\n",
    "adata.obs[\"zsig\"] = scH.zScores(scoreMat, cutoff = 1)\n",
    "relabelDict = {}\n",
    "for li in adata.obs.leiden.cat.categories:\n",
    "    mostCommon = Counter(adata[adata.obs.leiden==li].obs.zsig).most_common(2)\n",
    "    relabel = \"\"\n",
    "    if(mostCommon[0][0] in clustToLabel.keys()):\n",
    "        relabel = clustToLabel[mostCommon[0][0]]\n",
    "    else:\n",
    "        relabel = clustToLabel[mostCommon[1][0]]\n",
    "    relabelDict[li] = relabel\n",
    "print(relabelDict)\n",
    "adata.obs[\"cs\"] = [relabelDict[li] for li in adata.obs.leiden]"
   ]
  },
  {
   "cell_type": "code",
   "execution_count": null,
   "id": "cfb91002-b034-4609-8aca-4a6f3e949656",
   "metadata": {},
   "outputs": [],
   "source": [
    "sc.pl.umap(adata, color=[\"leiden\",\"cs\"],ncols=4)"
   ]
  },
  {
   "cell_type": "code",
   "execution_count": null,
   "id": "747f5706-3953-4e48-a7fd-c58c3d69bfb4",
   "metadata": {},
   "outputs": [],
   "source": [
    "sc.pl.umap(adata, color=[f\"{sigName}Score\" for sigName in sigGenes.columns], cmap=\"bwr\", ncols=4)"
   ]
  },
  {
   "cell_type": "code",
   "execution_count": null,
   "id": "e3c9b8a0-4594-4080-8be7-2fa24bb0b83e",
   "metadata": {},
   "outputs": [],
   "source": [
    "adata.write('write/luadBischoff_p24.h5ad')"
   ]
  },
  {
   "cell_type": "code",
   "execution_count": null,
   "id": "b4904736-a6e8-4b07-a341-2146d19a6b4c",
   "metadata": {},
   "outputs": [],
   "source": []
  },
  {
   "cell_type": "markdown",
   "id": "bc29534c-2ef5-4f18-9e34-8728eeba60e9",
   "metadata": {},
   "source": [
    "# all 3"
   ]
  },
  {
   "cell_type": "code",
   "execution_count": null,
   "id": "27741905-f4b3-44e5-b67e-9eb30606ee7d",
   "metadata": {
    "tags": []
   },
   "outputs": [],
   "source": [
    "adata = sc.read_h5ad(resultsFileQC)\n",
    "adata"
   ]
  },
  {
   "cell_type": "code",
   "execution_count": null,
   "id": "62cd29dd-0ad3-47bc-8d14-5c2e38953e3a",
   "metadata": {},
   "outputs": [],
   "source": [
    "adata = adata[adata.obs.source==\"Tumor\"]\n",
    "adata = adata[adata.obs.cell_type==\"Malignant\"]\n",
    "adata"
   ]
  },
  {
   "cell_type": "code",
   "execution_count": null,
   "id": "06e2cd01-4c12-4363-ba63-c46eaa1d353f",
   "metadata": {},
   "outputs": [],
   "source": [
    "from collections import Counter\n",
    "Counter(adata.obs.patient)"
   ]
  },
  {
   "cell_type": "code",
   "execution_count": null,
   "id": "14e0a3d6-2664-40f4-9bbd-b9041298e12f",
   "metadata": {},
   "outputs": [],
   "source": [
    "patient = ['p032','p018','p024']\n",
    "#adata = adata[adata.obs.patient== patient]\n",
    "adata = adata[[p in patient for p in adata.obs[\"patient\"]],]\n",
    "\n",
    "#resultsFile = writeDir + fileName + patient+ '.h5ad'  \n",
    "#adata.layers[\"counts\"] = adata.X.copy()\n",
    "adata"
   ]
  },
  {
   "cell_type": "code",
   "execution_count": null,
   "id": "f04bbb1e-867a-4867-b231-00b858a20482",
   "metadata": {},
   "outputs": [],
   "source": [
    "sc.pp.normalize_total(adata,target_sum=1e4)"
   ]
  },
  {
   "cell_type": "code",
   "execution_count": null,
   "id": "cf61d9d7-b28f-4d5b-a21a-cbb87a884ba7",
   "metadata": {},
   "outputs": [],
   "source": [
    "sc.pp.log1p(adata)"
   ]
  },
  {
   "cell_type": "code",
   "execution_count": null,
   "id": "11dcb206-f376-458b-ae60-d49f48cc8e51",
   "metadata": {},
   "outputs": [],
   "source": [
    "#adata.write(writeDir + fileName + patient+ '_QC.h5ad')"
   ]
  },
  {
   "cell_type": "code",
   "execution_count": null,
   "id": "f17fa0ee-05a2-4bbb-acc4-bb575eef0ccb",
   "metadata": {},
   "outputs": [],
   "source": [
    "sc.pp.highly_variable_genes(adata)#, flavor = \"seurat\", n_top_genes=2000)"
   ]
  },
  {
   "cell_type": "code",
   "execution_count": null,
   "id": "4b3e0455-8aa8-4978-ac57-f2140a2a0e33",
   "metadata": {},
   "outputs": [],
   "source": [
    "minMean = 0.075\n",
    "maxMean = 2.6\n",
    "minDisp = 0.55\n",
    "\n",
    "fig, axs = plt.subplots(1, 2, figsize=(10, 5))\n",
    "\n",
    "means = adata.var[[\"means\"]][adata.var[[\"means\"]] > np.exp(-14)]#adata.var[[\"means\"]],\n",
    "axs[0].hist(np.log(means), bins=100)#, log=True),\n",
    "axs[0].axvline(np.log(minMean), color='k', linestyle='dashed', linewidth=1)\n",
    "axs[0].axvline(np.log(maxMean), color='k', linestyle='dashed', linewidth=1)\n",
    "axs[0].set_title('Gene means counts')\n",
    "axs[0].set_xlabel('means')\n",
    "axs[0].set_ylabel('counts')\n",
    "\n",
    "dispNorm = adata.var[[\"dispersions_norm\"]][adata.var[[\"dispersions_norm\"]] > np.exp(-5)]#adata.var[[\"means\"]],\n",
    "axs[1].hist(np.log(dispNorm), bins=100)#, log=True),\n",
    "axs[1].axvline(np.log(minDisp), color='k', linestyle='dashed', linewidth=1)\n",
    "axs[1].set_title('Gene dispersions counts')\n",
    "axs[1].set_xlabel('dispersions')\n",
    "axs[1].set_ylabel('counts')\n",
    "\n",
    "sc.pp.highly_variable_genes(adata, min_disp=minDisp, min_mean=minMean, max_mean=maxMean)\n",
    "print(sum(adata.var.highly_variable))"
   ]
  },
  {
   "cell_type": "code",
   "execution_count": null,
   "id": "9d285acb-e431-43e8-9514-1af4d89326df",
   "metadata": {},
   "outputs": [],
   "source": [
    "sc.pl.highly_variable_genes(adata)"
   ]
  },
  {
   "cell_type": "code",
   "execution_count": null,
   "id": "96ad2a06-91d2-42b5-976d-a754dc0e8811",
   "metadata": {},
   "outputs": [],
   "source": [
    "#for inGene in adata.var[-8:].index.tolist():\n",
    "#    adata.var.loc[inGene,\"highly_variable\"] = False"
   ]
  },
  {
   "cell_type": "code",
   "execution_count": null,
   "id": "e5dc4e72-cd0d-486a-acfc-5270ea0d8d9e",
   "metadata": {},
   "outputs": [],
   "source": [
    "adata.raw = adata"
   ]
  },
  {
   "cell_type": "code",
   "execution_count": null,
   "id": "8fbb9ab1-5a6d-4fcb-84d2-441638d6a9f8",
   "metadata": {},
   "outputs": [],
   "source": [
    "#adata = adata[:, adata.var.highly_variable]\n",
    "adata = adata[:, np.logical_and(adata.var.highly_variable, np.logical_not(adata.var.mt))]"
   ]
  },
  {
   "cell_type": "code",
   "execution_count": null,
   "id": "84207568-3d93-4976-9190-541ba320fd3a",
   "metadata": {},
   "outputs": [],
   "source": [
    "#sc.pp.regress_out(adata, ['total_counts', 'pct_counts_mt'])"
   ]
  },
  {
   "cell_type": "code",
   "execution_count": null,
   "id": "2e43b0da-c874-4090-a0fd-6c467cdd3dbb",
   "metadata": {},
   "outputs": [],
   "source": [
    "#sc.pp.scale(adata, max_value=10)"
   ]
  },
  {
   "cell_type": "code",
   "execution_count": null,
   "id": "ec38ee74-fd55-488f-b752-ae77f1a3d952",
   "metadata": {},
   "outputs": [],
   "source": [
    "sc.tl.pca(adata, n_comps = 100, svd_solver='arpack')"
   ]
  },
  {
   "cell_type": "code",
   "execution_count": null,
   "id": "7a85c0d4-74e6-418d-8574-53ee14ab2bb3",
   "metadata": {},
   "outputs": [],
   "source": [
    "sc.pl.pca_variance_ratio(adata, n_pcs = 100, log=True)"
   ]
  },
  {
   "cell_type": "code",
   "execution_count": null,
   "id": "5cf4278e-a395-49fc-b95c-7235b4e069e3",
   "metadata": {},
   "outputs": [],
   "source": [
    "sc.pl.pca_variance_ratio(adata, n_pcs = 100)"
   ]
  },
  {
   "cell_type": "code",
   "execution_count": null,
   "id": "0cd002dd-948d-466c-bbac-d5dc3f36237a",
   "metadata": {},
   "outputs": [],
   "source": [
    "sc.pp.neighbors(adata, n_neighbors=20, n_pcs=60)"
   ]
  },
  {
   "cell_type": "code",
   "execution_count": null,
   "id": "39ef6dac-02c2-4832-beb0-e5cc5a50b4e5",
   "metadata": {},
   "outputs": [],
   "source": [
    "sc.tl.umap(adata)"
   ]
  },
  {
   "cell_type": "code",
   "execution_count": null,
   "id": "f37f3147-2110-4c74-80b6-22ff4cea6aef",
   "metadata": {},
   "outputs": [],
   "source": [
    "sc.tl.leiden(adata, resolution=0.7)"
   ]
  },
  {
   "cell_type": "code",
   "execution_count": null,
   "id": "055f7d72-d25a-4b1e-98a3-f250585175d3",
   "metadata": {},
   "outputs": [],
   "source": [
    "sc.pl.umap(adata, color=[\"leiden\",\"source\",\"cell_type\",\"patient\",\"PTPRC\",\"DCN\",\"EPCAM\",\"CAPS\"],ncols=4)"
   ]
  },
  {
   "cell_type": "code",
   "execution_count": null,
   "id": "af4b6acd-53d6-4ad4-a221-62bed9f61887",
   "metadata": {},
   "outputs": [],
   "source": [
    "sc.pl.pca(adata, color=[\"leiden\",\"source\",\"cell_type\",\"patient\",\"PTPRC\",\"DCN\",\"EPCAM\",\"CAPS\"],ncols=4)"
   ]
  },
  {
   "cell_type": "code",
   "execution_count": null,
   "id": "5875650b-43fa-4f8a-9503-2bc42c7b3f26",
   "metadata": {},
   "outputs": [],
   "source": [
    "sc.pl.umap(adata, color=[\"n_genes\",\"pct_counts_mt\",\"total_counts\"])"
   ]
  },
  {
   "cell_type": "code",
   "execution_count": null,
   "id": "a2421828-6208-49da-b104-b8b2d1b50e20",
   "metadata": {},
   "outputs": [],
   "source": []
  },
  {
   "cell_type": "code",
   "execution_count": null,
   "id": "a03f8cea-4308-4f77-a05f-e8d237b7797b",
   "metadata": {},
   "outputs": [],
   "source": [
    "clustToLabel = {\"Cluster 1\":\"AT2-like\",\n",
    " \"Cluster 2\":\"AT2-like\",\n",
    " \"Cluster 3\":\"AT1-like\",\n",
    " \"Cluster 4\":\"Endoderm-like\",\n",
    " \"Cluster 5\":\"HPCS\",\n",
    " \"Cluster 6\":\"GiEpi\",\n",
    " \"Cluster 7\":\"Prolif\",\n",
    " \"Cluster 8\":\"EmbLiv\",\n",
    " \"Cluster 9\":\"Rib\",\n",
    " \"Cluster 10\":\"Gastro\",\n",
    " \"Cluster 11\":\"EMT\",\n",
    " \"Cluster 12\":\"Adv\"}\n",
    "\n",
    "homology = pd.read_table(\"../mhCompTiss/data/hgncHM_121.csv\", sep=\",\")\n",
    "mouseGenes = np.array(homology[\"mouse\"])\n",
    "humanGenes = np.array(homology[\"human\"])\n",
    "m2h = dict(zip(mouseGenes,humanGenes))\n",
    "h2m = dict(zip(humanGenes,mouseGenes))\n",
    "\n",
    "from collections import Counter\n",
    "sigFile = \"data/LUAD/simpLUADcs.csv\"\n",
    "sigGenes = pd.read_excel(\"data/LUAD/LUADhpcs.xlsx\")\n",
    "sigGenes = sigGenes[['Cluster 1', 'Cluster 2', 'Cluster 3', \n",
    "                     'Cluster 4', \n",
    "                     'Cluster 5','Cluster 6', 'Cluster 7', \n",
    "                     'Cluster 9',\n",
    "                     'Cluster 8', 'Cluster 10','Cluster 11',\n",
    "                     'Cluster 12'\n",
    "                    ]]\n",
    "\n",
    "#adata = sc.read_h5ad(resultsFile)\n",
    "\n",
    "sc.tl.leiden(adata, resolution=0.8)\n",
    "\n",
    "for gs in sigGenes:\n",
    "    sc.tl.score_genes(adata,[m2h[g] for g in sigGenes[gs].dropna() if g in m2h.keys()],score_name=f\"{gs}Score\")\n",
    "scoreMat = adata.obs[[f\"{sigName}Score\" for sigName in sigGenes.columns]]\n",
    "adata.obs[\"zsig\"] = scH.zScores(scoreMat, cutoff = 1)\n",
    "relabelDict = {}\n",
    "for li in adata.obs.leiden.cat.categories:\n",
    "    mostCommon = Counter(adata[adata.obs.leiden==li].obs.zsig).most_common(2)\n",
    "    relabel = \"\"\n",
    "    if(mostCommon[0][0] in clustToLabel.keys()):\n",
    "        relabel = clustToLabel[mostCommon[0][0]]\n",
    "    else:\n",
    "        relabel = clustToLabel[mostCommon[1][0]]\n",
    "    relabelDict[li] = relabel\n",
    "print(relabelDict)\n",
    "relabelDict = {'0': 'AT2-like', '1': 'AT2-like', '2': 'AT2-like', '3': 'AT1-like', '4': 'AT2-like', '5': 'AT2-like', '6': 'HPCS', '7': 'HPCS', '8': 'HPCS'}\n",
    "adata.obs[\"cs\"] = [relabelDict[li] for li in adata.obs.leiden]"
   ]
  },
  {
   "cell_type": "code",
   "execution_count": null,
   "id": "691440cc-61d6-48e4-bce4-b5b7df437eae",
   "metadata": {},
   "outputs": [],
   "source": [
    "sc.pl.umap(adata, color=[\"leiden\",\"cs\"],ncols=4)"
   ]
  },
  {
   "cell_type": "code",
   "execution_count": null,
   "id": "2c45f8bf-478d-43f1-8b42-0e65037fc1ea",
   "metadata": {},
   "outputs": [],
   "source": [
    "sc.pl.umap(adata, color=[f\"{sigName}Score\" for sigName in sigGenes.columns], cmap=\"bwr\", ncols=4)"
   ]
  },
  {
   "cell_type": "code",
   "execution_count": null,
   "id": "e8478fd0-c2ba-4453-af8e-7b5a4b33ccf3",
   "metadata": {},
   "outputs": [],
   "source": [
    "#adata.write('write/luadBischoff_p24.h5ad')"
   ]
  },
  {
   "cell_type": "code",
   "execution_count": null,
   "id": "3fabc295-7958-482d-8606-c82501c6a6d1",
   "metadata": {},
   "outputs": [],
   "source": [
    "qcdata = sc.read_h5ad(resultsFileQC)\n",
    "print(sum(qcdata.X.todense()))\n",
    "\n",
    "rdata = adata.raw.to_adata()\n",
    "\n",
    "qcdata = qcdata[rdata.obs_names,:]\n",
    "rdata.layers[\"counts\"] = qcdata.X.copy()\n",
    "rdata.obs = rdata.obs[['patient','leiden','cs']]\n",
    "rdata.write('write/luadBishoff_Labeled.h5ad')\n",
    "rdata"
   ]
  },
  {
   "cell_type": "code",
   "execution_count": null,
   "id": "87ae33f3-e890-4f7c-88d8-ecc8851d03b8",
   "metadata": {},
   "outputs": [],
   "source": [
    "sc.pl.umap(adata, color=[\"VIM\"], cmap=\"bwr\", ncols=4)"
   ]
  },
  {
   "cell_type": "code",
   "execution_count": null,
   "id": "49955dcc-ae0b-4178-a1c2-68ae9356b462",
   "metadata": {},
   "outputs": [],
   "source": []
  },
  {
   "cell_type": "code",
   "execution_count": null,
   "id": "ddfbf35c-620b-42e5-bc60-d15f9019ba86",
   "metadata": {},
   "outputs": [],
   "source": []
  },
  {
   "cell_type": "markdown",
   "id": "d686d2ca-0c75-4450-81e3-d7aee0f2174f",
   "metadata": {
    "jp-MarkdownHeadingCollapsed": true
   },
   "source": [
    "# rest hold"
   ]
  },
  {
   "cell_type": "code",
   "execution_count": null,
   "id": "5ec1a38c-344a-4b40-a04a-c8eb5cdc03f4",
   "metadata": {},
   "outputs": [],
   "source": [
    "adata.uns['log1p']['base']=None"
   ]
  },
  {
   "cell_type": "code",
   "execution_count": null,
   "id": "e0d77280-5572-4791-9f6a-3949e5ed59b5",
   "metadata": {},
   "outputs": [],
   "source": [
    "sc.tl.rank_genes_groups(adata, 'leiden', method='wilcoxon', use_raw=False)\n",
    "#sc.tl.filter_rank_genes_groups(adata, groupby=\"leiden\", use_raw=False,\n",
    "#                                   key_added='rank_genes_groups_filtered', \n",
    "#                                   min_in_group_fraction=0.5, min_fold_change=1, max_out_group_fraction=0.5, compare_abs=False)\n",
    "sc.pl.rank_genes_groups(adata, n_genes=25, sharey=False)"
   ]
  },
  {
   "cell_type": "code",
   "execution_count": null,
   "id": "741eb90d-dc29-40e7-967a-a9498893abf1",
   "metadata": {},
   "outputs": [],
   "source": [
    "#pd.DataFrame(adata.uns['rank_genes_groups_filtered']['names']).head(15)"
   ]
  },
  {
   "cell_type": "code",
   "execution_count": null,
   "id": "89e84697-7443-45f9-a976-e6c8674a9660",
   "metadata": {},
   "outputs": [],
   "source": [
    "sc.pl.umap(adata, color=[\"KRT8\",\"ITGA2\",\"SLC4A11\",\"CLDN4\",\"TM4SF1\",\"PLAUR\",\"PROCR\", \"F2R\", \"THBD\",\"PHLDA2\",\"NFKBIA\",\"ISG20\"],cmap=\"bwr\")"
   ]
  },
  {
   "cell_type": "code",
   "execution_count": null,
   "id": "32fde51e-0872-4624-9382-50b3e21f330c",
   "metadata": {},
   "outputs": [],
   "source": [
    "sc.pl.violin(adata, keys=[\"KRT8\",\"ITGA2\",\"SLC4A11\",\"CLDN4\"],cmap=\"Reds\",groupby=\"leiden\",inner=\"box\",stripplot=False)"
   ]
  },
  {
   "cell_type": "code",
   "execution_count": null,
   "id": "832adf2a-71fe-41cc-815d-103222ec0a6d",
   "metadata": {},
   "outputs": [],
   "source": [
    "sc.pl.violin(adata, keys=[\"TM4SF1\",\"PLAUR\",\"PROCR\", \"F2R\"],cmap=\"Reds\",groupby=\"leiden\")"
   ]
  },
  {
   "cell_type": "code",
   "execution_count": null,
   "id": "472b0385-212b-4ac8-9575-c1d0661d7d92",
   "metadata": {},
   "outputs": [],
   "source": [
    "sc.pl.violin(adata, keys=[\"THBD\",\"PHLDA2\",\"NFKBIA\",\"ISG20\"],cmap=\"Reds\",groupby=\"leiden\")"
   ]
  },
  {
   "cell_type": "code",
   "execution_count": null,
   "id": "dc26321c-65df-47c7-ad80-999180b6ca94",
   "metadata": {},
   "outputs": [],
   "source": [
    "sc.tl.dendrogram(adata,groupby=\"leiden\", n_pcs=60)\n",
    "sc.pl.rank_genes_groups_dotplot(adata,n_genes=5,key=\"rank_genes_groups\")"
   ]
  },
  {
   "cell_type": "code",
   "execution_count": null,
   "id": "28a620b6-e90c-4d31-bd38-1c54f04da93b",
   "metadata": {},
   "outputs": [],
   "source": [
    "resultsFile"
   ]
  },
  {
   "cell_type": "code",
   "execution_count": null,
   "id": "137a0da7-8e7a-48fe-93fb-a0d3253b9558",
   "metadata": {},
   "outputs": [],
   "source": [
    "adata"
   ]
  },
  {
   "cell_type": "code",
   "execution_count": null,
   "id": "d66ae6a6-8574-4aea-8636-6840bb1a84ce",
   "metadata": {},
   "outputs": [],
   "source": [
    "adata.write(resultsFile)\n",
    "adata"
   ]
  },
  {
   "cell_type": "code",
   "execution_count": null,
   "id": "9ed341d6-9f9d-49e6-8080-179b2fa21eb9",
   "metadata": {},
   "outputs": [],
   "source": [
    "import scanpyHelpers as scH"
   ]
  },
  {
   "cell_type": "code",
   "execution_count": null,
   "id": "c45cb726-b192-4657-b994-59e3324507a4",
   "metadata": {
    "scrolled": true,
    "tags": []
   },
   "outputs": [],
   "source": [
    "adata = sc.read(resultsFile)\n",
    "adata"
   ]
  },
  {
   "cell_type": "code",
   "execution_count": null,
   "id": "8b8ce1b4-272e-4ad3-b0cf-54dcdbc87adc",
   "metadata": {
    "scrolled": true,
    "tags": []
   },
   "outputs": [],
   "source": [
    "sigFile = \"data/LUAD/humanLUADgeneSig.csv\"\n",
    "sigGenes = pd.read_csv(sigFile)\n",
    "sigGenes"
   ]
  },
  {
   "cell_type": "code",
   "execution_count": null,
   "id": "c6a1f441-c075-4afd-9e0b-0e8292cdfdf9",
   "metadata": {},
   "outputs": [],
   "source": [
    "sigGenes.columns"
   ]
  },
  {
   "cell_type": "code",
   "execution_count": null,
   "id": "c3a7d6ca-eb54-4c4c-a968-f6f2919f72c7",
   "metadata": {},
   "outputs": [],
   "source": [
    "#print(ogLabelScoreMed)\n",
    "#for i,leid in enumerate(ogLabelScoreMed.index):\n",
    "#    print(np.sort(ogLabelScoreMed.loc[leid,:]))"
   ]
  },
  {
   "cell_type": "code",
   "execution_count": null,
   "id": "661d03a6-ea79-4dd9-8bd6-ede702e7e946",
   "metadata": {
    "tags": []
   },
   "outputs": [],
   "source": [
    "scoreNames, newBClabel, ogLabelScoreMed = scH.scoreAndLabel(adata, sigGenes, labelOfSigGenes= sigGenes.columns, ogLabel=\"leiden\", \n",
    "                                                            translate=False)\n",
    "sc.pl.umap(adata, color=scoreNames+[\"cellState\"], ncols=4)"
   ]
  },
  {
   "cell_type": "code",
   "execution_count": null,
   "id": "15eae2e0-45cc-4ec0-ac10-d13ad69e2723",
   "metadata": {},
   "outputs": [],
   "source": [
    "sc.pl.umap(adata, color=scoreNames+[\"leiden\",\"cellState\", 'patient'], ncols=4)"
   ]
  },
  {
   "cell_type": "code",
   "execution_count": null,
   "id": "37954771-7bb0-4063-a858-4f30e2bf3a0b",
   "metadata": {},
   "outputs": [],
   "source": [
    "sc.pl.pca(adata, color=scoreNames+[\"leiden\",\"cellState\", 'patient'], ncols=4)"
   ]
  },
  {
   "cell_type": "code",
   "execution_count": null,
   "id": "90a3a6f8-8d4f-4c6e-b84e-d15d5de242cb",
   "metadata": {},
   "outputs": [],
   "source": [
    "adata.obs"
   ]
  },
  {
   "cell_type": "code",
   "execution_count": null,
   "id": "d8dde47b-734a-43ab-845f-eaac3fca6caf",
   "metadata": {
    "tags": []
   },
   "outputs": [],
   "source": [
    "markers = pd.DataFrame(np.empty((500*12,2), dtype=\"object\"), columns=[\"genes\", \"clustName\"])\n",
    "for i,clust in enumerate(sigGenes.columns):\n",
    "    for j,gene in enumerate(sigGenes.index):\n",
    "        gene = sigGenes.loc[gene,clust]\n",
    "        indexOver = np.where(mouseGenes == gene)[0]\n",
    "        if indexOver.size > 0:\n",
    "            gene = humanGenes[indexOver[0]]\n",
    "        markers.iloc[i*500+j] = gene,clust\n",
    "        \n",
    "markers = markers.dropna()\n",
    "markers"
   ]
  },
  {
   "cell_type": "code",
   "execution_count": null,
   "id": "3bada584-fb83-487b-8aea-58fa2a5e7b90",
   "metadata": {},
   "outputs": [],
   "source": [
    "import decoupler as dc"
   ]
  },
  {
   "cell_type": "code",
   "execution_count": null,
   "id": "9d5603e1-95a1-4bb3-b053-512cd307fb4f",
   "metadata": {},
   "outputs": [],
   "source": [
    "dc.run_ora(\n",
    "    mat=adata,\n",
    "    net=markers,\n",
    "    source='clustName',\n",
    "    target='genes',\n",
    "    min_n=3,\n",
    "    verbose=True\n",
    ")"
   ]
  },
  {
   "cell_type": "code",
   "execution_count": null,
   "id": "fee8f941-3afe-462e-9673-16d3d1b5aaeb",
   "metadata": {},
   "outputs": [],
   "source": [
    "adata.obsm['ora_estimate']\n"
   ]
  },
  {
   "cell_type": "code",
   "execution_count": null,
   "id": "49ba04c1-50fc-4e0b-998e-273005ffa788",
   "metadata": {},
   "outputs": [],
   "source": [
    "acts = dc.get_acts(adata, obsm_key='ora_estimate')\n",
    "\n",
    "# We need to remove inf and set them to the maximum value observed for pvals=0\n",
    "acts_v = acts.X.ravel()\n",
    "max_e = np.nanmax(acts_v[np.isfinite(acts_v)])\n",
    "acts.X[~np.isfinite(acts.X)] = max_e\n",
    "\n",
    "acts"
   ]
  },
  {
   "cell_type": "code",
   "execution_count": null,
   "id": "65a0c0f4-97f2-4a4b-ae5b-bb2f9f0c9f7e",
   "metadata": {},
   "outputs": [],
   "source": [
    "sc.pl.umap(acts, color=scoreNames+['leiden'], cmap='RdBu_r')\n",
    "sc.pl.violin(acts, keys=scoreNames, groupby='leiden')"
   ]
  },
  {
   "cell_type": "code",
   "execution_count": null,
   "id": "4be8ea8e-42fa-412e-bab6-fe1f9c3dcfd6",
   "metadata": {},
   "outputs": [],
   "source": [
    "df = dc.rank_sources_groups(acts, groupby='leiden', reference='rest', method='t-test_overestim_var')\n",
    "df"
   ]
  },
  {
   "cell_type": "code",
   "execution_count": null,
   "id": "b916a914-7a55-41bd-b6ba-f62ef57c7758",
   "metadata": {},
   "outputs": [],
   "source": [
    "n_ctypes = 3\n",
    "ctypes_dict = df.groupby('group').head(n_ctypes).groupby('group')['names'].apply(lambda x: list(x)).to_dict()\n",
    "ctypes_dict"
   ]
  },
  {
   "cell_type": "code",
   "execution_count": null,
   "id": "f15444df-1252-4f5b-9668-4ee46f05bf46",
   "metadata": {},
   "outputs": [],
   "source": [
    "sc.pl.matrixplot(acts, ctypes_dict, 'leiden', dendrogram=True, standard_scale='var',\n",
    "                 colorbar_title='Z-scaled scores', cmap='RdBu_r')\n"
   ]
  },
  {
   "cell_type": "code",
   "execution_count": null,
   "id": "deed9b2e-4287-4b2a-aa93-559d6df78984",
   "metadata": {},
   "outputs": [],
   "source": [
    "annotation_dict = df.groupby('group').head(1).set_index('group')['names'].to_dict()\n",
    "annotation_dict"
   ]
  },
  {
   "cell_type": "code",
   "execution_count": null,
   "id": "d1b9f8d8-719a-4c62-9d69-b62926c43c75",
   "metadata": {},
   "outputs": [],
   "source": [
    "# Add cell type column based on annotation\n",
    "adata.obs['decoupler'] = [annotation_dict[clust] for clust in adata.obs['leiden']]\n",
    "\n",
    "# Visualize\n",
    "sc.pl.umap(adata, color=['decoupler','cellState', \"leiden\"])"
   ]
  },
  {
   "cell_type": "code",
   "execution_count": null,
   "id": "dfb483c3-1973-44ea-8d64-ebbca78340a2",
   "metadata": {},
   "outputs": [],
   "source": [
    "adata.write(resultsFile)\n",
    "adata"
   ]
  },
  {
   "cell_type": "code",
   "execution_count": null,
   "id": "f2ec21b0-3f02-411c-97c6-a46a737459cc",
   "metadata": {},
   "outputs": [],
   "source": []
  },
  {
   "cell_type": "code",
   "execution_count": null,
   "id": "e0b59bd7-69f3-46aa-91b0-63a3c82779a3",
   "metadata": {},
   "outputs": [],
   "source": [
    "adata = sc.read(resultsFile)"
   ]
  },
  {
   "cell_type": "code",
   "execution_count": null,
   "id": "eb9b0051-20fd-47d3-83cc-9148c3e2ea51",
   "metadata": {},
   "outputs": [],
   "source": [
    "scH.addIndvLabel(adata, [f\"{sigName}Score\" for sigName in sigGenes.columns], obsLabel=\"zsig\", cutoff=0)"
   ]
  },
  {
   "cell_type": "code",
   "execution_count": null,
   "id": "c6c396ba-89f0-4b3e-be96-0557d44f6623",
   "metadata": {},
   "outputs": [],
   "source": [
    "sc.pl.umap(adata, color=['decoupler',\"leiden\",'zsig','cellState',\"patient\",\"EPCAM\",\"PECAM1\",\"VIM\",\"FBN1\"],ncols=3)"
   ]
  },
  {
   "cell_type": "code",
   "execution_count": null,
   "id": "9ebc4e2b-ccda-4adb-b388-84e1a4313c92",
   "metadata": {},
   "outputs": [],
   "source": [
    "sc.pl.pca(adata, color=['decoupler',\"leiden\",'zsig','cellState',\"patient\"],ncols=3)"
   ]
  },
  {
   "cell_type": "code",
   "execution_count": null,
   "id": "b37d8ed7-3e9f-4a8d-9695-2eb0539b6606",
   "metadata": {},
   "outputs": [],
   "source": [
    "adata.write(resultsFile)\n",
    "adata"
   ]
  },
  {
   "cell_type": "code",
   "execution_count": null,
   "id": "6e80b787-7a5b-4c64-bb12-c8d308b11d29",
   "metadata": {},
   "outputs": [],
   "source": [
    "resultsFile"
   ]
  },
  {
   "cell_type": "code",
   "execution_count": null,
   "id": "80787e8c-e76a-4805-b6a1-4b3c93e2642b",
   "metadata": {},
   "outputs": [],
   "source": [
    "adata = sc.read_h5ad(resultsFile)"
   ]
  },
  {
   "cell_type": "code",
   "execution_count": null,
   "id": "7217b1a6-53d6-4a92-bad7-421ec0fbaa5f",
   "metadata": {},
   "outputs": [],
   "source": [
    "sc.pl.pca(adata, color=['decoupler',\"leiden\",'zsig','cellState',\"patient\"],ncols=3)"
   ]
  },
  {
   "cell_type": "code",
   "execution_count": null,
   "id": "6a23b30b-dee6-465f-b81e-cfff565eb248",
   "metadata": {},
   "outputs": [],
   "source": [
    "sc.pl.umap(adata, color=scoreNames+['decoupler',\"leiden\",'zsig','cellState',\"patient\",\"EPCAM\",\"PECAM1\",\"VIM\",\"FBN1\"],ncols=3)\n"
   ]
  },
  {
   "cell_type": "code",
   "execution_count": null,
   "id": "1e891d52-21c9-47b0-b8bd-0f7e91bcd805",
   "metadata": {},
   "outputs": [],
   "source": []
  }
 ],
 "metadata": {
  "kernelspec": {
   "display_name": "Python 3 (ipykernel)",
   "language": "python",
   "name": "python3"
  },
  "language_info": {
   "codemirror_mode": {
    "name": "ipython",
    "version": 3
   },
   "file_extension": ".py",
   "mimetype": "text/x-python",
   "name": "python",
   "nbconvert_exporter": "python",
   "pygments_lexer": "ipython3",
   "version": "3.8.16"
  }
 },
 "nbformat": 4,
 "nbformat_minor": 5
}
