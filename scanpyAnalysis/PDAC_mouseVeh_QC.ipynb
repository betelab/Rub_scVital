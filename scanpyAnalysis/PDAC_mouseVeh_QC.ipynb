{
 "cells": [
  {
   "cell_type": "code",
   "execution_count": null,
   "id": "c56fbce1-0813-46fc-9232-65a8c68917dd",
   "metadata": {},
   "outputs": [],
   "source": []
  },
  {
   "cell_type": "code",
   "execution_count": null,
   "id": "06a1e799-01cf-4a06-8f4b-0307777350dd",
   "metadata": {},
   "outputs": [],
   "source": [
    "import numpy as np\n",
    "import pandas as pd\n",
    "import scanpy as sc\n",
    "import anndata as an\n",
    "import sklearn.metrics\n",
    "from matplotlib import pyplot as plt\n",
    "import seaborn as sns\n",
    "from sklearn.mixture import GaussianMixture as GMM\n",
    "from scipy.stats import norm"
   ]
  },
  {
   "cell_type": "code",
   "execution_count": null,
   "id": "fe7bb970-be2c-4529-8fa7-2aed5a808c0c",
   "metadata": {},
   "outputs": [],
   "source": [
    "#adata=sc.read(results_file_post)\n",
    "#adata.uns['log1p'] = {\"base\":None}"
   ]
  },
  {
   "cell_type": "markdown",
   "id": "68d8f0e6-a369-41b7-aaad-f9b9496e66c5",
   "metadata": {},
   "source": [
    "Set up out properties"
   ]
  },
  {
   "cell_type": "code",
   "execution_count": null,
   "id": "e71de7d1-c3c0-4cb3-b27c-65643551656c",
   "metadata": {
    "scrolled": true,
    "tags": []
   },
   "outputs": [],
   "source": [
    "sc.settings.verbosity = 3             # verbosity: errors (0), warnings (1), info (2), hints (3)\n",
    "sc.logging.print_header()\n",
    "sc.settings.set_figure_params(dpi=80, facecolor='white')"
   ]
  },
  {
   "cell_type": "code",
   "execution_count": null,
   "id": "24c64b15-6aee-4ac7-b399-57bd77ea3705",
   "metadata": {},
   "outputs": [],
   "source": [
    "#%matplotlib inline"
   ]
  },
  {
   "cell_type": "markdown",
   "id": "54f3afbe-5ab9-45a2-8822-88d0fafa2635",
   "metadata": {},
   "source": [
    "Set scanpy out-files"
   ]
  },
  {
   "cell_type": "code",
   "execution_count": null,
   "id": "1b6d7193-0e09-414f-9f8e-11fa47a4c0af",
   "metadata": {},
   "outputs": [],
   "source": [
    "writeDir = \"write/\"\n",
    "\n",
    "fileName = \"pdacMouseVeh\"\n",
    "\n",
    "resultsFileQC = writeDir + fileName + '_QC.h5ad' \n"
   ]
  },
  {
   "cell_type": "markdown",
   "id": "f1b972fd-d6e2-4752-9c2f-058574c3ca8f",
   "metadata": {
    "tags": []
   },
   "source": [
    "Set figure parameters"
   ]
  },
  {
   "cell_type": "code",
   "execution_count": null,
   "id": "5d9e4ae0-e06b-4b30-99bd-34990a3e5c9f",
   "metadata": {
    "tags": []
   },
   "outputs": [],
   "source": [
    "sc.set_figure_params(scanpy=True, dpi=100, dpi_save=150, fontsize=10, format='png')\n",
    "sc.settings.figdir = \"figures/\" + fileName + \"/\"\n",
    "figName = fileName"
   ]
  },
  {
   "cell_type": "markdown",
   "id": "878904d1-5469-4a47-806e-441e28fc2903",
   "metadata": {
    "tags": []
   },
   "source": [
    "read input file"
   ]
  },
  {
   "cell_type": "code",
   "execution_count": null,
   "id": "4da9d760-4e67-436b-92a5-9715c20bd5c5",
   "metadata": {},
   "outputs": [],
   "source": [
    "inDir = 'data/PDAC/'\n",
    "#inputFile = f'{inDir}/.txt'\n",
    "#inMetaFile = f'{inDir}/.txt'"
   ]
  },
  {
   "cell_type": "code",
   "execution_count": null,
   "id": "def770dc-968b-4ee2-a550-b15b35a73130",
   "metadata": {},
   "outputs": [],
   "source": [
    "adata = sc.read_10x_h5(f\"{inDir}matrix_BC1381_veh.h5\", gex_only=False)\n",
    "adata"
   ]
  },
  {
   "cell_type": "code",
   "execution_count": null,
   "id": "e94883e2-52f8-4082-8b10-35aafabb562a",
   "metadata": {},
   "outputs": [],
   "source": [
    "adata.var"
   ]
  },
  {
   "cell_type": "code",
   "execution_count": null,
   "id": "ea70b329-33c4-46b2-8983-456da2f43de5",
   "metadata": {},
   "outputs": [],
   "source": [
    "adata.var[-13:]"
   ]
  },
  {
   "cell_type": "code",
   "execution_count": null,
   "id": "0e4d0328-d655-403c-bf14-fe6d0662a7f5",
   "metadata": {},
   "outputs": [],
   "source": [
    "numGenes = 12\n",
    "\n",
    "hto = adata[:,-12:]\n",
    "adata = adata[:,:-12]\n",
    "adata.obs = pd.DataFrame(hto.X.todense(), columns=hto.var_names, index=adata.obs.index)"
   ]
  },
  {
   "cell_type": "code",
   "execution_count": null,
   "id": "2ba03ab9-09ff-4ebb-9549-fc78f0512cc9",
   "metadata": {},
   "outputs": [],
   "source": [
    "adata.obs"
   ]
  },
  {
   "cell_type": "code",
   "execution_count": null,
   "id": "bec579b2-6291-45b8-aea6-35491af0deb4",
   "metadata": {},
   "outputs": [],
   "source": []
  },
  {
   "cell_type": "code",
   "execution_count": null,
   "id": "765b2de0-8110-41ab-946d-b3eec4e9d844",
   "metadata": {},
   "outputs": [],
   "source": [
    "adata.var_names_make_unique()\n",
    "adata.obs_names_make_unique()"
   ]
  },
  {
   "cell_type": "code",
   "execution_count": null,
   "id": "c1c5a3b9-1ca2-4217-940a-d41b9d8d0780",
   "metadata": {},
   "outputs": [],
   "source": [
    "adata.obs "
   ]
  },
  {
   "cell_type": "code",
   "execution_count": null,
   "id": "9cb50a17-b81e-44ec-8932-e7ef3fd0c863",
   "metadata": {},
   "outputs": [],
   "source": [
    "adata.var"
   ]
  },
  {
   "cell_type": "markdown",
   "id": "168fed38-9a40-466c-af3e-daa6152b322e",
   "metadata": {},
   "source": [
    "# Start QC\n",
    "investigate highest expressed genes"
   ]
  },
  {
   "cell_type": "code",
   "execution_count": null,
   "id": "ed2efbf3-965c-4337-824a-36bf1849f3ca",
   "metadata": {},
   "outputs": [],
   "source": [
    "sc.pl.highest_expr_genes(adata, n_top=20, )"
   ]
  },
  {
   "cell_type": "code",
   "execution_count": null,
   "id": "cf04a804-6c39-49d1-96ca-ce5c965e8a47",
   "metadata": {},
   "outputs": [],
   "source": [
    "valX = adata.X>0\n",
    "minGenes=500\n",
    "minCells=15\n",
    "\n",
    "fig, axs = plt.subplots(1, 2, figsize=(8, 4))\n",
    "\n",
    "numCellwExp = valX.sum(axis=1)\n",
    "axs[0].hist(np.log(numCellwExp), bins=100)#, log=True)\n",
    "axs[0].axvline(np.log(minGenes), color='k', linestyle='dashed', linewidth=1)\n",
    "axs[0].set_xlabel('num gene')\n",
    "axs[0].set_ylabel('counts')\n",
    "\n",
    "numGeneswExp = valX.sum(axis=0).T\n",
    "axs[1].hist(np.log(numGeneswExp+1), bins=100, log=True)\n",
    "axs[1].axvline(np.log(minCells+1), color='k', linestyle='dashed', linewidth=1)\n",
    "#axs[0,1].axvline(np.log(600), color='k', linestyle='dashed', linewidth=1)\n",
    "#axs[0,1].axvline(np.log(4000), color='k', linestyle='dashed', linewidth=1)\n",
    "#axs[0,1].set_title('Gene means counts')\n",
    "axs[1].set_xlabel('num cell')\n",
    "axs[1].set_ylabel('counts')\n",
    "\n",
    "fig.show()"
   ]
  },
  {
   "cell_type": "code",
   "execution_count": null,
   "id": "9f6ef888-f466-46b7-9e5d-43d39b7c64eb",
   "metadata": {},
   "outputs": [],
   "source": [
    "sc.pp.filter_cells(adata, min_genes = minGenes)\n",
    "sc.pp.filter_genes(adata, min_cells = minCells)"
   ]
  },
  {
   "cell_type": "code",
   "execution_count": null,
   "id": "1a1843a8-a177-4268-bbc8-dacd7d15dbf2",
   "metadata": {},
   "outputs": [],
   "source": [
    "adata = adata[:,np.logical_not(adata.var_names==\"Malat1\")]"
   ]
  },
  {
   "cell_type": "markdown",
   "id": "12979eb3-420c-4345-9e01-5df52d3a7ad3",
   "metadata": {},
   "source": [
    "## Mito QC"
   ]
  },
  {
   "cell_type": "code",
   "execution_count": null,
   "id": "afb1dbde-22b6-4b3d-a6a4-87f0bda66e44",
   "metadata": {
    "tags": []
   },
   "outputs": [],
   "source": [
    "#for g in adata.var_names:\n",
    "#    if \"-\" in g:\n",
    "#        print(g)"
   ]
  },
  {
   "cell_type": "code",
   "execution_count": null,
   "id": "a25b054c-0343-4fec-bb83-275e7d400d51",
   "metadata": {},
   "outputs": [],
   "source": [
    "adata.var['mt'] = adata.var_names.str.startswith('mt-') \n",
    "sc.pp.calculate_qc_metrics(adata, qc_vars=['mt'], log1p = False, inplace=True)"
   ]
  },
  {
   "cell_type": "code",
   "execution_count": null,
   "id": "57395323-f812-44ad-a58c-ebcd09ab5c85",
   "metadata": {},
   "outputs": [],
   "source": [
    "#sc.pl.violin(adata, ['n_genes_by_counts'], jitter=0.4)"
   ]
  },
  {
   "cell_type": "code",
   "execution_count": null,
   "id": "cef2ceae-1695-4b46-8715-816def9fee4c",
   "metadata": {},
   "outputs": [],
   "source": [
    "#sc.pl.violin(adata, ['total_counts'], jitter=0.4)"
   ]
  },
  {
   "cell_type": "code",
   "execution_count": null,
   "id": "a9b6b0db-8b20-4cd1-9e2d-4488f5db7dbb",
   "metadata": {},
   "outputs": [],
   "source": [
    "#sc.pl.violin(adata, ['pct_counts_mt'], jitter=0.4)"
   ]
  },
  {
   "cell_type": "code",
   "execution_count": null,
   "id": "d0463d19-92b3-42be-b4d0-e8d0f37d80f7",
   "metadata": {},
   "outputs": [],
   "source": [
    "sc.pl.scatter(adata, x='total_counts', y='pct_counts_mt')\n",
    "sc.pl.scatter(adata, x='total_counts', y='n_genes_by_counts')"
   ]
  },
  {
   "cell_type": "markdown",
   "id": "5d853710-b096-4051-a300-7442427e19bd",
   "metadata": {},
   "source": [
    "remove cells that have too much mito or could be doublets"
   ]
  },
  {
   "cell_type": "code",
   "execution_count": null,
   "id": "e5833dcd-e3d4-4acc-bf80-d9867d0f325f",
   "metadata": {},
   "outputs": [],
   "source": [
    "adata = adata[adata.obs.n_genes_by_counts < 6000, :]\n",
    "adata = adata[adata.obs.total_counts < 25000, :]\n",
    "adata = adata[adata.obs.pct_counts_mt < 10, :]"
   ]
  },
  {
   "cell_type": "code",
   "execution_count": null,
   "id": "c53a1e4a-e969-4f69-ac7a-c6179c888973",
   "metadata": {},
   "outputs": [],
   "source": [
    "#sc.pl.violin(adata, ['n_genes_by_counts', 'total_counts', 'pct_counts_mt'], jitter=0.4, multi_panel=True)"
   ]
  },
  {
   "cell_type": "markdown",
   "id": "8bf3ac9e-14a5-4a08-b0e4-5712809572b0",
   "metadata": {},
   "source": [
    "# Perform Demultiplex Hashing"
   ]
  },
  {
   "cell_type": "code",
   "execution_count": null,
   "id": "14af303c-aa07-41b3-aa61-dd94b6505fa5",
   "metadata": {},
   "outputs": [],
   "source": [
    "hto.var_names"
   ]
  },
  {
   "cell_type": "code",
   "execution_count": null,
   "id": "2c46e3cc-f795-499b-8a7e-9a8d24607ee3",
   "metadata": {},
   "outputs": [],
   "source": [
    "#perfrom Hashsolo anlaysis\n",
    "hashNames = ['AK1654_VEH_B0307', 'AK1656_VEH_B0308', 'AK1660_VEH_B0309']\n",
    "sc.external.pp.hashsolo(adata, hashNames)#, priors=[0.01, 0.8, 0.19], number_of_noise_barcodes=None)\n",
    "adata.obs.head()"
   ]
  },
  {
   "cell_type": "markdown",
   "id": "aae89f39-ca5b-4930-a35d-b7a081c50caa",
   "metadata": {},
   "source": [
    "visualize hashes"
   ]
  },
  {
   "cell_type": "code",
   "execution_count": null,
   "id": "504cb8cd-78c8-4600-badb-87c9341044c5",
   "metadata": {},
   "outputs": [],
   "source": [
    "#output visulaization of hashing\n",
    "sc.pl.heatmap(adata, hashNames, groupby=\"Classification\", log=True, save = f\"_{figName}_hash.png\")"
   ]
  },
  {
   "cell_type": "markdown",
   "id": "9d5f5c6b-7bcb-4709-8ee9-c248474482fa",
   "metadata": {},
   "source": [
    "count each hash"
   ]
  },
  {
   "cell_type": "code",
   "execution_count": null,
   "id": "9ceae6fd-dae1-4d33-b5c4-22a468a9ce69",
   "metadata": {},
   "outputs": [],
   "source": [
    "from collections import Counter\n",
    "\n",
    "Counter(adata.obs[\"Classification\"])"
   ]
  },
  {
   "cell_type": "code",
   "execution_count": null,
   "id": "431d3bb6-e441-450c-8265-00357a159ce0",
   "metadata": {},
   "outputs": [],
   "source": [
    "hashCounts = adata.obs[hashNames]\n",
    "hashCounts"
   ]
  },
  {
   "cell_type": "code",
   "execution_count": null,
   "id": "d4ea0936-ffa3-4d34-bc06-4de484e88274",
   "metadata": {},
   "outputs": [],
   "source": [
    "numHashes = len(hashNames)\n",
    "plotLen = 3\n",
    "fig, axs = plt.subplots(2,plotLen)\n",
    "plt.rcParams[\"figure.figsize\"] = (15,5)\n",
    "\n",
    "dfHashBoundry = pd.DataFrame(np.zeros(numHashes),hashNames, columns=[\"boundry\"])\n",
    "gmm = GMM(n_components = 2, random_state=10, covariance_type = 'full', n_init=5, means_init=[[1],[4]])\n",
    "#binEx = np.arange(0.5,10,10/200).reshape(-1,1)\n",
    "\n",
    "for i, hashName in enumerate(hashNames):\n",
    "    hashCount = np.array(np.log10(adata.obs[hashName]+1)).reshape(-1, 1)\n",
    "    fitGMM = gmm.fit(hashCount)\n",
    "    mean = fitGMM.means_  \n",
    "    covs  = fitGMM.covariances_\n",
    "    weights = fitGMM.weights_\n",
    "    #print(mean)\n",
    "    binEx = np.arange(min(mean),max(mean),0.1).reshape(-1,1)\n",
    "    fitGmmBound = fitGMM.predict(binEx)\n",
    "    #print(fitGmmBound)\n",
    "    hashBoundry = binEx[np.where(fitGmmBound == 1)[0][0]][0]\n",
    "    #naiveBoundry = np.log10(int(hashDisc.loc[\"90%\",hashName])+1)\n",
    "    \n",
    "    dfHashBoundry.loc[hashName] = hashBoundry\n",
    "    \n",
    "    x_axis = np.arange(0, 5, 0.1)\n",
    "    y_axis0 = norm.pdf(x_axis, float(mean[0][0]), np.sqrt(float(covs[0][0][0])))*weights[0] # 1st gaussian\n",
    "    y_axis1 = norm.pdf(x_axis, float(mean[1][0]), np.sqrt(float(covs[1][0][0])))*weights[1] # 2nd gaussian\n",
    "\n",
    "    # Plot 2\n",
    "    x,y = i//plotLen, i%plotLen\n",
    "    axs[x,y].set_title(hashName)\n",
    "    #axs[x,y].axvline(naiveBoundry, c='C3', linestyle='dashed', linewidth=1) #red\n",
    "    axs[x,y].axvline(hashBoundry, c='C2', linestyle='dashed', linewidth=1)  #green\n",
    "    axs[x,y].hist(hashCount, density=True, color='black', bins=100)        \n",
    "    axs[x,y].plot(x_axis, y_axis0, lw=3, c='C6')                            #pink\n",
    "    axs[x,y].plot(x_axis, y_axis1, lw=3, c='C1')                            #orange\n",
    "    axs[x,y].plot(x_axis, y_axis0+y_axis1, lw=3, c='C0', ls=':')            #dotted blue\n",
    "    \n",
    "plt.tight_layout(pad=1.0)\n",
    "plt.show()"
   ]
  },
  {
   "cell_type": "code",
   "execution_count": null,
   "id": "a56e1df0-2296-425f-b887-7d5f8bedb6ff",
   "metadata": {},
   "outputs": [],
   "source": [
    "hashIDs = hashCounts.copy()\n",
    "hashID = np.array(hashNames)\n",
    "for hashName in hashNames:\n",
    "    print(hashName)\n",
    "    print(dfHashBoundry.loc[hashName].values[0])\n",
    "    hashIDs.loc[:,hashName] = np.log10(hashCounts.loc[:,hashName]+1) > dfHashBoundry.loc[hashName].values[0]\n",
    "hashIDs"
   ]
  },
  {
   "cell_type": "code",
   "execution_count": null,
   "id": "e58810db-7776-44de-9b0d-dcbd308f30f9",
   "metadata": {},
   "outputs": [],
   "source": [
    "classification = np.empty(len(adata), dtype=\"object\")\n",
    "i = 0\n",
    "for cellBar, hashBool in hashIDs.iterrows():\n",
    "    numHashes = sum(hashBool)\n",
    "    if (numHashes == 1):\n",
    "        classif = hashID[hashBool.values][0]#.values\n",
    "    elif (numHashes > 1):\n",
    "        classif = \"Doublet\"\n",
    "    else:\n",
    "        classif = \"Negative\"\n",
    "    classification[i] = classif\n",
    "    i = i + 1"
   ]
  },
  {
   "cell_type": "code",
   "execution_count": null,
   "id": "d780c4c7-a17e-4bd0-97b7-5ec95d42b72d",
   "metadata": {},
   "outputs": [],
   "source": [
    "adata.obs[\"GMM\"] = classification\n",
    "adata.obs[\"GMM\"].value_counts()"
   ]
  },
  {
   "cell_type": "code",
   "execution_count": null,
   "id": "f14f2e2c-214e-4ccc-987d-96f6a122b4a6",
   "metadata": {},
   "outputs": [],
   "source": [
    "adata.obs[['AK1654_VEH_B0307', 'AK1656_VEH_B0308', 'AK1660_VEH_B0309']]"
   ]
  },
  {
   "cell_type": "code",
   "execution_count": null,
   "id": "03a5c9b1-3438-4624-b5a9-9e55ca868152",
   "metadata": {},
   "outputs": [],
   "source": [
    "sc.pl.heatmap(adata, ['AK1654_VEH_B0307', 'AK1656_VEH_B0308', 'AK1660_VEH_B0309'], groupby=\"GMM\", log=True)#, save = f\"_{figName}_hash.png\")"
   ]
  },
  {
   "cell_type": "code",
   "execution_count": null,
   "id": "fa1085bb-f7c1-48a0-a41f-4f60e7303825",
   "metadata": {},
   "outputs": [],
   "source": [
    "singlets = [x in hto.var_names for x in adata.obs[\"Classification\"] ]\n",
    "adata = adata[singlets,]"
   ]
  },
  {
   "cell_type": "code",
   "execution_count": null,
   "id": "c8c8911f-6ecb-4c17-8ed8-23f860902314",
   "metadata": {},
   "outputs": [],
   "source": [
    "resultsFileQC"
   ]
  },
  {
   "cell_type": "code",
   "execution_count": null,
   "id": "69cc86ba-b930-44d0-a56c-e7dcd1c2c4d7",
   "metadata": {},
   "outputs": [],
   "source": [
    "adata.write(resultsFileQC)"
   ]
  },
  {
   "cell_type": "code",
   "execution_count": null,
   "id": "4481b05f-b335-4b1b-9b99-b6930b279121",
   "metadata": {},
   "outputs": [],
   "source": []
  },
  {
   "cell_type": "code",
   "execution_count": null,
   "id": "56737dab-3b3b-4fde-8fed-d3681a9db70d",
   "metadata": {},
   "outputs": [],
   "source": []
  }
 ],
 "metadata": {
  "kernelspec": {
   "display_name": "Python 3 (ipykernel)",
   "language": "python",
   "name": "python3"
  },
  "language_info": {
   "codemirror_mode": {
    "name": "ipython",
    "version": 3
   },
   "file_extension": ".py",
   "mimetype": "text/x-python",
   "name": "python",
   "nbconvert_exporter": "python",
   "pygments_lexer": "ipython3",
   "version": "3.8.16"
  }
 },
 "nbformat": 4,
 "nbformat_minor": 5
}
