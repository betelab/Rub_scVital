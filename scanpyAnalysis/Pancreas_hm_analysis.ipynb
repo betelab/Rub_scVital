{
 "cells": [
  {
   "cell_type": "code",
   "execution_count": null,
   "id": "b99e31df-69e2-4b6a-8f21-1a4518fe21ca",
   "metadata": {},
   "outputs": [],
   "source": [
    "import os\n",
    "import numpy as np\n",
    "import pandas as pd\n",
    "import scanpy as sc\n",
    "import anndata as ad\n",
    "from matplotlib import pyplot as plt\n",
    "\n",
    "import scanpyHelpers as scH"
   ]
  },
  {
   "cell_type": "code",
   "execution_count": null,
   "id": "65420bdd-6842-4218-bdd0-92ef4cb788fa",
   "metadata": {},
   "outputs": [],
   "source": [
    "writeDir = \"write\"\n",
    "tissue = \"pancreas\"\n",
    "\n",
    "species1 = \"human\"\n",
    "adataFile1 = f'{writeDir}/{tissue}Human_QC.h5ad'\n",
    "\n",
    "species2 = \"mouse\"\n",
    "adataFile2 = f'{writeDir}/{tissue}Mouse_QC.h5ad'\n",
    "\n",
    "mergedAdataFileQC = f'{writeDir}/{tissue}{species1}{species2}_QC.h5ad'\n",
    "mergedAdataFile = f'{writeDir}/{tissue}{species1}{species2}.h5ad'\n",
    "\n",
    "homologyFile = \"data/hgncHM_121.csv\""
   ]
  },
  {
   "cell_type": "code",
   "execution_count": null,
   "id": "45b43408-3504-463a-87b7-40f5a9fc005b",
   "metadata": {
    "tags": []
   },
   "outputs": [],
   "source": [
    "homology = pd.read_table(homologyFile, sep=\",\")\n",
    "homology"
   ]
  },
  {
   "cell_type": "code",
   "execution_count": null,
   "id": "6cdd8e74-3853-47fe-aba1-bc72bed4d72b",
   "metadata": {},
   "outputs": [],
   "source": [
    "adata1 = sc.read(adataFile1)\n",
    "adata1.layers[\"counts\"] = adata1.X.copy()\n",
    "adata1"
   ]
  },
  {
   "cell_type": "code",
   "execution_count": null,
   "id": "bcb08c6b-c42b-4f9c-8ef8-e23394843cd9",
   "metadata": {},
   "outputs": [],
   "source": [
    "sc.pp.normalize_total(adata1, target_sum=1e4)#,exclude_highly_expressed=True)#\n",
    "sc.pp.log1p(adata1)"
   ]
  },
  {
   "cell_type": "code",
   "execution_count": null,
   "id": "230010cd-5bec-4ae3-9113-6c07981ff0ad",
   "metadata": {},
   "outputs": [],
   "source": [
    "adata2 = sc.read(adataFile2)\n",
    "adata2.layers[\"counts\"] = adata2.X.copy()\n",
    "adata2"
   ]
  },
  {
   "cell_type": "code",
   "execution_count": null,
   "id": "43f34d78-2e39-4401-a934-25ce12695d7a",
   "metadata": {},
   "outputs": [],
   "source": [
    "sc.pp.normalize_total(adata2, target_sum=1e4)#,exclude_highly_expressed=True)#\n",
    "sc.pp.log1p(adata2)"
   ]
  },
  {
   "cell_type": "code",
   "execution_count": null,
   "id": "5d8bcd6a-0a8f-4652-a318-8a9dd47e34b5",
   "metadata": {},
   "outputs": [],
   "source": [
    "genes1, genes2 = scH.getOverlapGenes(adata1, adata2, homology, species1, species2)"
   ]
  },
  {
   "cell_type": "code",
   "execution_count": null,
   "id": "a49b601f-51da-4233-b849-80c874b2d80a",
   "metadata": {},
   "outputs": [],
   "source": [
    "print(f\"{len(genes1)} {len(genes2)} {len(set(genes1).intersection(set(genes2)))}\")"
   ]
  },
  {
   "cell_type": "code",
   "execution_count": null,
   "id": "5d5f1d7d-b6f8-4755-934d-0567e64f0724",
   "metadata": {},
   "outputs": [],
   "source": [
    "adata1.var_names = genes1\n",
    "adata2.var_names = genes2"
   ]
  },
  {
   "cell_type": "code",
   "execution_count": null,
   "id": "b9dfbd53-06c1-431d-9a5e-a492e8111498",
   "metadata": {},
   "outputs": [],
   "source": [
    "adata = ad.concat([adata1, adata2], join=\"outer\", label=\"species\", keys=[species1, species2], fill_value=0)\n",
    "adata.obs_names_make_unique\n"
   ]
  },
  {
   "cell_type": "code",
   "execution_count": null,
   "id": "c25c0cc6-54b4-4e45-a4c1-b0d71a894fc8",
   "metadata": {},
   "outputs": [],
   "source": [
    "adata.obs"
   ]
  },
  {
   "cell_type": "code",
   "execution_count": null,
   "id": "dc22d99c-9c48-4663-9d1e-a91e34dc7094",
   "metadata": {},
   "outputs": [],
   "source": [
    "adata.obs = adata.obs[[\"species\",\"assigned_cluster\"]]"
   ]
  },
  {
   "cell_type": "code",
   "execution_count": null,
   "id": "f7f86f6f-55aa-4ff9-a570-915b22d38f17",
   "metadata": {},
   "outputs": [],
   "source": [
    "mergedAdataFileQC"
   ]
  },
  {
   "cell_type": "code",
   "execution_count": null,
   "id": "b25f0eaa-46e7-4fff-a36a-b44b1f3d5e8b",
   "metadata": {},
   "outputs": [],
   "source": [
    "adata.write(mergedAdataFileQC)"
   ]
  },
  {
   "cell_type": "code",
   "execution_count": null,
   "id": "128e262f-fa44-48db-a797-ba82006bbd9d",
   "metadata": {},
   "outputs": [],
   "source": [
    "adata"
   ]
  },
  {
   "cell_type": "code",
   "execution_count": null,
   "id": "d1bd93b5-3f5e-434d-8420-4d8dce277466",
   "metadata": {},
   "outputs": [],
   "source": []
  },
  {
   "cell_type": "code",
   "execution_count": null,
   "id": "59f76245-72c7-470e-8185-f75c63898bab",
   "metadata": {},
   "outputs": [],
   "source": [
    "batchKey = \"species\"\n",
    "cellTypeKey = \"assigned_cluster\""
   ]
  },
  {
   "cell_type": "code",
   "execution_count": null,
   "id": "3e5c0e8c-db22-4771-b77e-206746fcc1b3",
   "metadata": {},
   "outputs": [],
   "source": [
    "sc.pp.highly_variable_genes(adata, batch_key=batchKey)"
   ]
  },
  {
   "cell_type": "code",
   "execution_count": null,
   "id": "a1e1b5bf-7086-42e9-bae5-a2e1658ec1a4",
   "metadata": {},
   "outputs": [],
   "source": [
    "minMean = 0.05\n",
    "maxMean = 2.9\n",
    "minDisp = 0.3\n",
    "\n",
    "fig, axs = plt.subplots(1, 2, figsize=(10, 5))\n",
    "\n",
    "means = adata.var[[\"means\"]][adata.var[[\"means\"]] > np.exp(-14)]#adata.var[[\"means\"]],\n",
    "axs[0].hist(np.log(means), bins=100)#, log=True),\n",
    "axs[0].axvline(np.log(minMean), color='k', linestyle='dashed', linewidth=1)\n",
    "axs[0].axvline(np.log(maxMean), color='k', linestyle='dashed', linewidth=1)\n",
    "axs[0].set_title('Gene means counts')\n",
    "axs[0].set_xlabel('means')\n",
    "axs[0].set_ylabel('counts')\n",
    "\n",
    "dispNorm = adata.var[[\"dispersions_norm\"]][adata.var[[\"dispersions_norm\"]] > np.exp(-8)]#adata.var[[\"means\"]],\n",
    "axs[1].hist(np.log(dispNorm), bins=100)#, log=True),\n",
    "axs[1].axvline(np.log(minDisp), color='k', linestyle='dashed', linewidth=1)\n",
    "axs[1].set_title('Gene dispersions counts')\n",
    "axs[1].set_xlabel('dispersions')\n",
    "axs[1].set_ylabel('counts')\n",
    "\n",
    "sc.pp.highly_variable_genes(adata, min_disp=minDisp, min_mean=minMean, max_mean=maxMean, batch_key=batchKey)\n",
    "print(sum(adata.var.highly_variable))\n",
    "print(sum(adata.var.highly_variable_intersection))"
   ]
  },
  {
   "cell_type": "code",
   "execution_count": null,
   "id": "5f8470a1-06b0-4951-aea1-e71f1360f3f9",
   "metadata": {},
   "outputs": [],
   "source": [
    "sc.pl.highly_variable_genes(adata)"
   ]
  },
  {
   "cell_type": "code",
   "execution_count": null,
   "id": "3c2b3195-ff76-457f-b185-c04b875930cd",
   "metadata": {},
   "outputs": [],
   "source": [
    "adata.var[adata.var.highly_variable]"
   ]
  },
  {
   "cell_type": "code",
   "execution_count": null,
   "id": "d92196af-c62a-4a23-b326-a33b30e63fe8",
   "metadata": {},
   "outputs": [],
   "source": [
    "adata.var['mt'] = adata.var_names.str.startswith('MT-') "
   ]
  },
  {
   "cell_type": "code",
   "execution_count": null,
   "id": "d11bbf34-19e9-465b-95cd-2326d9c5c925",
   "metadata": {},
   "outputs": [],
   "source": [
    "adata.raw = adata"
   ]
  },
  {
   "cell_type": "code",
   "execution_count": null,
   "id": "a7ec94a3-4c2c-49f1-8ca9-eb2c1b1b0891",
   "metadata": {},
   "outputs": [],
   "source": [
    "#adata = adata[:, adata.var.highly_variable]\n",
    "adata = adata[:, np.logical_and(adata.var.highly_variable, np.logical_not(adata.var.mt))]"
   ]
  },
  {
   "cell_type": "code",
   "execution_count": null,
   "id": "bf43dbf5-363c-4690-a7dc-957e2806d729",
   "metadata": {},
   "outputs": [],
   "source": [
    "#sc.pp.regress_out(adata, ['total_counts', 'pct_counts_mt'])"
   ]
  },
  {
   "cell_type": "code",
   "execution_count": null,
   "id": "c615dbf0-b797-47e1-a362-e1007e8a65c6",
   "metadata": {},
   "outputs": [],
   "source": [
    "#sc.pp.scale(adata, max_value=5)"
   ]
  },
  {
   "cell_type": "code",
   "execution_count": null,
   "id": "6bb35263-3d75-43e9-b3b5-488078e392b5",
   "metadata": {},
   "outputs": [],
   "source": [
    "sc.tl.pca(adata, n_comps = 100, svd_solver='arpack')"
   ]
  },
  {
   "cell_type": "code",
   "execution_count": null,
   "id": "0a76fa5f-5818-4b09-9725-932b29e5e28e",
   "metadata": {},
   "outputs": [],
   "source": [
    "sc.pl.pca_variance_ratio(adata, n_pcs = 100, log=True)"
   ]
  },
  {
   "cell_type": "code",
   "execution_count": null,
   "id": "37b57ada-83df-4986-a17b-30fc84a5df5b",
   "metadata": {},
   "outputs": [],
   "source": [
    "sc.pl.pca_variance_ratio(adata, n_pcs = 100)"
   ]
  },
  {
   "cell_type": "code",
   "execution_count": null,
   "id": "a21ba9c3-f349-4a52-9734-ead0e697d075",
   "metadata": {},
   "outputs": [],
   "source": [
    "sc.pl.pca(adata, color=[cellTypeKey])"
   ]
  },
  {
   "cell_type": "code",
   "execution_count": null,
   "id": "0b149dd7-16d2-4f7e-91e2-eba65fe1207f",
   "metadata": {},
   "outputs": [],
   "source": [
    "sc.pp.neighbors(adata, n_neighbors=20, n_pcs=60)"
   ]
  },
  {
   "cell_type": "code",
   "execution_count": null,
   "id": "43c9cb2a-f8b2-406b-9406-02ca29d5db41",
   "metadata": {},
   "outputs": [],
   "source": [
    "sc.tl.umap(adata)"
   ]
  },
  {
   "cell_type": "code",
   "execution_count": null,
   "id": "9d1d54f7-f347-4be1-8805-a6a04540c83b",
   "metadata": {},
   "outputs": [],
   "source": [
    "sc.tl.leiden(adata, resolution=0.2)"
   ]
  },
  {
   "cell_type": "code",
   "execution_count": null,
   "id": "e87ac421-495f-4a5b-bde0-8deb1f14b510",
   "metadata": {},
   "outputs": [],
   "source": [
    "adata"
   ]
  },
  {
   "cell_type": "code",
   "execution_count": null,
   "id": "a5e61606-2790-4da2-85fc-b36f11ef256e",
   "metadata": {},
   "outputs": [],
   "source": [
    "sc.pl.umap(adata, color=[\"leiden\",cellTypeKey,batchKey],ncols=2)"
   ]
  },
  {
   "cell_type": "code",
   "execution_count": null,
   "id": "2cafff17-a706-4a05-b052-5cc29206052e",
   "metadata": {},
   "outputs": [],
   "source": [
    "adata"
   ]
  },
  {
   "cell_type": "code",
   "execution_count": null,
   "id": "70eb4ee4-bf95-466c-b865-10b4ad885ecb",
   "metadata": {},
   "outputs": [],
   "source": [
    "mergedAdataFile"
   ]
  },
  {
   "cell_type": "code",
   "execution_count": null,
   "id": "df715260-9ca9-4c1c-84d1-280e4bfa89f9",
   "metadata": {},
   "outputs": [],
   "source": [
    "adata.write(mergedAdataFile)"
   ]
  },
  {
   "cell_type": "code",
   "execution_count": null,
   "id": "af99ada0-7634-46dd-a88d-261de9bba7a4",
   "metadata": {},
   "outputs": [],
   "source": [
    "adata = sc.read(mergedAdataFile)"
   ]
  },
  {
   "cell_type": "code",
   "execution_count": null,
   "id": "536b9e24-3a5f-46ec-9de9-0e9c4ff4c345",
   "metadata": {},
   "outputs": [],
   "source": [
    "cellTypeDict = {'B_cell':\"B\", \n",
    "                'T_cell':\"T\", \n",
    "                'acinar':\"acinar\", \n",
    "                'activated_stellate':\"stell\",\n",
    "                'alpha':\"alpha\", \n",
    "                'beta':\"beta\",\n",
    "                'delta':\"delta\",\n",
    "                'delta_1':\"delta\",\n",
    "                'delta_2':\"delta\",\n",
    "                'ductal':\"ductal\",\n",
    "                'endothelial':\"endo\",\n",
    "                'epsilon':\"epsilon\",\n",
    "                'gamma':\"gamma\",\n",
    "                'immune_other':\"imm\",\n",
    "                'macrophage':\"macro\",\n",
    "                'mast':\"mast\",\n",
    "                'quiescent_stellate':\"stell\",\n",
    "                'schwann':\"schwann\",\n",
    "                't_cell':\"T\",\n",
    "                'unknown':\"un\"}\n",
    "adata.obs[\"CellType\"] = [cellTypeDict[l] for l in adata.obs.assigned_cluster]"
   ]
  },
  {
   "cell_type": "code",
   "execution_count": null,
   "id": "d2c2c9ee-4480-4f8a-ae5e-d1b52b79be30",
   "metadata": {},
   "outputs": [],
   "source": []
  }
 ],
 "metadata": {
  "kernelspec": {
   "display_name": "Python 3 (ipykernel)",
   "language": "python",
   "name": "python3"
  },
  "language_info": {
   "codemirror_mode": {
    "name": "ipython",
    "version": 3
   },
   "file_extension": ".py",
   "mimetype": "text/x-python",
   "name": "python",
   "nbconvert_exporter": "python",
   "pygments_lexer": "ipython3",
   "version": "3.8.16"
  }
 },
 "nbformat": 4,
 "nbformat_minor": 5
}
