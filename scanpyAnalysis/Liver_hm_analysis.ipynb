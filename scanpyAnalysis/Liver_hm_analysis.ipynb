{
 "cells": [
  {
   "cell_type": "code",
   "execution_count": null,
   "id": "b99e31df-69e2-4b6a-8f21-1a4518fe21ca",
   "metadata": {},
   "outputs": [],
   "source": [
    "import os\n",
    "import numpy as np\n",
    "import pandas as pd\n",
    "import scanpy as sc\n",
    "import anndata as ad\n",
    "from matplotlib import pyplot as plt\n",
    "\n",
    "import scanpyHelpers as scH"
   ]
  },
  {
   "cell_type": "code",
   "execution_count": null,
   "id": "65420bdd-6842-4218-bdd0-92ef4cb788fa",
   "metadata": {},
   "outputs": [],
   "source": [
    "writeDir = \"write\"\n",
    "tissue = \"Liver\"\n",
    "\n",
    "species1 = \"human\"\n",
    "adataFile1 = f'{writeDir}/{species1}{tissue}_QC.h5ad'\n",
    "\n",
    "species2 = \"mouse\"\n",
    "adataFile2 = f'{writeDir}/{species2}{tissue}_QC.h5ad'\n",
    "\n",
    "mergedAdataFileQC = f'{writeDir}/{tissue}{species1}{species2}_QC.h5ad'\n",
    "mergedAdataFile = f'{writeDir}/{tissue}{species1}{species2}.h5ad'\n",
    "\n",
    "\n",
    "homologyFile = \"data/hgncHM_121.csv\""
   ]
  },
  {
   "cell_type": "code",
   "execution_count": null,
   "id": "45b43408-3504-463a-87b7-40f5a9fc005b",
   "metadata": {
    "tags": []
   },
   "outputs": [],
   "source": [
    "homology = pd.read_table(homologyFile, sep=\",\")\n",
    "homology"
   ]
  },
  {
   "cell_type": "code",
   "execution_count": null,
   "id": "6cdd8e74-3853-47fe-aba1-bc72bed4d72b",
   "metadata": {},
   "outputs": [],
   "source": [
    "adata1 = sc.read(adataFile1)\n",
    "adata1.layers[\"counts\"] = adata1.X.copy()\n",
    "adata1"
   ]
  },
  {
   "cell_type": "code",
   "execution_count": null,
   "id": "bcb08c6b-c42b-4f9c-8ef8-e23394843cd9",
   "metadata": {},
   "outputs": [],
   "source": [
    "sc.pp.normalize_total(adata1, target_sum=1e4)#,exclude_highly_expressed=True)#\n",
    "sc.pp.log1p(adata1)"
   ]
  },
  {
   "cell_type": "code",
   "execution_count": null,
   "id": "230010cd-5bec-4ae3-9113-6c07981ff0ad",
   "metadata": {},
   "outputs": [],
   "source": [
    "adata2 = sc.read(adataFile2)\n",
    "adata2.layers[\"counts\"] = adata2.X.copy()\n",
    "adata2"
   ]
  },
  {
   "cell_type": "code",
   "execution_count": null,
   "id": "43f34d78-2e39-4401-a934-25ce12695d7a",
   "metadata": {},
   "outputs": [],
   "source": [
    "sc.pp.normalize_total(adata2, target_sum=1e4)#,exclude_highly_expressed=True)#\n",
    "sc.pp.log1p(adata2)"
   ]
  },
  {
   "cell_type": "code",
   "execution_count": null,
   "id": "5d8bcd6a-0a8f-4652-a318-8a9dd47e34b5",
   "metadata": {},
   "outputs": [],
   "source": [
    "genes1 = np.array(adata1.var_names, dtype=object)\n",
    "genes2 = np.array(adata2.var_names, dtype=object)\n",
    "genes1, genes2 = scH.getOverlapGenes(genes1, genes2, homology, species1, species2)"
   ]
  },
  {
   "cell_type": "code",
   "execution_count": null,
   "id": "a49b601f-51da-4233-b849-80c874b2d80a",
   "metadata": {},
   "outputs": [],
   "source": [
    "print(f\"{len(genes1)} {len(genes2)} {len(set(genes1).intersection(set(genes2)))}\")"
   ]
  },
  {
   "cell_type": "code",
   "execution_count": null,
   "id": "5d5f1d7d-b6f8-4755-934d-0567e64f0724",
   "metadata": {},
   "outputs": [],
   "source": [
    "adata1.var_names = genes1\n",
    "adata2.var_names = genes2"
   ]
  },
  {
   "cell_type": "code",
   "execution_count": null,
   "id": "b9dfbd53-06c1-431d-9a5e-a492e8111498",
   "metadata": {},
   "outputs": [],
   "source": [
    "adata = ad.concat([adata1, adata2], join=\"outer\", label=\"species\", keys=[species1, species2], fill_value=0)\n",
    "adata.obs_names_make_unique()"
   ]
  },
  {
   "cell_type": "code",
   "execution_count": null,
   "id": "061eff4e-537b-46dc-bf43-cdfbd06efe0c",
   "metadata": {},
   "outputs": [],
   "source": [
    "adata.obs"
   ]
  },
  {
   "cell_type": "code",
   "execution_count": null,
   "id": "eeaab3d3-134a-4c60-85a8-f689e83ed9e2",
   "metadata": {},
   "outputs": [],
   "source": [
    "adata.obs = adata.obs[[\"species\",\"CellType\"]]\n",
    "adata"
   ]
  },
  {
   "cell_type": "code",
   "execution_count": null,
   "id": "e56a9afc-0000-444b-bb1b-c82cdbca86ae",
   "metadata": {},
   "outputs": [],
   "source": [
    "mergedAdataFileQC"
   ]
  },
  {
   "cell_type": "code",
   "execution_count": null,
   "id": "d1bd93b5-3f5e-434d-8420-4d8dce277466",
   "metadata": {},
   "outputs": [],
   "source": [
    "adata.write(mergedAdataFileQC)"
   ]
  },
  {
   "cell_type": "code",
   "execution_count": null,
   "id": "6042971f-ebed-4043-9c8b-927525c140fd",
   "metadata": {},
   "outputs": [],
   "source": [
    "adata.var"
   ]
  },
  {
   "cell_type": "code",
   "execution_count": null,
   "id": "8cae3259-8737-438b-8272-47f1791003a7",
   "metadata": {},
   "outputs": [],
   "source": [
    "batchKey = \"species\"\n",
    "cellTypeKey = \"CellType\""
   ]
  },
  {
   "cell_type": "code",
   "execution_count": null,
   "id": "007068a4-a7ae-436e-9ecc-bcce23354c68",
   "metadata": {},
   "outputs": [],
   "source": [
    "sc.pp.highly_variable_genes(adata, batch_key=batchKey)"
   ]
  },
  {
   "cell_type": "code",
   "execution_count": null,
   "id": "ca1819bf-a218-4962-8874-f4957297ffdc",
   "metadata": {},
   "outputs": [],
   "source": [
    "minMean = 0.05\n",
    "maxMean = 2.9\n",
    "minDisp = 0.25\n",
    "\n",
    "fig, axs = plt.subplots(1, 2, figsize=(10, 5))\n",
    "\n",
    "means = adata.var[[\"means\"]][adata.var[[\"means\"]] > np.exp(-14)]#adata.var[[\"means\"]],\n",
    "axs[0].hist(np.log(means), bins=100)#, log=True),\n",
    "axs[0].axvline(np.log(minMean), color='k', linestyle='dashed', linewidth=1)\n",
    "axs[0].axvline(np.log(maxMean), color='k', linestyle='dashed', linewidth=1)\n",
    "axs[0].set_title('Gene means counts')\n",
    "axs[0].set_xlabel('means')\n",
    "axs[0].set_ylabel('counts')\n",
    "\n",
    "dispNorm = adata.var[[\"dispersions_norm\"]][adata.var[[\"dispersions_norm\"]] > np.exp(-8)]#adata.var[[\"means\"]],\n",
    "axs[1].hist(np.log(dispNorm), bins=100)#, log=True),\n",
    "axs[1].axvline(np.log(minDisp), color='k', linestyle='dashed', linewidth=1)\n",
    "axs[1].set_title('Gene dispersions counts')\n",
    "axs[1].set_xlabel('dispersions')\n",
    "axs[1].set_ylabel('counts')\n",
    "\n",
    "sc.pp.highly_variable_genes(adata, min_disp=minDisp, min_mean=minMean, max_mean=maxMean, batch_key=batchKey)\n",
    "print(sum(adata.var.highly_variable))\n",
    "print(sum(adata.var.highly_variable_intersection))"
   ]
  },
  {
   "cell_type": "code",
   "execution_count": null,
   "id": "1b8978b0-d777-483d-abd3-d6993d8c6524",
   "metadata": {},
   "outputs": [],
   "source": [
    "sc.pl.highly_variable_genes(adata)"
   ]
  },
  {
   "cell_type": "code",
   "execution_count": null,
   "id": "f2d4b1f9-30ff-4718-93d3-f5f9bf5f2fd0",
   "metadata": {},
   "outputs": [],
   "source": [
    "adata.var[adata.var.highly_variable]"
   ]
  },
  {
   "cell_type": "code",
   "execution_count": null,
   "id": "16749906-a4ae-413c-966c-6d2afda7c10b",
   "metadata": {},
   "outputs": [],
   "source": [
    "adata.var['mt'] = adata.var_names.str.startswith('MT-') "
   ]
  },
  {
   "cell_type": "code",
   "execution_count": null,
   "id": "a49d46ae-ecbb-41db-afd6-46f5c345ea84",
   "metadata": {},
   "outputs": [],
   "source": [
    "adata.raw = adata"
   ]
  },
  {
   "cell_type": "code",
   "execution_count": null,
   "id": "ef30294f-17cf-41c3-a544-5c375841cd62",
   "metadata": {},
   "outputs": [],
   "source": [
    "#adata = adata[:, adata.var.highly_variable]\n",
    "adata = adata[:, np.logical_and(adata.var.highly_variable, np.logical_not(adata.var.mt))]"
   ]
  },
  {
   "cell_type": "code",
   "execution_count": null,
   "id": "5500e864-d01e-444a-bed1-81c61b21377f",
   "metadata": {},
   "outputs": [],
   "source": [
    "#sc.pp.regress_out(adata, ['total_counts', 'pct_counts_mt'])"
   ]
  },
  {
   "cell_type": "code",
   "execution_count": null,
   "id": "028dc5e0-d016-4185-9f03-acb04784ec76",
   "metadata": {},
   "outputs": [],
   "source": [
    "#sc.pp.scale(adata, max_value=5)"
   ]
  },
  {
   "cell_type": "code",
   "execution_count": null,
   "id": "b27d4e2c-726a-4b2b-b93a-d5e37553f79d",
   "metadata": {},
   "outputs": [],
   "source": [
    "sc.tl.pca(adata, n_comps = 100, svd_solver='arpack')"
   ]
  },
  {
   "cell_type": "code",
   "execution_count": null,
   "id": "769b07f3-8e7f-4dff-985a-ba9862d84330",
   "metadata": {},
   "outputs": [],
   "source": [
    "sc.pl.pca_variance_ratio(adata, n_pcs = 100, log=True)"
   ]
  },
  {
   "cell_type": "code",
   "execution_count": null,
   "id": "e9e23fe4-4520-4521-a39c-769365609779",
   "metadata": {},
   "outputs": [],
   "source": [
    "sc.pl.pca_variance_ratio(adata, n_pcs = 100)"
   ]
  },
  {
   "cell_type": "code",
   "execution_count": null,
   "id": "ceb74325-d794-4cff-abc3-3e490b048c46",
   "metadata": {},
   "outputs": [],
   "source": [
    "sc.pl.pca(adata, color=[\"CellType\"])"
   ]
  },
  {
   "cell_type": "code",
   "execution_count": null,
   "id": "e489445c-4b17-47a3-bdec-b420865fffd1",
   "metadata": {},
   "outputs": [],
   "source": [
    "sc.pp.neighbors(adata, n_neighbors=20, n_pcs=40)"
   ]
  },
  {
   "cell_type": "code",
   "execution_count": null,
   "id": "74f481cf-864b-4c95-9ff3-f0211b6969fe",
   "metadata": {},
   "outputs": [],
   "source": [
    "sc.tl.umap(adata)"
   ]
  },
  {
   "cell_type": "code",
   "execution_count": null,
   "id": "e57c721b-3a1e-4949-b800-57f1ce328911",
   "metadata": {},
   "outputs": [],
   "source": [
    "sc.tl.leiden(adata, resolution=0.2)"
   ]
  },
  {
   "cell_type": "code",
   "execution_count": null,
   "id": "495a22b6-0128-4bc4-b457-3fba15107687",
   "metadata": {},
   "outputs": [],
   "source": [
    "adata"
   ]
  },
  {
   "cell_type": "code",
   "execution_count": null,
   "id": "c1f4b5dc-f8a6-4b0d-b532-c77e07a0cfbf",
   "metadata": {},
   "outputs": [],
   "source": [
    "sc.pl.umap(adata, color=[\"leiden\",cellTypeKey,batchKey],ncols=2)"
   ]
  },
  {
   "cell_type": "code",
   "execution_count": null,
   "id": "3c99b43a-2a9f-45cf-9c9d-0eeacb50024a",
   "metadata": {},
   "outputs": [],
   "source": [
    "cellTypeDict = {'B':\"B\", \n",
    "                'Central_venous_LSECs':\"LSEC\", \n",
    "                'Cholangiocytes':\"Cholang\", \n",
    "                'DCs':\"DC\",\n",
    "                'Endothelial cells':\"Endo\", \n",
    "                'Erythroid_Cells':\"Eryth\",\n",
    "                'Hepatic progenitor cells':\"HepaticProg\",\n",
    "                'Hepatic_Stellate_Cells':\"Stellate\",\n",
    "                'Hepatocyte_1':\"Hepato\",\n",
    "                'Hepatocyte_2':\"Hepato\",\n",
    "                'Hepatocyte_3':\"Hepato\",\n",
    "                'Hepatocyte_4':\"Hepato\",\n",
    "                'Hepatocyte_5':\"Hepato\",\n",
    "                'Hepatocyte_6':\"Hepato\",\n",
    "                'Hepatocytes':\"Hepato\",\n",
    "                'Inflammatory_Macrophage':\"Macro\",\n",
    "                'Kupffer cells':\"Kupffer\", \n",
    "                'Mature_B_Cells':\"B\", \n",
    "                'Monocyte/Monocyte derived macrophage':\"Mono\",\n",
    "                'Myofibroblasts':\"Myofib\",\n",
    "                'NK':\"NK\",\n",
    "                'NK-like_Cells':\"NK\", \n",
    "                'Neutrophils':\"Neutro\",\n",
    "                'Non-inflammatory_Macrophage':\"Macro\",\n",
    "                'Periportal_LSECs':\"LSEC\", \n",
    "                'Plasma_Cells':\"Plasma\",\n",
    "                'Portal_endothelial_Cells':\"Endo\", \n",
    "                'Stellate cells':\"Stellate\",\n",
    "                'T':\"T\", \n",
    "                'alpha-beta_T_Cells':\"T\",\n",
    "                'gamma-delta_T_Cells_1':\"T\",\n",
    "                'gamma-delta_T_Cells_2':\"T\",\n",
    "                'pDCs':\"DC\"}\n",
    "adata.obs[\"simple\"] = [cellTypeDict[c] for c in adata.obs[\"CellType\"]]"
   ]
  },
  {
   "cell_type": "code",
   "execution_count": null,
   "id": "6bd06ee4-3d04-437d-989d-8d749079d7f1",
   "metadata": {},
   "outputs": [],
   "source": [
    "sc.pl.umap(adata, color=[\"CellType\"],ncols=1, legend_loc=\"on data\")"
   ]
  },
  {
   "cell_type": "code",
   "execution_count": null,
   "id": "c67714cd-8482-435b-9029-fbf59b0310bf",
   "metadata": {},
   "outputs": [],
   "source": [
    "sc.pl.umap(adata, color=[\"simple\"],ncols=1, legend_loc=\"on data\")"
   ]
  },
  {
   "cell_type": "code",
   "execution_count": null,
   "id": "ad10efc5-a4d4-4105-bfb7-1dcb99c51fe8",
   "metadata": {},
   "outputs": [],
   "source": [
    "mergedAdataFile"
   ]
  },
  {
   "cell_type": "code",
   "execution_count": null,
   "id": "ef4bbc9b-2d23-450b-95c6-6265f470383e",
   "metadata": {},
   "outputs": [],
   "source": [
    "adata.write(mergedAdataFile)"
   ]
  },
  {
   "cell_type": "code",
   "execution_count": null,
   "id": "da8c9f7a-16cc-44ea-8a6c-0d11d3d4ef1a",
   "metadata": {},
   "outputs": [],
   "source": [
    "adata"
   ]
  },
  {
   "cell_type": "code",
   "execution_count": null,
   "id": "a1fe31a5-1e22-4768-b7ff-a486417d972b",
   "metadata": {},
   "outputs": [],
   "source": [
    "adata.var = adata.var[[\"highly_variable_nbatches\"]]\n",
    "adata.obsm = None\n",
    "adata.varm = None\n",
    "adata.obsp = None"
   ]
  },
  {
   "cell_type": "code",
   "execution_count": null,
   "id": "175e48a8-e32e-4be1-8ca2-72061102bd1b",
   "metadata": {},
   "outputs": [],
   "source": [
    "adata"
   ]
  },
  {
   "cell_type": "code",
   "execution_count": null,
   "id": "fcef6299-aedb-4882-a75d-abb58b5020ae",
   "metadata": {},
   "outputs": [],
   "source": []
  }
 ],
 "metadata": {
  "kernelspec": {
   "display_name": "Python 3 (ipykernel)",
   "language": "python",
   "name": "python3"
  },
  "language_info": {
   "codemirror_mode": {
    "name": "ipython",
    "version": 3
   },
   "file_extension": ".py",
   "mimetype": "text/x-python",
   "name": "python",
   "nbconvert_exporter": "python",
   "pygments_lexer": "ipython3",
   "version": "3.8.16"
  }
 },
 "nbformat": 4,
 "nbformat_minor": 5
}
