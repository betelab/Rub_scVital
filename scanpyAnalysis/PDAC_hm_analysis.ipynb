{
 "cells": [
  {
   "cell_type": "code",
   "execution_count": null,
   "id": "b99e31df-69e2-4b6a-8f21-1a4518fe21ca",
   "metadata": {
    "tags": []
   },
   "outputs": [],
   "source": [
    "import os\n",
    "import numpy as np\n",
    "import pandas as pd\n",
    "import scanpy as sc\n",
    "import anndata as ad\n",
    "from matplotlib import pyplot as plt\n",
    "\n",
    "import scanpyHelpers as scH"
   ]
  },
  {
   "cell_type": "code",
   "execution_count": null,
   "id": "65420bdd-6842-4218-bdd0-92ef4cb788fa",
   "metadata": {
    "tags": []
   },
   "outputs": [],
   "source": [
    "writeDir = \"write\"\n",
    "tissue = \"pdac\"\n",
    "\n",
    "dictLab = [\"species\",\"adataName\"]\n",
    "dataDicts = {\"mou\":dict(zip(dictLab, [\"mouse\",f'{writeDir}/{tissue}Mouse'])),\n",
    "             \"veh\":dict(zip(dictLab, [\"mouse\",f'{writeDir}/{tissue}MouseVeh'])),\n",
    "             \"pdx\":dict(zip(dictLab, [\"human\",f'{writeDir}/{tissue}PdxVeh'])),\n",
    "             \"hum\":dict(zip(dictLab, [\"human\",f'{writeDir}/{tissue}Human'])),\n",
    "             #\"met\":dict(zip(dictLab, [\"human\",f'{writeDir}/{tissue}HumanMet'])),\n",
    "             #\"org\":dict(zip(dictLab, [\"human\",f'{writeDir}/{tissue}Organoid'])),\n",
    "             \"hwa\":dict(zip(dictLab, [\"human\",f'{writeDir}/{tissue}Hwang'])),\n",
    "             \"lin\":dict(zip(dictLab, [\"human\",f'{writeDir}/{tissue}Lin']))\n",
    "            }\n",
    "\n",
    "mergedAdataFileQC = f'{writeDir}/{tissue}mouseHumanVehHwangLin_QC.h5ad'\n",
    "mergedAdataFile = f'{writeDir}/{tissue}mouseHumanVehHwangLin.h5ad'\n",
    "\n",
    "homologyFile = \"data/hgncHM_121.csv\""
   ]
  },
  {
   "cell_type": "code",
   "execution_count": null,
   "id": "45b43408-3504-463a-87b7-40f5a9fc005b",
   "metadata": {
    "tags": []
   },
   "outputs": [],
   "source": [
    "homology = pd.read_table(homologyFile, sep=\",\")\n",
    "homology"
   ]
  },
  {
   "cell_type": "code",
   "execution_count": null,
   "id": "255a4d25-945d-4b52-b01a-585860ae585a",
   "metadata": {},
   "outputs": [],
   "source": [
    "def getAdata(adataFile, neededObs):\n",
    "    adata = sc.read(adataFile+\"_QC.h5ad\")\n",
    "    adataPost = sc.read(adataFile+\".h5ad\")\n",
    "    sc.pl.umap(adataPost, color=[\"cellState\"])\n",
    "    adata = adata[adataPost.obs_names,:]\n",
    "    adata.obs[neededObs] = adataPost.obs[neededObs]\n",
    "    adata.layers[\"counts\"] = adata.X.copy()\n",
    "    #adata.obs[\"sample\"] = adata.obs[\"Classification\"].copy()\n",
    "    return(adata)\n",
    "\n",
    "def getNormAdata(adataFile, neededObs):\n",
    "    adata = getAdata(adataFile, neededObs)\n",
    "    sc.pp.normalize_total(adata, target_sum=1e4)#,exclude_highly_expressed=True)#\n",
    "    sc.pp.log1p(adata)\n",
    "    return adata"
   ]
  },
  {
   "cell_type": "code",
   "execution_count": null,
   "id": "f42ebe9c-4fbb-46f4-813e-da01d619543c",
   "metadata": {},
   "outputs": [],
   "source": [
    "geneSpecDict = []\n",
    "adatas = []\n",
    "for datakey in dataDicts.keys():\n",
    "    print(datakey)\n",
    "    adata = getNormAdata(dataDicts[datakey][\"adataName\"], [\"cellState\",\"decoupler\"])\n",
    "    geneSpecDict.append({\"genes\":np.array(adata.var_names.copy()),\"species\":dataDicts[datakey][\"species\"]})\n",
    "    adatas.append(adata)\n",
    "\n",
    "geneSpecDict"
   ]
  },
  {
   "cell_type": "code",
   "execution_count": null,
   "id": "22a20383-1292-4fe6-aa29-b0e8248e816b",
   "metadata": {},
   "outputs": [],
   "source": [
    "scH.getOverlapGenesMulti(homology, geneSpecDict)"
   ]
  },
  {
   "cell_type": "code",
   "execution_count": null,
   "id": "487bf7a1-8417-4a79-a4b0-c5fb040ebe51",
   "metadata": {},
   "outputs": [],
   "source": [
    "for i,genesDict in enumerate(geneSpecDict):\n",
    "    adatas[i].var_names = genesDict[\"genes\"]"
   ]
  },
  {
   "cell_type": "code",
   "execution_count": null,
   "id": "29a0e67a-0b2a-4407-9905-1b1ba2970fe8",
   "metadata": {},
   "outputs": [],
   "source": [
    "dataDicts.keys()"
   ]
  },
  {
   "cell_type": "code",
   "execution_count": null,
   "id": "40eda218-05ad-4c41-a32e-c18a9acbc548",
   "metadata": {},
   "outputs": [],
   "source": [
    "adata = ad.concat(adatas, join=\"outer\", label=\"dataset\", keys=dataDicts.keys(), fill_value=0)\n",
    "adata.obs_names_make_unique()"
   ]
  },
  {
   "cell_type": "code",
   "execution_count": null,
   "id": "14433a6a-a3cd-4b01-b154-b17eb8b3a1bb",
   "metadata": {},
   "outputs": [],
   "source": [
    "adata"
   ]
  },
  {
   "cell_type": "code",
   "execution_count": null,
   "id": "9aa2c724-0355-427d-b72f-7b7e44997562",
   "metadata": {},
   "outputs": [],
   "source": [
    "adata.var"
   ]
  },
  {
   "cell_type": "code",
   "execution_count": null,
   "id": "c25c0cc6-54b4-4e45-a4c1-b0d71a894fc8",
   "metadata": {
    "tags": []
   },
   "outputs": [],
   "source": [
    "adata.obs = adata.obs[['batch', 'mouse','dataset',\"cellState\",\"decoupler\"]]\n",
    "adata.obs[\"species\"] = [\"mouse\" if lab==\"mou\" else \"human\" for lab in adata.obs.dataset]"
   ]
  },
  {
   "cell_type": "code",
   "execution_count": null,
   "id": "f7f86f6f-55aa-4ff9-a570-915b22d38f17",
   "metadata": {
    "tags": []
   },
   "outputs": [],
   "source": [
    "mergedAdataFileQC"
   ]
  },
  {
   "cell_type": "code",
   "execution_count": null,
   "id": "b25f0eaa-46e7-4fff-a36a-b44b1f3d5e8b",
   "metadata": {
    "tags": []
   },
   "outputs": [],
   "source": [
    "adata.write(mergedAdataFileQC)"
   ]
  },
  {
   "cell_type": "code",
   "execution_count": null,
   "id": "128e262f-fa44-48db-a797-ba82006bbd9d",
   "metadata": {
    "tags": []
   },
   "outputs": [],
   "source": [
    "adata"
   ]
  },
  {
   "cell_type": "code",
   "execution_count": null,
   "id": "bd9208d8-e993-4508-88f4-f675bf87aa64",
   "metadata": {},
   "outputs": [],
   "source": []
  },
  {
   "cell_type": "code",
   "execution_count": null,
   "id": "6aa11f02-3a8d-4878-a657-9e70cc2be65e",
   "metadata": {},
   "outputs": [],
   "source": [
    "combos = {\"mouseHumanVehHwangLin\":['mou', 'veh', 'pdx', 'hum', 'hwa', 'lin'],\n",
    "          #\"MouseHumanHwangLin\":['mou', 'hum', 'hwa', 'lin'],\n",
    "          \"HumanPDXHwangLin\":['hum', 'pdx', 'hwa', 'lin'],\n",
    "          \"MouseHuman\":['mou', 'hum'],\n",
    "          \"MouseHwang\":['mou', 'hwa'],\n",
    "          \"MouseLin\":['mou', 'lin'],\n",
    "          \"MousePDX\":['mou', 'pdx'],\n",
    "          \"MouseVeh\":['mou', 'veh'],\n",
    "          \"VehHuman\":['veh', 'hum'],\n",
    "          \"VehPDX\":['veh', 'pdx'],\n",
    "          \"VehHwang\":['veh', 'hwa'],\n",
    "          \"VehLin\":['veh', 'lin']}\n",
    "\n",
    "name = \"MouseLin\"\n",
    "combo = combos[name]"
   ]
  },
  {
   "cell_type": "code",
   "execution_count": null,
   "id": "a45b4e1e-ef2f-4c6d-a056-3563bf7348b8",
   "metadata": {},
   "outputs": [],
   "source": [
    "for name in combos:\n",
    "    combo = combos[name]\n",
    "    adata = sc.read(mergedAdataFileQC)\n",
    "    mergedAdataFile = f'{writeDir}/{tissue}{name}.h5ad'\n",
    "    adata = adata[[datas in combo for datas in adata.obs.dataset]]\n",
    "    batchKey = \"dataset\"\n",
    "    cellTypeKey = \"decoupler\"\n",
    "    sc.pp.highly_variable_genes(adata, batch_key=batchKey, flavor=\"seurat_v3\", n_top_genes=2000, layer=\"counts\")\n",
    "    adata.var['mt'] = adata.var_names.str.startswith('mt-') \n",
    "    adata.raw = adata\n",
    "    adata = adata[:, np.logical_and(adata.var.highly_variable, np.logical_not(adata.var.mt))]\n",
    "    sc.tl.pca(adata, n_comps = 100, svd_solver='arpack')\n",
    "    sc.pp.neighbors(adata, n_neighbors=20, n_pcs=60)\n",
    "    sc.tl.umap(adata)\n",
    "    sc.tl.leiden(adata, resolution=0.2)\n",
    "    sc.pl.umap(adata, color=[\"leiden\",cellTypeKey,batchKey,\"species\"],ncols=4)\n",
    "    #adata.write(mergedAdataFile)\n",
    "    break"
   ]
  },
  {
   "cell_type": "code",
   "execution_count": null,
   "id": "849c5b25-2f4b-49ca-bfa8-f969ef9a04bc",
   "metadata": {},
   "outputs": [],
   "source": [
    "adata"
   ]
  },
  {
   "cell_type": "code",
   "execution_count": null,
   "id": "662c20da-7adf-479f-a26e-7b7b6cdda1f1",
   "metadata": {},
   "outputs": [],
   "source": [
    "adata = sc.read(mergedAdataFileQC)\n",
    "mergedAdataFile = f'{writeDir}/{tissue}{name}.h5ad'\n",
    "adata = adata[[datas in combo for datas in adata.obs.dataset]]"
   ]
  },
  {
   "cell_type": "code",
   "execution_count": null,
   "id": "59f76245-72c7-470e-8185-f75c63898bab",
   "metadata": {
    "tags": []
   },
   "outputs": [],
   "source": [
    "batchKey = \"dataset\"\n",
    "cellTypeKey = \"decoupler\""
   ]
  },
  {
   "cell_type": "code",
   "execution_count": null,
   "id": "3e5c0e8c-db22-4771-b77e-206746fcc1b3",
   "metadata": {
    "tags": []
   },
   "outputs": [],
   "source": [
    "sc.pp.highly_variable_genes(adata, batch_key=batchKey)"
   ]
  },
  {
   "cell_type": "code",
   "execution_count": null,
   "id": "a1e1b5bf-7086-42e9-bae5-a2e1658ec1a4",
   "metadata": {
    "tags": []
   },
   "outputs": [],
   "source": [
    "minMean = 0.1\n",
    "maxMean = 2.7\n",
    "minDisp = 0.2\n",
    "\n",
    "fig, axs = plt.subplots(1, 2, figsize=(10, 5))\n",
    "\n",
    "means = adata.var[[\"means\"]][adata.var[[\"means\"]] > np.exp(-14)]#adata.var[[\"means\"]],\n",
    "axs[0].hist(np.log(means), bins=100)#, log=True),\n",
    "axs[0].axvline(np.log(minMean), color='k', linestyle='dashed', linewidth=1)\n",
    "axs[0].axvline(np.log(maxMean), color='k', linestyle='dashed', linewidth=1)\n",
    "axs[0].set_title('Gene means counts')\n",
    "axs[0].set_xlabel('means')\n",
    "axs[0].set_ylabel('counts')\n",
    "\n",
    "dispNorm = adata.var[[\"dispersions_norm\"]][adata.var[[\"dispersions_norm\"]] > np.exp(-8)]#adata.var[[\"means\"]],\n",
    "axs[1].hist(np.log(dispNorm), bins=100)#, log=True),\n",
    "axs[1].axvline(np.log(minDisp), color='k', linestyle='dashed', linewidth=1)\n",
    "axs[1].set_title('Gene dispersions counts')\n",
    "axs[1].set_xlabel('dispersions')\n",
    "axs[1].set_ylabel('counts')\n",
    "\n",
    "sc.pp.highly_variable_genes(adata, min_disp=minDisp, min_mean=minMean, max_mean=maxMean, batch_key=batchKey)\n",
    "print(sum(adata.var.highly_variable))\n",
    "print(sum(adata.var.highly_variable_intersection))"
   ]
  },
  {
   "cell_type": "code",
   "execution_count": null,
   "id": "5f8470a1-06b0-4951-aea1-e71f1360f3f9",
   "metadata": {
    "tags": []
   },
   "outputs": [],
   "source": [
    "sc.pl.highly_variable_genes(adata)"
   ]
  },
  {
   "cell_type": "code",
   "execution_count": null,
   "id": "3c2b3195-ff76-457f-b185-c04b875930cd",
   "metadata": {
    "tags": []
   },
   "outputs": [],
   "source": [
    "adata.var[adata.var.highly_variable]"
   ]
  },
  {
   "cell_type": "code",
   "execution_count": null,
   "id": "d92196af-c62a-4a23-b326-a33b30e63fe8",
   "metadata": {
    "tags": []
   },
   "outputs": [],
   "source": [
    "adata.var['mt'] = adata.var_names.str.startswith('mt-') "
   ]
  },
  {
   "cell_type": "code",
   "execution_count": null,
   "id": "d11bbf34-19e9-465b-95cd-2326d9c5c925",
   "metadata": {
    "tags": []
   },
   "outputs": [],
   "source": [
    "adata.raw = adata"
   ]
  },
  {
   "cell_type": "code",
   "execution_count": null,
   "id": "a7ec94a3-4c2c-49f1-8ca9-eb2c1b1b0891",
   "metadata": {
    "tags": []
   },
   "outputs": [],
   "source": [
    "#adata = adata[:, adata.var.highly_variable]\n",
    "adata = adata[:, np.logical_and(adata.var.highly_variable, np.logical_not(adata.var.mt))]"
   ]
  },
  {
   "cell_type": "code",
   "execution_count": null,
   "id": "bf43dbf5-363c-4690-a7dc-957e2806d729",
   "metadata": {
    "tags": []
   },
   "outputs": [],
   "source": [
    "#sc.pp.regress_out(adata, ['total_counts', 'pct_counts_mt'])"
   ]
  },
  {
   "cell_type": "code",
   "execution_count": null,
   "id": "c615dbf0-b797-47e1-a362-e1007e8a65c6",
   "metadata": {
    "tags": []
   },
   "outputs": [],
   "source": [
    "#sc.pp.scale(adata, max_value=5)"
   ]
  },
  {
   "cell_type": "code",
   "execution_count": null,
   "id": "6bb35263-3d75-43e9-b3b5-488078e392b5",
   "metadata": {
    "tags": []
   },
   "outputs": [],
   "source": [
    "sc.tl.pca(adata, n_comps = 100, svd_solver='arpack')"
   ]
  },
  {
   "cell_type": "code",
   "execution_count": null,
   "id": "0a76fa5f-5818-4b09-9725-932b29e5e28e",
   "metadata": {
    "tags": []
   },
   "outputs": [],
   "source": [
    "sc.pl.pca_variance_ratio(adata, n_pcs = 100, log=True)"
   ]
  },
  {
   "cell_type": "code",
   "execution_count": null,
   "id": "37b57ada-83df-4986-a17b-30fc84a5df5b",
   "metadata": {
    "tags": []
   },
   "outputs": [],
   "source": [
    "sc.pl.pca_variance_ratio(adata, n_pcs = 100)"
   ]
  },
  {
   "cell_type": "code",
   "execution_count": null,
   "id": "a21ba9c3-f349-4a52-9734-ead0e697d075",
   "metadata": {
    "tags": []
   },
   "outputs": [],
   "source": [
    "sc.pl.pca(adata, color=[cellTypeKey,\"species\"])"
   ]
  },
  {
   "cell_type": "code",
   "execution_count": null,
   "id": "0b149dd7-16d2-4f7e-91e2-eba65fe1207f",
   "metadata": {
    "tags": []
   },
   "outputs": [],
   "source": [
    "sc.pp.neighbors(adata, n_neighbors=20, n_pcs=60)"
   ]
  },
  {
   "cell_type": "code",
   "execution_count": null,
   "id": "43c9cb2a-f8b2-406b-9406-02ca29d5db41",
   "metadata": {
    "tags": []
   },
   "outputs": [],
   "source": [
    "sc.tl.umap(adata)"
   ]
  },
  {
   "cell_type": "code",
   "execution_count": null,
   "id": "9d1d54f7-f347-4be1-8805-a6a04540c83b",
   "metadata": {
    "tags": []
   },
   "outputs": [],
   "source": [
    "sc.tl.leiden(adata, resolution=0.2)"
   ]
  },
  {
   "cell_type": "code",
   "execution_count": null,
   "id": "e87ac421-495f-4a5b-bde0-8deb1f14b510",
   "metadata": {
    "tags": []
   },
   "outputs": [],
   "source": [
    "adata"
   ]
  },
  {
   "cell_type": "code",
   "execution_count": null,
   "id": "a5e61606-2790-4da2-85fc-b36f11ef256e",
   "metadata": {
    "tags": []
   },
   "outputs": [],
   "source": [
    "sc.pl.umap(adata, color=[\"leiden\",cellTypeKey,batchKey,\"species\"],ncols=2)"
   ]
  },
  {
   "cell_type": "code",
   "execution_count": null,
   "id": "2cafff17-a706-4a05-b052-5cc29206052e",
   "metadata": {
    "tags": []
   },
   "outputs": [],
   "source": [
    "adata"
   ]
  },
  {
   "cell_type": "code",
   "execution_count": null,
   "id": "70eb4ee4-bf95-466c-b865-10b4ad885ecb",
   "metadata": {
    "tags": []
   },
   "outputs": [],
   "source": [
    "mergedAdataFile"
   ]
  },
  {
   "cell_type": "code",
   "execution_count": null,
   "id": "cebeeaef-2f6f-4634-b1e6-bdac41673915",
   "metadata": {
    "tags": []
   },
   "outputs": [],
   "source": [
    "sc.tl.leiden(adata, resolution=0.2, key_added=\"leid\")"
   ]
  },
  {
   "cell_type": "code",
   "execution_count": null,
   "id": "df715260-9ca9-4c1c-84d1-280e4bfa89f9",
   "metadata": {},
   "outputs": [],
   "source": [
    "adata.write(mergedAdataFile)"
   ]
  },
  {
   "cell_type": "code",
   "execution_count": null,
   "id": "af99ada0-7634-46dd-a88d-261de9bba7a4",
   "metadata": {},
   "outputs": [],
   "source": [
    "#adata = sc.read(mergedAdataFile)"
   ]
  },
  {
   "cell_type": "code",
   "execution_count": null,
   "id": "d2c2c9ee-4480-4f8a-ae5e-d1b52b79be30",
   "metadata": {},
   "outputs": [],
   "source": []
  },
  {
   "cell_type": "code",
   "execution_count": null,
   "id": "0e1c71df-640c-4c2d-a851-b303c4cd59b8",
   "metadata": {},
   "outputs": [],
   "source": [
    "dataDicts.keys()"
   ]
  },
  {
   "cell_type": "code",
   "execution_count": null,
   "id": "860350de-f1cf-4bff-a851-9930035cc172",
   "metadata": {},
   "outputs": [],
   "source": [
    "adata = sc.read(dataDicts[\"mou\"][\"adataName\"]+\".h5ad\")\n",
    "sc.pl.umap(adata, color=[\"mouse\",\"decoupler\",\"Ptprc\"])"
   ]
  },
  {
   "cell_type": "code",
   "execution_count": null,
   "id": "e09189dc-ea3e-4108-a2a4-42db077d466c",
   "metadata": {},
   "outputs": [],
   "source": [
    "adata = sc.read(dataDicts[\"hum\"][\"adataName\"]+\".h5ad\")\n",
    "sc.pl.umap(adata, color=[\"samples\",\"celltypes\",\"decoupler\",\"PTPRC\"])"
   ]
  },
  {
   "cell_type": "code",
   "execution_count": null,
   "id": "22254d8f-1b1f-4221-9951-8896567d89f0",
   "metadata": {},
   "outputs": [],
   "source": [
    "adata = sc.read(dataDicts[\"met\"][\"adataName\"]+\".h5ad\")\n",
    "sc.pl.umap(adata, color=[\"donor_ID\",\"decoupler\",\"PTPRC\"])"
   ]
  },
  {
   "cell_type": "code",
   "execution_count": null,
   "id": "acf536e5-dcb2-41db-b982-72675d32813c",
   "metadata": {},
   "outputs": [],
   "source": [
    "adata = sc.read(dataDicts[\"org\"][\"adataName\"]+\".h5ad\")\n",
    "sc.pl.umap(adata, color=[\"donor_ID\",\"decoupler\",\"PTPRC\"])"
   ]
  },
  {
   "cell_type": "code",
   "execution_count": null,
   "id": "40a5f9df-97b7-4331-9884-b27ff8141197",
   "metadata": {},
   "outputs": [],
   "source": [
    "adata = sc.read(dataDicts['hwa'][\"adataName\"]+\".h5ad\")\n",
    "sc.pl.umap(adata, color=[\"sample\",\"decoupler\",\"PTPRC\"])"
   ]
  },
  {
   "cell_type": "code",
   "execution_count": null,
   "id": "85d9b2a0-4ce7-410b-a9ae-a7e8a4bfa880",
   "metadata": {},
   "outputs": [],
   "source": [
    "adata = sc.read(dataDicts['lin'][\"adataName\"]+\".h5ad\")\n",
    "sc.pl.umap(adata, color=[\"sample\",\"decoupler\",\"PTPRC\"])"
   ]
  },
  {
   "cell_type": "code",
   "execution_count": null,
   "id": "ad9ff7fb-6488-4fc3-b3d0-1c8809213eaf",
   "metadata": {},
   "outputs": [],
   "source": []
  }
 ],
 "metadata": {
  "kernelspec": {
   "display_name": "Python 3 (ipykernel)",
   "language": "python",
   "name": "python3"
  },
  "language_info": {
   "codemirror_mode": {
    "name": "ipython",
    "version": 3
   },
   "file_extension": ".py",
   "mimetype": "text/x-python",
   "name": "python",
   "nbconvert_exporter": "python",
   "pygments_lexer": "ipython3",
   "version": "3.8.16"
  }
 },
 "nbformat": 4,
 "nbformat_minor": 5
}
