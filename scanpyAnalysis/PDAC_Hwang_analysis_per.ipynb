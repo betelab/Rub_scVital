{
 "cells": [
  {
   "cell_type": "code",
   "execution_count": null,
   "id": "425c36fc-f0af-4c76-93d7-cf512d943577",
   "metadata": {
    "tags": []
   },
   "outputs": [],
   "source": [
    "# Hwnag per patient KRAS investigation"
   ]
  },
  {
   "cell_type": "code",
   "execution_count": null,
   "id": "252d89ce-66b2-430f-abb7-5c91d66b7d3f",
   "metadata": {},
   "outputs": [],
   "source": [
    "import numpy as np\n",
    "import pandas as pd\n",
    "import scanpy as sc\n",
    "import scipy.io\n",
    "import scanpy.external as scex\n",
    "import sklearn.metrics\n",
    "import seaborn as sns\n",
    "from matplotlib import pyplot as plt\n",
    "import scanpyHelpers as scH\n",
    "\n",
    "import decoupler as dc"
   ]
  },
  {
   "cell_type": "code",
   "execution_count": null,
   "id": "645d8750-2a93-49ed-9a60-40d01fa7eb0e",
   "metadata": {},
   "outputs": [],
   "source": [
    "#adata=sc.read(results_file_post)\n",
    "#adata.uns['log1p'] = {\"base\":None}"
   ]
  },
  {
   "cell_type": "code",
   "execution_count": null,
   "id": "304826fc-ac59-4d76-a655-1f93f7bcdd6e",
   "metadata": {
    "scrolled": true,
    "tags": []
   },
   "outputs": [],
   "source": [
    "sc.settings.verbosity = 0             # verbosity: errors (0), warnings (1), info (2), hints (3)\n",
    "sc.logging.print_header()\n",
    "sc.settings.set_figure_params(dpi=80, facecolor='white')"
   ]
  },
  {
   "cell_type": "code",
   "execution_count": null,
   "id": "a3958527-8b39-4c29-9163-eee788c190cf",
   "metadata": {},
   "outputs": [],
   "source": [
    "%matplotlib inline"
   ]
  },
  {
   "cell_type": "code",
   "execution_count": null,
   "id": "c4675a44-ce4a-4f38-b04a-66c4fc2e0bb4",
   "metadata": {},
   "outputs": [],
   "source": [
    "writeDir = \"write/\"\n",
    "\n",
    "fileName = \"pdacHwang\"\n",
    "\n",
    "resultsFileQC = writeDir + fileName + '_QC.h5ad'  # post QC (pre-analysis) "
   ]
  },
  {
   "cell_type": "code",
   "execution_count": null,
   "id": "12931800-be2f-4ec5-ae70-ce938498b203",
   "metadata": {},
   "outputs": [],
   "source": [
    "sigGenes = pd.read_csv(\"data/PDAC/basClaSigGenes.csv\")\n",
    "sigGenes = sigGenes[[\"scBasal\",\"scClassical\"]]\n",
    "\n",
    "classLabDict = dict(zip(sigGenes.columns,[\"basal\",\"classical\"]))\n",
    "markers = pd.DataFrame(np.empty((200*12,2), dtype=\"object\"), columns=[\"genes\", \"clustName\"])\n",
    "for i,clust in enumerate(sigGenes.columns):\n",
    "    for j,gene in enumerate(sigGenes.index):\n",
    "        gene = sigGenes.loc[gene,clust]\n",
    "        #indexOver = np.where(humanGenes == gene)[0]\n",
    "        #if indexOver.size > 0:\n",
    "        #    gene = mouseGenes[indexOver[0]]\n",
    "        markers.iloc[i*200+j] = gene,classLabDict[clust]\n",
    "        \n",
    "markers = markers.dropna()\n",
    "markers = markers.drop_duplicates()\n",
    "markers\n",
    "\n",
    "markKRAS = ['DUSP6',  'ETV1', 'ETV5', 'CCND1', 'SPRY2']\n",
    "\n",
    "homology = pd.read_table(\"data/hgncHM_121.csv\", sep=\",\")\n",
    "homology"
   ]
  },
  {
   "cell_type": "code",
   "execution_count": null,
   "id": "e50cffba-ab13-40fe-b978-c525fb1db4a5",
   "metadata": {
    "tags": []
   },
   "outputs": [],
   "source": [
    "sc.set_figure_params(scanpy=True, dpi=100, dpi_save=150, fontsize=10, format='png')\n",
    "sc.settings.figdir = \"figures/\" + fileName + \"/\"\n",
    "figName = fileName"
   ]
  },
  {
   "cell_type": "code",
   "execution_count": null,
   "id": "83f3aa4e-f800-488a-b41e-0443986c9415",
   "metadata": {
    "tags": []
   },
   "outputs": [],
   "source": [
    "adata = sc.read(resultsFileQC)\n",
    "adata"
   ]
  },
  {
   "cell_type": "code",
   "execution_count": null,
   "id": "65af5f3b-067c-4b91-9858-bb5e91cf156f",
   "metadata": {},
   "outputs": [],
   "source": [
    "resultsFileQC"
   ]
  },
  {
   "cell_type": "code",
   "execution_count": null,
   "id": "0d9667a1-8bf4-4749-8a52-cee2f7da394c",
   "metadata": {},
   "outputs": [],
   "source": [
    "adata.obs"
   ]
  },
  {
   "cell_type": "code",
   "execution_count": null,
   "id": "f19a06a8-972f-47c4-a894-49967cab6f9d",
   "metadata": {},
   "outputs": [],
   "source": [
    "adata.obs[\"treated\"] = [x[0] for x in adata.obs[\"sample\"]]"
   ]
  },
  {
   "cell_type": "code",
   "execution_count": null,
   "id": "fd519604-142b-4ef7-b3a4-778e523450a5",
   "metadata": {},
   "outputs": [],
   "source": [
    "adata = adata[adata.obs.cell_type==\"Malignant\"]\n",
    "adata = adata[adata.obs.treated==\"U\"]\n",
    "\n",
    "adata"
   ]
  },
  {
   "cell_type": "code",
   "execution_count": null,
   "id": "cbcb04f6-4534-41ad-8bbf-84134b75cf7b",
   "metadata": {},
   "outputs": [],
   "source": [
    "from collections import Counter\n",
    "Counter(adata.obs[\"sample\"])"
   ]
  },
  {
   "cell_type": "code",
   "execution_count": null,
   "id": "e1b2a285-c157-4f6b-ac51-17d837a25e45",
   "metadata": {},
   "outputs": [],
   "source": [
    "listPatients = adata.obs[\"sample\"].cat.categories.values"
   ]
  },
  {
   "cell_type": "code",
   "execution_count": null,
   "id": "3c928b34-5143-4b47-abdc-7f3354c501d1",
   "metadata": {},
   "outputs": [],
   "source": [
    "adataAll = adata.copy()"
   ]
  },
  {
   "cell_type": "code",
   "execution_count": null,
   "id": "8eb1ebdb-cc4f-47ee-9ee6-021a7ff46d0b",
   "metadata": {},
   "outputs": [],
   "source": [
    "adataAll"
   ]
  },
  {
   "cell_type": "code",
   "execution_count": null,
   "id": "e053807c-f470-40a0-b96f-4ffe84ea6dc6",
   "metadata": {},
   "outputs": [],
   "source": [
    "allPatients = []\n",
    "allPatCellstate = []\n",
    "allPatKRASscores = []\n",
    "\n",
    "for patient in listPatients:    \n",
    "    print(patient)\n",
    "    adata = adataAll[adataAll.obs[\"sample\"]==patient]\n",
    "    resultsFile = writeDir  + fileName + \"_\" +patient+'.h5ad'       # final output\n",
    "    \n",
    "    sc.pp.normalize_total(adata,target_sum=1e4)\n",
    "    sc.pp.log1p(adata)\n",
    "    sc.pp.highly_variable_genes(adata, flavor = \"seurat\", n_top_genes=2000)\n",
    "    adata.raw = adata\n",
    "    adata = adata[:, np.logical_and(adata.var.highly_variable, np.logical_not(adata.var.mt))]\n",
    "    sc.tl.pca(adata, n_comps = 100, svd_solver='arpack')\n",
    "    sc.pp.neighbors(adata, n_neighbors=20, n_pcs=40)\n",
    "    sc.tl.umap(adata)\n",
    "    sc.tl.leiden(adata, resolution=0.4)\n",
    "    scoreNames, newBClabel, ogLabelScoreMed = scH.scoreAndLabel(adata, sigGenes, labelOfSigGenes= [\"basal\",\"classical\"], ogLabel=\"leiden\")\n",
    "    \n",
    "    #dc.run_ora(mat=adata,net=markers,source='clustName',target='genes',min_n=3, verbose=True)\n",
    "    #acts = dc.get_acts(adata, obsm_key='ora_estimate')\n",
    "    # We need to remove inf and set them to the maximum value observed for pvals=0\n",
    "    #acts_v = acts.X.ravel()\n",
    "    #max_e = np.nanmax(acts_v[np.isfinite(acts_v)])\n",
    "    #acts.X[~np.isfinite(acts.X)] = max_e\n",
    "    #df = dc.rank_sources_groups(acts, groupby='leiden', reference='rest', method='t-test_overestim_var')\n",
    "    #annotation_dict = df.groupby('group').head(1).set_index('group')['names'].to_dict()\n",
    "    #adata.obs['decoupler'] = [annotation_dict[clust] for clust in adata.obs['leiden']]\n",
    "\n",
    "    gmmClass = scH.gmmScoreGeneSig(adata.obs[scoreNames],show=False)\n",
    "    adata.obs[\"gmmClass\"] = gmmClass\n",
    "    \n",
    "    clasBasPCs = scH.findDiffPCs(adata, label1=\"scClassicalScore\", label2=\"scBasalScore\", lenPCs=20, show=False)\n",
    "    \n",
    "    sc.pl.pca(adata, color=['gmmClass', 'leiden', 'scBasalScore', \"scClassicalScore\"], cmap=\"bwr\", dimensions=clasBasPCs[:2])\n",
    "    #sc.pl.umap(acts, color=scoreNames+['leiden','decoupler'], cmap='bwr')\n",
    "    \n",
    "    sc.tl.score_genes(adata, markKRAS, score_name=\"KRASscore\")\n",
    "    #sc.pl.MatrixPlot(adata, markKRAS, groupby=\"gmmClass\",standard_scale=\"var\").show()\n",
    "    sc.pl.matrixplot(adata, markKRAS, groupby=\"gmmClass\")\n",
    "    \n",
    "    plt.rcParams[\"axes.grid\"] = False\n",
    "    \n",
    "    krasMarkGex = np.asarray(adata.raw.to_adata()[:,markKRAS].X.todense()).T\n",
    "    krasMarkGex = krasMarkGex[:,np.argsort(adata.obsm[\"X_pca\"][:,clasBasPCs[0]])]\n",
    "\n",
    "    \n",
    "    sc.tl.rank_genes_groups(adata, 'gmmClass', method='wilcoxon', use_raw=True,key_added='gmmClass')\n",
    "    sc.pl.rank_genes_groups_matrixplot(adata, key = 'gmmClass', var_names=markKRAS, \n",
    "                                       values_to_plot=\"scores\", cmap='bwr', colorbar_title='z-scores', dendrogram = False)\n",
    "\n",
    "    fig, ax = plt.subplots(1,1)\n",
    "    sns.heatmap(krasMarkGex, yticklabels=markKRAS ,cmap=\"viridis\",xticklabels=[], ax=ax)   \n",
    "    ax.set_xlabel(f\"  ----PC{clasBasPCs[0]+1}--->  \")\n",
    "    ax.set_ylabel(patient)\n",
    "    plt.show()\n",
    "\n",
    "    #sc.tl.rank_genes_groups(adata, \"gmmClass\")\n",
    "    #sc.pl.rank_genes_groups_violin(adata, groups=\"scBasal\",gene_names=markKRAS)#, strip=False)\n",
    "\n",
    "    sc.pl.violin(adata, keys=\"KRASscore\", groupby=\"gmmClass\", inner = \"box\", stripplot=False)\n",
    "    \n",
    "    allGene = []\n",
    "    allCellState = []\n",
    "    allValue = []\n",
    "    adataR = adata.raw.to_adata()\n",
    "    adataR = adataR[np.logical_not(adataR.obs[\"gmmClass\"]==\"Negative\"),:]\n",
    "    for kGene in markKRAS:\n",
    "        if(sum(adataR.var_names==kGene)):\n",
    "            geneExp = np.asarray(adataR[:,adataR.var_names==kGene].X.todense()).flatten()\n",
    "            label = adataR.obs[\"gmmClass\"][geneExp>0]\n",
    "            geneExpPos = geneExp[geneExp>0]\n",
    "    \n",
    "            allGene = allGene+[kGene]*len(geneExpPos)\n",
    "            allCellState = allCellState+list(label.values)\n",
    "            allValue = allValue+list(geneExpPos)\n",
    "    krasExp = pd.DataFrame([allGene,allCellState,allValue], index=[\"Gene\",\"CellState\",\"Value\"]).T\n",
    "    fig, ax = plt.subplots(figsize=(6, 4))\n",
    "    sns.violinplot(krasExp, x=\"Gene\", hue=\"CellState\", y=\"Value\", gap=.2, split=True, ax=ax)\n",
    "    ax.set_title(\"KRAS Signature Genes\")\n",
    "    ax.legend(loc=\"center\",bbox_to_anchor=(1.1, 0.5))\n",
    "    plt.show()\n",
    "\n",
    "\n",
    "    allPatients = allPatients+[patient]*len(adataR.obs[\"gmmClass\"].values)\n",
    "    allPatCellstate = allPatCellstate+list(adataR.obs[\"gmmClass\"].values)\n",
    "    allPatKRASscores = allPatKRASscores+list(adataR.obs[\"KRASscore\"].values)\n",
    "\n",
    "    adata.write(f'write/pdacHwang_{patient}.h5ad')\n",
    "    \n",
    "krasScoreExp = pd.DataFrame([allPatients, allPatCellstate, allPatKRASscores], index=[\"Patient\",\"CellState\",\"Value\"]).T\n",
    "fig, ax = plt.subplots(figsize=(10, 4))\n",
    "sns.violinplot(krasScoreExp, x=\"Patient\", hue=\"CellState\", y=\"Value\", gap=.2, split=True, ax=ax)\n",
    "ax.set_title(\"KRAS Signature Genes\")\n",
    "ax.legend(loc=\"center\",bbox_to_anchor=(1.1, 0.5))\n",
    "plt.show()"
   ]
  },
  {
   "cell_type": "code",
   "execution_count": null,
   "id": "b4cf028c-becb-440d-9187-0504b15b0bc5",
   "metadata": {},
   "outputs": [],
   "source": [
    "Counter(allPatients)"
   ]
  },
  {
   "cell_type": "code",
   "execution_count": null,
   "id": "63691fcc-74f1-4e13-a6d0-fdb8f98616be",
   "metadata": {},
   "outputs": [],
   "source": []
  },
  {
   "cell_type": "code",
   "execution_count": null,
   "id": "688d46d6-a98a-4bd2-b74c-9e121bb9b4e3",
   "metadata": {},
   "outputs": [],
   "source": [
    "sc.pl.violin(adata[np.logical_not(adata.obs[\"gmmClass\"]==\"Negative\"),:], keys=\"KRASscore\", groupby=\"gmmClass\", inner = \"box\", stripplot=False)"
   ]
  },
  {
   "cell_type": "code",
   "execution_count": null,
   "id": "8485f0d0-1efb-47a8-896d-c3dfe2942194",
   "metadata": {},
   "outputs": [],
   "source": [
    "krasScoreExp = pd.DataFrame([allPatients, allPatCellstate, allPatKRASscores], index=[\"Patient\",\"CellState\",\"Value\"]).T\n",
    "fig, ax = plt.subplots(figsize=(20, 10))\n",
    "sns.violinplot(krasScoreExp, x=\"Patient\", hue=\"CellState\", y=\"Value\", inner=\"box\", gap=.2, split=True, ax=ax)\n",
    "ax.set_title(\"KRAS Signature Genes\")\n",
    "ax.legend(loc=\"center\",bbox_to_anchor=(1.1, 0.5))\n",
    "plt.show()"
   ]
  },
  {
   "cell_type": "code",
   "execution_count": null,
   "id": "bab8982e-f230-4dd1-a8f0-82bab1ba3a6e",
   "metadata": {},
   "outputs": [],
   "source": [
    "len(ccnd1ExpPos)"
   ]
  },
  {
   "cell_type": "code",
   "execution_count": null,
   "id": "aaf44d77-b7f2-4674-a895-32fe1214931e",
   "metadata": {},
   "outputs": [],
   "source": [
    "allGene = []\n",
    "allCellState = []\n",
    "allValue = []\n",
    "adataR = adata.raw.to_adata()\n",
    "for kGene in markKRAS:\n",
    "    if(sum(adataR.var_names==kGene)):\n",
    "        geneExp = np.asarray(adataR[np.logical_not(adataR.obs[\"gmmClass\"]==\"Negative\"),adataR.var_names==kGene].X.todense()).flatten()\n",
    "        label = adataR[np.logical_not(adataR.obs[\"gmmClass\"]==\"Negative\"),:].obs[\"gmmClass\"][geneExp>0]\n",
    "        geneExpPos = geneExp[geneExp>0]\n",
    "\n",
    "        allGene = allGene+[kGene]*len(geneExpPos)\n",
    "        allCellState = allCellState+list(label.values)\n",
    "        allValue = allValue+list(geneExpPos)\n",
    "\n",
    "krasExp = pd.DataFrame([allGene,allCellState,allValue], index=[\"Gene\",\"CellState\",\"Value\"]).T\n",
    "\n",
    "fig, ax = plt.subplots()\n",
    "sns.violinplot(krasExp, x=\"Gene\", hue=\"CellState\", y=\"Value\", gap=.2, split=True, ax=ax)\n",
    "ax.set_title(\"KRAS Signature Genes\")\n",
    "ax.legend(loc=\"center\",bbox_to_anchor=(1.1, 0.5))\n",
    "plt.show()"
   ]
  },
  {
   "cell_type": "code",
   "execution_count": null,
   "id": "8c243702-6e26-4636-8847-66c2393be61e",
   "metadata": {},
   "outputs": [],
   "source": [
    "adata = adata[np.logical_not(adata.obs[\"gmmClass\"]==\"Negative\"),:]\n",
    "krasExp = pd.DataFrame([[\"Px\"]*len(adata.obs[\"KRASscore\"]),adata.obs[\"gmmClass\"],adata.obs[\"KRASscore\"]], index=[\"Patient\",\"CellState\",\"Value\"]).T"
   ]
  },
  {
   "cell_type": "code",
   "execution_count": null,
   "id": "a402ccb5-ca4f-4d63-b656-d68ca9c1bf69",
   "metadata": {},
   "outputs": [],
   "source": [
    "fig, ax = plt.subplots()\n",
    "sns.violinplot(krasExp, x=\"Patient\", hue=\"CellState\", y=\"Value\", gap=.2, split=True, ax=ax)\n",
    "ax.set_title(\"KRAS Signature Genes\")\n",
    "ax.legend(loc=\"center\",bbox_to_anchor=(1.1, 0.5))\n",
    "plt.show()"
   ]
  },
  {
   "cell_type": "code",
   "execution_count": null,
   "id": "5f543f86-f71a-46ea-90f2-52052dfe6c7d",
   "metadata": {},
   "outputs": [],
   "source": [
    "[\"CCND1\"]*2+[\"adsf\"]*8"
   ]
  },
  {
   "cell_type": "code",
   "execution_count": null,
   "id": "74073266-f087-4ce3-84fb-2a9920c8e7a6",
   "metadata": {},
   "outputs": [],
   "source": []
  },
  {
   "cell_type": "code",
   "execution_count": null,
   "id": "378e2957-f0fb-4daa-98dc-76872c560afe",
   "metadata": {},
   "outputs": [],
   "source": []
  },
  {
   "cell_type": "code",
   "execution_count": null,
   "id": "d01530e1-6133-4113-aad5-c5d768aba82a",
   "metadata": {
    "scrolled": true
   },
   "outputs": [],
   "source": [
    "for patient in listPatients:    \n",
    "    print(patient)\n",
    "    adata = adataAll[adataAll.obs[\"sample\"]==patient]\n",
    "    resultsFile = writeDir + fileName + \"_\" +patient+'.h5ad'       # final output\n",
    "    \n",
    "    sc.pp.normalize_total(adata,target_sum=1e4)\n",
    "    sc.pp.log1p(adata)\n",
    "    sc.pp.highly_variable_genes(adata, flavor = \"seurat\", n_top_genes=2000)\n",
    "    adata.raw = adata\n",
    "    adata = adata[:, np.logical_and(adata.var.highly_variable, np.logical_not(adata.var.mt))]\n",
    "    sc.tl.pca(adata, n_comps = 100, svd_solver='arpack')\n",
    "    sc.pp.neighbors(adata, n_neighbors=20, n_pcs=40)\n",
    "    sc.tl.umap(adata)\n",
    "    sc.tl.leiden(adata, resolution=0.4)\n",
    "    scoreNames, newBClabel, ogLabelScoreMed = scH.scoreAndLabel(adata, sigGenes, labelOfSigGenes= [\"basal\",\"classical\"], ogLabel=\"leiden\")\n",
    "    \n",
    "    #dc.run_ora(mat=adata,net=markers,source='clustName',target='genes',min_n=3, verbose=True)\n",
    "    #acts = dc.get_acts(adata, obsm_key='ora_estimate')\n",
    "    # We need to remove inf and set them to the maximum value observed for pvals=0\n",
    "    #acts_v = acts.X.ravel()\n",
    "    #max_e = np.nanmax(acts_v[np.isfinite(acts_v)])\n",
    "    #acts.X[~np.isfinite(acts.X)] = max_e\n",
    "    #df = dc.rank_sources_groups(acts, groupby='leiden', reference='rest', method='t-test_overestim_var')\n",
    "    #annotation_dict = df.groupby('group').head(1).set_index('group')['names'].to_dict()\n",
    "    #adata.obs['decoupler'] = [annotation_dict[clust] for clust in adata.obs['leiden']]\n",
    "\n",
    "    gmmClass = gmmScoreGeneSig(adata.obs[scoreNames],show=False)\n",
    "    adata.obs[\"gmmClass\"] = gmmClass\n",
    "    \n",
    "    clasBasPCs = scH.findDiffPCs(adata, label1=\"scClassicalScore\", label2=\"scBasalScore\", lenPCs=20, show=True)\n",
    "    \n",
    "    sc.pl.pca(adata, color=['gmmClass', 'leiden', 'scBasalScore', \"scClassicalScore\"], cmap=\"bwr\", dimensions=clasBasPCs[:2])\n",
    "    #sc.pl.umap(acts, color=scoreNames+['leiden','decoupler'], cmap='bwr')\n",
    "    \n",
    "    sc.tl.score_genes(adata, markKRAS, score_name=\"KRASscore\")\n",
    "    sc.pl.MatrixPlot(adata, markKRAS, groupby=\"decoupler\",standard_scale=\"var\").show()\n",
    "    sc.pl.MatrixPlot(adata, markKRAS, groupby=\"decoupler\").show()\n",
    "    \n",
    "    plt.rcParams[\"axes.grid\"] = False\n",
    "    \n",
    "    krasMarkGex = np.asarray(adata.raw.to_adata()[:,markKRAS].X.todense()).T\n",
    "    krasMarkGex = krasMarkGex[:,np.argsort(adata.obsm[\"X_pca\"][:,clasBasPCs[0]])]\n",
    "    fig, ax = plt.subplots(1,1)\n",
    "    \n",
    "    sns.heatmap(krasMarkGex, yticklabels=markKRAS ,cmap=\"viridis\",xticklabels=[], ax=ax)   \n",
    "    ax.set_xlabel(f\"(classical)  ----PC{clasBasPCs[0]}--->  (basal)\")\n",
    "    ax.set_ylabel(patient)\n",
    "    \n",
    "    plt.show()\n",
    "    \n",
    "    sc.tl.rank_genes_groups(adata, 'gmmClass', method='wilcoxon', use_raw=True,key_added='gmmClass')\n",
    "    sc.pl.rank_genes_groups_matrixplot(adata, key = 'gmmClass', var_names=markKRAS, \n",
    "                                       values_to_plot=\"scores\", cmap='bwr', colorbar_title='z-scores', dendrogram = False)"
   ]
  },
  {
   "cell_type": "code",
   "execution_count": null,
   "id": "695ddb4b-c505-475d-a4bc-ac5813a9df78",
   "metadata": {},
   "outputs": [],
   "source": []
  },
  {
   "cell_type": "code",
   "execution_count": null,
   "id": "59e6e14f-39d6-4290-8a74-e8b4e39faa55",
   "metadata": {},
   "outputs": [],
   "source": []
  }
 ],
 "metadata": {
  "kernelspec": {
   "display_name": "Python 3 (ipykernel)",
   "language": "python",
   "name": "python3"
  },
  "language_info": {
   "codemirror_mode": {
    "name": "ipython",
    "version": 3
   },
   "file_extension": ".py",
   "mimetype": "text/x-python",
   "name": "python",
   "nbconvert_exporter": "python",
   "pygments_lexer": "ipython3",
   "version": "3.8.16"
  }
 },
 "nbformat": 4,
 "nbformat_minor": 5
}
