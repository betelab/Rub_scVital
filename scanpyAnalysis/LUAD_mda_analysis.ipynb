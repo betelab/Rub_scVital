{
 "cells": [
  {
   "cell_type": "code",
   "execution_count": null,
   "id": "425c36fc-f0af-4c76-93d7-cf512d943577",
   "metadata": {},
   "outputs": [],
   "source": []
  },
  {
   "cell_type": "code",
   "execution_count": null,
   "id": "252d89ce-66b2-430f-abb7-5c91d66b7d3f",
   "metadata": {},
   "outputs": [],
   "source": [
    "import numpy as np\n",
    "import pandas as pd\n",
    "import scanpy as sc\n",
    "import scipy.io\n",
    "import scanpy.external as scex\n",
    "import sklearn.metrics\n",
    "import seaborn as sns\n",
    "from matplotlib import pyplot as plt\n",
    "\n",
    "import scanpyHelpers as scH"
   ]
  },
  {
   "cell_type": "code",
   "execution_count": null,
   "id": "645d8750-2a93-49ed-9a60-40d01fa7eb0e",
   "metadata": {},
   "outputs": [],
   "source": [
    "#adata=sc.read(results_file_post)\n",
    "#adata.uns['log1p'] = {\"base\":None}"
   ]
  },
  {
   "cell_type": "markdown",
   "id": "139dcda2-4b50-45aa-85e8-663e70a74cb6",
   "metadata": {},
   "source": [
    "Set up out properties"
   ]
  },
  {
   "cell_type": "code",
   "execution_count": null,
   "id": "304826fc-ac59-4d76-a655-1f93f7bcdd6e",
   "metadata": {
    "scrolled": true,
    "tags": []
   },
   "outputs": [],
   "source": [
    "sc.settings.verbosity = 3             # verbosity: errors (0), warnings (1), info (2), hints (3)\n",
    "sc.logging.print_header()\n",
    "sc.settings.set_figure_params(dpi=80, facecolor='white')"
   ]
  },
  {
   "cell_type": "code",
   "execution_count": null,
   "id": "a3958527-8b39-4c29-9163-eee788c190cf",
   "metadata": {},
   "outputs": [],
   "source": [
    "%matplotlib inline"
   ]
  },
  {
   "cell_type": "markdown",
   "id": "968566a5-e27e-43f5-8cb2-b935b5a12dd7",
   "metadata": {},
   "source": [
    "Set scanpy out-files"
   ]
  },
  {
   "cell_type": "code",
   "execution_count": null,
   "id": "c4675a44-ce4a-4f38-b04a-66c4fc2e0bb4",
   "metadata": {},
   "outputs": [],
   "source": [
    "writeDir = \"write/\"\n",
    "\n",
    "fileName = \"luadMDA\"\n",
    "\n",
    "resultsFile = writeDir + fileName + '.h5ad'       # final output\n",
    "resultsFileQC = writeDir + fileName + '_QC.h5ad'  # post QC (pre-analysis) "
   ]
  },
  {
   "cell_type": "markdown",
   "id": "77696e51-c2b5-4a05-964f-d52840995ce1",
   "metadata": {
    "tags": []
   },
   "source": [
    "Set figure parameters"
   ]
  },
  {
   "cell_type": "code",
   "execution_count": null,
   "id": "e50cffba-ab13-40fe-b978-c525fb1db4a5",
   "metadata": {
    "tags": []
   },
   "outputs": [],
   "source": [
    "sc.set_figure_params(scanpy=True, dpi=100, dpi_save=150, fontsize=10, format='png')\n",
    "sc.settings.figdir = \"figures/\" + fileName + \"/\"\n",
    "figName = fileName"
   ]
  },
  {
   "cell_type": "code",
   "execution_count": null,
   "id": "1868a2d0-7499-4213-ac3c-c053eb6999cc",
   "metadata": {},
   "outputs": [],
   "source": [
    "resultsFileQC"
   ]
  },
  {
   "cell_type": "code",
   "execution_count": null,
   "id": "83f3aa4e-f800-488a-b41e-0443986c9415",
   "metadata": {
    "tags": []
   },
   "outputs": [],
   "source": [
    "adata = sc.read(resultsFileQC)\n",
    "adata"
   ]
  },
  {
   "cell_type": "code",
   "execution_count": null,
   "id": "c41180dc-73e6-4deb-afd6-92262521e640",
   "metadata": {},
   "outputs": [],
   "source": [
    "adata.obs[\"patient\"]=[name.split(\"_\")[0].split(\"-\")[0] for name in adata.obs_names.values]"
   ]
  },
  {
   "cell_type": "code",
   "execution_count": null,
   "id": "764f70e6-86a3-4e37-bfaa-12471e52233e",
   "metadata": {},
   "outputs": [],
   "source": [
    "kras = [\"P14T\",\"P2\"]#\"P10T\",\n",
    "adata = adata[[p in kras for p in adata.obs.patient],]\n",
    "adata = adata[adata.obs.celltype==\"malig\"]\n",
    "#adata.write('write/luadMDAkras_QC.h5ad')"
   ]
  },
  {
   "cell_type": "code",
   "execution_count": null,
   "id": "508574a1-6b16-45d9-996f-352e4fe84bdb",
   "metadata": {},
   "outputs": [],
   "source": [
    "adata"
   ]
  },
  {
   "cell_type": "code",
   "execution_count": null,
   "id": "6776e862-91cf-4131-9e4a-8d8cd70e4871",
   "metadata": {},
   "outputs": [],
   "source": [
    "#kras = [\"P14T\",\"P2\"]#\"P10T\",\n",
    "#kdata = adata[adata.obs.patient==\"P14T\"]\n",
    "#kdata.write('write/luadMDAkrasP14T_QC.h5ad')"
   ]
  },
  {
   "cell_type": "code",
   "execution_count": null,
   "id": "d01530e1-6133-4113-aad5-c5d768aba82a",
   "metadata": {},
   "outputs": [],
   "source": [
    "sc.pp.normalize_total(adata,target_sum=1e4)"
   ]
  },
  {
   "cell_type": "code",
   "execution_count": null,
   "id": "7c826e38-bb29-4e00-933a-55b59581a5d9",
   "metadata": {},
   "outputs": [],
   "source": [
    "sc.pp.log1p(adata)"
   ]
  },
  {
   "cell_type": "code",
   "execution_count": null,
   "id": "81fe9223-7eac-46a7-8321-b718e726830a",
   "metadata": {},
   "outputs": [],
   "source": [
    "sc.pp.highly_variable_genes(adata)#, flavor = \"seurat\", n_top_genes=2000)"
   ]
  },
  {
   "cell_type": "code",
   "execution_count": null,
   "id": "43902dc2-466e-46e2-9f31-4deb304db630",
   "metadata": {},
   "outputs": [],
   "source": [
    "minMean = 0.025\n",
    "maxMean = 3\n",
    "minDisp = 0.4\n",
    "\n",
    "fig, axs = plt.subplots(1, 2, figsize=(10, 5))\n",
    "\n",
    "means = adata.var[[\"means\"]][adata.var[[\"means\"]] > np.exp(-14)]#adata.var[[\"means\"]],\n",
    "axs[0].hist(np.log(means), bins=100)#, log=True),\n",
    "axs[0].axvline(np.log(minMean), color='k', linestyle='dashed', linewidth=1)\n",
    "axs[0].axvline(np.log(maxMean), color='k', linestyle='dashed', linewidth=1)\n",
    "axs[0].set_title('Gene means counts')\n",
    "axs[0].set_xlabel('means')\n",
    "axs[0].set_ylabel('counts')\n",
    "\n",
    "dispNorm = adata.var[[\"dispersions_norm\"]][adata.var[[\"dispersions_norm\"]] > np.exp(-5)]#adata.var[[\"means\"]],\n",
    "axs[1].hist(np.log(dispNorm), bins=100)#, log=True),\n",
    "axs[1].axvline(np.log(minDisp), color='k', linestyle='dashed', linewidth=1)\n",
    "axs[1].set_title('Gene dispersions counts')\n",
    "axs[1].set_xlabel('dispersions')\n",
    "axs[1].set_ylabel('counts')\n",
    "\n",
    "sc.pp.highly_variable_genes(adata, min_disp=minDisp, min_mean=minMean, max_mean=maxMean)\n",
    "print(sum(adata.var.highly_variable))"
   ]
  },
  {
   "cell_type": "code",
   "execution_count": null,
   "id": "8cda0b69-f64e-447a-961a-7c50fe8e5bf0",
   "metadata": {},
   "outputs": [],
   "source": [
    "sc.pl.highly_variable_genes(adata)"
   ]
  },
  {
   "cell_type": "code",
   "execution_count": null,
   "id": "325e82de-43f6-4934-a6a6-50ddf02a94a8",
   "metadata": {},
   "outputs": [],
   "source": [
    "#for inGene in adata.var[-8:].index.tolist():\n",
    "#    adata.var.loc[inGene,\"highly_variable\"] = False"
   ]
  },
  {
   "cell_type": "code",
   "execution_count": null,
   "id": "7a1143eb-b1f7-40ef-9a85-d6be0051667a",
   "metadata": {},
   "outputs": [],
   "source": [
    "adata.raw = adata"
   ]
  },
  {
   "cell_type": "code",
   "execution_count": null,
   "id": "5e2861e5-09c6-4a19-bb72-62a238c47a79",
   "metadata": {},
   "outputs": [],
   "source": [
    "#adata = adata[:, adata.var.highly_variable]\n",
    "adata = adata[:, np.logical_and(adata.var.highly_variable, np.logical_not(adata.var.mt))]"
   ]
  },
  {
   "cell_type": "code",
   "execution_count": null,
   "id": "673c60dc-7028-48e2-9ccf-9b5ae45934d1",
   "metadata": {},
   "outputs": [],
   "source": [
    "#sc.pp.regress_out(adata, ['total_counts', 'pct_counts_mt'])"
   ]
  },
  {
   "cell_type": "code",
   "execution_count": null,
   "id": "5440f444-9bf6-40bf-8267-3ff16acfab39",
   "metadata": {},
   "outputs": [],
   "source": [
    "#sc.pp.scale(adata, max_value=10)"
   ]
  },
  {
   "cell_type": "code",
   "execution_count": null,
   "id": "8935337f-dc02-4347-9bf1-6057d1c1a8e7",
   "metadata": {},
   "outputs": [],
   "source": [
    "sc.tl.pca(adata, n_comps = 100, svd_solver='arpack')"
   ]
  },
  {
   "cell_type": "code",
   "execution_count": null,
   "id": "ffcfea62-8864-4bdc-8d44-2c5bd56b7f42",
   "metadata": {},
   "outputs": [],
   "source": [
    "sc.pl.pca_variance_ratio(adata, n_pcs = 100, log=True)"
   ]
  },
  {
   "cell_type": "code",
   "execution_count": null,
   "id": "f694d1da-e616-48ba-8c66-c97008df6acc",
   "metadata": {},
   "outputs": [],
   "source": [
    "sc.pl.pca_variance_ratio(adata, n_pcs = 100)"
   ]
  },
  {
   "cell_type": "code",
   "execution_count": null,
   "id": "873dbc0c-4046-493f-bc92-32dd4e63c263",
   "metadata": {},
   "outputs": [],
   "source": [
    "sc.pp.neighbors(adata, n_neighbors=20, n_pcs=40)"
   ]
  },
  {
   "cell_type": "code",
   "execution_count": null,
   "id": "a56f3796-396c-4698-93d1-49cf6042e4ae",
   "metadata": {},
   "outputs": [],
   "source": [
    "sc.tl.umap(adata)"
   ]
  },
  {
   "cell_type": "code",
   "execution_count": null,
   "id": "5d9e7992-bf40-45f4-9b17-f1346e8d90b9",
   "metadata": {},
   "outputs": [],
   "source": [
    "sc.tl.leiden(adata, resolution=0.9)"
   ]
  },
  {
   "cell_type": "code",
   "execution_count": null,
   "id": "892071aa-ed3d-4984-8bc8-bd2529653613",
   "metadata": {},
   "outputs": [],
   "source": [
    "#adata = sc.read_h5ad('write/luadMDAkras.h5ad')"
   ]
  },
  {
   "cell_type": "code",
   "execution_count": null,
   "id": "c4f96d76-7d3b-40ab-978a-fe4635c01d0b",
   "metadata": {},
   "outputs": [],
   "source": [
    "sc.pl.umap(adata, color=[\"leiden\",\"celltype\",\"patient\"],ncols=2)"
   ]
  },
  {
   "cell_type": "code",
   "execution_count": null,
   "id": "0df26877-c177-4fe1-bcc5-e49041f18485",
   "metadata": {},
   "outputs": [],
   "source": [
    "sc.pl.umap(adata, color=[\"n_genes\",\"pct_counts_mt\",\"total_counts\"])"
   ]
  },
  {
   "cell_type": "code",
   "execution_count": null,
   "id": "747c95f6-e14f-46e0-a7f7-276eca111c49",
   "metadata": {},
   "outputs": [],
   "source": [
    "sc.pl.umap(adata, color=[\"leiden\",\"celltype\",\"patient\"],ncols=4)"
   ]
  },
  {
   "cell_type": "code",
   "execution_count": null,
   "id": "8c94658e-0c0f-4f14-a586-4c2658583b55",
   "metadata": {},
   "outputs": [],
   "source": [
    "resultsFile"
   ]
  },
  {
   "cell_type": "code",
   "execution_count": null,
   "id": "d66ae6a6-8574-4aea-8636-6840bb1a84ce",
   "metadata": {},
   "outputs": [],
   "source": [
    "adata.write('write/luadMDAkras.h5ad')\n",
    "adata"
   ]
  },
  {
   "cell_type": "code",
   "execution_count": null,
   "id": "e9c1189e-6f62-4fa6-bfdb-52d1141ad811",
   "metadata": {},
   "outputs": [],
   "source": [
    "#adata.write('write/luadMDA_all.h5ad')\n",
    "adata"
   ]
  },
  {
   "cell_type": "code",
   "execution_count": null,
   "id": "40edc389-5ac0-46a2-9878-70e48ea8d6b4",
   "metadata": {},
   "outputs": [],
   "source": []
  },
  {
   "cell_type": "code",
   "execution_count": null,
   "id": "1c717b72-236d-4bcf-ad77-8835632eb60b",
   "metadata": {
    "tags": []
   },
   "outputs": [],
   "source": [
    "adata = sc.read_h5ad(resultsFileQC)\n",
    "adata"
   ]
  },
  {
   "cell_type": "code",
   "execution_count": null,
   "id": "045ae1ce-ce0b-47bb-9e88-bf5742a8df6c",
   "metadata": {},
   "outputs": [],
   "source": [
    "adata.obs[\"patient\"]=[name.split(\"_\")[0] for name in adata.obs_names.values]"
   ]
  },
  {
   "cell_type": "code",
   "execution_count": null,
   "id": "a6830f2b-6946-4f33-b6cb-e95dc9420c2d",
   "metadata": {},
   "outputs": [],
   "source": [
    "adata = adata[adata.obs.celltype==\"malig\"]"
   ]
  },
  {
   "cell_type": "code",
   "execution_count": null,
   "id": "358fcf5e-5979-457c-9f16-d03ef3f7cdbe",
   "metadata": {},
   "outputs": [],
   "source": [
    "sc.pp.normalize_total(adata,target_sum=1e4)"
   ]
  },
  {
   "cell_type": "code",
   "execution_count": null,
   "id": "c70e7370-8ab1-42aa-911e-de73d407a4c9",
   "metadata": {},
   "outputs": [],
   "source": [
    "sc.pp.log1p(adata)"
   ]
  },
  {
   "cell_type": "code",
   "execution_count": null,
   "id": "c6944b98-827f-43a4-af0a-09b9d2382dce",
   "metadata": {},
   "outputs": [],
   "source": [
    "sc.pp.highly_variable_genes(adata)#, flavor = \"seurat\", n_top_genes=2000)"
   ]
  },
  {
   "cell_type": "code",
   "execution_count": null,
   "id": "81c5fadc-6e6c-4e38-bcfc-3a553c1a385c",
   "metadata": {},
   "outputs": [],
   "source": [
    "minMean = 0.05\n",
    "maxMean = 2.8\n",
    "minDisp = 0.4\n",
    "\n",
    "fig, axs = plt.subplots(1, 2, figsize=(10, 5))\n",
    "\n",
    "means = adata.var[[\"means\"]][adata.var[[\"means\"]] > np.exp(-14)]#adata.var[[\"means\"]],\n",
    "axs[0].hist(np.log(means), bins=100)#, log=True),\n",
    "axs[0].axvline(np.log(minMean), color='k', linestyle='dashed', linewidth=1)\n",
    "axs[0].axvline(np.log(maxMean), color='k', linestyle='dashed', linewidth=1)\n",
    "axs[0].set_title('Gene means counts')\n",
    "axs[0].set_xlabel('means')\n",
    "axs[0].set_ylabel('counts')\n",
    "\n",
    "dispNorm = adata.var[[\"dispersions_norm\"]][adata.var[[\"dispersions_norm\"]] > np.exp(-5)]#adata.var[[\"means\"]],\n",
    "axs[1].hist(np.log(dispNorm), bins=100)#, log=True),\n",
    "axs[1].axvline(np.log(minDisp), color='k', linestyle='dashed', linewidth=1)\n",
    "axs[1].set_title('Gene dispersions counts')\n",
    "axs[1].set_xlabel('dispersions')\n",
    "axs[1].set_ylabel('counts')\n",
    "\n",
    "sc.pp.highly_variable_genes(adata, min_disp=minDisp, min_mean=minMean, max_mean=maxMean)\n",
    "print(sum(adata.var.highly_variable))"
   ]
  },
  {
   "cell_type": "code",
   "execution_count": null,
   "id": "7883d796-b4eb-4cbd-a3c5-a420f53852b7",
   "metadata": {},
   "outputs": [],
   "source": [
    "sc.pl.highly_variable_genes(adata)"
   ]
  },
  {
   "cell_type": "code",
   "execution_count": null,
   "id": "4e6ebc31-5a20-471d-b38a-086037427eeb",
   "metadata": {},
   "outputs": [],
   "source": [
    "#for inGene in adata.var[-8:].index.tolist():\n",
    "#    adata.var.loc[inGene,\"highly_variable\"] = False"
   ]
  },
  {
   "cell_type": "code",
   "execution_count": null,
   "id": "01580b90-b9d6-482c-8fce-44a5affde3b1",
   "metadata": {},
   "outputs": [],
   "source": [
    "adata.raw = adata"
   ]
  },
  {
   "cell_type": "code",
   "execution_count": null,
   "id": "25014f82-5983-4ece-b3e8-f5538151524c",
   "metadata": {},
   "outputs": [],
   "source": [
    "#adata = adata[:, adata.var.highly_variable]\n",
    "adata = adata[:, np.logical_and(adata.var.highly_variable, np.logical_not(adata.var.mt))]"
   ]
  },
  {
   "cell_type": "code",
   "execution_count": null,
   "id": "2fa4ff97-0ec8-4672-a1b2-5bbee3bdc206",
   "metadata": {},
   "outputs": [],
   "source": [
    "#sc.pp.regress_out(adata, ['total_counts', 'pct_counts_mt'])"
   ]
  },
  {
   "cell_type": "code",
   "execution_count": null,
   "id": "6fead66a-87d3-4ca1-a80c-005c666167c7",
   "metadata": {},
   "outputs": [],
   "source": [
    "#sc.pp.scale(adata, max_value=10)"
   ]
  },
  {
   "cell_type": "code",
   "execution_count": null,
   "id": "270c0424-c788-4c6c-97b6-d4fb57ba3d70",
   "metadata": {},
   "outputs": [],
   "source": [
    "sc.tl.pca(adata, n_comps = 100, svd_solver='arpack')"
   ]
  },
  {
   "cell_type": "code",
   "execution_count": null,
   "id": "b1d61498-cac3-4ef2-87f6-fff51e5d5a83",
   "metadata": {},
   "outputs": [],
   "source": [
    "sc.pl.pca_variance_ratio(adata, n_pcs = 100, log=True)"
   ]
  },
  {
   "cell_type": "code",
   "execution_count": null,
   "id": "0160debc-da65-43f2-8ff5-f21acbf93364",
   "metadata": {},
   "outputs": [],
   "source": [
    "sc.pl.pca_variance_ratio(adata, n_pcs = 100)"
   ]
  },
  {
   "cell_type": "code",
   "execution_count": null,
   "id": "bb768643-97b6-4bbb-9240-ab2dd0a6fb1e",
   "metadata": {},
   "outputs": [],
   "source": [
    "sc.pp.neighbors(adata, n_neighbors=20, n_pcs=40)"
   ]
  },
  {
   "cell_type": "code",
   "execution_count": null,
   "id": "41ebf5fd-1a84-4bfa-8fc3-d5cf7d328e1c",
   "metadata": {},
   "outputs": [],
   "source": [
    "sc.tl.umap(adata)"
   ]
  },
  {
   "cell_type": "code",
   "execution_count": null,
   "id": "6e2373e0-1e18-44f8-a80d-70aceb2e753f",
   "metadata": {},
   "outputs": [],
   "source": [
    "sc.tl.leiden(adata, resolution=0.25)"
   ]
  },
  {
   "cell_type": "code",
   "execution_count": null,
   "id": "1b5c40c1-b8fd-4e7b-99d8-8415802aeb97",
   "metadata": {},
   "outputs": [],
   "source": [
    "sc.pl.umap(adata, color=[\"leiden\",\"celltype\",\"patient\"],ncols=2)"
   ]
  },
  {
   "cell_type": "code",
   "execution_count": null,
   "id": "502a45ca-fdcf-4bad-8f2b-cd5542cc8abc",
   "metadata": {},
   "outputs": [],
   "source": [
    "sc.pl.umap(adata, color=[\"n_genes\",\"pct_counts_mt\",\"total_counts\"])"
   ]
  },
  {
   "cell_type": "code",
   "execution_count": null,
   "id": "059c8afc-2c1c-4f20-bbeb-3a1d974e3501",
   "metadata": {},
   "outputs": [],
   "source": [
    "resultsFile"
   ]
  },
  {
   "cell_type": "code",
   "execution_count": null,
   "id": "6f984ec9-1992-45b1-9ce1-eb95e411134b",
   "metadata": {},
   "outputs": [],
   "source": [
    "adata.write(resultsFile)"
   ]
  },
  {
   "cell_type": "code",
   "execution_count": null,
   "id": "e8ab54e3-a17b-4b85-ad51-014766c05c7b",
   "metadata": {},
   "outputs": [],
   "source": [
    "import scanpyHelpers as scH"
   ]
  },
  {
   "cell_type": "code",
   "execution_count": null,
   "id": "3301b074-ba41-4828-9b3e-fe3d2030bf64",
   "metadata": {},
   "outputs": [],
   "source": [
    "adata = sc.read('write/luadMDAkras.h5ad')#resultsFile)"
   ]
  },
  {
   "cell_type": "code",
   "execution_count": null,
   "id": "8b8ce1b4-272e-4ad3-b0cf-54dcdbc87adc",
   "metadata": {
    "scrolled": true,
    "tags": []
   },
   "outputs": [],
   "source": [
    "sigFile = \"data/LUAD/humanLUADgeneSig.csv\"\n",
    "sigGenes = pd.read_csv(sigFile)\n",
    "sigGenes"
   ]
  },
  {
   "cell_type": "code",
   "execution_count": null,
   "id": "c6a1f441-c075-4afd-9e0b-0e8292cdfdf9",
   "metadata": {},
   "outputs": [],
   "source": [
    "sigGenes.columns"
   ]
  },
  {
   "cell_type": "code",
   "execution_count": null,
   "id": "c3a7d6ca-eb54-4c4c-a968-f6f2919f72c7",
   "metadata": {},
   "outputs": [],
   "source": [
    "#print(ogLabelScoreMed)\n",
    "#for i,leid in enumerate(ogLabelScoreMed.index):\n",
    "#    print(np.sort(ogLabelScoreMed.loc[leid,:]))"
   ]
  },
  {
   "cell_type": "code",
   "execution_count": null,
   "id": "661d03a6-ea79-4dd9-8bd6-ede702e7e946",
   "metadata": {
    "tags": []
   },
   "outputs": [],
   "source": [
    "scoreNames, newBClabel, ogLabelScoreMed = scH.scoreAndLabel(adata, sigGenes, labelOfSigGenes= sigGenes.columns, ogLabel=\"leiden\", \n",
    "                                                            translate=False)\n",
    "sc.pl.umap(adata, color=scoreNames+[\"cellState\"], ncols=4)"
   ]
  },
  {
   "cell_type": "code",
   "execution_count": null,
   "id": "15eae2e0-45cc-4ec0-ac10-d13ad69e2723",
   "metadata": {},
   "outputs": [],
   "source": [
    "sc.pl.umap(adata, color=scoreNames+[\"leiden\",\"cellState\", 'patient'], ncols=4)"
   ]
  },
  {
   "cell_type": "code",
   "execution_count": null,
   "id": "37954771-7bb0-4063-a858-4f30e2bf3a0b",
   "metadata": {},
   "outputs": [],
   "source": [
    "sc.pl.pca(adata, color=scoreNames+[\"leiden\",\"cellState\", 'patient'], ncols=4)"
   ]
  },
  {
   "cell_type": "code",
   "execution_count": null,
   "id": "90a3a6f8-8d4f-4c6e-b84e-d15d5de242cb",
   "metadata": {},
   "outputs": [],
   "source": [
    "adata.obs"
   ]
  },
  {
   "cell_type": "code",
   "execution_count": null,
   "id": "d8dde47b-734a-43ab-845f-eaac3fca6caf",
   "metadata": {
    "tags": []
   },
   "outputs": [],
   "source": [
    "markers = pd.DataFrame(np.empty((500*12,2), dtype=\"object\"), columns=[\"genes\", \"clustName\"])\n",
    "for i,clust in enumerate(sigGenes.columns):\n",
    "    for j,gene in enumerate(sigGenes.index):\n",
    "        gene = sigGenes.loc[gene,clust]\n",
    "        #indexOver = np.where(mouseGenes == gene)[0]\n",
    "        #if indexOver.size > 0:\n",
    "        #    gene = humanGenes[indexOver[0]]\n",
    "        markers.iloc[i*500+j] = gene,clust\n",
    "        \n",
    "markers = markers.dropna()\n",
    "markers"
   ]
  },
  {
   "cell_type": "code",
   "execution_count": null,
   "id": "3bada584-fb83-487b-8aea-58fa2a5e7b90",
   "metadata": {},
   "outputs": [],
   "source": [
    "import decoupler as dc"
   ]
  },
  {
   "cell_type": "code",
   "execution_count": null,
   "id": "15294b8b-b51d-4d28-847f-a68508771654",
   "metadata": {},
   "outputs": [],
   "source": [
    "adata"
   ]
  },
  {
   "cell_type": "code",
   "execution_count": null,
   "id": "9d5603e1-95a1-4bb3-b053-512cd307fb4f",
   "metadata": {
    "scrolled": true
   },
   "outputs": [],
   "source": [
    "dc.run_ora(\n",
    "    mat=adata,\n",
    "    net=markers,\n",
    "    source='clustName',\n",
    "    target='genes',\n",
    "    min_n=3,\n",
    "    verbose=True\n",
    ")"
   ]
  },
  {
   "cell_type": "code",
   "execution_count": null,
   "id": "fee8f941-3afe-462e-9673-16d3d1b5aaeb",
   "metadata": {},
   "outputs": [],
   "source": [
    "adata.obsm['ora_estimate']\n"
   ]
  },
  {
   "cell_type": "code",
   "execution_count": null,
   "id": "49ba04c1-50fc-4e0b-998e-273005ffa788",
   "metadata": {},
   "outputs": [],
   "source": [
    "acts = dc.get_acts(adata, obsm_key='ora_estimate')\n",
    "\n",
    "# We need to remove inf and set them to the maximum value observed for pvals=0\n",
    "acts_v = acts.X.ravel()\n",
    "max_e = np.nanmax(acts_v[np.isfinite(acts_v)])\n",
    "acts.X[~np.isfinite(acts.X)] = max_e\n",
    "\n",
    "acts"
   ]
  },
  {
   "cell_type": "code",
   "execution_count": null,
   "id": "65a0c0f4-97f2-4a4b-ae5b-bb2f9f0c9f7e",
   "metadata": {},
   "outputs": [],
   "source": [
    "sc.pl.umap(acts, color=scoreNames+['leiden'], cmap='RdBu_r')\n",
    "sc.pl.violin(acts, keys=scoreNames, groupby='leiden')"
   ]
  },
  {
   "cell_type": "code",
   "execution_count": null,
   "id": "4be8ea8e-42fa-412e-bab6-fe1f9c3dcfd6",
   "metadata": {},
   "outputs": [],
   "source": [
    "df = dc.rank_sources_groups(acts, groupby='leiden', reference='rest', method='t-test_overestim_var')\n",
    "df"
   ]
  },
  {
   "cell_type": "code",
   "execution_count": null,
   "id": "b916a914-7a55-41bd-b6ba-f62ef57c7758",
   "metadata": {},
   "outputs": [],
   "source": [
    "n_ctypes = 3\n",
    "ctypes_dict = df.groupby('group').head(n_ctypes).groupby('group')['names'].apply(lambda x: list(x)).to_dict()\n",
    "ctypes_dict"
   ]
  },
  {
   "cell_type": "code",
   "execution_count": null,
   "id": "f15444df-1252-4f5b-9668-4ee46f05bf46",
   "metadata": {},
   "outputs": [],
   "source": [
    "sc.pl.matrixplot(acts, ctypes_dict, 'leiden', dendrogram=True, standard_scale='var',\n",
    "                 colorbar_title='Z-scaled scores', cmap='RdBu_r')\n"
   ]
  },
  {
   "cell_type": "code",
   "execution_count": null,
   "id": "deed9b2e-4287-4b2a-aa93-559d6df78984",
   "metadata": {},
   "outputs": [],
   "source": [
    "annotation_dict = df.groupby('group').head(1).set_index('group')['names'].to_dict()\n",
    "annotation_dict"
   ]
  },
  {
   "cell_type": "code",
   "execution_count": null,
   "id": "d1b9f8d8-719a-4c62-9d69-b62926c43c75",
   "metadata": {},
   "outputs": [],
   "source": [
    "# Add cell type column based on annotation\n",
    "adata.obs['decoupler'] = [annotation_dict[clust] for clust in adata.obs['leiden']]\n",
    "\n",
    "# Visualize\n",
    "sc.pl.umap(adata, color=['decoupler','cellState', \"leiden\"])"
   ]
  },
  {
   "cell_type": "code",
   "execution_count": null,
   "id": "dfb483c3-1973-44ea-8d64-ebbca78340a2",
   "metadata": {},
   "outputs": [],
   "source": [
    "adata.write(resultsFile)\n",
    "adata"
   ]
  },
  {
   "cell_type": "code",
   "execution_count": null,
   "id": "f2ec21b0-3f02-411c-97c6-a46a737459cc",
   "metadata": {},
   "outputs": [],
   "source": []
  },
  {
   "cell_type": "code",
   "execution_count": null,
   "id": "e0b59bd7-69f3-46aa-91b0-63a3c82779a3",
   "metadata": {},
   "outputs": [],
   "source": [
    "adata = sc.read(resultsFile)"
   ]
  },
  {
   "cell_type": "code",
   "execution_count": null,
   "id": "eb9b0051-20fd-47d3-83cc-9148c3e2ea51",
   "metadata": {},
   "outputs": [],
   "source": [
    "scH.addIndvLabel(adata, [f\"{sigName}Score\" for sigName in sigGenes.columns], obsLabel=\"zsig\", cutoff=0)"
   ]
  },
  {
   "cell_type": "code",
   "execution_count": null,
   "id": "c6c396ba-89f0-4b3e-be96-0557d44f6623",
   "metadata": {},
   "outputs": [],
   "source": [
    "sc.pl.umap(adata, color=[\"leiden\",'zsig','cellState',\"patient\",\"EPCAM\",\"PECAM1\",\"VIM\",\"FBN1\"],ncols=3)"
   ]
  },
  {
   "cell_type": "code",
   "execution_count": null,
   "id": "9ebc4e2b-ccda-4adb-b388-84e1a4313c92",
   "metadata": {},
   "outputs": [],
   "source": [
    "sc.pl.pca(adata, color=[\"leiden\",'zsig','cellState',\"patient\"],ncols=3)"
   ]
  },
  {
   "cell_type": "code",
   "execution_count": null,
   "id": "13d3d7ed-96f5-4f2b-bf25-45c60b9f4c86",
   "metadata": {},
   "outputs": [],
   "source": [
    "#kras = [\"P10T\",\"P14T\",\"P2\"]\n",
    "#kdata = adata[adata.obs.patient==\"P2\"]\n",
    "#kdata.write('write/luadMDAkrasP2.h5ad')"
   ]
  },
  {
   "cell_type": "code",
   "execution_count": null,
   "id": "b37d8ed7-3e9f-4a8d-9695-2eb0539b6606",
   "metadata": {},
   "outputs": [],
   "source": [
    "#adata.write(resultsFile)\n",
    "adata"
   ]
  },
  {
   "cell_type": "code",
   "execution_count": null,
   "id": "80787e8c-e76a-4805-b6a1-4b3c93e2642b",
   "metadata": {},
   "outputs": [],
   "source": [
    "adata = sc.read(resultsFile)"
   ]
  },
  {
   "cell_type": "code",
   "execution_count": null,
   "id": "7217b1a6-53d6-4a92-bad7-421ec0fbaa5f",
   "metadata": {
    "scrolled": true
   },
   "outputs": [],
   "source": [
    "sc.pl.pca(adata, color=['decoupler',\"leiden\",'zsig','cellState',\"patient\"],ncols=3)"
   ]
  },
  {
   "cell_type": "code",
   "execution_count": null,
   "id": "6a23b30b-dee6-465f-b81e-cfff565eb248",
   "metadata": {
    "scrolled": true
   },
   "outputs": [],
   "source": [
    "sc.pl.umap(adata, color=scoreNames+['decoupler',\"leiden\",'zsig','cellState',\"patient\",\"EPCAM\",\"PECAM1\",\"VIM\",\"FBN1\"],ncols=3)\n"
   ]
  },
  {
   "cell_type": "code",
   "execution_count": null,
   "id": "1e891d52-21c9-47b0-b8bd-0f7e91bcd805",
   "metadata": {},
   "outputs": [],
   "source": []
  },
  {
   "cell_type": "code",
   "execution_count": null,
   "id": "50bb797e-dbcf-428f-8c9a-075d68c2ad22",
   "metadata": {},
   "outputs": [],
   "source": [
    "clustToLabel = {\"Cluster 1\":\"AT2-like\",\n",
    " \"Cluster 2\":\"AT2-like\",\n",
    " \"Cluster 3\":\"AT1-like\",\n",
    " \"Cluster 4\":\"Endoderm-like\",\n",
    " \"Cluster 5\":\"HPCS\",\n",
    " \"Cluster 6\":\"GiEpi\",\n",
    " \"Cluster 7\":\"Prolif\",\n",
    " \"Cluster 8\":\"EmbLiv\",\n",
    " \"Cluster 9\":\"Rib\",\n",
    " \"Cluster 10\":\"Gastro\",\n",
    " \"Cluster 11\":\"EMT\",\n",
    " \"Cluster 12\":\"Adv\"}\n",
    "\n",
    "homology = pd.read_table(\"../mhCompTiss/data/hgncHM_121.csv\", sep=\",\")\n",
    "mouseGenes = np.array(homology[\"mouse\"])\n",
    "humanGenes = np.array(homology[\"human\"])\n",
    "m2h = dict(zip(mouseGenes,humanGenes))\n",
    "h2m = dict(zip(humanGenes,mouseGenes))\n",
    "\n",
    "from collections import Counter\n",
    "sigFile = \"data/LUAD/simpLUADcs.csv\"\n",
    "sigGenes = pd.read_excel(\"data/LUAD/LUADhpcs.xlsx\")\n",
    "sigGenes = sigGenes[['Cluster 1', 'Cluster 2', 'Cluster 3', \n",
    "                     'Cluster 4', \n",
    "                     'Cluster 5','Cluster 6', 'Cluster 7', \n",
    "                     'Cluster 9','Cluster 8', \n",
    "                     'Cluster 10','Cluster 11',\n",
    "                     'Cluster 12'\n",
    "                    ]]\n",
    "\n",
    "adata = sc.read_h5ad(\"write/luadMDAkras.h5ad\")\n",
    "\n",
    "kras = [\"P14T\",\"P2\"]#\"P10T\",\n",
    "adata = adata[[p in kras for p in adata.obs.patient],]\n",
    "\n",
    "sc.tl.leiden(adata, resolution=0.8)\n",
    "\n",
    "for gs in sigGenes:\n",
    "    sc.tl.score_genes(adata,[m2h[g] for g in sigGenes[gs].dropna() if g in m2h.keys()],score_name=f\"{gs}Score\")\n",
    "scoreMat = adata.obs[[f\"{sigName}Score\" for sigName in sigGenes.columns]]\n",
    "adata.obs[\"zsig\"] = scH.zScores(scoreMat, cutoff = 1)\n",
    "relabelDict = {}\n",
    "for li in adata.obs.leiden.cat.categories:\n",
    "    mostCommon = Counter(adata[adata.obs.leiden==li].obs.zsig).most_common(2)\n",
    "    relabel = \"\"\n",
    "    if(mostCommon[0][0] in clustToLabel.keys()):\n",
    "        relabel = clustToLabel[mostCommon[0][0]]\n",
    "    else:\n",
    "        relabel = clustToLabel[mostCommon[1][0]]\n",
    "    relabelDict[li] = relabel\n",
    "print(relabelDict)\n",
    "relabelDict = {'0': 'AT2-like', '1': 'HPCS', '2': 'Endoderm-like', '3': 'HPCS', '4': 'AT2-like', '5': 'unlabeled', '6': 'HPCS', '7': 'AT2-like', '8': 'HPCS'}\n",
    "adata.obs[\"cs\"] = [relabelDict[li] for li in adata.obs.leiden]"
   ]
  },
  {
   "cell_type": "code",
   "execution_count": null,
   "id": "38b43e09-b91d-46e4-b08e-36c22ce76544",
   "metadata": {},
   "outputs": [],
   "source": [
    "sc.pl.umap(adata, color=[\"leiden\",\"zsig\", \"cs\"],ncols=4)"
   ]
  },
  {
   "cell_type": "code",
   "execution_count": null,
   "id": "d351632f-7af7-49bc-aae5-046d5a43ba5d",
   "metadata": {},
   "outputs": [],
   "source": [
    "sc.pl.umap(adata, color=[f\"{sigName}Score\" for sigName in sigGenes.columns], cmap=\"bwr\", ncols=4)"
   ]
  },
  {
   "cell_type": "code",
   "execution_count": null,
   "id": "e8ea22ea-a7f7-4039-bb42-8393f7b39d69",
   "metadata": {},
   "outputs": [],
   "source": [
    "qcdata = sc.read_h5ad(\"write/luadMDAkras_QC.h5ad\")\n",
    "print(sum(qcdata.X.todense()))\n",
    "\n",
    "rdata = adata.raw.to_adata()\n",
    "\n",
    "qcdata = qcdata[rdata.obs_names,:]\n",
    "rdata.layers[\"counts\"] = qcdata.X.copy()\n",
    "rdata.obs = rdata.obs[['leiden','cs']]\n",
    "rdata.write('write/luadMDAkras_Labeled.h5ad')"
   ]
  },
  {
   "cell_type": "code",
   "execution_count": null,
   "id": "d8d448c2-bacc-445b-a207-6b3a6c80e335",
   "metadata": {},
   "outputs": [],
   "source": [
    "rdata.obs"
   ]
  },
  {
   "cell_type": "code",
   "execution_count": null,
   "id": "6df4f1f0-d08e-467d-9294-c945848ce853",
   "metadata": {},
   "outputs": [],
   "source": [
    "rdata"
   ]
  },
  {
   "cell_type": "code",
   "execution_count": null,
   "id": "fd616f7c-69c5-4112-913c-13c8b1a02844",
   "metadata": {},
   "outputs": [],
   "source": []
  }
 ],
 "metadata": {
  "kernelspec": {
   "display_name": "Python 3 (ipykernel)",
   "language": "python",
   "name": "python3"
  },
  "language_info": {
   "codemirror_mode": {
    "name": "ipython",
    "version": 3
   },
   "file_extension": ".py",
   "mimetype": "text/x-python",
   "name": "python",
   "nbconvert_exporter": "python",
   "pygments_lexer": "ipython3",
   "version": "3.8.16"
  }
 },
 "nbformat": 4,
 "nbformat_minor": 5
}
