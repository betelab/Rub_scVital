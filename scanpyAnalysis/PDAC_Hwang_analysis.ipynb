{
 "cells": [
  {
   "cell_type": "code",
   "execution_count": null,
   "id": "425c36fc-f0af-4c76-93d7-cf512d943577",
   "metadata": {},
   "outputs": [],
   "source": []
  },
  {
   "cell_type": "code",
   "execution_count": null,
   "id": "252d89ce-66b2-430f-abb7-5c91d66b7d3f",
   "metadata": {},
   "outputs": [],
   "source": [
    "import numpy as np\n",
    "import pandas as pd\n",
    "import scanpy as sc\n",
    "import scipy.io\n",
    "import scanpy.external as scex\n",
    "import sklearn.metrics\n",
    "import seaborn as sns\n",
    "from matplotlib import pyplot as plt\n",
    "import scanpyHelpers as scH"
   ]
  },
  {
   "cell_type": "code",
   "execution_count": null,
   "id": "645d8750-2a93-49ed-9a60-40d01fa7eb0e",
   "metadata": {},
   "outputs": [],
   "source": [
    "#adata=sc.read(results_file_post)\n",
    "#adata.uns['log1p'] = {\"base\":None}"
   ]
  },
  {
   "cell_type": "markdown",
   "id": "139dcda2-4b50-45aa-85e8-663e70a74cb6",
   "metadata": {},
   "source": [
    "Set up out properties"
   ]
  },
  {
   "cell_type": "code",
   "execution_count": null,
   "id": "304826fc-ac59-4d76-a655-1f93f7bcdd6e",
   "metadata": {
    "scrolled": true,
    "tags": []
   },
   "outputs": [],
   "source": [
    "sc.settings.verbosity = 3             # verbosity: errors (0), warnings (1), info (2), hints (3)\n",
    "sc.logging.print_header()\n",
    "sc.settings.set_figure_params(dpi=80, facecolor='white')"
   ]
  },
  {
   "cell_type": "code",
   "execution_count": null,
   "id": "a3958527-8b39-4c29-9163-eee788c190cf",
   "metadata": {},
   "outputs": [],
   "source": [
    "%matplotlib inline"
   ]
  },
  {
   "cell_type": "markdown",
   "id": "968566a5-e27e-43f5-8cb2-b935b5a12dd7",
   "metadata": {},
   "source": [
    "Set scanpy out-files"
   ]
  },
  {
   "cell_type": "code",
   "execution_count": null,
   "id": "c4675a44-ce4a-4f38-b04a-66c4fc2e0bb4",
   "metadata": {},
   "outputs": [],
   "source": [
    "writeDir = \"write/\"\n",
    "\n",
    "fileName = \"pdacHwang\"\n",
    "\n",
    "resultsFile = writeDir + fileName + '.h5ad'       # final output\n",
    "resultsFileQC = writeDir + fileName + '_QC.h5ad'  # post QC (pre-analysis) "
   ]
  },
  {
   "cell_type": "markdown",
   "id": "77696e51-c2b5-4a05-964f-d52840995ce1",
   "metadata": {
    "tags": []
   },
   "source": [
    "Set figure parameters"
   ]
  },
  {
   "cell_type": "code",
   "execution_count": null,
   "id": "e50cffba-ab13-40fe-b978-c525fb1db4a5",
   "metadata": {
    "tags": []
   },
   "outputs": [],
   "source": [
    "sc.set_figure_params(scanpy=True, dpi=100, dpi_save=150, fontsize=10, format='png')\n",
    "sc.settings.figdir = \"figures/\" + fileName + \"/\"\n",
    "figName = fileName"
   ]
  },
  {
   "cell_type": "code",
   "execution_count": null,
   "id": "83f3aa4e-f800-488a-b41e-0443986c9415",
   "metadata": {
    "tags": []
   },
   "outputs": [],
   "source": [
    "adata = sc.read(resultsFileQC)\n",
    "adata"
   ]
  },
  {
   "cell_type": "code",
   "execution_count": null,
   "id": "0d9667a1-8bf4-4749-8a52-cee2f7da394c",
   "metadata": {},
   "outputs": [],
   "source": [
    "adata.obs"
   ]
  },
  {
   "cell_type": "code",
   "execution_count": null,
   "id": "f19a06a8-972f-47c4-a894-49967cab6f9d",
   "metadata": {},
   "outputs": [],
   "source": [
    "adata.obs[\"treated\"] = [x[0] for x in adata.obs[\"sample\"]]"
   ]
  },
  {
   "cell_type": "code",
   "execution_count": null,
   "id": "fd519604-142b-4ef7-b3a4-778e523450a5",
   "metadata": {},
   "outputs": [],
   "source": [
    "adata = adata[adata.obs.cell_type==\"Malignant\"]\n",
    "adata = adata[adata.obs.treated==\"U\"]\n",
    "adata"
   ]
  },
  {
   "cell_type": "code",
   "execution_count": null,
   "id": "cbcb04f6-4534-41ad-8bbf-84134b75cf7b",
   "metadata": {},
   "outputs": [],
   "source": [
    "from collections import Counter\n",
    "Counter(adata.obs[\"sample\"])"
   ]
  },
  {
   "cell_type": "code",
   "execution_count": null,
   "id": "d01530e1-6133-4113-aad5-c5d768aba82a",
   "metadata": {},
   "outputs": [],
   "source": [
    "sc.pp.normalize_total(adata,target_sum=1e4)"
   ]
  },
  {
   "cell_type": "code",
   "execution_count": null,
   "id": "7c826e38-bb29-4e00-933a-55b59581a5d9",
   "metadata": {},
   "outputs": [],
   "source": [
    "sc.pp.log1p(adata)"
   ]
  },
  {
   "cell_type": "code",
   "execution_count": null,
   "id": "81fe9223-7eac-46a7-8321-b718e726830a",
   "metadata": {},
   "outputs": [],
   "source": [
    "sc.pp.highly_variable_genes(adata)#, flavor = \"seurat\", n_top_genes=2000)"
   ]
  },
  {
   "cell_type": "code",
   "execution_count": null,
   "id": "43902dc2-466e-46e2-9f31-4deb304db630",
   "metadata": {},
   "outputs": [],
   "source": [
    "minMean = 0.05\n",
    "maxMean = 2.5\n",
    "minDisp = 0.7\n",
    "\n",
    "fig, axs = plt.subplots(1, 2, figsize=(10, 5))\n",
    "\n",
    "means = adata.var[[\"means\"]][adata.var[[\"means\"]] > np.exp(-14)]#adata.var[[\"means\"]],\n",
    "axs[0].hist(np.log(means), bins=100)#, log=True),\n",
    "axs[0].axvline(np.log(minMean), color='k', linestyle='dashed', linewidth=1)\n",
    "axs[0].axvline(np.log(maxMean), color='k', linestyle='dashed', linewidth=1)\n",
    "axs[0].set_title('Gene means counts')\n",
    "axs[0].set_xlabel('means')\n",
    "axs[0].set_ylabel('counts')\n",
    "\n",
    "dispNorm = adata.var[[\"dispersions_norm\"]][adata.var[[\"dispersions_norm\"]] > np.exp(-5)]#adata.var[[\"means\"]],\n",
    "axs[1].hist(np.log(dispNorm), bins=100)#, log=True),\n",
    "axs[1].axvline(np.log(minDisp), color='k', linestyle='dashed', linewidth=1)\n",
    "axs[1].set_title('Gene dispersions counts')\n",
    "axs[1].set_xlabel('dispersions')\n",
    "axs[1].set_ylabel('counts')\n",
    "\n",
    "sc.pp.highly_variable_genes(adata, min_disp=minDisp, min_mean=minMean, max_mean=maxMean)\n",
    "print(sum(adata.var.highly_variable))"
   ]
  },
  {
   "cell_type": "code",
   "execution_count": null,
   "id": "8cda0b69-f64e-447a-961a-7c50fe8e5bf0",
   "metadata": {},
   "outputs": [],
   "source": [
    "sc.pl.highly_variable_genes(adata)"
   ]
  },
  {
   "cell_type": "code",
   "execution_count": null,
   "id": "325e82de-43f6-4934-a6a6-50ddf02a94a8",
   "metadata": {},
   "outputs": [],
   "source": [
    "#for inGene in adata.var[-8:].index.tolist():\n",
    "#    adata.var.loc[inGene,\"highly_variable\"] = False"
   ]
  },
  {
   "cell_type": "code",
   "execution_count": null,
   "id": "7a1143eb-b1f7-40ef-9a85-d6be0051667a",
   "metadata": {},
   "outputs": [],
   "source": [
    "adata.raw = adata"
   ]
  },
  {
   "cell_type": "code",
   "execution_count": null,
   "id": "5e2861e5-09c6-4a19-bb72-62a238c47a79",
   "metadata": {},
   "outputs": [],
   "source": [
    "#adata = adata[:, adata.var.highly_variable]\n",
    "adata = adata[:, np.logical_and(adata.var.highly_variable, np.logical_not(adata.var.mt))]"
   ]
  },
  {
   "cell_type": "code",
   "execution_count": null,
   "id": "673c60dc-7028-48e2-9ccf-9b5ae45934d1",
   "metadata": {},
   "outputs": [],
   "source": [
    "#sc.pp.regress_out(adata, ['total_counts', 'pct_counts_mt'])"
   ]
  },
  {
   "cell_type": "code",
   "execution_count": null,
   "id": "5440f444-9bf6-40bf-8267-3ff16acfab39",
   "metadata": {},
   "outputs": [],
   "source": [
    "#sc.pp.scale(adata, max_value=10)"
   ]
  },
  {
   "cell_type": "code",
   "execution_count": null,
   "id": "8935337f-dc02-4347-9bf1-6057d1c1a8e7",
   "metadata": {},
   "outputs": [],
   "source": [
    "sc.tl.pca(adata, n_comps = 100, svd_solver='arpack')"
   ]
  },
  {
   "cell_type": "code",
   "execution_count": null,
   "id": "ffcfea62-8864-4bdc-8d44-2c5bd56b7f42",
   "metadata": {},
   "outputs": [],
   "source": [
    "sc.pl.pca_variance_ratio(adata, n_pcs = 100, log=True)"
   ]
  },
  {
   "cell_type": "code",
   "execution_count": null,
   "id": "f694d1da-e616-48ba-8c66-c97008df6acc",
   "metadata": {},
   "outputs": [],
   "source": [
    "sc.pl.pca_variance_ratio(adata, n_pcs = 100)"
   ]
  },
  {
   "cell_type": "code",
   "execution_count": null,
   "id": "873dbc0c-4046-493f-bc92-32dd4e63c263",
   "metadata": {},
   "outputs": [],
   "source": [
    "sc.pp.neighbors(adata, n_neighbors=20, n_pcs=60)"
   ]
  },
  {
   "cell_type": "code",
   "execution_count": null,
   "id": "a56f3796-396c-4698-93d1-49cf6042e4ae",
   "metadata": {},
   "outputs": [],
   "source": [
    "sc.tl.umap(adata)"
   ]
  },
  {
   "cell_type": "code",
   "execution_count": null,
   "id": "5d9e7992-bf40-45f4-9b17-f1346e8d90b9",
   "metadata": {},
   "outputs": [],
   "source": [
    "sc.tl.leiden(adata, resolution=0.3)"
   ]
  },
  {
   "cell_type": "code",
   "execution_count": null,
   "id": "066a2aa9-60ae-4978-9c6d-364e80f4eec8",
   "metadata": {},
   "outputs": [],
   "source": [
    "adata.obs"
   ]
  },
  {
   "cell_type": "code",
   "execution_count": null,
   "id": "c4f96d76-7d3b-40ab-978a-fe4635c01d0b",
   "metadata": {},
   "outputs": [],
   "source": [
    "sc.pl.umap(adata, color=[\"leiden\",\"cell_subtype\",\"sample\",\"cell_type\",\"treated\",\"PTPRC\",\"COL1A1\"],ncols=3)"
   ]
  },
  {
   "cell_type": "code",
   "execution_count": null,
   "id": "3f7787e3-77bc-46ca-9dc9-9bf829c83b1b",
   "metadata": {},
   "outputs": [],
   "source": [
    "sc.pl.umap(adata, color=[\"VIM\",\"FBN1\",\"EPCAM\",\"PECAM1\"],ncols=4)"
   ]
  },
  {
   "cell_type": "code",
   "execution_count": null,
   "id": "0df26877-c177-4fe1-bcc5-e49041f18485",
   "metadata": {},
   "outputs": [],
   "source": [
    "sc.pl.umap(adata, color=[\"n_genes\",\"pct_counts_mt\",\"total_counts\"])"
   ]
  },
  {
   "cell_type": "raw",
   "id": "620fabfb-4f7b-4c00-9f27-a1452c76f9e7",
   "metadata": {},
   "source": [
    "sc.tl.rank_genes_groups(adata, 'leiden', method='wilcoxon', use_raw=False)\n",
    "#sc.tl.filter_rank_genes_groups(adata, groupby=\"leiden\", use_raw=False,\n",
    "#                                   key_added='rank_genes_groups_filtered', \n",
    "#                                   min_in_group_fraction=0.25, min_fold_change=1, max_out_group_fraction=0.5, compare_abs=False)\n",
    "sc.pl.rank_genes_groups(adata, n_genes=25, sharey=False)"
   ]
  },
  {
   "cell_type": "raw",
   "id": "8f2200c1-f049-4b11-839a-33d081334212",
   "metadata": {},
   "source": [
    "pd.DataFrame(adata.uns['rank_genes_groups']['names']).head(15)"
   ]
  },
  {
   "cell_type": "raw",
   "id": "d53b90d4-e75c-4dce-b2ed-1877ad1e704b",
   "metadata": {},
   "source": [
    "sc.tl.dendrogram(adata,groupby=\"leiden\", n_pcs=60)\n",
    "sc.pl.rank_genes_groups_dotplot(adata,n_genes=3)#,key=\"rank_genes_groups_filtered\")"
   ]
  },
  {
   "cell_type": "code",
   "execution_count": null,
   "id": "28a620b6-e90c-4d31-bd38-1c54f04da93b",
   "metadata": {},
   "outputs": [],
   "source": [
    "resultsFile"
   ]
  },
  {
   "cell_type": "code",
   "execution_count": null,
   "id": "137a0da7-8e7a-48fe-93fb-a0d3253b9558",
   "metadata": {},
   "outputs": [],
   "source": [
    "adata"
   ]
  },
  {
   "cell_type": "code",
   "execution_count": null,
   "id": "d66ae6a6-8574-4aea-8636-6840bb1a84ce",
   "metadata": {},
   "outputs": [],
   "source": [
    "adata.write(resultsFile)\n",
    "adata"
   ]
  },
  {
   "cell_type": "code",
   "execution_count": null,
   "id": "6e4af58a-ffde-4992-8452-c60fe6353abc",
   "metadata": {},
   "outputs": [],
   "source": [
    "adata = sc.read(resultsFile)\n",
    "adata"
   ]
  },
  {
   "cell_type": "code",
   "execution_count": null,
   "id": "12931800-be2f-4ec5-ae70-ce938498b203",
   "metadata": {},
   "outputs": [],
   "source": [
    "homology = pd.read_table(\"data/hgncHM_121.csv\", sep=\",\")\n",
    "homology"
   ]
  },
  {
   "cell_type": "code",
   "execution_count": null,
   "id": "6e8b6246-e715-4ba4-80eb-ced988248b1f",
   "metadata": {},
   "outputs": [],
   "source": [
    "sigGenes = pd.read_csv(\"data/PDAC/basClaSigGenes.csv\")\n",
    "scoreNames, newBClabel, ogLabelScoreMed = scH.scoreAndLabel(adata, sigGenes, labelOfSigGenes= [\"classical\",\"classical\",\"basal\",\"basal\",\"EMT\"], ogLabel=\"leiden\")\n",
    "sc.pl.umap(adata, color=scoreNames, ncols=2)\n"
   ]
  },
  {
   "cell_type": "code",
   "execution_count": null,
   "id": "9aa45f29-5064-44d4-81fe-30d6249b6e55",
   "metadata": {},
   "outputs": [],
   "source": [
    "sc.pl.umap(adata, color=scoreNames+[\"cellState\"],ncols=2)"
   ]
  },
  {
   "cell_type": "code",
   "execution_count": null,
   "id": "e5ecd739-cfbf-437b-8d51-d63b3b2a2976",
   "metadata": {},
   "outputs": [],
   "source": []
  },
  {
   "cell_type": "code",
   "execution_count": null,
   "id": "5fa50638-d19a-4431-bc27-a92847cc293f",
   "metadata": {},
   "outputs": [],
   "source": [
    "sc.tl.leiden(adata, resolution=0.2)\n",
    "sc.pl.umap(adata, color = [\"leiden\"], legend_loc=\"on data\")"
   ]
  },
  {
   "cell_type": "code",
   "execution_count": null,
   "id": "d69ae4f8-a32a-4653-8584-052be20334dd",
   "metadata": {},
   "outputs": [],
   "source": [
    "sc.pl.umap(adata, color = [\"leiden\",\"cellState\"], legend_loc=\"on data\")"
   ]
  },
  {
   "cell_type": "code",
   "execution_count": null,
   "id": "1276e0be-8b27-4b27-af27-9985bd1de49d",
   "metadata": {},
   "outputs": [],
   "source": [
    "sigGenes"
   ]
  },
  {
   "cell_type": "code",
   "execution_count": null,
   "id": "a4ac84fa-bd0d-47c6-b45d-d4168f641339",
   "metadata": {},
   "outputs": [],
   "source": [
    "classLabDict = dict(zip(sigGenes.columns,[\"basal\",\"basal\",\"classical\",\"classical\",\"EMT\"]))\n",
    "markers = pd.DataFrame(np.empty((200*12,2), dtype=\"object\"), columns=[\"genes\", \"clustName\"])\n",
    "for i,clust in enumerate(sigGenes.columns):\n",
    "    for j,gene in enumerate(sigGenes.index):\n",
    "        gene = sigGenes.loc[gene,clust]\n",
    "        #indexOver = np.where(humanGenes == gene)[0]\n",
    "        #if indexOver.size > 0:\n",
    "        #    gene = mouseGenes[indexOver[0]]\n",
    "        markers.iloc[i*200+j] = gene,classLabDict[clust]\n",
    "        \n",
    "markers = markers.dropna()\n",
    "markers"
   ]
  },
  {
   "cell_type": "code",
   "execution_count": null,
   "id": "1b5dd597-c167-4021-8cce-074058f7b6d5",
   "metadata": {},
   "outputs": [],
   "source": [
    "markers = markers.drop_duplicates()"
   ]
  },
  {
   "cell_type": "code",
   "execution_count": null,
   "id": "7b91d52d-5816-4d8e-b0cd-05afab51005c",
   "metadata": {},
   "outputs": [],
   "source": [
    "import decoupler as dc"
   ]
  },
  {
   "cell_type": "code",
   "execution_count": null,
   "id": "036d5c91-98bc-4003-9d6d-e22c8e47547d",
   "metadata": {},
   "outputs": [],
   "source": [
    "dc.run_ora(\n",
    "    mat=adata,\n",
    "    net=markers,\n",
    "    source='clustName',\n",
    "    target='genes',\n",
    "    min_n=3,\n",
    "    verbose=True\n",
    ")"
   ]
  },
  {
   "cell_type": "code",
   "execution_count": null,
   "id": "36dfd3b5-6e43-41c0-83be-38639bf8829c",
   "metadata": {},
   "outputs": [],
   "source": [
    "acts = dc.get_acts(adata, obsm_key='ora_estimate')\n",
    "\n",
    "# We need to remove inf and set them to the maximum value observed for pvals=0\n",
    "acts_v = acts.X.ravel()\n",
    "max_e = np.nanmax(acts_v[np.isfinite(acts_v)])\n",
    "acts.X[~np.isfinite(acts.X)] = max_e\n",
    "\n",
    "acts"
   ]
  },
  {
   "cell_type": "code",
   "execution_count": null,
   "id": "3c3f496b-5fff-449b-9466-afd06a02bb3e",
   "metadata": {},
   "outputs": [],
   "source": [
    "sc.pl.umap(acts, color=scoreNames+['leiden'], cmap='RdBu_r')\n",
    "sc.pl.violin(acts, keys=scoreNames, groupby='leiden')"
   ]
  },
  {
   "cell_type": "code",
   "execution_count": null,
   "id": "f19a8bee-9ec6-4d9f-a513-9c32fac59ab0",
   "metadata": {
    "scrolled": true
   },
   "outputs": [],
   "source": [
    "df = dc.rank_sources_groups(acts, groupby='leiden', reference='rest', method='t-test_overestim_var')\n",
    "df"
   ]
  },
  {
   "cell_type": "code",
   "execution_count": null,
   "id": "2bb7135f-f6e1-4698-8b5b-f0bab70ff21a",
   "metadata": {},
   "outputs": [],
   "source": [
    "n_ctypes = 3\n",
    "ctypes_dict = df.groupby('group').head(n_ctypes).groupby('group')['names'].apply(lambda x: list(x)).to_dict()\n",
    "ctypes_dict"
   ]
  },
  {
   "cell_type": "code",
   "execution_count": null,
   "id": "90335208-e7bf-4202-93a2-2abc02d012a8",
   "metadata": {},
   "outputs": [],
   "source": [
    "sc.pl.matrixplot(acts, ctypes_dict, 'leiden', dendrogram=True, standard_scale='var',\n",
    "                 colorbar_title='Z-scaled scores', cmap='RdBu_r')"
   ]
  },
  {
   "cell_type": "code",
   "execution_count": null,
   "id": "73c4e1b1-6fb8-4751-8de6-67e0b55f71d4",
   "metadata": {},
   "outputs": [],
   "source": [
    "annotation_dict = df.groupby('group').head(1).set_index('group')['names'].to_dict()\n",
    "annotation_dict"
   ]
  },
  {
   "cell_type": "code",
   "execution_count": null,
   "id": "8923001a-702c-4745-802c-9d444ddcb204",
   "metadata": {},
   "outputs": [],
   "source": [
    "# Add cell type column based on annotation\n",
    "adata.obs['decoupler'] = [annotation_dict[clust] for clust in adata.obs['leiden']]\n",
    "\n",
    "# Visualize\n",
    "sc.pl.umap(adata, color=['decoupler','cellState', \"leiden\"])"
   ]
  },
  {
   "cell_type": "code",
   "execution_count": null,
   "id": "94d00001-aefb-4d05-87cc-ea9180c1b813",
   "metadata": {},
   "outputs": [],
   "source": [
    "adata.write(resultsFile)\n",
    "adata"
   ]
  },
  {
   "cell_type": "code",
   "execution_count": null,
   "id": "ff34dd76-c310-4942-9ff9-a0706cd9f179",
   "metadata": {},
   "outputs": [],
   "source": [
    "resultsFile"
   ]
  },
  {
   "cell_type": "code",
   "execution_count": null,
   "id": "15eae2e0-45cc-4ec0-ac10-d13ad69e2723",
   "metadata": {},
   "outputs": [],
   "source": [
    "fig, axs = plt.subplots(1,len(scores), figsize=(10, 5))\n",
    "\n",
    "for i,score in enumerate(scores):\n",
    "    axs[i].hist(adata.obs[score], bins=100)#, log=True),\n",
    "    axs[i].set_title(score)\n",
    "    axs[i].axvline(np.median(adata.obs[score]), color='k', linestyle='dashed', linewidth=1)\n",
    "\n",
    "fig.show()"
   ]
  },
  {
   "cell_type": "code",
   "execution_count": null,
   "id": "a75a69ac-2140-4acd-a969-591c0564e5e5",
   "metadata": {},
   "outputs": [],
   "source": [
    "cats = adata.obs.leiden.cat.categories\n",
    "scores = [\"scClassicalScore\",\"classicalScore\",\"basalScore\",\"scBasalScore\",\"emtScore\"]\n",
    "label = [\"classical\",\"classical\",\"basal\",\"basal\",\"EMT\"]\n",
    "labelDict = dict(zip(scores,label))\n",
    "catScoreMed = pd.DataFrame(np.zeros((len(cats),len(scores))),index=cats, columns=scores)\n",
    "newBClabel = list(adata.obs.leiden.cat.categories.copy())\n",
    "\n",
    "for i,leid in enumerate(catScoreMed.index):\n",
    "    adataCat = adata[adata.obs.leiden==leid]\n",
    "    for score in catScoreMed.columns:\n",
    "        scorMed = np.round(np.median(adataCat.obs[score]),decimals=4)\n",
    "        catScoreMed.loc[leid,score] = np.round(sum(adata.obs[score] > scorMed)/len(adata.obs[score]),decimals=4)\n",
    "    if(np.max(catScoreMed.loc[leid,:]) > 0.5):\n",
    "        newBClabel[i] = labelDict[catScoreMed.columns[np.argmax(catScoreMed.loc[leid,:])]]\n",
    "    else:\n",
    "        newBClabel[i] = \"inter\"\n",
    "    \n",
    "#catScoreMed\n",
    "adata.obs[\"cellState\"] = [newBClabel[int(lei)] for lei in adata.obs.leiden]"
   ]
  }
 ],
 "metadata": {
  "kernelspec": {
   "display_name": "Python 3 (ipykernel)",
   "language": "python",
   "name": "python3"
  },
  "language_info": {
   "codemirror_mode": {
    "name": "ipython",
    "version": 3
   },
   "file_extension": ".py",
   "mimetype": "text/x-python",
   "name": "python",
   "nbconvert_exporter": "python",
   "pygments_lexer": "ipython3",
   "version": "3.8.16"
  }
 },
 "nbformat": 4,
 "nbformat_minor": 5
}
