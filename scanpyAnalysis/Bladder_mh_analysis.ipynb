{
 "cells": [
  {
   "cell_type": "code",
   "execution_count": null,
   "id": "b99e31df-69e2-4b6a-8f21-1a4518fe21ca",
   "metadata": {},
   "outputs": [],
   "source": [
    "import os\n",
    "import numpy as np\n",
    "import pandas as pd\n",
    "import scanpy as sc\n",
    "import anndata as ad\n",
    "from matplotlib import pyplot as plt\n",
    "\n",
    "import scanpyHelpers as scH"
   ]
  },
  {
   "cell_type": "code",
   "execution_count": null,
   "id": "65420bdd-6842-4218-bdd0-92ef4cb788fa",
   "metadata": {},
   "outputs": [],
   "source": [
    "writeDir = \"write\"\n",
    "\n",
    "adataFile1 = f'{writeDir}/bladderHuman_QC.h5ad'\n",
    "species1 = \"human\"\n",
    "\n",
    "adataFile2 = f'{writeDir}/bladderMouse_QC.h5ad'\n",
    "species2 = \"mouse\"\n",
    "\n",
    "mergedAdataFileQC = f'{writeDir}/bladderMouseHuman_QC.h5ad'\n",
    "mergedAdataFile = f'{writeDir}/bladderMouseHuman.h5ad'\n",
    "\n",
    "homologyFile = \"data/hgncHM_121.csv\""
   ]
  },
  {
   "cell_type": "code",
   "execution_count": null,
   "id": "45b43408-3504-463a-87b7-40f5a9fc005b",
   "metadata": {},
   "outputs": [],
   "source": [
    "homology = pd.read_table(homologyFile, sep=\",\")"
   ]
  },
  {
   "cell_type": "code",
   "execution_count": null,
   "id": "6cdd8e74-3853-47fe-aba1-bc72bed4d72b",
   "metadata": {},
   "outputs": [],
   "source": [
    "adata1 = sc.read(adataFile1)\n",
    "adata1.layers[\"counts\"] = adata1.X.copy()\n",
    "adata1.obs[\"cellType\"] = sc.read(f'{writeDir}/bladderHuman.h5ad').obs.cellType\n",
    "adata1"
   ]
  },
  {
   "cell_type": "code",
   "execution_count": null,
   "id": "bcb08c6b-c42b-4f9c-8ef8-e23394843cd9",
   "metadata": {},
   "outputs": [],
   "source": [
    "sc.pp.normalize_total(adata1, target_sum=1e4)#,exclude_highly_expressed=True)#\n",
    "sc.pp.log1p(adata1)"
   ]
  },
  {
   "cell_type": "code",
   "execution_count": null,
   "id": "230010cd-5bec-4ae3-9113-6c07981ff0ad",
   "metadata": {},
   "outputs": [],
   "source": [
    "adata2 = sc.read(adataFile2)\n",
    "adata2.layers[\"counts\"] = adata2.X.copy()\n",
    "adata2.obs[\"cellType\"] = sc.read(f'{writeDir}/bladderMouse.h5ad').obs.cellType\n",
    "adata2"
   ]
  },
  {
   "cell_type": "code",
   "execution_count": null,
   "id": "43f34d78-2e39-4401-a934-25ce12695d7a",
   "metadata": {},
   "outputs": [],
   "source": [
    "sc.pp.normalize_total(adata2, target_sum=1e4)#,exclude_highly_expressed=True)#\n",
    "sc.pp.log1p(adata2)"
   ]
  },
  {
   "cell_type": "code",
   "execution_count": null,
   "id": "5d8bcd6a-0a8f-4652-a318-8a9dd47e34b5",
   "metadata": {},
   "outputs": [],
   "source": [
    "genes1 = np.array(adata1.var_names, dtype=object)\n",
    "genes2 = np.array(adata2.var_names, dtype=object)\n",
    "genes1, genes2 = scH.getOverlapGenes(genes1, genes2, homology, species1, species2)"
   ]
  },
  {
   "cell_type": "code",
   "execution_count": null,
   "id": "a49b601f-51da-4233-b849-80c874b2d80a",
   "metadata": {},
   "outputs": [],
   "source": [
    "len(genes1)"
   ]
  },
  {
   "cell_type": "code",
   "execution_count": null,
   "id": "152e58d6-e46b-4fdd-ad55-b0449b1da572",
   "metadata": {},
   "outputs": [],
   "source": [
    "len(genes2)"
   ]
  },
  {
   "cell_type": "code",
   "execution_count": null,
   "id": "e5e40cf9-70d1-424f-9a04-25dcfb1acee5",
   "metadata": {},
   "outputs": [],
   "source": [
    "len(set(genes1).intersection(set(genes2)))"
   ]
  },
  {
   "cell_type": "code",
   "execution_count": null,
   "id": "5d5f1d7d-b6f8-4755-934d-0567e64f0724",
   "metadata": {},
   "outputs": [],
   "source": [
    "adata1.var_names = genes1\n",
    "adata2.var_names = genes2"
   ]
  },
  {
   "cell_type": "code",
   "execution_count": null,
   "id": "d1bd93b5-3f5e-434d-8420-4d8dce277466",
   "metadata": {},
   "outputs": [],
   "source": []
  },
  {
   "cell_type": "code",
   "execution_count": null,
   "id": "259e0e3f-491c-4a24-8527-1bb5f8f9a716",
   "metadata": {},
   "outputs": [],
   "source": [
    "adata = ad.concat([adata1, adata2], join=\"outer\", label=\"species\", keys=[species1, species2], fill_value=0)\n",
    "adata.obs_names_make_unique()"
   ]
  },
  {
   "cell_type": "code",
   "execution_count": null,
   "id": "d3d597f0-6898-47b8-8d0e-730517d5d59a",
   "metadata": {},
   "outputs": [],
   "source": [
    "adata.obs = adata.obs[[\"species\",\"cellType\"]]"
   ]
  },
  {
   "cell_type": "code",
   "execution_count": null,
   "id": "6f0db364-1a8c-43a9-94a0-a3cc7fb724ea",
   "metadata": {},
   "outputs": [],
   "source": [
    "adata"
   ]
  },
  {
   "cell_type": "code",
   "execution_count": null,
   "id": "9e6a2916-03c4-40ad-8ac5-dc8f458700a4",
   "metadata": {},
   "outputs": [],
   "source": [
    "mergedAdataFileQC"
   ]
  },
  {
   "cell_type": "code",
   "execution_count": null,
   "id": "4fda0fb4-46f1-46f3-bd85-d2bc8cf589f7",
   "metadata": {},
   "outputs": [],
   "source": [
    "adata.write(mergedAdataFileQC)"
   ]
  },
  {
   "cell_type": "code",
   "execution_count": null,
   "id": "e34f1fe0-7d80-4bf0-a99d-cf409ead4c49",
   "metadata": {},
   "outputs": [],
   "source": []
  },
  {
   "cell_type": "code",
   "execution_count": null,
   "id": "a5d1fc32-04fb-4766-8f09-ab7c9d79fb60",
   "metadata": {},
   "outputs": [],
   "source": [
    "adata.var"
   ]
  },
  {
   "cell_type": "code",
   "execution_count": null,
   "id": "432f6664-8839-42a5-8ac5-f1c3f3cca095",
   "metadata": {},
   "outputs": [],
   "source": [
    "batchKey = \"species\"\n",
    "cellTypeKey = \"cellType\""
   ]
  },
  {
   "cell_type": "code",
   "execution_count": null,
   "id": "d578b78f-29ba-4c5b-9459-9e054db8cece",
   "metadata": {},
   "outputs": [],
   "source": [
    "sc.pp.highly_variable_genes(adata, batch_key=batchKey)"
   ]
  },
  {
   "cell_type": "code",
   "execution_count": null,
   "id": "18f28d8d-e14e-482f-89c2-8bfbd0da1d21",
   "metadata": {},
   "outputs": [],
   "source": [
    "minMean = 0.025\n",
    "maxMean = 2.9\n",
    "minDisp = 0.25\n",
    "\n",
    "fig, axs = plt.subplots(1, 2, figsize=(10, 5))\n",
    "\n",
    "means = adata.var[[\"means\"]][adata.var[[\"means\"]] > np.exp(-14)]#adata.var[[\"means\"]],\n",
    "axs[0].hist(np.log(means), bins=100)#, log=True),\n",
    "axs[0].axvline(np.log(minMean), color='k', linestyle='dashed', linewidth=1)\n",
    "axs[0].axvline(np.log(maxMean), color='k', linestyle='dashed', linewidth=1)\n",
    "axs[0].set_title('Gene means counts')\n",
    "axs[0].set_xlabel('means')\n",
    "axs[0].set_ylabel('counts')\n",
    "\n",
    "dispNorm = adata.var[[\"dispersions_norm\"]][adata.var[[\"dispersions_norm\"]] > np.exp(-8)]#adata.var[[\"means\"]],\n",
    "axs[1].hist(np.log(dispNorm), bins=100)#, log=True),\n",
    "axs[1].axvline(np.log(minDisp), color='k', linestyle='dashed', linewidth=1)\n",
    "axs[1].set_title('Gene dispersions counts')\n",
    "axs[1].set_xlabel('dispersions')\n",
    "axs[1].set_ylabel('counts')\n",
    "\n",
    "sc.pp.highly_variable_genes(adata, min_disp=minDisp, min_mean=minMean, max_mean=maxMean, batch_key=batchKey)\n",
    "print(sum(adata.var.highly_variable))\n",
    "print(sum(adata.var.highly_variable_intersection))"
   ]
  },
  {
   "cell_type": "code",
   "execution_count": null,
   "id": "e6d0d173-2ec7-49fe-9055-7f47564e530c",
   "metadata": {},
   "outputs": [],
   "source": [
    "sc.pl.highly_variable_genes(adata)"
   ]
  },
  {
   "cell_type": "code",
   "execution_count": null,
   "id": "957dd720-0813-4ddc-8ce5-91ac96cd1b22",
   "metadata": {},
   "outputs": [],
   "source": [
    "adata.var[adata.var.highly_variable]"
   ]
  },
  {
   "cell_type": "code",
   "execution_count": null,
   "id": "b74d5c6e-6ea6-4da7-ac53-b7ec676b1b45",
   "metadata": {},
   "outputs": [],
   "source": [
    "adata.var['mt'] = adata.var_names.str.startswith('MT-') "
   ]
  },
  {
   "cell_type": "code",
   "execution_count": null,
   "id": "69caae67-9bfd-4459-8d3c-e6ec71b7a44a",
   "metadata": {},
   "outputs": [],
   "source": [
    "adata.raw = adata"
   ]
  },
  {
   "cell_type": "code",
   "execution_count": null,
   "id": "7dba7272-7f3f-456a-a06c-1b631e57c3a6",
   "metadata": {},
   "outputs": [],
   "source": [
    "#adata = adata[:, adata.var.highly_variable]\n",
    "adata = adata[:, np.logical_and(adata.var.highly_variable, np.logical_not(adata.var.mt))]"
   ]
  },
  {
   "cell_type": "code",
   "execution_count": null,
   "id": "bf28d31d-ff04-4691-9815-0f7e02e8d681",
   "metadata": {},
   "outputs": [],
   "source": [
    "#sc.pp.regress_out(adata, ['total_counts', 'pct_counts_mt'])"
   ]
  },
  {
   "cell_type": "code",
   "execution_count": null,
   "id": "6f13abf5-7fd7-45ae-add7-ca87d35398c1",
   "metadata": {},
   "outputs": [],
   "source": [
    "#sc.pp.scale(adata, max_value=5)"
   ]
  },
  {
   "cell_type": "code",
   "execution_count": null,
   "id": "d206ff65-59cc-410f-ac0e-0bb3bb09a5db",
   "metadata": {},
   "outputs": [],
   "source": [
    "sc.tl.pca(adata, n_comps = 100, svd_solver='arpack')"
   ]
  },
  {
   "cell_type": "code",
   "execution_count": null,
   "id": "e88dc5cb-6765-4877-b471-f32696c4a97d",
   "metadata": {},
   "outputs": [],
   "source": [
    "sc.pl.pca_variance_ratio(adata, n_pcs = 100, log=True)"
   ]
  },
  {
   "cell_type": "code",
   "execution_count": null,
   "id": "247b0d27-ba8f-4a26-8435-51887397a089",
   "metadata": {},
   "outputs": [],
   "source": [
    "sc.pl.pca_variance_ratio(adata, n_pcs = 100)"
   ]
  },
  {
   "cell_type": "code",
   "execution_count": null,
   "id": "5cb66084-aa5c-4080-9adb-df9d31f90558",
   "metadata": {},
   "outputs": [],
   "source": [
    "sc.pl.pca(adata, color=[batchKey])"
   ]
  },
  {
   "cell_type": "code",
   "execution_count": null,
   "id": "673c4c59-bc2e-4e52-b100-f0c8f38aa56c",
   "metadata": {},
   "outputs": [],
   "source": [
    "sc.pp.neighbors(adata, n_neighbors=20, n_pcs=40)"
   ]
  },
  {
   "cell_type": "code",
   "execution_count": null,
   "id": "2dd11245-23ff-43ff-9a9e-25aab1df2baf",
   "metadata": {},
   "outputs": [],
   "source": [
    "sc.tl.umap(adata)"
   ]
  },
  {
   "cell_type": "code",
   "execution_count": null,
   "id": "a68ccc0a-cd45-4780-8d93-72e06d587581",
   "metadata": {},
   "outputs": [],
   "source": [
    "sc.tl.leiden(adata, resolution=0.2)"
   ]
  },
  {
   "cell_type": "code",
   "execution_count": null,
   "id": "56b31ad1-c22a-4f90-bafe-054778d4c449",
   "metadata": {},
   "outputs": [],
   "source": [
    "adata"
   ]
  },
  {
   "cell_type": "code",
   "execution_count": null,
   "id": "52dec9c2-b11e-4fed-ba08-342c041b6746",
   "metadata": {},
   "outputs": [],
   "source": [
    "sc.pl.umap(adata, color=[\"leiden\",cellTypeKey,batchKey],ncols=2)"
   ]
  },
  {
   "cell_type": "code",
   "execution_count": null,
   "id": "ce7c1ef5-87ca-4ce5-87f6-8a8f542af3e3",
   "metadata": {},
   "outputs": [],
   "source": [
    "adata"
   ]
  },
  {
   "cell_type": "code",
   "execution_count": null,
   "id": "c172ba66-74bd-4285-902d-721166a8eb3e",
   "metadata": {},
   "outputs": [],
   "source": [
    "mergedAdataFile"
   ]
  },
  {
   "cell_type": "code",
   "execution_count": null,
   "id": "d6b7d961-2c10-4a37-ba0a-d89942cd7102",
   "metadata": {},
   "outputs": [],
   "source": [
    "adata.write(mergedAdataFile)"
   ]
  },
  {
   "cell_type": "code",
   "execution_count": null,
   "id": "5b3137f0-4418-47b2-b796-9a0eddccbc61",
   "metadata": {},
   "outputs": [],
   "source": []
  },
  {
   "cell_type": "code",
   "execution_count": null,
   "id": "cabc402d-28ee-42af-8f86-50e0beec001a",
   "metadata": {},
   "outputs": [],
   "source": []
  },
  {
   "cell_type": "code",
   "execution_count": null,
   "id": "963b5b2a-332e-4091-8b39-abe1bcf79e83",
   "metadata": {},
   "outputs": [],
   "source": []
  }
 ],
 "metadata": {
  "kernelspec": {
   "display_name": "Python 3 (ipykernel)",
   "language": "python",
   "name": "python3"
  },
  "language_info": {
   "codemirror_mode": {
    "name": "ipython",
    "version": 3
   },
   "file_extension": ".py",
   "mimetype": "text/x-python",
   "name": "python",
   "nbconvert_exporter": "python",
   "pygments_lexer": "ipython3",
   "version": "3.8.16"
  }
 },
 "nbformat": 4,
 "nbformat_minor": 5
}
